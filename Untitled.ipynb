{
 "cells": [
  {
   "cell_type": "code",
   "execution_count": 1,
   "metadata": {},
   "outputs": [],
   "source": [
    "import requests\n",
    "from bs4 import BeautifulSoup"
   ]
  },
  {
   "cell_type": "code",
   "execution_count": 10,
   "metadata": {},
   "outputs": [],
   "source": [
    "url = '''https://newsapi.org/v2/top-headlines?country=id&apiKey=3bb4bf323f7f43d3aaafb6bd5cd26c92'''"
   ]
  },
  {
   "cell_type": "code",
   "execution_count": 15,
   "metadata": {},
   "outputs": [],
   "source": [
    "response = requests.get(url).json()"
   ]
  },
  {
   "cell_type": "code",
   "execution_count": 16,
   "metadata": {},
   "outputs": [
    {
     "data": {
      "text/plain": [
       "{'status': 'ok',\n",
       " 'totalResults': 38,\n",
       " 'articles': [{'source': {'id': None, 'name': 'Detik.com'},\n",
       "   'author': 'Rifkianto Nugroho',\n",
       "   'title': \"Prabowo Hingga SBY Ucapkan Selamat Kepada Jokowi-Ma'ruf - Detiknews\",\n",
       "   'description': \"Usai dilantik menjadi Presiden dan Wakil Presiden, Jokowi-Ma'ruf mendapat ucapan selamat dari para tokoh. Mulai dari Prabowo hingga SBY.\",\n",
       "   'url': 'https://news.detik.com/foto-news/d-4753353/prabowo-hingga-sby-ucapkan-selamat-kepada-jokowi-maruf',\n",
       "   'urlToImage': 'https://awsimages.detik.net.id/api/wm/2019/10/20/c801ce23-f992-4161-9cae-dc040bb5a87e_169.jpeg?wid=54&w=650&v=1&t=jpeg',\n",
       "   'publishedAt': '2019-10-20T11:24:00Z',\n",
       "   'content': None},\n",
       "  {'source': {'id': None, 'name': 'Kompas.com'},\n",
       "   'author': 'Sri Anindiati Nursastri',\n",
       "   'title': 'Benarkah Ada Bukti Kehidupan di Mars sejak Tahun 1970? - Kompas.com - KOMPAS.com',\n",
       "   'description': 'NASA telah menemukan bukti kehidupan alien di Planet Mars sejak 1970-an, namun tampak mengabaikannya.',\n",
       "   'url': 'https://sains.kompas.com/read/2019/10/20/180400023/benarkah-ada-bukti-kehidupan-di-mars-sejak-tahun-1970-',\n",
       "   'urlToImage': 'https://asset.kompas.com/crops/q_koyhFPNFB1m-FCpms3eI2c6wA=/102x0:687x390/780x390/filters:watermark(data/photo/2019/08/13/5d528bc754494.png,0,-0,1)/data/photo/2013/02/21/1554193-planet-mars-780x390.jpg',\n",
       "   'publishedAt': '2019-10-20T11:04:00Z',\n",
       "   'content': 'KOMPAS.com – Pada tahun 1970-an, pesawat luar angkasa Viking mendarat di permukaan Mars dengan tujuan mengeksplorasi Planet Merah tersebut.\\r\\nSalah satu eksperimennya bernama Labeled Release (LR), yang bertujuan untuk mencari sinyal kehidupan di planet tersebu… [+2068 chars]'},\n",
       "  {'source': {'id': None, 'name': 'Kontan.co.id'},\n",
       "   'author': 'Laurensius Marshall Sautlan Sitanggang',\n",
       "   'title': 'Dana nasabah sebanyak Rp 58,95 miliar dibobol orang dalam, begini penjelasan Bank BNI - Kontan',\n",
       "   'description': 'Dana nasabah BNI cabang Ambon sebanyak Rp 58,95 miliar dibobol, begini penjelasan BNI.',\n",
       "   'url': 'https://keuangan.kontan.co.id/news/dana-nasabah-sebanyak-rp-5895-miliar-dibobol-orang-dalam-begini-penjelasan-bank-bni',\n",
       "   'urlToImage': 'https://photo.kontan.co.id/photo/2019/08/15/1847575848p.jpg',\n",
       "   'publishedAt': '2019-10-20T10:58:01Z',\n",
       "   'content': 'KONTAN.CO.ID -\\xa0JAKARTA. PT Bank Negara Indonesia Tbk atau BNI menegaskan bahwa dana nasabah tetap aman. Nasabah dan masyarakat tidak perlu khawatir untuk tetap bertransaksi di BNI. Direktur Bisnis Korporasi BNI Putrama Wahju Setyawan menuturkan, peristiwa yan… [+2408 chars]'},\n",
       "  {'source': {'id': None, 'name': 'Kompas.com'},\n",
       "   'author': 'Nugyasa Laksamana',\n",
       "   'title': 'Hasil Timnas U-19 Vs China, Garuda Nusantara Tumbang - Kompas.com - KOMPAS.com',\n",
       "   'description': 'Bertanding di Stadion Kapten I Wayan Dipta, Gianyar, Bali, timnas U-19 Indonesia kalah 1-3 dari China.',\n",
       "   'url': 'https://bola.kompas.com/read/2019/10/20/17555288/hasil-timnas-u-19-vs-china-garuda-nusantara-tumbang?page=all',\n",
       "   'urlToImage': 'https://asset.kompas.com/crops/uLRhpckoIRRfI-0fj0wuzcN68-E=/0x0:4896x3264/780x390/filters:watermark(data/photo/2019/08/13/5d528b377fe82.png,0,-0,1)/data/photo/2019/10/18/5da924e56e227.jpg',\n",
       "   'publishedAt': '2019-10-20T10:55:00Z',\n",
       "   'content': 'KOMPAS.com - Tim nasional U-19 menelan kekalahan\\xa0 dalam laga uji coba kedua melawan China U-19, Minggu (20/10/2019).\\r\\nBertanding di Stadion Kapten I Wayan Dipta, Gianyar, Bali, timnas U-19 Indonesia kalah 1-3 dari China.\\r\\nTiga gol China diciptakan oleh Tao Qi… [+1000 chars]'},\n",
       "  {'source': {'id': None, 'name': 'Detik.com'},\n",
       "   'author': 'Hanif Hawari',\n",
       "   'title': 'Dituding Gelapkan Dana Rp 1,95 M, Irwansyah Merasa Nama Baiknya Tercemar - detikHot',\n",
       "   'description': 'Irwansyah merasa nama baiknya dicemarkan atas kasus dugaan penggelapan uang Rp 1,95 miliar yang dituduhkan Medina Zein.',\n",
       "   'url': 'https://hot.detik.com/celeb/d-4753330/dituding-gelapkan-dana-rp-195-m-irwansyah-merasa-nama-baiknya-tercemar',\n",
       "   'urlToImage': 'https://awsimages.detik.net.id/api/wm/2019/10/19/ddc3b9b8-f2df-444c-8923-7d9bdd9cead4_169.jpeg?wid=54&w=650&v=1&t=jpeg',\n",
       "   'publishedAt': '2019-10-20T10:53:57Z',\n",
       "   'content': 'Jakarta - Irwansyah merasa nama baiknya dicemarkan atas kasus dugaan penggelapan uang Rp 1,95 miliar yang dituduhkan Medina Zein. Bersama sang istri, Zaskia Sungkar, mereka mengungkapkan kekecewaannya di depan publik.Tak hanya nama baik saja, Irwansyah dan Za… [+840 chars]'},\n",
       "  {'source': {'id': None, 'name': 'Kompas.com'},\n",
       "   'author': 'Fabian Januarius Kuwado',\n",
       "   'title': 'Perkenalkan Menteri Baru Senin Pagi, Kapan Jokowi Melantik Mereka? - KOMPAS.com',\n",
       "   'description': \"'Mengenai pelantikan, mestinya setelah dikenalkan,' ujar Jokowi.\",\n",
       "   'url': 'https://nasional.kompas.com/read/2019/10/20/17455361/perkenalkan-menteri-baru-senin-pagi-kapan-jokowi-melantik-mereka',\n",
       "   'urlToImage': 'https://asset.kompas.com/crops/egA8poujuUyPOMUWL8dBtKwLtNM=/122x0:925x535/780x390/filters:watermark(data/photo/2019/08/13/5d528b8341764.png,0,-0,1)/data/photo/2019/10/20/5dac2d4764113.jpg',\n",
       "   'publishedAt': '2019-10-20T10:45:00Z',\n",
       "   'content': 'JAKARTA, KOMPAS.com - Presiden Joko Widodo akan memperkenalkan menteri-menteri yang akan mengisi Kabinet Kerja Jilid II pada Senin (21/10/2019) besok.\\r\\n\"Besok pagi akan saya kenalkan,\" ujar Jokowi di Gedung MPR/DPR RI, Senayan, Jakarta pada Minggu (20/10/2019… [+854 chars]'},\n",
       "  {'source': {'id': None, 'name': 'Detik.com'},\n",
       "   'author': 'Tsarina Maharani',\n",
       "   'title': \"Prabowo-Sandi Beri Ucapan Selamat ke Jokowi-Ma'ruf Usai Pelantikan - Detiknews\",\n",
       "   'description': \"Jokowi-Ma'ruf Amin resmi dilantik sebagai presiden dan wakil presiden periode 2019-2024. Prabowo Subianto-Sandiaga Uno tampak memberikan ucapan selamat.\",\n",
       "   'url': 'https://news.detik.com/berita/d-4753315/prabowo-sandi-beri-ucapan-selamat-ke-jokowi-maruf-usai-pelantikan',\n",
       "   'urlToImage': 'https://awsimages.detik.net.id/api/wm/2019/10/20/18cc21c1-602c-4dad-bd56-2cbff6a8227b_169.png?wid=54&w=650&v=1&t=jpeg',\n",
       "   'publishedAt': '2019-10-20T10:42:00Z',\n",
       "   'content': \"Jakarta -\\r\\nJoko Widodo-Ma'ruf Amin resmi dilantik sebagai presiden dan wakil presiden periode 2019-2024. Mantan rival pasangan ini, Prabowo Subianto-Sandiaga Uno, tampak memberikan ucapan selamat.Pantauan di lokasi pelantikan, kompleks parlemen, Senayan, Jaka… [+1053 chars]\"},\n",
       "  {'source': {'id': None, 'name': 'Detik.com'},\n",
       "   'author': 'Mohammad Resha Pratama',\n",
       "   'title': 'MU Vs Liverpool: Duel Bek Termahal Maguire dan Van Dijk - detikSport',\n",
       "   'description': 'Laga Manchester United dan Liverpool akan menjadi duel dua bek termahal di dunia, Harry Maguire versus Virgil van Dijk. Siapa bakal menang?',\n",
       "   'url': 'https://sport.detik.com/sepakbola/liga-inggris/d-4753333/mu-vs-liverpool-duel-bek-termahal-maguire-dan-van-dijk',\n",
       "   'urlToImage': 'https://akcdn.detik.net.id/api/wm/2019/10/20/20a67f95-c5dc-4af0-9c56-ba16f2a84fd9_169.jpeg?wid=54&w=650&v=1&t=jpeg',\n",
       "   'publishedAt': '2019-10-20T10:40:37Z',\n",
       "   'content': None},\n",
       "  {'source': {'id': None, 'name': 'Cnnindonesia.com'},\n",
       "   'author': None,\n",
       "   'title': 'Fadli Zon Tepis Isu Jadi Menteri Jokowi - CNN Indonesia',\n",
       "   'description': 'Wakil Ketua Gerindra Fadli Zon\\xa0mengatakan penunjukan sosok\\xa0yang\\xa0menduduki kursi menteri di kabinet mendatang merupakan hak prerogatif Jokowi sebagai presiden.',\n",
       "   'url': 'https://cnnindonesia.com/nasional/20191020143303-32-441148/fadli-zon-tepis-isu-jadi-menteri-jokowi',\n",
       "   'urlToImage': 'https://awsimages.detik.net.id/visual/2019/08/16/2a1af9b8-066f-4e73-ba20-ae02c8ab89ae_169.jpeg?w=650',\n",
       "   'publishedAt': '2019-10-20T10:40:30Z',\n",
       "   'content': \"Jakarta, CNN Indonesia -- Wakil Ketua Umum Partai Gerindra Fadli Zon\\xa0menepis isu yang menyebut dirinya akan menjadi menteri di kabinet Joko Widodo-Ma'ruf Amin.Menurutnya,\\xa0penunjukan sosok yang akan menduduki kursi menteri di kabinet mendatang merupakan hak pr… [+1886 chars]\"},\n",
       "  {'source': {'id': None, 'name': 'Cnnindonesia.com'},\n",
       "   'author': None,\n",
       "   'title': 'Mengaku Presiden, Edi Sutrisno Minta Dikawal Polisi di DPR - CNN Indonesia',\n",
       "   'description': \"Pria bernama Edi Sutrisno mengaku sebagai presiden dan minta pengawalan diamankan polisi di depan kompleks parlemen sebelum pelantikan Jokowi-Ma'ruf pagi tadi.\",\n",
       "   'url': 'https://cnnindonesia.com/nasional/20191020165945-12-441226/mengaku-presiden-edi-sutrisno-minta-dikawal-polisi-di-dpr',\n",
       "   'urlToImage': 'https://awsimages.detik.net.id/visual/2019/10/20/19492193-ebbe-4709-b875-9835c1c86be4_169.jpeg?w=650',\n",
       "   'publishedAt': '2019-10-20T10:13:00Z',\n",
       "   'content': 'Jakarta, CNN Indonesia -- Polisi mengamankan seorang pria bernama Edi Sutrisno yang mengaku-aku sebagai\\xa0presiden di depan Gedung DPR, Jakarta, Minggu (20/10).Edi diamankan sekitar pukul 10.15 WIB jelang pelaksanaan pelantikan presiden-wakil presiden Joko Wido… [+1241 chars]'},\n",
       "  {'source': {'id': None, 'name': 'Goriau.com'},\n",
       "   'author': 'GoRiau',\n",
       "   'title': 'Ini Bunyi Sumpah Jokowi dan Maruf Amin sebagai Presiden-Wakil Presiden 2019-2024 - GoRiau',\n",
       "   'description': 'JAKARTA - Joko Widodo dan Maruf Amin resmi dila...',\n",
       "   'url': 'https://www.goriau.com/berita/baca/ini-bunyi-sumpah-jokowi-dan-maruf-amin-sebagai-presidenwakil-presiden-20192024.html',\n",
       "   'urlToImage': 'https://www.gonews.co/assets/news/20102019/gonews_uf9mf_78426.jpeg',\n",
       "   'publishedAt': '2019-10-20T10:10:00Z',\n",
       "   'content': \"BERITA TERBARU\\r\\nMinggu, 20 Oktober 2019 17:10 WIB\\r\\nJAKARTA - Joko Widodo dan Ma'ruf Amin resmi dilantik sebagai presiden dan wakil presiden 2019-2024. Ini sumpah yang mereka ucapkan saat pelantikan.Pelantikan pada Minggu (20/10/2019) diselenggarakan oleh MPR … [+1007 chars]\"},\n",
       "  {'source': {'id': None, 'name': 'Kompas.com'},\n",
       "   'author': 'Inggried Dwi Wedhaswary',\n",
       "   'title': \"Salah Dengar Nama, Utusan Kepala Negara Sahabat Tuai Tawa Saat Pelantikan Jokowi-Ma'ruf - Kompas.com - KOMPAS.com\",\n",
       "   'description': 'Segera setelah namanya disebut, Teodoro berdiri. Namun saat itu juga, Syekh Nahyan Mubarak Al Nahyan yang duduk di depannya turut berdiri.',\n",
       "   'url': 'https://www.kompas.com/tren/read/2019/10/20/165616665/salah-dengar-nama-utusan-kepala-negara-sahabat-tuai-tawa-saat-pelantikan?page=all',\n",
       "   'urlToImage': 'https://asset.kompas.com/crops/y2esyt0agpdzbRt5HT6wImJL1F0=/81x40:1161x760/780x390/filters:watermark(data/photo/2019/08/13/5d528bf23b805.png,0,-0,1)/data/photo/2019/10/20/5dac281af1b20.jpeg',\n",
       "   'publishedAt': '2019-10-20T09:56:00Z',\n",
       "   'content': \"JAKARTA, KOMPAS.com - Ada yang menarik dari acara pelantikan Joko Widodo-Ma'ruf Amin sebagai Presiden dan Wakil Presiden Republik Indonesia periode 2019-2024, Minggu (20/10/2019), di Kompleks Parlemen, Senayan, Jakarta.\\r\\nPeristiwa itu terjadi saat Ketua DPR B… [+1104 chars]\"},\n",
       "  {'source': {'id': None, 'name': 'Kompas.com'},\n",
       "   'author': 'Diamanty Meiliana',\n",
       "   'title': 'Presiden Jokowi: Yang Tak Serius, Tak Ada Ampun, Pasti Saya Copot - Kompas.com - KOMPAS.com',\n",
       "   'description': \"'Saya juga minta kepada para menteri, para pejabat dan birokrat, agar serius menjamin tercapainya tujuan program pembangunan,' kata Jokowi.\",\n",
       "   'url': 'https://nasional.kompas.com/read/2019/10/20/16550871/presiden-jokowi-yang-tak-serius-tak-ada-ampun-pasti-saya-copot',\n",
       "   'urlToImage': 'https://asset.kompas.com/crops/XL_1CDVCWkMWtgs5BJEHK1wfDBc=/204x3:2000x1200/780x390/filters:watermark(data/photo/2019/08/13/5d528b8341764.png,0,-0,1)/data/photo/2019/10/20/5dac3989c3294.jpg',\n",
       "   'publishedAt': '2019-10-20T09:55:00Z',\n",
       "   'content': 'JAKARTA, KOMPAS.com - Presiden Joko Widodo meminta para menteri, pejabat, dan birokrat serius menjamin terwujudnya program pembangunan.\\r\\nJokowi mengatakan, tidak akan memberi ampun kepada mereka yang tidak serius, bahkan mengancam akan mencopot.\\r\\n\"Saya juga m… [+922 chars]'},\n",
       "  {'source': {'id': None, 'name': 'Bolasport.com'},\n",
       "   'author': 'Ananda Lathifah Rozalina',\n",
       "   'title': 'Live Streaming Denmark Open 2019 - Marcus/Kevin Siap Hadapi The Daddies Demi Pertahankan Gelar Juara - BolaStylo',\n",
       "   'description': 'Live Streaming Denmark Open 2019 akan menyajikan pertarungan babak final yang berlangsung, Minggu (20/10/2019)',\n",
       "   'url': 'https://bolastylo.bolasport.com/read/171890854/live-streaming-denmark-open-2019-marcuskevin-siap-hadapi-the-daddies-demi-pertahankan-gelar-juara?page=all',\n",
       "   'urlToImage': 'https://asset-a.grid.id/crop/283x0:4342x2255/700x465/photo/2019/10/18/1184483165.jpg',\n",
       "   'publishedAt': '2019-10-20T09:30:00Z',\n",
       "   'content': 'BolaStylo.com - Live StreamingDenmark Open 2019 akan menyajikan pertarungan babak final yang berlangsung, Minggu (20/10/2019).\\r\\nLive StreamingDenmark Open 2019 hari ini akan menyuguhkan pertarungan dua ganda putra Indonesia di babak final mulai pukul 17.00 WI… [+1162 chars]'},\n",
       "  {'source': {'id': None, 'name': 'Tribunnews.com'},\n",
       "   'author': 'Restudia',\n",
       "   'title': 'Terungkap Pajak Lamborghini Raffi Ahmad yang Terbakar Setara dengan Mobil Mewah - Banjarmasin Post',\n",
       "   'description': 'Terungkap Pajak Lamborghini Raffi Ahmad yang Terbakar Setara dengan Mobil Mewah',\n",
       "   'url': 'https://banjarmasin.tribunnews.com/2019/10/20/terungkap-pajak-lamborghini-raffi-ahmad-yang-terbakar-setara-dengan-mobil-mewah',\n",
       "   'urlToImage': 'https://cdn2.tstatic.net/banjarmasin/foto/bank/images/kolase-mobil-lamborghini-aventador-milik-raffi-ahmad.jpg',\n",
       "   'publishedAt': '2019-10-20T09:23:42Z',\n",
       "   'content': 'BANJARMASINPOST.CO.ID - Mobil lamborghini Aventador Raffi\\xa0Ahmad terbakar ketika sedang dikendarai di kawasan Sentul, Bogor, Jawa Barat, Sabtu (19/10/2019). Suami Nagita\\xa0Slavina ini pun mengaku ikhlas dengan kejadian yang dialami.\\r\\nLamborghini Aventador milik … [+1621 chars]'},\n",
       "  {'source': {'id': None, 'name': 'Cnnindonesia.com'},\n",
       "   'author': None,\n",
       "   'title': 'Quartararo Rebut Gelar Rookie Terbaik MotoGP 2019 - CNN Indonesia',\n",
       "   'description': 'Fabio Quartararo memastikan gelar rookie terbaik MotoGP 2019 meski dikalahkan Marc Marquez pada balapan GP Jepang.',\n",
       "   'url': 'https://www.cnnindonesia.com/olahraga/20191020151022-156-441162/quartararo-rebut-gelar-rookie-terbaik-motogp-2019',\n",
       "   'urlToImage': 'https://awsimages.detik.net.id/visual/2019/10/20/763a125e-3625-42fb-93ed-e4fba53482c3_169.png?w=650',\n",
       "   'publishedAt': '2019-10-20T08:43:37Z',\n",
       "   'content': 'Jakarta, CNN Indonesia -- Meski kalah dari\\xa0Marc Marquez pada balapan MotoGP Jepang 2019, Minggu (20/10), Fabio Quartararo berhasil memastikan gelar rookie terbaik MotoGP 2019.Quartararo gagal memberikan perlawanan ketat kepada Marquez di MotoGP Jepang 2019. P… [+1619 chars]'},\n",
       "  {'source': {'id': None, 'name': 'Kompas.com'},\n",
       "   'author': 'Sandro Gatra',\n",
       "   'title': 'Seloroh PM Singapura Saat Bertemu Presiden Jokowi di Istana Merdeka - Nasional Kompas.com',\n",
       "   'description': '“Ada lima ratusan kamera di sini, ya,” kata Lee kemudian Jokowi tertawa.',\n",
       "   'url': 'https://nasional.kompas.com/read/2019/10/20/15000301/seloroh-pm-singapura-saat-bertemu-presiden-jokowi-di-istana-merdeka?page=all',\n",
       "   'urlToImage': 'https://asset.kompas.com/crops/HghsfmYFNmhY9LPHjveEV4RoJeA=/0x0:940x627/780x390/filters:watermark(data/photo/2019/08/13/5d528b8341764.png,0,-0,1)/data/photo/2019/10/20/5dabdde1b0f74.jpg',\n",
       "   'publishedAt': '2019-10-20T08:00:00Z',\n",
       "   'content': 'JAKARTA, KOMPAS.com - Presiden Joko Widodo bertemu dengan sejumlah kepala negara sebelum dilantik sebagai Presiden 2019-2024.\\r\\nRangkaian pertemuan atau courtesy call Jokowi dengan kepala negara sahabat berlangsung di Istana Merdeka, Jakarta, Minggu (20/10/201… [+1162 chars]'},\n",
       "  {'source': {'id': None, 'name': 'Kontan.co.id'},\n",
       "   'author': 'Benedicta Prima',\n",
       "   'title': \"Pasca pelantikan Jokowi-Ma'ruf Amin, begini proyeksi IHSG pekan depan - Investasi Kontan\",\n",
       "   'description': 'Pasca pelantikan Jokowi-Ma&#39;ruf Amin, begini proyeksi IHSG pekan depan',\n",
       "   'url': 'https://investasi.kontan.co.id/news/pasca-pelantikan-jokowi-maruf-amin-begini-proyeksi-ihsg-pekan-depan',\n",
       "   'urlToImage': 'https://photo.kontan.co.id/photo/2019/10/18/211273494p.jpg',\n",
       "   'publishedAt': '2019-10-20T07:49:53Z',\n",
       "   'content': 'KONTAN.CO.ID -\\xa0 JAKARTA. Analis Jasa Utama Capital Sekuritas Chris Apriliony memprediksi Indeks Harga Saham Gabungan (IHSG) pekan ini akan bergerak menguat dikisaran 6.150-6.320. \\r\\n\"Penguatan tersebut karena sentimen pelantikan presiden dan pemilihan kabinet … [+990 chars]'},\n",
       "  {'source': {'id': None, 'name': 'Kompas.com'},\n",
       "   'author': 'Inggried Dwi Wedhaswary',\n",
       "   'title': 'Hari Ini dalam Sejarah: 20 Oktober 2014, Melepas SBY, Menyambut Jokowi Halaman all - KOMPAS.com',\n",
       "   'description': 'Lima tahun lalu, 20 Oktober 2014, SBY mengakhiri masa jabatan sebagai Presiden, Jokowi memulai masa baktinya sebagai Presiden ke-7. Halaman all',\n",
       "   'url': 'https://www.kompas.com/tren/read/2019/10/20/135056665/hari-ini-dalam-sejarah-20-oktober-2014-melepas-sby-menyambut-jokowi?page=all',\n",
       "   'urlToImage': 'https://asset.kompas.com/crops/HtVVzveL4g5p2j2cMCY7jlqSSlk=/0x0:386x257/780x390/filters:watermark(data/photo/2019/08/13/5d528bf23b805.png,0,-0,1)/data/photo/2019/10/20/5dac00199ea6f.png',\n",
       "   'publishedAt': '2019-10-20T06:50:00Z',\n",
       "   'content': 'JAKARTA, KOMPAS.com - Hari ini 5 tahun lalu, tepatnya 20 Oktober 2014, Joko Widodo dilantik sebagai Presiden ke-7 RI untuk masa bakti 2014-2019.\\r\\nJokowi dilantik bersama Wakil Presiden Jusuf Kalla.\\r\\nDilantiknya Jokowi menandai berakhirnya masa bakti Presiden … [+4006 chars]'},\n",
       "  {'source': {'id': None, 'name': 'Grid.id'},\n",
       "   'author': None,\n",
       "   'title': 'Disebut Mantan Terindah Baim Wong, Marshanda Kaget Saat Dengar Pesan Nenek Iro: Jaga Persaudaraan Sama Mant... - Grid.ID',\n",
       "   'description': 'Pernah disebut mantan terindah Baim Wong, Marshanda kaget waktu dengar pesan khusus dari Nenek Iro. Apa sih pesannya?',\n",
       "   'url': 'https://www.grid.id/read/041891098/disebut-mantan-terindah-baim-wong-marshanda-kaget-saat-dengar-pesan-nenek-iro-jaga-persaudaraan-sama-mantan-ya',\n",
       "   'urlToImage': 'https://asset-a.grid.id/crop/0x0:0x0/700x465/photo/2019/10/20/920931383.jpg',\n",
       "   'publishedAt': '2019-10-20T06:25:00Z',\n",
       "   'content': None}]}"
      ]
     },
     "execution_count": 16,
     "metadata": {},
     "output_type": "execute_result"
    }
   ],
   "source": [
    "response"
   ]
  },
  {
   "cell_type": "code",
   "execution_count": 30,
   "metadata": {},
   "outputs": [],
   "source": [
    "data = []"
   ]
  },
  {
   "cell_type": "code",
   "execution_count": 31,
   "metadata": {
    "scrolled": true
   },
   "outputs": [
    {
     "name": "stdout",
     "output_type": "stream",
     "text": [
      "Prabowo Hingga SBY Ucapkan Selamat Kepada Jokowi-Ma'ruf - Detiknews\n",
      "https://news.detik.com/foto-news/d-4753353/prabowo-hingga-sby-ucapkan-selamat-kepada-jokowi-maruf\n",
      "\n",
      "Benarkah Ada Bukti Kehidupan di Mars sejak Tahun 1970? - Kompas.com - KOMPAS.com\n",
      "https://sains.kompas.com/read/2019/10/20/180400023/benarkah-ada-bukti-kehidupan-di-mars-sejak-tahun-1970-\n",
      "\n",
      "Dana nasabah sebanyak Rp 58,95 miliar dibobol orang dalam, begini penjelasan Bank BNI - Kontan\n",
      "https://keuangan.kontan.co.id/news/dana-nasabah-sebanyak-rp-5895-miliar-dibobol-orang-dalam-begini-penjelasan-bank-bni\n",
      "\n",
      "Hasil Timnas U-19 Vs China, Garuda Nusantara Tumbang - Kompas.com - KOMPAS.com\n",
      "https://bola.kompas.com/read/2019/10/20/17555288/hasil-timnas-u-19-vs-china-garuda-nusantara-tumbang?page=all\n",
      "\n",
      "Dituding Gelapkan Dana Rp 1,95 M, Irwansyah Merasa Nama Baiknya Tercemar - detikHot\n",
      "https://hot.detik.com/celeb/d-4753330/dituding-gelapkan-dana-rp-195-m-irwansyah-merasa-nama-baiknya-tercemar\n",
      "\n",
      "Perkenalkan Menteri Baru Senin Pagi, Kapan Jokowi Melantik Mereka? - KOMPAS.com\n",
      "https://nasional.kompas.com/read/2019/10/20/17455361/perkenalkan-menteri-baru-senin-pagi-kapan-jokowi-melantik-mereka\n",
      "\n",
      "Prabowo-Sandi Beri Ucapan Selamat ke Jokowi-Ma'ruf Usai Pelantikan - Detiknews\n",
      "https://news.detik.com/berita/d-4753315/prabowo-sandi-beri-ucapan-selamat-ke-jokowi-maruf-usai-pelantikan\n",
      "\n",
      "MU Vs Liverpool: Duel Bek Termahal Maguire dan Van Dijk - detikSport\n",
      "https://sport.detik.com/sepakbola/liga-inggris/d-4753333/mu-vs-liverpool-duel-bek-termahal-maguire-dan-van-dijk\n",
      "\n",
      "Fadli Zon Tepis Isu Jadi Menteri Jokowi - CNN Indonesia\n",
      "https://cnnindonesia.com/nasional/20191020143303-32-441148/fadli-zon-tepis-isu-jadi-menteri-jokowi\n",
      "\n",
      "Mengaku Presiden, Edi Sutrisno Minta Dikawal Polisi di DPR - CNN Indonesia\n",
      "https://cnnindonesia.com/nasional/20191020165945-12-441226/mengaku-presiden-edi-sutrisno-minta-dikawal-polisi-di-dpr\n",
      "\n",
      "Ini Bunyi Sumpah Jokowi dan Maruf Amin sebagai Presiden-Wakil Presiden 2019-2024 - GoRiau\n",
      "https://www.goriau.com/berita/baca/ini-bunyi-sumpah-jokowi-dan-maruf-amin-sebagai-presidenwakil-presiden-20192024.html\n",
      "\n",
      "Salah Dengar Nama, Utusan Kepala Negara Sahabat Tuai Tawa Saat Pelantikan Jokowi-Ma'ruf - Kompas.com - KOMPAS.com\n",
      "https://www.kompas.com/tren/read/2019/10/20/165616665/salah-dengar-nama-utusan-kepala-negara-sahabat-tuai-tawa-saat-pelantikan?page=all\n",
      "\n",
      "Presiden Jokowi: Yang Tak Serius, Tak Ada Ampun, Pasti Saya Copot - Kompas.com - KOMPAS.com\n",
      "https://nasional.kompas.com/read/2019/10/20/16550871/presiden-jokowi-yang-tak-serius-tak-ada-ampun-pasti-saya-copot\n",
      "\n",
      "Live Streaming Denmark Open 2019 - Marcus/Kevin Siap Hadapi The Daddies Demi Pertahankan Gelar Juara - BolaStylo\n",
      "https://bolastylo.bolasport.com/read/171890854/live-streaming-denmark-open-2019-marcuskevin-siap-hadapi-the-daddies-demi-pertahankan-gelar-juara?page=all\n",
      "\n",
      "Terungkap Pajak Lamborghini Raffi Ahmad yang Terbakar Setara dengan Mobil Mewah - Banjarmasin Post\n",
      "https://banjarmasin.tribunnews.com/2019/10/20/terungkap-pajak-lamborghini-raffi-ahmad-yang-terbakar-setara-dengan-mobil-mewah\n",
      "\n",
      "Quartararo Rebut Gelar Rookie Terbaik MotoGP 2019 - CNN Indonesia\n",
      "https://www.cnnindonesia.com/olahraga/20191020151022-156-441162/quartararo-rebut-gelar-rookie-terbaik-motogp-2019\n",
      "\n",
      "Seloroh PM Singapura Saat Bertemu Presiden Jokowi di Istana Merdeka - Nasional Kompas.com\n",
      "https://nasional.kompas.com/read/2019/10/20/15000301/seloroh-pm-singapura-saat-bertemu-presiden-jokowi-di-istana-merdeka?page=all\n",
      "\n",
      "Pasca pelantikan Jokowi-Ma'ruf Amin, begini proyeksi IHSG pekan depan - Investasi Kontan\n",
      "https://investasi.kontan.co.id/news/pasca-pelantikan-jokowi-maruf-amin-begini-proyeksi-ihsg-pekan-depan\n",
      "\n",
      "Hari Ini dalam Sejarah: 20 Oktober 2014, Melepas SBY, Menyambut Jokowi Halaman all - KOMPAS.com\n",
      "https://www.kompas.com/tren/read/2019/10/20/135056665/hari-ini-dalam-sejarah-20-oktober-2014-melepas-sby-menyambut-jokowi?page=all\n",
      "\n",
      "Disebut Mantan Terindah Baim Wong, Marshanda Kaget Saat Dengar Pesan Nenek Iro: Jaga Persaudaraan Sama Mant... - Grid.ID\n",
      "https://www.grid.id/read/041891098/disebut-mantan-terindah-baim-wong-marshanda-kaget-saat-dengar-pesan-nenek-iro-jaga-persaudaraan-sama-mantan-ya\n",
      "\n"
     ]
    }
   ],
   "source": [
    "for re in response['articles']:\n",
    "    print(re['title'])\n",
    "    print(re['url'])\n",
    "    json = {\n",
    "        'title': re['title'],\n",
    "        'url': re['url']\n",
    "    }\n",
    "    data.append(json)\n",
    "    print()"
   ]
  },
  {
   "cell_type": "code",
   "execution_count": 26,
   "metadata": {},
   "outputs": [],
   "source": [
    "import pymongo"
   ]
  },
  {
   "cell_type": "code",
   "execution_count": 28,
   "metadata": {},
   "outputs": [],
   "source": [
    "client = pymongo.MongoClient(\"mongodb://127.0.0.1:27017\")\n",
    "database = client[\"iData\"]\n",
    "collection = database[\"satu\"]"
   ]
  },
  {
   "cell_type": "code",
   "execution_count": 32,
   "metadata": {},
   "outputs": [
    {
     "name": "stdout",
     "output_type": "stream",
     "text": [
      "Insert Data into MongoDB Successfully\n"
     ]
    },
    {
     "name": "stderr",
     "output_type": "stream",
     "text": [
      "/home/lumierra/Project-Python/.env/lib/python3.6/site-packages/ipykernel_launcher.py:2: DeprecationWarning: insert is deprecated. Use insert_one or insert_many instead.\n",
      "  \n"
     ]
    }
   ],
   "source": [
    "try:\n",
    "    collection.insert(data)\n",
    "    print('Insert Data into MongoDB Successfully')\n",
    "except:\n",
    "    print('Insert Data into Mongod Failed')"
   ]
  },
  {
   "cell_type": "code",
   "execution_count": null,
   "metadata": {},
   "outputs": [],
   "source": []
  }
 ],
 "metadata": {
  "kernelspec": {
   "display_name": "Python 3",
   "language": "python",
   "name": "python3"
  },
  "language_info": {
   "codemirror_mode": {
    "name": "ipython",
    "version": 3
   },
   "file_extension": ".py",
   "mimetype": "text/x-python",
   "name": "python",
   "nbconvert_exporter": "python",
   "pygments_lexer": "ipython3",
   "version": "3.6.6+"
  }
 },
 "nbformat": 4,
 "nbformat_minor": 2
}
