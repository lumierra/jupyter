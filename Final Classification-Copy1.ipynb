{
 "cells": [
  {
   "cell_type": "markdown",
   "metadata": {},
   "source": [
    "## Import Library"
   ]
  },
  {
   "cell_type": "code",
   "execution_count": 1,
   "metadata": {},
   "outputs": [],
   "source": [
    "import pymongo\n",
    "import pandas as pd\n",
    "from random import shuffle\n",
    "import matplotlib.pyplot as plt\n",
    "from tqdm import tqdm, tqdm_notebook"
   ]
  },
  {
   "cell_type": "code",
   "execution_count": null,
   "metadata": {},
   "outputs": [],
   "source": []
  },
  {
   "cell_type": "markdown",
   "metadata": {},
   "source": [
    "## Load Data From MongoDB"
   ]
  },
  {
   "cell_type": "code",
   "execution_count": 2,
   "metadata": {},
   "outputs": [],
   "source": [
    "# Load data dari Database MongoDB \n",
    "myClient = pymongo.MongoClient(\"mongodb://localhost:27017\")\n",
    "myDatabase = myClient.iStorage\n",
    "myCollection = myDatabase.iDataset"
   ]
  },
  {
   "cell_type": "code",
   "execution_count": 3,
   "metadata": {},
   "outputs": [],
   "source": [
    "# 7 kategori artikel berita yang ada di dalam database\n",
    "categories = ['news', 'bisnis', 'sports', 'entertainment', 'tekno', 'otomotif', 'health']"
   ]
  },
  {
   "cell_type": "code",
   "execution_count": 4,
   "metadata": {},
   "outputs": [],
   "source": [
    "# Array yang digunakan untuk menampung data berdasarkan kategori\n",
    "polhukam,bisnis,olahraga,hiburan,teknologi,otomotif,kesehatan = [],[],[],[],[],[],[]"
   ]
  },
  {
   "cell_type": "code",
   "execution_count": 5,
   "metadata": {},
   "outputs": [],
   "source": [
    "# fungsi ambil data berdasarkan category\n",
    "def getQuery(category=None):\n",
    "    iQuery = myCollection.find(\n",
    "        {\"category\": \"{}\".format(category)}, \n",
    "        {\n",
    "            \"category\": 1, \n",
    "            \"title\": 1,\n",
    "            \"url\": 1,\n",
    "            \"cleanContent\": 1\n",
    "        }).limit(15000)\n",
    "    \n",
    "    return iQuery"
   ]
  },
  {
   "cell_type": "code",
   "execution_count": 6,
   "metadata": {},
   "outputs": [],
   "source": [
    "# fungsi input data ke list\n",
    "def setData(iQuery=None):\n",
    "    category = []\n",
    "    for query in iQuery: category.append(query)\n",
    "        \n",
    "    return category"
   ]
  },
  {
   "cell_type": "code",
   "execution_count": 7,
   "metadata": {},
   "outputs": [],
   "source": [
    "iData = []"
   ]
  },
  {
   "cell_type": "code",
   "execution_count": 8,
   "metadata": {
    "scrolled": true
   },
   "outputs": [
    {
     "name": "stderr",
     "output_type": "stream",
     "text": [
      "100%|██████████| 15000/15000 [00:00<00:00, 3236179.21it/s]\n",
      "100%|██████████| 15000/15000 [00:00<00:00, 3129610.51it/s]\n",
      "100%|██████████| 15000/15000 [00:00<00:00, 3036270.45it/s]\n",
      "100%|██████████| 15000/15000 [00:00<00:00, 3146672.00it/s]\n",
      "100%|██████████| 15000/15000 [00:00<00:00, 3129766.19it/s]\n",
      "100%|██████████| 15000/15000 [00:00<00:00, 2862224.65it/s]\n",
      "100%|██████████| 15000/15000 [00:00<00:00, 2942820.52it/s]\n"
     ]
    }
   ],
   "source": [
    "# Ambil data dari Database dan disimpan di array berdasarkan kategori\n",
    "####################################\n",
    "iQuery = getQuery(\"news\")\n",
    "polhukam = setData(iQuery)\n",
    "for data in tqdm(polhukam): iData.append(data)\n",
    "####################################\n",
    "iQuery = getQuery(\"bisnis\")\n",
    "bisnis = setData(iQuery)\n",
    "for data in tqdm(bisnis): iData.append(data)\n",
    "####################################\n",
    "iQuery = getQuery(\"sports\")\n",
    "olahraga = setData(iQuery)\n",
    "for data in tqdm(olahraga): iData.append(data)\n",
    "####################################\n",
    "iQuery = getQuery(\"entertainment\")\n",
    "hiburan = setData(iQuery)\n",
    "for data in tqdm(hiburan): iData.append(data)\n",
    "####################################\n",
    "iQuery = getQuery(\"tekno\")\n",
    "teknologi = setData(iQuery)\n",
    "for data in tqdm(teknologi): iData.append(data)\n",
    "####################################\n",
    "iQuery = getQuery(\"otomotif\")\n",
    "otomotif = setData(iQuery)\n",
    "for data in tqdm(otomotif): iData.append(data)\n",
    "####################################\n",
    "iQuery = getQuery(\"health\")\n",
    "kesehatan = setData(iQuery)\n",
    "for data in tqdm(kesehatan): iData.append(data)"
   ]
  },
  {
   "cell_type": "code",
   "execution_count": 9,
   "metadata": {},
   "outputs": [
    {
     "data": {
      "text/html": [
       "<div>\n",
       "<style scoped>\n",
       "    .dataframe tbody tr th:only-of-type {\n",
       "        vertical-align: middle;\n",
       "    }\n",
       "\n",
       "    .dataframe tbody tr th {\n",
       "        vertical-align: top;\n",
       "    }\n",
       "\n",
       "    .dataframe thead th {\n",
       "        text-align: right;\n",
       "    }\n",
       "</style>\n",
       "<table border=\"1\" class=\"dataframe\">\n",
       "  <thead>\n",
       "    <tr style=\"text-align: right;\">\n",
       "      <th></th>\n",
       "      <th>Nama Kategori</th>\n",
       "      <th>Jumlah Data</th>\n",
       "    </tr>\n",
       "  </thead>\n",
       "  <tbody>\n",
       "    <tr>\n",
       "      <td>0</td>\n",
       "      <td>Polhukam</td>\n",
       "      <td>15000.0</td>\n",
       "    </tr>\n",
       "    <tr>\n",
       "      <td>1</td>\n",
       "      <td>Bisnis</td>\n",
       "      <td>15000.0</td>\n",
       "    </tr>\n",
       "    <tr>\n",
       "      <td>2</td>\n",
       "      <td>Olahraga</td>\n",
       "      <td>15000.0</td>\n",
       "    </tr>\n",
       "    <tr>\n",
       "      <td>3</td>\n",
       "      <td>Hiburan</td>\n",
       "      <td>15000.0</td>\n",
       "    </tr>\n",
       "    <tr>\n",
       "      <td>4</td>\n",
       "      <td>Teknologi</td>\n",
       "      <td>15000.0</td>\n",
       "    </tr>\n",
       "    <tr>\n",
       "      <td>5</td>\n",
       "      <td>Otomotif</td>\n",
       "      <td>15000.0</td>\n",
       "    </tr>\n",
       "    <tr>\n",
       "      <td>6</td>\n",
       "      <td>Kesehatan</td>\n",
       "      <td>15000.0</td>\n",
       "    </tr>\n",
       "    <tr>\n",
       "      <td>Total</td>\n",
       "      <td>NaN</td>\n",
       "      <td>105000.0</td>\n",
       "    </tr>\n",
       "  </tbody>\n",
       "</table>\n",
       "</div>"
      ],
      "text/plain": [
       "      Nama Kategori  Jumlah Data\n",
       "0          Polhukam      15000.0\n",
       "1            Bisnis      15000.0\n",
       "2          Olahraga      15000.0\n",
       "3           Hiburan      15000.0\n",
       "4         Teknologi      15000.0\n",
       "5          Otomotif      15000.0\n",
       "6         Kesehatan      15000.0\n",
       "Total           NaN     105000.0"
      ]
     },
     "execution_count": 9,
     "metadata": {},
     "output_type": "execute_result"
    }
   ],
   "source": [
    "# Dataframe Categories\n",
    "df = pd.DataFrame({\n",
    "    'Nama Kategori':[\n",
    "        'Polhukam','Bisnis','Olahraga','Hiburan','Teknologi','Otomotif','Kesehatan'],\n",
    "    'Jumlah Data':[\n",
    "        len(polhukam),\n",
    "        len(bisnis),\n",
    "        len(olahraga),\n",
    "        len(hiburan),\n",
    "        len(teknologi),\n",
    "        len(otomotif),\n",
    "        len(kesehatan)\n",
    "    ]\n",
    "})\n",
    "df.loc['Total'] = pd.Series(df['Jumlah Data'].sum(), index = ['Jumlah Data'])\n",
    "df"
   ]
  },
  {
   "cell_type": "code",
   "execution_count": null,
   "metadata": {},
   "outputs": [],
   "source": []
  },
  {
   "cell_type": "code",
   "execution_count": null,
   "metadata": {},
   "outputs": [],
   "source": []
  },
  {
   "cell_type": "markdown",
   "metadata": {},
   "source": [
    "## Konversi Data ke DataFrame (Pandas)"
   ]
  },
  {
   "cell_type": "code",
   "execution_count": 10,
   "metadata": {},
   "outputs": [],
   "source": [
    "shuffle(iData)"
   ]
  },
  {
   "cell_type": "code",
   "execution_count": 11,
   "metadata": {},
   "outputs": [],
   "source": [
    "df = pd.DataFrame(iData)"
   ]
  },
  {
   "cell_type": "code",
   "execution_count": 12,
   "metadata": {},
   "outputs": [
    {
     "data": {
      "text/html": [
       "<div>\n",
       "<style scoped>\n",
       "    .dataframe tbody tr th:only-of-type {\n",
       "        vertical-align: middle;\n",
       "    }\n",
       "\n",
       "    .dataframe tbody tr th {\n",
       "        vertical-align: top;\n",
       "    }\n",
       "\n",
       "    .dataframe thead th {\n",
       "        text-align: right;\n",
       "    }\n",
       "</style>\n",
       "<table border=\"1\" class=\"dataframe\">\n",
       "  <thead>\n",
       "    <tr style=\"text-align: right;\">\n",
       "      <th></th>\n",
       "      <th>_id</th>\n",
       "      <th>category</th>\n",
       "      <th>title</th>\n",
       "      <th>url</th>\n",
       "      <th>cleanContent</th>\n",
       "    </tr>\n",
       "  </thead>\n",
       "  <tbody>\n",
       "    <tr>\n",
       "      <td>104995</td>\n",
       "      <td>5d6f5493e8471817077058e8</td>\n",
       "      <td>entertainment</td>\n",
       "      <td>Hilda Vitria Temperamental, Kriss Hatta Mengak...</td>\n",
       "      <td>https://seleb.tempo.co/read/1073788/hilda-vitr...</td>\n",
       "      <td>kriss hatta hilda vitria khan istrinya kabur r...</td>\n",
       "    </tr>\n",
       "    <tr>\n",
       "      <td>104996</td>\n",
       "      <td>5dad47b8f071bac3d05d0ec8</td>\n",
       "      <td>tekno</td>\n",
       "      <td>Peneliti Keamanan Ini Batal Umbar Cara Bobol K...</td>\n",
       "      <td>https://www.liputan6.com/tekno/read/3862932/pe...</td>\n",
       "      <td>peneliti keamanan siber wish wu dilaporkan bat...</td>\n",
       "    </tr>\n",
       "    <tr>\n",
       "      <td>104997</td>\n",
       "      <td>5d6e33357857a70f2f87b16c</td>\n",
       "      <td>sports</td>\n",
       "      <td>Kejuaraan Dunia: Greysia / Apriyani Lolos, Del...</td>\n",
       "      <td>https://sport.tempo.co/read/1239209/kejuaraan-...</td>\n",
       "      <td>indonesia menyisakan wakilnya nomor ganda putr...</td>\n",
       "    </tr>\n",
       "    <tr>\n",
       "      <td>104998</td>\n",
       "      <td>5d6b703a4d262d12b792a1d3</td>\n",
       "      <td>sports</td>\n",
       "      <td>Persija Jakarta Vs Binh Duong, Kolev Antisipas...</td>\n",
       "      <td>https://bola.tempo.co/read/1179396/persija-jak...</td>\n",
       "      <td>pelatih persija jakarta ivan kolev timnya meng...</td>\n",
       "    </tr>\n",
       "    <tr>\n",
       "      <td>104999</td>\n",
       "      <td>5dd049b794658b66f52ec59d</td>\n",
       "      <td>tekno</td>\n",
       "      <td>Console Nintendo Switch Dijual Maret 2017, Beb...</td>\n",
       "      <td>https://tekno.tempo.co/read/835938/console-nin...</td>\n",
       "      <td>nintendo resmi umum jual console game baru nin...</td>\n",
       "    </tr>\n",
       "  </tbody>\n",
       "</table>\n",
       "</div>"
      ],
      "text/plain": [
       "                             _id       category  \\\n",
       "104995  5d6f5493e8471817077058e8  entertainment   \n",
       "104996  5dad47b8f071bac3d05d0ec8          tekno   \n",
       "104997  5d6e33357857a70f2f87b16c         sports   \n",
       "104998  5d6b703a4d262d12b792a1d3         sports   \n",
       "104999  5dd049b794658b66f52ec59d          tekno   \n",
       "\n",
       "                                                    title  \\\n",
       "104995  Hilda Vitria Temperamental, Kriss Hatta Mengak...   \n",
       "104996  Peneliti Keamanan Ini Batal Umbar Cara Bobol K...   \n",
       "104997  Kejuaraan Dunia: Greysia / Apriyani Lolos, Del...   \n",
       "104998  Persija Jakarta Vs Binh Duong, Kolev Antisipas...   \n",
       "104999  Console Nintendo Switch Dijual Maret 2017, Beb...   \n",
       "\n",
       "                                                      url  \\\n",
       "104995  https://seleb.tempo.co/read/1073788/hilda-vitr...   \n",
       "104996  https://www.liputan6.com/tekno/read/3862932/pe...   \n",
       "104997  https://sport.tempo.co/read/1239209/kejuaraan-...   \n",
       "104998  https://bola.tempo.co/read/1179396/persija-jak...   \n",
       "104999  https://tekno.tempo.co/read/835938/console-nin...   \n",
       "\n",
       "                                             cleanContent  \n",
       "104995  kriss hatta hilda vitria khan istrinya kabur r...  \n",
       "104996  peneliti keamanan siber wish wu dilaporkan bat...  \n",
       "104997  indonesia menyisakan wakilnya nomor ganda putr...  \n",
       "104998  pelatih persija jakarta ivan kolev timnya meng...  \n",
       "104999  nintendo resmi umum jual console game baru nin...  "
      ]
     },
     "execution_count": 12,
     "metadata": {},
     "output_type": "execute_result"
    }
   ],
   "source": [
    "df.tail()"
   ]
  },
  {
   "cell_type": "code",
   "execution_count": 13,
   "metadata": {},
   "outputs": [
    {
     "data": {
      "image/png": "[encoded data removed]",
      "text/plain": [
       "<Figure size 720x576 with 1 Axes>"
      ]
     },
     "metadata": {
      "needs_background": "light"
     },
     "output_type": "display_data"
    }
   ],
   "source": [
    "fig = plt.figure(figsize=(10,8))\n",
    "df.groupby('category').title.count().plot.bar(ylim=0)\n",
    "plt.show()"
   ]
  },
  {
   "cell_type": "code",
   "execution_count": null,
   "metadata": {},
   "outputs": [],
   "source": []
  },
  {
   "cell_type": "code",
   "execution_count": null,
   "metadata": {},
   "outputs": [],
   "source": []
  },
  {
   "cell_type": "markdown",
   "metadata": {},
   "source": [
    "## Menggunakan Metode Naive Bayes"
   ]
  },
  {
   "cell_type": "code",
   "execution_count": 44,
   "metadata": {},
   "outputs": [],
   "source": [
    "import textacy\n",
    "import seaborn as sns; sns.set()\n",
    "from sklearn.pipeline import Pipeline\n",
    "from sklearn.pipeline import make_pipeline\n",
    "from sklearn.naive_bayes import MultinomialNB\n",
    "from textacy.preprocess import preprocess_text\n",
    "from sklearn.metrics import classification_report\n",
    "from sklearn.cross_validation import train_test_split\n",
    "from sklearn.feature_extraction.text import CountVectorizer\n",
    "from sklearn.feature_extraction.text import TfidfVectorizer\n",
    "from sklearn.feature_extraction.text import TfidfTransformer\n",
    "from sklearn.metrics import accuracy_score, confusion_matrix, classification_report"
   ]
  },
  {
   "cell_type": "markdown",
   "metadata": {},
   "source": [
    "### Create Pipeline MNB"
   ]
  },
  {
   "cell_type": "code",
   "execution_count": 16,
   "metadata": {},
   "outputs": [],
   "source": [
    "nb = Pipeline([('vect', CountVectorizer()),\n",
    "               ('tfidf', TfidfTransformer()),\n",
    "               ('clf', MultinomialNB()),\n",
    "              ])"
   ]
  },
  {
   "cell_type": "markdown",
   "metadata": {},
   "source": [
    "### Split Dataset"
   ]
  },
  {
   "cell_type": "code",
   "execution_count": 23,
   "metadata": {},
   "outputs": [],
   "source": [
    "X1_train, X1_test, y1_train, y1_test = train_test_split(df['cleanContent'], df['category'], test_size=0.1)"
   ]
  },
  {
   "cell_type": "code",
   "execution_count": 40,
   "metadata": {},
   "outputs": [
    {
     "name": "stdout",
     "output_type": "stream",
     "text": [
      "X_traint : 94500\n",
      "X_test   : 10500\n",
      "Total    : 105000\n"
     ]
    }
   ],
   "source": [
    "print('X_traint : {}'.format(len(X1_train)))\n",
    "print('X_test   : {}'.format(len(X1_test)))\n",
    "print('Total    : {}'.format(len(X1_train) + len(X1_test)))"
   ]
  },
  {
   "cell_type": "markdown",
   "metadata": {},
   "source": [
    "### Use MNB"
   ]
  },
  {
   "cell_type": "code",
   "execution_count": 24,
   "metadata": {},
   "outputs": [
    {
     "data": {
      "text/plain": [
       "Pipeline(memory=None,\n",
       "     steps=[('vect', CountVectorizer(analyzer='word', binary=False, decode_error='strict',\n",
       "        dtype=<class 'numpy.int64'>, encoding='utf-8', input='content',\n",
       "        lowercase=True, max_df=1.0, max_features=None, min_df=1,\n",
       "        ngram_range=(1, 1), preprocessor=None, stop_words=None,\n",
       "        strip...inear_tf=False, use_idf=True)), ('clf', MultinomialNB(alpha=1.0, class_prior=None, fit_prior=True))])"
      ]
     },
     "execution_count": 24,
     "metadata": {},
     "output_type": "execute_result"
    }
   ],
   "source": [
    "nb.fit(X1_train, y1_train)"
   ]
  },
  {
   "cell_type": "markdown",
   "metadata": {},
   "source": [
    "### Score Model MNB"
   ]
  },
  {
   "cell_type": "code",
   "execution_count": 84,
   "metadata": {},
   "outputs": [
    {
     "name": "stdout",
     "output_type": "stream",
     "text": [
      "Test score: 96.67 %\n"
     ]
    }
   ],
   "source": [
    "# Calculate the accuracy score and predict target values\n",
    "score = nb.score(X1_train, y1_train)\n",
    "print(\"Test score: {0:.2f} %\".format(100 * score))"
   ]
  },
  {
   "cell_type": "code",
   "execution_count": 26,
   "metadata": {},
   "outputs": [
    {
     "name": "stdout",
     "output_type": "stream",
     "text": [
      "0.9666984126984127\n"
     ]
    }
   ],
   "source": [
    "print(nb.score(X1_train, y1_train))"
   ]
  },
  {
   "cell_type": "code",
   "execution_count": 28,
   "metadata": {},
   "outputs": [],
   "source": [
    "y_pred = nb.predict(X1_test)"
   ]
  },
  {
   "cell_type": "code",
   "execution_count": 32,
   "metadata": {},
   "outputs": [
    {
     "data": {
      "text/plain": [
       "'news'"
      ]
     },
     "execution_count": 32,
     "metadata": {},
     "output_type": "execute_result"
    }
   ],
   "source": [
    "nb.predict([preprocess_text(new_title, lowercase=True)])[0]"
   ]
  },
  {
   "cell_type": "markdown",
   "metadata": {},
   "source": [
    "## Confusion Matrix MNB"
   ]
  },
  {
   "cell_type": "code",
   "execution_count": 34,
   "metadata": {
    "scrolled": false
   },
   "outputs": [
    {
     "name": "stdout",
     "output_type": "stream",
     "text": [
      "Table Confusion Matrix\n",
      "=========================\n",
      "\n",
      "Accuracy 0.956952380952381\n",
      "=========================\n",
      "\n",
      "               precision    recall  f1-score   support\n",
      "\n",
      "         news       0.92      0.96      0.94      1494\n",
      "       bisnis       0.95      0.98      0.96      1489\n",
      "       sports       0.96      0.93      0.94      1531\n",
      "entertainment       0.93      0.97      0.95      1502\n",
      "        tekno       0.98      0.96      0.97      1515\n",
      "     otomotif       0.99      0.97      0.98      1482\n",
      "       health       0.98      0.93      0.95      1487\n",
      "\n",
      "  avg / total       0.96      0.96      0.96     10500\n",
      "\n"
     ]
    }
   ],
   "source": [
    "print(\"Table Confusion Matrix\")\n",
    "print(\"=========================\\n\")\n",
    "print('Accuracy %s' % accuracy_score(y_pred, y1_test))\n",
    "print('=========================\\n')\n",
    "print(classification_report(y1_test, y_pred,target_names=categories))"
   ]
  },
  {
   "cell_type": "code",
   "execution_count": null,
   "metadata": {},
   "outputs": [],
   "source": []
  },
  {
   "cell_type": "markdown",
   "metadata": {},
   "source": [
    "## Visualization with SNS.Heatmap"
   ]
  },
  {
   "cell_type": "code",
   "execution_count": 45,
   "metadata": {},
   "outputs": [
    {
     "data": {
      "image/png": "[encoded data removed]",
      "text/plain": [
       "<Figure size 720x720 with 2 Axes>"
      ]
     },
     "metadata": {},
     "output_type": "display_data"
    }
   ],
   "source": [
    "mat = confusion_matrix(y1_test, y_pred)\n",
    "f, ax = plt.subplots(figsize=(10, 10))\n",
    "\n",
    "sns.heatmap(mat.T, square=True, annot=True, fmt='d', cbar=True,linewidths=.6, ax=ax,\n",
    "            xticklabels=categories, yticklabels=categories)\n",
    "plt.xlabel('true label')\n",
    "plt.ylabel('predicted label');"
   ]
  },
  {
   "cell_type": "code",
   "execution_count": null,
   "metadata": {},
   "outputs": [],
   "source": []
  },
  {
   "cell_type": "code",
   "execution_count": null,
   "metadata": {},
   "outputs": [],
   "source": []
  },
  {
   "cell_type": "code",
   "execution_count": 54,
   "metadata": {},
   "outputs": [],
   "source": [
    "def get_categoryMNB(text):\n",
    "    result_cleanText = textacy.preprocess_text(text,lowercase=True,no_urls=True,no_numbers=True,no_punct=True)\n",
    "    hasil_prediksi = nb.predict([result_cleanText])\n",
    "    return hasil_prediksi"
   ]
  },
  {
   "cell_type": "code",
   "execution_count": 55,
   "metadata": {},
   "outputs": [],
   "source": [
    "new_title = '''Arifin Ilham Sakit, Ini 7 Tips Bantuan Saat Kerabat Sakit'''"
   ]
  },
  {
   "cell_type": "code",
   "execution_count": null,
   "metadata": {},
   "outputs": [],
   "source": []
  },
  {
   "cell_type": "code",
   "execution_count": null,
   "metadata": {},
   "outputs": [],
   "source": []
  },
  {
   "cell_type": "markdown",
   "metadata": {},
   "source": [
    "## Pengujian"
   ]
  },
  {
   "cell_type": "code",
   "execution_count": 58,
   "metadata": {},
   "outputs": [],
   "source": [
    "from Sastrawi.Stemmer.StemmerFactory import StemmerFactory\n",
    "from textacy.preprocess import preprocess_text\n",
    "from IPython.core.display import HTML\n",
    "from IPython.display import Image\n",
    "from bs4 import BeautifulSoup\n",
    "import requests\n",
    "import id_aldo"
   ]
  },
  {
   "cell_type": "code",
   "execution_count": 59,
   "metadata": {},
   "outputs": [],
   "source": [
    "# create stemmer\n",
    "factory = StemmerFactory()\n",
    "stemmer = factory.create_stemmer()"
   ]
  },
  {
   "cell_type": "code",
   "execution_count": 60,
   "metadata": {},
   "outputs": [],
   "source": [
    "# Load Model id_aldo\n",
    "nlp = id_aldo.load()\n",
    "\n",
    "stopwords = requests.get(\"https://raw.githubusercontent.com/masdevid/ID-Stopwords/master/id.stopwords.02.01.2016.txt\").text.split(\"\\n\")\n"
   ]
  },
  {
   "cell_type": "code",
   "execution_count": 61,
   "metadata": {},
   "outputs": [],
   "source": [
    "class Pengujian():\n",
    "    \n",
    "    def __init__(self):\n",
    "        self\n",
    "        \n",
    "    def nerText(self, text=None):\n",
    "        doc = nlp(text)\n",
    "        count = 0\n",
    "        for ent in doc.ents:\n",
    "            if ent.end <= 5:\n",
    "                count = ent.end_char + 1\n",
    "            else:\n",
    "                count = len(text)\n",
    "\n",
    "        iResult = text[count:].strip()\n",
    "\n",
    "        return iResult\n",
    "        \n",
    "    def tempoArticle(self, link=None):\n",
    "        iData, text_stopword, tempCF = [],[],[]\n",
    "        formatCF = ['url', 'number', 'usd', 'email']\n",
    "        \n",
    "        response = requests.get(link).text\n",
    "        soup = BeautifulSoup(response, \"html5lib\")\n",
    "        title = soup.select_one('article > h1').text.strip()\n",
    "        image = soup.select_one('figure > a')['href']\n",
    "        contents = soup.select('#isi > p')\n",
    "        \n",
    "        for content in contents:\n",
    "            if content.text.strip()[:10] != 'Baca juga:' and content.text.strip()[:5] != 'Baca:':\n",
    "                iData.append(content.text.strip() + '\\n\\n')\n",
    "\n",
    "        articles = ''.join(iData)\n",
    "        format = self.nerText(articles)\n",
    "        caseFolding = preprocess_text(format, fix_unicode=True, lowercase=True, no_urls=True,no_emails=True,\n",
    "                                no_phone_numbers=True,no_numbers=True,no_currency_symbols=True,no_punct=True)\n",
    "        caseFolding = caseFolding.split()\n",
    "        [tempCF.append(cf) for cf in caseFolding if cf not in formatCF]\n",
    "        caseFolding = ' '.join(tempCF)\n",
    "\n",
    "        stopword = caseFolding.split()\n",
    "        [text_stopword.append(st) for st in stopword if st not in stopwords]\n",
    "        stopword = ' '.join(text_stopword)\n",
    "\n",
    "        stemming = stemmer.stem(stopword)\n",
    "\n",
    "        json = {\n",
    "            'title' : title,\n",
    "            'image' : image,\n",
    "            'article' : articles,\n",
    "            'source' : 'Tempo',\n",
    "            'caseFolding' : caseFolding,\n",
    "            'stopword' : stopword,\n",
    "            'stemming' : stemming\n",
    "        }\n",
    "\n",
    "        return json\n",
    "    \n",
    "    def kompasArticle(self, link=None):\n",
    "        iData, text_stopword, tempCF = [],[],[]\n",
    "        formatCF = ['url', 'number', 'usd', 'email']\n",
    "\n",
    "        response = requests.get(link).text\n",
    "        soup = BeautifulSoup(response, \"html5lib\")\n",
    "        # if link.split('.')[0].split('//')[1] == 'money'\n",
    "\n",
    "        title = soup.select_one('.read__title').text.strip()\n",
    "        image = soup.select_one('.photo > img')['data-src']\n",
    "        contents = soup.select('.read__content > p')\n",
    "\n",
    "        for i in range(len(contents)):\n",
    "            if contents[i].text != '':\n",
    "                if (contents[i].text[:9] != 'Baca juga' and contents[i].text[:5] != 'Baca:') \\\n",
    "                        and (contents[i].text[:15] != 'We are thrilled') and (contents[i].text[:6] != 'Flinke') \\\n",
    "                        and (contents[i].text[:18] != 'Baca selengkapnya:') and (contents[i].text[:25]) != 'Baca berita selengkapnya:' \\\n",
    "                        and (contents[i].text[:7]) != 'Sumber:':\n",
    "                    iData.append(contents[i].text  + '\\n\\n')\n",
    "\n",
    "        articles = ''.join(iData)\n",
    "        format = self.nerText(articles)\n",
    "        caseFolding = preprocess_text(format, fix_unicode=True, lowercase=True, no_urls=True,no_emails=True,\n",
    "                                no_phone_numbers=True,no_numbers=True,no_currency_symbols=True,no_punct=True)\n",
    "        caseFolding = caseFolding.split()\n",
    "        [tempCF.append(cf) for cf in caseFolding if cf not in formatCF]\n",
    "        caseFolding = ' '.join(tempCF)\n",
    "\n",
    "        stopword = caseFolding.split()\n",
    "        [text_stopword.append(st) for st in stopword if st not in stopwords]\n",
    "        stopword = ' '.join(text_stopword)\n",
    "\n",
    "        stemming = stemmer.stem(stopword)\n",
    "\n",
    "        json = {\n",
    "            'title' : title,\n",
    "            'image' : image,\n",
    "            'article' : articles,\n",
    "            'source' : 'Kompas',\n",
    "            'caseFolding' : caseFolding,\n",
    "            'stopword' : stopword,\n",
    "            'stemming' : stemming\n",
    "        }\n",
    "\n",
    "        return json\n",
    "    \n",
    "    def testing(self, link=None):\n",
    "        if link.split('.')[1] == 'tempo': result = self.tempoArticle(link)\n",
    "        elif link.split('.')[1] == 'kompas': result = self.kompasArticle(link)\n",
    "                \n",
    "        return result"
   ]
  },
  {
   "cell_type": "code",
   "execution_count": null,
   "metadata": {},
   "outputs": [],
   "source": []
  },
  {
   "cell_type": "markdown",
   "metadata": {},
   "source": [
    "## Pengujian 1"
   ]
  },
  {
   "cell_type": "code",
   "execution_count": 62,
   "metadata": {},
   "outputs": [],
   "source": [
    "uji = Pengujian()"
   ]
  },
  {
   "cell_type": "code",
   "execution_count": 63,
   "metadata": {},
   "outputs": [],
   "source": [
    "url = '''https://cantik.tempo.co/read/1283802/depresi-tak-hanya-pengaruhi-otak-dan-tubuh-tapi-juga-mimpi-buruk'''"
   ]
  },
  {
   "cell_type": "code",
   "execution_count": 64,
   "metadata": {},
   "outputs": [],
   "source": [
    "hasil = uji.testing(url)"
   ]
  },
  {
   "cell_type": "code",
   "execution_count": 67,
   "metadata": {},
   "outputs": [],
   "source": [
    "hasil_prediksi = nb.predict([hasil['stemming']])"
   ]
  },
  {
   "cell_type": "code",
   "execution_count": 68,
   "metadata": {},
   "outputs": [
    {
     "name": "stdout",
     "output_type": "stream",
     "text": [
      "\n",
      "Hasil Pengujian\n",
      "============================\n",
      "Judul Berita : Depresi Tak Hanya Pengaruhi Otak dan Tubuh, Tapi Juga Mimpi Buruk\n",
      "\n",
      "Hasil Kategori \n",
      "============================\n",
      "['health']\n"
     ]
    },
    {
     "data": {
      "text/html": [
       "<img src=\"https://statik.tempo.co/data/2017/05/23/id_609685/609685_620.jpg\" width=\"500\" height=\"500\"/>"
      ],
      "text/plain": [
       "<IPython.core.display.Image object>"
      ]
     },
     "execution_count": 68,
     "metadata": {},
     "output_type": "execute_result"
    }
   ],
   "source": [
    "print()\n",
    "print('Hasil Pengujian')\n",
    "print('============================')\n",
    "print('Judul Berita : ' + hasil['title'] + '\\n')\n",
    "print('Hasil Kategori ')\n",
    "print('============================')\n",
    "print(hasil_prediksi)\n",
    "Image(url= hasil['image'], width=500, height=500)"
   ]
  },
  {
   "cell_type": "code",
   "execution_count": null,
   "metadata": {},
   "outputs": [],
   "source": []
  },
  {
   "cell_type": "markdown",
   "metadata": {},
   "source": [
    "## Pengujian 2"
   ]
  },
  {
   "cell_type": "code",
   "execution_count": 72,
   "metadata": {},
   "outputs": [],
   "source": [
    "def loopTest(url=None):\n",
    "    uji = Pengujian()\n",
    "    hasil = uji.testing(url)\n",
    "    hasil_prediksi = nb.predict([hasil['stemming']])\n",
    "    print()\n",
    "    print('Hasil Pengujian')\n",
    "    print('============================')\n",
    "    print('Judul Berita : ' + hasil['title'] + '\\n')\n",
    "    print('Hasil Kategori ')\n",
    "    print('============================')\n",
    "    print(hasil_prediksi)"
   ]
  },
  {
   "cell_type": "code",
   "execution_count": 71,
   "metadata": {},
   "outputs": [
    {
     "name": "stdout",
     "output_type": "stream",
     "text": [
      " Input URL : https://bisnis.tempo.co/read/1283729/defisit-bpjs-kesehatan-hingga-akhir-tahun-diprediksi-tembus-16-t\n",
      " Input URL : https://bola.tempo.co/read/1283820/hasil-liga-inggris-liverpool-vs-watford-2-0-salah-borong-2-gol\n",
      " Input URL : https://otomotif.tempo.co/read/1283572/skuter-matik-qooder-dibanderol-rp-357-juta-sudah-dipesan-16-unit\n",
      "\n",
      "Hasil Pengujian\n",
      "============================\n",
      "Judul Berita : Defisit BPJS Kesehatan Hingga Akhir Tahun Diprediksi Tembus 16 T\n",
      "\n",
      "Hasil Kategori \n",
      "============================\n",
      "['bisnis']\n",
      "\n",
      "Hasil Pengujian\n",
      "============================\n",
      "Judul Berita : Hasil Liga Inggris: Liverpool vs Watford 2-0, Salah Borong 2 Gol\n",
      "\n",
      "Hasil Kategori \n",
      "============================\n",
      "['sports']\n",
      "\n",
      "Hasil Pengujian\n",
      "============================\n",
      "Judul Berita : Skuter Matik Qooder Dibanderol Rp 357 Juta, Sudah Dipesan 16 Unit\n",
      "\n",
      "Hasil Kategori \n",
      "============================\n",
      "['otomotif']\n"
     ]
    }
   ],
   "source": [
    "listUrl = []\n",
    "for i in range(3):\n",
    "    inputUrl = input(' Input URL : ')\n",
    "    listUrl.append(inputUrl)\n",
    "    \n",
    "for lu in listUrl: loopTest(lu)"
   ]
  },
  {
   "cell_type": "code",
   "execution_count": null,
   "metadata": {
    "scrolled": true
   },
   "outputs": [],
   "source": []
  },
  {
   "cell_type": "code",
   "execution_count": null,
   "metadata": {},
   "outputs": [],
   "source": []
  },
  {
   "cell_type": "code",
   "execution_count": null,
   "metadata": {},
   "outputs": [],
   "source": []
  },
  {
   "cell_type": "markdown",
   "metadata": {},
   "source": [
    "## Save Model Naive Bayes MultinomialNB"
   ]
  },
  {
   "cell_type": "code",
   "execution_count": 37,
   "metadata": {},
   "outputs": [],
   "source": [
    "import pickle"
   ]
  },
  {
   "cell_type": "code",
   "execution_count": 50,
   "metadata": {},
   "outputs": [],
   "source": [
    "pkl_filename = 'modelMNB.pkl'\n",
    "with open(pkl_filename, 'wb') as file:\n",
    "    pickle.dump(modelMNB, file)"
   ]
  },
  {
   "cell_type": "code",
   "execution_count": 51,
   "metadata": {},
   "outputs": [],
   "source": [
    "# Load from file\n",
    "with open(pkl_filename, 'rb') as file:\n",
    "    pickle_model = pickle.load(file)"
   ]
  },
  {
   "cell_type": "code",
   "execution_count": 54,
   "metadata": {},
   "outputs": [
    {
     "name": "stdout",
     "output_type": "stream",
     "text": [
      "Test score: 91.58 %\n"
     ]
    }
   ],
   "source": [
    "# Calculate the accuracy score and predict target values\n",
    "score = pickle_model.score(X1, y_train)\n",
    "print(\"Test score: {0:.2f} %\".format(100 * score))\n",
    "Ypredict = pickle_model.predict(X1)"
   ]
  },
  {
   "cell_type": "code",
   "execution_count": 55,
   "metadata": {},
   "outputs": [],
   "source": [
    "def get_categoryMNB(text):\n",
    "    result_cleanText = textacy.preprocess_text(text,lowercase=True,no_urls=True,no_numbers=True,no_punct=True)\n",
    "    hasil_prediksi = pickle_model.predict(tfidf.transform([result_cleanText]))\n",
    "    return hasil_prediksi"
   ]
  },
  {
   "cell_type": "code",
   "execution_count": 56,
   "metadata": {},
   "outputs": [],
   "source": [
    "title = '''Waspadalah, Stroke Kini Sudah Menyerang Orang Usia 30-an'''"
   ]
  },
  {
   "cell_type": "code",
   "execution_count": 59,
   "metadata": {},
   "outputs": [
    {
     "name": "stdout",
     "output_type": "stream",
     "text": [
      "health\n"
     ]
    }
   ],
   "source": [
    "print(get_categoryMNB(title)[0])"
   ]
  },
  {
   "cell_type": "code",
   "execution_count": null,
   "metadata": {},
   "outputs": [],
   "source": []
  },
  {
   "cell_type": "code",
   "execution_count": null,
   "metadata": {},
   "outputs": [],
   "source": []
  },
  {
   "cell_type": "code",
   "execution_count": null,
   "metadata": {},
   "outputs": [],
   "source": []
  },
  {
   "cell_type": "code",
   "execution_count": null,
   "metadata": {},
   "outputs": [],
   "source": []
  },
  {
   "cell_type": "markdown",
   "metadata": {},
   "source": [
    "## Save Model with Joblib"
   ]
  },
  {
   "cell_type": "code",
   "execution_count": 47,
   "metadata": {},
   "outputs": [],
   "source": [
    "from sklearn.externals import joblib"
   ]
  },
  {
   "cell_type": "code",
   "execution_count": 50,
   "metadata": {},
   "outputs": [
    {
     "data": {
      "text/plain": [
       "['modelMNB']"
      ]
     },
     "execution_count": 50,
     "metadata": {},
     "output_type": "execute_result"
    }
   ],
   "source": [
    "joblib.dump(nb, 'modelMNB')"
   ]
  },
  {
   "cell_type": "code",
   "execution_count": 51,
   "metadata": {},
   "outputs": [],
   "source": [
    "mj = joblib.load('modelMNB')"
   ]
  },
  {
   "cell_type": "code",
   "execution_count": 52,
   "metadata": {},
   "outputs": [
    {
     "data": {
      "text/plain": [
       "0.9666984126984127"
      ]
     },
     "execution_count": 52,
     "metadata": {},
     "output_type": "execute_result"
    }
   ],
   "source": [
    "mj.score(X1_train, y1_train)"
   ]
  },
  {
   "cell_type": "code",
   "execution_count": 73,
   "metadata": {},
   "outputs": [
    {
     "name": "stdout",
     "output_type": "stream",
     "text": [
      "Test score: 96.67 %\n"
     ]
    }
   ],
   "source": [
    "# Calculate the accuracy score and predict target values\n",
    "score = mj.score(X1_train, y1_train)\n",
    "print(\"Test score: {0:.2f} %\".format(100 * score))"
   ]
  },
  {
   "cell_type": "code",
   "execution_count": null,
   "metadata": {},
   "outputs": [],
   "source": []
  },
  {
   "cell_type": "code",
   "execution_count": 30,
   "metadata": {},
   "outputs": [],
   "source": [
    "new_title = 'Novel Baswedan: Ini Janji Kelima Jokowi, Saya Ngomong Apa Lagi?'"
   ]
  },
  {
   "cell_type": "code",
   "execution_count": 42,
   "metadata": {},
   "outputs": [],
   "source": [
    "def get_categoryMNB(text):\n",
    "    result_cleanText = textacy.preprocess_text(text,lowercase=True,no_urls=True,no_numbers=True,no_punct=True)\n",
    "    hasil_prediksi = mj.predict(tfidf.transform([result_cleanText]))\n",
    "    return hasil_prediksi"
   ]
  },
  {
   "cell_type": "code",
   "execution_count": 46,
   "metadata": {},
   "outputs": [
    {
     "data": {
      "text/plain": [
       "'news'"
      ]
     },
     "execution_count": 46,
     "metadata": {},
     "output_type": "execute_result"
    }
   ],
   "source": [
    "clean = preprocess_text(new_title, lowercase=True)\n",
    "result = mj.predict([clean])\n",
    "result[0]"
   ]
  },
  {
   "cell_type": "code",
   "execution_count": null,
   "metadata": {},
   "outputs": [],
   "source": []
  },
  {
   "cell_type": "code",
   "execution_count": null,
   "metadata": {},
   "outputs": [],
   "source": []
  },
  {
   "cell_type": "markdown",
   "metadata": {},
   "source": [
    "## Testing"
   ]
  },
  {
   "cell_type": "code",
   "execution_count": 75,
   "metadata": {},
   "outputs": [],
   "source": [
    "import requests\n",
    "from bs4 import BeautifulSoup"
   ]
  },
  {
   "cell_type": "code",
   "execution_count": 76,
   "metadata": {},
   "outputs": [],
   "source": [
    "url = '''https://newsapi.org/v2/top-headlines?country=id&apiKey=3bb4bf323f7f43d3aaafb6bd5cd26c92'''"
   ]
  },
  {
   "cell_type": "code",
   "execution_count": 77,
   "metadata": {},
   "outputs": [],
   "source": [
    "response = requests.get(url).json()"
   ]
  },
  {
   "cell_type": "code",
   "execution_count": 78,
   "metadata": {},
   "outputs": [
    {
     "data": {
      "text/plain": [
       "{'status': 'ok',\n",
       " 'totalResults': 38,\n",
       " 'articles': [{'source': {'id': None, 'name': 'Bolasport.com'},\n",
       "   'author': 'Lariza Oky Adisty',\n",
       "   'title': 'Rekap BWF World Tour Finals 2019 - Dua Wakil Indonesia ke Final - Bolasport.com',\n",
       "   'description': 'Dua wakil Indonesia melaju ke babak final BWF World Tour Finals 2019 dari nomor tunggal putra dan ganda putra.',\n",
       "   'url': 'https://www.bolasport.com/read/311953883/rekap-bwf-world-tour-finals-2019-dua-wakil-indonesia-ke-final',\n",
       "   'urlToImage': 'https://asset-a.grid.id/crop/0x0:0x0/700x465/photo/2019/12/14/3544551964.jpeg',\n",
       "   'publishedAt': '2019-12-14T16:05:00Z',\n",
       "   'content': 'BOLASPORT.COM - Rangkaian laga semifinal BWF World Tour Finals 2019 yang berlangsung di Tianhe Gymnasium, Guangzhou, China, Sabtu (14/12/2019), telah berakhir dan\\xa0Indonesia berhasil menempatkan dua wakil ke babak final.\\r\\nSkuad\\xa0Merah Putih menjaga asa meraih g… [+843 chars]'},\n",
       "  {'source': {'id': None, 'name': 'Cianjurtoday.com'},\n",
       "   'author': 'cianjurtoday.com',\n",
       "   'title': 'X Series, Xbox Rasa PC Gaming - Cianjur Today',\n",
       "   'description': 'CIANJURTODAY.COM - Microsoft merilis series terbaru untuk Xbox yaitu Series X. Konsol yang satu bentuknya lebih mirip PC ketimbang konsol pada umumnya. Series X dipertontonkan di ajang Game Award. Mic',\n",
       "   'url': 'https://cianjurtoday.com/x-series-xbox-rasa-pc-gaming/',\n",
       "   'urlToImage': 'https://i0.wp.com/cianjurtoday.com/wp-content/uploads/2019/12/xbox-series-X-.jpg?fit=745%2C898&ssl=1',\n",
       "   'publishedAt': '2019-12-14T15:25:23Z',\n",
       "   'content': 'CIANJURTODAY.COM – Microsoft merilis series terbaru untuk Xbox yaitu Series X. Konsol yang satu bentuknya lebih mirip PC ketimbang konsol pada umumnya.\\r\\nSeries X dipertontonkan di ajang Game Award. Microsoft pun menayangkan video trailer yang menampilkan desa… [+1347 chars]'},\n",
       "  {'source': {'id': None, 'name': 'Detik.com'},\n",
       "   'author': 'Sylke Febrina Laucereno',\n",
       "   'title': 'Penting! Mau Jajal Tol Japek Layang Baca Dulu 3 Hal Ini - detikFinance',\n",
       "   'description': 'Bagi yang penasaran mau menjajal tol Japek layang Minggu (15/12), ada tiga hal penting yang perlu diperhatikan. Baca di sini selengkapnya.',\n",
       "   'url': 'https://finance.detik.com/infrastruktur/d-4823048/penting-mau-jajal-tol-japek-layang-baca-dulu-3-hal-ini',\n",
       "   'urlToImage': 'https://awsimages.detik.net.id/api/wm/2019/12/04/0233df12-b234-4487-8e5f-ad06c7a03b15_169.jpeg?wid=54&w=650&v=1&t=jpeg',\n",
       "   'publishedAt': '2019-12-14T15:13:28Z',\n",
       "   'content': 'Jakarta - Jalan tol Jakarta-Cikampek (Japek) layang mulai dibuka besok, Minggu (15/12/2019) mulai pukul 06.00 WIB. Tol layang sepanjang 36,4, sekaligus yang terpanjang di Indonesia ini dibuka gratis hingga akhir liburan Natal dan Tahun Baru.Bagi Anda yang pen… [+1616 chars]'},\n",
       "  {'source': {'id': None, 'name': 'Okezone.com'},\n",
       "   'author': 'Wikanto Arungbudoyo',\n",
       "   'title': 'Dwigol Salah Antar Liverpool Benamkan Watford di Dasar Klasemen - Okezone',\n",
       "   'description': 'Dwigol Mohamed Salah membuat Watford kian terbenam di dasar klasemen Liga Inggris 2019-2020.',\n",
       "   'url': 'https://bola.okezone.com/read/2019/12/14/45/2141995/dwigol-salah-antar-liverpool-benamkan-watford-di-dasar-klasemen',\n",
       "   'urlToImage': 'https://img.okezone.com/content/2019/12/14/45/2141995/dwigol-salah-antar-liverpool-benamkan-watford-di-dasar-klasemen-7WB53msRkH.jpg',\n",
       "   'publishedAt': '2019-12-14T14:30:59Z',\n",
       "   'content': 'LIVERPOOL Liverpool membuka pekan ke-17 Liga Inggris 2019-2020 dengan hasil positif. Anak asuh Jurgen Klopp berhasil menumbangkan juru kunci klasemen, Watford, dengan skor 2-0 di Stadion Anfield, Sabtu (14/12/2019) malam WIB. Brace Mohamed Salah memastikan ra… [+2484 chars]'},\n",
       "  {'source': {'id': None, 'name': 'Tempo.co'},\n",
       "   'author': 'Muhammad Hendartyo',\n",
       "   'title': 'Tanggapi Edhy, Susi: Apa Kita Harus Pikirkan Petambak Vietnam? - Cek Fakta Tempo',\n",
       "   'description': 'Pernyataan Susi menanggapi Menteri Edhy Prabowo yang mengambil contoh budidaya lobster di Vietnam.',\n",
       "   'url': 'https://bisnis.tempo.co/read/1283818/tanggapi-edhy-susi-apa-kita-harus-pikirkan-petambak-vietnam',\n",
       "   'urlToImage': 'https://statik.tempo.co/data/2019/10/23/id_883135/883135_720.jpg',\n",
       "   'publishedAt': '2019-12-14T14:25:07Z',\n",
       "   'content': None},\n",
       "  {'source': {'id': None, 'name': 'Merdeka.com'},\n",
       "   'author': None,\n",
       "   'title': 'Pre Order Kedua Samsung Galaxy Fold Dibuka Minggu Besok | merdeka.com - merdeka.com',\n",
       "   'description': 'Pre Order Kedua Samsung Galaxy Fold Dibuka Minggu Besok',\n",
       "   'url': 'https://www.merdeka.com/teknologi/pre-order-kedua-samsung-galaxy-fold-dibuka-minggu-besok.html',\n",
       "   'urlToImage': 'https://cdns.klimg.com/merdeka.com/i/w/news/2019/12/14/1133532/540x270/pre-order-kedua-samsung-galaxy-fold-dibuka-minggu-besok.jpg',\n",
       "   'publishedAt': '2019-12-14T14:23:00Z',\n",
       "   'content': 'Merdeka.com - Samsung Electronics Indonesia akan membuka kembali pre order Samsung Galaxy Fold pada hari Minggu, 15 Desember 2019, jam 06:00 WIB melalui www.galaxylaunchpack.comwww.galaxylaunchpack.com.\\r\\nPada pembelian pre order, konsumen dapat memperoleh ber… [+2948 chars]'},\n",
       "  {'source': {'id': None, 'name': 'Jawapos.com'},\n",
       "   'author': 'JawaPos.com',\n",
       "   'title': 'Menang 5 Kali Beruntun, Endo: Marcus/Kevin Tetap Terbaik di Dunia - Jawa Pos',\n",
       "   'description': 'Ganda putra Jepang, Hiroyuki Endo/Yuta Watanabe menjadi momok bagi ganda nomor satu dunia Marcus Fernaldi Gideon/Kevin Sanjaya Sukamuljo.',\n",
       "   'url': 'https://www.jawapos.com/sports/14/12/2019/menang-5-kali-beruntun-endo-marcus-kevin-tetap-terbaik-di-dunia/',\n",
       "   'urlToImage': 'https://cdn-asset.jawapos.com/wp-content/uploads/2019/12/WhatsApp-Image-2019-12-14-at-9.02.04-PM-640x480.jpeg',\n",
       "   'publishedAt': '2019-12-14T14:17:06Z',\n",
       "   'content': 'JawaPos.com-Ganda putra Jepang, Hiroyuki Endo/Yuta Watanabe menjadi hantu menakutkan bagi ganda nomor satu dunia Marcus Fernaldi Gideon/Kevin Sanjaya Sukamuljo.\\r\\nPada babak semifinal BWF World Tour Finals 2019 di Guangzhou, langkah Marcus/Kevin kembali dijega… [+2424 chars]'},\n",
       "  {'source': {'id': None, 'name': 'Detik.com'},\n",
       "   'author': 'Idham Kholid',\n",
       "   'title': 'Muhammadiyah Sangkal Wall Street Journal soal Muslim Uighur - detikNews',\n",
       "   'description': 'Muhammadiyah menepis tudingan yang menyebut pihaknya dibayar China agar tidak mengkritik soal muslim Uighur. Muhammadiyah menegaskan tuduhan itu tidak benar.',\n",
       "   'url': 'https://news.detik.com/berita/d-4823024/muhammadiyah-sangkal-wall-street-journal-soal-muslim-uighur',\n",
       "   'urlToImage': 'https://awsimages.detik.net.id/api/wm/2019/06/17/e3eb4972-abfb-47ce-824a-c84da08526c7_169.jpeg?wid=54&w=650&v=1&t=jpeg',\n",
       "   'publishedAt': '2019-12-14T14:16:15Z',\n",
       "   'content': 'Jakarta - Pengurus Pusat (PP) Muhammadiyah menepis tudingan yang menyebut pihaknya dibayar China agar tidak mengkritik soal kondisi muslim Uighur. Muhammadiyah menegaskan tuduhan itu tidak benar.\"Muhammadiyah tidak boleh melakukan kegiatan hanya karena ada da… [+1984 chars]'},\n",
       "  {'source': {'id': None, 'name': 'Kompas.com'},\n",
       "   'author': 'Sari Hardiyanto',\n",
       "   'title': 'Simak, Berikut Link Hasil Seleksi Administrasi CPNS Polri 2019 - Kompas.com - KOMPAS.com',\n",
       "   'description': 'Kepolisian Negara Republik Indonesia (Polri) telah mengumumkan hasil seleksi administrasi penerimaan calon pegawai negeri sipil (CPNS) 2019. Halaman all',\n",
       "   'url': 'https://www.kompas.com/tren/read/2019/12/14/203500665/simak-berikut-link-hasil-seleksi-administrasi-cpns-polri-2019?page=all',\n",
       "   'urlToImage': 'https://asset.kompas.com/crops/sQMZRLaIdwz3-2RKgIw3c_ioaU4=/103x0:1183x720/780x390/filters:watermark(data/photo/2019/08/13/5d528bf23b805.png,0,-0,1)/data/photo/2019/12/14/5df4d1406851d.jpg',\n",
       "   'publishedAt': '2019-12-14T13:35:00Z',\n",
       "   'content': 'KOMPAS.com - Kepolisian Negara Republik Indonesia ( Polri) telah mengumumkan hasil seleksi administrasi penerimaan calon pegawai negeri sipil (CPNS) 2019.\\r\\nBerdasarkan Pengumuman Nomor: Peng/12/XI/KEP./2019 tentang Kelulusan Seleksi Administrasi Pengadaan Cal… [+3061 chars]'},\n",
       "  {'source': {'id': None, 'name': 'Cnnindonesia.com'},\n",
       "   'author': None,\n",
       "   'title': 'Kapolda Sebut Hakim Jamaluddin Korban Pembunuhan Berencana - CNN Indonesia',\n",
       "   'description': 'Kapolda Sumatera Utara Irjen Pol. Agus Andrianto mengatakan pembunuhan terhadap Hakim Pengadilan Negeri Medan, Jamaluddin dilakukan dengan terencana.',\n",
       "   'url': 'https://www.cnnindonesia.com/nasional/20180117134429-12-269587/kapolda-sebut-hakim-jamaluddin-korban-pembunuhan-berencana',\n",
       "   'urlToImage': 'https://awsimages.detik.net.id/visual/2019/11/30/3cfe2741-6630-4231-bcff-4bad42d8dd59_169.jpeg?w=650',\n",
       "   'publishedAt': '2019-12-14T12:40:53Z',\n",
       "   'content': 'Medan, CNN Indonesia -- Kapolda Sumut, Irjen Pol Agus Andrianto, mengatakan polisi masih mendalami kematian Hakim yang juga Humas Pengadilan Negeri Medan, Jamaluddin. Namun diduga kuat Jamaluddin merupakan korban pembunuhan berencana.\"Pembunuhan berencana, su… [+1209 chars]'},\n",
       "  {'source': {'id': None, 'name': 'Bisnis.com'},\n",
       "   'author': 'Reni Lestari',\n",
       "   'title': 'Ingin Hindari Holiday Blues? Jauhi Makanan Manis - Bisnis.com',\n",
       "   'description': 'Sebuah studi baru dari tim psikolog klinis University of Kansas menunjukkan bahwa makan gula tambahan dapat memicu depresi pascaliburan alias holiday blues.',\n",
       "   'url': 'https://lifestyle.bisnis.com/read/20191214/106/1181404/ingin-hindari-holiday-blues-jauhi-makanan-manis',\n",
       "   'urlToImage': 'https://cdn-image.bisnis.com/posts/2019/12/14/1181404/bublesah.jpg',\n",
       "   'publishedAt': '2019-12-14T12:16:35Z',\n",
       "   'content': 'Bisnis.com, JAKARTA - Sebuah studi baru dari tim psikolog klinis University of Kansas menunjukkan bahwa makan gula tambahan dapat memicu depresipascaliburan alias holiday blues.\\r\\nMakanan manis dapat memicu proses metabolisme, peradangan, dan neurobiologis yan… [+5140 chars]'},\n",
       "  {'source': {'id': None, 'name': 'Cnbcindonesia.com'},\n",
       "   'author': 'CNBC Indonesia',\n",
       "   'title': 'Besok Ada EXO di HUT Transmedia, Tiket Masih Bisa Dibeli Lho! - CNBC Indonesia',\n",
       "   'description': '<br />Bersamaan perayaan ulang tahun tersebut, Trans sudah menyiapkan berbagai kejutan yang sayang jika dilewatkan.',\n",
       "   'url': 'https://www.cnbcindonesia.com/lifestyle/20191214184438-33-123142/besok-ada-exo-di-hut-transmedia-tiket-masih-bisa-dibeli-lho',\n",
       "   'urlToImage': 'https://awsimages.detik.net.id/visual/2019/12/14/4894102a-06a3-41b3-af42-5a7932e803dd_169.jpeg?w=650',\n",
       "   'publishedAt': '2019-12-14T11:56:55Z',\n",
       "   'content': 'Jakarta, CNBC Indonesia - Kemeriahan HUT Transmedia ke-18 puncaknya akan digelar besok, Minggu (15/12/2019). Puncak acara akan menampilkan boyband asal Korea Selatan lainnya, yaitu EXO dan tiket masih bisa dibeli sampai 15 Desember pukul 19.00 WIB.Bersamaan p… [+1813 chars]'},\n",
       "  {'source': {'id': None, 'name': 'Youtube.com'},\n",
       "   'author': None,\n",
       "   'title': 'Kuis Ala Erick Thohir: Minta Milenial Sebut Perusahaan BUMN - KOMPASTV',\n",
       "   'description': 'Enjoy the videos and music you love, upload original content, and share it all with friends, family, and the world on YouTube.',\n",
       "   'url': 'https://www.youtube.com/watch?v=9_mqWRpbsrw',\n",
       "   'urlToImage': None,\n",
       "   'publishedAt': '2019-12-14T11:52:32Z',\n",
       "   'content': '[[getSimpleString(data.title)]]\\r\\n[[getSimpleString(data.description)]]\\r\\n[[getSimpleString(data.videoCountText)]]'},\n",
       "  {'source': {'id': None, 'name': 'Tempo.co'},\n",
       "   'author': 'Sehatq.com',\n",
       "   'title': 'Mengenal 2 Jenis Operasi Vagina dan Perubahan yang Dihadapi - Tempo',\n",
       "   'description': 'Semua pertimbangan perlu diperhitungkan sebelum menjalani operasi vagina.',\n",
       "   'url': 'https://cantik.tempo.co/read/1283740/mengenal-2-jenis-operasi-vagina-dan-perubahan-yang-dihadapi',\n",
       "   'urlToImage': 'https://statik.tempo.co/data/2017/11/18/id_663708/663708_720.jpg',\n",
       "   'publishedAt': '2019-12-14T11:35:00Z',\n",
       "   'content': None},\n",
       "  {'source': {'id': None, 'name': 'Kabar.news'},\n",
       "   'author': 'arya',\n",
       "   'title': 'Mahasiswa UIN Alauddin Dibunuh Pacarnya, Wajah Ditutup Bantal Lalu Digorok - Kabar News',\n",
       "   'description': 'Wajahnya pucat di TKP',\n",
       "   'url': 'https://kabar.news/mahasiswa-uin-alauddin-dibunuh-pacarnya-wajah-ditutup-bantal-lalu-digorok',\n",
       "   'urlToImage': 'http://kabar.news/sites/default/files/articles/WhatsApp%20Image%202019-12-14%20at%2016.31.55.jpg',\n",
       "   'publishedAt': '2019-12-14T11:11:08Z',\n",
       "   'content': 'Polisi melakukan olah TKP di kamar tempat jasad mahasiswa UIN Alauddin Makassar ditemukan, Sabtu (14/12/2019). (KABAR.NEWS/Reza Rivaldy)\\r\\nKABAR.NEWS, Makassar - Mahasiswi UIN Alauddin Makassar bernama Asmaul Husna (22) yang ditemukan tewas di rumah kerabatnya… [+1755 chars]'},\n",
       "  {'source': {'id': None, 'name': 'Suara.com'},\n",
       "   'author': 'RR Ukirsari Manggalani',\n",
       "   'title': 'Catat, WhatsApp Tak Bisa Digunakan Lagi di Ponsel Android Jadul - Suara.com',\n",
       "   'description': 'Bagi pengguna Android dengan versi ini, atau lebih lama, perhatikan waktu berakhirnya support WhatsApp.',\n",
       "   'url': 'https://www.suara.com/tekno/2019/12/14/180000/catat-whatsapp-tak-bisa-digunakan-lagi-di-ponsel-android-jadul',\n",
       "   'urlToImage': 'https://media.suara.com/pictures/653x366/2019/11/27/45207-ilustrasi-pesan-di-whatsapp.jpg',\n",
       "   'publishedAt': '2019-12-14T11:00:00Z',\n",
       "   'content': 'Suara.com - WhatsApp adalah salah satu aplikasi perpesanan paling populer di dunia. Jutaan orang di seluruh dunia menggunakannya setiap hari. Namun menurut halaman FAQ yang telah diperbarui, WhatsApp akan berhenti memberikan support kepada beberapa perangkat … [+1089 chars]'},\n",
       "  {'source': {'id': None, 'name': 'Harapanrakyat.com'},\n",
       "   'author': None,\n",
       "   'title': 'Hujan Meteor Geminid, Puncaknya Dapat Disaksikan Malam Ini - Harapan Rakyat',\n",
       "   'description': 'Hujan meteor Geminid puncaknya terjadi pada hari Jumat dan Sabtu tanggal 13 dan 14 Desember 2019. Hal ini merupakan fenomena langit terindah',\n",
       "   'url': 'https://www.harapanrakyat.com/2019/12/hujan-meteor-geminid/',\n",
       "   'urlToImage': 'https://www.harapanrakyat.com/wp-content/uploads/2019/12/Hujan-Meteor-Geminid.jpg',\n",
       "   'publishedAt': '2019-12-14T10:56:28Z',\n",
       "   'content': 'Hujan meteor Geminid puncaknya terjadi pada hari Jumat dan Sabtu tanggal 13 dan 14 Desember 2019. Hal ini merupakan fenomena langit terindah tahun ini.\\r\\nAkan ada 120 meteor tiap jamnya\\r\\nyang akan menghiasi suasana langit malam. Dengan catatan, kondisi langit … [+4190 chars]'},\n",
       "  {'source': {'id': None, 'name': 'Suara.com'},\n",
       "   'author': 'Reza Gunadha',\n",
       "   'title': 'Pedangdut Pemeran Video Viral Mandi di Atas Motor Ngaku Tak Salah - Suara.com',\n",
       "   'description': \"'Jadi, biasa aja ya. Kalian yang mau kepo bisa kepo, kalian yang mau tanya, kak emang itu kakak ya, iya emang itu aku. Terus kalau aku kenapa? Aku enggak ngerugiin kamu kan?\",\n",
       "   'url': 'https://jatim.suara.com/read/2019/12/14/174047/pedangdut-pemeran-video-viral-mandi-di-atas-motor-ngaku-tak-salah',\n",
       "   'urlToImage': 'https://media.suara.com/pictures/653x366/2019/12/14/43766-mandi-di-atas-motor.jpg',\n",
       "   'publishedAt': '2019-12-14T10:40:00Z',\n",
       "   'content': 'SuaraJatim.id - Satlantas Polres Mojokerto kembali memanggil dua perempuan pemeran video viral mandi di atas sepeda motor, yakni IC dan AA.\\r\\nKakak beradik warga Kecamatan Pungging, Mojokerto, itu kembali dipanggil untuk dimintakan keterangan menyusul unggahan… [+2670 chars]'},\n",
       "  {'source': {'id': None, 'name': 'Kompas.com'},\n",
       "   'author': 'Kistyarini',\n",
       "   'title': 'Vidi Aldiano Berkabar, Doa dan Ucapan Syukur Banjiri Instagram-nya - Kompas.com - KOMPAS.com',\n",
       "   'description': 'Para artis memenuhi akun Instagram Vidi Aldiano dengan doa dan ucapan syukur setelah penyanyi itu menjalani operasi kanker ginjal. Halaman all',\n",
       "   'url': 'https://www.kompas.com/hype/read/2019/12/14/170914366/vidi-aldiano-berkabar-doa-dan-ucapan-syukur-banjiri-instagram-nya?page=all',\n",
       "   'urlToImage': 'https://asset.kompas.com/crops/KHJoFxHjgigOmsSGimZCqhFVD2c=/0x0:1000x667/780x390/filters:watermark(data/photo/2019/11/21/5dd5f6d13865f.png,0,-0,1)/data/photo/2018/09/25/3249450382.jpg',\n",
       "   'publishedAt': '2019-12-14T10:09:00Z',\n",
       "   'content': 'JAKARTA, KOMPAS.com - Ucapan penyemangat dan doa memenuhi akun Instagram Vidi Aldiano, saat dia mengabarkan kondisi terbarunya.\\r\\nMusisi dan produser musik Maia Estianty mendoakan agar Vidi segera pulih dari sakitnya.\\r\\n“Get well soon Bro,” tulis Maia mengoment… [+2330 chars]'},\n",
       "  {'source': {'id': None, 'name': 'Detik.com'},\n",
       "   'author': 'Luthfi Anshori',\n",
       "   'title': 'Khusus Grab, Hyundai Belum Jual Umum Mobil Listrik Ioniq Sekarang - Detikcom',\n",
       "   'description': 'Grab Indonesia sudah menjalin kerjasama dengan Hyundai, untuk bisa menjadikan mobil istrik mereka Ioniq sebagai armada Grab untuk menjadi taksi online.',\n",
       "   'url': 'https://oto.detik.com/mobil/d-4822765/khusus-grab-hyundai-belum-jual-umum-mobil-listrik-ioniq-sekarang',\n",
       "   'urlToImage': 'https://awsimages.detik.net.id/api/wm/2016/11/17/a96eb3eb-50af-481b-9697-29fc2aa38fdd_169.jpg?wid=54&w=650&v=1&t=jpeg',\n",
       "   'publishedAt': '2019-12-14T09:29:54Z',\n",
       "   'content': 'Jakarta - Grab Indonesia sudah menjalin kerjasama dengan Hyundai, untuk bisa menjadikan mobil listrik mereka Ioniq sebagai armada Grab untuk menjadi taksi online. Hyundai pun pastikan saat ini belum ingin menjual Ioniq secara umum.Seperti yang disampaikan Pre… [+992 chars]'}]}"
      ]
     },
     "execution_count": 78,
     "metadata": {},
     "output_type": "execute_result"
    }
   ],
   "source": [
    "response"
   ]
  },
  {
   "cell_type": "code",
   "execution_count": 79,
   "metadata": {
    "scrolled": true
   },
   "outputs": [
    {
     "name": "stdout",
     "output_type": "stream",
     "text": [
      "{'id': None, 'name': 'Bolasport.com'}\n",
      "{'id': None, 'name': 'Cianjurtoday.com'}\n",
      "{'id': None, 'name': 'Detik.com'}\n",
      "{'id': None, 'name': 'Okezone.com'}\n",
      "{'id': None, 'name': 'Tempo.co'}\n",
      "{'id': None, 'name': 'Merdeka.com'}\n",
      "{'id': None, 'name': 'Jawapos.com'}\n",
      "{'id': None, 'name': 'Detik.com'}\n",
      "{'id': None, 'name': 'Kompas.com'}\n",
      "{'id': None, 'name': 'Cnnindonesia.com'}\n",
      "{'id': None, 'name': 'Bisnis.com'}\n",
      "{'id': None, 'name': 'Cnbcindonesia.com'}\n",
      "{'id': None, 'name': 'Youtube.com'}\n",
      "{'id': None, 'name': 'Tempo.co'}\n",
      "{'id': None, 'name': 'Kabar.news'}\n",
      "{'id': None, 'name': 'Suara.com'}\n",
      "{'id': None, 'name': 'Harapanrakyat.com'}\n",
      "{'id': None, 'name': 'Suara.com'}\n",
      "{'id': None, 'name': 'Kompas.com'}\n",
      "{'id': None, 'name': 'Detik.com'}\n"
     ]
    }
   ],
   "source": [
    "temp = []\n",
    "for r in response['articles']:\n",
    "    print(r['source'])\n",
    "    temp.append(r)"
   ]
  },
  {
   "cell_type": "code",
   "execution_count": 80,
   "metadata": {},
   "outputs": [
    {
     "data": {
      "text/plain": [
       "[{'source': {'id': None, 'name': 'Bolasport.com'},\n",
       "  'author': 'Lariza Oky Adisty',\n",
       "  'title': 'Rekap BWF World Tour Finals 2019 - Dua Wakil Indonesia ke Final - Bolasport.com',\n",
       "  'description': 'Dua wakil Indonesia melaju ke babak final BWF World Tour Finals 2019 dari nomor tunggal putra dan ganda putra.',\n",
       "  'url': 'https://www.bolasport.com/read/311953883/rekap-bwf-world-tour-finals-2019-dua-wakil-indonesia-ke-final',\n",
       "  'urlToImage': 'https://asset-a.grid.id/crop/0x0:0x0/700x465/photo/2019/12/14/3544551964.jpeg',\n",
       "  'publishedAt': '2019-12-14T16:05:00Z',\n",
       "  'content': 'BOLASPORT.COM - Rangkaian laga semifinal BWF World Tour Finals 2019 yang berlangsung di Tianhe Gymnasium, Guangzhou, China, Sabtu (14/12/2019), telah berakhir dan\\xa0Indonesia berhasil menempatkan dua wakil ke babak final.\\r\\nSkuad\\xa0Merah Putih menjaga asa meraih g… [+843 chars]'},\n",
       " {'source': {'id': None, 'name': 'Cianjurtoday.com'},\n",
       "  'author': 'cianjurtoday.com',\n",
       "  'title': 'X Series, Xbox Rasa PC Gaming - Cianjur Today',\n",
       "  'description': 'CIANJURTODAY.COM - Microsoft merilis series terbaru untuk Xbox yaitu Series X. Konsol yang satu bentuknya lebih mirip PC ketimbang konsol pada umumnya. Series X dipertontonkan di ajang Game Award. Mic',\n",
       "  'url': 'https://cianjurtoday.com/x-series-xbox-rasa-pc-gaming/',\n",
       "  'urlToImage': 'https://i0.wp.com/cianjurtoday.com/wp-content/uploads/2019/12/xbox-series-X-.jpg?fit=745%2C898&ssl=1',\n",
       "  'publishedAt': '2019-12-14T15:25:23Z',\n",
       "  'content': 'CIANJURTODAY.COM – Microsoft merilis series terbaru untuk Xbox yaitu Series X. Konsol yang satu bentuknya lebih mirip PC ketimbang konsol pada umumnya.\\r\\nSeries X dipertontonkan di ajang Game Award. Microsoft pun menayangkan video trailer yang menampilkan desa… [+1347 chars]'},\n",
       " {'source': {'id': None, 'name': 'Detik.com'},\n",
       "  'author': 'Sylke Febrina Laucereno',\n",
       "  'title': 'Penting! Mau Jajal Tol Japek Layang Baca Dulu 3 Hal Ini - detikFinance',\n",
       "  'description': 'Bagi yang penasaran mau menjajal tol Japek layang Minggu (15/12), ada tiga hal penting yang perlu diperhatikan. Baca di sini selengkapnya.',\n",
       "  'url': 'https://finance.detik.com/infrastruktur/d-4823048/penting-mau-jajal-tol-japek-layang-baca-dulu-3-hal-ini',\n",
       "  'urlToImage': 'https://awsimages.detik.net.id/api/wm/2019/12/04/0233df12-b234-4487-8e5f-ad06c7a03b15_169.jpeg?wid=54&w=650&v=1&t=jpeg',\n",
       "  'publishedAt': '2019-12-14T15:13:28Z',\n",
       "  'content': 'Jakarta - Jalan tol Jakarta-Cikampek (Japek) layang mulai dibuka besok, Minggu (15/12/2019) mulai pukul 06.00 WIB. Tol layang sepanjang 36,4, sekaligus yang terpanjang di Indonesia ini dibuka gratis hingga akhir liburan Natal dan Tahun Baru.Bagi Anda yang pen… [+1616 chars]'},\n",
       " {'source': {'id': None, 'name': 'Okezone.com'},\n",
       "  'author': 'Wikanto Arungbudoyo',\n",
       "  'title': 'Dwigol Salah Antar Liverpool Benamkan Watford di Dasar Klasemen - Okezone',\n",
       "  'description': 'Dwigol Mohamed Salah membuat Watford kian terbenam di dasar klasemen Liga Inggris 2019-2020.',\n",
       "  'url': 'https://bola.okezone.com/read/2019/12/14/45/2141995/dwigol-salah-antar-liverpool-benamkan-watford-di-dasar-klasemen',\n",
       "  'urlToImage': 'https://img.okezone.com/content/2019/12/14/45/2141995/dwigol-salah-antar-liverpool-benamkan-watford-di-dasar-klasemen-7WB53msRkH.jpg',\n",
       "  'publishedAt': '2019-12-14T14:30:59Z',\n",
       "  'content': 'LIVERPOOL Liverpool membuka pekan ke-17 Liga Inggris 2019-2020 dengan hasil positif. Anak asuh Jurgen Klopp berhasil menumbangkan juru kunci klasemen, Watford, dengan skor 2-0 di Stadion Anfield, Sabtu (14/12/2019) malam WIB. Brace Mohamed Salah memastikan ra… [+2484 chars]'},\n",
       " {'source': {'id': None, 'name': 'Tempo.co'},\n",
       "  'author': 'Muhammad Hendartyo',\n",
       "  'title': 'Tanggapi Edhy, Susi: Apa Kita Harus Pikirkan Petambak Vietnam? - Cek Fakta Tempo',\n",
       "  'description': 'Pernyataan Susi menanggapi Menteri Edhy Prabowo yang mengambil contoh budidaya lobster di Vietnam.',\n",
       "  'url': 'https://bisnis.tempo.co/read/1283818/tanggapi-edhy-susi-apa-kita-harus-pikirkan-petambak-vietnam',\n",
       "  'urlToImage': 'https://statik.tempo.co/data/2019/10/23/id_883135/883135_720.jpg',\n",
       "  'publishedAt': '2019-12-14T14:25:07Z',\n",
       "  'content': None},\n",
       " {'source': {'id': None, 'name': 'Merdeka.com'},\n",
       "  'author': None,\n",
       "  'title': 'Pre Order Kedua Samsung Galaxy Fold Dibuka Minggu Besok | merdeka.com - merdeka.com',\n",
       "  'description': 'Pre Order Kedua Samsung Galaxy Fold Dibuka Minggu Besok',\n",
       "  'url': 'https://www.merdeka.com/teknologi/pre-order-kedua-samsung-galaxy-fold-dibuka-minggu-besok.html',\n",
       "  'urlToImage': 'https://cdns.klimg.com/merdeka.com/i/w/news/2019/12/14/1133532/540x270/pre-order-kedua-samsung-galaxy-fold-dibuka-minggu-besok.jpg',\n",
       "  'publishedAt': '2019-12-14T14:23:00Z',\n",
       "  'content': 'Merdeka.com - Samsung Electronics Indonesia akan membuka kembali pre order Samsung Galaxy Fold pada hari Minggu, 15 Desember 2019, jam 06:00 WIB melalui www.galaxylaunchpack.comwww.galaxylaunchpack.com.\\r\\nPada pembelian pre order, konsumen dapat memperoleh ber… [+2948 chars]'},\n",
       " {'source': {'id': None, 'name': 'Jawapos.com'},\n",
       "  'author': 'JawaPos.com',\n",
       "  'title': 'Menang 5 Kali Beruntun, Endo: Marcus/Kevin Tetap Terbaik di Dunia - Jawa Pos',\n",
       "  'description': 'Ganda putra Jepang, Hiroyuki Endo/Yuta Watanabe menjadi momok bagi ganda nomor satu dunia Marcus Fernaldi Gideon/Kevin Sanjaya Sukamuljo.',\n",
       "  'url': 'https://www.jawapos.com/sports/14/12/2019/menang-5-kali-beruntun-endo-marcus-kevin-tetap-terbaik-di-dunia/',\n",
       "  'urlToImage': 'https://cdn-asset.jawapos.com/wp-content/uploads/2019/12/WhatsApp-Image-2019-12-14-at-9.02.04-PM-640x480.jpeg',\n",
       "  'publishedAt': '2019-12-14T14:17:06Z',\n",
       "  'content': 'JawaPos.com-Ganda putra Jepang, Hiroyuki Endo/Yuta Watanabe menjadi hantu menakutkan bagi ganda nomor satu dunia Marcus Fernaldi Gideon/Kevin Sanjaya Sukamuljo.\\r\\nPada babak semifinal BWF World Tour Finals 2019 di Guangzhou, langkah Marcus/Kevin kembali dijega… [+2424 chars]'},\n",
       " {'source': {'id': None, 'name': 'Detik.com'},\n",
       "  'author': 'Idham Kholid',\n",
       "  'title': 'Muhammadiyah Sangkal Wall Street Journal soal Muslim Uighur - detikNews',\n",
       "  'description': 'Muhammadiyah menepis tudingan yang menyebut pihaknya dibayar China agar tidak mengkritik soal muslim Uighur. Muhammadiyah menegaskan tuduhan itu tidak benar.',\n",
       "  'url': 'https://news.detik.com/berita/d-4823024/muhammadiyah-sangkal-wall-street-journal-soal-muslim-uighur',\n",
       "  'urlToImage': 'https://awsimages.detik.net.id/api/wm/2019/06/17/e3eb4972-abfb-47ce-824a-c84da08526c7_169.jpeg?wid=54&w=650&v=1&t=jpeg',\n",
       "  'publishedAt': '2019-12-14T14:16:15Z',\n",
       "  'content': 'Jakarta - Pengurus Pusat (PP) Muhammadiyah menepis tudingan yang menyebut pihaknya dibayar China agar tidak mengkritik soal kondisi muslim Uighur. Muhammadiyah menegaskan tuduhan itu tidak benar.\"Muhammadiyah tidak boleh melakukan kegiatan hanya karena ada da… [+1984 chars]'},\n",
       " {'source': {'id': None, 'name': 'Kompas.com'},\n",
       "  'author': 'Sari Hardiyanto',\n",
       "  'title': 'Simak, Berikut Link Hasil Seleksi Administrasi CPNS Polri 2019 - Kompas.com - KOMPAS.com',\n",
       "  'description': 'Kepolisian Negara Republik Indonesia (Polri) telah mengumumkan hasil seleksi administrasi penerimaan calon pegawai negeri sipil (CPNS) 2019. Halaman all',\n",
       "  'url': 'https://www.kompas.com/tren/read/2019/12/14/203500665/simak-berikut-link-hasil-seleksi-administrasi-cpns-polri-2019?page=all',\n",
       "  'urlToImage': 'https://asset.kompas.com/crops/sQMZRLaIdwz3-2RKgIw3c_ioaU4=/103x0:1183x720/780x390/filters:watermark(data/photo/2019/08/13/5d528bf23b805.png,0,-0,1)/data/photo/2019/12/14/5df4d1406851d.jpg',\n",
       "  'publishedAt': '2019-12-14T13:35:00Z',\n",
       "  'content': 'KOMPAS.com - Kepolisian Negara Republik Indonesia ( Polri) telah mengumumkan hasil seleksi administrasi penerimaan calon pegawai negeri sipil (CPNS) 2019.\\r\\nBerdasarkan Pengumuman Nomor: Peng/12/XI/KEP./2019 tentang Kelulusan Seleksi Administrasi Pengadaan Cal… [+3061 chars]'},\n",
       " {'source': {'id': None, 'name': 'Cnnindonesia.com'},\n",
       "  'author': None,\n",
       "  'title': 'Kapolda Sebut Hakim Jamaluddin Korban Pembunuhan Berencana - CNN Indonesia',\n",
       "  'description': 'Kapolda Sumatera Utara Irjen Pol. Agus Andrianto mengatakan pembunuhan terhadap Hakim Pengadilan Negeri Medan, Jamaluddin dilakukan dengan terencana.',\n",
       "  'url': 'https://www.cnnindonesia.com/nasional/20180117134429-12-269587/kapolda-sebut-hakim-jamaluddin-korban-pembunuhan-berencana',\n",
       "  'urlToImage': 'https://awsimages.detik.net.id/visual/2019/11/30/3cfe2741-6630-4231-bcff-4bad42d8dd59_169.jpeg?w=650',\n",
       "  'publishedAt': '2019-12-14T12:40:53Z',\n",
       "  'content': 'Medan, CNN Indonesia -- Kapolda Sumut, Irjen Pol Agus Andrianto, mengatakan polisi masih mendalami kematian Hakim yang juga Humas Pengadilan Negeri Medan, Jamaluddin. Namun diduga kuat Jamaluddin merupakan korban pembunuhan berencana.\"Pembunuhan berencana, su… [+1209 chars]'},\n",
       " {'source': {'id': None, 'name': 'Bisnis.com'},\n",
       "  'author': 'Reni Lestari',\n",
       "  'title': 'Ingin Hindari Holiday Blues? Jauhi Makanan Manis - Bisnis.com',\n",
       "  'description': 'Sebuah studi baru dari tim psikolog klinis University of Kansas menunjukkan bahwa makan gula tambahan dapat memicu depresi pascaliburan alias holiday blues.',\n",
       "  'url': 'https://lifestyle.bisnis.com/read/20191214/106/1181404/ingin-hindari-holiday-blues-jauhi-makanan-manis',\n",
       "  'urlToImage': 'https://cdn-image.bisnis.com/posts/2019/12/14/1181404/bublesah.jpg',\n",
       "  'publishedAt': '2019-12-14T12:16:35Z',\n",
       "  'content': 'Bisnis.com, JAKARTA - Sebuah studi baru dari tim psikolog klinis University of Kansas menunjukkan bahwa makan gula tambahan dapat memicu depresipascaliburan alias holiday blues.\\r\\nMakanan manis dapat memicu proses metabolisme, peradangan, dan neurobiologis yan… [+5140 chars]'},\n",
       " {'source': {'id': None, 'name': 'Cnbcindonesia.com'},\n",
       "  'author': 'CNBC Indonesia',\n",
       "  'title': 'Besok Ada EXO di HUT Transmedia, Tiket Masih Bisa Dibeli Lho! - CNBC Indonesia',\n",
       "  'description': '<br />Bersamaan perayaan ulang tahun tersebut, Trans sudah menyiapkan berbagai kejutan yang sayang jika dilewatkan.',\n",
       "  'url': 'https://www.cnbcindonesia.com/lifestyle/20191214184438-33-123142/besok-ada-exo-di-hut-transmedia-tiket-masih-bisa-dibeli-lho',\n",
       "  'urlToImage': 'https://awsimages.detik.net.id/visual/2019/12/14/4894102a-06a3-41b3-af42-5a7932e803dd_169.jpeg?w=650',\n",
       "  'publishedAt': '2019-12-14T11:56:55Z',\n",
       "  'content': 'Jakarta, CNBC Indonesia - Kemeriahan HUT Transmedia ke-18 puncaknya akan digelar besok, Minggu (15/12/2019). Puncak acara akan menampilkan boyband asal Korea Selatan lainnya, yaitu EXO dan tiket masih bisa dibeli sampai 15 Desember pukul 19.00 WIB.Bersamaan p… [+1813 chars]'},\n",
       " {'source': {'id': None, 'name': 'Youtube.com'},\n",
       "  'author': None,\n",
       "  'title': 'Kuis Ala Erick Thohir: Minta Milenial Sebut Perusahaan BUMN - KOMPASTV',\n",
       "  'description': 'Enjoy the videos and music you love, upload original content, and share it all with friends, family, and the world on YouTube.',\n",
       "  'url': 'https://www.youtube.com/watch?v=9_mqWRpbsrw',\n",
       "  'urlToImage': None,\n",
       "  'publishedAt': '2019-12-14T11:52:32Z',\n",
       "  'content': '[[getSimpleString(data.title)]]\\r\\n[[getSimpleString(data.description)]]\\r\\n[[getSimpleString(data.videoCountText)]]'},\n",
       " {'source': {'id': None, 'name': 'Tempo.co'},\n",
       "  'author': 'Sehatq.com',\n",
       "  'title': 'Mengenal 2 Jenis Operasi Vagina dan Perubahan yang Dihadapi - Tempo',\n",
       "  'description': 'Semua pertimbangan perlu diperhitungkan sebelum menjalani operasi vagina.',\n",
       "  'url': 'https://cantik.tempo.co/read/1283740/mengenal-2-jenis-operasi-vagina-dan-perubahan-yang-dihadapi',\n",
       "  'urlToImage': 'https://statik.tempo.co/data/2017/11/18/id_663708/663708_720.jpg',\n",
       "  'publishedAt': '2019-12-14T11:35:00Z',\n",
       "  'content': None},\n",
       " {'source': {'id': None, 'name': 'Kabar.news'},\n",
       "  'author': 'arya',\n",
       "  'title': 'Mahasiswa UIN Alauddin Dibunuh Pacarnya, Wajah Ditutup Bantal Lalu Digorok - Kabar News',\n",
       "  'description': 'Wajahnya pucat di TKP',\n",
       "  'url': 'https://kabar.news/mahasiswa-uin-alauddin-dibunuh-pacarnya-wajah-ditutup-bantal-lalu-digorok',\n",
       "  'urlToImage': 'http://kabar.news/sites/default/files/articles/WhatsApp%20Image%202019-12-14%20at%2016.31.55.jpg',\n",
       "  'publishedAt': '2019-12-14T11:11:08Z',\n",
       "  'content': 'Polisi melakukan olah TKP di kamar tempat jasad mahasiswa UIN Alauddin Makassar ditemukan, Sabtu (14/12/2019). (KABAR.NEWS/Reza Rivaldy)\\r\\nKABAR.NEWS, Makassar - Mahasiswi UIN Alauddin Makassar bernama Asmaul Husna (22) yang ditemukan tewas di rumah kerabatnya… [+1755 chars]'},\n",
       " {'source': {'id': None, 'name': 'Suara.com'},\n",
       "  'author': 'RR Ukirsari Manggalani',\n",
       "  'title': 'Catat, WhatsApp Tak Bisa Digunakan Lagi di Ponsel Android Jadul - Suara.com',\n",
       "  'description': 'Bagi pengguna Android dengan versi ini, atau lebih lama, perhatikan waktu berakhirnya support WhatsApp.',\n",
       "  'url': 'https://www.suara.com/tekno/2019/12/14/180000/catat-whatsapp-tak-bisa-digunakan-lagi-di-ponsel-android-jadul',\n",
       "  'urlToImage': 'https://media.suara.com/pictures/653x366/2019/11/27/45207-ilustrasi-pesan-di-whatsapp.jpg',\n",
       "  'publishedAt': '2019-12-14T11:00:00Z',\n",
       "  'content': 'Suara.com - WhatsApp adalah salah satu aplikasi perpesanan paling populer di dunia. Jutaan orang di seluruh dunia menggunakannya setiap hari. Namun menurut halaman FAQ yang telah diperbarui, WhatsApp akan berhenti memberikan support kepada beberapa perangkat … [+1089 chars]'},\n",
       " {'source': {'id': None, 'name': 'Harapanrakyat.com'},\n",
       "  'author': None,\n",
       "  'title': 'Hujan Meteor Geminid, Puncaknya Dapat Disaksikan Malam Ini - Harapan Rakyat',\n",
       "  'description': 'Hujan meteor Geminid puncaknya terjadi pada hari Jumat dan Sabtu tanggal 13 dan 14 Desember 2019. Hal ini merupakan fenomena langit terindah',\n",
       "  'url': 'https://www.harapanrakyat.com/2019/12/hujan-meteor-geminid/',\n",
       "  'urlToImage': 'https://www.harapanrakyat.com/wp-content/uploads/2019/12/Hujan-Meteor-Geminid.jpg',\n",
       "  'publishedAt': '2019-12-14T10:56:28Z',\n",
       "  'content': 'Hujan meteor Geminid puncaknya terjadi pada hari Jumat dan Sabtu tanggal 13 dan 14 Desember 2019. Hal ini merupakan fenomena langit terindah tahun ini.\\r\\nAkan ada 120 meteor tiap jamnya\\r\\nyang akan menghiasi suasana langit malam. Dengan catatan, kondisi langit … [+4190 chars]'},\n",
       " {'source': {'id': None, 'name': 'Suara.com'},\n",
       "  'author': 'Reza Gunadha',\n",
       "  'title': 'Pedangdut Pemeran Video Viral Mandi di Atas Motor Ngaku Tak Salah - Suara.com',\n",
       "  'description': \"'Jadi, biasa aja ya. Kalian yang mau kepo bisa kepo, kalian yang mau tanya, kak emang itu kakak ya, iya emang itu aku. Terus kalau aku kenapa? Aku enggak ngerugiin kamu kan?\",\n",
       "  'url': 'https://jatim.suara.com/read/2019/12/14/174047/pedangdut-pemeran-video-viral-mandi-di-atas-motor-ngaku-tak-salah',\n",
       "  'urlToImage': 'https://media.suara.com/pictures/653x366/2019/12/14/43766-mandi-di-atas-motor.jpg',\n",
       "  'publishedAt': '2019-12-14T10:40:00Z',\n",
       "  'content': 'SuaraJatim.id - Satlantas Polres Mojokerto kembali memanggil dua perempuan pemeran video viral mandi di atas sepeda motor, yakni IC dan AA.\\r\\nKakak beradik warga Kecamatan Pungging, Mojokerto, itu kembali dipanggil untuk dimintakan keterangan menyusul unggahan… [+2670 chars]'},\n",
       " {'source': {'id': None, 'name': 'Kompas.com'},\n",
       "  'author': 'Kistyarini',\n",
       "  'title': 'Vidi Aldiano Berkabar, Doa dan Ucapan Syukur Banjiri Instagram-nya - Kompas.com - KOMPAS.com',\n",
       "  'description': 'Para artis memenuhi akun Instagram Vidi Aldiano dengan doa dan ucapan syukur setelah penyanyi itu menjalani operasi kanker ginjal. Halaman all',\n",
       "  'url': 'https://www.kompas.com/hype/read/2019/12/14/170914366/vidi-aldiano-berkabar-doa-dan-ucapan-syukur-banjiri-instagram-nya?page=all',\n",
       "  'urlToImage': 'https://asset.kompas.com/crops/KHJoFxHjgigOmsSGimZCqhFVD2c=/0x0:1000x667/780x390/filters:watermark(data/photo/2019/11/21/5dd5f6d13865f.png,0,-0,1)/data/photo/2018/09/25/3249450382.jpg',\n",
       "  'publishedAt': '2019-12-14T10:09:00Z',\n",
       "  'content': 'JAKARTA, KOMPAS.com - Ucapan penyemangat dan doa memenuhi akun Instagram Vidi Aldiano, saat dia mengabarkan kondisi terbarunya.\\r\\nMusisi dan produser musik Maia Estianty mendoakan agar Vidi segera pulih dari sakitnya.\\r\\n“Get well soon Bro,” tulis Maia mengoment… [+2330 chars]'},\n",
       " {'source': {'id': None, 'name': 'Detik.com'},\n",
       "  'author': 'Luthfi Anshori',\n",
       "  'title': 'Khusus Grab, Hyundai Belum Jual Umum Mobil Listrik Ioniq Sekarang - Detikcom',\n",
       "  'description': 'Grab Indonesia sudah menjalin kerjasama dengan Hyundai, untuk bisa menjadikan mobil istrik mereka Ioniq sebagai armada Grab untuk menjadi taksi online.',\n",
       "  'url': 'https://oto.detik.com/mobil/d-4822765/khusus-grab-hyundai-belum-jual-umum-mobil-listrik-ioniq-sekarang',\n",
       "  'urlToImage': 'https://awsimages.detik.net.id/api/wm/2016/11/17/a96eb3eb-50af-481b-9697-29fc2aa38fdd_169.jpg?wid=54&w=650&v=1&t=jpeg',\n",
       "  'publishedAt': '2019-12-14T09:29:54Z',\n",
       "  'content': 'Jakarta - Grab Indonesia sudah menjalin kerjasama dengan Hyundai, untuk bisa menjadikan mobil listrik mereka Ioniq sebagai armada Grab untuk menjadi taksi online. Hyundai pun pastikan saat ini belum ingin menjual Ioniq secara umum.Seperti yang disampaikan Pre… [+992 chars]'}]"
      ]
     },
     "execution_count": 80,
     "metadata": {},
     "output_type": "execute_result"
    }
   ],
   "source": [
    "temp"
   ]
  },
  {
   "cell_type": "code",
   "execution_count": 82,
   "metadata": {
    "scrolled": true
   },
   "outputs": [
    {
     "name": "stdout",
     "output_type": "stream",
     "text": [
      "Rekap BWF World Tour Finals 2019 - Dua Wakil Indonesia ke Final - Bolasport.com\n",
      "https://www.bolasport.com/read/311953883/rekap-bwf-world-tour-finals-2019-dua-wakil-indonesia-ke-final\n",
      "=========================\n",
      "\n",
      "['sports']\n",
      "=========================\n",
      "\n",
      "X Series, Xbox Rasa PC Gaming - Cianjur Today\n",
      "https://cianjurtoday.com/x-series-xbox-rasa-pc-gaming/\n",
      "=========================\n",
      "\n",
      "['tekno']\n",
      "=========================\n",
      "\n",
      "Penting! Mau Jajal Tol Japek Layang Baca Dulu 3 Hal Ini - detikFinance\n",
      "https://finance.detik.com/infrastruktur/d-4823048/penting-mau-jajal-tol-japek-layang-baca-dulu-3-hal-ini\n",
      "=========================\n",
      "\n",
      "['bisnis']\n",
      "=========================\n",
      "\n",
      "Dwigol Salah Antar Liverpool Benamkan Watford di Dasar Klasemen - Okezone\n",
      "https://bola.okezone.com/read/2019/12/14/45/2141995/dwigol-salah-antar-liverpool-benamkan-watford-di-dasar-klasemen\n",
      "=========================\n",
      "\n",
      "['sports']\n",
      "=========================\n",
      "\n",
      "Tanggapi Edhy, Susi: Apa Kita Harus Pikirkan Petambak Vietnam? - Cek Fakta Tempo\n",
      "https://bisnis.tempo.co/read/1283818/tanggapi-edhy-susi-apa-kita-harus-pikirkan-petambak-vietnam\n",
      "=========================\n",
      "\n",
      "['bisnis']\n",
      "=========================\n",
      "\n",
      "Pre Order Kedua Samsung Galaxy Fold Dibuka Minggu Besok | merdeka.com - merdeka.com\n",
      "https://www.merdeka.com/teknologi/pre-order-kedua-samsung-galaxy-fold-dibuka-minggu-besok.html\n",
      "=========================\n",
      "\n",
      "['tekno']\n",
      "=========================\n",
      "\n",
      "Menang 5 Kali Beruntun, Endo: Marcus/Kevin Tetap Terbaik di Dunia - Jawa Pos\n",
      "https://www.jawapos.com/sports/14/12/2019/menang-5-kali-beruntun-endo-marcus-kevin-tetap-terbaik-di-dunia/\n",
      "=========================\n",
      "\n",
      "['sports']\n",
      "=========================\n",
      "\n",
      "Muhammadiyah Sangkal Wall Street Journal soal Muslim Uighur - detikNews\n",
      "https://news.detik.com/berita/d-4823024/muhammadiyah-sangkal-wall-street-journal-soal-muslim-uighur\n",
      "=========================\n",
      "\n",
      "['news']\n",
      "=========================\n",
      "\n",
      "Simak, Berikut Link Hasil Seleksi Administrasi CPNS Polri 2019 - Kompas.com - KOMPAS.com\n",
      "https://www.kompas.com/tren/read/2019/12/14/203500665/simak-berikut-link-hasil-seleksi-administrasi-cpns-polri-2019?page=all\n",
      "=========================\n",
      "\n",
      "['otomotif']\n",
      "=========================\n",
      "\n",
      "Kapolda Sebut Hakim Jamaluddin Korban Pembunuhan Berencana - CNN Indonesia\n",
      "https://www.cnnindonesia.com/nasional/20180117134429-12-269587/kapolda-sebut-hakim-jamaluddin-korban-pembunuhan-berencana\n",
      "=========================\n",
      "\n",
      "['news']\n",
      "=========================\n",
      "\n",
      "Ingin Hindari Holiday Blues? Jauhi Makanan Manis - Bisnis.com\n",
      "https://lifestyle.bisnis.com/read/20191214/106/1181404/ingin-hindari-holiday-blues-jauhi-makanan-manis\n",
      "=========================\n",
      "\n",
      "['health']\n",
      "=========================\n",
      "\n",
      "Besok Ada EXO di HUT Transmedia, Tiket Masih Bisa Dibeli Lho! - CNBC Indonesia\n",
      "https://www.cnbcindonesia.com/lifestyle/20191214184438-33-123142/besok-ada-exo-di-hut-transmedia-tiket-masih-bisa-dibeli-lho\n",
      "=========================\n",
      "\n",
      "['entertainment']\n",
      "=========================\n",
      "\n",
      "Kuis Ala Erick Thohir: Minta Milenial Sebut Perusahaan BUMN - KOMPASTV\n",
      "https://www.youtube.com/watch?v=9_mqWRpbsrw\n",
      "=========================\n",
      "\n",
      "['tekno']\n",
      "=========================\n",
      "\n",
      "Mengenal 2 Jenis Operasi Vagina dan Perubahan yang Dihadapi - Tempo\n",
      "https://cantik.tempo.co/read/1283740/mengenal-2-jenis-operasi-vagina-dan-perubahan-yang-dihadapi\n",
      "=========================\n",
      "\n",
      "['health']\n",
      "=========================\n",
      "\n",
      "Mahasiswa UIN Alauddin Dibunuh Pacarnya, Wajah Ditutup Bantal Lalu Digorok - Kabar News\n",
      "https://kabar.news/mahasiswa-uin-alauddin-dibunuh-pacarnya-wajah-ditutup-bantal-lalu-digorok\n",
      "=========================\n",
      "\n",
      "['news']\n",
      "=========================\n",
      "\n",
      "Catat, WhatsApp Tak Bisa Digunakan Lagi di Ponsel Android Jadul - Suara.com\n",
      "https://www.suara.com/tekno/2019/12/14/180000/catat-whatsapp-tak-bisa-digunakan-lagi-di-ponsel-android-jadul\n",
      "=========================\n",
      "\n",
      "['tekno']\n",
      "=========================\n",
      "\n",
      "Hujan Meteor Geminid, Puncaknya Dapat Disaksikan Malam Ini - Harapan Rakyat\n",
      "https://www.harapanrakyat.com/2019/12/hujan-meteor-geminid/\n",
      "=========================\n",
      "\n",
      "['tekno']\n",
      "=========================\n",
      "\n",
      "Pedangdut Pemeran Video Viral Mandi di Atas Motor Ngaku Tak Salah - Suara.com\n",
      "https://jatim.suara.com/read/2019/12/14/174047/pedangdut-pemeran-video-viral-mandi-di-atas-motor-ngaku-tak-salah\n",
      "=========================\n",
      "\n",
      "['entertainment']\n",
      "=========================\n",
      "\n",
      "Vidi Aldiano Berkabar, Doa dan Ucapan Syukur Banjiri Instagram-nya - Kompas.com - KOMPAS.com\n",
      "https://www.kompas.com/hype/read/2019/12/14/170914366/vidi-aldiano-berkabar-doa-dan-ucapan-syukur-banjiri-instagram-nya?page=all\n",
      "=========================\n",
      "\n",
      "['entertainment']\n",
      "=========================\n",
      "\n",
      "Khusus Grab, Hyundai Belum Jual Umum Mobil Listrik Ioniq Sekarang - Detikcom\n",
      "https://oto.detik.com/mobil/d-4822765/khusus-grab-hyundai-belum-jual-umum-mobil-listrik-ioniq-sekarang\n",
      "=========================\n",
      "\n",
      "['otomotif']\n",
      "=========================\n",
      "\n"
     ]
    }
   ],
   "source": [
    "for t in temp:\n",
    "    print(t['title'])\n",
    "    print(t['url'])\n",
    "    print('=========================\\n')\n",
    "    print(get_categoryMNB(t['title']))\n",
    "    print('=========================\\n')"
   ]
  },
  {
   "cell_type": "code",
   "execution_count": null,
   "metadata": {},
   "outputs": [],
   "source": []
  }
 ],
 "metadata": {
  "kernelspec": {
   "display_name": "Python 3",
   "language": "python",
   "name": "python3"
  },
  "language_info": {
   "codemirror_mode": {
    "name": "ipython",
    "version": 3
   },
   "file_extension": ".py",
   "mimetype": "text/x-python",
   "name": "python",
   "nbconvert_exporter": "python",
   "pygments_lexer": "ipython3",
   "version": "3.6.6+"
  }
 },
 "nbformat": 4,
 "nbformat_minor": 2
}
