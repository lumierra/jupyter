{
 "cells": [
  {
   "cell_type": "markdown",
   "metadata": {},
   "source": [
    "## Import Library"
   ]
  },
  {
   "cell_type": "code",
   "execution_count": 14,
   "metadata": {},
   "outputs": [],
   "source": [
    "import pymongo\n",
    "import pandas as pd\n",
    "import matplotlib.pyplot as plt\n",
    "from random import shuffle\n",
    "from tqdm import tqdm, tqdm_notebook"
   ]
  },
  {
   "cell_type": "code",
   "execution_count": null,
   "metadata": {},
   "outputs": [],
   "source": []
  },
  {
   "cell_type": "markdown",
   "metadata": {},
   "source": [
    "## Load Data From MongoDB"
   ]
  },
  {
   "cell_type": "code",
   "execution_count": 13,
   "metadata": {},
   "outputs": [],
   "source": [
    "# Load data dari Database MongoDB \n",
    "myClient = pymongo.MongoClient(\"mongodb://localhost:27017\")\n",
    "myDatabase = myClient.iStorage\n",
    "myCollection = myDatabase.backup_dataset"
   ]
  },
  {
   "cell_type": "code",
   "execution_count": 15,
   "metadata": {},
   "outputs": [],
   "source": [
    "# 7 kategori artikel berita yang ada di dalam database\n",
    "categories = ['news', 'bisnis', 'sports', 'entertainment', 'tekno', 'otomotif', 'health']"
   ]
  },
  {
   "cell_type": "code",
   "execution_count": 16,
   "metadata": {},
   "outputs": [],
   "source": [
    "# Array yang digunakan untuk menampung data berdasarkan kategori\n",
    "polhukam,bisnis,olahraga,hiburan,teknologi,otomotif,kesehatan = [],[],[],[],[],[],[]"
   ]
  },
  {
   "cell_type": "code",
   "execution_count": 17,
   "metadata": {},
   "outputs": [],
   "source": [
    "# fungsi ambil data berdasarkan category\n",
    "def getQuery(category=None):\n",
    "    iQuery = myCollection.find(\n",
    "        {\"category\": \"{}\".format(category)}, \n",
    "        {\n",
    "            \"category\": 1, \n",
    "            \"title\": 1,\n",
    "            \"url\": 1,\n",
    "            \"cleanContent\": 1\n",
    "        }).limit(15000)\n",
    "    \n",
    "    return iQuery"
   ]
  },
  {
   "cell_type": "code",
   "execution_count": 18,
   "metadata": {},
   "outputs": [],
   "source": [
    "# fungsi input data ke list\n",
    "def setData(iQuery=None):\n",
    "    category = []\n",
    "    for query in iQuery: category.append(query)\n",
    "        \n",
    "    return category"
   ]
  },
  {
   "cell_type": "code",
   "execution_count": 19,
   "metadata": {},
   "outputs": [],
   "source": [
    "iData = []"
   ]
  },
  {
   "cell_type": "code",
   "execution_count": 20,
   "metadata": {},
   "outputs": [
    {
     "name": "stderr",
     "output_type": "stream",
     "text": [
      "100%|██████████| 15000/15000 [00:00<00:00, 3089195.72it/s]\n",
      "100%|██████████| 15000/15000 [00:00<00:00, 2698574.25it/s]\n",
      "100%|██████████| 15000/15000 [00:00<00:00, 1241555.04it/s]\n",
      "100%|██████████| 15000/15000 [00:00<00:00, 3240513.01it/s]\n",
      "100%|██████████| 13222/13222 [00:00<00:00, 2573773.03it/s]\n",
      "100%|██████████| 15000/15000 [00:00<00:00, 3310073.13it/s]\n",
      "100%|██████████| 15000/15000 [00:00<00:00, 3032026.99it/s]\n"
     ]
    }
   ],
   "source": [
    "# Ambil data dari Database dan disimpan di array berdasarkan kategori\n",
    "####################################\n",
    "iQuery = getQuery(\"news\")\n",
    "polhukam = setData(iQuery)\n",
    "for data in tqdm(polhukam): iData.append(data)\n",
    "####################################\n",
    "iQuery = getQuery(\"bisnis\")\n",
    "bisnis = setData(iQuery)\n",
    "for data in tqdm(bisnis): iData.append(data)\n",
    "####################################\n",
    "iQuery = getQuery(\"sports\")\n",
    "olahraga = setData(iQuery)\n",
    "for data in tqdm(olahraga): iData.append(data)\n",
    "####################################\n",
    "iQuery = getQuery(\"entertainment\")\n",
    "hiburan = setData(iQuery)\n",
    "for data in tqdm(hiburan): iData.append(data)\n",
    "####################################\n",
    "iQuery = getQuery(\"tekno\")\n",
    "teknologi = setData(iQuery)\n",
    "for data in tqdm(teknologi): iData.append(data)\n",
    "####################################\n",
    "iQuery = getQuery(\"otomotif\")\n",
    "otomotif = setData(iQuery)\n",
    "for data in tqdm(otomotif): iData.append(data)\n",
    "####################################\n",
    "iQuery = getQuery(\"health\")\n",
    "kesehatan = setData(iQuery)\n",
    "for data in tqdm(kesehatan): iData.append(data)"
   ]
  },
  {
   "cell_type": "code",
   "execution_count": 21,
   "metadata": {},
   "outputs": [
    {
     "data": {
      "text/html": [
       "<div>\n",
       "<style scoped>\n",
       "    .dataframe tbody tr th:only-of-type {\n",
       "        vertical-align: middle;\n",
       "    }\n",
       "\n",
       "    .dataframe tbody tr th {\n",
       "        vertical-align: top;\n",
       "    }\n",
       "\n",
       "    .dataframe thead th {\n",
       "        text-align: right;\n",
       "    }\n",
       "</style>\n",
       "<table border=\"1\" class=\"dataframe\">\n",
       "  <thead>\n",
       "    <tr style=\"text-align: right;\">\n",
       "      <th></th>\n",
       "      <th>Nama Kategori</th>\n",
       "      <th>Jumlah Data</th>\n",
       "    </tr>\n",
       "  </thead>\n",
       "  <tbody>\n",
       "    <tr>\n",
       "      <td>0</td>\n",
       "      <td>Polhukam</td>\n",
       "      <td>15000.0</td>\n",
       "    </tr>\n",
       "    <tr>\n",
       "      <td>1</td>\n",
       "      <td>Bisnis</td>\n",
       "      <td>15000.0</td>\n",
       "    </tr>\n",
       "    <tr>\n",
       "      <td>2</td>\n",
       "      <td>Olahraga</td>\n",
       "      <td>15000.0</td>\n",
       "    </tr>\n",
       "    <tr>\n",
       "      <td>3</td>\n",
       "      <td>Hiburan</td>\n",
       "      <td>15000.0</td>\n",
       "    </tr>\n",
       "    <tr>\n",
       "      <td>4</td>\n",
       "      <td>Teknologi</td>\n",
       "      <td>13222.0</td>\n",
       "    </tr>\n",
       "    <tr>\n",
       "      <td>5</td>\n",
       "      <td>Otomotif</td>\n",
       "      <td>15000.0</td>\n",
       "    </tr>\n",
       "    <tr>\n",
       "      <td>6</td>\n",
       "      <td>Kesehatan</td>\n",
       "      <td>15000.0</td>\n",
       "    </tr>\n",
       "    <tr>\n",
       "      <td>Total</td>\n",
       "      <td>NaN</td>\n",
       "      <td>103222.0</td>\n",
       "    </tr>\n",
       "  </tbody>\n",
       "</table>\n",
       "</div>"
      ],
      "text/plain": [
       "      Nama Kategori  Jumlah Data\n",
       "0          Polhukam      15000.0\n",
       "1            Bisnis      15000.0\n",
       "2          Olahraga      15000.0\n",
       "3           Hiburan      15000.0\n",
       "4         Teknologi      13222.0\n",
       "5          Otomotif      15000.0\n",
       "6         Kesehatan      15000.0\n",
       "Total           NaN     103222.0"
      ]
     },
     "execution_count": 21,
     "metadata": {},
     "output_type": "execute_result"
    }
   ],
   "source": [
    "# Dataframe Categories\n",
    "df = pd.DataFrame({\n",
    "    'Nama Kategori':[\n",
    "        'Polhukam','Bisnis','Olahraga','Hiburan','Teknologi','Otomotif','Kesehatan'],\n",
    "    'Jumlah Data':[\n",
    "        len(polhukam),\n",
    "        len(bisnis),\n",
    "        len(olahraga),\n",
    "        len(hiburan),\n",
    "        len(teknologi),\n",
    "        len(otomotif),\n",
    "        len(kesehatan)\n",
    "    ]\n",
    "})\n",
    "df.loc['Total'] = pd.Series(df['Jumlah Data'].sum(), index = ['Jumlah Data'])\n",
    "df"
   ]
  },
  {
   "cell_type": "code",
   "execution_count": 50,
   "metadata": {},
   "outputs": [],
   "source": []
  },
  {
   "cell_type": "code",
   "execution_count": null,
   "metadata": {},
   "outputs": [],
   "source": []
  },
  {
   "cell_type": "code",
   "execution_count": null,
   "metadata": {},
   "outputs": [],
   "source": []
  },
  {
   "cell_type": "markdown",
   "metadata": {},
   "source": [
    "## Konversi Data ke DataFrame (Pandas)"
   ]
  },
  {
   "cell_type": "code",
   "execution_count": 22,
   "metadata": {},
   "outputs": [],
   "source": [
    "shuffle(iData)"
   ]
  },
  {
   "cell_type": "code",
   "execution_count": 23,
   "metadata": {},
   "outputs": [],
   "source": [
    "df = pd.DataFrame(iData)"
   ]
  },
  {
   "cell_type": "code",
   "execution_count": 24,
   "metadata": {},
   "outputs": [
    {
     "data": {
      "text/html": [
       "<div>\n",
       "<style scoped>\n",
       "    .dataframe tbody tr th:only-of-type {\n",
       "        vertical-align: middle;\n",
       "    }\n",
       "\n",
       "    .dataframe tbody tr th {\n",
       "        vertical-align: top;\n",
       "    }\n",
       "\n",
       "    .dataframe thead th {\n",
       "        text-align: right;\n",
       "    }\n",
       "</style>\n",
       "<table border=\"1\" class=\"dataframe\">\n",
       "  <thead>\n",
       "    <tr style=\"text-align: right;\">\n",
       "      <th></th>\n",
       "      <th>_id</th>\n",
       "      <th>category</th>\n",
       "      <th>title</th>\n",
       "      <th>url</th>\n",
       "      <th>cleanContent</th>\n",
       "    </tr>\n",
       "  </thead>\n",
       "  <tbody>\n",
       "    <tr>\n",
       "      <td>103217</td>\n",
       "      <td>5d6e1e036e94dbce0f1b3f11</td>\n",
       "      <td>health</td>\n",
       "      <td>Jangan Biasakan Sering Begadang, Awas Bahayany...</td>\n",
       "      <td>https://gaya.tempo.co/read/1234340/jangan-bias...</td>\n",
       "      <td>orang begadang alasan kebiasaan insomnia tuntu...</td>\n",
       "    </tr>\n",
       "    <tr>\n",
       "      <td>103218</td>\n",
       "      <td>5d6b82c2bc0f642ed07a9f9f</td>\n",
       "      <td>sports</td>\n",
       "      <td>Manchester United Singkirkan PSG, Suporternya ...</td>\n",
       "      <td>https://bola.tempo.co/read/1183141/manchester-...</td>\n",
       "      <td>keberhasilan manchester united menyingkirkan p...</td>\n",
       "    </tr>\n",
       "    <tr>\n",
       "      <td>103219</td>\n",
       "      <td>5d8d113b68775266a9c360e5</td>\n",
       "      <td>entertainment</td>\n",
       "      <td>Bersama Kakak dan Kekasihnya, Dhawiya Dipindah...</td>\n",
       "      <td>https://entertainment.kompas.com/read/2018/02/...</td>\n",
       "      <td>etelah serangkaian penyidikan polisi memindahk...</td>\n",
       "    </tr>\n",
       "    <tr>\n",
       "      <td>103220</td>\n",
       "      <td>5d6fa46d62762003cf1e1b24</td>\n",
       "      <td>bisnis</td>\n",
       "      <td>Bank Indonesia Tahan Suku Bunga Acuan 4,25 Persen</td>\n",
       "      <td>https://bisnis.tempo.co/read/1081298/bank-indo...</td>\n",
       "      <td>rapat dewan gubernur bank indonesia bi memutus...</td>\n",
       "    </tr>\n",
       "    <tr>\n",
       "      <td>103221</td>\n",
       "      <td>5d6ab160165d77c1e75d62ec</td>\n",
       "      <td>news</td>\n",
       "      <td>Kasus Alih Fungsi Hutan, Polisi Periksa Wagub ...</td>\n",
       "      <td>https://nasional.tempo.co/read/1173138/kasus-a...</td>\n",
       "      <td>penyidik direktorat kriminal khusus polda suma...</td>\n",
       "    </tr>\n",
       "  </tbody>\n",
       "</table>\n",
       "</div>"
      ],
      "text/plain": [
       "                             _id       category  \\\n",
       "103217  5d6e1e036e94dbce0f1b3f11         health   \n",
       "103218  5d6b82c2bc0f642ed07a9f9f         sports   \n",
       "103219  5d8d113b68775266a9c360e5  entertainment   \n",
       "103220  5d6fa46d62762003cf1e1b24         bisnis   \n",
       "103221  5d6ab160165d77c1e75d62ec           news   \n",
       "\n",
       "                                                    title  \\\n",
       "103217  Jangan Biasakan Sering Begadang, Awas Bahayany...   \n",
       "103218  Manchester United Singkirkan PSG, Suporternya ...   \n",
       "103219  Bersama Kakak dan Kekasihnya, Dhawiya Dipindah...   \n",
       "103220  Bank Indonesia Tahan Suku Bunga Acuan 4,25 Persen   \n",
       "103221  Kasus Alih Fungsi Hutan, Polisi Periksa Wagub ...   \n",
       "\n",
       "                                                      url  \\\n",
       "103217  https://gaya.tempo.co/read/1234340/jangan-bias...   \n",
       "103218  https://bola.tempo.co/read/1183141/manchester-...   \n",
       "103219  https://entertainment.kompas.com/read/2018/02/...   \n",
       "103220  https://bisnis.tempo.co/read/1081298/bank-indo...   \n",
       "103221  https://nasional.tempo.co/read/1173138/kasus-a...   \n",
       "\n",
       "                                             cleanContent  \n",
       "103217  orang begadang alasan kebiasaan insomnia tuntu...  \n",
       "103218  keberhasilan manchester united menyingkirkan p...  \n",
       "103219  etelah serangkaian penyidikan polisi memindahk...  \n",
       "103220  rapat dewan gubernur bank indonesia bi memutus...  \n",
       "103221  penyidik direktorat kriminal khusus polda suma...  "
      ]
     },
     "execution_count": 24,
     "metadata": {},
     "output_type": "execute_result"
    }
   ],
   "source": [
    "df.tail()"
   ]
  },
  {
   "cell_type": "code",
   "execution_count": 25,
   "metadata": {},
   "outputs": [
    {
     "data": {
      "image/png": "[encoded data removed]",
      "text/plain": [
       "<Figure size 720x576 with 1 Axes>"
      ]
     },
     "metadata": {
      "needs_background": "light"
     },
     "output_type": "display_data"
    }
   ],
   "source": [
    "fig = plt.figure(figsize=(10,8))\n",
    "df.groupby('category').title.count().plot.bar(ylim=0)\n",
    "plt.show()"
   ]
  },
  {
   "cell_type": "code",
   "execution_count": null,
   "metadata": {},
   "outputs": [],
   "source": []
  },
  {
   "cell_type": "code",
   "execution_count": null,
   "metadata": {},
   "outputs": [],
   "source": []
  },
  {
   "cell_type": "markdown",
   "metadata": {},
   "source": [
    "## Menggunakan Metode Naive Bayes"
   ]
  },
  {
   "cell_type": "code",
   "execution_count": 128,
   "metadata": {},
   "outputs": [],
   "source": [
    "import textacy\n",
    "from sklearn.naive_bayes import MultinomialNB\n",
    "from textacy.preprocess import preprocess_text\n",
    "from sklearn.cross_validation import train_test_split\n",
    "from sklearn.feature_extraction.text import TfidfVectorizer\n",
    "from sklearn.feature_extraction.text import TfidfTransformer\n",
    "from sklearn.feature_extraction.text import CountVectorizer"
   ]
  },
  {
   "cell_type": "code",
   "execution_count": 15,
   "metadata": {},
   "outputs": [],
   "source": [
    "# mendefinisikan library ke variabel yang lebih singkat\n",
    "tfidf = TfidfVectorizer(min_df=1, max_df=0.25)\n",
    "count_vect = CountVectorizer()\n",
    "tfidf_transformer = TfidfTransformer()"
   ]
  },
  {
   "cell_type": "code",
   "execution_count": 80,
   "metadata": {},
   "outputs": [],
   "source": [
    "# Membuat data training dan data testing\n",
    "X_train, X_test, y_train, y_test = train_test_split(df['cleanContent'], df['category'], random_state = 0, test_size = 0.20)\n",
    "\n",
    "X_train_counts = count_vect.fit_transform(X_train)\n",
    "\n",
    "X_train_tfidf = tfidf_transformer.fit_transform(X_train_counts)"
   ]
  },
  {
   "cell_type": "code",
   "execution_count": 81,
   "metadata": {},
   "outputs": [],
   "source": [
    "X1 = tfidf.fit_transform(X_train)"
   ]
  },
  {
   "cell_type": "code",
   "execution_count": 82,
   "metadata": {},
   "outputs": [
    {
     "data": {
      "text/plain": [
       "(84000, 222264)"
      ]
     },
     "execution_count": 82,
     "metadata": {},
     "output_type": "execute_result"
    }
   ],
   "source": [
    "X_train_tfidf.shape"
   ]
  },
  {
   "cell_type": "code",
   "execution_count": 83,
   "metadata": {},
   "outputs": [
    {
     "data": {
      "text/plain": [
       "(84000, 222257)"
      ]
     },
     "execution_count": 83,
     "metadata": {},
     "output_type": "execute_result"
    }
   ],
   "source": [
    "X1.shape"
   ]
  },
  {
   "cell_type": "code",
   "execution_count": null,
   "metadata": {},
   "outputs": [],
   "source": []
  },
  {
   "cell_type": "code",
   "execution_count": 42,
   "metadata": {},
   "outputs": [],
   "source": [
    "# Create model MultinomialNB\n",
    "modelMNB = MultinomialNB()"
   ]
  },
  {
   "cell_type": "code",
   "execution_count": 84,
   "metadata": {},
   "outputs": [
    {
     "data": {
      "text/plain": [
       "MultinomialNB(alpha=1.0, class_prior=None, fit_prior=True)"
      ]
     },
     "execution_count": 84,
     "metadata": {},
     "output_type": "execute_result"
    }
   ],
   "source": [
    "modelMNB.fit(X1, y_train)"
   ]
  },
  {
   "cell_type": "code",
   "execution_count": 85,
   "metadata": {},
   "outputs": [],
   "source": [
    "model = MultinomialNB().fit(X1, y_train)"
   ]
  },
  {
   "cell_type": "code",
   "execution_count": 86,
   "metadata": {},
   "outputs": [],
   "source": [
    "def get_categoryMNB(text):\n",
    "    result_cleanText = textacy.preprocess_text(text,lowercase=True,no_urls=True,no_numbers=True,no_punct=True)\n",
    "    hasil_prediksi = model.predict(tfidf.transform([result_cleanText]))\n",
    "    return hasil_prediksi"
   ]
  },
  {
   "cell_type": "code",
   "execution_count": 87,
   "metadata": {},
   "outputs": [],
   "source": [
    "new_title = '''Waspadalah, Stroke Kini Sudah Menyerang Orang Usia 30-an'''"
   ]
  },
  {
   "cell_type": "code",
   "execution_count": 88,
   "metadata": {},
   "outputs": [
    {
     "name": "stdout",
     "output_type": "stream",
     "text": [
      "['health']\n"
     ]
    }
   ],
   "source": [
    "print(get_categoryMNB(new_title))"
   ]
  },
  {
   "cell_type": "code",
   "execution_count": 89,
   "metadata": {},
   "outputs": [
    {
     "name": "stdout",
     "output_type": "stream",
     "text": [
      "0.9205238095238095\n"
     ]
    }
   ],
   "source": [
    "# score dari model multinomial naive bayes dari 105000 dataset\n",
    "print(model.score(X1, y_train))"
   ]
  },
  {
   "cell_type": "code",
   "execution_count": null,
   "metadata": {},
   "outputs": [],
   "source": []
  },
  {
   "cell_type": "code",
   "execution_count": 42,
   "metadata": {},
   "outputs": [],
   "source": [
    "from sklearn.pipeline import Pipeline\n",
    "from sklearn.metrics import classification_report\n",
    "from sklearn.metrics import accuracy_score, confusion_matrix"
   ]
  },
  {
   "cell_type": "code",
   "execution_count": 129,
   "metadata": {},
   "outputs": [],
   "source": [
    "nb = Pipeline([('vect', CountVectorizer()),\n",
    "               ('tfidf', TfidfTransformer()),\n",
    "               ('clf', MultinomialNB()),\n",
    "              ])"
   ]
  },
  {
   "cell_type": "code",
   "execution_count": 130,
   "metadata": {},
   "outputs": [
    {
     "data": {
      "text/plain": [
       "Pipeline(memory=None,\n",
       "     steps=[('vect', CountVectorizer(analyzer='word', binary=False, decode_error='strict',\n",
       "        dtype=<class 'numpy.int64'>, encoding='utf-8', input='content',\n",
       "        lowercase=True, max_df=1.0, max_features=None, min_df=1,\n",
       "        ngram_range=(1, 1), preprocessor=None, stop_words=None,\n",
       "        strip...inear_tf=False, use_idf=True)), ('clf', MultinomialNB(alpha=1.0, class_prior=None, fit_prior=True))])"
      ]
     },
     "execution_count": 130,
     "metadata": {},
     "output_type": "execute_result"
    }
   ],
   "source": [
    "nb.fit(X_train, y_train)"
   ]
  },
  {
   "cell_type": "code",
   "execution_count": null,
   "metadata": {},
   "outputs": [],
   "source": []
  },
  {
   "cell_type": "code",
   "execution_count": 131,
   "metadata": {},
   "outputs": [],
   "source": [
    "y_pred = nb.predict(X_test)"
   ]
  },
  {
   "cell_type": "code",
   "execution_count": 132,
   "metadata": {},
   "outputs": [
    {
     "name": "stdout",
     "output_type": "stream",
     "text": [
      "Table Confusion Matrix\n",
      "=========================\n",
      "\n",
      "Accuracy 0.9565512230564301\n",
      "=========================\n",
      "\n",
      "               precision    recall  f1-score   support\n",
      "\n",
      "         news       0.91      0.97      0.94      2988\n",
      "       bisnis       0.96      0.97      0.96      2961\n",
      "       sports       0.96      0.93      0.94      3030\n",
      "entertainment       0.93      0.97      0.95      3019\n",
      "        tekno       0.98      0.97      0.98      3014\n",
      "     otomotif       0.98      0.98      0.98      3022\n",
      "       health       0.98      0.92      0.95      2611\n",
      "\n",
      "  avg / total       0.96      0.96      0.96     20645\n",
      "\n"
     ]
    }
   ],
   "source": [
    "print(\"Table Confusion Matrix\")\n",
    "print(\"=========================\\n\")\n",
    "print('Accuracy %s' % accuracy_score(y_pred, y_test))\n",
    "print('=========================\\n')\n",
    "print(classification_report(y_test, y_pred,target_names=categories))"
   ]
  },
  {
   "cell_type": "code",
   "execution_count": null,
   "metadata": {},
   "outputs": [],
   "source": []
  },
  {
   "cell_type": "code",
   "execution_count": 26,
   "metadata": {},
   "outputs": [
    {
     "name": "stderr",
     "output_type": "stream",
     "text": [
      "/home/lumierra/Project-Python/.env/lib/python3.6/site-packages/sklearn/cross_validation.py:41: DeprecationWarning: This module was deprecated in version 0.18 in favor of the model_selection module into which all the refactored classes and functions are moved. Also note that the interface of the new CV iterators are different from that of this module. This module will be removed in 0.20.\n",
      "  \"This module will be removed in 0.20.\", DeprecationWarning)\n"
     ]
    }
   ],
   "source": [
    "import textacy\n",
    "from sklearn.naive_bayes import MultinomialNB\n",
    "from textacy.preprocess import preprocess_text\n",
    "from sklearn.cross_validation import train_test_split\n",
    "from sklearn.feature_extraction.text import TfidfVectorizer"
   ]
  },
  {
   "cell_type": "code",
   "execution_count": 27,
   "metadata": {},
   "outputs": [],
   "source": [
    "tfidf = TfidfVectorizer(min_df=1, max_df=0.25)"
   ]
  },
  {
   "cell_type": "code",
   "execution_count": 28,
   "metadata": {},
   "outputs": [],
   "source": [
    "X_train, X_test, y_train, y_test = train_test_split(df['cleanContent'], df['category'])"
   ]
  },
  {
   "cell_type": "code",
   "execution_count": 29,
   "metadata": {},
   "outputs": [],
   "source": [
    "X1 = tfidf.fit_transform(X_train)"
   ]
  },
  {
   "cell_type": "code",
   "execution_count": 30,
   "metadata": {},
   "outputs": [
    {
     "data": {
      "text/plain": [
       "(77416, 208264)"
      ]
     },
     "execution_count": 30,
     "metadata": {},
     "output_type": "execute_result"
    }
   ],
   "source": [
    "X1.shape"
   ]
  },
  {
   "cell_type": "code",
   "execution_count": 31,
   "metadata": {},
   "outputs": [
    {
     "name": "stdout",
     "output_type": "stream",
     "text": [
      "X_traint : 77416\n",
      "X_test   : 25806\n",
      "Total    : 103222\n"
     ]
    }
   ],
   "source": [
    "print('X_traint : {}'.format(len(X_train)))\n",
    "print('X_test   : {}'.format(len(X_test)))\n",
    "print('Total    : {}'.format(len(X_train) + len(X_test)))"
   ]
  },
  {
   "cell_type": "code",
   "execution_count": 32,
   "metadata": {},
   "outputs": [],
   "source": [
    "clf = MultinomialNB().fit(X1, y_train)"
   ]
  },
  {
   "cell_type": "code",
   "execution_count": 33,
   "metadata": {},
   "outputs": [],
   "source": [
    "def get_categoryMNB(text):\n",
    "    result_cleanText = textacy.preprocess_text(text,lowercase=True,no_urls=True,no_numbers=True,no_punct=True)\n",
    "    hasil_prediksi = clf.predict(tfidf.transform([result_cleanText]))\n",
    "    return hasil_prediksi"
   ]
  },
  {
   "cell_type": "code",
   "execution_count": 34,
   "metadata": {},
   "outputs": [],
   "source": [
    "new_title = '''Arifin Ilham Sakit, Ini 7 Tips Bantuan Saat Kerabat Sakit'''"
   ]
  },
  {
   "cell_type": "code",
   "execution_count": 35,
   "metadata": {},
   "outputs": [
    {
     "name": "stdout",
     "output_type": "stream",
     "text": [
      "['entertainment']\n"
     ]
    }
   ],
   "source": [
    "print(get_categoryMNB(new_title))"
   ]
  },
  {
   "cell_type": "code",
   "execution_count": 36,
   "metadata": {},
   "outputs": [
    {
     "name": "stdout",
     "output_type": "stream",
     "text": [
      "0.9646326340808101\n"
     ]
    }
   ],
   "source": [
    "print(clf.score(X1, y_train))"
   ]
  },
  {
   "cell_type": "code",
   "execution_count": 37,
   "metadata": {},
   "outputs": [],
   "source": [
    "from sklearn.metrics import confusion_matrix\n",
    "from sklearn.pipeline import make_pipeline\n",
    "import seaborn as sns; sns.set()"
   ]
  },
  {
   "cell_type": "code",
   "execution_count": 38,
   "metadata": {},
   "outputs": [],
   "source": [
    "model = make_pipeline(TfidfVectorizer(min_df=1, max_df=0.25), MultinomialNB())"
   ]
  },
  {
   "cell_type": "code",
   "execution_count": 39,
   "metadata": {},
   "outputs": [],
   "source": [
    "model.fit(X_train, y_train)\n",
    "labels = model.predict(X_test)"
   ]
  },
  {
   "cell_type": "code",
   "execution_count": 43,
   "metadata": {},
   "outputs": [
    {
     "name": "stdout",
     "output_type": "stream",
     "text": [
      "Table Confusion Matrix\n",
      "=========================\n",
      "\n",
      "Accuracy 0.9593117879562892\n",
      "=========================\n",
      "\n",
      "               precision    recall  f1-score   support\n",
      "\n",
      "         news       0.92      0.97      0.95      3778\n",
      "       bisnis       0.96      0.97      0.96      3784\n",
      "       sports       0.96      0.93      0.95      3768\n",
      "entertainment       0.94      0.97      0.95      3738\n",
      "        tekno       0.98      0.97      0.97      3777\n",
      "     otomotif       0.99      0.97      0.98      3734\n",
      "       health       0.98      0.92      0.95      3227\n",
      "\n",
      "  avg / total       0.96      0.96      0.96     25806\n",
      "\n"
     ]
    }
   ],
   "source": [
    "print(\"Table Confusion Matrix\")\n",
    "print(\"=========================\\n\")\n",
    "print('Accuracy %s' % accuracy_score(labels, y_test))\n",
    "print('=========================\\n')\n",
    "print(classification_report(y_test, labels,target_names=categories))"
   ]
  },
  {
   "cell_type": "code",
   "execution_count": 40,
   "metadata": {},
   "outputs": [
    {
     "data": {
      "image/png": "[encoded data removed]",
      "text/plain": [
       "<Figure size 720x720 with 2 Axes>"
      ]
     },
     "metadata": {},
     "output_type": "display_data"
    }
   ],
   "source": [
    "mat = confusion_matrix(y_test, labels)\n",
    "f, ax = plt.subplots(figsize=(10, 10))\n",
    "\n",
    "sns.heatmap(mat.T, square=True, annot=True, fmt='d', cbar=True,linewidths=.6, ax=ax,\n",
    "            xticklabels=categories, yticklabels=categories)\n",
    "plt.xlabel('true label')\n",
    "plt.ylabel('predicted label');"
   ]
  },
  {
   "cell_type": "code",
   "execution_count": null,
   "metadata": {},
   "outputs": [],
   "source": []
  },
  {
   "cell_type": "code",
   "execution_count": null,
   "metadata": {},
   "outputs": [],
   "source": []
  },
  {
   "cell_type": "code",
   "execution_count": null,
   "metadata": {},
   "outputs": [],
   "source": []
  },
  {
   "cell_type": "code",
   "execution_count": null,
   "metadata": {},
   "outputs": [],
   "source": []
  },
  {
   "cell_type": "code",
   "execution_count": null,
   "metadata": {},
   "outputs": [],
   "source": []
  },
  {
   "cell_type": "markdown",
   "metadata": {},
   "source": [
    "## Check Data"
   ]
  },
  {
   "cell_type": "code",
   "execution_count": null,
   "metadata": {},
   "outputs": [],
   "source": [
    "# Load data dari Database MongoDB \n",
    "client = pymongo.MongoClient(\"mongodb://localhost:27017\")\n",
    "database = client.iStorage\n",
    "collection = database.iData"
   ]
  },
  {
   "cell_type": "code",
   "execution_count": 92,
   "metadata": {},
   "outputs": [],
   "source": [
    "def insertData(attr=None):\n",
    "    client = pymongo.MongoClient(\"mongodb://localhost:27017\")\n",
    "    database = client.iStorage\n",
    "    collection = database.dataset\n",
    "    collection.insert_one(attr)\n",
    "    \n",
    "#     try:\n",
    "#         collection.insert(attr)\n",
    "#         print('Insert Data into MongoDB Successfully')\n",
    "#     except:\n",
    "#         print('Insert Data into Mongod Failed')"
   ]
  },
  {
   "cell_type": "code",
   "execution_count": 141,
   "metadata": {},
   "outputs": [],
   "source": [
    "def getData(category=None):\n",
    "    client = pymongo.MongoClient(\"mongodb://localhost:27017\")\n",
    "    database = client.iStorage\n",
    "    collection = database.dataset\n",
    "    \n",
    "    iData = []\n",
    "    iQuery = collection.find(\n",
    "        {\"category\": \"{}\".format(category)}, \n",
    "        {\n",
    "            \"category\": 1, \n",
    "            \"title\": 1,\n",
    "            \"url\": 1,\n",
    "            \"cleanContent\": 1\n",
    "        })\n",
    "    \n",
    "    for query in iQuery: iData.append(query)\n",
    "        \n",
    "    return iData"
   ]
  },
  {
   "cell_type": "code",
   "execution_count": 70,
   "metadata": {},
   "outputs": [],
   "source": [
    "def deleteData(col=None):\n",
    "    client = pymongo.MongoClient(\"mongodb://localhost:27017\")\n",
    "    database = client.iStorage\n",
    "    collection = database[\"{}\".format(col)]\n",
    "    \n",
    "    query = collection.remove({})"
   ]
  },
  {
   "cell_type": "code",
   "execution_count": 72,
   "metadata": {},
   "outputs": [],
   "source": [
    "# Hapus Data di Collection\n",
    "# deleteData('dataset')"
   ]
  },
  {
   "cell_type": "code",
   "execution_count": 87,
   "metadata": {},
   "outputs": [],
   "source": [
    "def makeDataset2(category=None):\n",
    "    data = getData('{}'.format(category))\n",
    "    benar = 0\n",
    "    salah = 0\n",
    "    for d in tqdm(data):\n",
    "        if data['category'] == get_categoryMNB(data['title']):\n",
    "            benar+=1\n",
    "            insertData(data)\n",
    "        else: salah+=1\n",
    "\n",
    "    print('=============================')\n",
    "    print('Benar : {}'.format(benar))\n",
    "    print('Salah : {}'.format(salah))"
   ]
  },
  {
   "cell_type": "code",
   "execution_count": 96,
   "metadata": {},
   "outputs": [
    {
     "name": "stderr",
     "output_type": "stream",
     "text": [
      "100%|██████████| 140906/140906 [10:21<00:00, 226.57it/s]"
     ]
    },
    {
     "name": "stdout",
     "output_type": "stream",
     "text": [
      "=============================\n",
      "Benar : 92263\n",
      "Salah : 48643\n"
     ]
    },
    {
     "name": "stderr",
     "output_type": "stream",
     "text": [
      "\n"
     ]
    }
   ],
   "source": [
    "makeDataset2('news')"
   ]
  },
  {
   "cell_type": "code",
   "execution_count": null,
   "metadata": {},
   "outputs": [],
   "source": []
  },
  {
   "cell_type": "code",
   "execution_count": 142,
   "metadata": {},
   "outputs": [],
   "source": [
    "def makeDataset(category=None):\n",
    "    data = getData('{}'.format(category))\n",
    "    benar = 0\n",
    "    salah = 0\n",
    "    for i in tqdm(range(len(data))[:100]):\n",
    "        print(data[i]['title'])\n",
    "        print('Kategori : ' + data[i]['category'])\n",
    "        print(get_categoryMNB(data[i]['title']))\n",
    "        if data[i]['category'] == get_categoryMNB(data[i]['cleanContent']): \n",
    "            benar+=1\n",
    "            print('Benar')\n",
    "#             insertData(data[i])\n",
    "        else: \n",
    "            salah+=1\n",
    "            print('Salah')\n",
    "        print('======================================\\n')\n",
    "\n",
    "    print('=============================')\n",
    "    print('Benar : {}'.format(benar))\n",
    "    print('Salah : {}'.format(salah))"
   ]
  },
  {
   "cell_type": "code",
   "execution_count": 143,
   "metadata": {},
   "outputs": [
    {
     "name": "stderr",
     "output_type": "stream",
     "text": [
      " 15%|█▌        | 15/100 [00:00<00:00, 144.80it/s]"
     ]
    },
    {
     "name": "stdout",
     "output_type": "stream",
     "text": [
      "Awal Tahun Baru 2019 Jokowi Jogging, Intip Manfaat Baiknya\n",
      "Kategori : health\n",
      "['health']\n",
      "Benar\n",
      "======================================\n",
      "\n",
      "Resolusi 2019, Mario Kahitna Akan Kurangi Penggunaan Plastik\n",
      "Kategori : health\n",
      "['tekno']\n",
      "Benar\n",
      "======================================\n",
      "\n",
      "Rayakan Tahun Baru 2019, Intip Gaya Jimin BTS Sapa Army\n",
      "Kategori : health\n",
      "['entertainment']\n",
      "Salah\n",
      "======================================\n",
      "\n",
      "Tahun Baru 2019, Intip Foto Keluarga Selebriti Ini\n",
      "Kategori : health\n",
      "['health']\n",
      "Salah\n",
      "======================================\n",
      "\n",
      "Anak Memiliki Akun Media Sosial Sejak Dini, Ini Kata Psikolog\n",
      "Kategori : health\n",
      "['health']\n",
      "Benar\n",
      "======================================\n",
      "\n",
      "Libur Tahun Baru, Anda di Rumah Saja? Intip 4 Kegiatan Seru\n",
      "Kategori : health\n",
      "['health']\n",
      "Salah\n",
      "======================================\n",
      "\n",
      "Tahun Baru Pesta Kembang Api, Sejarahnya untuk Usir Roh Jahat\n",
      "Kategori : health\n",
      "['health']\n",
      "Salah\n",
      "======================================\n",
      "\n",
      "Tahun 2019 Akan Jadi Tahun Keberuntungan untuk 3 Zodiak Ini\n",
      "Kategori : health\n",
      "['tekno']\n",
      "Benar\n",
      "======================================\n",
      "\n",
      "Tips Semangat Bekerja Setelah Libur Akhir Tahun\n",
      "Kategori : health\n",
      "['health']\n",
      "Benar\n",
      "======================================\n",
      "\n",
      "Sandiaga Uno Tak Suka Ikat Pinggang, Ini Penggantinya\n",
      "Kategori : health\n",
      "['news']\n",
      "Benar\n",
      "======================================\n",
      "\n",
      "Beda Pilihan Brand Fashion antara Kai EXO dan Jennie Blackpink\n",
      "Kategori : health\n",
      "['entertainment']\n",
      "Salah\n",
      "======================================\n",
      "\n",
      "Pengetahuan Pasien Soal Asma Banyak yang Salah, Apa Saja?\n",
      "Kategori : health\n",
      "['health']\n",
      "Benar\n",
      "======================================\n",
      "\n",
      "Sulitnya Penanganan Asma saat di Puskesmas, Ini Penelitiannya\n",
      "Kategori : health\n",
      "['health']\n",
      "Benar\n",
      "======================================\n",
      "\n",
      "Tetap Stres Setelah Liburan? Mungkin Anda Kelelahan\n",
      "Kategori : health\n",
      "['health']\n",
      "Benar\n",
      "======================================\n",
      "\n",
      "Intip Lucunya Bill Gates Gunakan Matematika saat Potong Kue\n",
      "Kategori : health\n",
      "['health']\n",
      "Benar\n",
      "======================================\n",
      "\n",
      "Ingin Putus dengan Pasangan? Katakan Tegas tanpa Kalimat Ambigu\n",
      "Kategori : health\n",
      "['health']\n",
      "Benar\n",
      "======================================\n",
      "\n",
      "Pernikahan Putra Mahkota Paku Alam X, Intip Prosesi Adat Nyengker\n",
      "Kategori : health\n",
      "['health']\n",
      "Benar\n",
      "======================================\n",
      "\n",
      "Royal Wedding, Putra Mahkota Paku Alam X Nikahi Teman Sekolah\n",
      "Kategori : health\n",
      "['health']\n",
      "Benar\n",
      "======================================\n",
      "\n",
      "Introvert Pas dengan Aroma Parfum Bunga Sakura, Kepribadian Lain?\n",
      "Kategori : health\n",
      "['health']\n",
      "Benar\n",
      "======================================\n",
      "\n",
      "3 Gejala Umum Pasien Kanker, Ada Depresi dan Gangguan Tidur\n",
      "Kategori : health\n",
      "['health']\n",
      "Benar\n",
      "======================================\n",
      "\n",
      "Resolusi 2019 Mau Lebih Bahagia? Lakukan 4 Tips Mudah Ini \n",
      "Kategori : health\n",
      "['tekno']\n",
      "Benar\n",
      "======================================\n",
      "\n",
      "Anjasmara Bela Istri yang Alami Body Shaming, Intip Jenis Bully\n",
      "Kategori : health\n",
      "['health']\n",
      "Benar\n",
      "======================================\n",
      "\n",
      "Royal Wedding Indonesia: Pernikahan Putra Mahkota Paku Alam Yogya\n",
      "Kategori : health\n",
      "['health']\n",
      "Salah\n",
      "======================================\n",
      "\n",
      "Gaya Rambut Pria Ini Diprediksi Hits di 2019\n",
      "Kategori : health\n",
      "['health']\n",
      "Benar\n",
      "======================================\n",
      "\n",
      "5 Strategi Mudah untuk Atasi Konflik di Tempat Kerja untuk HRD\n",
      "Kategori : health\n",
      "['tekno']\n",
      "Benar\n",
      "======================================\n",
      "\n",
      "Ingin Ginjal Sehat? Hindari Minuman Berpemanis\n",
      "Kategori : health\n",
      "['health']\n",
      "Benar\n",
      "======================================\n",
      "\n",
      "V BTS Ditantang Masak Steak, Intip Tips Buat Steak Lezat\n",
      "Kategori : health\n",
      "['health']\n",
      "Benar\n",
      "======================================\n",
      "\n",
      "Makanan Organik Menurunkan Risiko Kanker? Ini Penelitiannya\n",
      "Kategori : health\n",
      "['health']\n",
      "Benar\n",
      "======================================\n",
      "\n",
      "Resolusi 2019, Empat Cara Sederhana Hidup Sehat \n",
      "Kategori : health\n",
      "['tekno']\n",
      "Benar\n",
      "======================================\n",
      "\n",
      "Pernikahan Putra Mahkota Paku Alam X, Intip Makna Prosesi Siraman\n",
      "Kategori : health\n",
      "['health']\n"
     ]
    },
    {
     "name": "stderr",
     "output_type": "stream",
     "text": [
      " 44%|████▍     | 44/100 [00:00<00:00, 142.61it/s]"
     ]
    },
    {
     "name": "stdout",
     "output_type": "stream",
     "text": [
      "Salah\n",
      "======================================\n",
      "\n",
      "Torro Margens Sempat Muntah Darah saat Syuting, Apa Penyebabnya?\n",
      "Kategori : health\n",
      "['health']\n",
      "Benar\n",
      "======================================\n",
      "\n",
      "Ini Gejala Infeksi Lambung, Penyakit yang Diderita Torro Margens \n",
      "Kategori : health\n",
      "['health']\n",
      "Benar\n",
      "======================================\n",
      "\n",
      "RM Bergaya Rambut Mohawk, Intip 7 Gaya Unik Personel BTS Lainnya \n",
      "Kategori : health\n",
      "['health']\n",
      "Benar\n",
      "======================================\n",
      "\n",
      "Aktor Senior Torro Margens Meninggal, Ini 3 Fakta Uniknya\n",
      "Kategori : health\n",
      "['entertainment']\n",
      "Salah\n",
      "======================================\n",
      "\n",
      "Pelecehan Seksual Pejabat BPJS, Intip Cara Mencegah Hal Serupa\n",
      "Kategori : health\n",
      "['health']\n",
      "Salah\n",
      "======================================\n",
      "\n",
      "Ricky Cuaca Turun 38 Kilogram Dengan Plank, Ini Caranya\n",
      "Kategori : health\n",
      "['tekno']\n",
      "Benar\n",
      "======================================\n",
      "\n",
      "Selain jadi Aktor, Torro Margens Pernah Bela Kaum Tergusur\n",
      "Kategori : health\n",
      "['entertainment']\n",
      "Salah\n",
      "======================================\n",
      "\n",
      "Kembali Sehat, Kenali Virus yang Menyerang Ryeowook  Super Junior\n",
      "Kategori : health\n",
      "['health']\n",
      "Benar\n",
      "======================================\n",
      "\n",
      "Ini Rahasia Perawatan Rambut Gondrong Steve Aoki\n",
      "Kategori : health\n",
      "['health']\n",
      "Benar\n",
      "======================================\n",
      "\n",
      "Pria, Mau Tampil Gaya? Jangan Pernah Lakukan Ini\n",
      "Kategori : health\n",
      "['health']\n",
      "Benar\n",
      "======================================\n",
      "\n",
      "Studi: Semakin Pandai Mencium Bau, Semakin Langsing Tubuh Orang\n",
      "Kategori : health\n",
      "['health']\n",
      "Benar\n",
      "======================================\n",
      "\n",
      "Kualitas Seks Mau Lebih Prima? Lakukan 4 Olahraga ini\n",
      "Kategori : health\n",
      "['health']\n",
      "Benar\n",
      "======================================\n",
      "\n",
      "Menyetir Tutup Mata, Netflix Larang Lakukan #BirdBoxChallenge\n",
      "Kategori : health\n",
      "['health']\n",
      "Salah\n",
      "======================================\n",
      "\n",
      "Putra Mahkota Paku Alam X Nikah, Ada Sesepuh Kerajaan Nusantara\n",
      "Kategori : health\n",
      "['news']\n",
      "Salah\n",
      "======================================\n",
      "\n",
      "Ada Dog's Dream Park, Sekarang Anda Bisa Bawa Anjing ke Mall Ini\n",
      "Kategori : health\n",
      "['health']\n",
      "Benar\n",
      "======================================\n",
      "\n",
      "Makan Telur Teratur oleh Pria, Perkecil Risiko Diabetes Tipe 2?\n",
      "Kategori : health\n",
      "['health']\n",
      "Benar\n",
      "======================================\n",
      "\n",
      "Makan Lebih Sering Bisa Bantu Penurunan Berat Badan Anda\n",
      "Kategori : health\n",
      "['health']\n",
      "Benar\n",
      "======================================\n",
      "\n",
      "Menikah, Putra Mahkota Paku Alam X Gunakan Batik yang Sakral\n",
      "Kategori : health\n",
      "['health']\n",
      "Benar\n",
      "======================================\n",
      "\n",
      "Kim Kardashian Pernah Sakit Selfie Wrist, Dampak Negatif Selfie\n",
      "Kategori : health\n",
      "['health']\n",
      "Benar\n",
      "======================================\n",
      "\n",
      "Putra Mahkota Paku Alam X Menikah, Intip Gaya Busana Akad Mereka\n",
      "Kategori : health\n",
      "['health']\n",
      "Salah\n",
      "======================================\n",
      "\n",
      "Kena Dampak Peran Antagonis, Torro Margens Pernah Cari Psikiater\n",
      "Kategori : health\n",
      "['health']\n",
      "Salah\n",
      "======================================\n",
      "\n",
      "4 Tren Fashion yang Akan Kehilangan Pamor di 2019\n",
      "Kategori : health\n",
      "['tekno']\n",
      "Benar\n",
      "======================================\n",
      "\n",
      "Torro Margens Menderita Infeksi Lambung, Intip Cara Mencegahnya\n",
      "Kategori : health\n",
      "['health']\n",
      "Benar\n",
      "======================================\n",
      "\n",
      "Bagaimana Perbedaan Frekuensi Menangis Antara Pria dan Wanita?\n",
      "Kategori : health\n",
      "['health']\n",
      "Benar\n",
      "======================================\n",
      "\n",
      "Pernah Alami Kaku Leher? Obati dengan Pertolongan Pertama Ini\n",
      "Kategori : health\n",
      "['health']\n",
      "Benar\n",
      "======================================\n",
      "\n",
      "Stres dan Berat Badan Besar Sebabkan Disfungsi Ereksi, Apa Lagi?\n",
      "Kategori : health\n",
      "['health']\n",
      "Benar\n",
      "======================================\n",
      "\n",
      "Gandeng Michael B Jordan, Coach Pamerkan Koleksi Musim Semi 2019\n",
      "Kategori : health\n",
      "['health']\n",
      "Benar\n",
      "======================================\n",
      "\n",
      "Golden Globe Awards, Simak 5 Momen Uniknya\n",
      "Kategori : health\n",
      "['tekno']\n",
      "Salah\n",
      "======================================\n",
      "\n",
      "Mau Lari Malam Hari? Coba Pakai Sepatu Ini\n",
      "Kategori : health\n",
      "['health']\n"
     ]
    },
    {
     "name": "stderr",
     "output_type": "stream",
     "text": [
      " 74%|███████▍  | 74/100 [00:00<00:00, 143.01it/s]"
     ]
    },
    {
     "name": "stdout",
     "output_type": "stream",
     "text": [
      "Benar\n",
      "======================================\n",
      "\n",
      "Pengeluaran Pria Inggris untuk Fashion Meningkat\n",
      "Kategori : health\n",
      "['health']\n",
      "Benar\n",
      "======================================\n",
      "\n",
      " Putra Mahkota Menikah, Paku Alam X Ciptakan Tarian Khusus\n",
      "Kategori : health\n",
      "['entertainment']\n",
      "Benar\n",
      "======================================\n",
      "\n",
      "Studi: Gagasan Bisa Muncul Saat Jenuh\n",
      "Kategori : health\n",
      "['health']\n",
      "Benar\n",
      "======================================\n",
      "\n",
      "Menu Sehat Mahal? Coba Trik Ini\n",
      "Kategori : health\n",
      "['health']\n",
      "Benar\n",
      "======================================\n",
      "\n",
      "4 Sepatu Basket yang Nyaman versi Mario Lawalata\n",
      "Kategori : health\n",
      "['health']\n",
      "Benar\n",
      "======================================\n",
      "\n",
      "Ragu Imunisasi? Cek Dulu Faktanya\n",
      "Kategori : health\n",
      "['health']\n",
      "Benar\n",
      "======================================\n",
      "\n",
      "Adopsi Anjing yang Terbuang, Apa Langkah - Langkahnya?\n",
      "Kategori : health\n",
      "['health']\n",
      "Benar\n",
      "======================================\n",
      "\n",
      "Beberapa Kesalahan Perawatan yang Sering Dilakukan Pemilik Anjing\n",
      "Kategori : health\n",
      "['health']\n",
      "Benar\n",
      "======================================\n",
      "\n",
      "Masturbasi untuk Pria Dapat Tingkatkan Imunitas Tubuh, Apa Lagi?\n",
      "Kategori : health\n",
      "['health']\n",
      "Benar\n",
      "======================================\n",
      "\n",
      "5 Mitos Seputar Sembelit\n",
      "Kategori : health\n",
      "['health']\n",
      "Benar\n",
      "======================================\n",
      "\n",
      "Detak Jantung Tak Terdeteksi, Bayi ini Selamat Setelah Dilahirkan\n",
      "Kategori : health\n",
      "['health']\n",
      "Benar\n",
      "======================================\n",
      "\n",
      "Selain Cokelat dan Semangka, Makanan Ini Cegah Disfungsi Ereksi\n",
      "Kategori : health\n",
      "['health']\n",
      "Benar\n",
      "======================================\n",
      "\n",
      "Melepas Sepatu di Luar Rumah Jadi Kebiasaan Baik, Mengapa?\n",
      "Kategori : health\n",
      "['health']\n",
      "Benar\n",
      "======================================\n",
      "\n",
      "Makan Banyak tapi Tidak Gemuk, Ini Siasatnya\n",
      "Kategori : health\n",
      "['health']\n",
      "Benar\n",
      "======================================\n",
      "\n",
      "Golden Globe, Intip Gaya Nyentrik Para Selebritas Hollywood Ini\n",
      "Kategori : health\n",
      "['health']\n",
      "Benar\n",
      "======================================\n",
      "\n",
      "Ternyata, Tubuh Juga Butuh Kolesterol \n",
      "Kategori : health\n",
      "['health']\n",
      "Benar\n",
      "======================================\n",
      "\n",
      "Olahraga yang Tren di 2019, Ada Yoga dan Zumba \n",
      "Kategori : health\n",
      "['health']\n",
      "Benar\n",
      "======================================\n",
      "\n",
      "4 Tips Kencan Pertama untuk Pria\n",
      "Kategori : health\n",
      "['health']\n",
      "Benar\n",
      "======================================\n",
      "\n",
      "Pernikahan Putra Mahkota Paku Alam X, Tamu Rela Mengantre Panjang\n",
      "Kategori : health\n",
      "['health']\n",
      "Benar\n",
      "======================================\n",
      "\n",
      "Pernikahan Putra Mahkota Paku Alam X, Cinta Mekar Usai SMA\n",
      "Kategori : health\n",
      "['entertainment']\n",
      "Benar\n",
      "======================================\n",
      "\n",
      "Pola Tidur Terbalik Bikin Kekurangan Nutrisi? Ini Kata Ahli \n",
      "Kategori : health\n",
      "['health']\n",
      "Benar\n",
      "======================================\n",
      "\n",
      "Pasangan Fiktif Nurhadi - Aldo Semakin Populer, Ini 4 Unggahannya\n",
      "Kategori : health\n",
      "['tekno']\n",
      "Salah\n",
      "======================================\n",
      "\n",
      "Khawatir Anak Terpapar Konten Negatif  Internet? Bisa Dicegah\n",
      "Kategori : health\n",
      "['health']\n",
      "Benar\n",
      "======================================\n",
      "\n",
      "Agar Rasa Jenuh Berbuah Ide Cemerlang, Hindari ini\n",
      "Kategori : health\n",
      "['health']\n",
      "Benar\n",
      "======================================\n",
      "\n",
      "Yakin Alergi Makanan? Intip Gejala-gejalanya\n",
      "Kategori : health\n",
      "['health']\n",
      "Benar\n",
      "======================================\n",
      "\n",
      "Arifin Ilham Pernah Mengidap Kanker Nasofaring, Ini Penjelasannya\n",
      "Kategori : health\n",
      "['entertainment']\n",
      "Benar\n",
      "======================================\n",
      "\n",
      "Yuk Meditasi untuk Hindari Sakit, Ini Penelitiannya\n",
      "Kategori : health\n",
      "['health']\n",
      "Benar\n",
      "======================================\n",
      "\n",
      "Minuman Bervitamin Yakin Bermanfaat? Intip Kata Dokter\n",
      "Kategori : health\n",
      "['health']\n"
     ]
    },
    {
     "name": "stderr",
     "output_type": "stream",
     "text": [
      "100%|██████████| 100/100 [00:00<00:00, 140.05it/s]"
     ]
    },
    {
     "name": "stdout",
     "output_type": "stream",
     "text": [
      "Benar\n",
      "======================================\n",
      "\n",
      "Tidak Bertenaga, Ciri Metabolisme Tubuh Anda Lambat. Apa Lagi?\n",
      "Kategori : health\n",
      "['health']\n",
      "Benar\n",
      "======================================\n",
      "\n",
      "Ustad Arifin Ilham Terkena Kanker Getah Bening? Kanker Apa Itu?\n",
      "Kategori : health\n",
      "['health']\n",
      "Benar\n",
      "======================================\n",
      "\n",
      "Jakarta Sering Hujan, Ini Makanan Terlezat Hangatkan Badan\n",
      "Kategori : health\n",
      "['health']\n",
      "Benar\n",
      "======================================\n",
      "\n",
      "Makanan Sehat Cegah Kanker Usus Besar\n",
      "Kategori : health\n",
      "['health']\n",
      "Benar\n",
      "======================================\n",
      "\n",
      "Panti Asuhan Dianggap Mampu Kurangi Gelandangan\n",
      "Kategori : health\n",
      "['health']\n",
      "Salah\n",
      "======================================\n",
      "\n",
      "Mau Kuliah di Oxford, Intip Tips Ketua Perhimpunan Alumni Oxford\n",
      "Kategori : health\n",
      "['health']\n",
      "Benar\n",
      "======================================\n",
      "\n",
      "Lima Kiat Mudah Memilih Sepatu Bot, Cek 5 Hal Ini\n",
      "Kategori : health\n",
      "['health']\n",
      "Benar\n",
      "======================================\n",
      "\n",
      "Akan Ada Boneka BTS, Intip Harganya\n",
      "Kategori : health\n",
      "['health']\n",
      "Salah\n",
      "======================================\n",
      "\n",
      "4 Kesalahan Kesehatan yang Sering Diabaikan Pria\n",
      "Kategori : health\n",
      "['health']\n",
      "Benar\n",
      "======================================\n",
      "\n",
      "Arifin Ilham Sakit, Ini 7 Tips Bantuan Saat Kerabat Sakit\n",
      "Kategori : health\n",
      "['entertainment']\n",
      "Benar\n",
      "======================================\n",
      "\n",
      "Jahe Dapat Turunkan Kolesterol, Cek 4 Manfaat Ampuh Lainnya\n",
      "Kategori : health\n",
      "['health']\n",
      "Benar\n",
      "======================================\n",
      "\n",
      "3 Ciri Pria Pemberi Harapan Palsu, Pernah Mengalaminya?\n",
      "Kategori : health\n",
      "['health']\n",
      "Benar\n",
      "======================================\n",
      "\n",
      "Peneliti : Tubuh Manusia Bisa Sembuhkan Diabetes di Masa Depan\n",
      "Kategori : health\n",
      "['health']\n",
      "Benar\n",
      "======================================\n",
      "\n",
      "=============================\n",
      "Benar : 82\n",
      "Salah : 18\n"
     ]
    },
    {
     "name": "stderr",
     "output_type": "stream",
     "text": [
      "\n"
     ]
    }
   ],
   "source": [
    "makeDataset('health')"
   ]
  },
  {
   "cell_type": "code",
   "execution_count": null,
   "metadata": {},
   "outputs": [],
   "source": []
  },
  {
   "cell_type": "code",
   "execution_count": null,
   "metadata": {},
   "outputs": [],
   "source": []
  },
  {
   "cell_type": "code",
   "execution_count": null,
   "metadata": {},
   "outputs": [],
   "source": []
  },
  {
   "cell_type": "code",
   "execution_count": null,
   "metadata": {},
   "outputs": [],
   "source": []
  },
  {
   "cell_type": "code",
   "execution_count": null,
   "metadata": {},
   "outputs": [],
   "source": []
  },
  {
   "cell_type": "code",
   "execution_count": null,
   "metadata": {},
   "outputs": [],
   "source": []
  },
  {
   "cell_type": "markdown",
   "metadata": {},
   "source": [
    "## Save Model Naive Bayes MultinomialNB"
   ]
  },
  {
   "cell_type": "code",
   "execution_count": 37,
   "metadata": {},
   "outputs": [],
   "source": [
    "import pickle"
   ]
  },
  {
   "cell_type": "code",
   "execution_count": 50,
   "metadata": {},
   "outputs": [],
   "source": [
    "pkl_filename = 'modelMNB.pkl'\n",
    "with open(pkl_filename, 'wb') as file:\n",
    "    pickle.dump(modelMNB, file)"
   ]
  },
  {
   "cell_type": "code",
   "execution_count": 51,
   "metadata": {},
   "outputs": [],
   "source": [
    "# Load from file\n",
    "with open(pkl_filename, 'rb') as file:\n",
    "    pickle_model = pickle.load(file)"
   ]
  },
  {
   "cell_type": "code",
   "execution_count": 54,
   "metadata": {},
   "outputs": [
    {
     "name": "stdout",
     "output_type": "stream",
     "text": [
      "Test score: 91.58 %\n"
     ]
    }
   ],
   "source": [
    "# Calculate the accuracy score and predict target values\n",
    "score = pickle_model.score(X1, y_train)\n",
    "print(\"Test score: {0:.2f} %\".format(100 * score))\n",
    "Ypredict = pickle_model.predict(X1)"
   ]
  },
  {
   "cell_type": "code",
   "execution_count": 55,
   "metadata": {},
   "outputs": [],
   "source": [
    "def get_categoryMNB(text):\n",
    "    result_cleanText = textacy.preprocess_text(text,lowercase=True,no_urls=True,no_numbers=True,no_punct=True)\n",
    "    hasil_prediksi = pickle_model.predict(tfidf.transform([result_cleanText]))\n",
    "    return hasil_prediksi"
   ]
  },
  {
   "cell_type": "code",
   "execution_count": 56,
   "metadata": {},
   "outputs": [],
   "source": [
    "title = '''Waspadalah, Stroke Kini Sudah Menyerang Orang Usia 30-an'''"
   ]
  },
  {
   "cell_type": "code",
   "execution_count": 59,
   "metadata": {},
   "outputs": [
    {
     "name": "stdout",
     "output_type": "stream",
     "text": [
      "health\n"
     ]
    }
   ],
   "source": [
    "print(get_categoryMNB(title)[0])"
   ]
  },
  {
   "cell_type": "code",
   "execution_count": null,
   "metadata": {},
   "outputs": [],
   "source": []
  },
  {
   "cell_type": "code",
   "execution_count": null,
   "metadata": {},
   "outputs": [],
   "source": []
  },
  {
   "cell_type": "code",
   "execution_count": null,
   "metadata": {},
   "outputs": [],
   "source": []
  },
  {
   "cell_type": "code",
   "execution_count": null,
   "metadata": {},
   "outputs": [],
   "source": []
  },
  {
   "cell_type": "markdown",
   "metadata": {},
   "source": [
    "## Joblib"
   ]
  },
  {
   "cell_type": "code",
   "execution_count": 10,
   "metadata": {},
   "outputs": [],
   "source": [
    "from sklearn.externals import joblib"
   ]
  },
  {
   "cell_type": "code",
   "execution_count": 126,
   "metadata": {},
   "outputs": [
    {
     "data": {
      "text/plain": [
       "['model_joblib']"
      ]
     },
     "execution_count": 126,
     "metadata": {},
     "output_type": "execute_result"
    }
   ],
   "source": [
    "joblib.dump(modelMNB, 'model_joblib')"
   ]
  },
  {
   "cell_type": "code",
   "execution_count": 127,
   "metadata": {},
   "outputs": [],
   "source": [
    "mj = joblib.load('model_joblib')"
   ]
  },
  {
   "cell_type": "code",
   "execution_count": 128,
   "metadata": {},
   "outputs": [
    {
     "data": {
      "text/plain": [
       "0.8939410971223022"
      ]
     },
     "execution_count": 128,
     "metadata": {},
     "output_type": "execute_result"
    }
   ],
   "source": [
    "mj.score(X1, y_train)"
   ]
  },
  {
   "cell_type": "code",
   "execution_count": 129,
   "metadata": {},
   "outputs": [
    {
     "data": {
      "text/plain": [
       "array(['entertainment'], dtype='<U13')"
      ]
     },
     "execution_count": 129,
     "metadata": {},
     "output_type": "execute_result"
    }
   ],
   "source": [
    "mj.predict(tfidf.transform([new_title]))"
   ]
  },
  {
   "cell_type": "code",
   "execution_count": null,
   "metadata": {},
   "outputs": [],
   "source": []
  },
  {
   "cell_type": "markdown",
   "metadata": {},
   "source": [
    "## Testing"
   ]
  },
  {
   "cell_type": "code",
   "execution_count": 38,
   "metadata": {},
   "outputs": [],
   "source": [
    "import requests\n",
    "from bs4 import BeautifulSoup"
   ]
  },
  {
   "cell_type": "code",
   "execution_count": 39,
   "metadata": {},
   "outputs": [],
   "source": [
    "url = '''https://newsapi.org/v2/top-headlines?country=id&apiKey=3bb4bf323f7f43d3aaafb6bd5cd26c92'''"
   ]
  },
  {
   "cell_type": "code",
   "execution_count": 40,
   "metadata": {},
   "outputs": [],
   "source": [
    "response = requests.get(url).json()"
   ]
  },
  {
   "cell_type": "code",
   "execution_count": 41,
   "metadata": {},
   "outputs": [
    {
     "data": {
      "text/plain": [
       "{'status': 'ok',\n",
       " 'totalResults': 38,\n",
       " 'articles': [{'source': {'id': None, 'name': 'Tempo.co'},\n",
       "   'author': 'Terjemahan',\n",
       "   'title': 'Apple Umumkan AirPods Pro, Akan Hadir 30 Oktober - Tempo',\n",
       "   'description': 'Apple telah membuat mikrofon ke dalam AirPods Pro yang mendeteksi suara eksternal, dan earbud yang kemudian membatalkan suara itu.',\n",
       "   'url': 'https://tekno.tempo.co/read/1265730/apple-umumkan-airpods-pro-akan-hadir-30-oktober',\n",
       "   'urlToImage': 'https://statik.tempo.co/data/2019/10/29/id_884783/884783_720.jpg',\n",
       "   'publishedAt': '2019-10-29T05:58:01Z',\n",
       "   'content': None},\n",
       "  {'source': {'id': None, 'name': 'Detik.com'},\n",
       "   'author': 'Lamhot Aritonang',\n",
       "   'title': 'Mobil Menteri Baru Jokowi Sudah Mejeng di DPR - Detikcom',\n",
       "   'description': 'Mobil dinas baru yakni Toyota Crown 2.5 HV G-Executive seharga Rp 1,5 miliar sudah mejeng lho diparkiran gedung DPR hari ini. Yuk, intip penampakannya.',\n",
       "   'url': 'https://oto.detik.com/oto-galeri/d-4763907/mobil-menteri-baru-jokowi-sudah-mejeng-di-dpr',\n",
       "   'urlToImage': 'https://awsimages.detik.net.id/api/wm/2019/10/29/dd675266-f557-41fe-b10a-7060b43e3f70_169.jpeg?wid=54&w=650&v=1&t=jpeg',\n",
       "   'publishedAt': '2019-10-29T05:57:59Z',\n",
       "   'content': 'Begini penampakan mobil dinas baru menteri Jokowi dan pejabat setingkat yakni Toyota Crown 2.5 HV G-Executive seharga Rp 1,5 miliar.'},\n",
       "  {'source': {'id': None, 'name': 'Matamata.com'},\n",
       "   'author': 'Tinwarotul Fatonah',\n",
       "   'title': 'Resmi Tunangan, Ternyata Rezky Aditya Incar Citra Kirana Sejak SMA - MataMata.com - matamata.com',\n",
       "   'description': 'Wah, ngincer dari dulu nih Rezky Aditya?',\n",
       "   'url': 'https://www.matamata.com/seleb/2019/10/29/124134/resmi-tunangan-ternyata-rezky-aditya-incar-citra-kirana-sejak-sma',\n",
       "   'urlToImage': 'https://media.matamata.com/thumbs/2019/10/29/49999-citra-kirana-dan-rezky-aditya/745x489-img-49999-citra-kirana-dan-rezky-aditya.jpg',\n",
       "   'publishedAt': '2019-10-29T05:41:34Z',\n",
       "   'content': 'Matamata.com - Resmi tunangan pada Sabtu (26/10/2019) lalu, Rezky Aditya dan Citra Kirana akhirnya buka suara soal hubungannya.\\r\\nHampir 10 tahun kenal, ternyata Rezky Aditya pernah berkhayal jika Citra Kirana bisa menjadi sosok yang akan menemani masa depanny… [+1271 chars]'},\n",
       "  {'source': {'id': None, 'name': 'Kompas.com'},\n",
       "   'author': 'Aditya Maulana',\n",
       "   'title': 'Chevrolet Hengkang, Ini Kata Komunitas Soal Mobil yang Dijual - KOMPAS.com',\n",
       "   'description': 'Konsumen umum kena dampak lebih besar atas hengkangnya Chevrolet di Indonesia.',\n",
       "   'url': 'https://otomotif.kompas.com/read/2019/10/29/123518315/chevrolet-hengkang-ini-kata-komunitas-soal-mobil-yang-dijual',\n",
       "   'urlToImage': 'https://asset.kompas.com/crops/G_uu73JvxAE-Fxv8UlRVVHKTzx0=/0x34:1280x887/780x390/filters:watermark(data/photo/2019/08/13/5d528bbce75f0.png,0,-0,1)/data/photo/2019/04/30/1675036760.jpg',\n",
       "   'publishedAt': '2019-10-29T05:35:00Z',\n",
       "   'content': 'JAKARTA, KOMPAS.com – General Motors yang menjual merek Chevrolet di Indonesia dikabarkan bakal menghentikan aktivitas penjualan pada Maret 2020. Kabar ini mengejutkan sejumlah konsumennya, termasuk komunitas mobil-mobil Chevrolet.\\r\\nMeski sudah mengumumkan ak… [+1719 chars]'},\n",
       "  {'source': {'id': None, 'name': 'Tempo.co'},\n",
       "   'author': 'Sehatq.com',\n",
       "   'title': 'Wortel Bisa Bantu Turunkan Berat Badan, Cek 8 Manfaat Lainnya - Tempo',\n",
       "   'description': 'Nutrisi wortel yang kaya menjadikan sayuran ini sangat bermanfaat dan berkhasiat untuk tubuh',\n",
       "   'url': 'https://cantik.tempo.co/read/1265701/wortel-bisa-bantu-turunkan-berat-badan-cek-8-manfaat-lainnya',\n",
       "   'urlToImage': 'https://statik.tempo.co/data/2017/06/09/id_614448/614448_620.jpg',\n",
       "   'publishedAt': '2019-10-29T05:32:00Z',\n",
       "   'content': None},\n",
       "  {'source': {'id': None, 'name': 'Bolasport.com'},\n",
       "   'author': 'Ardhianto Wahyu Indraputra',\n",
       "   'title': 'Tidak Ada yang Tanya, Jack Miller Sindir Jorge Lorenzo di Jumpa Pers - Bolasport.com',\n",
       "   'description': 'Jack Miller tampaknya masih kesal dengan Jorge Lorenzo. Por Fuera pun menjadi sasaran tembak Jackass dalam jumpa pers MotoGP Australia 2019.',\n",
       "   'url': 'https://www.bolasport.com/read/311901110/tidak-ada-yang-tanya-jack-miller-sindir-jorge-lorenzo-di-jumpa-pers',\n",
       "   'urlToImage': 'https://asset-a.grid.id/crop/0x0:0x0/700x465/photo/2019/10/29/3508055692.png',\n",
       "   'publishedAt': '2019-10-29T05:04:00Z',\n",
       "   'content': 'BOLASPORT.COM - Jack Miller tampaknya masih kesal dengan Jorge Lorenzo. Por Fuera pun menjadi sasaran tembak Jackass dalam jumpa pers MotoGP Australia 2019.\\r\\nRelasi antara Jack Miller (Pramac Racing) dan Jorge Lorenzo (Repsol Honda) bukan salah satu yang pali… [+1055 chars]'},\n",
       "  {'source': {'id': None, 'name': 'Kompas.com'},\n",
       "   'author': 'Gloria Setyvani Putri',\n",
       "   'title': 'Gempa Dahsyat Guncang Mindanao Filipina, Terasa Sampai Indonesia - Kompas.com - KOMPAS.com',\n",
       "   'description': 'Ada pelajaran penting yang bisa kita ambil dari fenomena ini, salah satunya mewaspadai jalur sesar aktif di Indonesia.',\n",
       "   'url': 'https://sains.kompas.com/read/2019/10/29/120300323/gempa-dahsyat-guncang-mindanao-filipina-terasa-sampai-indonesia',\n",
       "   'urlToImage': 'https://asset.kompas.com/crops/ylmzG5x2RBsWvkwHYC3A94imk5w=/0x152:595x549/780x390/filters:watermark(data/photo/2019/08/13/5d528bc754494.png,0,-0,1)/data/photo/2019/10/29/5db7adcb045c8.jpeg',\n",
       "   'publishedAt': '2019-10-29T05:03:00Z',\n",
       "   'content': 'KOMPAS.com -Gempa dahsyat mengguncang Mindanao Filipina Selatan dengan kekuatan M 6.6 dan kedalaman 15 km pagi ini (29/10/2019) pukul 8.04 WIB. Gempa ini dipicu oleh aktivitas sesar aktif yang belum dikenali.\\r\\nHasil analisis BMKG menunjukkan informasi awal ge… [+2735 chars]'},\n",
       "  {'source': {'id': None, 'name': 'Liputan6.com'},\n",
       "   'author': 'Agustin Setyo Wardani',\n",
       "   'title': 'NASA Bakal Kirim Robot Pendeteksi Air ke Bulan - Liputan6.com',\n",
       "   'description': 'NASA akan mengirim sebuah robot berukuran sebesar mobil golf ke bulan pada 2022 mendatang. Robot ini akan bertugas untuk mencari sumber air di permukaan bulan.',\n",
       "   'url': 'https://www.liputan6.com/tekno/read/4096791/nasa-bakal-kirim-robot-pendeteksi-air-ke-bulan',\n",
       "   'urlToImage': 'https://cdn0-production-images-kly.akamaized.net/Wl3cb7XA7vz9ichdzjynNoJI31I=/673x379/smart/filters:quality(75):strip_icc():format(jpeg)/kly-media-production/medias/1749221/original/056913800_1508832333-Bulan.jpg',\n",
       "   'publishedAt': '2019-10-29T05:00:53Z',\n",
       "   'content': 'Liputan6.com, Jakarta -NASA akan mengirim sebuah robot berukuran sebesar mobil golf ke bulan pada 2022 mendatang. Robot ini akan bertugas untuk mencari sumber air di permukaan bulan.\\r\\nDalam pernyataan NASA, upaya ini dilakukan untuk mengevaluasi keberadaan ai… [+967 chars]'},\n",
       "  {'source': {'id': None, 'name': 'Cnnindonesia.com'},\n",
       "   'author': None,\n",
       "   'title': 'Balita di Makassar Peluk Jasad Ibu selama Tiga Hari Nasional • 1 jam yang lalu - CNN Indonesia',\n",
       "   'description': 'Tetangga tidak pernah mendengar suara tangisan anak balita meski tidak mendapat makan dan minum\\xa0selama tiga hari\\xa0sejak sang ibu meninggal dunia.',\n",
       "   'url': 'https://cnnindonesia.com/nasional/20191029112358-20-443735/balita-di-makassar-peluk-jasad-ibu-selama-tiga-hari',\n",
       "   'urlToImage': 'https://awsimages.detik.net.id/visual/2018/08/24/c6002527-4d06-4eaa-9c61-b73a855c2166_169.jpeg?w=650',\n",
       "   'publishedAt': '2019-10-29T04:56:59Z',\n",
       "   'content': 'Makassar, CNN Indonesia -- Balita berusia dua tahun tiga bulan menemani jasad ibunya. Diduga, balita berinisial EA\\xa0menemani jasad ibunya Marni\\xa0(39) selama tiga hari. Saat ditemukan tetangga, balita EA itu sedang memeluk jasad\\xa0Marni.Warga sekitar menemukan EA … [+3143 chars]'},\n",
       "  {'source': {'id': None, 'name': 'Kumparan.com'},\n",
       "   'author': 'kumparannews',\n",
       "   'title': 'Gerindra Sebut Prabowo Sudah Boleh ke AS: Bahkan Diundang Berkunjung - kumparan.com - kumparan.com',\n",
       "   'description': 'Waketum Gerindra Sufmi Dasco Ahmad menyebut Prabowo sudah diperbolehkan ke Amerika Serikat.',\n",
       "   'url': 'https://kumparan.com/kumparannews/gerindra-sebut-prabowo-sudah-boleh-ke-as-bahkan-diundang-berkunjung-1s9GDn3mglz',\n",
       "   'urlToImage': 'https://blue.kumparan.com/image/upload/w_600,h_315,c_fill,ar_40:21,f_jpg,q_auto/l_auy4e3oe2hru5hfaphbw,g_south,w_600/lg5ivgzsoldopkzpgx7a.jpg',\n",
       "   'publishedAt': '2019-10-29T04:54:51Z',\n",
       "   'content': 'Ketua Umum Partai Gerindra Prabowo Subianto sudah diperbolehkan mengunjungi Amerika Serikat. Hal itu diungkapkan oleh Wakil Ketua Umum Parta Gerindra Sufmi Dasco Ahmad. \\r\\nDasco menjelaskan, semenjak Prabowo menjabat Menteri Pertahanan, banyak undangan yang me… [+1308 chars]'},\n",
       "  {'source': {'id': None, 'name': 'Kompas.com'},\n",
       "   'author': 'Yohanes Enggar Harususilo',\n",
       "   'title': '6 Catatan Penting Rekrutmen CPNS 2019, Nomor 3 Harus Jadi Perhatian Pelamar - Kompas.com - KOMPAS.com',\n",
       "   'description': 'Ada pesan khusus diberikan Biro Humas MenPANRB terkait peraturan batas pendaftar untuk setiap formasi/jabatan dalam CPNS 2019. Apa itu?',\n",
       "   'url': 'https://edukasi.kompas.com/read/2019/10/29/11502311/6-catatan-penting-rekrutmen-cpns-2019-nomor-3-harus-jadi-perhatian-pelamar',\n",
       "   'urlToImage': 'https://asset.kompas.com/crops/Hc_AoxudoCkcPsq446PFkEfdqFc=/63x0:761x465/780x390/filters:watermark(data/photo/2019/08/13/5d528b8341764.png,0,-0,1)/data/photo/2019/10/29/5db7c33b830f4.png',\n",
       "   'publishedAt': '2019-10-29T04:50:00Z',\n",
       "   'content': 'KOMPAS.com -\\xa0Pemerintah melalui Kementerian Pendayagunaan Aparatur Negara dan Reformasi Birokrasi (PANRB) resmi mengumumkan pembukaan rekrutmen Calon Pegawai Negeri Sipil ( CPNS) tahun 2019.\\r\\nRencananya, pendaftaran dimulai pada 11 November 2019 mendatang.\\r\\nM… [+2253 chars]'},\n",
       "  {'source': {'id': None, 'name': 'Detik.com'},\n",
       "   'author': 'Novi Christiastuti',\n",
       "   'title': 'Muhajir, Tangan Kanan Abu Bakr al-Baghdadi Juga Tewas dalam Operasi AS - Detiknews',\n",
       "   'description': 'AS mengonfirmasi bahwa Abu al-Hassan al-Muhajir yang disebut sebagai tangan kanan pemimpin ISIS, Abu Bakr al-Baghdadi, telah tewas di Suriah.',\n",
       "   'url': 'https://news.detik.com/internasional/d-4763807/muhajir-tangan-kanan-abu-bakr-al-baghdadi-juga-tewas-dalam-operasi-as',\n",
       "   'urlToImage': 'https://awsimages.detik.net.id/api/wm/2019/10/27/575567ac-74ea-4436-8378-e1a11f3ba43d_169.jpeg?wid=54&w=650&v=1&t=jpeg',\n",
       "   'publishedAt': '2019-10-29T04:43:43Z',\n",
       "   'content': 'Washington DC -\\r\\n Amerika Serikat (AS) mengonfirmasi bahwa Abu al-Hassan al-Muhajir yang disebut sebagai tangan kanan pemimpin Islamic State of Iraq and Syria (ISIS), Abu Bakr al-Baghdadi, telah tewas. Al-Muhajir disebut tewas dalam operasi militer AS yang di… [+1238 chars]'},\n",
       "  {'source': {'id': None, 'name': 'Mojok.co'},\n",
       "   'author': 'https://www.facebook.com/yamadipatiseno',\n",
       "   'title': 'Fabinho, Raksasa Liverpool dan Cinta Arsenal yang Hinggap di Lain Hati - Mojok',\n",
       "   'description': 'Fabinho adalah reinkarnasi Patrick Vieira. Legenda dan cinta Arsenal yang kini justru hinggap dan menjadi lebih dewasa bersama Liverpool.',\n",
       "   'url': 'https://mojok.co/yms/balbalan/fabinho-raksasa-liverpool-dan-cinta-arsenal-yang-hinggap-di-lain-hati/',\n",
       "   'urlToImage': 'https://i0.wp.com/mojok.co/wp-content/uploads//2019/10/Fabinho-Lfc.jpg',\n",
       "   'publishedAt': '2019-10-29T04:30:51Z',\n",
       "   'content': 'MOJOK.COFabinho adalah reinkarnasi Patrick Vieira. Legenda dan cinta Arsenal yang kini justru hinggap dan menjadi lebih dewasa bersama Liverpool.\\r\\nPenampilan Fabinho ketika Liverpool melawan Tottenham Hotspur adalah sajian kolosal. Dia mencatatkan 111 kali se… [+5357 chars]'},\n",
       "  {'source': {'id': None, 'name': 'Tempo.co'},\n",
       "   'author': 'Zulfikar Epriyadi',\n",
       "   'title': 'Waspada, NASA Deteksi Asteroid Raksasa Dekati Bumi - Tempo',\n",
       "   'description': 'NASA mendeteksi asteroid raksasa mendekati Bumi, Selasa, 29 Oktober 2019.',\n",
       "   'url': 'https://video.tempo.co/read/17058/waspada-nasa-deteksi-asteroid-raksasa-dekati-bumi',\n",
       "   'urlToImage': 'https://statik.tempo.co/data/2019/10/29/id_884733/884733_720.jpg',\n",
       "   'publishedAt': '2019-10-29T04:30:00Z',\n",
       "   'content': ''},\n",
       "  {'source': {'id': None, 'name': 'Detik.com'},\n",
       "   'author': 'Deutsche Welle (DW)',\n",
       "   'title': 'Virus Polio Liar Tipe Tiga Telah Dimusnahkan, Dunia Bebas dari Polio? - detikNews',\n",
       "   'description': 'Organisasi Internasional PBB, WHO mengumumkan virus polio liar tipe tiga kini telah dimusnahkan. Apakah dunia kini bebas dari polio?',\n",
       "   'url': 'https://news.detik.com/dw/d-4763753/virus-polio-liar-tipe-tiga-telah-dimusnahkan-dunia-bebas-dari-polio',\n",
       "   'urlToImage': 'https://awsimages.detik.net.id/api/wm/2019/10/29/6fe1abf5-fffd-4118-90dd-4801493c8aba_169.jpeg?wid=54&w=650&v=1&t=jpeg',\n",
       "   'publishedAt': '2019-10-29T04:23:36Z',\n",
       "   'content': 'Berlin -\\r\\nPada peringatan Hari Polio Dunia, Kamis (24/10), WHO merilis bahwa polio tipe tiga telah berhasil dimusnahkan. Keberhasilan ini merupakan pencapaian bersejarah kemanusiaan. Namun, data baru mengungkapkan bahwa terlalu sedikit anak di Jerman yang men… [+1650 chars]'},\n",
       "  {'source': {'id': None, 'name': 'Tempo.co'},\n",
       "   'author': 'Ngarto Februana',\n",
       "   'title': 'Teleskop Rekam Gelembung Nebula Berberat 44 Kali Matahari - Tempo',\n",
       "   'description': 'Gelembung Nebula bersinar merah pekat di foto memukau yang diambil dari 9.200 tahun cahaya oleh seorang astronom amatir di kebun belakangnya.',\n",
       "   'url': 'https://video.tempo.co/read/17050/teleskop-rekam-gelembung-nebula-berberat-44-kali-matahari',\n",
       "   'urlToImage': 'https://statik.tempo.co/data/2019/10/28/id_884676/884676_720.jpg',\n",
       "   'publishedAt': '2019-10-29T04:00:00Z',\n",
       "   'content': 'Gelembung Nebula bersinar merah pekat di foto memukau yang diambil dari 9.200 tahun cahaya oleh seorang astronom amatir di kebun belakangnya.\\xa0Ralph Smyth, astronom amatir, mengambil gambar bintang dan gas-gas di sekitarnya di kebun belakang rumah di Irlandia … [+269 chars]'},\n",
       "  {'source': {'id': None, 'name': 'Suara.com'},\n",
       "   'author': 'Silfa Humairah Utami',\n",
       "   'title': '4 Penyakit Langganan Saat Musim Pancaroba, Ini Cara Mencegahnya - Suara.com',\n",
       "   'description': 'Bagaimana cara mencegah penyakit yang rentan pada musim pancaroba?',\n",
       "   'url': 'https://www.suara.com/health/2019/10/29/110000/4-penyakit-langganan-saat-musim-pancaroba-ini-cara-mencegahnya',\n",
       "   'urlToImage': 'https://media.suara.com/pictures/653x366/2018/04/24/42579-sakit-kepala.jpg',\n",
       "   'publishedAt': '2019-10-29T04:00:00Z',\n",
       "   'content': 'Suara.com - 4 Penyakit Langganan Saat Musim Pancaroba, Ini Cara Mencegahnya\\r\\nMemasuki November, musim pancaroba atau musim peralihan dari musim panas ke musim hujan yang terjadi belakangan ini ternyata mempengaruhi daya tahan tubuh.\\r\\nDilansir dari Hello Sehat… [+5046 chars]'},\n",
       "  {'source': {'id': None, 'name': 'Tribunnews.com'},\n",
       "   'author': 'Murhan',\n",
       "   'title': 'Sosok Betsalelf, Pria Bule yang Lamar Nikita Mirzani, Sebanding dengan Dipo Latief dan Sajad Ukra? - Banjarmasin Post',\n",
       "   'description': 'Inilah sosok Betsalelf, pria bule yang melamar Nikita Mirzani. Apakah sebanding Dipo Latief, Sajad Ukra atau Vicky Nitinegoro?',\n",
       "   'url': 'https://banjarmasin.tribunnews.com/2019/10/29/sosok-betsalelf-pria-bule-yang-lamar-nikita-mirzani-sebanding-dengan-dipo-latief-dan-sajad-ukra',\n",
       "   'urlToImage': 'https://cdn2.tstatic.net/banjarmasin/foto/bank/images/nikita-mirzani-ketika-dilamar-kekasih-bulenya.jpg',\n",
       "   'publishedAt': '2019-10-29T03:54:37Z',\n",
       "   'content': 'BANJARMASINPOST.CO.ID - Inilah sosok Betsalelf, pria bule yang melamar Nikita\\xa0Mirzani. Apakah sebanding Dipo\\xa0Latief, Sajad\\xa0Ukra atau Vicky\\xa0Nitinegoro?\\r\\nYa, baru 2 bulan menyandang status janda Dipo\\xa0Latief, Nikita\\xa0Mirzani malah dilamar kekasih bulenya, Betsale… [+1274 chars]'},\n",
       "  {'source': {'id': None, 'name': 'Ayobandung.com'},\n",
       "   'author': 'Ayo Media Network',\n",
       "   'title': 'KPK Periksa Nico Siahaan Terkait Kasus Pencucian Uang - ayobandung.com',\n",
       "   'description': 'KPK periksa Nico Siahaan Hari Ini Soal Kasus Pencucian Uang',\n",
       "   'url': 'https://www.ayobandung.com/read/2019/10/29/68436/kpk-periksa-nico-siahaan-terkait-kasus-pencucian-uang',\n",
       "   'urlToImage': 'https://www.ayobandung.com/images-bandung/post/articles/2019/10/29/68436/20190313_135056(0).jpg',\n",
       "   'publishedAt': '2019-10-29T03:43:45Z',\n",
       "   'content': 'JAKARTA, AYOBANDUNG.COM -- Komisi Pemberantasan Korupsi hari ini, Selasa (29/10/2019) memeriksa anggota DPR RI 2019-2024 dari Fraksi PDI Perjuangan Junico Siahaan alias Nico Siahaan dalam penyidikan kasus Tindak Pidana Pencucian Uang (TPPU) dengan tersangka m… [+2089 chars]'},\n",
       "  {'source': {'id': None, 'name': 'Kompas.com'},\n",
       "   'author': 'Reza Wahyudi',\n",
       "   'title': 'Kelahiran Mi CC9 Pro dan Kamera 108 MP Dipastikan Xiaomi - Kompas.com - Tekno Kompas.com',\n",
       "   'description': 'Xiaomi Mi CC9 Pro akan dibekali lima kamera belakang dan menjadi smartphone pertama Xiaomi yang dibekali kemampuan 5x optical zoom.',\n",
       "   'url': 'https://tekno.kompas.com/read/2019/10/29/10110007/kelahiran-mi-cc9-pro-dan-kamera-108-mp-dipastikan-xiaomi',\n",
       "   'urlToImage': 'https://asset.kompas.com/crops/aMvMesDNYXYzvzFCXx-5Poee-6I=/53x86:770x565/780x390/filters:watermark(data/photo/2019/08/13/5d528ba5c908a.png,0,-0,1)/data/photo/2019/10/29/5db791551adf1.png',\n",
       "   'publishedAt': '2019-10-29T03:11:00Z',\n",
       "   'content': 'KOMPAS.com - Xiaomi resmi mengumumkan jadwal peluncuran Mi CC9 Pro setelah merilis bocoran resminya beberapa waktu lalu. Smartphone Xiaomi ini akan diperkenalkan pada 5 November mendatang.\\r\\nDengan embel-embel \"Pro\" di belakang, tentu spesifikasinya lebih ting… [+1958 chars]'}]}"
      ]
     },
     "execution_count": 41,
     "metadata": {},
     "output_type": "execute_result"
    }
   ],
   "source": [
    "response"
   ]
  },
  {
   "cell_type": "code",
   "execution_count": 42,
   "metadata": {
    "scrolled": true
   },
   "outputs": [
    {
     "name": "stdout",
     "output_type": "stream",
     "text": [
      "{'id': None, 'name': 'Tempo.co'}\n",
      "{'id': None, 'name': 'Detik.com'}\n",
      "{'id': None, 'name': 'Matamata.com'}\n",
      "{'id': None, 'name': 'Kompas.com'}\n",
      "{'id': None, 'name': 'Tempo.co'}\n",
      "{'id': None, 'name': 'Bolasport.com'}\n",
      "{'id': None, 'name': 'Kompas.com'}\n",
      "{'id': None, 'name': 'Liputan6.com'}\n",
      "{'id': None, 'name': 'Cnnindonesia.com'}\n",
      "{'id': None, 'name': 'Kumparan.com'}\n",
      "{'id': None, 'name': 'Kompas.com'}\n",
      "{'id': None, 'name': 'Detik.com'}\n",
      "{'id': None, 'name': 'Mojok.co'}\n",
      "{'id': None, 'name': 'Tempo.co'}\n",
      "{'id': None, 'name': 'Detik.com'}\n",
      "{'id': None, 'name': 'Tempo.co'}\n",
      "{'id': None, 'name': 'Suara.com'}\n",
      "{'id': None, 'name': 'Tribunnews.com'}\n",
      "{'id': None, 'name': 'Ayobandung.com'}\n",
      "{'id': None, 'name': 'Kompas.com'}\n"
     ]
    }
   ],
   "source": [
    "temp = []\n",
    "for r in response['articles']:\n",
    "    print(r['source'])\n",
    "    temp.append(r)"
   ]
  },
  {
   "cell_type": "code",
   "execution_count": 43,
   "metadata": {},
   "outputs": [
    {
     "data": {
      "text/plain": [
       "[{'source': {'id': None, 'name': 'Tempo.co'},\n",
       "  'author': 'Terjemahan',\n",
       "  'title': 'Apple Umumkan AirPods Pro, Akan Hadir 30 Oktober - Tempo',\n",
       "  'description': 'Apple telah membuat mikrofon ke dalam AirPods Pro yang mendeteksi suara eksternal, dan earbud yang kemudian membatalkan suara itu.',\n",
       "  'url': 'https://tekno.tempo.co/read/1265730/apple-umumkan-airpods-pro-akan-hadir-30-oktober',\n",
       "  'urlToImage': 'https://statik.tempo.co/data/2019/10/29/id_884783/884783_720.jpg',\n",
       "  'publishedAt': '2019-10-29T05:58:01Z',\n",
       "  'content': None},\n",
       " {'source': {'id': None, 'name': 'Detik.com'},\n",
       "  'author': 'Lamhot Aritonang',\n",
       "  'title': 'Mobil Menteri Baru Jokowi Sudah Mejeng di DPR - Detikcom',\n",
       "  'description': 'Mobil dinas baru yakni Toyota Crown 2.5 HV G-Executive seharga Rp 1,5 miliar sudah mejeng lho diparkiran gedung DPR hari ini. Yuk, intip penampakannya.',\n",
       "  'url': 'https://oto.detik.com/oto-galeri/d-4763907/mobil-menteri-baru-jokowi-sudah-mejeng-di-dpr',\n",
       "  'urlToImage': 'https://awsimages.detik.net.id/api/wm/2019/10/29/dd675266-f557-41fe-b10a-7060b43e3f70_169.jpeg?wid=54&w=650&v=1&t=jpeg',\n",
       "  'publishedAt': '2019-10-29T05:57:59Z',\n",
       "  'content': 'Begini penampakan mobil dinas baru menteri Jokowi dan pejabat setingkat yakni Toyota Crown 2.5 HV G-Executive seharga Rp 1,5 miliar.'},\n",
       " {'source': {'id': None, 'name': 'Matamata.com'},\n",
       "  'author': 'Tinwarotul Fatonah',\n",
       "  'title': 'Resmi Tunangan, Ternyata Rezky Aditya Incar Citra Kirana Sejak SMA - MataMata.com - matamata.com',\n",
       "  'description': 'Wah, ngincer dari dulu nih Rezky Aditya?',\n",
       "  'url': 'https://www.matamata.com/seleb/2019/10/29/124134/resmi-tunangan-ternyata-rezky-aditya-incar-citra-kirana-sejak-sma',\n",
       "  'urlToImage': 'https://media.matamata.com/thumbs/2019/10/29/49999-citra-kirana-dan-rezky-aditya/745x489-img-49999-citra-kirana-dan-rezky-aditya.jpg',\n",
       "  'publishedAt': '2019-10-29T05:41:34Z',\n",
       "  'content': 'Matamata.com - Resmi tunangan pada Sabtu (26/10/2019) lalu, Rezky Aditya dan Citra Kirana akhirnya buka suara soal hubungannya.\\r\\nHampir 10 tahun kenal, ternyata Rezky Aditya pernah berkhayal jika Citra Kirana bisa menjadi sosok yang akan menemani masa depanny… [+1271 chars]'},\n",
       " {'source': {'id': None, 'name': 'Kompas.com'},\n",
       "  'author': 'Aditya Maulana',\n",
       "  'title': 'Chevrolet Hengkang, Ini Kata Komunitas Soal Mobil yang Dijual - KOMPAS.com',\n",
       "  'description': 'Konsumen umum kena dampak lebih besar atas hengkangnya Chevrolet di Indonesia.',\n",
       "  'url': 'https://otomotif.kompas.com/read/2019/10/29/123518315/chevrolet-hengkang-ini-kata-komunitas-soal-mobil-yang-dijual',\n",
       "  'urlToImage': 'https://asset.kompas.com/crops/G_uu73JvxAE-Fxv8UlRVVHKTzx0=/0x34:1280x887/780x390/filters:watermark(data/photo/2019/08/13/5d528bbce75f0.png,0,-0,1)/data/photo/2019/04/30/1675036760.jpg',\n",
       "  'publishedAt': '2019-10-29T05:35:00Z',\n",
       "  'content': 'JAKARTA, KOMPAS.com – General Motors yang menjual merek Chevrolet di Indonesia dikabarkan bakal menghentikan aktivitas penjualan pada Maret 2020. Kabar ini mengejutkan sejumlah konsumennya, termasuk komunitas mobil-mobil Chevrolet.\\r\\nMeski sudah mengumumkan ak… [+1719 chars]'},\n",
       " {'source': {'id': None, 'name': 'Tempo.co'},\n",
       "  'author': 'Sehatq.com',\n",
       "  'title': 'Wortel Bisa Bantu Turunkan Berat Badan, Cek 8 Manfaat Lainnya - Tempo',\n",
       "  'description': 'Nutrisi wortel yang kaya menjadikan sayuran ini sangat bermanfaat dan berkhasiat untuk tubuh',\n",
       "  'url': 'https://cantik.tempo.co/read/1265701/wortel-bisa-bantu-turunkan-berat-badan-cek-8-manfaat-lainnya',\n",
       "  'urlToImage': 'https://statik.tempo.co/data/2017/06/09/id_614448/614448_620.jpg',\n",
       "  'publishedAt': '2019-10-29T05:32:00Z',\n",
       "  'content': None},\n",
       " {'source': {'id': None, 'name': 'Bolasport.com'},\n",
       "  'author': 'Ardhianto Wahyu Indraputra',\n",
       "  'title': 'Tidak Ada yang Tanya, Jack Miller Sindir Jorge Lorenzo di Jumpa Pers - Bolasport.com',\n",
       "  'description': 'Jack Miller tampaknya masih kesal dengan Jorge Lorenzo. Por Fuera pun menjadi sasaran tembak Jackass dalam jumpa pers MotoGP Australia 2019.',\n",
       "  'url': 'https://www.bolasport.com/read/311901110/tidak-ada-yang-tanya-jack-miller-sindir-jorge-lorenzo-di-jumpa-pers',\n",
       "  'urlToImage': 'https://asset-a.grid.id/crop/0x0:0x0/700x465/photo/2019/10/29/3508055692.png',\n",
       "  'publishedAt': '2019-10-29T05:04:00Z',\n",
       "  'content': 'BOLASPORT.COM - Jack Miller tampaknya masih kesal dengan Jorge Lorenzo. Por Fuera pun menjadi sasaran tembak Jackass dalam jumpa pers MotoGP Australia 2019.\\r\\nRelasi antara Jack Miller (Pramac Racing) dan Jorge Lorenzo (Repsol Honda) bukan salah satu yang pali… [+1055 chars]'},\n",
       " {'source': {'id': None, 'name': 'Kompas.com'},\n",
       "  'author': 'Gloria Setyvani Putri',\n",
       "  'title': 'Gempa Dahsyat Guncang Mindanao Filipina, Terasa Sampai Indonesia - Kompas.com - KOMPAS.com',\n",
       "  'description': 'Ada pelajaran penting yang bisa kita ambil dari fenomena ini, salah satunya mewaspadai jalur sesar aktif di Indonesia.',\n",
       "  'url': 'https://sains.kompas.com/read/2019/10/29/120300323/gempa-dahsyat-guncang-mindanao-filipina-terasa-sampai-indonesia',\n",
       "  'urlToImage': 'https://asset.kompas.com/crops/ylmzG5x2RBsWvkwHYC3A94imk5w=/0x152:595x549/780x390/filters:watermark(data/photo/2019/08/13/5d528bc754494.png,0,-0,1)/data/photo/2019/10/29/5db7adcb045c8.jpeg',\n",
       "  'publishedAt': '2019-10-29T05:03:00Z',\n",
       "  'content': 'KOMPAS.com -Gempa dahsyat mengguncang Mindanao Filipina Selatan dengan kekuatan M 6.6 dan kedalaman 15 km pagi ini (29/10/2019) pukul 8.04 WIB. Gempa ini dipicu oleh aktivitas sesar aktif yang belum dikenali.\\r\\nHasil analisis BMKG menunjukkan informasi awal ge… [+2735 chars]'},\n",
       " {'source': {'id': None, 'name': 'Liputan6.com'},\n",
       "  'author': 'Agustin Setyo Wardani',\n",
       "  'title': 'NASA Bakal Kirim Robot Pendeteksi Air ke Bulan - Liputan6.com',\n",
       "  'description': 'NASA akan mengirim sebuah robot berukuran sebesar mobil golf ke bulan pada 2022 mendatang. Robot ini akan bertugas untuk mencari sumber air di permukaan bulan.',\n",
       "  'url': 'https://www.liputan6.com/tekno/read/4096791/nasa-bakal-kirim-robot-pendeteksi-air-ke-bulan',\n",
       "  'urlToImage': 'https://cdn0-production-images-kly.akamaized.net/Wl3cb7XA7vz9ichdzjynNoJI31I=/673x379/smart/filters:quality(75):strip_icc():format(jpeg)/kly-media-production/medias/1749221/original/056913800_1508832333-Bulan.jpg',\n",
       "  'publishedAt': '2019-10-29T05:00:53Z',\n",
       "  'content': 'Liputan6.com, Jakarta -NASA akan mengirim sebuah robot berukuran sebesar mobil golf ke bulan pada 2022 mendatang. Robot ini akan bertugas untuk mencari sumber air di permukaan bulan.\\r\\nDalam pernyataan NASA, upaya ini dilakukan untuk mengevaluasi keberadaan ai… [+967 chars]'},\n",
       " {'source': {'id': None, 'name': 'Cnnindonesia.com'},\n",
       "  'author': None,\n",
       "  'title': 'Balita di Makassar Peluk Jasad Ibu selama Tiga Hari Nasional • 1 jam yang lalu - CNN Indonesia',\n",
       "  'description': 'Tetangga tidak pernah mendengar suara tangisan anak balita meski tidak mendapat makan dan minum\\xa0selama tiga hari\\xa0sejak sang ibu meninggal dunia.',\n",
       "  'url': 'https://cnnindonesia.com/nasional/20191029112358-20-443735/balita-di-makassar-peluk-jasad-ibu-selama-tiga-hari',\n",
       "  'urlToImage': 'https://awsimages.detik.net.id/visual/2018/08/24/c6002527-4d06-4eaa-9c61-b73a855c2166_169.jpeg?w=650',\n",
       "  'publishedAt': '2019-10-29T04:56:59Z',\n",
       "  'content': 'Makassar, CNN Indonesia -- Balita berusia dua tahun tiga bulan menemani jasad ibunya. Diduga, balita berinisial EA\\xa0menemani jasad ibunya Marni\\xa0(39) selama tiga hari. Saat ditemukan tetangga, balita EA itu sedang memeluk jasad\\xa0Marni.Warga sekitar menemukan EA … [+3143 chars]'},\n",
       " {'source': {'id': None, 'name': 'Kumparan.com'},\n",
       "  'author': 'kumparannews',\n",
       "  'title': 'Gerindra Sebut Prabowo Sudah Boleh ke AS: Bahkan Diundang Berkunjung - kumparan.com - kumparan.com',\n",
       "  'description': 'Waketum Gerindra Sufmi Dasco Ahmad menyebut Prabowo sudah diperbolehkan ke Amerika Serikat.',\n",
       "  'url': 'https://kumparan.com/kumparannews/gerindra-sebut-prabowo-sudah-boleh-ke-as-bahkan-diundang-berkunjung-1s9GDn3mglz',\n",
       "  'urlToImage': 'https://blue.kumparan.com/image/upload/w_600,h_315,c_fill,ar_40:21,f_jpg,q_auto/l_auy4e3oe2hru5hfaphbw,g_south,w_600/lg5ivgzsoldopkzpgx7a.jpg',\n",
       "  'publishedAt': '2019-10-29T04:54:51Z',\n",
       "  'content': 'Ketua Umum Partai Gerindra Prabowo Subianto sudah diperbolehkan mengunjungi Amerika Serikat. Hal itu diungkapkan oleh Wakil Ketua Umum Parta Gerindra Sufmi Dasco Ahmad. \\r\\nDasco menjelaskan, semenjak Prabowo menjabat Menteri Pertahanan, banyak undangan yang me… [+1308 chars]'},\n",
       " {'source': {'id': None, 'name': 'Kompas.com'},\n",
       "  'author': 'Yohanes Enggar Harususilo',\n",
       "  'title': '6 Catatan Penting Rekrutmen CPNS 2019, Nomor 3 Harus Jadi Perhatian Pelamar - Kompas.com - KOMPAS.com',\n",
       "  'description': 'Ada pesan khusus diberikan Biro Humas MenPANRB terkait peraturan batas pendaftar untuk setiap formasi/jabatan dalam CPNS 2019. Apa itu?',\n",
       "  'url': 'https://edukasi.kompas.com/read/2019/10/29/11502311/6-catatan-penting-rekrutmen-cpns-2019-nomor-3-harus-jadi-perhatian-pelamar',\n",
       "  'urlToImage': 'https://asset.kompas.com/crops/Hc_AoxudoCkcPsq446PFkEfdqFc=/63x0:761x465/780x390/filters:watermark(data/photo/2019/08/13/5d528b8341764.png,0,-0,1)/data/photo/2019/10/29/5db7c33b830f4.png',\n",
       "  'publishedAt': '2019-10-29T04:50:00Z',\n",
       "  'content': 'KOMPAS.com -\\xa0Pemerintah melalui Kementerian Pendayagunaan Aparatur Negara dan Reformasi Birokrasi (PANRB) resmi mengumumkan pembukaan rekrutmen Calon Pegawai Negeri Sipil ( CPNS) tahun 2019.\\r\\nRencananya, pendaftaran dimulai pada 11 November 2019 mendatang.\\r\\nM… [+2253 chars]'},\n",
       " {'source': {'id': None, 'name': 'Detik.com'},\n",
       "  'author': 'Novi Christiastuti',\n",
       "  'title': 'Muhajir, Tangan Kanan Abu Bakr al-Baghdadi Juga Tewas dalam Operasi AS - Detiknews',\n",
       "  'description': 'AS mengonfirmasi bahwa Abu al-Hassan al-Muhajir yang disebut sebagai tangan kanan pemimpin ISIS, Abu Bakr al-Baghdadi, telah tewas di Suriah.',\n",
       "  'url': 'https://news.detik.com/internasional/d-4763807/muhajir-tangan-kanan-abu-bakr-al-baghdadi-juga-tewas-dalam-operasi-as',\n",
       "  'urlToImage': 'https://awsimages.detik.net.id/api/wm/2019/10/27/575567ac-74ea-4436-8378-e1a11f3ba43d_169.jpeg?wid=54&w=650&v=1&t=jpeg',\n",
       "  'publishedAt': '2019-10-29T04:43:43Z',\n",
       "  'content': 'Washington DC -\\r\\n Amerika Serikat (AS) mengonfirmasi bahwa Abu al-Hassan al-Muhajir yang disebut sebagai tangan kanan pemimpin Islamic State of Iraq and Syria (ISIS), Abu Bakr al-Baghdadi, telah tewas. Al-Muhajir disebut tewas dalam operasi militer AS yang di… [+1238 chars]'},\n",
       " {'source': {'id': None, 'name': 'Mojok.co'},\n",
       "  'author': 'https://www.facebook.com/yamadipatiseno',\n",
       "  'title': 'Fabinho, Raksasa Liverpool dan Cinta Arsenal yang Hinggap di Lain Hati - Mojok',\n",
       "  'description': 'Fabinho adalah reinkarnasi Patrick Vieira. Legenda dan cinta Arsenal yang kini justru hinggap dan menjadi lebih dewasa bersama Liverpool.',\n",
       "  'url': 'https://mojok.co/yms/balbalan/fabinho-raksasa-liverpool-dan-cinta-arsenal-yang-hinggap-di-lain-hati/',\n",
       "  'urlToImage': 'https://i0.wp.com/mojok.co/wp-content/uploads//2019/10/Fabinho-Lfc.jpg',\n",
       "  'publishedAt': '2019-10-29T04:30:51Z',\n",
       "  'content': 'MOJOK.COFabinho adalah reinkarnasi Patrick Vieira. Legenda dan cinta Arsenal yang kini justru hinggap dan menjadi lebih dewasa bersama Liverpool.\\r\\nPenampilan Fabinho ketika Liverpool melawan Tottenham Hotspur adalah sajian kolosal. Dia mencatatkan 111 kali se… [+5357 chars]'},\n",
       " {'source': {'id': None, 'name': 'Tempo.co'},\n",
       "  'author': 'Zulfikar Epriyadi',\n",
       "  'title': 'Waspada, NASA Deteksi Asteroid Raksasa Dekati Bumi - Tempo',\n",
       "  'description': 'NASA mendeteksi asteroid raksasa mendekati Bumi, Selasa, 29 Oktober 2019.',\n",
       "  'url': 'https://video.tempo.co/read/17058/waspada-nasa-deteksi-asteroid-raksasa-dekati-bumi',\n",
       "  'urlToImage': 'https://statik.tempo.co/data/2019/10/29/id_884733/884733_720.jpg',\n",
       "  'publishedAt': '2019-10-29T04:30:00Z',\n",
       "  'content': ''},\n",
       " {'source': {'id': None, 'name': 'Detik.com'},\n",
       "  'author': 'Deutsche Welle (DW)',\n",
       "  'title': 'Virus Polio Liar Tipe Tiga Telah Dimusnahkan, Dunia Bebas dari Polio? - detikNews',\n",
       "  'description': 'Organisasi Internasional PBB, WHO mengumumkan virus polio liar tipe tiga kini telah dimusnahkan. Apakah dunia kini bebas dari polio?',\n",
       "  'url': 'https://news.detik.com/dw/d-4763753/virus-polio-liar-tipe-tiga-telah-dimusnahkan-dunia-bebas-dari-polio',\n",
       "  'urlToImage': 'https://awsimages.detik.net.id/api/wm/2019/10/29/6fe1abf5-fffd-4118-90dd-4801493c8aba_169.jpeg?wid=54&w=650&v=1&t=jpeg',\n",
       "  'publishedAt': '2019-10-29T04:23:36Z',\n",
       "  'content': 'Berlin -\\r\\nPada peringatan Hari Polio Dunia, Kamis (24/10), WHO merilis bahwa polio tipe tiga telah berhasil dimusnahkan. Keberhasilan ini merupakan pencapaian bersejarah kemanusiaan. Namun, data baru mengungkapkan bahwa terlalu sedikit anak di Jerman yang men… [+1650 chars]'},\n",
       " {'source': {'id': None, 'name': 'Tempo.co'},\n",
       "  'author': 'Ngarto Februana',\n",
       "  'title': 'Teleskop Rekam Gelembung Nebula Berberat 44 Kali Matahari - Tempo',\n",
       "  'description': 'Gelembung Nebula bersinar merah pekat di foto memukau yang diambil dari 9.200 tahun cahaya oleh seorang astronom amatir di kebun belakangnya.',\n",
       "  'url': 'https://video.tempo.co/read/17050/teleskop-rekam-gelembung-nebula-berberat-44-kali-matahari',\n",
       "  'urlToImage': 'https://statik.tempo.co/data/2019/10/28/id_884676/884676_720.jpg',\n",
       "  'publishedAt': '2019-10-29T04:00:00Z',\n",
       "  'content': 'Gelembung Nebula bersinar merah pekat di foto memukau yang diambil dari 9.200 tahun cahaya oleh seorang astronom amatir di kebun belakangnya.\\xa0Ralph Smyth, astronom amatir, mengambil gambar bintang dan gas-gas di sekitarnya di kebun belakang rumah di Irlandia … [+269 chars]'},\n",
       " {'source': {'id': None, 'name': 'Suara.com'},\n",
       "  'author': 'Silfa Humairah Utami',\n",
       "  'title': '4 Penyakit Langganan Saat Musim Pancaroba, Ini Cara Mencegahnya - Suara.com',\n",
       "  'description': 'Bagaimana cara mencegah penyakit yang rentan pada musim pancaroba?',\n",
       "  'url': 'https://www.suara.com/health/2019/10/29/110000/4-penyakit-langganan-saat-musim-pancaroba-ini-cara-mencegahnya',\n",
       "  'urlToImage': 'https://media.suara.com/pictures/653x366/2018/04/24/42579-sakit-kepala.jpg',\n",
       "  'publishedAt': '2019-10-29T04:00:00Z',\n",
       "  'content': 'Suara.com - 4 Penyakit Langganan Saat Musim Pancaroba, Ini Cara Mencegahnya\\r\\nMemasuki November, musim pancaroba atau musim peralihan dari musim panas ke musim hujan yang terjadi belakangan ini ternyata mempengaruhi daya tahan tubuh.\\r\\nDilansir dari Hello Sehat… [+5046 chars]'},\n",
       " {'source': {'id': None, 'name': 'Tribunnews.com'},\n",
       "  'author': 'Murhan',\n",
       "  'title': 'Sosok Betsalelf, Pria Bule yang Lamar Nikita Mirzani, Sebanding dengan Dipo Latief dan Sajad Ukra? - Banjarmasin Post',\n",
       "  'description': 'Inilah sosok Betsalelf, pria bule yang melamar Nikita Mirzani. Apakah sebanding Dipo Latief, Sajad Ukra atau Vicky Nitinegoro?',\n",
       "  'url': 'https://banjarmasin.tribunnews.com/2019/10/29/sosok-betsalelf-pria-bule-yang-lamar-nikita-mirzani-sebanding-dengan-dipo-latief-dan-sajad-ukra',\n",
       "  'urlToImage': 'https://cdn2.tstatic.net/banjarmasin/foto/bank/images/nikita-mirzani-ketika-dilamar-kekasih-bulenya.jpg',\n",
       "  'publishedAt': '2019-10-29T03:54:37Z',\n",
       "  'content': 'BANJARMASINPOST.CO.ID - Inilah sosok Betsalelf, pria bule yang melamar Nikita\\xa0Mirzani. Apakah sebanding Dipo\\xa0Latief, Sajad\\xa0Ukra atau Vicky\\xa0Nitinegoro?\\r\\nYa, baru 2 bulan menyandang status janda Dipo\\xa0Latief, Nikita\\xa0Mirzani malah dilamar kekasih bulenya, Betsale… [+1274 chars]'},\n",
       " {'source': {'id': None, 'name': 'Ayobandung.com'},\n",
       "  'author': 'Ayo Media Network',\n",
       "  'title': 'KPK Periksa Nico Siahaan Terkait Kasus Pencucian Uang - ayobandung.com',\n",
       "  'description': 'KPK periksa Nico Siahaan Hari Ini Soal Kasus Pencucian Uang',\n",
       "  'url': 'https://www.ayobandung.com/read/2019/10/29/68436/kpk-periksa-nico-siahaan-terkait-kasus-pencucian-uang',\n",
       "  'urlToImage': 'https://www.ayobandung.com/images-bandung/post/articles/2019/10/29/68436/20190313_135056(0).jpg',\n",
       "  'publishedAt': '2019-10-29T03:43:45Z',\n",
       "  'content': 'JAKARTA, AYOBANDUNG.COM -- Komisi Pemberantasan Korupsi hari ini, Selasa (29/10/2019) memeriksa anggota DPR RI 2019-2024 dari Fraksi PDI Perjuangan Junico Siahaan alias Nico Siahaan dalam penyidikan kasus Tindak Pidana Pencucian Uang (TPPU) dengan tersangka m… [+2089 chars]'},\n",
       " {'source': {'id': None, 'name': 'Kompas.com'},\n",
       "  'author': 'Reza Wahyudi',\n",
       "  'title': 'Kelahiran Mi CC9 Pro dan Kamera 108 MP Dipastikan Xiaomi - Kompas.com - Tekno Kompas.com',\n",
       "  'description': 'Xiaomi Mi CC9 Pro akan dibekali lima kamera belakang dan menjadi smartphone pertama Xiaomi yang dibekali kemampuan 5x optical zoom.',\n",
       "  'url': 'https://tekno.kompas.com/read/2019/10/29/10110007/kelahiran-mi-cc9-pro-dan-kamera-108-mp-dipastikan-xiaomi',\n",
       "  'urlToImage': 'https://asset.kompas.com/crops/aMvMesDNYXYzvzFCXx-5Poee-6I=/53x86:770x565/780x390/filters:watermark(data/photo/2019/08/13/5d528ba5c908a.png,0,-0,1)/data/photo/2019/10/29/5db791551adf1.png',\n",
       "  'publishedAt': '2019-10-29T03:11:00Z',\n",
       "  'content': 'KOMPAS.com - Xiaomi resmi mengumumkan jadwal peluncuran Mi CC9 Pro setelah merilis bocoran resminya beberapa waktu lalu. Smartphone Xiaomi ini akan diperkenalkan pada 5 November mendatang.\\r\\nDengan embel-embel \"Pro\" di belakang, tentu spesifikasinya lebih ting… [+1958 chars]'}]"
      ]
     },
     "execution_count": 43,
     "metadata": {},
     "output_type": "execute_result"
    }
   ],
   "source": [
    "temp"
   ]
  },
  {
   "cell_type": "code",
   "execution_count": 44,
   "metadata": {
    "scrolled": true
   },
   "outputs": [
    {
     "name": "stdout",
     "output_type": "stream",
     "text": [
      "Apple Umumkan AirPods Pro, Akan Hadir 30 Oktober - Tempo\n",
      "https://tekno.tempo.co/read/1265730/apple-umumkan-airpods-pro-akan-hadir-30-oktober\n",
      "=========================\n",
      "\n",
      "['tekno']\n",
      "=========================\n",
      "\n",
      "Mobil Menteri Baru Jokowi Sudah Mejeng di DPR - Detikcom\n",
      "https://oto.detik.com/oto-galeri/d-4763907/mobil-menteri-baru-jokowi-sudah-mejeng-di-dpr\n",
      "=========================\n",
      "\n",
      "['news']\n",
      "=========================\n",
      "\n",
      "Resmi Tunangan, Ternyata Rezky Aditya Incar Citra Kirana Sejak SMA - MataMata.com - matamata.com\n",
      "https://www.matamata.com/seleb/2019/10/29/124134/resmi-tunangan-ternyata-rezky-aditya-incar-citra-kirana-sejak-sma\n",
      "=========================\n",
      "\n",
      "['entertainment']\n",
      "=========================\n",
      "\n",
      "Chevrolet Hengkang, Ini Kata Komunitas Soal Mobil yang Dijual - KOMPAS.com\n",
      "https://otomotif.kompas.com/read/2019/10/29/123518315/chevrolet-hengkang-ini-kata-komunitas-soal-mobil-yang-dijual\n",
      "=========================\n",
      "\n",
      "['otomotif']\n",
      "=========================\n",
      "\n",
      "Wortel Bisa Bantu Turunkan Berat Badan, Cek 8 Manfaat Lainnya - Tempo\n",
      "https://cantik.tempo.co/read/1265701/wortel-bisa-bantu-turunkan-berat-badan-cek-8-manfaat-lainnya\n",
      "=========================\n",
      "\n",
      "['health']\n",
      "=========================\n",
      "\n",
      "Tidak Ada yang Tanya, Jack Miller Sindir Jorge Lorenzo di Jumpa Pers - Bolasport.com\n",
      "https://www.bolasport.com/read/311901110/tidak-ada-yang-tanya-jack-miller-sindir-jorge-lorenzo-di-jumpa-pers\n",
      "=========================\n",
      "\n",
      "['sports']\n",
      "=========================\n",
      "\n",
      "Gempa Dahsyat Guncang Mindanao Filipina, Terasa Sampai Indonesia - Kompas.com - KOMPAS.com\n",
      "https://sains.kompas.com/read/2019/10/29/120300323/gempa-dahsyat-guncang-mindanao-filipina-terasa-sampai-indonesia\n",
      "=========================\n",
      "\n",
      "['news']\n",
      "=========================\n",
      "\n",
      "NASA Bakal Kirim Robot Pendeteksi Air ke Bulan - Liputan6.com\n",
      "https://www.liputan6.com/tekno/read/4096791/nasa-bakal-kirim-robot-pendeteksi-air-ke-bulan\n",
      "=========================\n",
      "\n",
      "['tekno']\n",
      "=========================\n",
      "\n",
      "Balita di Makassar Peluk Jasad Ibu selama Tiga Hari Nasional • 1 jam yang lalu - CNN Indonesia\n",
      "https://cnnindonesia.com/nasional/20191029112358-20-443735/balita-di-makassar-peluk-jasad-ibu-selama-tiga-hari\n",
      "=========================\n",
      "\n",
      "['news']\n",
      "=========================\n",
      "\n",
      "Gerindra Sebut Prabowo Sudah Boleh ke AS: Bahkan Diundang Berkunjung - kumparan.com - kumparan.com\n",
      "https://kumparan.com/kumparannews/gerindra-sebut-prabowo-sudah-boleh-ke-as-bahkan-diundang-berkunjung-1s9GDn3mglz\n",
      "=========================\n",
      "\n",
      "['news']\n",
      "=========================\n",
      "\n",
      "6 Catatan Penting Rekrutmen CPNS 2019, Nomor 3 Harus Jadi Perhatian Pelamar - Kompas.com - KOMPAS.com\n",
      "https://edukasi.kompas.com/read/2019/10/29/11502311/6-catatan-penting-rekrutmen-cpns-2019-nomor-3-harus-jadi-perhatian-pelamar\n",
      "=========================\n",
      "\n",
      "['bisnis']\n",
      "=========================\n",
      "\n",
      "Muhajir, Tangan Kanan Abu Bakr al-Baghdadi Juga Tewas dalam Operasi AS - Detiknews\n",
      "https://news.detik.com/internasional/d-4763807/muhajir-tangan-kanan-abu-bakr-al-baghdadi-juga-tewas-dalam-operasi-as\n",
      "=========================\n",
      "\n",
      "['news']\n",
      "=========================\n",
      "\n",
      "Fabinho, Raksasa Liverpool dan Cinta Arsenal yang Hinggap di Lain Hati - Mojok\n",
      "https://mojok.co/yms/balbalan/fabinho-raksasa-liverpool-dan-cinta-arsenal-yang-hinggap-di-lain-hati/\n",
      "=========================\n",
      "\n",
      "['sports']\n",
      "=========================\n",
      "\n",
      "Waspada, NASA Deteksi Asteroid Raksasa Dekati Bumi - Tempo\n",
      "https://video.tempo.co/read/17058/waspada-nasa-deteksi-asteroid-raksasa-dekati-bumi\n",
      "=========================\n",
      "\n",
      "['tekno']\n",
      "=========================\n",
      "\n",
      "Virus Polio Liar Tipe Tiga Telah Dimusnahkan, Dunia Bebas dari Polio? - detikNews\n",
      "https://news.detik.com/dw/d-4763753/virus-polio-liar-tipe-tiga-telah-dimusnahkan-dunia-bebas-dari-polio\n",
      "=========================\n",
      "\n",
      "['health']\n",
      "=========================\n",
      "\n",
      "Teleskop Rekam Gelembung Nebula Berberat 44 Kali Matahari - Tempo\n",
      "https://video.tempo.co/read/17050/teleskop-rekam-gelembung-nebula-berberat-44-kali-matahari\n",
      "=========================\n",
      "\n",
      "['tekno']\n",
      "=========================\n",
      "\n",
      "4 Penyakit Langganan Saat Musim Pancaroba, Ini Cara Mencegahnya - Suara.com\n",
      "https://www.suara.com/health/2019/10/29/110000/4-penyakit-langganan-saat-musim-pancaroba-ini-cara-mencegahnya\n",
      "=========================\n",
      "\n",
      "['health']\n",
      "=========================\n",
      "\n",
      "Sosok Betsalelf, Pria Bule yang Lamar Nikita Mirzani, Sebanding dengan Dipo Latief dan Sajad Ukra? - Banjarmasin Post\n",
      "https://banjarmasin.tribunnews.com/2019/10/29/sosok-betsalelf-pria-bule-yang-lamar-nikita-mirzani-sebanding-dengan-dipo-latief-dan-sajad-ukra\n",
      "=========================\n",
      "\n",
      "['entertainment']\n",
      "=========================\n",
      "\n",
      "KPK Periksa Nico Siahaan Terkait Kasus Pencucian Uang - ayobandung.com\n",
      "https://www.ayobandung.com/read/2019/10/29/68436/kpk-periksa-nico-siahaan-terkait-kasus-pencucian-uang\n",
      "=========================\n",
      "\n",
      "['news']\n",
      "=========================\n",
      "\n",
      "Kelahiran Mi CC9 Pro dan Kamera 108 MP Dipastikan Xiaomi - Kompas.com - Tekno Kompas.com\n",
      "https://tekno.kompas.com/read/2019/10/29/10110007/kelahiran-mi-cc9-pro-dan-kamera-108-mp-dipastikan-xiaomi\n",
      "=========================\n",
      "\n",
      "['tekno']\n",
      "=========================\n",
      "\n"
     ]
    }
   ],
   "source": [
    "for t in temp:\n",
    "    print(t['title'])\n",
    "    print(t['url'])\n",
    "    print('=========================\\n')\n",
    "    print(get_categoryMNB(t['title']))\n",
    "    print('=========================\\n')"
   ]
  },
  {
   "cell_type": "code",
   "execution_count": null,
   "metadata": {},
   "outputs": [],
   "source": []
  },
  {
   "cell_type": "markdown",
   "metadata": {},
   "source": [
    "## Testing"
   ]
  },
  {
   "cell_type": "code",
   "execution_count": 80,
   "metadata": {},
   "outputs": [],
   "source": [
    "client = pymongo.MongoClient(\"mongodb://localhost:27017\")\n",
    "database = myClient.iStorage\n",
    "collection = myDatabase.iBefore"
   ]
  },
  {
   "cell_type": "code",
   "execution_count": 81,
   "metadata": {},
   "outputs": [],
   "source": [
    "iQuery = collection.find({})"
   ]
  },
  {
   "cell_type": "code",
   "execution_count": 82,
   "metadata": {},
   "outputs": [],
   "source": [
    "data = []\n",
    "for q in iQuery: data.append(q)"
   ]
  },
  {
   "cell_type": "code",
   "execution_count": 87,
   "metadata": {
    "scrolled": true
   },
   "outputs": [
    {
     "name": "stdout",
     "output_type": "stream",
     "text": [
      "Bank Mandiri Catat Laba Rp 20,3 T, Tumbuh 11,9 Persen\n",
      "https://bisnis.tempo.co/read/1265518/bank-mandiri-catat-laba-rp-203-t-tumbuh-119-persen\n",
      "=========================\n",
      "\n",
      "['bisnis']\n",
      "=========================\n",
      "\n",
      "Senja di Kaimana, Masih Seelok Dahulu\n",
      "https://travel.tempo.co/read/1265515/senja-di-kaimana-masih-seelok-dahulu\n",
      "=========================\n",
      "\n",
      "['entertainment']\n",
      "=========================\n",
      "\n",
      "Uni Eropa Setuju Penundaan Brexit, Apa Syaratnya?\n",
      "https://dunia.tempo.co/read/1265473/uni-eropa-setuju-penundaan-brexit-apa-syaratnya\n",
      "=========================\n",
      "\n",
      "['bisnis']\n",
      "=========================\n",
      "\n",
      "Menpan RB Tjahjo Kumolo: Pendaftaran CPNS 2019 Dibuka 11 November\n",
      "https://bisnis.tempo.co/read/1265493/menpan-rb-tjahjo-kumolo-pendaftaran-cpns-2019-dibuka-11-november\n",
      "=========================\n",
      "\n",
      "['bisnis']\n",
      "=========================\n",
      "\n",
      "Waspadalah, Stroke Kini Sudah Menyerang Orang Usia 30-an\n",
      "https://gaya.tempo.co/read/1265506/waspadalah-stroke-kini-sudah-menyerang-orang-usia-30-an\n",
      "=========================\n",
      "\n",
      "['health']\n",
      "=========================\n",
      "\n",
      "Bali Macet, Jerinx SID Salahkan Pemerintah\n",
      "https://seleb.tempo.co/read/1265507/bali-macet-jerinx-sid-salahkan-pemerintah\n",
      "=========================\n",
      "\n",
      "['entertainment']\n",
      "=========================\n",
      "\n"
     ]
    }
   ],
   "source": [
    "for d in data:\n",
    "    print(d['title'])\n",
    "    print(d['url'])\n",
    "    print('=========================\\n')\n",
    "    print(get_categoryMNB(d['title']))\n",
    "    print('=========================\\n')"
   ]
  },
  {
   "cell_type": "code",
   "execution_count": null,
   "metadata": {},
   "outputs": [],
   "source": []
  }
 ],
 "metadata": {
  "kernelspec": {
   "display_name": "Python 3",
   "language": "python",
   "name": "python3"
  },
  "language_info": {
   "codemirror_mode": {
    "name": "ipython",
    "version": 3
   },
   "file_extension": ".py",
   "mimetype": "text/x-python",
   "name": "python",
   "nbconvert_exporter": "python",
   "pygments_lexer": "ipython3",
   "version": "3.6.6+"
  }
 },
 "nbformat": 4,
 "nbformat_minor": 2
}
