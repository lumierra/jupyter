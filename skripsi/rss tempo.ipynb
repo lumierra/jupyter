{
 "cells": [
  {
   "cell_type": "code",
   "execution_count": 1,
   "metadata": {},
   "outputs": [],
   "source": [
    "import requests\n",
    "import datetime\n",
    "from tqdm import tqdm\n",
    "from bs4 import BeautifulSoup"
   ]
  },
  {
   "cell_type": "code",
   "execution_count": 2,
   "metadata": {},
   "outputs": [],
   "source": [
    "now = datetime.date.today()"
   ]
  },
  {
   "cell_type": "code",
   "execution_count": 14,
   "metadata": {},
   "outputs": [],
   "source": [
    "tempo_url = '''http://rss.tempo.co/'''\n",
    "response_tempo = requests.get(tempo_url).text\n",
    "soup_tempo = BeautifulSoup(response_tempo, \"xml\")\n",
    "items_tempo = soup.select('item')"
   ]
  },
  {
   "cell_type": "code",
   "execution_count": 22,
   "metadata": {
    "scrolled": true
   },
   "outputs": [
    {
     "data": {
      "text/plain": [
       "<item>\n",
       "<title>Meningkat 13 Persen, BCA Cetak Laba Bersih Rp 20,9 Triliun</title>\n",
       "<link>https://bisnis.tempo.co/read/1265466/meningkat-13-persen-bca-cetak-laba-bersih-rp-209-triliun</link>\n",
       "<pubDate>Mon, 28 Oct 2019 18:19:00 +0700</pubDate>\n",
       "<description>PT Bank Central Asia Tbk. atau BCA mencatatkan pertumbuhan laba bersih sebesar 13 persen secara tahunan atau year on year (yoy) menjadi Rp 20,9 T</description>\n",
       "</item>"
      ]
     },
     "execution_count": 22,
     "metadata": {},
     "output_type": "execute_result"
    }
   ],
   "source": [
    "items_tempo[0]"
   ]
  },
  {
   "cell_type": "code",
   "execution_count": 54,
   "metadata": {},
   "outputs": [],
   "source": [
    "tempo = []"
   ]
  },
  {
   "cell_type": "code",
   "execution_count": 56,
   "metadata": {},
   "outputs": [
    {
     "name": "stdout",
     "output_type": "stream",
     "text": [
      "https://bisnis.tempo.co/read/1265466/meningkat-13-persen-bca-cetak-laba-bersih-rp-209-triliun\n",
      "https://bola.tempo.co/read/1265465/kalteng-putra-vs-persela-satgas-sebut-tak-ada-pengaturan-skor\n",
      "https://metro.tempo.co/read/1265464/mahasiswa-bubar-sejumlah-peserta-demonstrasi-tetap-bertahan\n",
      "https://metro.tempo.co/read/1265462/massa-demonstrasi-mahasiswa-menuju-istana-merdeka\n",
      "https://bola.tempo.co/read/1265461/persebaya-vs-pss-sleman-wolfgang-pikal-instruksikan-menyerang\n",
      "https://dunia.tempo.co/read/1265460/hong-kong-masuki-masa-resesi-ekonomi-saat-demonstrasi-marak\n",
      "https://bisnis.tempo.co/read/1265459/kata-pln-soal-puluhan-desa-di-sumsel-belum-dialiri-listrik\n",
      "https://metro.tempo.co/read/1265451/jeritan-istri-zul-zivilia-soal-dua-kali-sidang-tuntutan-ditunda\n",
      "https://bisnis.tempo.co/read/1265458/menteri-edhy-prabowo-bakal-panggil-pengembang-pulau-reklamasi\n",
      "https://engteco_news.tempo.co/read/1265394/ministry-of-industry-to-accelerate-freeport-smelter-project\n"
     ]
    }
   ],
   "source": [
    "for item in items_tempo:\n",
    "    link = item.select_one('link').text\n",
    "    title = item.select_one('title').text\n",
    "    date = \"{}-{}-{}\".format(now.day,now.month,now.year)\n",
    "    print(link)\n",
    "    json = {\n",
    "        'url': link,\n",
    "        'title': title,\n",
    "        'date' : date,\n",
    "        'sumber': 'tempo.co'\n",
    "    }\n",
    "    tempo.append(json)"
   ]
  },
  {
   "cell_type": "code",
   "execution_count": 57,
   "metadata": {},
   "outputs": [
    {
     "data": {
      "text/plain": [
       "{'url': 'https://bisnis.tempo.co/read/1265466/meningkat-13-persen-bca-cetak-laba-bersih-rp-209-triliun',\n",
       " 'title': 'Meningkat 13 Persen, BCA Cetak Laba Bersih Rp 20,9 Triliun',\n",
       " 'date': '28-10-2019',\n",
       " 'sumber': 'tempo.co'}"
      ]
     },
     "execution_count": 57,
     "metadata": {},
     "output_type": "execute_result"
    }
   ],
   "source": [
    "tempo[0]"
   ]
  },
  {
   "cell_type": "code",
   "execution_count": 29,
   "metadata": {},
   "outputs": [],
   "source": [
    "kompas_url = '''https://newsapi.org/v2/everything?domains=kompas.com&apiKey=3bb4bf323f7f43d3aaafb6bd5cd26c92'''"
   ]
  },
  {
   "cell_type": "code",
   "execution_count": 30,
   "metadata": {},
   "outputs": [],
   "source": [
    "response_kompas = requests.get(kompas_url).json()"
   ]
  },
  {
   "cell_type": "code",
   "execution_count": 36,
   "metadata": {},
   "outputs": [
    {
     "name": "stdout",
     "output_type": "stream",
     "text": [
      "Sambangi Kantor Rans Entertainment, Denny Cagur Geleng-geleng Kepala Halaman all - Kompas.com\n",
      "https://entertainment.kompas.com/read/2019/10/27/205018410/sambangi-kantor-rans-entertainment-denny-cagur-geleng-geleng-kepala?page=all\n",
      "\n",
      "Lee Min Ho Tiba di Bali untuk Pemotretan\n",
      "https://entertainment.kompas.com/read/2019/10/04/131647110/lee-min-ho-tiba-di-bali-untuk-pemotretan\n",
      "\n"
     ]
    }
   ],
   "source": [
    "for re in response_kompas['articles']:\n",
    "    print(re['title'])\n",
    "    print(re['url'])\n",
    "    json = {\n",
    "        'url': re['url'],\n",
    "        'sumber': 'kompas.com'\n",
    "    }\n",
    "    iData.append(json)\n",
    "    print()"
   ]
  },
  {
   "cell_type": "code",
   "execution_count": null,
   "metadata": {},
   "outputs": [],
   "source": []
  },
  {
   "cell_type": "code",
   "execution_count": null,
   "metadata": {},
   "outputs": [],
   "source": []
  },
  {
   "cell_type": "markdown",
   "metadata": {},
   "source": [
    "## Tempo"
   ]
  },
  {
   "cell_type": "code",
   "execution_count": 60,
   "metadata": {},
   "outputs": [
    {
     "name": "stdout",
     "output_type": "stream",
     "text": [
      "https://bisnis.tempo.co/read/1265466/meningkat-13-persen-bca-cetak-laba-bersih-rp-209-triliun\n",
      "https://bola.tempo.co/read/1265465/kalteng-putra-vs-persela-satgas-sebut-tak-ada-pengaturan-skor\n",
      "https://metro.tempo.co/read/1265464/mahasiswa-bubar-sejumlah-peserta-demonstrasi-tetap-bertahan\n",
      "https://metro.tempo.co/read/1265462/massa-demonstrasi-mahasiswa-menuju-istana-merdeka\n",
      "https://bola.tempo.co/read/1265461/persebaya-vs-pss-sleman-wolfgang-pikal-instruksikan-menyerang\n",
      "https://dunia.tempo.co/read/1265460/hong-kong-masuki-masa-resesi-ekonomi-saat-demonstrasi-marak\n",
      "https://bisnis.tempo.co/read/1265459/kata-pln-soal-puluhan-desa-di-sumsel-belum-dialiri-listrik\n",
      "https://metro.tempo.co/read/1265451/jeritan-istri-zul-zivilia-soal-dua-kali-sidang-tuntutan-ditunda\n",
      "https://bisnis.tempo.co/read/1265458/menteri-edhy-prabowo-bakal-panggil-pengembang-pulau-reklamasi\n",
      "https://engteco_news.tempo.co/read/1265394/ministry-of-industry-to-accelerate-freeport-smelter-project\n"
     ]
    }
   ],
   "source": [
    "for temp in tempo:\n",
    "    print(temp['url'])"
   ]
  },
  {
   "cell_type": "code",
   "execution_count": 61,
   "metadata": {},
   "outputs": [],
   "source": [
    "def tempoRSS(tempo=None):\n",
    "    iData = []\n",
    "    \n",
    "    for temp in tempo:\n",
    "        \n",
    "        iJson = {\n",
    "            'category': '',\n",
    "            'title': temp['title'],\n",
    "            'description': '',\n",
    "            'url': temp['url'],\n",
    "            'content': '',\n",
    "            'contentHTML': '',\n",
    "            'img': '',\n",
    "            'subCategory': '',\n",
    "            'publishedAt': temp['date'],\n",
    "            'source': temp['sumber'],\n",
    "            'cleanContent': '',\n",
    "            'nerContent': '',\n",
    "            'countNer': {\n",
    "                'person': 0,\n",
    "                'org': 0,\n",
    "                'gpe': 0,\n",
    "                'event': 0,\n",
    "                'merk': 0,\n",
    "                'product': 0\n",
    "            }\n",
    "        }\n",
    "\n",
    "        iData.append(iJson)\n",
    "\n",
    "    return iData"
   ]
  },
  {
   "cell_type": "code",
   "execution_count": 64,
   "metadata": {},
   "outputs": [],
   "source": [
    "iData = []"
   ]
  },
  {
   "cell_type": "code",
   "execution_count": 65,
   "metadata": {},
   "outputs": [],
   "source": [
    "iData = tempoRSS(tempo)"
   ]
  },
  {
   "cell_type": "code",
   "execution_count": 66,
   "metadata": {
    "scrolled": true
   },
   "outputs": [
    {
     "data": {
      "text/plain": [
       "10"
      ]
     },
     "execution_count": 66,
     "metadata": {},
     "output_type": "execute_result"
    }
   ],
   "source": [
    "len(iData)"
   ]
  },
  {
   "cell_type": "code",
   "execution_count": 69,
   "metadata": {},
   "outputs": [
    {
     "data": {
      "text/plain": [
       "{'category': '',\n",
       " 'title': 'Meningkat 13 Persen, BCA Cetak Laba Bersih Rp 20,9 Triliun',\n",
       " 'description': '',\n",
       " 'url': 'https://bisnis.tempo.co/read/1265466/meningkat-13-persen-bca-cetak-laba-bersih-rp-209-triliun',\n",
       " 'content': '',\n",
       " 'contentHTML': '',\n",
       " 'img': '',\n",
       " 'subCategory': '',\n",
       " 'publishedAt': '28-10-2019',\n",
       " 'source': 'tempo.co',\n",
       " 'cleanContent': '',\n",
       " 'nerContent': '',\n",
       " 'countNer': {'person': 0,\n",
       "  'org': 0,\n",
       "  'gpe': 0,\n",
       "  'event': 0,\n",
       "  'merk': 0,\n",
       "  'product': 0}}"
      ]
     },
     "execution_count": 69,
     "metadata": {},
     "output_type": "execute_result"
    }
   ],
   "source": [
    "iData[0]"
   ]
  },
  {
   "cell_type": "code",
   "execution_count": null,
   "metadata": {},
   "outputs": [],
   "source": []
  }
 ],
 "metadata": {
  "kernelspec": {
   "display_name": "Python 3",
   "language": "python",
   "name": "python3"
  },
  "language_info": {
   "codemirror_mode": {
    "name": "ipython",
    "version": 3
   },
   "file_extension": ".py",
   "mimetype": "text/x-python",
   "name": "python",
   "nbconvert_exporter": "python",
   "pygments_lexer": "ipython3",
   "version": "3.6.6+"
  }
 },
 "nbformat": 4,
 "nbformat_minor": 2
}
