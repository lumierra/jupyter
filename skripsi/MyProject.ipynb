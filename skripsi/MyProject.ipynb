{
 "cells": [
  {
   "cell_type": "markdown",
   "metadata": {},
   "source": [
    "# Import Library"
   ]
  },
  {
   "cell_type": "code",
   "execution_count": 1,
   "metadata": {},
   "outputs": [],
   "source": [
    "import id_aldo\n",
    "import requests\n",
    "import datetime\n",
    "import id_beritagar as indo\n",
    "from pprint import pprint\n",
    "from bs4 import BeautifulSoup\n",
    "from tqdm import tqdm, tqdm_notebook\n",
    "from textacy.preprocess import  preprocess_text"
   ]
  },
  {
   "cell_type": "code",
   "execution_count": null,
   "metadata": {},
   "outputs": [],
   "source": []
  },
  {
   "cell_type": "markdown",
   "metadata": {},
   "source": [
    "# Set Default Variable"
   ]
  },
  {
   "cell_type": "code",
   "execution_count": 2,
   "metadata": {},
   "outputs": [],
   "source": [
    "# Set Datetime\n",
    "now = datetime.date.today()"
   ]
  },
  {
   "cell_type": "code",
   "execution_count": null,
   "metadata": {},
   "outputs": [],
   "source": []
  },
  {
   "cell_type": "code",
   "execution_count": null,
   "metadata": {},
   "outputs": [],
   "source": []
  },
  {
   "cell_type": "markdown",
   "metadata": {},
   "source": [
    "# Get Data with Scrapping Method\n",
    "## Data From Tempo.co"
   ]
  },
  {
   "cell_type": "code",
   "execution_count": 2,
   "metadata": {},
   "outputs": [],
   "source": [
    "url = '''https://www.tempo.co/indeks/2019/11/18/tekno'''\n",
    "response = requests.get(url).text\n",
    "soup = BeautifulSoup(response, \"html5lib\")"
   ]
  },
  {
   "cell_type": "code",
   "execution_count": 3,
   "metadata": {},
   "outputs": [],
   "source": [
    "# Get Content\n",
    "contents = soup.select('.list.list-type-1 > ul > li')"
   ]
  },
  {
   "cell_type": "markdown",
   "metadata": {},
   "source": [
    "### Result of Contents"
   ]
  },
  {
   "cell_type": "code",
   "execution_count": 4,
   "metadata": {
    "scrolled": true
   },
   "outputs": [
    {
     "data": {
      "text/plain": [
       "[<li>\n",
       " \t\t\t\t\t <div class=\"card card-type-1\">\n",
       " \t\t\t\t\t\t <div class=\"wrapper clearfix\">\n",
       " \t\t\t\t\t\t\t <a class=\"col\" href=\"https://tekno.tempo.co/read/1273550/kisah-jet-tempur-canggih-as-xf-103-yang-layu-sebelum-terbang\">\n",
       " \t\t\t\t\t\t\t\t <img src=\"https://statik.tempo.co/data/2019/11/18/id_890232/890232_400.jpg\"/>\n",
       " \t\t\t\t\t\t\t </a>\n",
       " \t\t\t\t\t\t\t <a class=\"col\" href=\"https://tekno.tempo.co/read/1273550/kisah-jet-tempur-canggih-as-xf-103-yang-layu-sebelum-terbang\">\n",
       " \t\t\t\t\t\t\t\t <h2 class=\"title\">Kisah Jet Tempur Canggih AS XF-103, yang Layu sebelum Terbang</h2>\n",
       " \t\t\t\t\t\t\t\t <p>Amerika Serikat pernah nyaris memiliki jet tempur canggih XF-103 yang desainnyamirip dengan roket dan rudal penjelajah.</p>\n",
       " \t\t\t\t\t\t\t\t <span class=\"col\">18 November 2019 13:07 WIB</span>\n",
       " \t\t\t\t\t\t\t </a>\n",
       " \t\t\t\t\t\t </div>\n",
       " \t\t\t\t\t </div>\n",
       " \t\t\t\t </li>, <li>\n",
       " \t\t\t\t\t <div class=\"card card-type-1\">\n",
       " \t\t\t\t\t\t <div class=\"wrapper clearfix\">\n",
       " \t\t\t\t\t\t\t <a class=\"col\" href=\"https://tekno.tempo.co/read/1273553/belum-dirilis-vivo-s1-pro-sudah-bisa-dipesan\">\n",
       " \t\t\t\t\t\t\t\t <img src=\"https://statik.tempo.co/data/2019/11/18/id_890208/890208_400.jpg\"/>\n",
       " \t\t\t\t\t\t\t </a>\n",
       " \t\t\t\t\t\t\t <a class=\"col\" href=\"https://tekno.tempo.co/read/1273553/belum-dirilis-vivo-s1-pro-sudah-bisa-dipesan\">\n",
       " \t\t\t\t\t\t\t\t <h2 class=\"title\">Belum Dirilis, Vivo S1 Pro Sudah Bisa Dipesan </h2>\n",
       " \t\t\t\t\t\t\t\t <p>Vivo S1 Pro dibekali screen touch id di dalam layar, yang membuatnya jauh lebih praktis.</p>\n",
       " \t\t\t\t\t\t\t\t <span class=\"col\">18 November 2019 12:29 WIB</span>\n",
       " \t\t\t\t\t\t\t </a>\n",
       " \t\t\t\t\t\t </div>\n",
       " \t\t\t\t\t </div>\n",
       " \t\t\t\t </li>, <li>\n",
       " \t\t\t\t\t <div class=\"card card-type-1\">\n",
       " \t\t\t\t\t\t <div class=\"wrapper clearfix\">\n",
       " \t\t\t\t\t\t\t <a class=\"col\" href=\"https://tekno.tempo.co/read/1273473/bpbd-yogya-kenalkan-mitigasi-bencana-sejak-dini-dengan-tamiya\">\n",
       " \t\t\t\t\t\t\t\t <img src=\"https://statik.tempo.co/data/2019/11/18/id_890128/890128_400.jpg\"/>\n",
       " \t\t\t\t\t\t\t </a>\n",
       " \t\t\t\t\t\t\t <a class=\"col\" href=\"https://tekno.tempo.co/read/1273473/bpbd-yogya-kenalkan-mitigasi-bencana-sejak-dini-dengan-tamiya\">\n",
       " \t\t\t\t\t\t\t\t <h2 class=\"title\">BPBD Yogya Kenalkan Mitigasi Bencana Sejak Dini dengan Tamiya</h2>\n",
       " \t\t\t\t\t\t\t\t <p> BPBD Kota Yogyakarta memperkenalkan mitigasi bencana sejak dini kepada anak-anak lewat Taman Mitigasi Bencana Yogyakarta (Tamiya).</p>\n",
       " \t\t\t\t\t\t\t\t <span class=\"col\">18 November 2019 10:26 WIB</span>\n",
       " \t\t\t\t\t\t\t </a>\n",
       " \t\t\t\t\t\t </div>\n",
       " \t\t\t\t\t </div>\n",
       " \t\t\t\t </li>, <li>\n",
       " \t\t\t\t\t <div class=\"card card-type-1\">\n",
       " \t\t\t\t\t\t <div class=\"wrapper clearfix\">\n",
       " \t\t\t\t\t\t\t <a class=\"col\" href=\"https://tekno.tempo.co/read/1273487/bintang-berkecepatan-595-juta-kmjam-terlontar-dari-bima-sakti\">\n",
       " \t\t\t\t\t\t\t\t <img src=\"https://statik.tempo.co/data/2019/11/18/id_890136/890136_400.jpg\"/>\n",
       " \t\t\t\t\t\t\t </a>\n",
       " \t\t\t\t\t\t\t <a class=\"col\" href=\"https://tekno.tempo.co/read/1273487/bintang-berkecepatan-595-juta-kmjam-terlontar-dari-bima-sakti\">\n",
       " \t\t\t\t\t\t\t\t <h2 class=\"title\">Bintang Berkecepatan 5,95 Juta Km/Jam Terlontar dari Bima Sakti</h2>\n",
       " \t\t\t\t\t\t\t\t <p>Para astronom memperkirakan bahwa lubang hitam besar di pusat Galaksi Bima Sakti yang melontarkan bintang S5-HSV1.</p>\n",
       " \t\t\t\t\t\t\t\t <span class=\"col\">18 November 2019 10:00 WIB</span>\n",
       " \t\t\t\t\t\t\t </a>\n",
       " \t\t\t\t\t\t </div>\n",
       " \t\t\t\t\t </div>\n",
       " \t\t\t\t </li>, <li>\n",
       " \t\t\t\t\t <div class=\"card card-type-1\">\n",
       " \t\t\t\t\t\t <div class=\"wrapper clearfix\">\n",
       " \t\t\t\t\t\t\t <a class=\"col\" href=\"https://tekno.tempo.co/read/1273484/bmkg-bantah-isu-kekeringan-panjang-dan-el-nino-pada-2020\">\n",
       " \t\t\t\t\t\t\t\t <img src=\"https://statik.tempo.co/data/2010/09/22/id_47687/47687_300.jpg\"/>\n",
       " \t\t\t\t\t\t\t </a>\n",
       " \t\t\t\t\t\t\t <a class=\"col\" href=\"https://tekno.tempo.co/read/1273484/bmkg-bantah-isu-kekeringan-panjang-dan-el-nino-pada-2020\">\n",
       " \t\t\t\t\t\t\t\t <h2 class=\"title\">BMKG Bantah Isu Kekeringan Panjang dan El Nino pada 2020</h2>\n",
       " \t\t\t\t\t\t\t\t <p>BMKG menegaskan instansi tersebut tidak pernah memprediksi hal tersebut dan pada 2020 tidak teridentifikasi akan terjadi El-Nino kuat.</p>\n",
       " \t\t\t\t\t\t\t\t <span class=\"col\">18 November 2019 09:48 WIB</span>\n",
       " \t\t\t\t\t\t\t </a>\n",
       " \t\t\t\t\t\t </div>\n",
       " \t\t\t\t\t </div>\n",
       " \t\t\t\t </li>, <li>\n",
       " \t\t\t\t\t <div class=\"card card-type-1\">\n",
       " \t\t\t\t\t\t <div class=\"wrapper clearfix\">\n",
       " \t\t\t\t\t\t\t <a class=\"col\" href=\"https://tekno.tempo.co/read/1273480/nadiem-makarim-masuk-time-100-next\">\n",
       " \t\t\t\t\t\t\t\t <img src=\"https://statik.tempo.co/data/2019/11/15/id_889461/889461_400.jpg\"/>\n",
       " \t\t\t\t\t\t\t </a>\n",
       " \t\t\t\t\t\t\t <a class=\"col\" href=\"https://tekno.tempo.co/read/1273480/nadiem-makarim-masuk-time-100-next\">\n",
       " \t\t\t\t\t\t\t\t <h2 class=\"title\">Nadiem Makarim Masuk TIME 100 Next</h2>\n",
       " \t\t\t\t\t\t\t\t <p>Majalah TIME merilis daftar TIME 100 Next untuk pertama kalinya. Dalam daftar 100 orang rising stars tersebut nama Nadiem Makarim masuk di dalamnya.</p>\n",
       " \t\t\t\t\t\t\t\t <span class=\"col\">18 November 2019 09:32 WIB</span>\n",
       " \t\t\t\t\t\t\t </a>\n",
       " \t\t\t\t\t\t </div>\n",
       " \t\t\t\t\t </div>\n",
       " \t\t\t\t </li>, <li>\n",
       " \t\t\t\t\t <div class=\"card card-type-1\">\n",
       " \t\t\t\t\t\t <div class=\"wrapper clearfix\">\n",
       " \t\t\t\t\t\t\t <a class=\"col\" href=\"https://tekno.tempo.co/read/1273463/ceo-realme-unggah-promo-di-twitter-menggunakan-iphone\">\n",
       " \t\t\t\t\t\t\t\t <img src=\"https://statik.tempo.co/data/2019/11/18/id_890115/890115_400.jpg\"/>\n",
       " \t\t\t\t\t\t\t </a>\n",
       " \t\t\t\t\t\t\t <a class=\"col\" href=\"https://tekno.tempo.co/read/1273463/ceo-realme-unggah-promo-di-twitter-menggunakan-iphone\">\n",
       " \t\t\t\t\t\t\t\t <h2 class=\"title\">CEO Realme Unggah Promo di Twitter Menggunakan iPhone</h2>\n",
       " \t\t\t\t\t\t\t\t <p>CEO Realme mentwit tentang pembaruan yang tersedia untuk Realme 3 dan Realme 3i dengan iPhone </p>\n",
       " \t\t\t\t\t\t\t\t <span class=\"col\">18 November 2019 08:47 WIB</span>\n",
       " \t\t\t\t\t\t\t </a>\n",
       " \t\t\t\t\t\t </div>\n",
       " \t\t\t\t\t </div>\n",
       " \t\t\t\t </li>, <li>\n",
       " \t\t\t\t\t <div class=\"card card-type-1\">\n",
       " \t\t\t\t\t\t <div class=\"wrapper clearfix\">\n",
       " \t\t\t\t\t\t\t <a class=\"col\" href=\"https://tekno.tempo.co/read/1273445/hati-hati-sms-juga-tidak-aman-dari-sadapan-para-hacker\">\n",
       " \t\t\t\t\t\t\t\t <img src=\"https://statik.tempo.co/data/2019/11/18/id_890092/890092_400.jpg\"/>\n",
       " \t\t\t\t\t\t\t </a>\n",
       " \t\t\t\t\t\t\t <a class=\"col\" href=\"https://tekno.tempo.co/read/1273445/hati-hati-sms-juga-tidak-aman-dari-sadapan-para-hacker\">\n",
       " \t\t\t\t\t\t\t\t <h2 class=\"title\">Hati-Hati, SMS Juga Tidak Aman dari Sadapan para Hacker</h2>\n",
       " \t\t\t\t\t\t\t\t <p>Para ahli memperingatkan layanan SMS tidak dienkripsi, dan memungkinkan hacker bersembunyi untuk mencegat informasi.  </p>\n",
       " \t\t\t\t\t\t\t\t <span class=\"col\">18 November 2019 08:06 WIB</span>\n",
       " \t\t\t\t\t\t\t </a>\n",
       " \t\t\t\t\t\t </div>\n",
       " \t\t\t\t\t </div>\n",
       " \t\t\t\t </li>, <li>\n",
       " \t\t\t\t\t <div class=\"card card-type-1\">\n",
       " \t\t\t\t\t\t <div class=\"wrapper clearfix\">\n",
       " \t\t\t\t\t\t\t <a class=\"col\" href=\"https://tekno.tempo.co/read/1273436/iphone-11-meluncur-di-indonesia-6-desember-berapa-harganya\">\n",
       " \t\t\t\t\t\t\t\t <img src=\"https://statik.tempo.co/data/2019/09/07/id_870418/870418_400.jpg\"/>\n",
       " \t\t\t\t\t\t\t </a>\n",
       " \t\t\t\t\t\t\t <a class=\"col\" href=\"https://tekno.tempo.co/read/1273436/iphone-11-meluncur-di-indonesia-6-desember-berapa-harganya\">\n",
       " \t\t\t\t\t\t\t\t <h2 class=\"title\">iPhone 11 Meluncur di Indonesia 6 Desember, Berapa Harganya?</h2>\n",
       " \t\t\t\t\t\t\t\t <p> TAM memastikan kehadiran  iPhone 11 di Indonesia pada 6 Desember 2019.</p>\n",
       " \t\t\t\t\t\t\t\t <span class=\"col\">18 November 2019 07:15 WIB</span>\n",
       " \t\t\t\t\t\t\t </a>\n",
       " \t\t\t\t\t\t </div>\n",
       " \t\t\t\t\t </div>\n",
       " \t\t\t\t </li>, <li>\n",
       " \t\t\t\t\t <div class=\"card card-type-1\">\n",
       " \t\t\t\t\t\t <div class=\"wrapper clearfix\">\n",
       " \t\t\t\t\t\t\t <a class=\"col\" href=\"https://tekno.tempo.co/read/1273435/balai-kebencanaan-geologi-letusan-merapi-berpotensi-berlanjut\">\n",
       " \t\t\t\t\t\t\t\t <img src=\"https://statik.tempo.co/data/2019/11/09/id_887752/887752_400.jpg\"/>\n",
       " \t\t\t\t\t\t\t </a>\n",
       " \t\t\t\t\t\t\t <a class=\"col\" href=\"https://tekno.tempo.co/read/1273435/balai-kebencanaan-geologi-letusan-merapi-berpotensi-berlanjut\">\n",
       " \t\t\t\t\t\t\t\t <h2 class=\"title\">Balai Kebencanaan Geologi: Letusan Merapi Berpotensi Berlanjut</h2>\n",
       " \t\t\t\t\t\t\t\t <p>BPPTKG menyatakan letusan Gunung Merapi seperti yang terjadi pada Minggu pagi, 17 November 2019, masih berpotensi terus terjadi.</p>\n",
       " \t\t\t\t\t\t\t\t <span class=\"col\">18 November 2019 07:05 WIB</span>\n",
       " \t\t\t\t\t\t\t </a>\n",
       " \t\t\t\t\t\t </div>\n",
       " \t\t\t\t\t </div>\n",
       " \t\t\t\t </li>, <li>\n",
       " \t\t\t\t\t <div class=\"card card-type-1\">\n",
       " \t\t\t\t\t\t <div class=\"wrapper clearfix\">\n",
       " \t\t\t\t\t\t\t <a class=\"col\" href=\"https://tekno.tempo.co/read/1273311/klhk-pemerintah-menang-gugatan-perdata-kasus-karhutla-rp-315-t\">\n",
       " \t\t\t\t\t\t\t\t <img src=\"https://statik.tempo.co/data/2019/10/23/id_882944/882944_400.jpg\"/>\n",
       " \t\t\t\t\t\t\t </a>\n",
       " \t\t\t\t\t\t\t <a class=\"col\" href=\"https://tekno.tempo.co/read/1273311/klhk-pemerintah-menang-gugatan-perdata-kasus-karhutla-rp-315-t\">\n",
       " \t\t\t\t\t\t\t\t <h2 class=\"title\">KLHK: Pemerintah Menang Gugatan Perdata Kasus Karhutla Rp 315 T</h2>\n",
       " \t\t\t\t\t\t\t\t <p>KLHK menyebutkan nilai ganti rugi atas gugatan perdata dalam kasus kebakaran hutan dan lahan (Karhutla) yang sudah inkrah mencapai Rp315 triliun</p>\n",
       " \t\t\t\t\t\t\t\t <span class=\"col\">18 November 2019 06:00 WIB</span>\n",
       " \t\t\t\t\t\t\t </a>\n",
       " \t\t\t\t\t\t </div>\n",
       " \t\t\t\t\t </div>\n",
       " \t\t\t\t </li>, <li>\n",
       " \t\t\t\t\t <div class=\"card card-type-1\">\n",
       " \t\t\t\t\t\t <div class=\"wrapper clearfix\">\n",
       " \t\t\t\t\t\t\t <a class=\"col\" href=\"https://tekno.tempo.co/read/1273418/gempa-sleman-dan-letusan-merapi-terkait-ini-kata-pakar-bmkg\">\n",
       " \t\t\t\t\t\t\t\t <img src=\"https://statik.tempo.co/data/2019/11/17/id_889968/889968_400.jpg\"/>\n",
       " \t\t\t\t\t\t\t </a>\n",
       " \t\t\t\t\t\t\t <a class=\"col\" href=\"https://tekno.tempo.co/read/1273418/gempa-sleman-dan-letusan-merapi-terkait-ini-kata-pakar-bmkg\">\n",
       " \t\t\t\t\t\t\t\t <h2 class=\"title\">Gempa Sleman dan Letusan Merapi Terkait? Ini Kata Pakar BMKG</h2>\n",
       " \t\t\t\t\t\t\t\t <p>Sebelum Gunung Merapi meletus terjadi Gempa Sleman yang berselang sehari. Gempa terjadi Sabtu, sementara erupsi Merapi pada Ahad pagi 17 November 2019. </p>\n",
       " \t\t\t\t\t\t\t\t <span class=\"col\">18 November 2019 05:10 WIB</span>\n",
       " \t\t\t\t\t\t\t </a>\n",
       " \t\t\t\t\t\t </div>\n",
       " \t\t\t\t\t </div>\n",
       " \t\t\t\t </li>]"
      ]
     },
     "execution_count": 4,
     "metadata": {},
     "output_type": "execute_result"
    }
   ],
   "source": [
    "contents"
   ]
  },
  {
   "cell_type": "code",
   "execution_count": null,
   "metadata": {},
   "outputs": [],
   "source": []
  },
  {
   "cell_type": "markdown",
   "metadata": {},
   "source": [
    "### Clean HTML"
   ]
  },
  {
   "cell_type": "code",
   "execution_count": 5,
   "metadata": {},
   "outputs": [
    {
     "name": "stderr",
     "output_type": "stream",
     "text": [
      "100%|██████████| 12/12 [00:00<00:00, 2736.01it/s]\n"
     ]
    }
   ],
   "source": [
    "# Save the Data Into List with Json Format\n",
    "data = []\n",
    "for content in tqdm(contents):\n",
    "    urlTempo = content.select_one('a')['href']\n",
    "    categoryTempo = url.split('/')[7]\n",
    "    titleTempo = content.select_one('.title').text\n",
    "    dateTempo = url.split('/')[6] + '-' + url.split('/')[5] + '-' + url.split('/')[4]\n",
    "    \n",
    "    json = {\n",
    "        'category': categoryTempo,\n",
    "        'title': titleTempo,\n",
    "        'description': '',\n",
    "        'url': urlTempo,\n",
    "        'content': '',\n",
    "        'img': '',\n",
    "        'subCategory': '',\n",
    "        'publishedAt': dateTempo,\n",
    "        'source': 'tempo.co',\n",
    "        'cleanContent': ''\n",
    "    }\n",
    "    \n",
    "    data.append(json)"
   ]
  },
  {
   "cell_type": "markdown",
   "metadata": {},
   "source": [
    "### Result"
   ]
  },
  {
   "cell_type": "code",
   "execution_count": 6,
   "metadata": {},
   "outputs": [
    {
     "name": "stdout",
     "output_type": "stream",
     "text": [
      "Total Artikel : 12\n",
      "================================\n",
      "\n",
      "[{'category': 'tekno',\n",
      "  'cleanContent': '',\n",
      "  'content': '',\n",
      "  'description': '',\n",
      "  'img': '',\n",
      "  'publishedAt': '18-11-2019',\n",
      "  'source': 'tempo.co',\n",
      "  'subCategory': '',\n",
      "  'title': 'Kisah Jet Tempur Canggih AS XF-103, yang Layu sebelum Terbang',\n",
      "  'url': 'https://tekno.tempo.co/read/1273550/kisah-jet-tempur-canggih-as-xf-103-yang-layu-sebelum-terbang'},\n",
      " {'category': 'tekno',\n",
      "  'cleanContent': '',\n",
      "  'content': '',\n",
      "  'description': '',\n",
      "  'img': '',\n",
      "  'publishedAt': '18-11-2019',\n",
      "  'source': 'tempo.co',\n",
      "  'subCategory': '',\n",
      "  'title': 'Belum Dirilis, Vivo S1 Pro Sudah Bisa Dipesan ',\n",
      "  'url': 'https://tekno.tempo.co/read/1273553/belum-dirilis-vivo-s1-pro-sudah-bisa-dipesan'},\n",
      " {'category': 'tekno',\n",
      "  'cleanContent': '',\n",
      "  'content': '',\n",
      "  'description': '',\n",
      "  'img': '',\n",
      "  'publishedAt': '18-11-2019',\n",
      "  'source': 'tempo.co',\n",
      "  'subCategory': '',\n",
      "  'title': 'BPBD Yogya Kenalkan Mitigasi Bencana Sejak Dini dengan Tamiya',\n",
      "  'url': 'https://tekno.tempo.co/read/1273473/bpbd-yogya-kenalkan-mitigasi-bencana-sejak-dini-dengan-tamiya'},\n",
      " {'category': 'tekno',\n",
      "  'cleanContent': '',\n",
      "  'content': '',\n",
      "  'description': '',\n",
      "  'img': '',\n",
      "  'publishedAt': '18-11-2019',\n",
      "  'source': 'tempo.co',\n",
      "  'subCategory': '',\n",
      "  'title': 'Bintang Berkecepatan 5,95 Juta Km/Jam Terlontar dari Bima Sakti',\n",
      "  'url': 'https://tekno.tempo.co/read/1273487/bintang-berkecepatan-595-juta-kmjam-terlontar-dari-bima-sakti'},\n",
      " {'category': 'tekno',\n",
      "  'cleanContent': '',\n",
      "  'content': '',\n",
      "  'description': '',\n",
      "  'img': '',\n",
      "  'publishedAt': '18-11-2019',\n",
      "  'source': 'tempo.co',\n",
      "  'subCategory': '',\n",
      "  'title': 'BMKG Bantah Isu Kekeringan Panjang dan El Nino pada 2020',\n",
      "  'url': 'https://tekno.tempo.co/read/1273484/bmkg-bantah-isu-kekeringan-panjang-dan-el-nino-pada-2020'},\n",
      " {'category': 'tekno',\n",
      "  'cleanContent': '',\n",
      "  'content': '',\n",
      "  'description': '',\n",
      "  'img': '',\n",
      "  'publishedAt': '18-11-2019',\n",
      "  'source': 'tempo.co',\n",
      "  'subCategory': '',\n",
      "  'title': 'Nadiem Makarim Masuk TIME 100 Next',\n",
      "  'url': 'https://tekno.tempo.co/read/1273480/nadiem-makarim-masuk-time-100-next'},\n",
      " {'category': 'tekno',\n",
      "  'cleanContent': '',\n",
      "  'content': '',\n",
      "  'description': '',\n",
      "  'img': '',\n",
      "  'publishedAt': '18-11-2019',\n",
      "  'source': 'tempo.co',\n",
      "  'subCategory': '',\n",
      "  'title': 'CEO Realme Unggah Promo di Twitter Menggunakan iPhone',\n",
      "  'url': 'https://tekno.tempo.co/read/1273463/ceo-realme-unggah-promo-di-twitter-menggunakan-iphone'},\n",
      " {'category': 'tekno',\n",
      "  'cleanContent': '',\n",
      "  'content': '',\n",
      "  'description': '',\n",
      "  'img': '',\n",
      "  'publishedAt': '18-11-2019',\n",
      "  'source': 'tempo.co',\n",
      "  'subCategory': '',\n",
      "  'title': 'Hati-Hati, SMS Juga Tidak Aman dari Sadapan para Hacker',\n",
      "  'url': 'https://tekno.tempo.co/read/1273445/hati-hati-sms-juga-tidak-aman-dari-sadapan-para-hacker'},\n",
      " {'category': 'tekno',\n",
      "  'cleanContent': '',\n",
      "  'content': '',\n",
      "  'description': '',\n",
      "  'img': '',\n",
      "  'publishedAt': '18-11-2019',\n",
      "  'source': 'tempo.co',\n",
      "  'subCategory': '',\n",
      "  'title': 'iPhone 11 Meluncur di Indonesia 6 Desember, Berapa Harganya?',\n",
      "  'url': 'https://tekno.tempo.co/read/1273436/iphone-11-meluncur-di-indonesia-6-desember-berapa-harganya'},\n",
      " {'category': 'tekno',\n",
      "  'cleanContent': '',\n",
      "  'content': '',\n",
      "  'description': '',\n",
      "  'img': '',\n",
      "  'publishedAt': '18-11-2019',\n",
      "  'source': 'tempo.co',\n",
      "  'subCategory': '',\n",
      "  'title': 'Balai Kebencanaan Geologi: Letusan Merapi Berpotensi Berlanjut',\n",
      "  'url': 'https://tekno.tempo.co/read/1273435/balai-kebencanaan-geologi-letusan-merapi-berpotensi-berlanjut'},\n",
      " {'category': 'tekno',\n",
      "  'cleanContent': '',\n",
      "  'content': '',\n",
      "  'description': '',\n",
      "  'img': '',\n",
      "  'publishedAt': '18-11-2019',\n",
      "  'source': 'tempo.co',\n",
      "  'subCategory': '',\n",
      "  'title': 'KLHK: Pemerintah Menang Gugatan Perdata Kasus Karhutla Rp 315 T',\n",
      "  'url': 'https://tekno.tempo.co/read/1273311/klhk-pemerintah-menang-gugatan-perdata-kasus-karhutla-rp-315-t'},\n",
      " {'category': 'tekno',\n",
      "  'cleanContent': '',\n",
      "  'content': '',\n",
      "  'description': '',\n",
      "  'img': '',\n",
      "  'publishedAt': '18-11-2019',\n",
      "  'source': 'tempo.co',\n",
      "  'subCategory': '',\n",
      "  'title': 'Gempa Sleman dan Letusan Merapi Terkait? Ini Kata Pakar BMKG',\n",
      "  'url': 'https://tekno.tempo.co/read/1273418/gempa-sleman-dan-letusan-merapi-terkait-ini-kata-pakar-bmkg'}]\n"
     ]
    }
   ],
   "source": [
    "print('Total Artikel : {}'.format(len(data)))\n",
    "print('================================\\n')\n",
    "pprint(data)"
   ]
  },
  {
   "cell_type": "code",
   "execution_count": null,
   "metadata": {},
   "outputs": [],
   "source": []
  },
  {
   "cell_type": "markdown",
   "metadata": {},
   "source": [
    "## Get Content Articles"
   ]
  },
  {
   "cell_type": "code",
   "execution_count": 7,
   "metadata": {},
   "outputs": [],
   "source": [
    "urlContent = data[0]['url']\n",
    "responseContent = requests.get(urlContent).text\n",
    "soupContent = BeautifulSoup(responseContent, \"html5lib\")"
   ]
  },
  {
   "cell_type": "code",
   "execution_count": 8,
   "metadata": {},
   "outputs": [],
   "source": [
    "# Get Sub Category and Image\n",
    "subCategory = soupContent.select('.breadcrumbs > li ')[1].text\n",
    "image = soupContent.select_one('figure > a')['href']"
   ]
  },
  {
   "cell_type": "code",
   "execution_count": 9,
   "metadata": {},
   "outputs": [],
   "source": [
    "articles = soupContent.select('#isi > p')"
   ]
  },
  {
   "cell_type": "markdown",
   "metadata": {},
   "source": [
    "### Content of Articles"
   ]
  },
  {
   "cell_type": "code",
   "execution_count": 10,
   "metadata": {
    "scrolled": true
   },
   "outputs": [
    {
     "name": "stdout",
     "output_type": "stream",
     "text": [
      "TEMPO.CO, Jakarta - Amerika Serikat pernah nyaris memiliki jet tempur canggih XF-103 yang desainnya mirip dengan roket dan rudal penjelajah. Pesawat itu didesain untuk mencegat pesawat supersonik dan menghancurkan pembom nuklir milik Rusia.\n",
      "\n",
      "Sebelumnya, AS memiliki pesawat tempur yang ada seperti F-86 Sabre, tapi dianggap terlalu lambat untuk memenuhi ancaman itu. Sehingga pada 1949, Angkatan Udara AS mengajukan permintaan untuk pesawat terbaru, demikian dilaporkan laman National Interest, beberapa waktu lalu.\n",
      "\n",
      "Menunjuk proyek Interceptor 1954 untuk menandai masuknya layanan, Angkatan Udara menerima sembilan proposal, di mana tiga dipilih untuk pengembangan pendahuluan. Convair dengan desain yang kemudian menjadi F-102 Delta Dagger, Lockheed dengan pesawat yang kemudian menjadi F-104 Starfighter, dan Republic Aircraft dengan AP-57, kemudian berganti nama menjadi XF-103.\n",
      "\n",
      "Dari tiga desain, XF-103 adalah yang paling canggih dan diusulkan sebagai pesawat yang bisa terbang 2.600 mil per jam, lebih cepat dari tiga kali kecepatan suara, ke ketinggian 80.000 kaki. Pada awal 1950-an, ketika subsonik F-86 dan MiG-15 terbang di Korea dengan kecepatan beberapa ratus mil per jam, XF-103 tampak lebih mirip roket daripada pesawat terbang.\n",
      "\n",
      "Bahkan gambar menunjukkan apa yang tampak seperti rudal jelajah. Untuk mencapai kecepatan setinggi itu, pesawat memiliki sistem propulsi ganda. Mesin turbojet Wright XJ-67 akan memberdayakan XF-103 saat lepas landas dan penerbangan normal.\n",
      "\n",
      "Namun untuk kecepatan ekstra dan menangkap kawanan pembom Rusia seperti Badger, Bear, dan Bison, XF-103 dilengkapi dengan mesin ramjet. Ramjet pada dasarnya menyedot udara dari bagian depan pesawat, mencampurnya dengan bahan bakar, dan kemudian menembakkan campuran.\n",
      "\n",
      "Ini adalah sistem sederhana, dengan kelemahan bahwa pesawat terbang atau roket harus sudah bergerak lebih cepat daripada Mach 1 agar udara dikompresi cukup untuk ramjet menelannya. Turbojet XF-103 akan mendorong pesawat ke kecepatan yang cukup untuk ramjet menendang.\n",
      "\n",
      "XF-103 harusnya dipersenjatai radar jarak jauh, enam GAR-3 Falcon infrared atau rudal udara-ke-udara yang dipandu radar, ditambah tiga puluh enam roket udara-ke-udara 2,75 inci yang diarahkan ke udara. XF-103 harus dilengkapi dengan sistem ejeksi yang unik.\n",
      "\n",
      "Jika kokpit kehilangan tekanan, perisai yang disimpan di bawah kursi akan naik, menutup pilot di pod bertekanan. Pilot bisa menerbangkan pesawat kembali menggunakan kontrol penerbangan dasar dan periskop, atau jika harus meninggalkan pesawat, pod akan diturunkan pada rel keluar dari bagian bawah badan pesawat dan kemudian dilepaskan.\n",
      "\n",
      "Namun, XF-103 tidak pernah benar-benar berkembang melampaui mock-up. \"Sudah jelas bahwa XF-103 terlalu berisiko untuk menjadi pesaing serius bagi proyek Interceptor 1954,\" kata penulis penerbangan Joe Baugher. Dan membuat Convair F-102 yang bersaing untuk semua tujuan praktis sebagai pemenang kontes, dan Angkatan Udara mulai kehilangan minat pada XF-103.\n",
      "\n",
      "Penundaan yang terus menerus dan pembengkakan biaya menyebabkan program ini kemudian dikurangi menjadi hanya satu prototipe. Mesin Wright XJ67 mengalami lebih banyak penundaan dan akhirnya tidak pernah terwujud. Angkatan Udara akhirnya menyerah pada 21 Agustus 1957, membatalkan seluruh proyek pesawat tempur XF-103.\n",
      "\n",
      "NATIONAL INTEREST\n",
      "\n",
      "\n",
      "\n"
     ]
    }
   ],
   "source": [
    "tempArticle = []\n",
    "for article in articles: \n",
    "    print(article.text.strip() + '\\n')\n",
    "    tempArticle.append(article.text.strip() + '\\n\\n')\n",
    "\n",
    "content = ''.join(tempArticle)"
   ]
  },
  {
   "cell_type": "code",
   "execution_count": null,
   "metadata": {},
   "outputs": [],
   "source": []
  },
  {
   "cell_type": "markdown",
   "metadata": {},
   "source": [
    "### Insert Article Into Data"
   ]
  },
  {
   "cell_type": "code",
   "execution_count": 11,
   "metadata": {},
   "outputs": [],
   "source": [
    "temp = []\n",
    "temp = data[0]"
   ]
  },
  {
   "cell_type": "code",
   "execution_count": 12,
   "metadata": {},
   "outputs": [],
   "source": [
    "temp['img'] = image\n",
    "temp['subCategory'] = subCategory\n",
    "temp['content'] = content"
   ]
  },
  {
   "cell_type": "markdown",
   "metadata": {},
   "source": [
    "### Result"
   ]
  },
  {
   "cell_type": "code",
   "execution_count": 13,
   "metadata": {
    "scrolled": true
   },
   "outputs": [
    {
     "name": "stdout",
     "output_type": "stream",
     "text": [
      "{'category': 'tekno',\n",
      " 'cleanContent': '',\n",
      " 'content': 'TEMPO.CO, Jakarta - Amerika Serikat pernah nyaris memiliki jet '\n",
      "            'tempur canggih XF-103 yang desainnya mirip dengan roket dan rudal '\n",
      "            'penjelajah. Pesawat itu didesain untuk mencegat pesawat '\n",
      "            'supersonik dan menghancurkan pembom nuklir milik Rusia.\\n'\n",
      "            '\\n'\n",
      "            'Sebelumnya, AS memiliki pesawat tempur yang ada seperti F-86 '\n",
      "            'Sabre, tapi dianggap terlalu lambat untuk memenuhi ancaman itu. '\n",
      "            'Sehingga pada 1949, Angkatan Udara AS mengajukan permintaan untuk '\n",
      "            'pesawat terbaru, demikian dilaporkan laman\\xa0National Interest, '\n",
      "            'beberapa waktu lalu.\\n'\n",
      "            '\\n'\n",
      "            'Menunjuk proyek Interceptor 1954 untuk menandai masuknya layanan, '\n",
      "            'Angkatan Udara menerima sembilan proposal, di mana tiga dipilih '\n",
      "            'untuk pengembangan pendahuluan. Convair dengan desain yang '\n",
      "            'kemudian menjadi F-102 Delta Dagger, Lockheed dengan pesawat yang '\n",
      "            'kemudian menjadi F-104 Starfighter, dan Republic Aircraft dengan '\n",
      "            'AP-57, kemudian berganti nama menjadi XF-103.\\n'\n",
      "            '\\n'\n",
      "            'Dari tiga desain, XF-103 adalah yang paling canggih dan diusulkan '\n",
      "            'sebagai pesawat yang bisa terbang 2.600 mil per jam, lebih cepat '\n",
      "            'dari tiga kali kecepatan suara, ke ketinggian 80.000 kaki. Pada '\n",
      "            'awal 1950-an, ketika subsonik F-86 dan MiG-15 terbang di Korea '\n",
      "            'dengan kecepatan beberapa ratus mil per jam, XF-103 tampak lebih '\n",
      "            'mirip roket daripada pesawat terbang.\\n'\n",
      "            '\\n'\n",
      "            'Bahkan gambar\\xa0menunjukkan apa yang tampak seperti rudal '\n",
      "            'jelajah. Untuk mencapai kecepatan setinggi itu, pesawat memiliki '\n",
      "            'sistem propulsi ganda. Mesin turbojet Wright XJ-67 akan '\n",
      "            'memberdayakan XF-103 saat lepas landas dan penerbangan normal.\\n'\n",
      "            '\\n'\n",
      "            'Namun untuk kecepatan ekstra dan menangkap kawanan pembom Rusia '\n",
      "            'seperti\\xa0Badger, Bear, dan Bison, XF-103 dilengkapi dengan '\n",
      "            'mesin ramjet. Ramjet\\xa0pada dasarnya menyedot udara dari bagian '\n",
      "            'depan pesawat, mencampurnya dengan bahan bakar, dan kemudian '\n",
      "            'menembakkan campuran.\\n'\n",
      "            '\\n'\n",
      "            'Ini adalah sistem sederhana, dengan kelemahan bahwa pesawat '\n",
      "            'terbang atau roket harus sudah bergerak lebih cepat daripada Mach '\n",
      "            '1 agar udara dikompresi cukup untuk ramjet menelannya. Turbojet '\n",
      "            'XF-103 akan mendorong pesawat ke kecepatan yang cukup untuk '\n",
      "            'ramjet menendang.\\n'\n",
      "            '\\n'\n",
      "            'XF-103 harusnya dipersenjatai radar jarak jauh, enam GAR-3 Falcon '\n",
      "            'infrared atau rudal udara-ke-udara yang dipandu radar, ditambah '\n",
      "            'tiga puluh enam roket udara-ke-udara 2,75 inci yang diarahkan ke '\n",
      "            'udara. XF-103 harus dilengkapi dengan sistem ejeksi yang unik.\\n'\n",
      "            '\\n'\n",
      "            'Jika kokpit kehilangan tekanan, perisai yang disimpan di bawah '\n",
      "            'kursi akan naik, menutup pilot di pod bertekanan. Pilot bisa '\n",
      "            'menerbangkan pesawat kembali menggunakan kontrol penerbangan '\n",
      "            'dasar dan periskop, atau jika harus meninggalkan pesawat, pod '\n",
      "            'akan diturunkan pada rel keluar dari bagian bawah badan pesawat '\n",
      "            'dan kemudian dilepaskan.\\n'\n",
      "            '\\n'\n",
      "            'Namun, XF-103 tidak pernah benar-benar berkembang melampaui '\n",
      "            'mock-up. \"Sudah jelas bahwa XF-103 terlalu berisiko untuk menjadi '\n",
      "            'pesaing serius bagi proyek Interceptor 1954,\"\\xa0kata penulis '\n",
      "            'penerbangan Joe Baugher. Dan membuat Convair F-102 yang bersaing '\n",
      "            'untuk semua tujuan praktis sebagai pemenang kontes, dan Angkatan '\n",
      "            'Udara mulai kehilangan minat pada XF-103.\\n'\n",
      "            '\\n'\n",
      "            'Penundaan yang terus menerus dan pembengkakan biaya menyebabkan '\n",
      "            'program ini kemudian dikurangi menjadi hanya satu prototipe. '\n",
      "            'Mesin Wright XJ67 mengalami lebih banyak penundaan dan akhirnya '\n",
      "            'tidak pernah terwujud. Angkatan Udara akhirnya menyerah pada 21 '\n",
      "            'Agustus 1957, membatalkan seluruh proyek pesawat tempur XF-103.\\n'\n",
      "            '\\n'\n",
      "            'NATIONAL INTEREST\\n'\n",
      "            '\\n'\n",
      "            '\\n'\n",
      "            '\\n',\n",
      " 'description': '',\n",
      " 'img': 'https://statik.tempo.co/data/2019/11/18/id_890232/890232_720.jpg',\n",
      " 'publishedAt': '18-11-2019',\n",
      " 'source': 'tempo.co',\n",
      " 'subCategory': 'tekno',\n",
      " 'title': 'Kisah Jet Tempur Canggih AS XF-103, yang Layu sebelum Terbang',\n",
      " 'url': 'https://tekno.tempo.co/read/1273550/kisah-jet-tempur-canggih-as-xf-103-yang-layu-sebelum-terbang'}\n"
     ]
    }
   ],
   "source": [
    "pprint(temp)"
   ]
  },
  {
   "cell_type": "code",
   "execution_count": null,
   "metadata": {},
   "outputs": [],
   "source": []
  },
  {
   "cell_type": "markdown",
   "metadata": {},
   "source": [
    "# Preprocessing"
   ]
  },
  {
   "cell_type": "code",
   "execution_count": 14,
   "metadata": {},
   "outputs": [],
   "source": [
    "import spacy\n",
    "from spacy import displacy"
   ]
  },
  {
   "cell_type": "code",
   "execution_count": 15,
   "metadata": {},
   "outputs": [],
   "source": [
    "nlp = id_aldo.load()"
   ]
  },
  {
   "cell_type": "code",
   "execution_count": 16,
   "metadata": {},
   "outputs": [],
   "source": [
    "def formatArticle(text=None):\n",
    "    doc = nlp(text)\n",
    "    count = 0\n",
    "    for ent in doc.ents:\n",
    "        if ent.end <= 5:\n",
    "            count = ent.end_char + 1\n",
    "        else:\n",
    "            count = len(text)\n",
    "\n",
    "    result = text[count:].strip()\n",
    "\n",
    "    return result"
   ]
  },
  {
   "cell_type": "code",
   "execution_count": null,
   "metadata": {},
   "outputs": [],
   "source": []
  },
  {
   "cell_type": "markdown",
   "metadata": {},
   "source": [
    "### Delete Format Publisher"
   ]
  },
  {
   "cell_type": "code",
   "execution_count": 17,
   "metadata": {},
   "outputs": [],
   "source": [
    "doc = nlp(temp['content'])"
   ]
  },
  {
   "cell_type": "code",
   "execution_count": 18,
   "metadata": {
    "scrolled": true
   },
   "outputs": [
    {
     "data": {
      "text/html": [
       "<div class=\"entities\" style=\"line-height: 2.5\">\n",
       "<mark class=\"entity\" style=\"background: #ddd; padding: 0.45em 0.6em; margin: 0 0.25em; line-height: 1; border-radius: 0.35em; box-decoration-break: clone; -webkit-box-decoration-break: clone\">\n",
       "    TEMPO.CO\n",
       "    <span style=\"font-size: 0.8em; font-weight: bold; line-height: 1; border-radius: 0.35em; text-transform: uppercase; vertical-align: middle; margin-left: 0.5rem\">PUBLISHER</span>\n",
       "</mark>\n",
       "\n",
       "<mark class=\"entity\" style=\"background: #ddd; padding: 0.45em 0.6em; margin: 0 0.25em; line-height: 1; border-radius: 0.35em; box-decoration-break: clone; -webkit-box-decoration-break: clone\">\n",
       "    ,\n",
       "    <span style=\"font-size: 0.8em; font-weight: bold; line-height: 1; border-radius: 0.35em; text-transform: uppercase; vertical-align: middle; margin-left: 0.5rem\">PUNCT</span>\n",
       "</mark>\n",
       " \n",
       "<mark class=\"entity\" style=\"background: #ddd; padding: 0.45em 0.6em; margin: 0 0.25em; line-height: 1; border-radius: 0.35em; box-decoration-break: clone; -webkit-box-decoration-break: clone\">\n",
       "    Jakarta\n",
       "    <span style=\"font-size: 0.8em; font-weight: bold; line-height: 1; border-radius: 0.35em; text-transform: uppercase; vertical-align: middle; margin-left: 0.5rem\">LOCATION</span>\n",
       "</mark>\n",
       " \n",
       "<mark class=\"entity\" style=\"background: #ddd; padding: 0.45em 0.6em; margin: 0 0.25em; line-height: 1; border-radius: 0.35em; box-decoration-break: clone; -webkit-box-decoration-break: clone\">\n",
       "    -\n",
       "    <span style=\"font-size: 0.8em; font-weight: bold; line-height: 1; border-radius: 0.35em; text-transform: uppercase; vertical-align: middle; margin-left: 0.5rem\">PUNCT</span>\n",
       "</mark>\n",
       " Amerika Serikat pernah nyaris memiliki jet tempur canggih XF-103 yang desainnya mirip dengan roket dan rudal penjelajah. Pesawat itu didesain untuk mencegat pesawat supersonik dan menghancurkan pembom nuklir milik Rusia.\n",
       "\n",
       "Sebelumnya, AS memiliki pesawat tempur yang ada seperti F-86 Sabre, tapi dianggap terlalu lambat untuk memenuhi ancaman itu. Sehingga pada 1949, Angkatan Udara AS mengajukan permintaan untuk pesawat terbaru, demikian dilaporkan laman National Interest, beberapa waktu lalu.\n",
       "\n",
       "Menunjuk proyek Interceptor 1954 untuk menandai masuknya layanan, Angkatan Udara menerima sembilan proposal, di mana tiga dipilih untuk pengembangan pendahuluan. Convair dengan desain yang kemudian menjadi F-102 Delta Dagger, Lockheed dengan pesawat yang kemudian menjadi F-104 Starfighter, dan Republic Aircraft dengan AP-57, kemudian berganti nama menjadi XF-103.\n",
       "\n",
       "Dari tiga desain, XF-103 adalah yang paling canggih dan diusulkan sebagai pesawat yang bisa terbang 2.600 mil per jam, lebih cepat dari tiga kali kecepatan suara, ke ketinggian 80.000 kaki. Pada awal 1950-an, ketika subsonik F-86 dan MiG-15 terbang di Korea dengan kecepatan beberapa ratus mil per jam, XF-103 tampak lebih mirip roket daripada pesawat terbang.\n",
       "\n",
       "Bahkan gambar menunjukkan apa yang tampak seperti rudal jelajah. Untuk mencapai kecepatan setinggi itu, pesawat memiliki sistem propulsi ganda. Mesin turbojet Wright XJ-67 akan memberdayakan XF-103 saat lepas landas dan penerbangan normal.\n",
       "\n",
       "Namun untuk kecepatan ekstra dan menangkap kawanan pembom Rusia seperti Badger, Bear, dan Bison, XF-103 dilengkapi dengan mesin ramjet. Ramjet pada dasarnya menyedot udara dari bagian depan pesawat, mencampurnya dengan bahan bakar, dan kemudian menembakkan campuran.\n",
       "\n",
       "Ini adalah sistem sederhana, dengan kelemahan bahwa pesawat terbang atau roket harus sudah bergerak lebih cepat daripada Mach 1 agar udara dikompresi cukup untuk ramjet menelannya. Turbojet XF-103 akan mendorong pesawat ke kecepatan yang cukup untuk ramjet menendang.\n",
       "\n",
       "XF-103 harusnya dipersenjatai radar jarak jauh, enam GAR-3 Falcon infrared atau rudal udara-ke-udara yang dipandu radar, ditambah tiga puluh enam roket udara-ke-udara 2,75 inci yang diarahkan ke udara. XF-103 harus dilengkapi dengan sistem ejeksi yang unik.\n",
       "\n",
       "Jika kokpit kehilangan tekanan, perisai yang disimpan di bawah kursi akan naik, menutup pilot di pod bertekanan. Pilot bisa menerbangkan pesawat kembali menggunakan kontrol penerbangan dasar dan periskop, atau jika harus meninggalkan pesawat, pod akan diturunkan pada rel keluar dari bagian bawah badan pesawat dan kemudian dilepaskan.\n",
       "\n",
       "Namun, XF-103 tidak pernah benar-benar berkembang melampaui mock-up. \"Sudah jelas bahwa XF-103 terlalu berisiko untuk menjadi pesaing serius bagi proyek Interceptor 1954,\" kata penulis penerbangan Joe Baugher. Dan membuat Convair F-102 yang bersaing untuk semua tujuan praktis sebagai pemenang kontes, dan Angkatan Udara mulai kehilangan minat pada XF-103.\n",
       "\n",
       "Penundaan yang terus menerus dan pembengkakan biaya menyebabkan program ini kemudian dikurangi menjadi hanya satu prototipe. Mesin Wright XJ67 mengalami lebih banyak penundaan dan akhirnya tidak pernah terwujud. Angkatan Udara akhirnya menyerah pada 21 Agustus 1957, membatalkan seluruh proyek pesawat tempur XF-103.\n",
       "\n",
       "NATIONAL INTEREST\n",
       "\n",
       "\n",
       "\n",
       "</div>"
      ],
      "text/plain": [
       "<IPython.core.display.HTML object>"
      ]
     },
     "metadata": {},
     "output_type": "display_data"
    }
   ],
   "source": [
    "displacy.render(doc, jupyter=True, style='ent')"
   ]
  },
  {
   "cell_type": "code",
   "execution_count": null,
   "metadata": {},
   "outputs": [],
   "source": []
  },
  {
   "cell_type": "markdown",
   "metadata": {},
   "source": [
    "### Result"
   ]
  },
  {
   "cell_type": "code",
   "execution_count": 19,
   "metadata": {
    "scrolled": true
   },
   "outputs": [
    {
     "name": "stdout",
     "output_type": "stream",
     "text": [
      "Amerika Serikat pernah nyaris memiliki jet tempur canggih XF-103 yang desainnya mirip dengan roket dan rudal penjelajah. Pesawat itu didesain untuk mencegat pesawat supersonik dan menghancurkan pembom nuklir milik Rusia.\n",
      "\n",
      "Sebelumnya, AS memiliki pesawat tempur yang ada seperti F-86 Sabre, tapi dianggap terlalu lambat untuk memenuhi ancaman itu. Sehingga pada 1949, Angkatan Udara AS mengajukan permintaan untuk pesawat terbaru, demikian dilaporkan laman National Interest, beberapa waktu lalu.\n",
      "\n",
      "Menunjuk proyek Interceptor 1954 untuk menandai masuknya layanan, Angkatan Udara menerima sembilan proposal, di mana tiga dipilih untuk pengembangan pendahuluan. Convair dengan desain yang kemudian menjadi F-102 Delta Dagger, Lockheed dengan pesawat yang kemudian menjadi F-104 Starfighter, dan Republic Aircraft dengan AP-57, kemudian berganti nama menjadi XF-103.\n",
      "\n",
      "Dari tiga desain, XF-103 adalah yang paling canggih dan diusulkan sebagai pesawat yang bisa terbang 2.600 mil per jam, lebih cepat dari tiga kali kecepatan suara, ke ketinggian 80.000 kaki. Pada awal 1950-an, ketika subsonik F-86 dan MiG-15 terbang di Korea dengan kecepatan beberapa ratus mil per jam, XF-103 tampak lebih mirip roket daripada pesawat terbang.\n",
      "\n",
      "Bahkan gambar menunjukkan apa yang tampak seperti rudal jelajah. Untuk mencapai kecepatan setinggi itu, pesawat memiliki sistem propulsi ganda. Mesin turbojet Wright XJ-67 akan memberdayakan XF-103 saat lepas landas dan penerbangan normal.\n",
      "\n",
      "Namun untuk kecepatan ekstra dan menangkap kawanan pembom Rusia seperti Badger, Bear, dan Bison, XF-103 dilengkapi dengan mesin ramjet. Ramjet pada dasarnya menyedot udara dari bagian depan pesawat, mencampurnya dengan bahan bakar, dan kemudian menembakkan campuran.\n",
      "\n",
      "Ini adalah sistem sederhana, dengan kelemahan bahwa pesawat terbang atau roket harus sudah bergerak lebih cepat daripada Mach 1 agar udara dikompresi cukup untuk ramjet menelannya. Turbojet XF-103 akan mendorong pesawat ke kecepatan yang cukup untuk ramjet menendang.\n",
      "\n",
      "XF-103 harusnya dipersenjatai radar jarak jauh, enam GAR-3 Falcon infrared atau rudal udara-ke-udara yang dipandu radar, ditambah tiga puluh enam roket udara-ke-udara 2,75 inci yang diarahkan ke udara. XF-103 harus dilengkapi dengan sistem ejeksi yang unik.\n",
      "\n",
      "Jika kokpit kehilangan tekanan, perisai yang disimpan di bawah kursi akan naik, menutup pilot di pod bertekanan. Pilot bisa menerbangkan pesawat kembali menggunakan kontrol penerbangan dasar dan periskop, atau jika harus meninggalkan pesawat, pod akan diturunkan pada rel keluar dari bagian bawah badan pesawat dan kemudian dilepaskan.\n",
      "\n",
      "Namun, XF-103 tidak pernah benar-benar berkembang melampaui mock-up. \"Sudah jelas bahwa XF-103 terlalu berisiko untuk menjadi pesaing serius bagi proyek Interceptor 1954,\" kata penulis penerbangan Joe Baugher. Dan membuat Convair F-102 yang bersaing untuk semua tujuan praktis sebagai pemenang kontes, dan Angkatan Udara mulai kehilangan minat pada XF-103.\n",
      "\n",
      "Penundaan yang terus menerus dan pembengkakan biaya menyebabkan program ini kemudian dikurangi menjadi hanya satu prototipe. Mesin Wright XJ67 mengalami lebih banyak penundaan dan akhirnya tidak pernah terwujud. Angkatan Udara akhirnya menyerah pada 21 Agustus 1957, membatalkan seluruh proyek pesawat tempur XF-103.\n",
      "\n",
      "NATIONAL INTEREST\n"
     ]
    }
   ],
   "source": [
    "result = formatArticle(temp['content'])\n",
    "print(result)"
   ]
  },
  {
   "cell_type": "code",
   "execution_count": null,
   "metadata": {},
   "outputs": [],
   "source": []
  },
  {
   "cell_type": "markdown",
   "metadata": {},
   "source": [
    "## Preprocessing\n",
    "### Case Folding "
   ]
  },
  {
   "cell_type": "code",
   "execution_count": 20,
   "metadata": {
    "scrolled": true
   },
   "outputs": [
    {
     "name": "stdout",
     "output_type": "stream",
     "text": [
      "amerika serikat pernah nyaris memiliki jet tempur canggih xf yang desainnya mirip dengan roket dan rudal penjelajah pesawat itu didesain untuk mencegat pesawat supersonik dan menghancurkan pembom nuklir milik rusia sebelumnya as memiliki pesawat tempur yang ada seperti f sabre tapi dianggap terlalu lambat untuk memenuhi ancaman itu sehingga pada angkatan udara as mengajukan permintaan untuk pesawat terbaru demikian dilaporkan laman national interest beberapa waktu lalu menunjuk proyek interceptor untuk menandai masuknya layanan angkatan udara menerima sembilan proposal di mana tiga dipilih untuk pengembangan pendahuluan convair dengan desain yang kemudian menjadi f delta dagger lockheed dengan pesawat yang kemudian menjadi f starfighter dan republic aircraft dengan ap kemudian berganti nama menjadi xf dari tiga desain xf adalah yang paling canggih dan diusulkan sebagai pesawat yang bisa terbang mil per jam lebih cepat dari tiga kali kecepatan suara ke ketinggian kaki pada awal an ketika subsonik f dan mig terbang di korea dengan kecepatan beberapa ratus mil per jam xf tampak lebih mirip roket daripada pesawat terbang bahkan gambar menunjukkan apa yang tampak seperti rudal jelajah untuk mencapai kecepatan setinggi itu pesawat memiliki sistem propulsi ganda mesin turbojet wright xj akan memberdayakan xf saat lepas landas dan penerbangan normal namun untuk kecepatan ekstra dan menangkap kawanan pembom rusia seperti badger bear dan bison xf dilengkapi dengan mesin ramjet ramjet pada dasarnya menyedot udara dari bagian depan pesawat mencampurnya dengan bahan bakar dan kemudian menembakkan campuran ini adalah sistem sederhana dengan kelemahan bahwa pesawat terbang atau roket harus sudah bergerak lebih cepat daripada mach agar udara dikompresi cukup untuk ramjet menelannya turbojet xf akan mendorong pesawat ke kecepatan yang cukup untuk ramjet menendang xf harusnya dipersenjatai radar jarak jauh enam gar falcon infrared atau rudal udara ke udara yang dipandu radar ditambah tiga puluh enam roket udara ke udara inci yang diarahkan ke udara xf harus dilengkapi dengan sistem ejeksi yang unik jika kokpit kehilangan tekanan perisai yang disimpan di bawah kursi akan naik menutup pilot di pod bertekanan pilot bisa menerbangkan pesawat kembali menggunakan kontrol penerbangan dasar dan periskop atau jika harus meninggalkan pesawat pod akan diturunkan pada rel keluar dari bagian bawah badan pesawat dan kemudian dilepaskan namun xf tidak pernah benar benar berkembang melampaui mock up sudah jelas bahwa xf terlalu berisiko untuk menjadi pesaing serius bagi proyek interceptor kata penulis penerbangan joe baugher dan membuat convair f yang bersaing untuk semua tujuan praktis sebagai pemenang kontes dan angkatan udara mulai kehilangan minat pada xf penundaan yang terus menerus dan pembengkakan biaya menyebabkan program ini kemudian dikurangi menjadi hanya satu prototipe mesin wright xj67 mengalami lebih banyak penundaan dan akhirnya tidak pernah terwujud angkatan udara akhirnya menyerah pada agustus membatalkan seluruh proyek pesawat tempur xf national interest\n"
     ]
    }
   ],
   "source": [
    "cf = []\n",
    "formatCF = ['number', 'email', 'usd', 'url']\n",
    "lowerCase = preprocess_text(result,\n",
    "                            fix_unicode=True, \n",
    "                            lowercase=True, \n",
    "                            no_urls=True,\n",
    "                            no_emails=True,\n",
    "                            no_phone_numbers=True,\n",
    "                            no_numbers=True,\n",
    "                            no_currency_symbols=True,\n",
    "                            no_punct=True)\n",
    "caseFolding = lowerCase.split()\n",
    "[cf.append(case) for case in caseFolding if case not in formatCF]\n",
    "caseFolding = ' '.join(cf)\n",
    "\n",
    "print(caseFolding)"
   ]
  },
  {
   "cell_type": "code",
   "execution_count": null,
   "metadata": {},
   "outputs": [],
   "source": []
  },
  {
   "cell_type": "markdown",
   "metadata": {},
   "source": [
    "## Preprocessing\n",
    "### Tokenization "
   ]
  },
  {
   "cell_type": "code",
   "execution_count": 22,
   "metadata": {},
   "outputs": [],
   "source": [
    "import nltk"
   ]
  },
  {
   "cell_type": "code",
   "execution_count": 25,
   "metadata": {
    "scrolled": true
   },
   "outputs": [
    {
     "name": "stdout",
     "output_type": "stream",
     "text": [
      "['amerika', 'serikat', 'pernah', 'nyaris', 'memiliki', 'jet', 'tempur', 'canggih', 'xf', 'yang', 'desainnya', 'mirip', 'dengan', 'roket', 'dan', 'rudal', 'penjelajah', 'pesawat', 'itu', 'didesain', 'untuk', 'mencegat', 'pesawat', 'supersonik', 'dan', 'menghancurkan', 'pembom', 'nuklir', 'milik', 'rusia', 'sebelumnya', 'as', 'memiliki', 'pesawat', 'tempur', 'yang', 'ada', 'seperti', 'f', 'sabre', 'tapi', 'dianggap', 'terlalu', 'lambat', 'untuk', 'memenuhi', 'ancaman', 'itu', 'sehingga', 'pada', 'angkatan', 'udara', 'as', 'mengajukan', 'permintaan', 'untuk', 'pesawat', 'terbaru', 'demikian', 'dilaporkan', 'laman', 'national', 'interest', 'beberapa', 'waktu', 'lalu', 'menunjuk', 'proyek', 'interceptor', 'untuk', 'menandai', 'masuknya', 'layanan', 'angkatan', 'udara', 'menerima', 'sembilan', 'proposal', 'di', 'mana', 'tiga', 'dipilih', 'untuk', 'pengembangan', 'pendahuluan', 'convair', 'dengan', 'desain', 'yang', 'kemudian', 'menjadi', 'f', 'delta', 'dagger', 'lockheed', 'dengan', 'pesawat', 'yang', 'kemudian', 'menjadi', 'f', 'starfighter', 'dan', 'republic', 'aircraft', 'dengan', 'ap', 'kemudian', 'berganti', 'nama', 'menjadi', 'xf', 'dari', 'tiga', 'desain', 'xf', 'adalah', 'yang', 'paling', 'canggih', 'dan', 'diusulkan', 'sebagai', 'pesawat', 'yang', 'bisa', 'terbang', 'mil', 'per', 'jam', 'lebih', 'cepat', 'dari', 'tiga', 'kali', 'kecepatan', 'suara', 'ke', 'ketinggian', 'kaki', 'pada', 'awal', 'an', 'ketika', 'subsonik', 'f', 'dan', 'mig', 'terbang', 'di', 'korea', 'dengan', 'kecepatan', 'beberapa', 'ratus', 'mil', 'per', 'jam', 'xf', 'tampak', 'lebih', 'mirip', 'roket', 'daripada', 'pesawat', 'terbang', 'bahkan', 'gambar', 'menunjukkan', 'apa', 'yang', 'tampak', 'seperti', 'rudal', 'jelajah', 'untuk', 'mencapai', 'kecepatan', 'setinggi', 'itu', 'pesawat', 'memiliki', 'sistem', 'propulsi', 'ganda', 'mesin', 'turbojet', 'wright', 'xj', 'akan', 'memberdayakan', 'xf', 'saat', 'lepas', 'landas', 'dan', 'penerbangan', 'normal', 'namun', 'untuk', 'kecepatan', 'ekstra', 'dan', 'menangkap', 'kawanan', 'pembom', 'rusia', 'seperti', 'badger', 'bear', 'dan', 'bison', 'xf', 'dilengkapi', 'dengan', 'mesin', 'ramjet', 'ramjet', 'pada', 'dasarnya', 'menyedot', 'udara', 'dari', 'bagian', 'depan', 'pesawat', 'mencampurnya', 'dengan', 'bahan', 'bakar', 'dan', 'kemudian', 'menembakkan', 'campuran', 'ini', 'adalah', 'sistem', 'sederhana', 'dengan', 'kelemahan', 'bahwa', 'pesawat', 'terbang', 'atau', 'roket', 'harus', 'sudah', 'bergerak', 'lebih', 'cepat', 'daripada', 'mach', 'agar', 'udara', 'dikompresi', 'cukup', 'untuk', 'ramjet', 'menelannya', 'turbojet', 'xf', 'akan', 'mendorong', 'pesawat', 'ke', 'kecepatan', 'yang', 'cukup', 'untuk', 'ramjet', 'menendang', 'xf', 'harusnya', 'dipersenjatai', 'radar', 'jarak', 'jauh', 'enam', 'gar', 'falcon', 'infrared', 'atau', 'rudal', 'udara', 'ke', 'udara', 'yang', 'dipandu', 'radar', 'ditambah', 'tiga', 'puluh', 'enam', 'roket', 'udara', 'ke', 'udara', 'inci', 'yang', 'diarahkan', 'ke', 'udara', 'xf', 'harus', 'dilengkapi', 'dengan', 'sistem', 'ejeksi', 'yang', 'unik', 'jika', 'kokpit', 'kehilangan', 'tekanan', 'perisai', 'yang', 'disimpan', 'di', 'bawah', 'kursi', 'akan', 'naik', 'menutup', 'pilot', 'di', 'pod', 'bertekanan', 'pilot', 'bisa', 'menerbangkan', 'pesawat', 'kembali', 'menggunakan', 'kontrol', 'penerbangan', 'dasar', 'dan', 'periskop', 'atau', 'jika', 'harus', 'meninggalkan', 'pesawat', 'pod', 'akan', 'diturunkan', 'pada', 'rel', 'keluar', 'dari', 'bagian', 'bawah', 'badan', 'pesawat', 'dan', 'kemudian', 'dilepaskan', 'namun', 'xf', 'tidak', 'pernah', 'benar', 'benar', 'berkembang', 'melampaui', 'mock', 'up', 'sudah', 'jelas', 'bahwa', 'xf', 'terlalu', 'berisiko', 'untuk', 'menjadi', 'pesaing', 'serius', 'bagi', 'proyek', 'interceptor', 'kata', 'penulis', 'penerbangan', 'joe', 'baugher', 'dan', 'membuat', 'convair', 'f', 'yang', 'bersaing', 'untuk', 'semua', 'tujuan', 'praktis', 'sebagai', 'pemenang', 'kontes', 'dan', 'angkatan', 'udara', 'mulai', 'kehilangan', 'minat', 'pada', 'xf', 'penundaan', 'yang', 'terus', 'menerus', 'dan', 'pembengkakan', 'biaya', 'menyebabkan', 'program', 'ini', 'kemudian', 'dikurangi', 'menjadi', 'hanya', 'satu', 'prototipe', 'mesin', 'wright', 'xj67', 'mengalami', 'lebih', 'banyak', 'penundaan', 'dan', 'akhirnya', 'tidak', 'pernah', 'terwujud', 'angkatan', 'udara', 'akhirnya', 'menyerah', 'pada', 'agustus', 'membatalkan', 'seluruh', 'proyek', 'pesawat', 'tempur', 'xf', 'national', 'interest']\n"
     ]
    }
   ],
   "source": [
    "tokens = nltk.tokenize.word_tokenize(caseFolding)\n",
    "print(tokens)"
   ]
  },
  {
   "cell_type": "code",
   "execution_count": 26,
   "metadata": {
    "scrolled": true
   },
   "outputs": [
    {
     "name": "stdout",
     "output_type": "stream",
     "text": [
      "[('dan', 15), ('pesawat', 15), ('yang', 14), ('xf', 13), ('untuk', 11), ('udara', 11), ('dengan', 9), ('pada', 6), ('kemudian', 6), ('f', 5), ('menjadi', 5), ('kecepatan', 5), ('ke', 5), ('roket', 4), ('angkatan', 4), ('di', 4), ('tiga', 4), ('dari', 4), ('terbang', 4), ('lebih', 4), ('akan', 4), ('ramjet', 4), ('pernah', 3), ('memiliki', 3), ('tempur', 3), ('rudal', 3), ('itu', 3), ('seperti', 3), ('proyek', 3), ('sistem', 3), ('mesin', 3), ('penerbangan', 3), ('atau', 3), ('harus', 3), ('canggih', 2), ('mirip', 2), ('pembom', 2), ('rusia', 2), ('as', 2), ('terlalu', 2), ('national', 2), ('interest', 2), ('beberapa', 2), ('interceptor', 2), ('convair', 2), ('desain', 2), ('adalah', 2), ('sebagai', 2), ('bisa', 2), ('mil', 2), ('per', 2), ('jam', 2), ('cepat', 2), ('tampak', 2), ('daripada', 2), ('turbojet', 2), ('wright', 2), ('namun', 2), ('dilengkapi', 2), ('bagian', 2), ('ini', 2), ('bahwa', 2), ('sudah', 2), ('cukup', 2), ('radar', 2), ('enam', 2), ('jika', 2), ('kehilangan', 2), ('bawah', 2), ('pilot', 2), ('pod', 2), ('tidak', 2), ('benar', 2), ('penundaan', 2), ('akhirnya', 2), ('amerika', 1), ('serikat', 1), ('nyaris', 1), ('jet', 1), ('desainnya', 1), ('penjelajah', 1), ('didesain', 1), ('mencegat', 1), ('supersonik', 1), ('menghancurkan', 1), ('nuklir', 1), ('milik', 1), ('sebelumnya', 1), ('ada', 1), ('sabre', 1), ('tapi', 1), ('dianggap', 1), ('lambat', 1), ('memenuhi', 1), ('ancaman', 1), ('sehingga', 1), ('mengajukan', 1), ('permintaan', 1), ('terbaru', 1), ('demikian', 1), ('dilaporkan', 1), ('laman', 1), ('waktu', 1), ('lalu', 1), ('menunjuk', 1), ('menandai', 1), ('masuknya', 1), ('layanan', 1), ('menerima', 1), ('sembilan', 1), ('proposal', 1), ('mana', 1), ('dipilih', 1), ('pengembangan', 1), ('pendahuluan', 1), ('delta', 1), ('dagger', 1), ('lockheed', 1), ('starfighter', 1), ('republic', 1), ('aircraft', 1), ('ap', 1), ('berganti', 1), ('nama', 1), ('paling', 1), ('diusulkan', 1), ('kali', 1), ('suara', 1), ('ketinggian', 1), ('kaki', 1), ('awal', 1), ('an', 1), ('ketika', 1), ('subsonik', 1), ('mig', 1), ('korea', 1), ('ratus', 1), ('bahkan', 1), ('gambar', 1), ('menunjukkan', 1), ('apa', 1), ('jelajah', 1), ('mencapai', 1), ('setinggi', 1), ('propulsi', 1), ('ganda', 1), ('xj', 1), ('memberdayakan', 1), ('saat', 1), ('lepas', 1), ('landas', 1), ('normal', 1), ('ekstra', 1), ('menangkap', 1), ('kawanan', 1), ('badger', 1), ('bear', 1), ('bison', 1), ('dasarnya', 1), ('menyedot', 1), ('depan', 1), ('mencampurnya', 1), ('bahan', 1), ('bakar', 1), ('menembakkan', 1), ('campuran', 1), ('sederhana', 1), ('kelemahan', 1), ('bergerak', 1), ('mach', 1), ('agar', 1), ('dikompresi', 1), ('menelannya', 1), ('mendorong', 1), ('menendang', 1), ('harusnya', 1), ('dipersenjatai', 1), ('jarak', 1), ('jauh', 1), ('gar', 1), ('falcon', 1), ('infrared', 1), ('dipandu', 1), ('ditambah', 1), ('puluh', 1), ('inci', 1), ('diarahkan', 1), ('ejeksi', 1), ('unik', 1), ('kokpit', 1), ('tekanan', 1), ('perisai', 1), ('disimpan', 1), ('kursi', 1), ('naik', 1), ('menutup', 1), ('bertekanan', 1), ('menerbangkan', 1), ('kembali', 1), ('menggunakan', 1), ('kontrol', 1), ('dasar', 1), ('periskop', 1), ('meninggalkan', 1), ('diturunkan', 1), ('rel', 1), ('keluar', 1), ('badan', 1), ('dilepaskan', 1), ('berkembang', 1), ('melampaui', 1), ('mock', 1), ('up', 1), ('jelas', 1), ('berisiko', 1), ('pesaing', 1), ('serius', 1), ('bagi', 1), ('kata', 1), ('penulis', 1), ('joe', 1), ('baugher', 1), ('membuat', 1), ('bersaing', 1), ('semua', 1), ('tujuan', 1), ('praktis', 1), ('pemenang', 1), ('kontes', 1), ('mulai', 1), ('minat', 1), ('terus', 1), ('menerus', 1), ('pembengkakan', 1), ('biaya', 1), ('menyebabkan', 1), ('program', 1), ('dikurangi', 1), ('hanya', 1), ('satu', 1), ('prototipe', 1), ('xj67', 1), ('mengalami', 1), ('banyak', 1), ('terwujud', 1), ('menyerah', 1), ('agustus', 1), ('membatalkan', 1), ('seluruh', 1)]\n"
     ]
    }
   ],
   "source": [
    "kemunculan = nltk.FreqDist(tokens)\n",
    "print(kemunculan.most_common())"
   ]
  },
  {
   "cell_type": "code",
   "execution_count": 27,
   "metadata": {},
   "outputs": [
    {
     "data": {
      "image/png": "[encoded data removed]",
      "text/plain": [
       "<Figure size 432x288 with 1 Axes>"
      ]
     },
     "metadata": {
      "needs_background": "light"
     },
     "output_type": "display_data"
    }
   ],
   "source": [
    "import matplotlib.pyplot as plt\n",
    "kemunculan.plot(20,cumulative=False)\n",
    "plt.show()"
   ]
  },
  {
   "cell_type": "markdown",
   "metadata": {},
   "source": [
    "## Preprocessing\n",
    "### Filtering (Stopword Removal)"
   ]
  },
  {
   "cell_type": "code",
   "execution_count": 28,
   "metadata": {},
   "outputs": [],
   "source": [
    "stopwords = requests.get(\"https://raw.githubusercontent.com/masdevid/ID-Stopwords/master/id.stopwords.02.01.2016.txt\").text.split(\"\\n\")"
   ]
  },
  {
   "cell_type": "code",
   "execution_count": 32,
   "metadata": {},
   "outputs": [],
   "source": [
    "text_stopword = []\n",
    "words = caseFolding.split()\n",
    "for word in words:\n",
    "    if word not in stopwords: text_stopword.append(word)"
   ]
  },
  {
   "cell_type": "code",
   "execution_count": 33,
   "metadata": {},
   "outputs": [],
   "source": [
    "resultFiltering = ' '.join(text_stopword)"
   ]
  },
  {
   "cell_type": "markdown",
   "metadata": {},
   "source": [
    "### Result"
   ]
  },
  {
   "cell_type": "code",
   "execution_count": 34,
   "metadata": {
    "scrolled": true
   },
   "outputs": [
    {
     "name": "stdout",
     "output_type": "stream",
     "text": [
      "amerika serikat memiliki jet tempur canggih xf desainnya roket rudal penjelajah pesawat didesain mencegat pesawat supersonik menghancurkan pembom nuklir milik rusia as memiliki pesawat tempur f sabre dianggap lambat memenuhi ancaman angkatan udara as mengajukan permintaan pesawat terbaru dilaporkan laman national interest proyek interceptor menandai masuknya layanan angkatan udara menerima sembilan proposal dipilih pengembangan pendahuluan convair desain f delta dagger lockheed pesawat f starfighter republic aircraft ap berganti nama xf desain xf canggih diusulkan pesawat terbang mil jam cepat kali kecepatan suara ketinggian kaki an subsonik f mig terbang korea kecepatan ratus mil jam xf roket pesawat terbang gambar rudal jelajah mencapai kecepatan pesawat memiliki sistem propulsi ganda mesin turbojet wright xj memberdayakan xf lepas landas penerbangan normal kecepatan ekstra menangkap kawanan pembom rusia badger bear bison xf dilengkapi mesin ramjet ramjet dasarnya menyedot udara pesawat mencampurnya bahan bakar menembakkan campuran sistem sederhana kelemahan pesawat terbang roket bergerak cepat mach udara dikompresi ramjet menelannya turbojet xf mendorong pesawat kecepatan ramjet menendang xf dipersenjatai radar jarak enam gar falcon infrared rudal udara udara dipandu radar ditambah puluh enam roket udara udara inci diarahkan udara xf dilengkapi sistem ejeksi unik kokpit kehilangan tekanan perisai disimpan kursi menutup pilot pod bertekanan pilot menerbangkan pesawat kontrol penerbangan dasar periskop meninggalkan pesawat pod diturunkan rel badan pesawat dilepaskan xf berkembang melampaui mock up xf berisiko pesaing serius proyek interceptor penulis penerbangan joe baugher convair f bersaing tujuan praktis pemenang kontes angkatan udara kehilangan minat xf penundaan menerus pembengkakan biaya menyebabkan program dikurangi prototipe mesin wright xj67 mengalami penundaan terwujud angkatan udara menyerah agustus membatalkan proyek pesawat tempur xf national interest\n"
     ]
    }
   ],
   "source": [
    "print(resultFiltering)"
   ]
  },
  {
   "cell_type": "code",
   "execution_count": null,
   "metadata": {},
   "outputs": [],
   "source": []
  },
  {
   "cell_type": "markdown",
   "metadata": {},
   "source": [
    "## Preprocessing\n",
    "### Stemming"
   ]
  },
  {
   "cell_type": "code",
   "execution_count": 35,
   "metadata": {},
   "outputs": [],
   "source": [
    "# import StemmerFactory class\n",
    "from Sastrawi.Stemmer.StemmerFactory import StemmerFactory\n",
    "\n",
    "# create stemmer\n",
    "factory = StemmerFactory()\n",
    "stemmer = factory.create_stemmer()"
   ]
  },
  {
   "cell_type": "code",
   "execution_count": 36,
   "metadata": {},
   "outputs": [
    {
     "name": "stdout",
     "output_type": "stream",
     "text": [
      "amerika serikat milik jet tempur canggih xf desain roket rudal jelajah pesawat desain cegat pesawat supersonik hancur bom nuklir milik rusia as milik pesawat tempur f sabre anggap lambat penuh ancam angkat udara as aju minta pesawat baru lapor laman national interest proyek interceptor tanda masuk layan angkat udara terima sembilan proposal pilih kembang dahulu convair desain f delta dagger lockheed pesawat f starfighter republic aircraft ap ganti nama xf desain xf canggih usul pesawat terbang mil jam cepat kali cepat suara tinggi kaki an subsonik f mig terbang korea cepat ratus mil jam xf roket pesawat terbang gambar rudal jelajah capai cepat pesawat milik sistem propulsi ganda mesin turbojet wright xj daya xf lepas landas terbang normal cepat ekstra tangkap kawan bom rusia badger bear bison xf lengkap mesin ramjet ramjet dasar sedot udara pesawat campur bahan bakar tembak campur sistem sederhana lemah pesawat terbang roket gerak cepat mach udara kompresi ramjet tel turbojet xf dorong pesawat cepat ramjet tendang xf senjata radar jarak enam gar falcon infrared rudal udara udara pandu radar tambah puluh enam roket udara udara inci arah udara xf lengkap sistem ejeksi unik kokpit hilang tekan perisai simpan kursi tutup pilot pod tekan pilot terbang pesawat kontrol terbang dasar periskop tinggal pesawat pod turun rel badan pesawat lepas xf kembang lampau mock up xf risiko saing serius proyek interceptor tulis terbang joe baugher convair f saing tuju praktis menang kontes angkat udara hilang minat xf tunda terus bengkak biaya sebab program rang prototipe mesin wright xj67 alami tunda wujud angkat udara serah agustus batal proyek pesawat tempur xf national interest\n"
     ]
    }
   ],
   "source": [
    "# stemming process\n",
    "output   = stemmer.stem(resultFiltering)\n",
    "\n",
    "print(output)"
   ]
  },
  {
   "cell_type": "code",
   "execution_count": null,
   "metadata": {},
   "outputs": [],
   "source": []
  },
  {
   "cell_type": "code",
   "execution_count": null,
   "metadata": {},
   "outputs": [],
   "source": []
  },
  {
   "cell_type": "markdown",
   "metadata": {},
   "source": [
    "## Comparing"
   ]
  },
  {
   "cell_type": "code",
   "execution_count": 37,
   "metadata": {},
   "outputs": [
    {
     "name": "stdout",
     "output_type": "stream",
     "text": [
      "Case Folding\n",
      "==========================\n",
      "\n",
      "amerika serikat pernah nyaris memiliki jet tempur canggih xf yang desainnya mirip dengan roket dan rudal penjelajah pesawat itu didesain untuk mencegat pesawat supersonik dan menghancurkan pembom nuklir milik rusia sebelumnya as memiliki pesawat tempur yang ada seperti f sabre tapi dianggap terlalu lambat untuk memenuhi ancaman itu sehingga pada angkatan udara as mengajukan permintaan untuk pesawat terbaru demikian dilaporkan laman national interest beberapa waktu lalu menunjuk proyek interceptor untuk menandai masuknya layanan angkatan udara menerima sembilan proposal di mana tiga dipilih untuk pengembangan pendahuluan convair dengan desain yang kemudian menjadi f delta dagger lockheed dengan pesawat yang kemudian menjadi f starfighter dan republic aircraft dengan ap kemudian berganti nama menjadi xf dari tiga desain xf adalah yang paling canggih dan diusulkan sebagai pesawat yang bisa terbang mil per jam lebih cepat dari tiga kali kecepatan suara ke ketinggian kaki pada awal an ketika subsonik f dan mig terbang di korea dengan kecepatan beberapa ratus mil per jam xf tampak lebih mirip roket daripada pesawat terbang bahkan gambar menunjukkan apa yang tampak seperti rudal jelajah untuk mencapai kecepatan setinggi itu pesawat memiliki sistem propulsi ganda mesin turbojet wright xj akan memberdayakan xf saat lepas landas dan penerbangan normal namun untuk kecepatan ekstra dan menangkap kawanan pembom rusia seperti badger bear dan bison xf dilengkapi dengan mesin ramjet ramjet pada dasarnya menyedot udara dari bagian depan pesawat mencampurnya dengan bahan bakar dan kemudian menembakkan campuran ini adalah sistem sederhana dengan kelemahan bahwa pesawat terbang atau roket harus sudah bergerak lebih cepat daripada mach agar udara dikompresi cukup untuk ramjet menelannya turbojet xf akan mendorong pesawat ke kecepatan yang cukup untuk ramjet menendang xf harusnya dipersenjatai radar jarak jauh enam gar falcon infrared atau rudal udara ke udara yang dipandu radar ditambah tiga puluh enam roket udara ke udara inci yang diarahkan ke udara xf harus dilengkapi dengan sistem ejeksi yang unik jika kokpit kehilangan tekanan perisai yang disimpan di bawah kursi akan naik menutup pilot di pod bertekanan pilot bisa menerbangkan pesawat kembali menggunakan kontrol penerbangan dasar dan periskop atau jika harus meninggalkan pesawat pod akan diturunkan pada rel keluar dari bagian bawah badan pesawat dan kemudian dilepaskan namun xf tidak pernah benar benar berkembang melampaui mock up sudah jelas bahwa xf terlalu berisiko untuk menjadi pesaing serius bagi proyek interceptor kata penulis penerbangan joe baugher dan membuat convair f yang bersaing untuk semua tujuan praktis sebagai pemenang kontes dan angkatan udara mulai kehilangan minat pada xf penundaan yang terus menerus dan pembengkakan biaya menyebabkan program ini kemudian dikurangi menjadi hanya satu prototipe mesin wright xj67 mengalami lebih banyak penundaan dan akhirnya tidak pernah terwujud angkatan udara akhirnya menyerah pada agustus membatalkan seluruh proyek pesawat tempur xf national interest\n",
      "\n",
      "Stemming \n",
      "==========================\n",
      "\n",
      "amerika serikat milik jet tempur canggih xf desain roket rudal jelajah pesawat desain cegat pesawat supersonik hancur bom nuklir milik rusia as milik pesawat tempur f sabre anggap lambat penuh ancam angkat udara as aju minta pesawat baru lapor laman national interest proyek interceptor tanda masuk layan angkat udara terima sembilan proposal pilih kembang dahulu convair desain f delta dagger lockheed pesawat f starfighter republic aircraft ap ganti nama xf desain xf canggih usul pesawat terbang mil jam cepat kali cepat suara tinggi kaki an subsonik f mig terbang korea cepat ratus mil jam xf roket pesawat terbang gambar rudal jelajah capai cepat pesawat milik sistem propulsi ganda mesin turbojet wright xj daya xf lepas landas terbang normal cepat ekstra tangkap kawan bom rusia badger bear bison xf lengkap mesin ramjet ramjet dasar sedot udara pesawat campur bahan bakar tembak campur sistem sederhana lemah pesawat terbang roket gerak cepat mach udara kompresi ramjet tel turbojet xf dorong pesawat cepat ramjet tendang xf senjata radar jarak enam gar falcon infrared rudal udara udara pandu radar tambah puluh enam roket udara udara inci arah udara xf lengkap sistem ejeksi unik kokpit hilang tekan perisai simpan kursi tutup pilot pod tekan pilot terbang pesawat kontrol terbang dasar periskop tinggal pesawat pod turun rel badan pesawat lepas xf kembang lampau mock up xf risiko saing serius proyek interceptor tulis terbang joe baugher convair f saing tuju praktis menang kontes angkat udara hilang minat xf tunda terus bengkak biaya sebab program rang prototipe mesin wright xj67 alami tunda wujud angkat udara serah agustus batal proyek pesawat tempur xf national interest\n"
     ]
    }
   ],
   "source": [
    "print('Case Folding')\n",
    "print('==========================\\n')\n",
    "print(caseFolding)\n",
    "print()\n",
    "\n",
    "print('Stemming ')\n",
    "print('==========================\\n')\n",
    "print(output)"
   ]
  },
  {
   "cell_type": "code",
   "execution_count": null,
   "metadata": {},
   "outputs": [],
   "source": []
  },
  {
   "cell_type": "code",
   "execution_count": null,
   "metadata": {},
   "outputs": [],
   "source": []
  },
  {
   "cell_type": "code",
   "execution_count": null,
   "metadata": {},
   "outputs": [],
   "source": []
  },
  {
   "cell_type": "code",
   "execution_count": null,
   "metadata": {},
   "outputs": [],
   "source": []
  },
  {
   "cell_type": "code",
   "execution_count": null,
   "metadata": {},
   "outputs": [],
   "source": []
  },
  {
   "cell_type": "code",
   "execution_count": null,
   "metadata": {},
   "outputs": [],
   "source": []
  },
  {
   "cell_type": "code",
   "execution_count": null,
   "metadata": {},
   "outputs": [],
   "source": []
  },
  {
   "cell_type": "code",
   "execution_count": null,
   "metadata": {},
   "outputs": [],
   "source": []
  }
 ],
 "metadata": {
  "kernelspec": {
   "display_name": "Python 3",
   "language": "python",
   "name": "python3"
  },
  "language_info": {
   "codemirror_mode": {
    "name": "ipython",
    "version": 3
   },
   "file_extension": ".py",
   "mimetype": "text/x-python",
   "name": "python",
   "nbconvert_exporter": "python",
   "pygments_lexer": "ipython3",
   "version": "3.6.6+"
  }
 },
 "nbformat": 4,
 "nbformat_minor": 2
}
