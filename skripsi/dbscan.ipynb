{
 "cells": [
  {
   "cell_type": "code",
   "execution_count": 1,
   "metadata": {},
   "outputs": [],
   "source": [
    "import json\n",
    "import random\n",
    "import pymongo\n",
    "import datetime\n",
    "import pandas as pd\n",
    "from pprint import pprint\n",
    "from random import shuffle\n",
    "from tqdm import tqdm, tqdm_notebook"
   ]
  },
  {
   "cell_type": "code",
   "execution_count": 40,
   "metadata": {},
   "outputs": [],
   "source": [
    "myClient = pymongo.MongoClient(\"mongodb://localhost:27017\")\n",
    "myDatabase = myClient.iStorage\n",
    "myCollection = myDatabase.iData"
   ]
  },
  {
   "cell_type": "code",
   "execution_count": 3,
   "metadata": {},
   "outputs": [],
   "source": [
    "categories = ['news', 'bisnis', 'sports', 'entertainment', 'tekno', 'otomotif', 'health']"
   ]
  },
  {
   "cell_type": "code",
   "execution_count": 4,
   "metadata": {},
   "outputs": [],
   "source": [
    "polhukam,bisnis,olahraga,hiburan,teknologi,otomotif,kesehatan = [],[],[],[],[],[],[]"
   ]
  },
  {
   "cell_type": "code",
   "execution_count": 5,
   "metadata": {},
   "outputs": [
    {
     "data": {
      "application/vnd.jupyter.widget-view+json": {
       "model_id": "48a7249c3e9f432ea6ddc3559f80265b",
       "version_major": 2,
       "version_minor": 0
      },
      "text/plain": [
       "HBox(children=(IntProgress(value=0, max=7), HTML(value='')))"
      ]
     },
     "metadata": {},
     "output_type": "display_data"
    },
    {
     "name": "stdout",
     "output_type": "stream",
     "text": [
      "\n"
     ]
    }
   ],
   "source": [
    "for category in tqdm_notebook(categories):\n",
    "    temp = []\n",
    "    iQuery = myCollection.find({\n",
    "        'category' : category\n",
    "    })\n",
    "    if category == 'news':\n",
    "        for q in iQuery: temp.append(q)\n",
    "        shuffle(temp)\n",
    "        for t in temp[:1000]: polhukam.append(t)\n",
    "    elif category == 'bisnis':\n",
    "        for q in iQuery: temp.append(q)\n",
    "        shuffle(temp)\n",
    "        for t in temp[:1000]: bisnis.append(t)\n",
    "    elif category == 'sports':\n",
    "        for q in iQuery: temp.append(q)\n",
    "        shuffle(temp)\n",
    "        for t in temp[:1000]: olahraga.append(t)\n",
    "    elif category == 'entertainment':\n",
    "        for q in iQuery: temp.append(q)\n",
    "        shuffle(temp)\n",
    "        for t in temp[:1000]: hiburan.append(t)\n",
    "    elif category == 'tekno':\n",
    "        for q in iQuery: temp.append(q)\n",
    "        shuffle(temp)\n",
    "        for t in temp[:1000]: teknologi.append(t)\n",
    "    elif category == 'otomotif':\n",
    "        for q in iQuery: temp.append(q)\n",
    "        shuffle(temp)\n",
    "        for t in temp[:1000]: otomotif.append(t)\n",
    "    elif category == 'health':\n",
    "        for q in iQuery: temp.append(q)\n",
    "        shuffle(temp)\n",
    "        for t in temp[:1000]: kesehatan.append(t)"
   ]
  },
  {
   "cell_type": "code",
   "execution_count": 36,
   "metadata": {},
   "outputs": [
    {
     "name": "stdout",
     "output_type": "stream",
     "text": [
      "Polhukam  : 1000\n",
      "Bisnis    : 1000\n",
      "Hiburan   : 1000\n",
      "Olahraga  : 1000\n",
      "Teknologi : 1000\n",
      "Otomotif  : 1000\n",
      "Kesehatan : 1000\n"
     ]
    }
   ],
   "source": [
    "for i in range(1):\n",
    "    print('Polhukam  : {}'.format(len(polhukam)))\n",
    "    print('Bisnis    : {}'.format(len(bisnis)))\n",
    "    print('Hiburan   : {}'.format(len(hiburan)))\n",
    "    print('Olahraga  : {}'.format(len(olahraga)))\n",
    "    print('Teknologi : {}'.format(len(teknologi)))\n",
    "    print('Otomotif  : {}'.format(len(otomotif)))\n",
    "    print('Kesehatan : {}'.format(len(kesehatan)))"
   ]
  },
  {
   "cell_type": "code",
   "execution_count": 7,
   "metadata": {},
   "outputs": [
    {
     "name": "stdout",
     "output_type": "stream",
     "text": [
      "7000\n"
     ]
    }
   ],
   "source": [
    "total = len(polhukam)+len(bisnis)+len(olahraga)+len(hiburan)+len(teknologi)+len(otomotif)+len(kesehatan)\n",
    "print(total)"
   ]
  },
  {
   "cell_type": "code",
   "execution_count": 8,
   "metadata": {},
   "outputs": [],
   "source": [
    "iData = []"
   ]
  },
  {
   "cell_type": "code",
   "execution_count": 9,
   "metadata": {},
   "outputs": [
    {
     "name": "stderr",
     "output_type": "stream",
     "text": [
      "100%|██████████| 1000/1000 [00:00<00:00, 301033.80it/s]\n",
      "100%|██████████| 1000/1000 [00:00<00:00, 424911.76it/s]\n",
      "100%|██████████| 1000/1000 [00:00<00:00, 1237257.82it/s]\n",
      "100%|██████████| 1000/1000 [00:00<00:00, 1469622.99it/s]\n",
      "100%|██████████| 1000/1000 [00:00<00:00, 898522.71it/s]\n",
      "100%|██████████| 1000/1000 [00:00<00:00, 557530.77it/s]\n",
      "100%|██████████| 1000/1000 [00:00<00:00, 914389.36it/s]\n"
     ]
    }
   ],
   "source": [
    "for p in tqdm(polhukam[:20000]): iData.append(p)\n",
    "for b in tqdm(bisnis[:20000]): iData.append(b)\n",
    "for o in tqdm(olahraga[:20000]): iData.append(o)\n",
    "for h in tqdm(hiburan): iData.append(h)\n",
    "for t in tqdm(teknologi): iData.append(t)\n",
    "for ot in tqdm(otomotif): iData.append(ot)\n",
    "for k in tqdm(kesehatan): iData.append(k)"
   ]
  },
  {
   "cell_type": "code",
   "execution_count": 44,
   "metadata": {},
   "outputs": [],
   "source": [
    "df = pd.DataFrame(iData)"
   ]
  },
  {
   "cell_type": "code",
   "execution_count": 11,
   "metadata": {},
   "outputs": [
    {
     "data": {
      "text/html": [
       "<div>\n",
       "<style scoped>\n",
       "    .dataframe tbody tr th:only-of-type {\n",
       "        vertical-align: middle;\n",
       "    }\n",
       "\n",
       "    .dataframe tbody tr th {\n",
       "        vertical-align: top;\n",
       "    }\n",
       "\n",
       "    .dataframe thead th {\n",
       "        text-align: right;\n",
       "    }\n",
       "</style>\n",
       "<table border=\"1\" class=\"dataframe\">\n",
       "  <thead>\n",
       "    <tr style=\"text-align: right;\">\n",
       "      <th></th>\n",
       "      <th>_id</th>\n",
       "      <th>category</th>\n",
       "      <th>title</th>\n",
       "      <th>description</th>\n",
       "      <th>url</th>\n",
       "      <th>content</th>\n",
       "      <th>contentHTML</th>\n",
       "      <th>img</th>\n",
       "      <th>subCategory</th>\n",
       "      <th>publishedAt</th>\n",
       "      <th>source</th>\n",
       "      <th>cleanContent</th>\n",
       "      <th>nerContent</th>\n",
       "      <th>countNer</th>\n",
       "    </tr>\n",
       "  </thead>\n",
       "  <tbody>\n",
       "    <tr>\n",
       "      <td>0</td>\n",
       "      <td>5da8c331d0f219869a77dc10</td>\n",
       "      <td>news</td>\n",
       "      <td>Gempa Magnitudo 5,3 Guncang Sitaro, Sulawesi U...</td>\n",
       "      <td>Gempa Magnitudo 5,3 Guncang Sitaro, Sulawesi U...</td>\n",
       "      <td>https://regional.kompas.com/read/2019/08/06/11...</td>\n",
       "      <td>Gempa bumi magnitudo 5,3 guncang Kabupaten Kep...</td>\n",
       "      <td>[Gempa bumi magnitudo 5,3 guncang Kabupaten Ke...</td>\n",
       "      <td>https://asset.kompas.com/crops/5YiycgM2SU9rw8r...</td>\n",
       "      <td>Regional</td>\n",
       "      <td>06-08-2019</td>\n",
       "      <td>kompas.com</td>\n",
       "      <td>gempa bumi magnitudo 5 3 guncang kabupaten kep...</td>\n",
       "      <td>[&lt;div class=\"entities\"&gt; Gempa bumi magnitudo 5...</td>\n",
       "      <td>{'person': 1, 'org': 2, 'gpe': 4, 'event': 0, ...</td>\n",
       "    </tr>\n",
       "    <tr>\n",
       "      <td>1</td>\n",
       "      <td>5da975ec5e81c329d6c822d7</td>\n",
       "      <td>news</td>\n",
       "      <td>Wiranto Sebut Tersangka Kerusuhan di Papua dan...</td>\n",
       "      <td>Wiranto Sebut Tersangka Kerusuhan di Papua dan...</td>\n",
       "      <td>https://nasional.kompas.com/read/2019/09/02/17...</td>\n",
       "      <td>Menteri Koordinator Bidang Politik, Hukum, dan...</td>\n",
       "      <td>[Menteri Koordinator Bidang Politik, Hukum, da...</td>\n",
       "      <td>https://asset.kompas.com/crops/oIgrCbwE7pOzzKK...</td>\n",
       "      <td>Nasional</td>\n",
       "      <td>02-09-2019</td>\n",
       "      <td>kompas.com</td>\n",
       "      <td>menteri koordinator bidang politik hukum keama...</td>\n",
       "      <td>[&lt;div class=\"entities\"&gt; Menteri Koordinator Bi...</td>\n",
       "      <td>{'person': 9, 'org': 9, 'gpe': 19, 'event': 0,...</td>\n",
       "    </tr>\n",
       "    <tr>\n",
       "      <td>2</td>\n",
       "      <td>5da95a38b344bce138c1c0f6</td>\n",
       "      <td>news</td>\n",
       "      <td>Tingkat Kepuasan Publik Anjlok, PM Mahathir Ak...</td>\n",
       "      <td>Tingkat Kepuasan Publik Anjlok, PM Mahathir Ak...</td>\n",
       "      <td>https://internasional.kompas.com/read/2019/08/...</td>\n",
       "      <td>Perdana Menteri Malaysia Mahathir Mohamad dika...</td>\n",
       "      <td>[Perdana Menteri  Malaysia  Mahathir Mohamad d...</td>\n",
       "      <td>https://asset.kompas.com/crops/Tv0b7Jm-yAZfVOa...</td>\n",
       "      <td>Internasional</td>\n",
       "      <td>22-08-2019</td>\n",
       "      <td>kompas.com</td>\n",
       "      <td>perdana menteri malaysia mahathir mohamad dika...</td>\n",
       "      <td>[&lt;div class=\"entities\"&gt; Perdana Menteri &lt;mark ...</td>\n",
       "      <td>{'person': 8, 'org': 2, 'gpe': 1, 'event': 0, ...</td>\n",
       "    </tr>\n",
       "    <tr>\n",
       "      <td>3</td>\n",
       "      <td>5d70a1b507a3d256dcc73fd4</td>\n",
       "      <td>news</td>\n",
       "      <td>Taksi Konvensional di London Gugat Uber Rp 19 ...</td>\n",
       "      <td>Taksi Konvensional di London Gugat Uber Rp 19 ...</td>\n",
       "      <td>https://dunia.tempo.co/read/1110210/taksi-konv...</td>\n",
       "      <td>Para pengemudi taksi di London, Inggris, akan ...</td>\n",
       "      <td>[Para pengemudi taksi di London, Inggris, akan...</td>\n",
       "      <td>https://statik.tempo.co/data/2018/07/24/id_721...</td>\n",
       "      <td>Oops</td>\n",
       "      <td>25-07-2018</td>\n",
       "      <td>tempo.co</td>\n",
       "      <td>pengemudi taksi london inggris menuntut uber u...</td>\n",
       "      <td>[&lt;div class=\"entities\"&gt; Para pengemudi taksi d...</td>\n",
       "      <td>{'person': 4, 'org': 10, 'gpe': 6, 'event': 0,...</td>\n",
       "    </tr>\n",
       "    <tr>\n",
       "      <td>4</td>\n",
       "      <td>5da70cab054b220d9862e8c6</td>\n",
       "      <td>news</td>\n",
       "      <td>[POPULER MEGAPOLITAN] 652 Orang Ditilang karen...</td>\n",
       "      <td>[POPULER MEGAPOLITAN] 652 Orang Ditilang karen...</td>\n",
       "      <td>https://megapolitan.kompas.com/read/2019/04/02...</td>\n",
       "      <td>Pada Senin (1/4/2019) ada sejumlah pemberitaan...</td>\n",
       "      <td>[Pada Senin (1/4/2019) ada sejumlah pemberitaa...</td>\n",
       "      <td>https://asset.kompas.com/crops/ZCq7vxt8aEJMwGw...</td>\n",
       "      <td>Megapolitan</td>\n",
       "      <td>02-04-2019</td>\n",
       "      <td>kompas.com</td>\n",
       "      <td>senin 1 4 2019 pemberitaan menarik perhatian p...</td>\n",
       "      <td>[&lt;div class=\"entities\"&gt; Pada Senin (1/4/2019) ...</td>\n",
       "      <td>{'person': 5, 'org': 5, 'gpe': 0, 'event': 0, ...</td>\n",
       "    </tr>\n",
       "  </tbody>\n",
       "</table>\n",
       "</div>"
      ],
      "text/plain": [
       "                        _id category  \\\n",
       "0  5da8c331d0f219869a77dc10     news   \n",
       "1  5da975ec5e81c329d6c822d7     news   \n",
       "2  5da95a38b344bce138c1c0f6     news   \n",
       "3  5d70a1b507a3d256dcc73fd4     news   \n",
       "4  5da70cab054b220d9862e8c6     news   \n",
       "\n",
       "                                               title  \\\n",
       "0  Gempa Magnitudo 5,3 Guncang Sitaro, Sulawesi U...   \n",
       "1  Wiranto Sebut Tersangka Kerusuhan di Papua dan...   \n",
       "2  Tingkat Kepuasan Publik Anjlok, PM Mahathir Ak...   \n",
       "3  Taksi Konvensional di London Gugat Uber Rp 19 ...   \n",
       "4  [POPULER MEGAPOLITAN] 652 Orang Ditilang karen...   \n",
       "\n",
       "                                         description  \\\n",
       "0  Gempa Magnitudo 5,3 Guncang Sitaro, Sulawesi U...   \n",
       "1  Wiranto Sebut Tersangka Kerusuhan di Papua dan...   \n",
       "2  Tingkat Kepuasan Publik Anjlok, PM Mahathir Ak...   \n",
       "3  Taksi Konvensional di London Gugat Uber Rp 19 ...   \n",
       "4  [POPULER MEGAPOLITAN] 652 Orang Ditilang karen...   \n",
       "\n",
       "                                                 url  \\\n",
       "0  https://regional.kompas.com/read/2019/08/06/11...   \n",
       "1  https://nasional.kompas.com/read/2019/09/02/17...   \n",
       "2  https://internasional.kompas.com/read/2019/08/...   \n",
       "3  https://dunia.tempo.co/read/1110210/taksi-konv...   \n",
       "4  https://megapolitan.kompas.com/read/2019/04/02...   \n",
       "\n",
       "                                             content  \\\n",
       "0  Gempa bumi magnitudo 5,3 guncang Kabupaten Kep...   \n",
       "1  Menteri Koordinator Bidang Politik, Hukum, dan...   \n",
       "2  Perdana Menteri Malaysia Mahathir Mohamad dika...   \n",
       "3  Para pengemudi taksi di London, Inggris, akan ...   \n",
       "4  Pada Senin (1/4/2019) ada sejumlah pemberitaan...   \n",
       "\n",
       "                                         contentHTML  \\\n",
       "0  [Gempa bumi magnitudo 5,3 guncang Kabupaten Ke...   \n",
       "1  [Menteri Koordinator Bidang Politik, Hukum, da...   \n",
       "2  [Perdana Menteri  Malaysia  Mahathir Mohamad d...   \n",
       "3  [Para pengemudi taksi di London, Inggris, akan...   \n",
       "4  [Pada Senin (1/4/2019) ada sejumlah pemberitaa...   \n",
       "\n",
       "                                                 img    subCategory  \\\n",
       "0  https://asset.kompas.com/crops/5YiycgM2SU9rw8r...       Regional   \n",
       "1  https://asset.kompas.com/crops/oIgrCbwE7pOzzKK...       Nasional   \n",
       "2  https://asset.kompas.com/crops/Tv0b7Jm-yAZfVOa...  Internasional   \n",
       "3  https://statik.tempo.co/data/2018/07/24/id_721...           Oops   \n",
       "4  https://asset.kompas.com/crops/ZCq7vxt8aEJMwGw...    Megapolitan   \n",
       "\n",
       "  publishedAt      source                                       cleanContent  \\\n",
       "0  06-08-2019  kompas.com  gempa bumi magnitudo 5 3 guncang kabupaten kep...   \n",
       "1  02-09-2019  kompas.com  menteri koordinator bidang politik hukum keama...   \n",
       "2  22-08-2019  kompas.com  perdana menteri malaysia mahathir mohamad dika...   \n",
       "3  25-07-2018    tempo.co  pengemudi taksi london inggris menuntut uber u...   \n",
       "4  02-04-2019  kompas.com  senin 1 4 2019 pemberitaan menarik perhatian p...   \n",
       "\n",
       "                                          nerContent  \\\n",
       "0  [<div class=\"entities\"> Gempa bumi magnitudo 5...   \n",
       "1  [<div class=\"entities\"> Menteri Koordinator Bi...   \n",
       "2  [<div class=\"entities\"> Perdana Menteri <mark ...   \n",
       "3  [<div class=\"entities\"> Para pengemudi taksi d...   \n",
       "4  [<div class=\"entities\"> Pada Senin (1/4/2019) ...   \n",
       "\n",
       "                                            countNer  \n",
       "0  {'person': 1, 'org': 2, 'gpe': 4, 'event': 0, ...  \n",
       "1  {'person': 9, 'org': 9, 'gpe': 19, 'event': 0,...  \n",
       "2  {'person': 8, 'org': 2, 'gpe': 1, 'event': 0, ...  \n",
       "3  {'person': 4, 'org': 10, 'gpe': 6, 'event': 0,...  \n",
       "4  {'person': 5, 'org': 5, 'gpe': 0, 'event': 0, ...  "
      ]
     },
     "execution_count": 11,
     "metadata": {},
     "output_type": "execute_result"
    }
   ],
   "source": [
    "df.head()"
   ]
  },
  {
   "cell_type": "code",
   "execution_count": 29,
   "metadata": {},
   "outputs": [
    {
     "data": {
      "image/png": "[encoded data removed]",
      "text/plain": [
       "<Figure size 864x576 with 1 Axes>"
      ]
     },
     "metadata": {
      "needs_background": "light"
     },
     "output_type": "display_data"
    }
   ],
   "source": [
    "import matplotlib.pyplot as plt\n",
    "fig = plt.figure(figsize=(12,8))\n",
    "df.groupby('category').title.count().plot.bar(ylim=0)\n",
    "plt.show()"
   ]
  },
  {
   "cell_type": "code",
   "execution_count": 37,
   "metadata": {},
   "outputs": [],
   "source": [
    "import textacy\n",
    "from textacy.preprocess import preprocess_text\n",
    "from sklearn.feature_extraction.text import TfidfVectorizer"
   ]
  },
  {
   "cell_type": "code",
   "execution_count": 15,
   "metadata": {},
   "outputs": [],
   "source": [
    "vectorizer = TfidfVectorizer(min_df=1, max_df=0.5)"
   ]
  },
  {
   "cell_type": "code",
   "execution_count": 31,
   "metadata": {},
   "outputs": [],
   "source": [
    "vz = vectorizer.fit_transform(df.title)"
   ]
  },
  {
   "cell_type": "code",
   "execution_count": 20,
   "metadata": {},
   "outputs": [
    {
     "data": {
      "text/plain": [
       "(7000, 12479)"
      ]
     },
     "execution_count": 20,
     "metadata": {},
     "output_type": "execute_result"
    }
   ],
   "source": [
    "vz.shape"
   ]
  },
  {
   "cell_type": "code",
   "execution_count": 21,
   "metadata": {},
   "outputs": [
    {
     "data": {
      "text/plain": [
       "(7000, 50)"
      ]
     },
     "execution_count": 21,
     "metadata": {},
     "output_type": "execute_result"
    }
   ],
   "source": [
    "from sklearn.decomposition import TruncatedSVD\n",
    "svd = TruncatedSVD(n_components=50, random_state=0)\n",
    "svd_tfidf = svd.fit_transform(vz)\n",
    "\n",
    "svd_tfidf.shape"
   ]
  },
  {
   "cell_type": "code",
   "execution_count": 21,
   "metadata": {},
   "outputs": [
    {
     "name": "stdout",
     "output_type": "stream",
     "text": [
      "\n",
      "Time exec = 00:13:24\n",
      "\n",
      "(133670, 2)\n"
     ]
    }
   ],
   "source": [
    "from MulticoreTSNE import MulticoreTSNE as TSNEM\n",
    "import time\n",
    "\n",
    "start = time.time()\n",
    "\n",
    "tsnem_model = TSNEM(n_components=2, verbose=3, perplexity=150.0, random_state=0, n_iter=500, n_jobs=8)\n",
    "tsnem_tfidf = tsnem_model.fit_transform(svd_tfidf)\n",
    "\n",
    "done = int(time.time() - start)\n",
    "print(\"\\nTime exec = %s\\n\" % str(pd.to_datetime(done, unit='s')).split(' ')[1])\n",
    "\n",
    "print(tsnem_tfidf.shape)"
   ]
  },
  {
   "cell_type": "code",
   "execution_count": 22,
   "metadata": {},
   "outputs": [],
   "source": [
    "from sklearn.cluster import DBSCAN"
   ]
  },
  {
   "cell_type": "code",
   "execution_count": 23,
   "metadata": {},
   "outputs": [],
   "source": [
    "clustering = DBSCAN(eps=3, min_samples=2).fit(svd_tfidf)"
   ]
  },
  {
   "cell_type": "code",
   "execution_count": 24,
   "metadata": {},
   "outputs": [
    {
     "data": {
      "text/plain": [
       "array([0, 0, 0, ..., 0, 0, 0])"
      ]
     },
     "execution_count": 24,
     "metadata": {},
     "output_type": "execute_result"
    }
   ],
   "source": [
    "clustering.labels_"
   ]
  },
  {
   "cell_type": "code",
   "execution_count": 25,
   "metadata": {},
   "outputs": [
    {
     "data": {
      "text/plain": [
       "DBSCAN(algorithm='auto', eps=3, leaf_size=30, metric='euclidean',\n",
       "    metric_params=None, min_samples=2, n_jobs=1, p=None)"
      ]
     },
     "execution_count": 25,
     "metadata": {},
     "output_type": "execute_result"
    }
   ],
   "source": [
    "clustering"
   ]
  }
 ],
 "metadata": {
  "kernelspec": {
   "display_name": "Python 3",
   "language": "python",
   "name": "python3"
  },
  "language_info": {
   "codemirror_mode": {
    "name": "ipython",
    "version": 3
   },
   "file_extension": ".py",
   "mimetype": "text/x-python",
   "name": "python",
   "nbconvert_exporter": "python",
   "pygments_lexer": "ipython3",
   "version": "3.6.6+"
  }
 },
 "nbformat": 4,
 "nbformat_minor": 2
}
