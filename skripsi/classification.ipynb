{
 "cells": [
  {
   "cell_type": "markdown",
   "metadata": {},
   "source": [
    "## Import Library"
   ]
  },
  {
   "cell_type": "code",
   "execution_count": 1,
   "metadata": {},
   "outputs": [],
   "source": [
    "import json\n",
    "import random\n",
    "import pymongo\n",
    "import datetime\n",
    "import pandas as pd\n",
    "from random import shuffle\n",
    "from tqdm import tqdm, tqdm_notebook"
   ]
  },
  {
   "cell_type": "code",
   "execution_count": null,
   "metadata": {},
   "outputs": [],
   "source": []
  },
  {
   "cell_type": "markdown",
   "metadata": {},
   "source": [
    "## Load Data From MongoDB"
   ]
  },
  {
   "cell_type": "code",
   "execution_count": 2,
   "metadata": {},
   "outputs": [],
   "source": [
    "myClient = pymongo.MongoClient(\"mongodb://localhost:27017\")\n",
    "myDatabase = myClient.iStorage\n",
    "myCollection = myDatabase.iData"
   ]
  },
  {
   "cell_type": "code",
   "execution_count": null,
   "metadata": {},
   "outputs": [],
   "source": []
  },
  {
   "cell_type": "code",
   "execution_count": 3,
   "metadata": {},
   "outputs": [],
   "source": [
    "categories = ['news', 'bisnis', 'sports', 'entertainment', 'tekno', 'otomotif', 'health']"
   ]
  },
  {
   "cell_type": "code",
   "execution_count": 4,
   "metadata": {},
   "outputs": [],
   "source": [
    "polhukam,bisnis,olahraga,hiburan,teknologi,otomotif,kesehatan = [],[],[],[],[],[],[]"
   ]
  },
  {
   "cell_type": "code",
   "execution_count": 5,
   "metadata": {},
   "outputs": [
    {
     "data": {
      "application/vnd.jupyter.widget-view+json": {
       "model_id": "e67c4bd52ed949eb9a0703c59c3dcf03",
       "version_major": 2,
       "version_minor": 0
      },
      "text/plain": [
       "HBox(children=(IntProgress(value=0, max=7), HTML(value='')))"
      ]
     },
     "metadata": {},
     "output_type": "display_data"
    },
    {
     "name": "stdout",
     "output_type": "stream",
     "text": [
      "\n"
     ]
    }
   ],
   "source": [
    "for category in tqdm_notebook(categories):\n",
    "    temp = []\n",
    "    iQuery = myCollection.find({\n",
    "        'category' : category\n",
    "    })\n",
    "    if category == 'news':\n",
    "        for q in iQuery: temp.append(q)\n",
    "        shuffle(temp)\n",
    "        for t in temp[:10000]: polhukam.append(t)\n",
    "    elif category == 'bisnis':\n",
    "        for q in iQuery: temp.append(q)\n",
    "        shuffle(temp)\n",
    "        for t in temp[:10000]: bisnis.append(t)\n",
    "    elif category == 'sports':\n",
    "        for q in iQuery: temp.append(q)\n",
    "        shuffle(temp)\n",
    "        for t in temp[:10000]: olahraga.append(t)\n",
    "    elif category == 'entertainment':\n",
    "        for q in iQuery: temp.append(q)\n",
    "        shuffle(temp)\n",
    "        for t in temp[:10000]: hiburan.append(t)\n",
    "    elif category == 'tekno':\n",
    "        for q in iQuery: temp.append(q)\n",
    "        shuffle(temp)\n",
    "        for t in temp[:10000]: teknologi.append(t)\n",
    "    elif category == 'otomotif':\n",
    "        for q in iQuery: temp.append(q)\n",
    "        shuffle(temp)\n",
    "        for t in temp[:10000]: otomotif.append(t)\n",
    "    elif category == 'health':\n",
    "        for q in iQuery: temp.append(q)\n",
    "        shuffle(temp)\n",
    "        for t in temp[:10000]: kesehatan.append(t)"
   ]
  },
  {
   "cell_type": "code",
   "execution_count": 6,
   "metadata": {
    "scrolled": true
   },
   "outputs": [
    {
     "name": "stdout",
     "output_type": "stream",
     "text": [
      "10000\n",
      "10000\n",
      "10000\n",
      "10000\n",
      "10000\n",
      "10000\n",
      "10000\n"
     ]
    }
   ],
   "source": [
    "for i in range(1):\n",
    "    print(len(polhukam))\n",
    "    print(len(bisnis))\n",
    "    print(len(olahraga))\n",
    "    print(len(hiburan))\n",
    "    print(len(teknologi))\n",
    "    print(len(otomotif))\n",
    "    print(len(kesehatan))"
   ]
  },
  {
   "cell_type": "code",
   "execution_count": 7,
   "metadata": {},
   "outputs": [
    {
     "name": "stdout",
     "output_type": "stream",
     "text": [
      "70000\n"
     ]
    }
   ],
   "source": [
    "total = len(polhukam)+len(bisnis)+len(olahraga)+len(hiburan)+len(teknologi)+len(otomotif)+len(kesehatan)\n",
    "print(total)"
   ]
  },
  {
   "cell_type": "code",
   "execution_count": null,
   "metadata": {},
   "outputs": [],
   "source": []
  },
  {
   "cell_type": "markdown",
   "metadata": {},
   "source": [
    "## Input Data to Array"
   ]
  },
  {
   "cell_type": "code",
   "execution_count": 8,
   "metadata": {},
   "outputs": [],
   "source": [
    "iData = []"
   ]
  },
  {
   "cell_type": "code",
   "execution_count": 9,
   "metadata": {
    "scrolled": true
   },
   "outputs": [
    {
     "name": "stderr",
     "output_type": "stream",
     "text": [
      "100%|██████████| 10000/10000 [00:00<00:00, 1147207.13it/s]\n",
      "100%|██████████| 10000/10000 [00:00<00:00, 1638400.00it/s]\n",
      "100%|██████████| 10000/10000 [00:00<00:00, 1345061.09it/s]\n",
      "100%|██████████| 10000/10000 [00:00<00:00, 1001051.10it/s]\n",
      "100%|██████████| 10000/10000 [00:00<00:00, 1302781.18it/s]\n",
      "100%|██████████| 10000/10000 [00:00<00:00, 1282034.48it/s]\n",
      "100%|██████████| 10000/10000 [00:00<00:00, 1302862.11it/s]\n"
     ]
    }
   ],
   "source": [
    "for p in tqdm(polhukam[:10000]): iData.append(p)\n",
    "for b in tqdm(bisnis[:10000]): iData.append(b)\n",
    "for o in tqdm(olahraga[:10000]): iData.append(o)\n",
    "for h in tqdm(hiburan[:10000]): iData.append(h)\n",
    "for t in tqdm(teknologi): iData.append(t)\n",
    "for ot in tqdm(otomotif): iData.append(ot)\n",
    "for k in tqdm(kesehatan): iData.append(k)"
   ]
  },
  {
   "cell_type": "code",
   "execution_count": 10,
   "metadata": {},
   "outputs": [
    {
     "data": {
      "text/plain": [
       "70000"
      ]
     },
     "execution_count": 10,
     "metadata": {},
     "output_type": "execute_result"
    }
   ],
   "source": [
    "len(iData)"
   ]
  },
  {
   "cell_type": "code",
   "execution_count": 11,
   "metadata": {},
   "outputs": [],
   "source": [
    "shuffle(iData)"
   ]
  },
  {
   "cell_type": "code",
   "execution_count": null,
   "metadata": {},
   "outputs": [],
   "source": []
  },
  {
   "cell_type": "code",
   "execution_count": null,
   "metadata": {},
   "outputs": [],
   "source": []
  },
  {
   "cell_type": "markdown",
   "metadata": {},
   "source": [
    "## Konversi Data ke DataFrame (Pandas)"
   ]
  },
  {
   "cell_type": "code",
   "execution_count": 12,
   "metadata": {},
   "outputs": [],
   "source": [
    "df = pd.DataFrame(iData)"
   ]
  },
  {
   "cell_type": "code",
   "execution_count": 13,
   "metadata": {},
   "outputs": [
    {
     "data": {
      "text/html": [
       "<div>\n",
       "<style scoped>\n",
       "    .dataframe tbody tr th:only-of-type {\n",
       "        vertical-align: middle;\n",
       "    }\n",
       "\n",
       "    .dataframe tbody tr th {\n",
       "        vertical-align: top;\n",
       "    }\n",
       "\n",
       "    .dataframe thead th {\n",
       "        text-align: right;\n",
       "    }\n",
       "</style>\n",
       "<table border=\"1\" class=\"dataframe\">\n",
       "  <thead>\n",
       "    <tr style=\"text-align: right;\">\n",
       "      <th></th>\n",
       "      <th>_id</th>\n",
       "      <th>category</th>\n",
       "      <th>title</th>\n",
       "      <th>description</th>\n",
       "      <th>url</th>\n",
       "      <th>content</th>\n",
       "      <th>contentHTML</th>\n",
       "      <th>img</th>\n",
       "      <th>subCategory</th>\n",
       "      <th>publishedAt</th>\n",
       "      <th>source</th>\n",
       "      <th>cleanContent</th>\n",
       "      <th>nerContent</th>\n",
       "      <th>countNer</th>\n",
       "    </tr>\n",
       "  </thead>\n",
       "  <tbody>\n",
       "    <tr>\n",
       "      <td>0</td>\n",
       "      <td>5d8e801b53c4255fb3ff4edd</td>\n",
       "      <td>otomotif</td>\n",
       "      <td>Lorenzo Ungkap Penyebab \"Nyungsep\" di Misano</td>\n",
       "      <td>Lorenzo Ungkap Penyebab \"Nyungsep\" di Misano P...</td>\n",
       "      <td>https://otomotif.kompas.com/read/2018/09/10/17...</td>\n",
       "      <td>Pebalap Ducati Jorge Lorenzo gagal naik podium...</td>\n",
       "      <td>[Pebalap Ducati  Jorge Lorenzo gagal naik podi...</td>\n",
       "      <td>https://asset.kompas.com/crops/5dAYLRBatHS3cAm...</td>\n",
       "      <td>Sport</td>\n",
       "      <td>10-09-2018</td>\n",
       "      <td>kompas.com</td>\n",
       "      <td>pebalap ducati jorge lorenzo gagal podium bala...</td>\n",
       "      <td>[&lt;div class=\"entities\"&gt; Pebalap &lt;mark class=\"M...</td>\n",
       "      <td>{'person': 6, 'org': 1, 'gpe': 1, 'event': 1, ...</td>\n",
       "    </tr>\n",
       "    <tr>\n",
       "      <td>1</td>\n",
       "      <td>5d8e99bc5310b0648a463e56</td>\n",
       "      <td>entertainment</td>\n",
       "      <td>David NAIF Pamer Dada Bidang di Panggung Synch...</td>\n",
       "      <td>David NAIF Pamer Dada Bidang di Panggung Synch...</td>\n",
       "      <td>https://entertainment.kompas.com/read/2018/10/...</td>\n",
       "      <td>Grup band NAIF menjadi penampil penutup Synchr...</td>\n",
       "      <td>[Grup band  NAIF menjadi penampil penutup Sync...</td>\n",
       "      <td>https://asset.kompas.com/crops/pn-okTg5U-JWabB...</td>\n",
       "      <td>Musik</td>\n",
       "      <td>06-10-2018</td>\n",
       "      <td>kompas.com</td>\n",
       "      <td>grup band naif penampil penutup synchronize fe...</td>\n",
       "      <td>[&lt;div class=\"entities\"&gt; Grup band &lt;mark class=...</td>\n",
       "      <td>{'person': 6, 'org': 2, 'gpe': 2, 'event': 1, ...</td>\n",
       "    </tr>\n",
       "    <tr>\n",
       "      <td>2</td>\n",
       "      <td>5da6c973bb6ac0db220ef32a</td>\n",
       "      <td>health</td>\n",
       "      <td>Cerita Sukses \"Merek Bandung\" PMP Jadi Koleksi...</td>\n",
       "      <td>Cerita Sukses \"Merek Bandung\" PMP Jadi Koleksi...</td>\n",
       "      <td>https://lifestyle.kompas.com/read/2019/03/18/0...</td>\n",
       "      <td>Akhir Juni 2018 silam, adalah hari membahagiak...</td>\n",
       "      <td>[Akhir Juni 2018 silam, adalah hari membahagia...</td>\n",
       "      <td>https://asset.kompas.com/crops/A3rDOVuJ2aoiIEw...</td>\n",
       "      <td>Look Good</td>\n",
       "      <td>18-03-2019</td>\n",
       "      <td>kompas.com</td>\n",
       "      <td>juni 2018 silam membahagiakan pemilik merek po...</td>\n",
       "      <td>[&lt;div class=\"entities\"&gt; Akhir Juni 2018 silam,...</td>\n",
       "      <td>{'person': 2, 'org': 7, 'gpe': 8, 'event': 1, ...</td>\n",
       "    </tr>\n",
       "    <tr>\n",
       "      <td>3</td>\n",
       "      <td>5da61b4437bb21aa47afcd3f</td>\n",
       "      <td>bisnis</td>\n",
       "      <td>Ajarkan Anak Kelola Uang sejak Kecil Biar Saat...</td>\n",
       "      <td>Ajarkan Anak Kelola Uang sejak Kecil Biar Saat...</td>\n",
       "      <td>https://money.kompas.com/read/2019/01/18/05540...</td>\n",
       "      <td>Mengajarkan anak mengelola keuangan ternyata s...</td>\n",
       "      <td>[Mengajarkan anak mengelola keuangan ternyata ...</td>\n",
       "      <td>https://asset.kompas.com/crops/sQALLpn7PqoNz-s...</td>\n",
       "      <td>INSPIRASI</td>\n",
       "      <td>18-01-2019</td>\n",
       "      <td>kompas.com</td>\n",
       "      <td>mengajarkan anak mengelola keuangan bermanfaat...</td>\n",
       "      <td>[&lt;div class=\"entities\"&gt; Mengajarkan anak menge...</td>\n",
       "      <td>{'person': 2, 'org': 2, 'gpe': 1, 'event': 0, ...</td>\n",
       "    </tr>\n",
       "    <tr>\n",
       "      <td>4</td>\n",
       "      <td>5da6fc2c786be43223956f27</td>\n",
       "      <td>news</td>\n",
       "      <td>Para Nyai Pesantren Bersatu Dukung Jokowi</td>\n",
       "      <td>Para Nyai Pesantren Bersatu Dukung Jokowi Ratu...</td>\n",
       "      <td>https://regional.kompas.com/read/2019/03/21/14...</td>\n",
       "      <td>Ratusan nyai pengasuh pesantren melakukan dekl...</td>\n",
       "      <td>[Ratusan  nyai pengasuh  pesantren melakukan d...</td>\n",
       "      <td>https://asset.kompas.com/crops/OptylX6yWPN3RKd...</td>\n",
       "      <td>Regional</td>\n",
       "      <td>21-03-2019</td>\n",
       "      <td>kompas.com</td>\n",
       "      <td>ratusan nyai pengasuh pesantren deklarasi duku...</td>\n",
       "      <td>[&lt;div class=\"entities\"&gt; Ratusan nyai pengasuh ...</td>\n",
       "      <td>{'person': 7, 'org': 0, 'gpe': 2, 'event': 0, ...</td>\n",
       "    </tr>\n",
       "  </tbody>\n",
       "</table>\n",
       "</div>"
      ],
      "text/plain": [
       "                        _id       category  \\\n",
       "0  5d8e801b53c4255fb3ff4edd       otomotif   \n",
       "1  5d8e99bc5310b0648a463e56  entertainment   \n",
       "2  5da6c973bb6ac0db220ef32a         health   \n",
       "3  5da61b4437bb21aa47afcd3f         bisnis   \n",
       "4  5da6fc2c786be43223956f27           news   \n",
       "\n",
       "                                               title  \\\n",
       "0       Lorenzo Ungkap Penyebab \"Nyungsep\" di Misano   \n",
       "1  David NAIF Pamer Dada Bidang di Panggung Synch...   \n",
       "2  Cerita Sukses \"Merek Bandung\" PMP Jadi Koleksi...   \n",
       "3  Ajarkan Anak Kelola Uang sejak Kecil Biar Saat...   \n",
       "4          Para Nyai Pesantren Bersatu Dukung Jokowi   \n",
       "\n",
       "                                         description  \\\n",
       "0  Lorenzo Ungkap Penyebab \"Nyungsep\" di Misano P...   \n",
       "1  David NAIF Pamer Dada Bidang di Panggung Synch...   \n",
       "2  Cerita Sukses \"Merek Bandung\" PMP Jadi Koleksi...   \n",
       "3  Ajarkan Anak Kelola Uang sejak Kecil Biar Saat...   \n",
       "4  Para Nyai Pesantren Bersatu Dukung Jokowi Ratu...   \n",
       "\n",
       "                                                 url  \\\n",
       "0  https://otomotif.kompas.com/read/2018/09/10/17...   \n",
       "1  https://entertainment.kompas.com/read/2018/10/...   \n",
       "2  https://lifestyle.kompas.com/read/2019/03/18/0...   \n",
       "3  https://money.kompas.com/read/2019/01/18/05540...   \n",
       "4  https://regional.kompas.com/read/2019/03/21/14...   \n",
       "\n",
       "                                             content  \\\n",
       "0  Pebalap Ducati Jorge Lorenzo gagal naik podium...   \n",
       "1  Grup band NAIF menjadi penampil penutup Synchr...   \n",
       "2  Akhir Juni 2018 silam, adalah hari membahagiak...   \n",
       "3  Mengajarkan anak mengelola keuangan ternyata s...   \n",
       "4  Ratusan nyai pengasuh pesantren melakukan dekl...   \n",
       "\n",
       "                                         contentHTML  \\\n",
       "0  [Pebalap Ducati  Jorge Lorenzo gagal naik podi...   \n",
       "1  [Grup band  NAIF menjadi penampil penutup Sync...   \n",
       "2  [Akhir Juni 2018 silam, adalah hari membahagia...   \n",
       "3  [Mengajarkan anak mengelola keuangan ternyata ...   \n",
       "4  [Ratusan  nyai pengasuh  pesantren melakukan d...   \n",
       "\n",
       "                                                 img subCategory publishedAt  \\\n",
       "0  https://asset.kompas.com/crops/5dAYLRBatHS3cAm...       Sport  10-09-2018   \n",
       "1  https://asset.kompas.com/crops/pn-okTg5U-JWabB...       Musik  06-10-2018   \n",
       "2  https://asset.kompas.com/crops/A3rDOVuJ2aoiIEw...   Look Good  18-03-2019   \n",
       "3  https://asset.kompas.com/crops/sQALLpn7PqoNz-s...   INSPIRASI  18-01-2019   \n",
       "4  https://asset.kompas.com/crops/OptylX6yWPN3RKd...    Regional  21-03-2019   \n",
       "\n",
       "       source                                       cleanContent  \\\n",
       "0  kompas.com  pebalap ducati jorge lorenzo gagal podium bala...   \n",
       "1  kompas.com  grup band naif penampil penutup synchronize fe...   \n",
       "2  kompas.com  juni 2018 silam membahagiakan pemilik merek po...   \n",
       "3  kompas.com  mengajarkan anak mengelola keuangan bermanfaat...   \n",
       "4  kompas.com  ratusan nyai pengasuh pesantren deklarasi duku...   \n",
       "\n",
       "                                          nerContent  \\\n",
       "0  [<div class=\"entities\"> Pebalap <mark class=\"M...   \n",
       "1  [<div class=\"entities\"> Grup band <mark class=...   \n",
       "2  [<div class=\"entities\"> Akhir Juni 2018 silam,...   \n",
       "3  [<div class=\"entities\"> Mengajarkan anak menge...   \n",
       "4  [<div class=\"entities\"> Ratusan nyai pengasuh ...   \n",
       "\n",
       "                                            countNer  \n",
       "0  {'person': 6, 'org': 1, 'gpe': 1, 'event': 1, ...  \n",
       "1  {'person': 6, 'org': 2, 'gpe': 2, 'event': 1, ...  \n",
       "2  {'person': 2, 'org': 7, 'gpe': 8, 'event': 1, ...  \n",
       "3  {'person': 2, 'org': 2, 'gpe': 1, 'event': 0, ...  \n",
       "4  {'person': 7, 'org': 0, 'gpe': 2, 'event': 0, ...  "
      ]
     },
     "execution_count": 13,
     "metadata": {},
     "output_type": "execute_result"
    }
   ],
   "source": [
    "df.head()"
   ]
  },
  {
   "cell_type": "code",
   "execution_count": 15,
   "metadata": {},
   "outputs": [
    {
     "data": {
      "image/png": "[encoded data removed]",
      "text/plain": [
       "<Figure size 864x576 with 1 Axes>"
      ]
     },
     "metadata": {
      "needs_background": "light"
     },
     "output_type": "display_data"
    }
   ],
   "source": [
    "import matplotlib.pyplot as plt\n",
    "fig = plt.figure(figsize=(12,8))\n",
    "df.groupby('category').title.count().plot.bar(ylim=0)\n",
    "plt.show()"
   ]
  },
  {
   "cell_type": "code",
   "execution_count": null,
   "metadata": {},
   "outputs": [],
   "source": []
  },
  {
   "cell_type": "code",
   "execution_count": null,
   "metadata": {},
   "outputs": [],
   "source": []
  },
  {
   "cell_type": "markdown",
   "metadata": {},
   "source": [
    "## Menggunakan Metode Naive Bayes"
   ]
  },
  {
   "cell_type": "code",
   "execution_count": 16,
   "metadata": {},
   "outputs": [
    {
     "name": "stderr",
     "output_type": "stream",
     "text": [
      "/home/lumierra/Project-Python/.env/lib/python3.6/site-packages/sklearn/cross_validation.py:41: DeprecationWarning: This module was deprecated in version 0.18 in favor of the model_selection module into which all the refactored classes and functions are moved. Also note that the interface of the new CV iterators are different from that of this module. This module will be removed in 0.20.\n",
      "  \"This module will be removed in 0.20.\", DeprecationWarning)\n"
     ]
    }
   ],
   "source": [
    "import textacy\n",
    "from sklearn.naive_bayes import MultinomialNB\n",
    "from textacy.preprocess import preprocess_text\n",
    "from sklearn.cross_validation import train_test_split\n",
    "from sklearn.feature_extraction.text import TfidfVectorizer\n",
    "from sklearn.feature_extraction.text import TfidfTransformer\n",
    "from sklearn.feature_extraction.text import CountVectorizer"
   ]
  },
  {
   "cell_type": "code",
   "execution_count": 17,
   "metadata": {},
   "outputs": [],
   "source": [
    "tfidf = TfidfVectorizer(min_df=1, max_df=0.25)\n",
    "count_vect = CountVectorizer()\n",
    "tfidf_transformer = TfidfTransformer()"
   ]
  },
  {
   "cell_type": "code",
   "execution_count": 18,
   "metadata": {},
   "outputs": [],
   "source": [
    "X_train, X_test, y_train, y_test = train_test_split(df['title'], df['category'], random_state = 0, test_size = 0.20)\n",
    "\n",
    "X_train_counts = count_vect.fit_transform(X_train)\n",
    "\n",
    "X_train_tfidf = tfidf_transformer.fit_transform(X_train_counts)"
   ]
  },
  {
   "cell_type": "code",
   "execution_count": 19,
   "metadata": {},
   "outputs": [],
   "source": [
    "X1 = tfidf.fit_transform(X_train)"
   ]
  },
  {
   "cell_type": "code",
   "execution_count": 20,
   "metadata": {},
   "outputs": [
    {
     "data": {
      "text/plain": [
       "(56000, 30892)"
      ]
     },
     "execution_count": 20,
     "metadata": {},
     "output_type": "execute_result"
    }
   ],
   "source": [
    "X_train_tfidf.shape"
   ]
  },
  {
   "cell_type": "code",
   "execution_count": 21,
   "metadata": {},
   "outputs": [
    {
     "data": {
      "text/plain": [
       "(56000, 30892)"
      ]
     },
     "execution_count": 21,
     "metadata": {},
     "output_type": "execute_result"
    }
   ],
   "source": [
    "X1.shape"
   ]
  },
  {
   "cell_type": "code",
   "execution_count": 22,
   "metadata": {},
   "outputs": [],
   "source": [
    "modelMNB = MultinomialNB()"
   ]
  },
  {
   "cell_type": "code",
   "execution_count": 23,
   "metadata": {},
   "outputs": [
    {
     "data": {
      "text/plain": [
       "MultinomialNB(alpha=1.0, class_prior=None, fit_prior=True)"
      ]
     },
     "execution_count": 23,
     "metadata": {},
     "output_type": "execute_result"
    }
   ],
   "source": [
    "modelMNB.fit(X1, y_train)"
   ]
  },
  {
   "cell_type": "code",
   "execution_count": 24,
   "metadata": {},
   "outputs": [],
   "source": [
    "clf = MultinomialNB().fit(X1, y_train)"
   ]
  },
  {
   "cell_type": "code",
   "execution_count": 25,
   "metadata": {},
   "outputs": [],
   "source": [
    "def get_categoryMNB(text):\n",
    "    result_cleanText = textacy.preprocess_text(text, fix_unicode=False, \n",
    "                                            lowercase=True, \n",
    "                                            no_urls=True,\n",
    "                                            no_emails=False,\n",
    "                                            no_phone_numbers=False,\n",
    "                                            no_numbers=True,\n",
    "                                            no_currency_symbols=False,\n",
    "                                            no_punct=True)\n",
    "    hasil_prediksi = clf.predict(tfidf.transform([result_cleanText]))\n",
    "    return hasil_prediksi"
   ]
  },
  {
   "cell_type": "code",
   "execution_count": 26,
   "metadata": {},
   "outputs": [],
   "source": [
    "new_title = '''Berkemeja Putih ke Istana, Siapa Bupati Minahasa Selatan Tetty Paruntu?'''"
   ]
  },
  {
   "cell_type": "code",
   "execution_count": 27,
   "metadata": {},
   "outputs": [
    {
     "name": "stdout",
     "output_type": "stream",
     "text": [
      "['news']\n"
     ]
    }
   ],
   "source": [
    "print(get_categoryMNB(new_title))"
   ]
  },
  {
   "cell_type": "code",
   "execution_count": 28,
   "metadata": {},
   "outputs": [
    {
     "name": "stdout",
     "output_type": "stream",
     "text": [
      "0.9051607142857143\n"
     ]
    }
   ],
   "source": [
    "print(clf.score(X1, y_train))"
   ]
  },
  {
   "cell_type": "code",
   "execution_count": null,
   "metadata": {},
   "outputs": [],
   "source": []
  },
  {
   "cell_type": "code",
   "execution_count": null,
   "metadata": {},
   "outputs": [],
   "source": []
  },
  {
   "cell_type": "code",
   "execution_count": null,
   "metadata": {},
   "outputs": [],
   "source": []
  },
  {
   "cell_type": "markdown",
   "metadata": {},
   "source": [
    "## Save Model Naive Bayes MultinomialNB"
   ]
  },
  {
   "cell_type": "code",
   "execution_count": 113,
   "metadata": {},
   "outputs": [],
   "source": [
    "import pickle"
   ]
  },
  {
   "cell_type": "code",
   "execution_count": 3,
   "metadata": {},
   "outputs": [],
   "source": [
    "# save the model to disk\n",
    "filename = 'finalized_model.sav'\n",
    "# pickle.dump(clf, open(filename, 'wb'))\n",
    "\n"
   ]
  },
  {
   "cell_type": "code",
   "execution_count": 4,
   "metadata": {},
   "outputs": [],
   "source": [
    "# some time later...\n",
    "\n",
    "# load the model from disk\n",
    "loaded_model = pickle.load(open(filename, 'rb'))\n",
    "# result = loaded_model.score(X_test, Y_test)\n",
    "# print(result)"
   ]
  },
  {
   "cell_type": "code",
   "execution_count": 55,
   "metadata": {},
   "outputs": [
    {
     "ename": "TypeError",
     "evalue": "'MultinomialNB' object is not callable",
     "output_type": "error",
     "traceback": [
      "\u001b[0;31m---------------------------------------------------------------------------\u001b[0m",
      "\u001b[0;31mTypeError\u001b[0m                                 Traceback (most recent call last)",
      "\u001b[0;32m<ipython-input-55-4132465eb363>\u001b[0m in \u001b[0;36m<module>\u001b[0;34m()\u001b[0m\n\u001b[0;32m----> 1\u001b[0;31m \u001b[0mloaded_model\u001b[0m\u001b[0;34m(\u001b[0m\u001b[0;34m'Berkaca pada Raffi Ahmad, Waspada Penyebab Suara Serak'\u001b[0m\u001b[0;34m)\u001b[0m\u001b[0;34m\u001b[0m\u001b[0;34m\u001b[0m\u001b[0m\n\u001b[0m",
      "\u001b[0;31mTypeError\u001b[0m: 'MultinomialNB' object is not callable"
     ]
    }
   ],
   "source": [
    "loaded_model('Berkaca pada Raffi Ahmad, Waspada Penyebab Suara Serak')"
   ]
  },
  {
   "cell_type": "code",
   "execution_count": 170,
   "metadata": {},
   "outputs": [
    {
     "data": {
      "text/plain": [
       "0.900643598312926"
      ]
     },
     "execution_count": 170,
     "metadata": {},
     "output_type": "execute_result"
    }
   ],
   "source": [
    "loaded_model.score(X1, y_train)"
   ]
  },
  {
   "cell_type": "code",
   "execution_count": null,
   "metadata": {},
   "outputs": [],
   "source": []
  },
  {
   "cell_type": "code",
   "execution_count": null,
   "metadata": {},
   "outputs": [],
   "source": []
  },
  {
   "cell_type": "code",
   "execution_count": null,
   "metadata": {},
   "outputs": [],
   "source": []
  },
  {
   "cell_type": "code",
   "execution_count": null,
   "metadata": {},
   "outputs": [],
   "source": []
  },
  {
   "cell_type": "markdown",
   "metadata": {},
   "source": [
    "## Pickle"
   ]
  },
  {
   "cell_type": "code",
   "execution_count": 118,
   "metadata": {},
   "outputs": [],
   "source": [
    "with open('model', 'wb') as f:\n",
    "    pickle.dump(modelMNB, f)"
   ]
  },
  {
   "cell_type": "code",
   "execution_count": 119,
   "metadata": {},
   "outputs": [],
   "source": [
    "with open('model', 'rb') as f:\n",
    "    mp = pickle.load(f)"
   ]
  },
  {
   "cell_type": "code",
   "execution_count": 123,
   "metadata": {},
   "outputs": [],
   "source": [
    "def test(text):\n",
    "    result_cleanText = textacy.preprocess_text(text, fix_unicode=False, \n",
    "                                            lowercase=True, \n",
    "                                            no_urls=True,\n",
    "                                            no_emails=False,\n",
    "                                            no_phone_numbers=False,\n",
    "                                            no_numbers=True,\n",
    "                                            no_currency_symbols=False,\n",
    "                                            no_punct=True)\n",
    "    hasil_prediksi = mp.predict(tfidf.transform([result_cleanText]))\n",
    "    return hasil_prediksi"
   ]
  },
  {
   "cell_type": "code",
   "execution_count": 124,
   "metadata": {},
   "outputs": [
    {
     "name": "stdout",
     "output_type": "stream",
     "text": [
      "['entertainment']\n"
     ]
    }
   ],
   "source": [
    "print(test(new_title))"
   ]
  },
  {
   "cell_type": "code",
   "execution_count": null,
   "metadata": {},
   "outputs": [],
   "source": []
  },
  {
   "cell_type": "markdown",
   "metadata": {},
   "source": [
    "## Joblib"
   ]
  },
  {
   "cell_type": "code",
   "execution_count": 10,
   "metadata": {},
   "outputs": [],
   "source": [
    "from sklearn.externals import joblib"
   ]
  },
  {
   "cell_type": "code",
   "execution_count": 126,
   "metadata": {},
   "outputs": [
    {
     "data": {
      "text/plain": [
       "['model_joblib']"
      ]
     },
     "execution_count": 126,
     "metadata": {},
     "output_type": "execute_result"
    }
   ],
   "source": [
    "joblib.dump(modelMNB, 'model_joblib')"
   ]
  },
  {
   "cell_type": "code",
   "execution_count": 127,
   "metadata": {},
   "outputs": [],
   "source": [
    "mj = joblib.load('model_joblib')"
   ]
  },
  {
   "cell_type": "code",
   "execution_count": 128,
   "metadata": {},
   "outputs": [
    {
     "data": {
      "text/plain": [
       "0.8939410971223022"
      ]
     },
     "execution_count": 128,
     "metadata": {},
     "output_type": "execute_result"
    }
   ],
   "source": [
    "mj.score(X1, y_train)"
   ]
  },
  {
   "cell_type": "code",
   "execution_count": 129,
   "metadata": {},
   "outputs": [
    {
     "data": {
      "text/plain": [
       "array(['entertainment'], dtype='<U13')"
      ]
     },
     "execution_count": 129,
     "metadata": {},
     "output_type": "execute_result"
    }
   ],
   "source": [
    "mj.predict(tfidf.transform([new_title]))"
   ]
  },
  {
   "cell_type": "code",
   "execution_count": null,
   "metadata": {},
   "outputs": [],
   "source": []
  },
  {
   "cell_type": "markdown",
   "metadata": {},
   "source": [
    "## Testing"
   ]
  },
  {
   "cell_type": "code",
   "execution_count": 63,
   "metadata": {},
   "outputs": [],
   "source": [
    "import requests\n",
    "from bs4 import BeautifulSoup"
   ]
  },
  {
   "cell_type": "code",
   "execution_count": 64,
   "metadata": {},
   "outputs": [],
   "source": [
    "url = '''https://newsapi.org/v2/top-headlines?country=id&apiKey=3bb4bf323f7f43d3aaafb6bd5cd26c92'''"
   ]
  },
  {
   "cell_type": "code",
   "execution_count": 65,
   "metadata": {},
   "outputs": [],
   "source": [
    "response = requests.get(url).json()"
   ]
  },
  {
   "cell_type": "code",
   "execution_count": 66,
   "metadata": {},
   "outputs": [
    {
     "data": {
      "text/plain": [
       "{'status': 'ok',\n",
       " 'totalResults': 38,\n",
       " 'articles': [{'source': {'id': None, 'name': 'Liputan6.com'},\n",
       "   'author': 'Liputan6.com',\n",
       "   'title': 'Menjajal Earphone Realme Buds Wireless Besutan Alan Walker - Liputan6.com',\n",
       "   'description': 'Realme Buds Wireless diklaim telah disetel oleh produser sekaligus DJ Alan Walker selama masa pembuatannya.',\n",
       "   'url': 'https://www.liputan6.com/tekno/read/4091697/menjajal-earphone-realme-buds-wireless-besutan-alan-walker',\n",
       "   'urlToImage': 'https://cdn0-production-images-kly.akamaized.net/3UaE9M8n741hxvp5uOWbY9Wu6Ts=/673x379/smart/filters:quality(75):strip_icc():format(jpeg)/kly-media-production/medias/2945339/original/032213800_1571659768-20191021141204_IMG_2218.JPG',\n",
       "   'publishedAt': '2019-10-22T02:30:00Z',\n",
       "   'content': 'Liputan6.com, Jakarta - Tidak hanya menyediakan smartphone dengan kamera beresolusi tinggi melalui Realme XT, Realme juga merilis earphone nirkabel yang memanjakan telinga.\\r\\nBernama Realme Buds Wireless, earphone ini telah disetel oleh produser sekaligus DJ A… [+717 chars]'},\n",
       "  {'source': {'id': None, 'name': 'Kompas.com'},\n",
       "   'author': 'Dian Maharani',\n",
       "   'title': '5 Pengakuan Nia Ramadhani yang Bikin Heboh, Nyasar di Rumah hingga Tak Bisa Buka Salak - KOMPAS.com',\n",
       "   'description': 'Setelah menikah dengan pengusaha Ardie Bakrie, Nia Ramadhani tak lagi aktif di dunia hiburan. Namun, kehidupannya tetap menjadi sorotoan.',\n",
       "   'url': 'https://entertainment.kompas.com/read/2019/10/22/091502010/5-pengakuan-nia-ramadhani-yang-bikin-heboh-nyasar-di-rumah-hingga-tak?page=all',\n",
       "   'urlToImage': 'https://asset.kompas.com/crops/jI7jGhgID_TnN7aZBAXRs0M3tqE=/156x72:1020x648/780x390/filters:watermark(data/photo/2019/08/13/5d528bae320af.png,0,-0,1)/data/photo/2019/09/22/5d876b6c31a7a.jpeg',\n",
       "   'publishedAt': '2019-10-22T02:15:00Z',\n",
       "   'content': 'JAKARTA, KOMPAS.com- Setelah menikah dengan pengusaha Ardie Bakrie, artis peran Nia Ramadhani tak lagi aktif berkiprah di dunia hiburan Tanah Air.\\r\\n Namun, bukan berarti kisah kehidupan Nia tak lagi menjadi sorotan. \\r\\n Nia kerap menarik perhatian publik denga… [+1124 chars]'},\n",
       "  {'source': {'id': None, 'name': 'Kompas.com'},\n",
       "   'author': 'Agni Vidya Perdana',\n",
       "   'title': '[POPULER INTERNASIONAL] Gelar Selir Raja Thailand Dicopot | Singapura Buka Restoran Khusus Indomie - Internasional Kompas.com',\n",
       "   'description': 'Rangkuman berita internasional yang banyak dibaca sepanjang Senin (21/10/2019).',\n",
       "   'url': 'https://internasional.kompas.com/read/2019/10/22/08525611/populer-internasional-gelar-selir-raja-thailand-dicopot-singapura-buka?page=all',\n",
       "   'urlToImage': 'https://asset.kompas.com/crops/_2u8DEkufi-7o0a977vXJYd2geM=/57x0:614x371/780x390/filters:watermark(data/photo/2019/08/13/5d528b8341764.png,0,-0,1)/data/photo/2019/08/27/5d6495e7617e7.jpg',\n",
       "   'publishedAt': '2019-10-22T01:52:00Z',\n",
       "   'content': 'KOMPAS.com -SelirRaja Thailand dicopot dari gelarnya setelah dianggap tak setia dan tidak menghormati Raja Maha Vajiralongkorn.\\r\\nSementara di Singapura, sebuah restoran yang khusus menyajikan menu mi instan Indonesia, Indomie, disebut akan segera dibuka.\\r\\nBer… [+904 chars]'},\n",
       "  {'source': {'id': None, 'name': 'Detik.com'},\n",
       "   'author': 'Elvan Dany Sutrisno',\n",
       "   'title': 'Isu Prabowo Merapat Dapat Bintang Empat - detikNews',\n",
       "   'description': 'Prabowo Subianto sudah pasti jadi menteri pembantu Jokowi. Isu santer, Prabowo juga bakal menyandang jenderal kehormatan, alias bintang empat.',\n",
       "   'url': 'https://news.detik.com/berita/d-4755042/isu-prabowo-merapat-dapat-bintang-empat',\n",
       "   'urlToImage': 'https://awsimages.detik.net.id/api/wm/2017/10/16/f5c62f41-01ec-4ba3-9d0e-8c8f3454a215_169.jpg?wid=54&w=650&v=1&t=jpeg',\n",
       "   'publishedAt': '2019-10-22T01:16:00Z',\n",
       "   'content': 'Jakarta -\\r\\n Prabowo Subianto sudah pasti jadi menteri pembantu Jokowi. Isu santer, Prabowo juga bakal menyandang jenderal kehormatan, alias bintang empat.Jabatan tertinggi Prabowo Subianto adalah adalah Pangkostrad berpangkat Letnan Jenderal. Dengan menjabat … [+900 chars]'},\n",
       "  {'source': {'id': None, 'name': 'Tirto.id'},\n",
       "   'author': 'Rio Apinino, Andrian Pratama Taher, Bayu Septianto',\n",
       "   'title': 'Antara KPK, Jokowi, dan Gagalnya Tetty Paruntu Menjadi Menteri - tirto.id',\n",
       "   'description': 'KPK dianggap tetap mampu mempengaruhi Jokowi dalam pemilihan menteri. Ini terlihat lewat apa yang dialami Christiany Eugenia Paruntu.',\n",
       "   'url': 'https://tirto.id/antara-kpk-jokowi-dan-gagalnya-tetty-paruntu-menjadi-menteri-ej9K',\n",
       "   'urlToImage': 'https://mmc.tirto.id/image/otf/1024x535/2019/10/21/antarafoto-bupati-minahasa-selatan-paruntu-211019-wpa-1.jpg',\n",
       "   'publishedAt': '2019-10-22T01:02:43Z',\n",
       "   'content': 'tirto.id - Presiden Joko widodo memang tidak benar-benar menepati janji untuk \"memperkenalkan\" calon menteri ke publik seperti yang ia janjikan Ahad (20/10/2019) lalu. Namun, lewat mata wartawan, masyarakat tahu ada sejumlah calon menteri yang diundang ke Ist… [+3588 chars]'},\n",
       "  {'source': {'id': None, 'name': 'Okezone.com'},\n",
       "   'author': 'Ahmad Luthfi',\n",
       "   'title': 'Xiaomi Bakal Rilis 10 Ponsel Berfitur 5G di 2020 - Okezone',\n",
       "   'description': 'Xiaomi berencana untuk meluncurkan lebih dari 10 ponsel berfitur 5G pada 2020.',\n",
       "   'url': 'https://techno.okezone.com/read/2019/10/21/57/2119854/xiaomi-bakal-rilis-10-ponsel-berfitur-5g-di-2020',\n",
       "   'urlToImage': 'https://img.okezone.com/content/2019/10/21/57/2119854/xiaomi-bakal-rilis-10-ponsel-berfitur-5g-di-2020-wqQdmrpJKN.jpg',\n",
       "   'publishedAt': '2019-10-22T01:01:12Z',\n",
       "   'content': 'JAKARTA - Produsen ponsel asal China, Xiaomi berencana untuk meluncurkan lebih dari 10 ponsel berfitur 5G pada 2020. CEO Lei Jun mengatakan hal tersebut pada Minggu, berbicara di konferensi World Internet di Wuzhen, China.\\r\\nXiaomi bukanlah satu-satunya produs… [+775 chars]'},\n",
       "  {'source': {'id': None, 'name': 'Selular.id'},\n",
       "   'author': 'Khoirunnisa',\n",
       "   'title': 'Huawei Meluncurkan Nova 5z, Lebih Murah dari Nova 5T - Selular.ID',\n",
       "   'description': 'Jakarta, Selular.ID - Huawei memperkenalkan Nova 5T bulan lalu, namun di pasar domestik China, perusahaan memiliki Nova 5i Pro. Sekarang, smartphone baru diumumkan di Tiongkok, yakni Huawei Nova 5z. Ponsel tampaknya merupakan Nova 5i Pro dengan kombinasi memo…',\n",
       "   'url': 'https://selular.id/2019/10/huawei-meluncurkan-nova-5z-lebih-murah-dari-nova-5t/',\n",
       "   'urlToImage': 'https://selular.id/wp-content/uploads/2019/10/Huawei-Nova-5z.jpg',\n",
       "   'publishedAt': '2019-10-22T01:00:00Z',\n",
       "   'content': 'Jakarta, Selular.ID – Huawei memperkenalkan Nova 5T bulan lalu, namun di pasar domestik China, perusahaan memiliki Nova 5i Pro. Sekarang, smartphone baru diumumkan di Tiongkok, yakni Huawei Nova 5z.\\r\\nPonsel tampaknya merupakan Nova 5i Pro dengan kombinasi mem… [+1130 chars]'},\n",
       "  {'source': {'id': None, 'name': 'Kompas.com'},\n",
       "   'author': 'Michael Hangga Wismabrata',\n",
       "   'title': '5 Fakta Kerusuhan Pertandingan PSIM vs Persis, Mobil Polisi Dibakar hingga Sweeping Suporter - KOMPAS.com',\n",
       "   'description': 'Pertandingan PSIM vs Persis Solo berujung rusuh. Dua mobil polisi dirusak, bahkan ada satu mobil yang dibakar massa.',\n",
       "   'url': 'https://yogyakarta.kompas.com/read/2019/10/22/08000051/5-fakta-kerusuhan-pertandingan-psim-vs-persis-mobil-polisi-dibakar-hingga?page=all',\n",
       "   'urlToImage': 'https://asset.kompas.com/crops/-IvzeHcvRrRmqMsQFuyzobvsZTY=/0x36:1184x825/780x390/filters:watermark(data/photo/2019/08/13/5d528b8341764.png,0,-0,1)/data/photo/2019/10/21/5dadb2ae1816a.jpg',\n",
       "   'publishedAt': '2019-10-22T01:00:00Z',\n",
       "   'content': 'KOMPAS.com - Kerusuhan suporter terjadi saat pertandingan antara PSIM melawan Persis Solo di Stadion Mandala Krida, Kota Yogyakarta, pada Senin (21/10/2019).\\r\\nAkibatnya, dua mobil polisi dibakar massa. Sementara itu, menurut Kapolresta Yogyakarta, Kombes Pol … [+1207 chars]'},\n",
       "  {'source': {'id': None, 'name': 'Tribunnews.com'},\n",
       "   'author': 'Murhan',\n",
       "   'title': 'Utang Raffi Ahmad Setelah Pamit dari Dunia Artis Disinggung, Terkait Nasib Nagita Slavina & Rafathar - Banjarmasin Post',\n",
       "   'description': 'Utang Raffi Ahmad setelah pamitan dari dunia artis untuk sementara disinggung. Ini terkait nasib Nagita Slavina dan Rafathar.',\n",
       "   'url': 'https://banjarmasin.tribunnews.com/2019/10/22/utang-raffi-ahmad-setelah-pamit-dari-dunia-artis-disinggung-terkait-nasib-nagita-slavina-rafathar',\n",
       "   'urlToImage': 'https://cdn2.tstatic.net/banjarmasin/foto/bank/images/raffi-ahmad-dan-nagita-slavina-perjanjian-pranikah.jpg',\n",
       "   'publishedAt': '2019-10-22T00:12:28Z',\n",
       "   'content': 'BANJARMASINPOST.CO.ID - Utang Raffi\\xa0Ahmad setelah pamitan dari dunia artis untuk sementara disinggung. Ini terkait nasib Nagita\\xa0Slavina dan Rafathar.\\r\\nYa, setelah belasan tahun berkarier, akhirnya suami Nagita\\xa0Slavina, Raffi\\xa0Ahmad memutuskan untuk rehat sejen… [+1571 chars]'},\n",
       "  {'source': {'id': None, 'name': 'Cnbcindonesia.com'},\n",
       "   'author': 'tahir saleh & Anthony Kevin',\n",
       "   'title': 'Drama Hari Ke-2 Kabinet Jokowi, Asing Sudah Kabur Rp 1 T - CNBC Indonesia',\n",
       "   'description': 'Indeks Harga Saham Gabungan (IHSG) pada perdagangan Senin kemarin (21/10/2019) ditutup di zona hijau.',\n",
       "   'url': 'https://www.cnbcindonesia.com/market/20191021192443-17-108835/drama-hari-ke-2-kabinet-jokowi-asing-sudah-kabur-rp-1-t',\n",
       "   'urlToImage': 'https://awsimages.detik.net.id/visual/2019/10/20/ef8cf4da-8ee2-48f6-8145-dcd489add4a9_169.jpeg?w=650',\n",
       "   'publishedAt': '2019-10-22T00:11:05Z',\n",
       "   'content': 'Jakarta, CNBC Indonesia - Indeks Harga Saham Gabungan (IHSG) pada perdagangan Senin kemarin (21/10/2019) ditutup di zona hijau pada\\xa0akhir sesi dua, naik 0,11% ke level 6.198,99.\\xa0Saat awal pembukaan perdagangan, indeks saham acuan di Indonesia sempat menguat 0… [+1570 chars]'},\n",
       "  {'source': {'id': None, 'name': 'Detik.com'},\n",
       "   'author': 'Anggoro Suryo Jati',\n",
       "   'title': 'Kata Microsoft Soal OS Terbaik untuk Smartphone - detikInet',\n",
       "   'description': 'Microsoft menyebut Android sebagai sistem operasi paling bagus untuk produk buatannya.',\n",
       "   'url': 'https://inet.detik.com/consumer/d-4755014/kata-microsoft-soal-os-terbaik-untuk-smartphone',\n",
       "   'urlToImage': 'https://awsimages.detik.net.id/api/wm/2019/10/03/6bd3d1d6-30ba-49c8-bab2-36135a5aa086_169.jpeg?wid=54&w=650&v=1&t=jpeg',\n",
       "   'publishedAt': '2019-10-22T00:05:00Z',\n",
       "   'content': \"Jakarta - Beberapa waktu lalu Microsoft meluncurkan jajaran produk barunya, dan salah satu di antaranya adalah 'Surface phone' yang sebelumnya sudah sering diisukan akan meluncur.Ponsel Surface ini nama resminya adalah Surface Duo, mempunyai dua layar yang te… [+1375 chars]\"},\n",
       "  {'source': {'id': None, 'name': 'Cnbcindonesia.com'},\n",
       "   'author': 'Rehia Sebayang',\n",
       "   'title': 'Makin Panas, AS Ancam Serang Turki dengan Kekuatan Militer - CNBC Indonesia',\n",
       "   'description': 'Menteri Luar Negeri Amerika Serikat (AS) Mike Pompeo mengatakan Presiden Donald Trump siap menggunakan kekuatan militer terhadap Turki jika diperlukan',\n",
       "   'url': 'https://www.cnbcindonesia.com/news/20191022065750-4-108860/makin-panas-as-ancam-serang-turki-dengan-kekuatan-militer',\n",
       "   'urlToImage': 'https://awsimages.detik.net.id/visual/2019/05/23/25ae8e16-c744-491c-b01c-ad4a1818b984_169.png?w=650',\n",
       "   'publishedAt': '2019-10-22T00:04:43Z',\n",
       "   'content': 'Jakarta, CNBC Indonesia - Menteri Luar Negeri Amerika Serikat (AS) Mike Pompeo mengatakan Presiden Donald Trump siap menggunakan kekuatan militer terhadap Turki jika diperlukan. Ancaman itu dilayangkan setelah Turki melakukan serangan terhadap Kurdi di Suriah… [+1910 chars]'},\n",
       "  {'source': {'id': None, 'name': 'Kompas.com'},\n",
       "   'author': 'Resa Eka Ayu Sartika',\n",
       "   'title': 'Merunut Benih \"Perceraian\" Nasdem dengan Koalisi Jokowi - KOMPAS.com',\n",
       "   'description': 'Keharmonisan hubungan Nasdem dengan partai koalisi kini mulai menjadi sorotan',\n",
       "   'url': 'https://www.kompas.com/tren/read/2019/10/22/070000365/merunut-benih-perceraian-nasdem-dengan-koalisi-jokowi?page=all',\n",
       "   'urlToImage': 'https://asset.kompas.com/crops/UTFk7tqSszc6FlL5ErW-O_1udVA=/222x77:1144x691/780x390/filters:watermark(data/photo/2019/08/13/5d528bf23b805.png,0,-0,1)/data/photo/2019/10/20/5dac5a908e36a.jpeg',\n",
       "   'publishedAt': '2019-10-22T00:00:00Z',\n",
       "   'content': 'KOMPAS.com - Sejak pemilihan presiden 2014 lalu, Partai Nasional Demokrasi ( Nasdem) masuk dalam koalisi Indonesia Kerja untuk memenangkan Jokowi.\\r\\nDukungan itu pun berlanjut hingga pemelihan presiden 2019 lalu.\\r\\nNamun, keharmonisan hubungan Nasdem dengan par… [+991 chars]'},\n",
       "  {'source': {'id': None, 'name': 'Cnbcindonesia.com'},\n",
       "   'author': 'Putu Agus Pransuamitra',\n",
       "   'title': 'Berat! Harga Emas Makin Amblas, Sudah Tak Menarik - CNBC Indonesia',\n",
       "   'description': 'Pagi ini hingga pukul 06.30 WIB harga emas terkoreksi 0,11% ke level US$ 1.486,55/Oz berdasarkan data investing.com.',\n",
       "   'url': 'https://www.cnbcindonesia.com/market/20191022062344-17-108857/berat-harga-emas-makin-amblas-sudah-tak-menarik',\n",
       "   'urlToImage': 'https://awsimages.detik.net.id/visual/2019/07/25/fb1a1d8b-0aa5-4870-89ee-39d13aa18629_169.jpeg?w=650',\n",
       "   'publishedAt': '2019-10-21T23:35:59Z',\n",
       "   'content': 'Jakarta, CNBC Indonesia - Harga emas dunia masih benar-benar tak kuat untuk menembus level US$ 1.500/troy ounce (Oz). Pagi ini hingga pukul 06.30 WIB harga emas terkoreksi 0,11% ke level US$ 1.486,55/Oz berdasarkan data www.investing.com. Jika melihat lebih k… [+2999 chars]'},\n",
       "  {'source': {'id': None, 'name': 'Kontan.co.id'},\n",
       "   'author': 'kompas.com',\n",
       "   'title': 'Gojek akan segera mengakhiri era bakar uang, seperti apa strateginya? - Investasi Kontan',\n",
       "   'description': 'Perusahaan aplikasi Gojek bakal mengakhiri era &quot;bakar uang&quot;.',\n",
       "   'url': 'https://industri.kontan.co.id/news/gojek-akan-segera-mengakhiri-era-bakar-uang-seperti-apa-strateginya',\n",
       "   'urlToImage': 'https://photo.kontan.co.id/photo/2019/09/09/1023651531p.jpg',\n",
       "   'publishedAt': '2019-10-21T23:23:29Z',\n",
       "   'content': 'KONTAN.CO.ID - JAKARTA. Perusahaan aplikasi Gojek bakal mengakhiri era \"bakar uang\" karena ujung sebuah bisnis adalah pencapaian profit serta mampu menjalankan usaha secara sehat dan berkelanjutan. \\r\\n\"Setiap perusahaan, termasuk para founder Gojek, juga berke… [+1865 chars]'},\n",
       "  {'source': {'id': None, 'name': 'Kompas.com'},\n",
       "   'author': 'Bayu Galih',\n",
       "   'title': 'Prabowo Diminta Jadi Menteri Jokowi, Ini Respons para Elite Parpol Halaman all - Kompas.com - Kilas Daerah Kompas.com',\n",
       "   'description': \"Prabowo menyebut ia akan membantu kabinet Jokowi-Ma'ruf di bidang pertahanan. Bagaimana tanggapan elite parpol? Halaman all\",\n",
       "   'url': 'https://nasional.kompas.com/read/2019/10/22/06090561/prabowo-diminta-jadi-menteri-jokowi-ini-respons-para-elite-parpol?page=all',\n",
       "   'urlToImage': 'https://asset.kompas.com/crops/QXsRAhqbXPwKQqKiM5nTGznrKJ4=/0x0:999x666/780x390/filters:watermark(data/photo/2019/08/13/5d528b8341764.png,0,-0,1)/data/photo/2019/10/21/5dada28a4661d.jpg',\n",
       "   'publishedAt': '2019-10-21T23:09:00Z',\n",
       "   'content': \"JAKARTA, KOMPAS.com - Ketua Umum Partai GerindraPrabowo Subianto mengaku diminta untuk masuk ke kabinet Joko Widodo-Ma'ruf Amin.\\r\\nMeski tak menyebut spesifik pos menteri yang akan ia emban, namun Prabowo menyebut ia akan membantu kabinet Jokowi-Ma'ruf di bida… [+4692 chars]\"},\n",
       "  {'source': {'id': None, 'name': 'Cnnindonesia.com'},\n",
       "   'author': None,\n",
       "   'title': 'NASA Sebut Perempuan Akan Jadi Manusia Pertama di Mars - CNN Indonesia',\n",
       "   'description': 'NASA menyebut pihaknya bakal menempatkan astronaut perempuan untuk misi ke Mars pada 2033 mendatang.',\n",
       "   'url': 'https://www.cnnindonesia.com/teknologi/20191021073107-199-441377/nasa-sebut-perempuan-akan-jadi-manusia-pertama-di-mars',\n",
       "   'urlToImage': 'https://awsimages.detik.net.id/visual/2019/10/20/5bd0fe4b-5863-44b7-9a4e-d60e4c5fc014_169.jpeg?w=650',\n",
       "   'publishedAt': '2019-10-21T23:01:47Z',\n",
       "   'content': 'Jakarta, CNN Indonesia -- Badan Antariksa Amerika Serikat (NASA) menyebut pihaknya bakal menempatkan astronaut perempuan untuk misi ke\\xa0Mars pada 2033 mendatang.Hal itu disampaikan Administrator NASA Jim Bridenstine saat mengumumkan dua astronaut perempuan ber… [+2390 chars]'},\n",
       "  {'source': {'id': None, 'name': 'Kompas.com'},\n",
       "   'author': 'Resa Eka Ayu Sartika',\n",
       "   'title': '3 Hal Menarik dari Pertemuan Jokowi dan Para Calon Menteri di Istana - Kompas.com - KOMPAS.com',\n",
       "   'description': 'Nama menteri dalam kabinet Jokowi menjadi pertanyaan publik. Sejumlah tokoh hadir dari Nadiem Makarim hingga Prabowo',\n",
       "   'url': 'https://www.kompas.com/tren/read/2019/10/22/060000665/3-hal-menarik-dari-pertemuan-jokowi-dan-para-calon-menteri-di-istana?page=all',\n",
       "   'urlToImage': 'https://asset.kompas.com/crops/Q7uQ-kKwdIwY0PhTyDpm_guhMBc=/0x0:940x627/780x390/filters:watermark(data/photo/2019/08/13/5d528bf23b805.png,0,-0,1)/data/photo/2019/10/16/5da6d46663528.jpg',\n",
       "   'publishedAt': '2019-10-21T23:00:00Z',\n",
       "   'content': 'KOMPAS.com – Nama-nama menteri yang akan terpilih masuk ke dalam kabinet Jokowi ramai menarik rasa penasaran pubik.\\r\\nSejumlah tokoh satu persatu terlihat menyapa Istana pada Senin (21/10/2019).\\r\\nMenariknya, meskipun para tokoh tersebut adalah sosok-sosok yang… [+1074 chars]'},\n",
       "  {'source': {'id': None, 'name': 'Detik.com'},\n",
       "   'author': 'Fino Yurio Kristo',\n",
       "   'title': 'Nadiem Makarim Calon Menteri Termuda Jokowi? - detikInet',\n",
       "   'description': 'Nadiem Makarim berpotensi menjadi salah satu menteri dengan usia paling muda, kalau tidak yang termuda di kabinet baru presiden Joko Widodo.',\n",
       "   'url': 'https://inet.detik.com/cyberlife/d-4754995/nadiem-makarim-calon-menteri-termuda-jokowi',\n",
       "   'urlToImage': 'https://awsimages.detik.net.id/api/wm/2015/08/27/e0c78413-e6e6-4883-b0db-06802916e2a9_169.jpg?wid=54&w=650&v=1&t=jpeg',\n",
       "   'publishedAt': '2019-10-21T22:55:55Z',\n",
       "   'content': 'Jakarta - Pendiri Gojek, Nadiem Makarim berpotensi menjadi salah satu menteri dengan usia paling muda, kalau tidak yang termuda di kabinet baru presiden Joko Widodo. Berapa umurnya sekarang?Nadiem Anwar Makarim lahir di Singapura pada 4 Juli 1984 dari pasanga… [+1117 chars]'},\n",
       "  {'source': {'id': None, 'name': 'Tempo.co'},\n",
       "   'author': 'Moh Khory Alfarizi',\n",
       "   'title': 'NASA Awasi Asteroid Raksasa Mendekati Bumi Bulan Depan - Tempo',\n",
       "   'description': 'Dengan diameter 650 meter, asteroid itu diklasifikasikan sebagai asteroid Apollo, kelas asteroid paling berbahaya.',\n",
       "   'url': 'https://tekno.tempo.co/read/1262566/nasa-awasi-asteroid-raksasa-mendekati-bumi-bulan-depan',\n",
       "   'urlToImage': 'https://statik.tempo.co/data/2018/11/11/id_796235/796235_720.jpg',\n",
       "   'publishedAt': '2019-10-21T17:05:00Z',\n",
       "   'content': None}]}"
      ]
     },
     "execution_count": 66,
     "metadata": {},
     "output_type": "execute_result"
    }
   ],
   "source": [
    "response"
   ]
  },
  {
   "cell_type": "code",
   "execution_count": 67,
   "metadata": {
    "scrolled": true
   },
   "outputs": [
    {
     "name": "stdout",
     "output_type": "stream",
     "text": [
      "{'id': None, 'name': 'Liputan6.com'}\n",
      "{'id': None, 'name': 'Kompas.com'}\n",
      "{'id': None, 'name': 'Kompas.com'}\n",
      "{'id': None, 'name': 'Detik.com'}\n",
      "{'id': None, 'name': 'Tirto.id'}\n",
      "{'id': None, 'name': 'Okezone.com'}\n",
      "{'id': None, 'name': 'Selular.id'}\n",
      "{'id': None, 'name': 'Kompas.com'}\n",
      "{'id': None, 'name': 'Tribunnews.com'}\n",
      "{'id': None, 'name': 'Cnbcindonesia.com'}\n",
      "{'id': None, 'name': 'Detik.com'}\n",
      "{'id': None, 'name': 'Cnbcindonesia.com'}\n",
      "{'id': None, 'name': 'Kompas.com'}\n",
      "{'id': None, 'name': 'Cnbcindonesia.com'}\n",
      "{'id': None, 'name': 'Kontan.co.id'}\n",
      "{'id': None, 'name': 'Kompas.com'}\n",
      "{'id': None, 'name': 'Cnnindonesia.com'}\n",
      "{'id': None, 'name': 'Kompas.com'}\n",
      "{'id': None, 'name': 'Detik.com'}\n",
      "{'id': None, 'name': 'Tempo.co'}\n"
     ]
    }
   ],
   "source": [
    "temp = []\n",
    "for r in response['articles']:\n",
    "    print(r['source'])\n",
    "    temp.append(r)"
   ]
  },
  {
   "cell_type": "code",
   "execution_count": 68,
   "metadata": {},
   "outputs": [
    {
     "data": {
      "text/plain": [
       "[{'source': {'id': None, 'name': 'Liputan6.com'},\n",
       "  'author': 'Liputan6.com',\n",
       "  'title': 'Menjajal Earphone Realme Buds Wireless Besutan Alan Walker - Liputan6.com',\n",
       "  'description': 'Realme Buds Wireless diklaim telah disetel oleh produser sekaligus DJ Alan Walker selama masa pembuatannya.',\n",
       "  'url': 'https://www.liputan6.com/tekno/read/4091697/menjajal-earphone-realme-buds-wireless-besutan-alan-walker',\n",
       "  'urlToImage': 'https://cdn0-production-images-kly.akamaized.net/3UaE9M8n741hxvp5uOWbY9Wu6Ts=/673x379/smart/filters:quality(75):strip_icc():format(jpeg)/kly-media-production/medias/2945339/original/032213800_1571659768-20191021141204_IMG_2218.JPG',\n",
       "  'publishedAt': '2019-10-22T02:30:00Z',\n",
       "  'content': 'Liputan6.com, Jakarta - Tidak hanya menyediakan smartphone dengan kamera beresolusi tinggi melalui Realme XT, Realme juga merilis earphone nirkabel yang memanjakan telinga.\\r\\nBernama Realme Buds Wireless, earphone ini telah disetel oleh produser sekaligus DJ A… [+717 chars]'},\n",
       " {'source': {'id': None, 'name': 'Kompas.com'},\n",
       "  'author': 'Dian Maharani',\n",
       "  'title': '5 Pengakuan Nia Ramadhani yang Bikin Heboh, Nyasar di Rumah hingga Tak Bisa Buka Salak - KOMPAS.com',\n",
       "  'description': 'Setelah menikah dengan pengusaha Ardie Bakrie, Nia Ramadhani tak lagi aktif di dunia hiburan. Namun, kehidupannya tetap menjadi sorotoan.',\n",
       "  'url': 'https://entertainment.kompas.com/read/2019/10/22/091502010/5-pengakuan-nia-ramadhani-yang-bikin-heboh-nyasar-di-rumah-hingga-tak?page=all',\n",
       "  'urlToImage': 'https://asset.kompas.com/crops/jI7jGhgID_TnN7aZBAXRs0M3tqE=/156x72:1020x648/780x390/filters:watermark(data/photo/2019/08/13/5d528bae320af.png,0,-0,1)/data/photo/2019/09/22/5d876b6c31a7a.jpeg',\n",
       "  'publishedAt': '2019-10-22T02:15:00Z',\n",
       "  'content': 'JAKARTA, KOMPAS.com- Setelah menikah dengan pengusaha Ardie Bakrie, artis peran Nia Ramadhani tak lagi aktif berkiprah di dunia hiburan Tanah Air.\\r\\n Namun, bukan berarti kisah kehidupan Nia tak lagi menjadi sorotan. \\r\\n Nia kerap menarik perhatian publik denga… [+1124 chars]'},\n",
       " {'source': {'id': None, 'name': 'Kompas.com'},\n",
       "  'author': 'Agni Vidya Perdana',\n",
       "  'title': '[POPULER INTERNASIONAL] Gelar Selir Raja Thailand Dicopot | Singapura Buka Restoran Khusus Indomie - Internasional Kompas.com',\n",
       "  'description': 'Rangkuman berita internasional yang banyak dibaca sepanjang Senin (21/10/2019).',\n",
       "  'url': 'https://internasional.kompas.com/read/2019/10/22/08525611/populer-internasional-gelar-selir-raja-thailand-dicopot-singapura-buka?page=all',\n",
       "  'urlToImage': 'https://asset.kompas.com/crops/_2u8DEkufi-7o0a977vXJYd2geM=/57x0:614x371/780x390/filters:watermark(data/photo/2019/08/13/5d528b8341764.png,0,-0,1)/data/photo/2019/08/27/5d6495e7617e7.jpg',\n",
       "  'publishedAt': '2019-10-22T01:52:00Z',\n",
       "  'content': 'KOMPAS.com -SelirRaja Thailand dicopot dari gelarnya setelah dianggap tak setia dan tidak menghormati Raja Maha Vajiralongkorn.\\r\\nSementara di Singapura, sebuah restoran yang khusus menyajikan menu mi instan Indonesia, Indomie, disebut akan segera dibuka.\\r\\nBer… [+904 chars]'},\n",
       " {'source': {'id': None, 'name': 'Detik.com'},\n",
       "  'author': 'Elvan Dany Sutrisno',\n",
       "  'title': 'Isu Prabowo Merapat Dapat Bintang Empat - detikNews',\n",
       "  'description': 'Prabowo Subianto sudah pasti jadi menteri pembantu Jokowi. Isu santer, Prabowo juga bakal menyandang jenderal kehormatan, alias bintang empat.',\n",
       "  'url': 'https://news.detik.com/berita/d-4755042/isu-prabowo-merapat-dapat-bintang-empat',\n",
       "  'urlToImage': 'https://awsimages.detik.net.id/api/wm/2017/10/16/f5c62f41-01ec-4ba3-9d0e-8c8f3454a215_169.jpg?wid=54&w=650&v=1&t=jpeg',\n",
       "  'publishedAt': '2019-10-22T01:16:00Z',\n",
       "  'content': 'Jakarta -\\r\\n Prabowo Subianto sudah pasti jadi menteri pembantu Jokowi. Isu santer, Prabowo juga bakal menyandang jenderal kehormatan, alias bintang empat.Jabatan tertinggi Prabowo Subianto adalah adalah Pangkostrad berpangkat Letnan Jenderal. Dengan menjabat … [+900 chars]'},\n",
       " {'source': {'id': None, 'name': 'Tirto.id'},\n",
       "  'author': 'Rio Apinino, Andrian Pratama Taher, Bayu Septianto',\n",
       "  'title': 'Antara KPK, Jokowi, dan Gagalnya Tetty Paruntu Menjadi Menteri - tirto.id',\n",
       "  'description': 'KPK dianggap tetap mampu mempengaruhi Jokowi dalam pemilihan menteri. Ini terlihat lewat apa yang dialami Christiany Eugenia Paruntu.',\n",
       "  'url': 'https://tirto.id/antara-kpk-jokowi-dan-gagalnya-tetty-paruntu-menjadi-menteri-ej9K',\n",
       "  'urlToImage': 'https://mmc.tirto.id/image/otf/1024x535/2019/10/21/antarafoto-bupati-minahasa-selatan-paruntu-211019-wpa-1.jpg',\n",
       "  'publishedAt': '2019-10-22T01:02:43Z',\n",
       "  'content': 'tirto.id - Presiden Joko widodo memang tidak benar-benar menepati janji untuk \"memperkenalkan\" calon menteri ke publik seperti yang ia janjikan Ahad (20/10/2019) lalu. Namun, lewat mata wartawan, masyarakat tahu ada sejumlah calon menteri yang diundang ke Ist… [+3588 chars]'},\n",
       " {'source': {'id': None, 'name': 'Okezone.com'},\n",
       "  'author': 'Ahmad Luthfi',\n",
       "  'title': 'Xiaomi Bakal Rilis 10 Ponsel Berfitur 5G di 2020 - Okezone',\n",
       "  'description': 'Xiaomi berencana untuk meluncurkan lebih dari 10 ponsel berfitur 5G pada 2020.',\n",
       "  'url': 'https://techno.okezone.com/read/2019/10/21/57/2119854/xiaomi-bakal-rilis-10-ponsel-berfitur-5g-di-2020',\n",
       "  'urlToImage': 'https://img.okezone.com/content/2019/10/21/57/2119854/xiaomi-bakal-rilis-10-ponsel-berfitur-5g-di-2020-wqQdmrpJKN.jpg',\n",
       "  'publishedAt': '2019-10-22T01:01:12Z',\n",
       "  'content': 'JAKARTA - Produsen ponsel asal China, Xiaomi berencana untuk meluncurkan lebih dari 10 ponsel berfitur 5G pada 2020. CEO Lei Jun mengatakan hal tersebut pada Minggu, berbicara di konferensi World Internet di Wuzhen, China.\\r\\nXiaomi bukanlah satu-satunya produs… [+775 chars]'},\n",
       " {'source': {'id': None, 'name': 'Selular.id'},\n",
       "  'author': 'Khoirunnisa',\n",
       "  'title': 'Huawei Meluncurkan Nova 5z, Lebih Murah dari Nova 5T - Selular.ID',\n",
       "  'description': 'Jakarta, Selular.ID - Huawei memperkenalkan Nova 5T bulan lalu, namun di pasar domestik China, perusahaan memiliki Nova 5i Pro. Sekarang, smartphone baru diumumkan di Tiongkok, yakni Huawei Nova 5z. Ponsel tampaknya merupakan Nova 5i Pro dengan kombinasi memo…',\n",
       "  'url': 'https://selular.id/2019/10/huawei-meluncurkan-nova-5z-lebih-murah-dari-nova-5t/',\n",
       "  'urlToImage': 'https://selular.id/wp-content/uploads/2019/10/Huawei-Nova-5z.jpg',\n",
       "  'publishedAt': '2019-10-22T01:00:00Z',\n",
       "  'content': 'Jakarta, Selular.ID – Huawei memperkenalkan Nova 5T bulan lalu, namun di pasar domestik China, perusahaan memiliki Nova 5i Pro. Sekarang, smartphone baru diumumkan di Tiongkok, yakni Huawei Nova 5z.\\r\\nPonsel tampaknya merupakan Nova 5i Pro dengan kombinasi mem… [+1130 chars]'},\n",
       " {'source': {'id': None, 'name': 'Kompas.com'},\n",
       "  'author': 'Michael Hangga Wismabrata',\n",
       "  'title': '5 Fakta Kerusuhan Pertandingan PSIM vs Persis, Mobil Polisi Dibakar hingga Sweeping Suporter - KOMPAS.com',\n",
       "  'description': 'Pertandingan PSIM vs Persis Solo berujung rusuh. Dua mobil polisi dirusak, bahkan ada satu mobil yang dibakar massa.',\n",
       "  'url': 'https://yogyakarta.kompas.com/read/2019/10/22/08000051/5-fakta-kerusuhan-pertandingan-psim-vs-persis-mobil-polisi-dibakar-hingga?page=all',\n",
       "  'urlToImage': 'https://asset.kompas.com/crops/-IvzeHcvRrRmqMsQFuyzobvsZTY=/0x36:1184x825/780x390/filters:watermark(data/photo/2019/08/13/5d528b8341764.png,0,-0,1)/data/photo/2019/10/21/5dadb2ae1816a.jpg',\n",
       "  'publishedAt': '2019-10-22T01:00:00Z',\n",
       "  'content': 'KOMPAS.com - Kerusuhan suporter terjadi saat pertandingan antara PSIM melawan Persis Solo di Stadion Mandala Krida, Kota Yogyakarta, pada Senin (21/10/2019).\\r\\nAkibatnya, dua mobil polisi dibakar massa. Sementara itu, menurut Kapolresta Yogyakarta, Kombes Pol … [+1207 chars]'},\n",
       " {'source': {'id': None, 'name': 'Tribunnews.com'},\n",
       "  'author': 'Murhan',\n",
       "  'title': 'Utang Raffi Ahmad Setelah Pamit dari Dunia Artis Disinggung, Terkait Nasib Nagita Slavina & Rafathar - Banjarmasin Post',\n",
       "  'description': 'Utang Raffi Ahmad setelah pamitan dari dunia artis untuk sementara disinggung. Ini terkait nasib Nagita Slavina dan Rafathar.',\n",
       "  'url': 'https://banjarmasin.tribunnews.com/2019/10/22/utang-raffi-ahmad-setelah-pamit-dari-dunia-artis-disinggung-terkait-nasib-nagita-slavina-rafathar',\n",
       "  'urlToImage': 'https://cdn2.tstatic.net/banjarmasin/foto/bank/images/raffi-ahmad-dan-nagita-slavina-perjanjian-pranikah.jpg',\n",
       "  'publishedAt': '2019-10-22T00:12:28Z',\n",
       "  'content': 'BANJARMASINPOST.CO.ID - Utang Raffi\\xa0Ahmad setelah pamitan dari dunia artis untuk sementara disinggung. Ini terkait nasib Nagita\\xa0Slavina dan Rafathar.\\r\\nYa, setelah belasan tahun berkarier, akhirnya suami Nagita\\xa0Slavina, Raffi\\xa0Ahmad memutuskan untuk rehat sejen… [+1571 chars]'},\n",
       " {'source': {'id': None, 'name': 'Cnbcindonesia.com'},\n",
       "  'author': 'tahir saleh & Anthony Kevin',\n",
       "  'title': 'Drama Hari Ke-2 Kabinet Jokowi, Asing Sudah Kabur Rp 1 T - CNBC Indonesia',\n",
       "  'description': 'Indeks Harga Saham Gabungan (IHSG) pada perdagangan Senin kemarin (21/10/2019) ditutup di zona hijau.',\n",
       "  'url': 'https://www.cnbcindonesia.com/market/20191021192443-17-108835/drama-hari-ke-2-kabinet-jokowi-asing-sudah-kabur-rp-1-t',\n",
       "  'urlToImage': 'https://awsimages.detik.net.id/visual/2019/10/20/ef8cf4da-8ee2-48f6-8145-dcd489add4a9_169.jpeg?w=650',\n",
       "  'publishedAt': '2019-10-22T00:11:05Z',\n",
       "  'content': 'Jakarta, CNBC Indonesia - Indeks Harga Saham Gabungan (IHSG) pada perdagangan Senin kemarin (21/10/2019) ditutup di zona hijau pada\\xa0akhir sesi dua, naik 0,11% ke level 6.198,99.\\xa0Saat awal pembukaan perdagangan, indeks saham acuan di Indonesia sempat menguat 0… [+1570 chars]'},\n",
       " {'source': {'id': None, 'name': 'Detik.com'},\n",
       "  'author': 'Anggoro Suryo Jati',\n",
       "  'title': 'Kata Microsoft Soal OS Terbaik untuk Smartphone - detikInet',\n",
       "  'description': 'Microsoft menyebut Android sebagai sistem operasi paling bagus untuk produk buatannya.',\n",
       "  'url': 'https://inet.detik.com/consumer/d-4755014/kata-microsoft-soal-os-terbaik-untuk-smartphone',\n",
       "  'urlToImage': 'https://awsimages.detik.net.id/api/wm/2019/10/03/6bd3d1d6-30ba-49c8-bab2-36135a5aa086_169.jpeg?wid=54&w=650&v=1&t=jpeg',\n",
       "  'publishedAt': '2019-10-22T00:05:00Z',\n",
       "  'content': \"Jakarta - Beberapa waktu lalu Microsoft meluncurkan jajaran produk barunya, dan salah satu di antaranya adalah 'Surface phone' yang sebelumnya sudah sering diisukan akan meluncur.Ponsel Surface ini nama resminya adalah Surface Duo, mempunyai dua layar yang te… [+1375 chars]\"},\n",
       " {'source': {'id': None, 'name': 'Cnbcindonesia.com'},\n",
       "  'author': 'Rehia Sebayang',\n",
       "  'title': 'Makin Panas, AS Ancam Serang Turki dengan Kekuatan Militer - CNBC Indonesia',\n",
       "  'description': 'Menteri Luar Negeri Amerika Serikat (AS) Mike Pompeo mengatakan Presiden Donald Trump siap menggunakan kekuatan militer terhadap Turki jika diperlukan',\n",
       "  'url': 'https://www.cnbcindonesia.com/news/20191022065750-4-108860/makin-panas-as-ancam-serang-turki-dengan-kekuatan-militer',\n",
       "  'urlToImage': 'https://awsimages.detik.net.id/visual/2019/05/23/25ae8e16-c744-491c-b01c-ad4a1818b984_169.png?w=650',\n",
       "  'publishedAt': '2019-10-22T00:04:43Z',\n",
       "  'content': 'Jakarta, CNBC Indonesia - Menteri Luar Negeri Amerika Serikat (AS) Mike Pompeo mengatakan Presiden Donald Trump siap menggunakan kekuatan militer terhadap Turki jika diperlukan. Ancaman itu dilayangkan setelah Turki melakukan serangan terhadap Kurdi di Suriah… [+1910 chars]'},\n",
       " {'source': {'id': None, 'name': 'Kompas.com'},\n",
       "  'author': 'Resa Eka Ayu Sartika',\n",
       "  'title': 'Merunut Benih \"Perceraian\" Nasdem dengan Koalisi Jokowi - KOMPAS.com',\n",
       "  'description': 'Keharmonisan hubungan Nasdem dengan partai koalisi kini mulai menjadi sorotan',\n",
       "  'url': 'https://www.kompas.com/tren/read/2019/10/22/070000365/merunut-benih-perceraian-nasdem-dengan-koalisi-jokowi?page=all',\n",
       "  'urlToImage': 'https://asset.kompas.com/crops/UTFk7tqSszc6FlL5ErW-O_1udVA=/222x77:1144x691/780x390/filters:watermark(data/photo/2019/08/13/5d528bf23b805.png,0,-0,1)/data/photo/2019/10/20/5dac5a908e36a.jpeg',\n",
       "  'publishedAt': '2019-10-22T00:00:00Z',\n",
       "  'content': 'KOMPAS.com - Sejak pemilihan presiden 2014 lalu, Partai Nasional Demokrasi ( Nasdem) masuk dalam koalisi Indonesia Kerja untuk memenangkan Jokowi.\\r\\nDukungan itu pun berlanjut hingga pemelihan presiden 2019 lalu.\\r\\nNamun, keharmonisan hubungan Nasdem dengan par… [+991 chars]'},\n",
       " {'source': {'id': None, 'name': 'Cnbcindonesia.com'},\n",
       "  'author': 'Putu Agus Pransuamitra',\n",
       "  'title': 'Berat! Harga Emas Makin Amblas, Sudah Tak Menarik - CNBC Indonesia',\n",
       "  'description': 'Pagi ini hingga pukul 06.30 WIB harga emas terkoreksi 0,11% ke level US$ 1.486,55/Oz berdasarkan data investing.com.',\n",
       "  'url': 'https://www.cnbcindonesia.com/market/20191022062344-17-108857/berat-harga-emas-makin-amblas-sudah-tak-menarik',\n",
       "  'urlToImage': 'https://awsimages.detik.net.id/visual/2019/07/25/fb1a1d8b-0aa5-4870-89ee-39d13aa18629_169.jpeg?w=650',\n",
       "  'publishedAt': '2019-10-21T23:35:59Z',\n",
       "  'content': 'Jakarta, CNBC Indonesia - Harga emas dunia masih benar-benar tak kuat untuk menembus level US$ 1.500/troy ounce (Oz). Pagi ini hingga pukul 06.30 WIB harga emas terkoreksi 0,11% ke level US$ 1.486,55/Oz berdasarkan data www.investing.com. Jika melihat lebih k… [+2999 chars]'},\n",
       " {'source': {'id': None, 'name': 'Kontan.co.id'},\n",
       "  'author': 'kompas.com',\n",
       "  'title': 'Gojek akan segera mengakhiri era bakar uang, seperti apa strateginya? - Investasi Kontan',\n",
       "  'description': 'Perusahaan aplikasi Gojek bakal mengakhiri era &quot;bakar uang&quot;.',\n",
       "  'url': 'https://industri.kontan.co.id/news/gojek-akan-segera-mengakhiri-era-bakar-uang-seperti-apa-strateginya',\n",
       "  'urlToImage': 'https://photo.kontan.co.id/photo/2019/09/09/1023651531p.jpg',\n",
       "  'publishedAt': '2019-10-21T23:23:29Z',\n",
       "  'content': 'KONTAN.CO.ID - JAKARTA. Perusahaan aplikasi Gojek bakal mengakhiri era \"bakar uang\" karena ujung sebuah bisnis adalah pencapaian profit serta mampu menjalankan usaha secara sehat dan berkelanjutan. \\r\\n\"Setiap perusahaan, termasuk para founder Gojek, juga berke… [+1865 chars]'},\n",
       " {'source': {'id': None, 'name': 'Kompas.com'},\n",
       "  'author': 'Bayu Galih',\n",
       "  'title': 'Prabowo Diminta Jadi Menteri Jokowi, Ini Respons para Elite Parpol Halaman all - Kompas.com - Kilas Daerah Kompas.com',\n",
       "  'description': \"Prabowo menyebut ia akan membantu kabinet Jokowi-Ma'ruf di bidang pertahanan. Bagaimana tanggapan elite parpol? Halaman all\",\n",
       "  'url': 'https://nasional.kompas.com/read/2019/10/22/06090561/prabowo-diminta-jadi-menteri-jokowi-ini-respons-para-elite-parpol?page=all',\n",
       "  'urlToImage': 'https://asset.kompas.com/crops/QXsRAhqbXPwKQqKiM5nTGznrKJ4=/0x0:999x666/780x390/filters:watermark(data/photo/2019/08/13/5d528b8341764.png,0,-0,1)/data/photo/2019/10/21/5dada28a4661d.jpg',\n",
       "  'publishedAt': '2019-10-21T23:09:00Z',\n",
       "  'content': \"JAKARTA, KOMPAS.com - Ketua Umum Partai GerindraPrabowo Subianto mengaku diminta untuk masuk ke kabinet Joko Widodo-Ma'ruf Amin.\\r\\nMeski tak menyebut spesifik pos menteri yang akan ia emban, namun Prabowo menyebut ia akan membantu kabinet Jokowi-Ma'ruf di bida… [+4692 chars]\"},\n",
       " {'source': {'id': None, 'name': 'Cnnindonesia.com'},\n",
       "  'author': None,\n",
       "  'title': 'NASA Sebut Perempuan Akan Jadi Manusia Pertama di Mars - CNN Indonesia',\n",
       "  'description': 'NASA menyebut pihaknya bakal menempatkan astronaut perempuan untuk misi ke Mars pada 2033 mendatang.',\n",
       "  'url': 'https://www.cnnindonesia.com/teknologi/20191021073107-199-441377/nasa-sebut-perempuan-akan-jadi-manusia-pertama-di-mars',\n",
       "  'urlToImage': 'https://awsimages.detik.net.id/visual/2019/10/20/5bd0fe4b-5863-44b7-9a4e-d60e4c5fc014_169.jpeg?w=650',\n",
       "  'publishedAt': '2019-10-21T23:01:47Z',\n",
       "  'content': 'Jakarta, CNN Indonesia -- Badan Antariksa Amerika Serikat (NASA) menyebut pihaknya bakal menempatkan astronaut perempuan untuk misi ke\\xa0Mars pada 2033 mendatang.Hal itu disampaikan Administrator NASA Jim Bridenstine saat mengumumkan dua astronaut perempuan ber… [+2390 chars]'},\n",
       " {'source': {'id': None, 'name': 'Kompas.com'},\n",
       "  'author': 'Resa Eka Ayu Sartika',\n",
       "  'title': '3 Hal Menarik dari Pertemuan Jokowi dan Para Calon Menteri di Istana - Kompas.com - KOMPAS.com',\n",
       "  'description': 'Nama menteri dalam kabinet Jokowi menjadi pertanyaan publik. Sejumlah tokoh hadir dari Nadiem Makarim hingga Prabowo',\n",
       "  'url': 'https://www.kompas.com/tren/read/2019/10/22/060000665/3-hal-menarik-dari-pertemuan-jokowi-dan-para-calon-menteri-di-istana?page=all',\n",
       "  'urlToImage': 'https://asset.kompas.com/crops/Q7uQ-kKwdIwY0PhTyDpm_guhMBc=/0x0:940x627/780x390/filters:watermark(data/photo/2019/08/13/5d528bf23b805.png,0,-0,1)/data/photo/2019/10/16/5da6d46663528.jpg',\n",
       "  'publishedAt': '2019-10-21T23:00:00Z',\n",
       "  'content': 'KOMPAS.com – Nama-nama menteri yang akan terpilih masuk ke dalam kabinet Jokowi ramai menarik rasa penasaran pubik.\\r\\nSejumlah tokoh satu persatu terlihat menyapa Istana pada Senin (21/10/2019).\\r\\nMenariknya, meskipun para tokoh tersebut adalah sosok-sosok yang… [+1074 chars]'},\n",
       " {'source': {'id': None, 'name': 'Detik.com'},\n",
       "  'author': 'Fino Yurio Kristo',\n",
       "  'title': 'Nadiem Makarim Calon Menteri Termuda Jokowi? - detikInet',\n",
       "  'description': 'Nadiem Makarim berpotensi menjadi salah satu menteri dengan usia paling muda, kalau tidak yang termuda di kabinet baru presiden Joko Widodo.',\n",
       "  'url': 'https://inet.detik.com/cyberlife/d-4754995/nadiem-makarim-calon-menteri-termuda-jokowi',\n",
       "  'urlToImage': 'https://awsimages.detik.net.id/api/wm/2015/08/27/e0c78413-e6e6-4883-b0db-06802916e2a9_169.jpg?wid=54&w=650&v=1&t=jpeg',\n",
       "  'publishedAt': '2019-10-21T22:55:55Z',\n",
       "  'content': 'Jakarta - Pendiri Gojek, Nadiem Makarim berpotensi menjadi salah satu menteri dengan usia paling muda, kalau tidak yang termuda di kabinet baru presiden Joko Widodo. Berapa umurnya sekarang?Nadiem Anwar Makarim lahir di Singapura pada 4 Juli 1984 dari pasanga… [+1117 chars]'},\n",
       " {'source': {'id': None, 'name': 'Tempo.co'},\n",
       "  'author': 'Moh Khory Alfarizi',\n",
       "  'title': 'NASA Awasi Asteroid Raksasa Mendekati Bumi Bulan Depan - Tempo',\n",
       "  'description': 'Dengan diameter 650 meter, asteroid itu diklasifikasikan sebagai asteroid Apollo, kelas asteroid paling berbahaya.',\n",
       "  'url': 'https://tekno.tempo.co/read/1262566/nasa-awasi-asteroid-raksasa-mendekati-bumi-bulan-depan',\n",
       "  'urlToImage': 'https://statik.tempo.co/data/2018/11/11/id_796235/796235_720.jpg',\n",
       "  'publishedAt': '2019-10-21T17:05:00Z',\n",
       "  'content': None}]"
      ]
     },
     "execution_count": 68,
     "metadata": {},
     "output_type": "execute_result"
    }
   ],
   "source": [
    "temp"
   ]
  },
  {
   "cell_type": "code",
   "execution_count": 69,
   "metadata": {
    "scrolled": true
   },
   "outputs": [
    {
     "name": "stdout",
     "output_type": "stream",
     "text": [
      "Menjajal Earphone Realme Buds Wireless Besutan Alan Walker - Liputan6.com\n",
      "https://www.liputan6.com/tekno/read/4091697/menjajal-earphone-realme-buds-wireless-besutan-alan-walker\n",
      "=========================\n",
      "\n",
      "['tekno']\n",
      "=========================\n",
      "\n",
      "5 Pengakuan Nia Ramadhani yang Bikin Heboh, Nyasar di Rumah hingga Tak Bisa Buka Salak - KOMPAS.com\n",
      "https://entertainment.kompas.com/read/2019/10/22/091502010/5-pengakuan-nia-ramadhani-yang-bikin-heboh-nyasar-di-rumah-hingga-tak?page=all\n",
      "=========================\n",
      "\n",
      "['entertainment']\n",
      "=========================\n",
      "\n",
      "[POPULER INTERNASIONAL] Gelar Selir Raja Thailand Dicopot | Singapura Buka Restoran Khusus Indomie - Internasional Kompas.com\n",
      "https://internasional.kompas.com/read/2019/10/22/08525611/populer-internasional-gelar-selir-raja-thailand-dicopot-singapura-buka?page=all\n",
      "=========================\n",
      "\n",
      "['news']\n",
      "=========================\n",
      "\n",
      "Isu Prabowo Merapat Dapat Bintang Empat - detikNews\n",
      "https://news.detik.com/berita/d-4755042/isu-prabowo-merapat-dapat-bintang-empat\n",
      "=========================\n",
      "\n",
      "['news']\n",
      "=========================\n",
      "\n",
      "Antara KPK, Jokowi, dan Gagalnya Tetty Paruntu Menjadi Menteri - tirto.id\n",
      "https://tirto.id/antara-kpk-jokowi-dan-gagalnya-tetty-paruntu-menjadi-menteri-ej9K\n",
      "=========================\n",
      "\n",
      "['news']\n",
      "=========================\n",
      "\n",
      "Xiaomi Bakal Rilis 10 Ponsel Berfitur 5G di 2020 - Okezone\n",
      "https://techno.okezone.com/read/2019/10/21/57/2119854/xiaomi-bakal-rilis-10-ponsel-berfitur-5g-di-2020\n",
      "=========================\n",
      "\n",
      "['tekno']\n",
      "=========================\n",
      "\n",
      "Huawei Meluncurkan Nova 5z, Lebih Murah dari Nova 5T - Selular.ID\n",
      "https://selular.id/2019/10/huawei-meluncurkan-nova-5z-lebih-murah-dari-nova-5t/\n",
      "=========================\n",
      "\n",
      "['tekno']\n",
      "=========================\n",
      "\n",
      "5 Fakta Kerusuhan Pertandingan PSIM vs Persis, Mobil Polisi Dibakar hingga Sweeping Suporter - KOMPAS.com\n",
      "https://yogyakarta.kompas.com/read/2019/10/22/08000051/5-fakta-kerusuhan-pertandingan-psim-vs-persis-mobil-polisi-dibakar-hingga?page=all\n",
      "=========================\n",
      "\n",
      "['sports']\n",
      "=========================\n",
      "\n",
      "Utang Raffi Ahmad Setelah Pamit dari Dunia Artis Disinggung, Terkait Nasib Nagita Slavina & Rafathar - Banjarmasin Post\n",
      "https://banjarmasin.tribunnews.com/2019/10/22/utang-raffi-ahmad-setelah-pamit-dari-dunia-artis-disinggung-terkait-nasib-nagita-slavina-rafathar\n",
      "=========================\n",
      "\n",
      "['entertainment']\n",
      "=========================\n",
      "\n",
      "Drama Hari Ke-2 Kabinet Jokowi, Asing Sudah Kabur Rp 1 T - CNBC Indonesia\n",
      "https://www.cnbcindonesia.com/market/20191021192443-17-108835/drama-hari-ke-2-kabinet-jokowi-asing-sudah-kabur-rp-1-t\n",
      "=========================\n",
      "\n",
      "['bisnis']\n",
      "=========================\n",
      "\n",
      "Kata Microsoft Soal OS Terbaik untuk Smartphone - detikInet\n",
      "https://inet.detik.com/consumer/d-4755014/kata-microsoft-soal-os-terbaik-untuk-smartphone\n",
      "=========================\n",
      "\n",
      "['tekno']\n",
      "=========================\n",
      "\n",
      "Makin Panas, AS Ancam Serang Turki dengan Kekuatan Militer - CNBC Indonesia\n",
      "https://www.cnbcindonesia.com/news/20191022065750-4-108860/makin-panas-as-ancam-serang-turki-dengan-kekuatan-militer\n",
      "=========================\n",
      "\n",
      "['news']\n",
      "=========================\n",
      "\n",
      "Merunut Benih \"Perceraian\" Nasdem dengan Koalisi Jokowi - KOMPAS.com\n",
      "https://www.kompas.com/tren/read/2019/10/22/070000365/merunut-benih-perceraian-nasdem-dengan-koalisi-jokowi?page=all\n",
      "=========================\n",
      "\n",
      "['news']\n",
      "=========================\n",
      "\n",
      "Berat! Harga Emas Makin Amblas, Sudah Tak Menarik - CNBC Indonesia\n",
      "https://www.cnbcindonesia.com/market/20191022062344-17-108857/berat-harga-emas-makin-amblas-sudah-tak-menarik\n",
      "=========================\n",
      "\n",
      "['bisnis']\n",
      "=========================\n",
      "\n",
      "Gojek akan segera mengakhiri era bakar uang, seperti apa strateginya? - Investasi Kontan\n",
      "https://industri.kontan.co.id/news/gojek-akan-segera-mengakhiri-era-bakar-uang-seperti-apa-strateginya\n",
      "=========================\n",
      "\n",
      "['bisnis']\n",
      "=========================\n",
      "\n",
      "Prabowo Diminta Jadi Menteri Jokowi, Ini Respons para Elite Parpol Halaman all - Kompas.com - Kilas Daerah Kompas.com\n",
      "https://nasional.kompas.com/read/2019/10/22/06090561/prabowo-diminta-jadi-menteri-jokowi-ini-respons-para-elite-parpol?page=all\n",
      "=========================\n",
      "\n",
      "['news']\n",
      "=========================\n",
      "\n",
      "NASA Sebut Perempuan Akan Jadi Manusia Pertama di Mars - CNN Indonesia\n",
      "https://www.cnnindonesia.com/teknologi/20191021073107-199-441377/nasa-sebut-perempuan-akan-jadi-manusia-pertama-di-mars\n",
      "=========================\n",
      "\n",
      "['tekno']\n",
      "=========================\n",
      "\n",
      "3 Hal Menarik dari Pertemuan Jokowi dan Para Calon Menteri di Istana - Kompas.com - KOMPAS.com\n",
      "https://www.kompas.com/tren/read/2019/10/22/060000665/3-hal-menarik-dari-pertemuan-jokowi-dan-para-calon-menteri-di-istana?page=all\n",
      "=========================\n",
      "\n",
      "['news']\n",
      "=========================\n",
      "\n",
      "Nadiem Makarim Calon Menteri Termuda Jokowi? - detikInet\n",
      "https://inet.detik.com/cyberlife/d-4754995/nadiem-makarim-calon-menteri-termuda-jokowi\n",
      "=========================\n",
      "\n",
      "['bisnis']\n",
      "=========================\n",
      "\n",
      "NASA Awasi Asteroid Raksasa Mendekati Bumi Bulan Depan - Tempo\n",
      "https://tekno.tempo.co/read/1262566/nasa-awasi-asteroid-raksasa-mendekati-bumi-bulan-depan\n",
      "=========================\n",
      "\n",
      "['tekno']\n",
      "=========================\n",
      "\n"
     ]
    }
   ],
   "source": [
    "for t in temp:\n",
    "    print(t['title'])\n",
    "    print(t['url'])\n",
    "    print('=========================\\n')\n",
    "    print(get_categoryMNB(t['title']))\n",
    "    print('=========================\\n')"
   ]
  },
  {
   "cell_type": "code",
   "execution_count": null,
   "metadata": {},
   "outputs": [],
   "source": []
  },
  {
   "cell_type": "code",
   "execution_count": null,
   "metadata": {},
   "outputs": [],
   "source": []
  }
 ],
 "metadata": {
  "kernelspec": {
   "display_name": "Python 3",
   "language": "python",
   "name": "python3"
  },
  "language_info": {
   "codemirror_mode": {
    "name": "ipython",
    "version": 3
   },
   "file_extension": ".py",
   "mimetype": "text/x-python",
   "name": "python",
   "nbconvert_exporter": "python",
   "pygments_lexer": "ipython3",
   "version": "3.6.6+"
  }
 },
 "nbformat": 4,
 "nbformat_minor": 2
}
