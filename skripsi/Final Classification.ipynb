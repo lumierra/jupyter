{
 "cells": [
  {
   "cell_type": "markdown",
   "metadata": {},
   "source": [
    "## Import Library"
   ]
  },
  {
   "cell_type": "code",
   "execution_count": 48,
   "metadata": {},
   "outputs": [],
   "source": [
    "import pymongo\n",
    "import pandas as pd\n",
    "from random import shuffle\n",
    "import matplotlib.pyplot as plt\n",
    "from tqdm import tqdm, tqdm_notebook"
   ]
  },
  {
   "cell_type": "code",
   "execution_count": null,
   "metadata": {},
   "outputs": [],
   "source": []
  },
  {
   "cell_type": "markdown",
   "metadata": {},
   "source": [
    "## Load Data From MongoDB"
   ]
  },
  {
   "cell_type": "code",
   "execution_count": 5,
   "metadata": {},
   "outputs": [],
   "source": [
    "# Load data dari Database MongoDB \n",
    "myClient = pymongo.MongoClient(\"mongodb://localhost:27017\")\n",
    "myDatabase = myClient.iStorage\n",
    "myCollection = myDatabase.backup_dataset"
   ]
  },
  {
   "cell_type": "code",
   "execution_count": 6,
   "metadata": {},
   "outputs": [],
   "source": [
    "# 7 kategori artikel berita yang ada di dalam database\n",
    "categories = ['news', 'bisnis', 'sports', 'entertainment', 'tekno', 'otomotif', 'health']"
   ]
  },
  {
   "cell_type": "code",
   "execution_count": 7,
   "metadata": {},
   "outputs": [],
   "source": [
    "# Array yang digunakan untuk menampung data berdasarkan kategori\n",
    "polhukam,bisnis,olahraga,hiburan,teknologi,otomotif,kesehatan = [],[],[],[],[],[],[]"
   ]
  },
  {
   "cell_type": "code",
   "execution_count": 8,
   "metadata": {},
   "outputs": [],
   "source": [
    "# fungsi ambil data berdasarkan category\n",
    "def getQuery(category=None):\n",
    "    iQuery = myCollection.find(\n",
    "        {\"category\": \"{}\".format(category)}, \n",
    "        {\n",
    "            \"category\": 1, \n",
    "            \"title\": 1,\n",
    "            \"url\": 1,\n",
    "            \"cleanContent\": 1\n",
    "        }).limit(15000)\n",
    "    \n",
    "    return iQuery"
   ]
  },
  {
   "cell_type": "code",
   "execution_count": 9,
   "metadata": {},
   "outputs": [],
   "source": [
    "# fungsi input data ke list\n",
    "def setData(iQuery=None):\n",
    "    category = []\n",
    "    for query in iQuery: category.append(query)\n",
    "        \n",
    "    return category"
   ]
  },
  {
   "cell_type": "code",
   "execution_count": 10,
   "metadata": {},
   "outputs": [],
   "source": [
    "iData = []"
   ]
  },
  {
   "cell_type": "code",
   "execution_count": 11,
   "metadata": {},
   "outputs": [
    {
     "name": "stderr",
     "output_type": "stream",
     "text": [
      "100%|██████████| 15000/15000 [00:00<00:00, 2967807.92it/s]\n",
      "100%|██████████| 15000/15000 [00:00<00:00, 2373507.38it/s]\n",
      "100%|██████████| 15000/15000 [00:00<00:00, 2918656.52it/s]\n",
      "100%|██████████| 15000/15000 [00:00<00:00, 3012428.06it/s]\n",
      "100%|██████████| 15000/15000 [00:00<00:00, 2409042.73it/s]\n",
      "100%|██████████| 15000/15000 [00:00<00:00, 2660797.63it/s]\n",
      "100%|██████████| 15000/15000 [00:00<00:00, 2000781.05it/s]\n"
     ]
    }
   ],
   "source": [
    "# Ambil data dari Database dan disimpan di array berdasarkan kategori\n",
    "####################################\n",
    "iQuery = getQuery(\"news\")\n",
    "polhukam = setData(iQuery)\n",
    "for data in tqdm(polhukam): iData.append(data)\n",
    "####################################\n",
    "iQuery = getQuery(\"bisnis\")\n",
    "bisnis = setData(iQuery)\n",
    "for data in tqdm(bisnis): iData.append(data)\n",
    "####################################\n",
    "iQuery = getQuery(\"sports\")\n",
    "olahraga = setData(iQuery)\n",
    "for data in tqdm(olahraga): iData.append(data)\n",
    "####################################\n",
    "iQuery = getQuery(\"entertainment\")\n",
    "hiburan = setData(iQuery)\n",
    "for data in tqdm(hiburan): iData.append(data)\n",
    "####################################\n",
    "iQuery = getQuery(\"tekno\")\n",
    "teknologi = setData(iQuery)\n",
    "for data in tqdm(teknologi): iData.append(data)\n",
    "####################################\n",
    "iQuery = getQuery(\"otomotif\")\n",
    "otomotif = setData(iQuery)\n",
    "for data in tqdm(otomotif): iData.append(data)\n",
    "####################################\n",
    "iQuery = getQuery(\"health\")\n",
    "kesehatan = setData(iQuery)\n",
    "for data in tqdm(kesehatan): iData.append(data)"
   ]
  },
  {
   "cell_type": "code",
   "execution_count": 12,
   "metadata": {},
   "outputs": [
    {
     "data": {
      "text/html": [
       "<div>\n",
       "<style scoped>\n",
       "    .dataframe tbody tr th:only-of-type {\n",
       "        vertical-align: middle;\n",
       "    }\n",
       "\n",
       "    .dataframe tbody tr th {\n",
       "        vertical-align: top;\n",
       "    }\n",
       "\n",
       "    .dataframe thead th {\n",
       "        text-align: right;\n",
       "    }\n",
       "</style>\n",
       "<table border=\"1\" class=\"dataframe\">\n",
       "  <thead>\n",
       "    <tr style=\"text-align: right;\">\n",
       "      <th></th>\n",
       "      <th>Nama Kategori</th>\n",
       "      <th>Jumlah Data</th>\n",
       "    </tr>\n",
       "  </thead>\n",
       "  <tbody>\n",
       "    <tr>\n",
       "      <td>0</td>\n",
       "      <td>Polhukam</td>\n",
       "      <td>15000.0</td>\n",
       "    </tr>\n",
       "    <tr>\n",
       "      <td>1</td>\n",
       "      <td>Bisnis</td>\n",
       "      <td>15000.0</td>\n",
       "    </tr>\n",
       "    <tr>\n",
       "      <td>2</td>\n",
       "      <td>Olahraga</td>\n",
       "      <td>15000.0</td>\n",
       "    </tr>\n",
       "    <tr>\n",
       "      <td>3</td>\n",
       "      <td>Hiburan</td>\n",
       "      <td>15000.0</td>\n",
       "    </tr>\n",
       "    <tr>\n",
       "      <td>4</td>\n",
       "      <td>Teknologi</td>\n",
       "      <td>15000.0</td>\n",
       "    </tr>\n",
       "    <tr>\n",
       "      <td>5</td>\n",
       "      <td>Otomotif</td>\n",
       "      <td>15000.0</td>\n",
       "    </tr>\n",
       "    <tr>\n",
       "      <td>6</td>\n",
       "      <td>Kesehatan</td>\n",
       "      <td>15000.0</td>\n",
       "    </tr>\n",
       "    <tr>\n",
       "      <td>Total</td>\n",
       "      <td>NaN</td>\n",
       "      <td>105000.0</td>\n",
       "    </tr>\n",
       "  </tbody>\n",
       "</table>\n",
       "</div>"
      ],
      "text/plain": [
       "      Nama Kategori  Jumlah Data\n",
       "0          Polhukam      15000.0\n",
       "1            Bisnis      15000.0\n",
       "2          Olahraga      15000.0\n",
       "3           Hiburan      15000.0\n",
       "4         Teknologi      15000.0\n",
       "5          Otomotif      15000.0\n",
       "6         Kesehatan      15000.0\n",
       "Total           NaN     105000.0"
      ]
     },
     "execution_count": 12,
     "metadata": {},
     "output_type": "execute_result"
    }
   ],
   "source": [
    "# Dataframe Categories\n",
    "df = pd.DataFrame({\n",
    "    'Nama Kategori':[\n",
    "        'Polhukam','Bisnis','Olahraga','Hiburan','Teknologi','Otomotif','Kesehatan'],\n",
    "    'Jumlah Data':[\n",
    "        len(polhukam),\n",
    "        len(bisnis),\n",
    "        len(olahraga),\n",
    "        len(hiburan),\n",
    "        len(teknologi),\n",
    "        len(otomotif),\n",
    "        len(kesehatan)\n",
    "    ]\n",
    "})\n",
    "df.loc['Total'] = pd.Series(df['Jumlah Data'].sum(), index = ['Jumlah Data'])\n",
    "df"
   ]
  },
  {
   "cell_type": "code",
   "execution_count": null,
   "metadata": {},
   "outputs": [],
   "source": []
  },
  {
   "cell_type": "code",
   "execution_count": null,
   "metadata": {},
   "outputs": [],
   "source": []
  },
  {
   "cell_type": "code",
   "execution_count": null,
   "metadata": {},
   "outputs": [],
   "source": []
  },
  {
   "cell_type": "markdown",
   "metadata": {},
   "source": [
    "## Konversi Data ke DataFrame (Pandas)"
   ]
  },
  {
   "cell_type": "code",
   "execution_count": 13,
   "metadata": {},
   "outputs": [],
   "source": [
    "shuffle(iData)"
   ]
  },
  {
   "cell_type": "code",
   "execution_count": 14,
   "metadata": {},
   "outputs": [],
   "source": [
    "df = pd.DataFrame(iData)"
   ]
  },
  {
   "cell_type": "code",
   "execution_count": 15,
   "metadata": {},
   "outputs": [
    {
     "data": {
      "text/html": [
       "<div>\n",
       "<style scoped>\n",
       "    .dataframe tbody tr th:only-of-type {\n",
       "        vertical-align: middle;\n",
       "    }\n",
       "\n",
       "    .dataframe tbody tr th {\n",
       "        vertical-align: top;\n",
       "    }\n",
       "\n",
       "    .dataframe thead th {\n",
       "        text-align: right;\n",
       "    }\n",
       "</style>\n",
       "<table border=\"1\" class=\"dataframe\">\n",
       "  <thead>\n",
       "    <tr style=\"text-align: right;\">\n",
       "      <th></th>\n",
       "      <th>_id</th>\n",
       "      <th>category</th>\n",
       "      <th>title</th>\n",
       "      <th>url</th>\n",
       "      <th>cleanContent</th>\n",
       "    </tr>\n",
       "  </thead>\n",
       "  <tbody>\n",
       "    <tr>\n",
       "      <td>104995</td>\n",
       "      <td>5dad488c2cce79de7ceefe3f</td>\n",
       "      <td>tekno</td>\n",
       "      <td>Gempa di Sukabumi Terasa hingga Jakarta, Ini R...</td>\n",
       "      <td>https://www.liputan6.com/tekno/read/3866072/ge...</td>\n",
       "      <td>gempa bumi wilayah wilayah jawa barat tepatnya...</td>\n",
       "    </tr>\n",
       "    <tr>\n",
       "      <td>104996</td>\n",
       "      <td>5d6e54da52025bb1853b5559</td>\n",
       "      <td>otomotif</td>\n",
       "      <td>Race Engineer Kimi Raikkonen Tinggalkan Ferrari</td>\n",
       "      <td>https://otomotif.tempo.co/read/1048485/race-en...</td>\n",
       "      <td>race engineer kimi raikkonen david greenwood r...</td>\n",
       "    </tr>\n",
       "    <tr>\n",
       "      <td>104997</td>\n",
       "      <td>5d6cdaf6ed097bf288768f85</td>\n",
       "      <td>entertainment</td>\n",
       "      <td>Elly Sugigi Ganti Nama Putrinya yang Ikut Jadi...</td>\n",
       "      <td>https://seleb.tempo.co/read/1207029/elly-sugig...</td>\n",
       "      <td>putri elly sugigi ulfi damayanti mengikuti jej...</td>\n",
       "    </tr>\n",
       "    <tr>\n",
       "      <td>104998</td>\n",
       "      <td>5d8dafe443386a8f86d26f68</td>\n",
       "      <td>tekno</td>\n",
       "      <td>Viral Guru Mengajar Microsoft Word dengan Papa...</td>\n",
       "      <td>https://tekno.kompas.com/read/2018/03/19/07420...</td>\n",
       "      <td>foto guru tik teknologi informasi komunikasi g...</td>\n",
       "    </tr>\n",
       "    <tr>\n",
       "      <td>104999</td>\n",
       "      <td>5d6bd88edfdedb563e1c88fe</td>\n",
       "      <td>news</td>\n",
       "      <td>Presiden Xi Jinping Klaim Modernisasi AL Cina ...</td>\n",
       "      <td>https://dunia.tempo.co/read/1198437/presiden-x...</td>\n",
       "      <td>presiden cina xi jinping rakyat mencintai perd...</td>\n",
       "    </tr>\n",
       "  </tbody>\n",
       "</table>\n",
       "</div>"
      ],
      "text/plain": [
       "                             _id       category  \\\n",
       "104995  5dad488c2cce79de7ceefe3f          tekno   \n",
       "104996  5d6e54da52025bb1853b5559       otomotif   \n",
       "104997  5d6cdaf6ed097bf288768f85  entertainment   \n",
       "104998  5d8dafe443386a8f86d26f68          tekno   \n",
       "104999  5d6bd88edfdedb563e1c88fe           news   \n",
       "\n",
       "                                                    title  \\\n",
       "104995  Gempa di Sukabumi Terasa hingga Jakarta, Ini R...   \n",
       "104996    Race Engineer Kimi Raikkonen Tinggalkan Ferrari   \n",
       "104997  Elly Sugigi Ganti Nama Putrinya yang Ikut Jadi...   \n",
       "104998  Viral Guru Mengajar Microsoft Word dengan Papa...   \n",
       "104999  Presiden Xi Jinping Klaim Modernisasi AL Cina ...   \n",
       "\n",
       "                                                      url  \\\n",
       "104995  https://www.liputan6.com/tekno/read/3866072/ge...   \n",
       "104996  https://otomotif.tempo.co/read/1048485/race-en...   \n",
       "104997  https://seleb.tempo.co/read/1207029/elly-sugig...   \n",
       "104998  https://tekno.kompas.com/read/2018/03/19/07420...   \n",
       "104999  https://dunia.tempo.co/read/1198437/presiden-x...   \n",
       "\n",
       "                                             cleanContent  \n",
       "104995  gempa bumi wilayah wilayah jawa barat tepatnya...  \n",
       "104996  race engineer kimi raikkonen david greenwood r...  \n",
       "104997  putri elly sugigi ulfi damayanti mengikuti jej...  \n",
       "104998  foto guru tik teknologi informasi komunikasi g...  \n",
       "104999  presiden cina xi jinping rakyat mencintai perd...  "
      ]
     },
     "execution_count": 15,
     "metadata": {},
     "output_type": "execute_result"
    }
   ],
   "source": [
    "df.tail()"
   ]
  },
  {
   "cell_type": "code",
   "execution_count": 16,
   "metadata": {},
   "outputs": [
    {
     "data": {
      "image/png": "[encoded data removed]",
      "text/plain": [
       "<Figure size 720x576 with 1 Axes>"
      ]
     },
     "metadata": {
      "needs_background": "light"
     },
     "output_type": "display_data"
    }
   ],
   "source": [
    "fig = plt.figure(figsize=(10,8))\n",
    "df.groupby('category').title.count().plot.bar(ylim=0)\n",
    "plt.show()"
   ]
  },
  {
   "cell_type": "code",
   "execution_count": null,
   "metadata": {},
   "outputs": [],
   "source": []
  },
  {
   "cell_type": "code",
   "execution_count": null,
   "metadata": {},
   "outputs": [],
   "source": []
  },
  {
   "cell_type": "markdown",
   "metadata": {},
   "source": [
    "## Menggunakan Metode Naive Bayes"
   ]
  },
  {
   "cell_type": "code",
   "execution_count": 93,
   "metadata": {},
   "outputs": [],
   "source": [
    "from sklearn.pipeline import Pipeline\n",
    "from sklearn.metrics import classification_report\n",
    "from sklearn.metrics import accuracy_score, confusion_matrix"
   ]
  },
  {
   "cell_type": "code",
   "execution_count": 94,
   "metadata": {},
   "outputs": [],
   "source": [
    "nb = Pipeline([('vect', CountVectorizer()),\n",
    "               ('tfidf', TfidfTransformer()),\n",
    "               ('clf', MultinomialNB()),\n",
    "              ])"
   ]
  },
  {
   "cell_type": "code",
   "execution_count": 95,
   "metadata": {},
   "outputs": [
    {
     "data": {
      "text/plain": [
       "Pipeline(memory=None,\n",
       "     steps=[('vect', CountVectorizer(analyzer='word', binary=False, decode_error='strict',\n",
       "        dtype=<class 'numpy.int64'>, encoding='utf-8', input='content',\n",
       "        lowercase=True, max_df=1.0, max_features=None, min_df=1,\n",
       "        ngram_range=(1, 1), preprocessor=None, stop_words=None,\n",
       "        strip...inear_tf=False, use_idf=True)), ('clf', MultinomialNB(alpha=1.0, class_prior=None, fit_prior=True))])"
      ]
     },
     "execution_count": 95,
     "metadata": {},
     "output_type": "execute_result"
    }
   ],
   "source": [
    "nb.fit(X_train, y_train)"
   ]
  },
  {
   "cell_type": "code",
   "execution_count": 102,
   "metadata": {},
   "outputs": [
    {
     "name": "stdout",
     "output_type": "stream",
     "text": [
      "0.9664\n"
     ]
    }
   ],
   "source": [
    "print(nb.score(X_train, y_train))"
   ]
  },
  {
   "cell_type": "code",
   "execution_count": 99,
   "metadata": {},
   "outputs": [],
   "source": [
    "y_pred = nb.predict(X_test)"
   ]
  },
  {
   "cell_type": "code",
   "execution_count": 100,
   "metadata": {},
   "outputs": [
    {
     "name": "stdout",
     "output_type": "stream",
     "text": [
      "Table Confusion Matrix\n",
      "=========================\n",
      "\n",
      "Accuracy 0.9598095238095238\n",
      "=========================\n",
      "\n",
      "               precision    recall  f1-score   support\n",
      "\n",
      "         news       0.92      0.96      0.94      3703\n",
      "       bisnis       0.96      0.97      0.97      3843\n",
      "       sports       0.97      0.93      0.95      3855\n",
      "entertainment       0.93      0.97      0.95      3650\n",
      "        tekno       0.98      0.97      0.98      3788\n",
      "     otomotif       0.99      0.97      0.98      3655\n",
      "       health       0.98      0.94      0.96      3756\n",
      "\n",
      "  avg / total       0.96      0.96      0.96     26250\n",
      "\n"
     ]
    }
   ],
   "source": [
    "print(\"Table Confusion Matrix\")\n",
    "print(\"=========================\\n\")\n",
    "print('Accuracy %s' % accuracy_score(y_pred, y_test))\n",
    "print('=========================\\n')\n",
    "print(classification_report(y_test, y_pred,target_names=categories))"
   ]
  },
  {
   "cell_type": "code",
   "execution_count": null,
   "metadata": {},
   "outputs": [],
   "source": []
  },
  {
   "cell_type": "code",
   "execution_count": 18,
   "metadata": {},
   "outputs": [],
   "source": [
    "import textacy\n",
    "from sklearn.naive_bayes import MultinomialNB\n",
    "from textacy.preprocess import preprocess_text\n",
    "from sklearn.cross_validation import train_test_split\n",
    "from sklearn.feature_extraction.text import TfidfVectorizer"
   ]
  },
  {
   "cell_type": "code",
   "execution_count": 19,
   "metadata": {},
   "outputs": [],
   "source": [
    "tfidf = TfidfVectorizer(min_df=1, max_df=0.25)"
   ]
  },
  {
   "cell_type": "code",
   "execution_count": 20,
   "metadata": {},
   "outputs": [],
   "source": [
    "X_train, X_test, y_train, y_test = train_test_split(df['cleanContent'], df['category'])"
   ]
  },
  {
   "cell_type": "code",
   "execution_count": 21,
   "metadata": {},
   "outputs": [],
   "source": [
    "X1 = tfidf.fit_transform(X_train)"
   ]
  },
  {
   "cell_type": "code",
   "execution_count": 24,
   "metadata": {},
   "outputs": [
    {
     "data": {
      "text/plain": [
       "(78750, 210764)"
      ]
     },
     "execution_count": 24,
     "metadata": {},
     "output_type": "execute_result"
    }
   ],
   "source": [
    "X1.shape"
   ]
  },
  {
   "cell_type": "code",
   "execution_count": 25,
   "metadata": {},
   "outputs": [
    {
     "name": "stdout",
     "output_type": "stream",
     "text": [
      "X_traint : 78750\n",
      "X_test   : 26250\n",
      "Total    : 105000\n"
     ]
    }
   ],
   "source": [
    "print('X_traint : {}'.format(len(X_train)))\n",
    "print('X_test   : {}'.format(len(X_test)))\n",
    "print('Total    : {}'.format(len(X_train) + len(X_test)))"
   ]
  },
  {
   "cell_type": "code",
   "execution_count": 26,
   "metadata": {},
   "outputs": [],
   "source": [
    "clf = MultinomialNB().fit(X1, y_train)"
   ]
  },
  {
   "cell_type": "code",
   "execution_count": 27,
   "metadata": {},
   "outputs": [],
   "source": [
    "def get_categoryMNB(text):\n",
    "    result_cleanText = textacy.preprocess_text(text,lowercase=True,no_urls=True,no_numbers=True,no_punct=True)\n",
    "    hasil_prediksi = clf.predict(tfidf.transform([result_cleanText]))\n",
    "    return hasil_prediksi"
   ]
  },
  {
   "cell_type": "code",
   "execution_count": 28,
   "metadata": {},
   "outputs": [],
   "source": [
    "new_title = '''Arifin Ilham Sakit, Ini 7 Tips Bantuan Saat Kerabat Sakit'''"
   ]
  },
  {
   "cell_type": "code",
   "execution_count": 29,
   "metadata": {},
   "outputs": [
    {
     "name": "stdout",
     "output_type": "stream",
     "text": [
      "['entertainment']\n"
     ]
    }
   ],
   "source": [
    "print(get_categoryMNB(new_title))"
   ]
  },
  {
   "cell_type": "code",
   "execution_count": 30,
   "metadata": {},
   "outputs": [
    {
     "name": "stdout",
     "output_type": "stream",
     "text": [
      "0.9662984126984127\n"
     ]
    }
   ],
   "source": [
    "print(clf.score(X1, y_train))"
   ]
  },
  {
   "cell_type": "code",
   "execution_count": 37,
   "metadata": {},
   "outputs": [],
   "source": [
    "from sklearn.metrics import confusion_matrix, accuracy_score, classification_report\n",
    "from sklearn.pipeline import make_pipeline\n",
    "import seaborn as sns; sns.set()"
   ]
  },
  {
   "cell_type": "code",
   "execution_count": 32,
   "metadata": {},
   "outputs": [],
   "source": [
    "model = make_pipeline(TfidfVectorizer(min_df=1, max_df=0.25), MultinomialNB())"
   ]
  },
  {
   "cell_type": "code",
   "execution_count": 33,
   "metadata": {},
   "outputs": [],
   "source": [
    "model.fit(X_train, y_train)\n",
    "labels = model.predict(X_test)"
   ]
  },
  {
   "cell_type": "code",
   "execution_count": 38,
   "metadata": {},
   "outputs": [
    {
     "name": "stdout",
     "output_type": "stream",
     "text": [
      "Table Confusion Matrix\n",
      "=========================\n",
      "\n",
      "Accuracy 0.9595428571428571\n",
      "=========================\n",
      "\n",
      "               precision    recall  f1-score   support\n",
      "\n",
      "         news       0.92      0.96      0.94      3703\n",
      "       bisnis       0.96      0.97      0.96      3843\n",
      "       sports       0.97      0.93      0.95      3855\n",
      "entertainment       0.93      0.97      0.95      3650\n",
      "        tekno       0.98      0.97      0.98      3788\n",
      "     otomotif       0.99      0.97      0.98      3655\n",
      "       health       0.98      0.94      0.96      3756\n",
      "\n",
      "  avg / total       0.96      0.96      0.96     26250\n",
      "\n"
     ]
    }
   ],
   "source": [
    "print(\"Table Confusion Matrix\")\n",
    "print(\"=========================\\n\")\n",
    "print('Accuracy %s' % accuracy_score(labels, y_test))\n",
    "print('=========================\\n')\n",
    "print(classification_report(y_test, labels,target_names=categories))"
   ]
  },
  {
   "cell_type": "code",
   "execution_count": 39,
   "metadata": {},
   "outputs": [
    {
     "data": {
      "image/png": "[encoded data removed]",
      "text/plain": [
       "<Figure size 720x720 with 2 Axes>"
      ]
     },
     "metadata": {},
     "output_type": "display_data"
    }
   ],
   "source": [
    "mat = confusion_matrix(y_test, labels)\n",
    "f, ax = plt.subplots(figsize=(10, 10))\n",
    "\n",
    "sns.heatmap(mat.T, square=True, annot=True, fmt='d', cbar=True,linewidths=.6, ax=ax,\n",
    "            xticklabels=categories, yticklabels=categories)\n",
    "plt.xlabel('true label')\n",
    "plt.ylabel('predicted label');"
   ]
  },
  {
   "cell_type": "code",
   "execution_count": null,
   "metadata": {},
   "outputs": [],
   "source": []
  },
  {
   "cell_type": "code",
   "execution_count": null,
   "metadata": {},
   "outputs": [],
   "source": []
  },
  {
   "cell_type": "markdown",
   "metadata": {},
   "source": [
    "## Pengujian"
   ]
  },
  {
   "cell_type": "code",
   "execution_count": 61,
   "metadata": {},
   "outputs": [],
   "source": [
    "from Sastrawi.Stemmer.StemmerFactory import StemmerFactory\n",
    "from textacy.preprocess import preprocess_text\n",
    "from IPython.core.display import HTML\n",
    "from IPython.display import Image\n",
    "from bs4 import BeautifulSoup\n",
    "import requests\n",
    "import id_aldo"
   ]
  },
  {
   "cell_type": "code",
   "execution_count": 50,
   "metadata": {},
   "outputs": [],
   "source": [
    "# create stemmer\n",
    "factory = StemmerFactory()\n",
    "stemmer = factory.create_stemmer()"
   ]
  },
  {
   "cell_type": "code",
   "execution_count": 51,
   "metadata": {},
   "outputs": [],
   "source": [
    "# Load Model id_aldo\n",
    "nlp = id_aldo.load()\n",
    "\n",
    "stopwords = requests.get(\"https://raw.githubusercontent.com/masdevid/ID-Stopwords/master/id.stopwords.02.01.2016.txt\").text.split(\"\\n\")\n"
   ]
  },
  {
   "cell_type": "code",
   "execution_count": 54,
   "metadata": {},
   "outputs": [],
   "source": [
    "class Pengujian():\n",
    "    \n",
    "    def __init__(self):\n",
    "        self\n",
    "        \n",
    "    def nerText(self, text=None):\n",
    "        doc = nlp(text)\n",
    "        count = 0\n",
    "        for ent in doc.ents:\n",
    "            if ent.end <= 5:\n",
    "                count = ent.end_char + 1\n",
    "            else:\n",
    "                count = len(text)\n",
    "\n",
    "        iResult = text[count:].strip()\n",
    "\n",
    "        return iResult\n",
    "        \n",
    "    def tempoArticle(self, link=None):\n",
    "        iData, text_stopword, tempCF = [],[],[]\n",
    "        formatCF = ['url', 'number', 'usd', 'email']\n",
    "        \n",
    "        response = requests.get(link).text\n",
    "        soup = BeautifulSoup(response, \"html5lib\")\n",
    "        title = soup.select_one('article > h1').text.strip()\n",
    "        image = soup.select_one('figure > a')['href']\n",
    "        contents = soup.select('#isi > p')\n",
    "        \n",
    "        for content in contents:\n",
    "            if content.text.strip()[:10] != 'Baca juga:' and content.text.strip()[:5] != 'Baca:':\n",
    "                iData.append(content.text.strip() + '\\n\\n')\n",
    "\n",
    "        articles = ''.join(iData)\n",
    "        format = self.nerText(articles)\n",
    "        caseFolding = preprocess_text(format, fix_unicode=True, lowercase=True, no_urls=True,no_emails=True,\n",
    "                                no_phone_numbers=True,no_numbers=True,no_currency_symbols=True,no_punct=True)\n",
    "        caseFolding = caseFolding.split()\n",
    "        [tempCF.append(cf) for cf in caseFolding if cf not in formatCF]\n",
    "        caseFolding = ' '.join(tempCF)\n",
    "\n",
    "        stopword = caseFolding.split()\n",
    "        [text_stopword.append(st) for st in stopword if st not in stopwords]\n",
    "        stopword = ' '.join(text_stopword)\n",
    "\n",
    "        stemming = stemmer.stem(stopword)\n",
    "\n",
    "        json = {\n",
    "            'title' : title,\n",
    "            'image' : image,\n",
    "            'article' : articles,\n",
    "            'source' : 'Tempo',\n",
    "            'caseFolding' : caseFolding,\n",
    "            'stopword' : stopword,\n",
    "            'stemming' : stemming\n",
    "        }\n",
    "\n",
    "        return json\n",
    "    \n",
    "    def kompasArticle(self, link=None):\n",
    "        iData, text_stopword, tempCF = [],[],[]\n",
    "        formatCF = ['url', 'number', 'usd', 'email']\n",
    "\n",
    "        response = requests.get(link).text\n",
    "        soup = BeautifulSoup(response, \"html5lib\")\n",
    "        # if link.split('.')[0].split('//')[1] == 'money'\n",
    "\n",
    "        title = soup.select_one('.read__title').text.strip()\n",
    "        image = soup.select_one('.photo > img')['data-src']\n",
    "        contents = soup.select('.read__content > p')\n",
    "\n",
    "        for i in range(len(contents)):\n",
    "            if contents[i].text != '':\n",
    "                if (contents[i].text[:9] != 'Baca juga' and contents[i].text[:5] != 'Baca:') \\\n",
    "                        and (contents[i].text[:15] != 'We are thrilled') and (contents[i].text[:6] != 'Flinke') \\\n",
    "                        and (contents[i].text[:18] != 'Baca selengkapnya:') and (contents[i].text[:25]) != 'Baca berita selengkapnya:' \\\n",
    "                        and (contents[i].text[:7]) != 'Sumber:':\n",
    "                    iData.append(contents[i].text  + '\\n\\n')\n",
    "\n",
    "        articles = ''.join(iData)\n",
    "        format = self.nerText(articles)\n",
    "        caseFolding = preprocess_text(format, fix_unicode=True, lowercase=True, no_urls=True,no_emails=True,\n",
    "                                no_phone_numbers=True,no_numbers=True,no_currency_symbols=True,no_punct=True)\n",
    "        caseFolding = caseFolding.split()\n",
    "        [tempCF.append(cf) for cf in caseFolding if cf not in formatCF]\n",
    "        caseFolding = ' '.join(tempCF)\n",
    "\n",
    "        stopword = caseFolding.split()\n",
    "        [text_stopword.append(st) for st in stopword if st not in stopwords]\n",
    "        stopword = ' '.join(text_stopword)\n",
    "\n",
    "        stemming = stemmer.stem(stopword)\n",
    "\n",
    "        json = {\n",
    "            'title' : title,\n",
    "            'image' : image,\n",
    "            'article' : articles,\n",
    "            'source' : 'Kompas',\n",
    "            'caseFolding' : caseFolding,\n",
    "            'stopword' : stopword,\n",
    "            'stemming' : stemming\n",
    "        }\n",
    "\n",
    "        return json\n",
    "    \n",
    "    def testing(self, link=None):\n",
    "        if link.split('.')[1] == 'tempo': result = self.tempoArticle(link)\n",
    "        elif link.split('.')[1] == 'kompas': result = self.kompasArticle(link)\n",
    "                \n",
    "        return result"
   ]
  },
  {
   "cell_type": "code",
   "execution_count": 55,
   "metadata": {},
   "outputs": [],
   "source": [
    "uji = Pengujian()"
   ]
  },
  {
   "cell_type": "code",
   "execution_count": 83,
   "metadata": {},
   "outputs": [],
   "source": [
    "url = '''https://cantik.tempo.co/read/1273625/potret-selvi-ananda-saat-hamil-trimester-tiga-di-depan-istana'''"
   ]
  },
  {
   "cell_type": "code",
   "execution_count": 84,
   "metadata": {},
   "outputs": [],
   "source": [
    "hasil = uji.testing(url)"
   ]
  },
  {
   "cell_type": "code",
   "execution_count": 85,
   "metadata": {},
   "outputs": [],
   "source": [
    "hasil_prediksi = clf.predict(tfidf.transform([hasil['stemming']]))"
   ]
  },
  {
   "cell_type": "code",
   "execution_count": 86,
   "metadata": {},
   "outputs": [
    {
     "name": "stdout",
     "output_type": "stream",
     "text": [
      "\n",
      "Hasil Pengujian\n",
      "============================\n",
      "Judul Berita : Potret Selvi Ananda saat Hamil Trimester Tiga di Depan Istana\n",
      "\n",
      "Hasil Kategori \n",
      "============================\n",
      "['entertainment']\n"
     ]
    },
    {
     "data": {
      "text/html": [
       "<img src=\"https://statik.tempo.co/data/2019/11/18/id_890251/890251_720.jpg\" width=\"500\" height=\"500\"/>"
      ],
      "text/plain": [
       "<IPython.core.display.Image object>"
      ]
     },
     "execution_count": 86,
     "metadata": {},
     "output_type": "execute_result"
    }
   ],
   "source": [
    "print()\n",
    "print('Hasil Pengujian')\n",
    "print('============================')\n",
    "print('Judul Berita : ' + hasil['title'] + '\\n')\n",
    "print('Hasil Kategori ')\n",
    "print('============================')\n",
    "print(hasil_prediksi)\n",
    "Image(url= hasil['image'], width=500, height=500)"
   ]
  },
  {
   "cell_type": "code",
   "execution_count": null,
   "metadata": {},
   "outputs": [],
   "source": []
  },
  {
   "cell_type": "code",
   "execution_count": null,
   "metadata": {},
   "outputs": [],
   "source": []
  },
  {
   "cell_type": "code",
   "execution_count": null,
   "metadata": {},
   "outputs": [],
   "source": []
  },
  {
   "cell_type": "code",
   "execution_count": null,
   "metadata": {},
   "outputs": [],
   "source": []
  },
  {
   "cell_type": "code",
   "execution_count": null,
   "metadata": {},
   "outputs": [],
   "source": []
  },
  {
   "cell_type": "markdown",
   "metadata": {},
   "source": [
    "## Save Model Naive Bayes MultinomialNB"
   ]
  },
  {
   "cell_type": "code",
   "execution_count": 37,
   "metadata": {},
   "outputs": [],
   "source": [
    "import pickle"
   ]
  },
  {
   "cell_type": "code",
   "execution_count": 50,
   "metadata": {},
   "outputs": [],
   "source": [
    "pkl_filename = 'modelMNB.pkl'\n",
    "with open(pkl_filename, 'wb') as file:\n",
    "    pickle.dump(modelMNB, file)"
   ]
  },
  {
   "cell_type": "code",
   "execution_count": 51,
   "metadata": {},
   "outputs": [],
   "source": [
    "# Load from file\n",
    "with open(pkl_filename, 'rb') as file:\n",
    "    pickle_model = pickle.load(file)"
   ]
  },
  {
   "cell_type": "code",
   "execution_count": 54,
   "metadata": {},
   "outputs": [
    {
     "name": "stdout",
     "output_type": "stream",
     "text": [
      "Test score: 91.58 %\n"
     ]
    }
   ],
   "source": [
    "# Calculate the accuracy score and predict target values\n",
    "score = pickle_model.score(X1, y_train)\n",
    "print(\"Test score: {0:.2f} %\".format(100 * score))\n",
    "Ypredict = pickle_model.predict(X1)"
   ]
  },
  {
   "cell_type": "code",
   "execution_count": 55,
   "metadata": {},
   "outputs": [],
   "source": [
    "def get_categoryMNB(text):\n",
    "    result_cleanText = textacy.preprocess_text(text,lowercase=True,no_urls=True,no_numbers=True,no_punct=True)\n",
    "    hasil_prediksi = pickle_model.predict(tfidf.transform([result_cleanText]))\n",
    "    return hasil_prediksi"
   ]
  },
  {
   "cell_type": "code",
   "execution_count": 56,
   "metadata": {},
   "outputs": [],
   "source": [
    "title = '''Waspadalah, Stroke Kini Sudah Menyerang Orang Usia 30-an'''"
   ]
  },
  {
   "cell_type": "code",
   "execution_count": 59,
   "metadata": {},
   "outputs": [
    {
     "name": "stdout",
     "output_type": "stream",
     "text": [
      "health\n"
     ]
    }
   ],
   "source": [
    "print(get_categoryMNB(title)[0])"
   ]
  },
  {
   "cell_type": "code",
   "execution_count": null,
   "metadata": {},
   "outputs": [],
   "source": []
  },
  {
   "cell_type": "code",
   "execution_count": null,
   "metadata": {},
   "outputs": [],
   "source": []
  },
  {
   "cell_type": "code",
   "execution_count": null,
   "metadata": {},
   "outputs": [],
   "source": []
  },
  {
   "cell_type": "code",
   "execution_count": null,
   "metadata": {},
   "outputs": [],
   "source": []
  },
  {
   "cell_type": "markdown",
   "metadata": {},
   "source": [
    "## Joblib"
   ]
  },
  {
   "cell_type": "code",
   "execution_count": 10,
   "metadata": {},
   "outputs": [],
   "source": [
    "from sklearn.externals import joblib"
   ]
  },
  {
   "cell_type": "code",
   "execution_count": 126,
   "metadata": {},
   "outputs": [
    {
     "data": {
      "text/plain": [
       "['model_joblib']"
      ]
     },
     "execution_count": 126,
     "metadata": {},
     "output_type": "execute_result"
    }
   ],
   "source": [
    "joblib.dump(modelMNB, 'model_joblib')"
   ]
  },
  {
   "cell_type": "code",
   "execution_count": 127,
   "metadata": {},
   "outputs": [],
   "source": [
    "mj = joblib.load('model_joblib')"
   ]
  },
  {
   "cell_type": "code",
   "execution_count": 128,
   "metadata": {},
   "outputs": [
    {
     "data": {
      "text/plain": [
       "0.8939410971223022"
      ]
     },
     "execution_count": 128,
     "metadata": {},
     "output_type": "execute_result"
    }
   ],
   "source": [
    "mj.score(X1, y_train)"
   ]
  },
  {
   "cell_type": "code",
   "execution_count": 129,
   "metadata": {},
   "outputs": [
    {
     "data": {
      "text/plain": [
       "array(['entertainment'], dtype='<U13')"
      ]
     },
     "execution_count": 129,
     "metadata": {},
     "output_type": "execute_result"
    }
   ],
   "source": [
    "mj.predict(tfidf.transform([new_title]))"
   ]
  },
  {
   "cell_type": "code",
   "execution_count": null,
   "metadata": {},
   "outputs": [],
   "source": []
  },
  {
   "cell_type": "markdown",
   "metadata": {},
   "source": [
    "## Testing"
   ]
  },
  {
   "cell_type": "code",
   "execution_count": 108,
   "metadata": {},
   "outputs": [],
   "source": [
    "import requests\n",
    "from bs4 import BeautifulSoup"
   ]
  },
  {
   "cell_type": "code",
   "execution_count": 87,
   "metadata": {},
   "outputs": [],
   "source": [
    "url = '''https://newsapi.org/v2/top-headlines?country=id&apiKey=3bb4bf323f7f43d3aaafb6bd5cd26c92'''"
   ]
  },
  {
   "cell_type": "code",
   "execution_count": 88,
   "metadata": {},
   "outputs": [],
   "source": [
    "response = requests.get(url).json()"
   ]
  },
  {
   "cell_type": "code",
   "execution_count": 89,
   "metadata": {},
   "outputs": [
    {
     "data": {
      "text/plain": [
       "{'status': 'ok',\n",
       " 'totalResults': 38,\n",
       " 'articles': [{'source': {'id': None, 'name': 'Grid.id'},\n",
       "   'author': None,\n",
       "   'title': 'Baru Seminggu Pendaftarannya Dibuka, BKN Sudah Temukan Dugaan Kecurangan CPNS 2019, Fitur Ini Sampai Dihila... - GridHot.ID',\n",
       "   'description': 'Pihak BKN sendiri menemukan adanya indikasi kecurang di pendaftaran CPNS 2019. Fitur yang satu ini langsung dihilangkan BKN.',\n",
       "   'url': 'https://hot.grid.id/read/181922460/baru-seminggu-pendaftarannya-dibuka-bkn-sudah-temukan-dugaan-kecurangan-cpns-2019-fitur-ini-sampai-dihilangkan-di-portal',\n",
       "   'urlToImage': 'https://asset-a.grid.id/crop/0x0:0x0/700x465/photo/2019/11/11/2184818268.jpg',\n",
       "   'publishedAt': '2019-11-18T05:52:23Z',\n",
       "   'content': 'Laporan Wartawan Gridhot.ID, Angriawan Cahyo Pawenang\\r\\nGridhot.ID -Pendaftaranseleksi Calon Pegawai Negeri Sipil (CPNS) 2019 telah resmi dibuka.\\r\\nDikutip Gridhot dari Tribunnews, pendaftaranCPNS sudah dibuka sekitar seminggu sejak Senin (11/11/2019).\\r\\nPara pe… [+803 chars]'},\n",
       "  {'source': {'id': None, 'name': 'Katadata.co.id'},\n",
       "   'author': 'Desy Setyowati',\n",
       "   'title': 'Setelah Instagram, Giliran TikTok Luncurkan Fitur Belanja - Katadata.co.id',\n",
       "   'description': 'Facebook lebih dulu meluncurkan fitur belanja. Snapchat juga menggandeng Amazon untuk merilis layanan belanja lewat kamera.',\n",
       "   'url': 'https://katadata.co.id/berita/2019/11/18/setelah-instagram-giliran-tiktok-luncurkan-fitur-belanja',\n",
       "   'urlToImage': 'https://cdn1.katadata.co.id/media/images/thumb/2018/07/04/2018_07_04-16_10_00_87a38998227cbbc23dcad51cd7f76ab2_620x413_shared1.jpg',\n",
       "   'publishedAt': '2019-11-18T05:26:15Z',\n",
       "   'content': 'Perusahaan teknologi penyedia platformmedia sosial mulai merambah pasar e-commerce. Facebook sudah menambahkan fitur belanja online di WhatsApp dan Instagram, kini giliran TikTok.\\r\\nTikTok menambahkan fitur berupa tautan ke situs e-commerce di biografi profil.… [+2867 chars]'},\n",
       "  {'source': {'id': None, 'name': 'Suara.com'},\n",
       "   'author': 'Dythia Novianty',\n",
       "   'title': 'Ditemukan Bintang Melaju Super Cepat di Galaksi Bima Sakti - Suara.com',\n",
       "   'description': 'Ilmuwan memperkirakan bahwa bintang itu akan keluar dari galaksi Bima Sakti.',\n",
       "   'url': 'https://www.suara.com/tekno/2019/11/18/120500/ditemukan-bintang-melaju-super-cepat-di-galaksi-bima-sakti',\n",
       "   'urlToImage': 'https://media.suara.com/pictures/653x366/2019/03/04/56787-bimasakti.jpg',\n",
       "   'publishedAt': '2019-11-18T05:05:00Z',\n",
       "   'content': 'Suara.com - Ilmuwan menemukan sebuah bintang berkelana dalam kecepatan super tinggi di alam semesta. Diduga, bintang tersebut melaju cepat setelah terlempar keluar dari lubang hitam.\\r\\nSaking cepatnya laju bintang tersebut, ilmuwan memperkirakan bahwa bintang … [+1616 chars]'},\n",
       "  {'source': {'id': None, 'name': 'Detik.com'},\n",
       "   'author': 'Datuk Haris Molana',\n",
       "   'title': 'Massa Demo Tolak Pemakaman Pelaku Bom Bunuh Diri di Medan - detikNews',\n",
       "   'description': 'Massa di Medan, Sumut, menggelar demonstrasi menolak pemakaman jenazah pelaku bom bunuh diri, Rabbial Muslim Nasution di Medan.',\n",
       "   'url': 'https://news.detik.com/berita/d-4788644/massa-demo-tolak-pemakaman-pelaku-bom-bunuh-diri-di-medan',\n",
       "   'urlToImage': 'https://awsimages.detik.net.id/api/wm/2019/11/18/4e0d5921-c2dd-4882-8237-f7df5ae51d9b_169.jpeg?wid=54&w=650&v=1&t=jpeg',\n",
       "   'publishedAt': '2019-11-18T05:01:20Z',\n",
       "   'content': 'Medan -\\r\\nMassa di Medan, Sumut, menggelar demonstrasi menolak pemakaman jenazah pelaku bom bunuh diri, Rabbial Muslim Nasution, di Medan. Aksi ini digelar di dekat Tempat Pemakaman Umum (TPU) Sei Sikambing, Medan Petisah, Senin (18/11/2019). Belasan massa yan… [+1350 chars]'},\n",
       "  {'source': {'id': None, 'name': 'Idntimes.com'},\n",
       "   'author': 'Dimas Ramadhan',\n",
       "   'title': 'Huawei Mate 30 Pro Tak Ada Aplikasi Google, Ini Sistem yang Digunakan - Duniaku.com',\n",
       "   'description': 'Apa sih sistem layanan yang digunakan di Huawei Mate 30 Pro?',\n",
       "   'url': 'https://duniaku.idntimes.com/tekno/gadgets/dimas-ramadhan-2/huawei-mate-30-pro-tak-ada-aplikasi-google',\n",
       "   'urlToImage': 'https://cdn.idntimes.com/content-images/duniaku/post/20191118/huawei-mate-30-pro-0-9b786f38c89c7bb5c31707724a549c72_600x400.jpg',\n",
       "   'publishedAt': '2019-11-18T04:47:15Z',\n",
       "   'content': 'Bagi kamu semua para penggemar dan\\xa0fanboy\\xa0Huawei pasti sudah sangat tahu kalau Huawei Mate 30 Pro tidak punya aplikasi Google.\\r\\nDi sini Huawei Mate 30 Pro tidak memakai layanan Google Play Service seperti hampir semua ponsel Android lainnya.\\r\\nLalu sistem dan … [+1706 chars]'},\n",
       "  {'source': {'id': None, 'name': 'Idntimes.com'},\n",
       "   'author': 'Lia',\n",
       "   'title': 'Super Langka, 7 Fenomena Langit Indah yang Sayang untuk Dilewatkan - IDN Times',\n",
       "   'description': 'Apa kamu pernah menyaksikan salah satunya?',\n",
       "   'url': 'https://www.idntimes.com/science/discovery/lia-89/fenomena-langit-indah-c1c2',\n",
       "   'urlToImage': 'https://cdn.idntimes.com/content-images/community/2019/11/img-20191114-150322-67bf4fb627f2f2f76976fc179ed23f19_wm_600x315.jpg',\n",
       "   'publishedAt': '2019-11-18T04:30:00Z',\n",
       "   'content': None},\n",
       "  {'source': {'id': None, 'name': 'Kompas.com'},\n",
       "   'author': 'Erlangga Djumena',\n",
       "   'title': 'Ini 5 Reksadana Saham dengan Imbal Hasil Tertinggi - Kompas.com - KOMPAS.com',\n",
       "   'description': 'Dengan merosotnya kinerja IHSG, hanya beberapa segelintir reksadana saham yang masih bertahan di zona hijau.',\n",
       "   'url': 'https://money.kompas.com/read/2019/11/18/112833026/ini-5-reksadana-saham-dengan-imbal-hasil-tertinggi',\n",
       "   'urlToImage': 'https://asset.kompas.com/crops/6_Ou4xuha-pVki87EB6qcrq3ev4=/0x0:4500x3000/780x390/filters:watermark(data/photo/2019/08/13/5d528b8fbf859.png,0,-0,1)/data/photo/2019/07/01/4187727661.jpg',\n",
       "   'publishedAt': '2019-11-18T04:28:00Z',\n",
       "   'content': 'JAKARTA, KOMPAS.com - Indeks Harga Saham Gabungan ( IHSG) naik 0,48 persen ke level 6.128,34 pada penutupan perdagangan Jumat (15/11/2019) lalu. Hanya saja selama pekan lalu, IHSG terpangkas 0,8 persen.\\r\\nKinerja IHSG yang terus melaju di zona merah turut memp… [+1295 chars]'},\n",
       "  {'source': {'id': None, 'name': 'Kompas.com'},\n",
       "   'author': 'Gloria Setyvani Putri',\n",
       "   'title': 'Pakar: Tak Ada Bukti Obat Herbal Bisa Sembuhkan Pasien Kanker - Kompas.com - Sains Kompas.com',\n",
       "   'description': 'Ada beberapa obat herbal yang justru dapat menghambat proses pengobatan kanker, misalnya ekstrak bawang putih dan jahe. Halaman all',\n",
       "   'url': 'https://sains.kompas.com/read/2019/11/18/112300223/pakar-tak-ada-bukti-obat-herbal-bisa-sembuhkan-pasien-kanker?page=all',\n",
       "   'urlToImage': 'https://asset.kompas.com/crops/6zvbpwsaiBz_IGbQH99jM5fCiTk=/109x0:694x390/780x390/filters:watermark(data/photo/2019/08/13/5d528bc754494.png,0,-0,1)/data/photo/2014/04/07/0748402shutterstock-72466159780x390.jpg',\n",
       "   'publishedAt': '2019-11-18T04:23:00Z',\n",
       "   'content': 'KOMPAS.com - Sejumlah pakar mengungkapkan, obat-obatan herbal yang mengandung ekstrak bawang putih dan jahe bisa menghambat penyembuhan luka pada bagian kulit ketika kanker payudara menyebar.\\r\\nOleh karena itu, dalam sebuah pertemuan yang membahas soal kanker,… [+3132 chars]'},\n",
       "  {'source': {'id': None, 'name': 'Detik.com'},\n",
       "   'author': 'Arief Ikhsanudin',\n",
       "   'title': 'Warga yang Digusur Ngaku Pendukung Anies, Walkot Jakut: Mereka Tak Ikut Pemilu - Detiknews',\n",
       "   'description': 'Menurut Wali Kota Jakut, warga Sunter korban penggusuran yang mengaku pendukung Anies justru tak ikut Pemilu.',\n",
       "   'url': 'https://news.detik.com/berita/d-4788540/warga-yang-digusur-ngaku-pendukung-anies-walkot-jakut-mereka-tak-ikut-pemilu',\n",
       "   'urlToImage': 'https://awsimages.detik.net.id/api/wm/2019/11/18/bea42d0f-6334-4880-b0ce-21c1b73d1f45_169.jpeg?wid=54&w=650&v=1&t=jpeg',\n",
       "   'publishedAt': '2019-11-18T04:07:02Z',\n",
       "   'content': 'Jakarta -\\r\\n Warga Sunter, Jakarta Utara, yang digusur mengaku sebagai pendukung Anies Baswedan saat Pilgub DKI 2017 dan menagih janji sang Gubernur. Tapi, menurut Wali Kota Jakut Sigit Wijatmoko, mereka tak ikut Pemilu. \"Cek aja, di daftar pemilih sementara m… [+517 chars]'},\n",
       "  {'source': {'id': None, 'name': 'Bolasport.com'},\n",
       "   'author': 'Delia Mustikasari',\n",
       "   'title': 'Jorge Lorenzo Ungkap 2 Kata Usai Jalani Balapan Terakhir pada MotoGP Valencia 2019 - Bolasport.com',\n",
       "   'description': 'BOLSPORT.COM - Pembalap asal Spanyol, Jorge Lorenzo, resmi mengakhiri kiprahnya pada balapan MotoGP alias pensiun setelah mengikuti MotoGP Valenc',\n",
       "   'url': 'https://www.bolasport.com/read/311923144/jorge-lorenzo-ungkap-2-kata-usai-jalani-balapan-terakhir-pada-motogp-valencia-2019',\n",
       "   'urlToImage': 'https://asset-a.grid.id/crop/0x0:0x0/700x465/photo/2019/11/18/2748484687.jpg',\n",
       "   'publishedAt': '2019-11-18T04:00:00Z',\n",
       "   'content': 'BOLSPORT.COM - Pembalap asal Spanyol, Jorge Lorenzo, resmi mengakhiri kiprahnya pada balapan MotoGP alias pensiun setelah mengikuti MotoGP Valencia di Sirkuit Ricardo Tormo, Minggu (17/11/2019).\\r\\nJorge Lorenzo menyelesaikan karier balap pada MotoGP dengan fin… [+1474 chars]'},\n",
       "  {'source': {'id': None, 'name': 'Kapanlagi.com'},\n",
       "   'author': None,\n",
       "   'title': 'Dipersunting Sandy Nasution, Dian Pelangi Akhirnya Menikah Lagi - KapanLagi.com',\n",
       "   'description': 'Dian Pelangi baru saja menggelar pernikahannya yang kedua dengan pengusaha tampan bernama Sandy Nasution. Congrats!',\n",
       "   'url': 'https://www.kapanlagi.com/showbiz/selebriti/dipersunting-sandy-nasution-dian-pelangi-akhirnya-menikah-lagi-912efa.html',\n",
       "   'urlToImage': 'https://cdns.klimg.com/kapanlagi.com/p/headline/476x238/dipersunting-sandy-nasution-dian-pelang-10d055.jpg',\n",
       "   'publishedAt': '2019-11-18T03:45:00Z',\n",
       "   'content': 'Kapanlagi.com - Sebuah kabar bahagia baru saja datang dari Dian Pelangi dan sang tunangan, Sandy Nasution. Pasangan ini akhirnya resmi menikah pada Minggu (17/11) kemarin.\\xa0Mereka menggelar acara akad nikah dan pesta resepsi di hari yang sama.\\r\\nBerdasarkan inf… [+1646 chars]'},\n",
       "  {'source': {'id': None, 'name': 'Cnnindonesia.com'},\n",
       "   'author': None,\n",
       "   'title': 'Jejak Sukmawati: Puisi Azan Hingga Bandingkan Nabi Muhammad - CNN Indonesia',\n",
       "   'description': 'Sukmawati Soekarnoputri memiliki rangkaian kasus kontroversial terkait dengan Islam\\xa0yang membuatnya dituding melakukan\\xa0penodaan agama.',\n",
       "   'url': 'https://cnnindonesia.com/nasional/20191118101751-20-449219/jejak-sukmawati-puisi-azan-hingga-bandingkan-nabi-muhammad',\n",
       "   'urlToImage': 'https://awsimages.detik.net.id/visual/2018/04/05/c5583827-16ec-4af4-bf3d-55bdd8efccd9_169.jpeg?w=650',\n",
       "   'publishedAt': '2019-11-18T03:44:22Z',\n",
       "   'content': 'Jakarta, CNN Indonesia -- Politikus Sukmawati Soekarnoputri\\xa0tercatat memiliki rangkaian kasus kontroversial yang terkait dengan Islam. Tudingan\\xa0penodaan agama pun sempat tersemat padanya.Diketahui, Sukmawati kini tengah dalam proses hukum di Polda Metro Jaya … [+3622 chars]'},\n",
       "  {'source': {'id': None, 'name': 'Detik.com'},\n",
       "   'author': 'Zunita Putri',\n",
       "   'title': 'KAI Terapkan Gapeka 2019, Jadwal Kereta Api-Nama Stasiun Alami Perubahan - Detiknews',\n",
       "   'description': 'PT KAI akan memberlakukan Grafik Perjalanan Kereta 2019 per 1 Desember. Pemberlakuan ini membuat jadwal kereta, waktu tempuh kereta hingga nama stasiun berubah.',\n",
       "   'url': 'https://news.detik.com/berita/d-4788484/kai-terapkan-gapeka-2019-jadwal-kereta-api-nama-stasiun-alami-perubahan',\n",
       "   'urlToImage': 'https://awsimages.detik.net.id/api/wm/2019/08/28/7be453e6-64c0-47c2-b91e-aec0cff881ad_169.jpeg?wid=54&w=650&v=1&t=jpeg',\n",
       "   'publishedAt': '2019-11-18T03:31:17Z',\n",
       "   'content': 'Jakarta -\\r\\n PT Kereta Api Indonesia (KAI) akan memberlakukan Grafik Perjalanan Kereta (Gapeka) 2019 mulai 1 Desember nanti. Pemberlakuan Gapeka 2019 membuat jadwal kereta, waktu tempuh kereta, hingga nama stasiun mengalami perubahan.\"Penggunaan Gapeka 2019 in… [+898 chars]'},\n",
       "  {'source': {'id': None, 'name': 'Kompas.com'},\n",
       "   'author': 'Jessi Carina',\n",
       "   'title': 'Kronologi Bentrok FBR dan PP di Bekasi, Dua Anggota Awalnya Justru Sedang Joget Bareng - Kompas.com - Megapolitan Kompas.com',\n",
       "   'description': 'Peristiwa bermula ketika anggota ormas Forum Betawi Rempug (FBR), Dedi, dan Pemuda Pancasila (PP), Deni, justru sedang akrab di sebuah kafe.',\n",
       "   'url': 'https://megapolitan.kompas.com/read/2019/11/18/10222261/kronologi-bentrok-fbr-dan-pp-di-bekasi-dua-anggota-awalnya-justru-sedang',\n",
       "   'urlToImage': 'https://asset.kompas.com/crops/dFH9T7nvNOLi-YO_ED8QkUy8HI4=/0x0:780x390/780x390/filters:watermark(data/photo/2019/08/13/5d528b8341764.png,0,-0,1)/data/photo/2010/09/29/1535082780x390.jpg',\n",
       "   'publishedAt': '2019-11-18T03:22:00Z',\n",
       "   'content': 'BEKASI, KOMPAS.com\\xa0— Kepala Subbagian Humas Polres Metro Bekasi Kota Kompol Erna Ruswing Andari membeberkan kronologi bentrokan yang melibatkan dua organisasi masyarakat di Bekasi, Sabtu (16/11/2019) dini hari.\\r\\nErna mengatakan, peristiwa bermula ketika anggo… [+1436 chars]'},\n",
       "  {'source': {'id': None, 'name': 'Okezone.com'},\n",
       "   'author': None,\n",
       "   'title': 'Coba Deh 48 Jam Tak Merokok, Ini yang Akan Terjadi Pada Tubuh Anda page-1 : Okezone Lifestyle - Okezone',\n",
       "   'description': 'Tidak perlu waktu lama, perbaikan kondisi kesehatan tersebut akan terjadi dalam waktu cepat.',\n",
       "   'url': 'https://lifestyle.okezone.com/read/2019/11/18/481/2131146/coba-deh-48-jam-tak-merokok-ini-yang-akan-terjadi-pada-tubuh-anda',\n",
       "   'urlToImage': 'https://img.okezone.com/content/2019/11/18/481/2131146/coba-deh-48-jam-tak-merokok-ini-yang-akan-terjadi-pada-tubuh-anda-mDh6ybac0g.jpg',\n",
       "   'publishedAt': '2019-11-18T03:21:17Z',\n",
       "   'content': 'ROKOK memang menjadi salah satu penyebab penyakit berbahaya, sebut saja kanker, stroke atau bahkan impotensi. Tapi, bagi mereka ahli hisap yang sudah mengkonsumsi rokok dalam waktu lama, akan sangat sulit untuk menghentikan kegiatan tersebut.\\r\\nPadahal, berhen… [+2441 chars]'},\n",
       "  {'source': {'id': None, 'name': 'Bola.com'},\n",
       "   'author': 'Wiwig Prayugi',\n",
       "   'title': 'Ronaldo Sebut Kandang Timnas Luksemburg Mirip Kebun Kentang - Bola.com',\n",
       "   'description': 'Cristiano Ronaldo menyebut kandang Timnas Luksemburg mirip kebun kentang.',\n",
       "   'url': 'https://www.bola.com/dunia/read/4113168/ronaldo-sebut-kandang-timnas-luksemburg-mirip-kebun-kentang',\n",
       "   'urlToImage': 'https://cdn0-production-images-kly.akamaized.net/XWCCYJnICZ7TeCombdApBbKko7w=/0x44:1024x621/673x379/filters:quality(75):strip_icc():format(jpeg)/kly-media-production/medias/2969913/original/031058000_1574004468-Luksemburg_v_Portugal_-_John_Thys_AFP.jpg',\n",
       "   'publishedAt': '2019-11-18T03:00:18Z',\n",
       "   'content': 'Bola.com, Jakarta Kapten Timnas Portugal, Cristiano Ronaldo merasa tidak nyaman bermain di\\xa0di Stadion Josy Barthel, kandang Timnas Luksemburg.\\r\\nPortugal menang 2-0 atas Luksemburg pada laga lanjutan Grup B Kualifikasi Piala Eropa 2020, Minggu (17/11/2019). Me… [+697 chars]'},\n",
       "  {'source': {'id': None, 'name': 'Kompas.com'},\n",
       "   'author': 'Jalu Wisnu Wirajati',\n",
       "   'title': 'Rekor Unik Anthony Ginting di Hong Kong Open 2019 - Kompas.com - KOMPAS.com',\n",
       "   'description': \"Anthony Ginting menjadi satu-satunya pemain 'langganan' tiga gim di turnamen Hong Kong Open 2019 Halaman all\",\n",
       "   'url': 'https://bola.kompas.com/read/2019/11/18/09400078/rekor-unik-anthony-ginting-di-hong-kong-open-2019?page=all',\n",
       "   'urlToImage': 'https://asset.kompas.com/crops/P0tHceV3smzRT_uVhrnwjw266uc=/5x0:3439x2289/780x390/filters:watermark(data/photo/2019/08/13/5d528b377fe82.png,0,-0,1)/data/photo/2019/07/16/5d2ddaa957e90.jpg',\n",
       "   'publishedAt': '2019-11-18T02:40:00Z',\n",
       "   'content': 'KOMPAS.com -\\xa0Pebulu tangkis tunggal putra Indonesia, Anthony Sinisuka Ginting, mengukir rekor unik di turnamen Hong Kong Open 2019.\\r\\nAnthony Sinisuka Ginting harus mengubur mimpinya menjadi juara di sektor tunggal putra Hong Kong Open 2019.\\r\\nAnthony harus pua… [+2725 chars]'},\n",
       "  {'source': {'id': None, 'name': 'Kompas.com'},\n",
       "   'author': 'Gloria Setyvani Putri',\n",
       "   'title': 'Brentuximab Vedotin, Terapi Baru untuk Kanker Limfoma Hodgkin Kambuh - Kompas.com - Sains Kompas.com',\n",
       "   'description': 'Brentuximab Vedotin merupakan inovasi pengobatan non transplantasi dengan Antibody Drug Conjugate (ADC) yang dikategorikan sebagai terapi bertarget. Halaman all',\n",
       "   'url': 'https://sains.kompas.com/read/2019/11/18/092300723/brentuximab-vedotin-terapi-baru-untuk-kanker-limfoma-hodgkin-kambuh?page=all',\n",
       "   'urlToImage': 'https://asset.kompas.com/crops/2Jby9cjRPv6miAQoAKuvNNZjvls=/3x0:993x660/780x390/filters:watermark(data/photo/2019/08/13/5d528bc754494.png,0,-0,1)/data/photo/2018/03/22/4248018743.jpg',\n",
       "   'publishedAt': '2019-11-18T02:23:00Z',\n",
       "   'content': 'KOMPAS.com -Kanker selalu identik dengan pengobatan yang banyak memiliki efek samping dan biaya yang tak sedikit.\\r\\nInovasi pengobatan dan obat-obatan juga terus terjadi, salah satunya yaitu pengobatan untuk penyakit kanker limfoma Hodgkin (LH) yang memiliki a… [+3420 chars]'},\n",
       "  {'source': {'id': None, 'name': 'Kompas.com'},\n",
       "   'author': 'Tri Susanto Setiawan',\n",
       "   'title': 'Siapa Sosok Rizky, Mantan Satpam yang Curi Motor Baim Wong - Kompas.com - KOMPAS.com',\n",
       "   'description': 'Niat baik Baim Wong justru dimanfaatkan Rizky untuk menipu dengan mencuri dua motor Baim Halaman all',\n",
       "   'url': 'https://www.kompas.com/hype/read/2019/11/18/090423866/siapa-sosok-rizky-mantan-satpam-yang-curi-motor-baim-wong?page=all',\n",
       "   'urlToImage': 'https://asset.kompas.com/crops/fciqJsK_D-eqCrg2ySp2hE0lc5Q=/0x0:0x0/780x390/data/photo/2019/11/17/5dd12bf8a8f49.jpg',\n",
       "   'publishedAt': '2019-11-18T02:04:00Z',\n",
       "   'content': 'JAKARTA, KOMPAS.com - Akhir pekan heboh dengan penangkapan pencuri motor Baim Wong yang sebenarnya masih orang terdekat aktor 38 tahun tersebut.\\r\\nRizky yang sempat dicari-cari oleh Baim beberapa minggu, akhirnya tertangkap saat akan menggadaikan motor.\\r\\nDiran… [+5289 chars]'},\n",
       "  {'source': {'id': None, 'name': 'Suara.com'},\n",
       "   'author': 'Dythia Novianty',\n",
       "   'title': 'Huawei Siapkan Pesaing Motorola Razr - Suara.com',\n",
       "   'description': 'Huawei telah mengajukan paten ponsel clamshell.',\n",
       "   'url': 'https://www.suara.com/tekno/2019/11/18/090000/huawei-siapkan-pesaing-motorola-razr',\n",
       "   'urlToImage': 'https://media.suara.com/pictures/653x366/2019/07/14/42711-logo-huawei.jpg',\n",
       "   'publishedAt': '2019-11-18T02:00:00Z',\n",
       "   'content': 'Suara.com - Motorola baru saja menghidupkan kembali Razr dengan inovasi berupa ponsel dengan layar yang bisa lipat.\\r\\nSepertinya, Huawei tidak ingin Motorola Razr mendapatkan panggung popularitas sendirian saja. Pasalnya, mereka bakal menyiapkan pesaing untuk … [+992 chars]'}]}"
      ]
     },
     "execution_count": 89,
     "metadata": {},
     "output_type": "execute_result"
    }
   ],
   "source": [
    "response"
   ]
  },
  {
   "cell_type": "code",
   "execution_count": 90,
   "metadata": {
    "scrolled": true
   },
   "outputs": [
    {
     "name": "stdout",
     "output_type": "stream",
     "text": [
      "{'id': None, 'name': 'Grid.id'}\n",
      "{'id': None, 'name': 'Katadata.co.id'}\n",
      "{'id': None, 'name': 'Suara.com'}\n",
      "{'id': None, 'name': 'Detik.com'}\n",
      "{'id': None, 'name': 'Idntimes.com'}\n",
      "{'id': None, 'name': 'Idntimes.com'}\n",
      "{'id': None, 'name': 'Kompas.com'}\n",
      "{'id': None, 'name': 'Kompas.com'}\n",
      "{'id': None, 'name': 'Detik.com'}\n",
      "{'id': None, 'name': 'Bolasport.com'}\n",
      "{'id': None, 'name': 'Kapanlagi.com'}\n",
      "{'id': None, 'name': 'Cnnindonesia.com'}\n",
      "{'id': None, 'name': 'Detik.com'}\n",
      "{'id': None, 'name': 'Kompas.com'}\n",
      "{'id': None, 'name': 'Okezone.com'}\n",
      "{'id': None, 'name': 'Bola.com'}\n",
      "{'id': None, 'name': 'Kompas.com'}\n",
      "{'id': None, 'name': 'Kompas.com'}\n",
      "{'id': None, 'name': 'Kompas.com'}\n",
      "{'id': None, 'name': 'Suara.com'}\n"
     ]
    }
   ],
   "source": [
    "temp = []\n",
    "for r in response['articles']:\n",
    "    print(r['source'])\n",
    "    temp.append(r)"
   ]
  },
  {
   "cell_type": "code",
   "execution_count": 91,
   "metadata": {},
   "outputs": [
    {
     "data": {
      "text/plain": [
       "[{'source': {'id': None, 'name': 'Grid.id'},\n",
       "  'author': None,\n",
       "  'title': 'Baru Seminggu Pendaftarannya Dibuka, BKN Sudah Temukan Dugaan Kecurangan CPNS 2019, Fitur Ini Sampai Dihila... - GridHot.ID',\n",
       "  'description': 'Pihak BKN sendiri menemukan adanya indikasi kecurang di pendaftaran CPNS 2019. Fitur yang satu ini langsung dihilangkan BKN.',\n",
       "  'url': 'https://hot.grid.id/read/181922460/baru-seminggu-pendaftarannya-dibuka-bkn-sudah-temukan-dugaan-kecurangan-cpns-2019-fitur-ini-sampai-dihilangkan-di-portal',\n",
       "  'urlToImage': 'https://asset-a.grid.id/crop/0x0:0x0/700x465/photo/2019/11/11/2184818268.jpg',\n",
       "  'publishedAt': '2019-11-18T05:52:23Z',\n",
       "  'content': 'Laporan Wartawan Gridhot.ID, Angriawan Cahyo Pawenang\\r\\nGridhot.ID -Pendaftaranseleksi Calon Pegawai Negeri Sipil (CPNS) 2019 telah resmi dibuka.\\r\\nDikutip Gridhot dari Tribunnews, pendaftaranCPNS sudah dibuka sekitar seminggu sejak Senin (11/11/2019).\\r\\nPara pe… [+803 chars]'},\n",
       " {'source': {'id': None, 'name': 'Katadata.co.id'},\n",
       "  'author': 'Desy Setyowati',\n",
       "  'title': 'Setelah Instagram, Giliran TikTok Luncurkan Fitur Belanja - Katadata.co.id',\n",
       "  'description': 'Facebook lebih dulu meluncurkan fitur belanja. Snapchat juga menggandeng Amazon untuk merilis layanan belanja lewat kamera.',\n",
       "  'url': 'https://katadata.co.id/berita/2019/11/18/setelah-instagram-giliran-tiktok-luncurkan-fitur-belanja',\n",
       "  'urlToImage': 'https://cdn1.katadata.co.id/media/images/thumb/2018/07/04/2018_07_04-16_10_00_87a38998227cbbc23dcad51cd7f76ab2_620x413_shared1.jpg',\n",
       "  'publishedAt': '2019-11-18T05:26:15Z',\n",
       "  'content': 'Perusahaan teknologi penyedia platformmedia sosial mulai merambah pasar e-commerce. Facebook sudah menambahkan fitur belanja online di WhatsApp dan Instagram, kini giliran TikTok.\\r\\nTikTok menambahkan fitur berupa tautan ke situs e-commerce di biografi profil.… [+2867 chars]'},\n",
       " {'source': {'id': None, 'name': 'Suara.com'},\n",
       "  'author': 'Dythia Novianty',\n",
       "  'title': 'Ditemukan Bintang Melaju Super Cepat di Galaksi Bima Sakti - Suara.com',\n",
       "  'description': 'Ilmuwan memperkirakan bahwa bintang itu akan keluar dari galaksi Bima Sakti.',\n",
       "  'url': 'https://www.suara.com/tekno/2019/11/18/120500/ditemukan-bintang-melaju-super-cepat-di-galaksi-bima-sakti',\n",
       "  'urlToImage': 'https://media.suara.com/pictures/653x366/2019/03/04/56787-bimasakti.jpg',\n",
       "  'publishedAt': '2019-11-18T05:05:00Z',\n",
       "  'content': 'Suara.com - Ilmuwan menemukan sebuah bintang berkelana dalam kecepatan super tinggi di alam semesta. Diduga, bintang tersebut melaju cepat setelah terlempar keluar dari lubang hitam.\\r\\nSaking cepatnya laju bintang tersebut, ilmuwan memperkirakan bahwa bintang … [+1616 chars]'},\n",
       " {'source': {'id': None, 'name': 'Detik.com'},\n",
       "  'author': 'Datuk Haris Molana',\n",
       "  'title': 'Massa Demo Tolak Pemakaman Pelaku Bom Bunuh Diri di Medan - detikNews',\n",
       "  'description': 'Massa di Medan, Sumut, menggelar demonstrasi menolak pemakaman jenazah pelaku bom bunuh diri, Rabbial Muslim Nasution di Medan.',\n",
       "  'url': 'https://news.detik.com/berita/d-4788644/massa-demo-tolak-pemakaman-pelaku-bom-bunuh-diri-di-medan',\n",
       "  'urlToImage': 'https://awsimages.detik.net.id/api/wm/2019/11/18/4e0d5921-c2dd-4882-8237-f7df5ae51d9b_169.jpeg?wid=54&w=650&v=1&t=jpeg',\n",
       "  'publishedAt': '2019-11-18T05:01:20Z',\n",
       "  'content': 'Medan -\\r\\nMassa di Medan, Sumut, menggelar demonstrasi menolak pemakaman jenazah pelaku bom bunuh diri, Rabbial Muslim Nasution, di Medan. Aksi ini digelar di dekat Tempat Pemakaman Umum (TPU) Sei Sikambing, Medan Petisah, Senin (18/11/2019). Belasan massa yan… [+1350 chars]'},\n",
       " {'source': {'id': None, 'name': 'Idntimes.com'},\n",
       "  'author': 'Dimas Ramadhan',\n",
       "  'title': 'Huawei Mate 30 Pro Tak Ada Aplikasi Google, Ini Sistem yang Digunakan - Duniaku.com',\n",
       "  'description': 'Apa sih sistem layanan yang digunakan di Huawei Mate 30 Pro?',\n",
       "  'url': 'https://duniaku.idntimes.com/tekno/gadgets/dimas-ramadhan-2/huawei-mate-30-pro-tak-ada-aplikasi-google',\n",
       "  'urlToImage': 'https://cdn.idntimes.com/content-images/duniaku/post/20191118/huawei-mate-30-pro-0-9b786f38c89c7bb5c31707724a549c72_600x400.jpg',\n",
       "  'publishedAt': '2019-11-18T04:47:15Z',\n",
       "  'content': 'Bagi kamu semua para penggemar dan\\xa0fanboy\\xa0Huawei pasti sudah sangat tahu kalau Huawei Mate 30 Pro tidak punya aplikasi Google.\\r\\nDi sini Huawei Mate 30 Pro tidak memakai layanan Google Play Service seperti hampir semua ponsel Android lainnya.\\r\\nLalu sistem dan … [+1706 chars]'},\n",
       " {'source': {'id': None, 'name': 'Idntimes.com'},\n",
       "  'author': 'Lia',\n",
       "  'title': 'Super Langka, 7 Fenomena Langit Indah yang Sayang untuk Dilewatkan - IDN Times',\n",
       "  'description': 'Apa kamu pernah menyaksikan salah satunya?',\n",
       "  'url': 'https://www.idntimes.com/science/discovery/lia-89/fenomena-langit-indah-c1c2',\n",
       "  'urlToImage': 'https://cdn.idntimes.com/content-images/community/2019/11/img-20191114-150322-67bf4fb627f2f2f76976fc179ed23f19_wm_600x315.jpg',\n",
       "  'publishedAt': '2019-11-18T04:30:00Z',\n",
       "  'content': None},\n",
       " {'source': {'id': None, 'name': 'Kompas.com'},\n",
       "  'author': 'Erlangga Djumena',\n",
       "  'title': 'Ini 5 Reksadana Saham dengan Imbal Hasil Tertinggi - Kompas.com - KOMPAS.com',\n",
       "  'description': 'Dengan merosotnya kinerja IHSG, hanya beberapa segelintir reksadana saham yang masih bertahan di zona hijau.',\n",
       "  'url': 'https://money.kompas.com/read/2019/11/18/112833026/ini-5-reksadana-saham-dengan-imbal-hasil-tertinggi',\n",
       "  'urlToImage': 'https://asset.kompas.com/crops/6_Ou4xuha-pVki87EB6qcrq3ev4=/0x0:4500x3000/780x390/filters:watermark(data/photo/2019/08/13/5d528b8fbf859.png,0,-0,1)/data/photo/2019/07/01/4187727661.jpg',\n",
       "  'publishedAt': '2019-11-18T04:28:00Z',\n",
       "  'content': 'JAKARTA, KOMPAS.com - Indeks Harga Saham Gabungan ( IHSG) naik 0,48 persen ke level 6.128,34 pada penutupan perdagangan Jumat (15/11/2019) lalu. Hanya saja selama pekan lalu, IHSG terpangkas 0,8 persen.\\r\\nKinerja IHSG yang terus melaju di zona merah turut memp… [+1295 chars]'},\n",
       " {'source': {'id': None, 'name': 'Kompas.com'},\n",
       "  'author': 'Gloria Setyvani Putri',\n",
       "  'title': 'Pakar: Tak Ada Bukti Obat Herbal Bisa Sembuhkan Pasien Kanker - Kompas.com - Sains Kompas.com',\n",
       "  'description': 'Ada beberapa obat herbal yang justru dapat menghambat proses pengobatan kanker, misalnya ekstrak bawang putih dan jahe. Halaman all',\n",
       "  'url': 'https://sains.kompas.com/read/2019/11/18/112300223/pakar-tak-ada-bukti-obat-herbal-bisa-sembuhkan-pasien-kanker?page=all',\n",
       "  'urlToImage': 'https://asset.kompas.com/crops/6zvbpwsaiBz_IGbQH99jM5fCiTk=/109x0:694x390/780x390/filters:watermark(data/photo/2019/08/13/5d528bc754494.png,0,-0,1)/data/photo/2014/04/07/0748402shutterstock-72466159780x390.jpg',\n",
       "  'publishedAt': '2019-11-18T04:23:00Z',\n",
       "  'content': 'KOMPAS.com - Sejumlah pakar mengungkapkan, obat-obatan herbal yang mengandung ekstrak bawang putih dan jahe bisa menghambat penyembuhan luka pada bagian kulit ketika kanker payudara menyebar.\\r\\nOleh karena itu, dalam sebuah pertemuan yang membahas soal kanker,… [+3132 chars]'},\n",
       " {'source': {'id': None, 'name': 'Detik.com'},\n",
       "  'author': 'Arief Ikhsanudin',\n",
       "  'title': 'Warga yang Digusur Ngaku Pendukung Anies, Walkot Jakut: Mereka Tak Ikut Pemilu - Detiknews',\n",
       "  'description': 'Menurut Wali Kota Jakut, warga Sunter korban penggusuran yang mengaku pendukung Anies justru tak ikut Pemilu.',\n",
       "  'url': 'https://news.detik.com/berita/d-4788540/warga-yang-digusur-ngaku-pendukung-anies-walkot-jakut-mereka-tak-ikut-pemilu',\n",
       "  'urlToImage': 'https://awsimages.detik.net.id/api/wm/2019/11/18/bea42d0f-6334-4880-b0ce-21c1b73d1f45_169.jpeg?wid=54&w=650&v=1&t=jpeg',\n",
       "  'publishedAt': '2019-11-18T04:07:02Z',\n",
       "  'content': 'Jakarta -\\r\\n Warga Sunter, Jakarta Utara, yang digusur mengaku sebagai pendukung Anies Baswedan saat Pilgub DKI 2017 dan menagih janji sang Gubernur. Tapi, menurut Wali Kota Jakut Sigit Wijatmoko, mereka tak ikut Pemilu. \"Cek aja, di daftar pemilih sementara m… [+517 chars]'},\n",
       " {'source': {'id': None, 'name': 'Bolasport.com'},\n",
       "  'author': 'Delia Mustikasari',\n",
       "  'title': 'Jorge Lorenzo Ungkap 2 Kata Usai Jalani Balapan Terakhir pada MotoGP Valencia 2019 - Bolasport.com',\n",
       "  'description': 'BOLSPORT.COM - Pembalap asal Spanyol, Jorge Lorenzo, resmi mengakhiri kiprahnya pada balapan MotoGP alias pensiun setelah mengikuti MotoGP Valenc',\n",
       "  'url': 'https://www.bolasport.com/read/311923144/jorge-lorenzo-ungkap-2-kata-usai-jalani-balapan-terakhir-pada-motogp-valencia-2019',\n",
       "  'urlToImage': 'https://asset-a.grid.id/crop/0x0:0x0/700x465/photo/2019/11/18/2748484687.jpg',\n",
       "  'publishedAt': '2019-11-18T04:00:00Z',\n",
       "  'content': 'BOLSPORT.COM - Pembalap asal Spanyol, Jorge Lorenzo, resmi mengakhiri kiprahnya pada balapan MotoGP alias pensiun setelah mengikuti MotoGP Valencia di Sirkuit Ricardo Tormo, Minggu (17/11/2019).\\r\\nJorge Lorenzo menyelesaikan karier balap pada MotoGP dengan fin… [+1474 chars]'},\n",
       " {'source': {'id': None, 'name': 'Kapanlagi.com'},\n",
       "  'author': None,\n",
       "  'title': 'Dipersunting Sandy Nasution, Dian Pelangi Akhirnya Menikah Lagi - KapanLagi.com',\n",
       "  'description': 'Dian Pelangi baru saja menggelar pernikahannya yang kedua dengan pengusaha tampan bernama Sandy Nasution. Congrats!',\n",
       "  'url': 'https://www.kapanlagi.com/showbiz/selebriti/dipersunting-sandy-nasution-dian-pelangi-akhirnya-menikah-lagi-912efa.html',\n",
       "  'urlToImage': 'https://cdns.klimg.com/kapanlagi.com/p/headline/476x238/dipersunting-sandy-nasution-dian-pelang-10d055.jpg',\n",
       "  'publishedAt': '2019-11-18T03:45:00Z',\n",
       "  'content': 'Kapanlagi.com - Sebuah kabar bahagia baru saja datang dari Dian Pelangi dan sang tunangan, Sandy Nasution. Pasangan ini akhirnya resmi menikah pada Minggu (17/11) kemarin.\\xa0Mereka menggelar acara akad nikah dan pesta resepsi di hari yang sama.\\r\\nBerdasarkan inf… [+1646 chars]'},\n",
       " {'source': {'id': None, 'name': 'Cnnindonesia.com'},\n",
       "  'author': None,\n",
       "  'title': 'Jejak Sukmawati: Puisi Azan Hingga Bandingkan Nabi Muhammad - CNN Indonesia',\n",
       "  'description': 'Sukmawati Soekarnoputri memiliki rangkaian kasus kontroversial terkait dengan Islam\\xa0yang membuatnya dituding melakukan\\xa0penodaan agama.',\n",
       "  'url': 'https://cnnindonesia.com/nasional/20191118101751-20-449219/jejak-sukmawati-puisi-azan-hingga-bandingkan-nabi-muhammad',\n",
       "  'urlToImage': 'https://awsimages.detik.net.id/visual/2018/04/05/c5583827-16ec-4af4-bf3d-55bdd8efccd9_169.jpeg?w=650',\n",
       "  'publishedAt': '2019-11-18T03:44:22Z',\n",
       "  'content': 'Jakarta, CNN Indonesia -- Politikus Sukmawati Soekarnoputri\\xa0tercatat memiliki rangkaian kasus kontroversial yang terkait dengan Islam. Tudingan\\xa0penodaan agama pun sempat tersemat padanya.Diketahui, Sukmawati kini tengah dalam proses hukum di Polda Metro Jaya … [+3622 chars]'},\n",
       " {'source': {'id': None, 'name': 'Detik.com'},\n",
       "  'author': 'Zunita Putri',\n",
       "  'title': 'KAI Terapkan Gapeka 2019, Jadwal Kereta Api-Nama Stasiun Alami Perubahan - Detiknews',\n",
       "  'description': 'PT KAI akan memberlakukan Grafik Perjalanan Kereta 2019 per 1 Desember. Pemberlakuan ini membuat jadwal kereta, waktu tempuh kereta hingga nama stasiun berubah.',\n",
       "  'url': 'https://news.detik.com/berita/d-4788484/kai-terapkan-gapeka-2019-jadwal-kereta-api-nama-stasiun-alami-perubahan',\n",
       "  'urlToImage': 'https://awsimages.detik.net.id/api/wm/2019/08/28/7be453e6-64c0-47c2-b91e-aec0cff881ad_169.jpeg?wid=54&w=650&v=1&t=jpeg',\n",
       "  'publishedAt': '2019-11-18T03:31:17Z',\n",
       "  'content': 'Jakarta -\\r\\n PT Kereta Api Indonesia (KAI) akan memberlakukan Grafik Perjalanan Kereta (Gapeka) 2019 mulai 1 Desember nanti. Pemberlakuan Gapeka 2019 membuat jadwal kereta, waktu tempuh kereta, hingga nama stasiun mengalami perubahan.\"Penggunaan Gapeka 2019 in… [+898 chars]'},\n",
       " {'source': {'id': None, 'name': 'Kompas.com'},\n",
       "  'author': 'Jessi Carina',\n",
       "  'title': 'Kronologi Bentrok FBR dan PP di Bekasi, Dua Anggota Awalnya Justru Sedang Joget Bareng - Kompas.com - Megapolitan Kompas.com',\n",
       "  'description': 'Peristiwa bermula ketika anggota ormas Forum Betawi Rempug (FBR), Dedi, dan Pemuda Pancasila (PP), Deni, justru sedang akrab di sebuah kafe.',\n",
       "  'url': 'https://megapolitan.kompas.com/read/2019/11/18/10222261/kronologi-bentrok-fbr-dan-pp-di-bekasi-dua-anggota-awalnya-justru-sedang',\n",
       "  'urlToImage': 'https://asset.kompas.com/crops/dFH9T7nvNOLi-YO_ED8QkUy8HI4=/0x0:780x390/780x390/filters:watermark(data/photo/2019/08/13/5d528b8341764.png,0,-0,1)/data/photo/2010/09/29/1535082780x390.jpg',\n",
       "  'publishedAt': '2019-11-18T03:22:00Z',\n",
       "  'content': 'BEKASI, KOMPAS.com\\xa0— Kepala Subbagian Humas Polres Metro Bekasi Kota Kompol Erna Ruswing Andari membeberkan kronologi bentrokan yang melibatkan dua organisasi masyarakat di Bekasi, Sabtu (16/11/2019) dini hari.\\r\\nErna mengatakan, peristiwa bermula ketika anggo… [+1436 chars]'},\n",
       " {'source': {'id': None, 'name': 'Okezone.com'},\n",
       "  'author': None,\n",
       "  'title': 'Coba Deh 48 Jam Tak Merokok, Ini yang Akan Terjadi Pada Tubuh Anda page-1 : Okezone Lifestyle - Okezone',\n",
       "  'description': 'Tidak perlu waktu lama, perbaikan kondisi kesehatan tersebut akan terjadi dalam waktu cepat.',\n",
       "  'url': 'https://lifestyle.okezone.com/read/2019/11/18/481/2131146/coba-deh-48-jam-tak-merokok-ini-yang-akan-terjadi-pada-tubuh-anda',\n",
       "  'urlToImage': 'https://img.okezone.com/content/2019/11/18/481/2131146/coba-deh-48-jam-tak-merokok-ini-yang-akan-terjadi-pada-tubuh-anda-mDh6ybac0g.jpg',\n",
       "  'publishedAt': '2019-11-18T03:21:17Z',\n",
       "  'content': 'ROKOK memang menjadi salah satu penyebab penyakit berbahaya, sebut saja kanker, stroke atau bahkan impotensi. Tapi, bagi mereka ahli hisap yang sudah mengkonsumsi rokok dalam waktu lama, akan sangat sulit untuk menghentikan kegiatan tersebut.\\r\\nPadahal, berhen… [+2441 chars]'},\n",
       " {'source': {'id': None, 'name': 'Bola.com'},\n",
       "  'author': 'Wiwig Prayugi',\n",
       "  'title': 'Ronaldo Sebut Kandang Timnas Luksemburg Mirip Kebun Kentang - Bola.com',\n",
       "  'description': 'Cristiano Ronaldo menyebut kandang Timnas Luksemburg mirip kebun kentang.',\n",
       "  'url': 'https://www.bola.com/dunia/read/4113168/ronaldo-sebut-kandang-timnas-luksemburg-mirip-kebun-kentang',\n",
       "  'urlToImage': 'https://cdn0-production-images-kly.akamaized.net/XWCCYJnICZ7TeCombdApBbKko7w=/0x44:1024x621/673x379/filters:quality(75):strip_icc():format(jpeg)/kly-media-production/medias/2969913/original/031058000_1574004468-Luksemburg_v_Portugal_-_John_Thys_AFP.jpg',\n",
       "  'publishedAt': '2019-11-18T03:00:18Z',\n",
       "  'content': 'Bola.com, Jakarta Kapten Timnas Portugal, Cristiano Ronaldo merasa tidak nyaman bermain di\\xa0di Stadion Josy Barthel, kandang Timnas Luksemburg.\\r\\nPortugal menang 2-0 atas Luksemburg pada laga lanjutan Grup B Kualifikasi Piala Eropa 2020, Minggu (17/11/2019). Me… [+697 chars]'},\n",
       " {'source': {'id': None, 'name': 'Kompas.com'},\n",
       "  'author': 'Jalu Wisnu Wirajati',\n",
       "  'title': 'Rekor Unik Anthony Ginting di Hong Kong Open 2019 - Kompas.com - KOMPAS.com',\n",
       "  'description': \"Anthony Ginting menjadi satu-satunya pemain 'langganan' tiga gim di turnamen Hong Kong Open 2019 Halaman all\",\n",
       "  'url': 'https://bola.kompas.com/read/2019/11/18/09400078/rekor-unik-anthony-ginting-di-hong-kong-open-2019?page=all',\n",
       "  'urlToImage': 'https://asset.kompas.com/crops/P0tHceV3smzRT_uVhrnwjw266uc=/5x0:3439x2289/780x390/filters:watermark(data/photo/2019/08/13/5d528b377fe82.png,0,-0,1)/data/photo/2019/07/16/5d2ddaa957e90.jpg',\n",
       "  'publishedAt': '2019-11-18T02:40:00Z',\n",
       "  'content': 'KOMPAS.com -\\xa0Pebulu tangkis tunggal putra Indonesia, Anthony Sinisuka Ginting, mengukir rekor unik di turnamen Hong Kong Open 2019.\\r\\nAnthony Sinisuka Ginting harus mengubur mimpinya menjadi juara di sektor tunggal putra Hong Kong Open 2019.\\r\\nAnthony harus pua… [+2725 chars]'},\n",
       " {'source': {'id': None, 'name': 'Kompas.com'},\n",
       "  'author': 'Gloria Setyvani Putri',\n",
       "  'title': 'Brentuximab Vedotin, Terapi Baru untuk Kanker Limfoma Hodgkin Kambuh - Kompas.com - Sains Kompas.com',\n",
       "  'description': 'Brentuximab Vedotin merupakan inovasi pengobatan non transplantasi dengan Antibody Drug Conjugate (ADC) yang dikategorikan sebagai terapi bertarget. Halaman all',\n",
       "  'url': 'https://sains.kompas.com/read/2019/11/18/092300723/brentuximab-vedotin-terapi-baru-untuk-kanker-limfoma-hodgkin-kambuh?page=all',\n",
       "  'urlToImage': 'https://asset.kompas.com/crops/2Jby9cjRPv6miAQoAKuvNNZjvls=/3x0:993x660/780x390/filters:watermark(data/photo/2019/08/13/5d528bc754494.png,0,-0,1)/data/photo/2018/03/22/4248018743.jpg',\n",
       "  'publishedAt': '2019-11-18T02:23:00Z',\n",
       "  'content': 'KOMPAS.com -Kanker selalu identik dengan pengobatan yang banyak memiliki efek samping dan biaya yang tak sedikit.\\r\\nInovasi pengobatan dan obat-obatan juga terus terjadi, salah satunya yaitu pengobatan untuk penyakit kanker limfoma Hodgkin (LH) yang memiliki a… [+3420 chars]'},\n",
       " {'source': {'id': None, 'name': 'Kompas.com'},\n",
       "  'author': 'Tri Susanto Setiawan',\n",
       "  'title': 'Siapa Sosok Rizky, Mantan Satpam yang Curi Motor Baim Wong - Kompas.com - KOMPAS.com',\n",
       "  'description': 'Niat baik Baim Wong justru dimanfaatkan Rizky untuk menipu dengan mencuri dua motor Baim Halaman all',\n",
       "  'url': 'https://www.kompas.com/hype/read/2019/11/18/090423866/siapa-sosok-rizky-mantan-satpam-yang-curi-motor-baim-wong?page=all',\n",
       "  'urlToImage': 'https://asset.kompas.com/crops/fciqJsK_D-eqCrg2ySp2hE0lc5Q=/0x0:0x0/780x390/data/photo/2019/11/17/5dd12bf8a8f49.jpg',\n",
       "  'publishedAt': '2019-11-18T02:04:00Z',\n",
       "  'content': 'JAKARTA, KOMPAS.com - Akhir pekan heboh dengan penangkapan pencuri motor Baim Wong yang sebenarnya masih orang terdekat aktor 38 tahun tersebut.\\r\\nRizky yang sempat dicari-cari oleh Baim beberapa minggu, akhirnya tertangkap saat akan menggadaikan motor.\\r\\nDiran… [+5289 chars]'},\n",
       " {'source': {'id': None, 'name': 'Suara.com'},\n",
       "  'author': 'Dythia Novianty',\n",
       "  'title': 'Huawei Siapkan Pesaing Motorola Razr - Suara.com',\n",
       "  'description': 'Huawei telah mengajukan paten ponsel clamshell.',\n",
       "  'url': 'https://www.suara.com/tekno/2019/11/18/090000/huawei-siapkan-pesaing-motorola-razr',\n",
       "  'urlToImage': 'https://media.suara.com/pictures/653x366/2019/07/14/42711-logo-huawei.jpg',\n",
       "  'publishedAt': '2019-11-18T02:00:00Z',\n",
       "  'content': 'Suara.com - Motorola baru saja menghidupkan kembali Razr dengan inovasi berupa ponsel dengan layar yang bisa lipat.\\r\\nSepertinya, Huawei tidak ingin Motorola Razr mendapatkan panggung popularitas sendirian saja. Pasalnya, mereka bakal menyiapkan pesaing untuk … [+992 chars]'}]"
      ]
     },
     "execution_count": 91,
     "metadata": {},
     "output_type": "execute_result"
    }
   ],
   "source": [
    "temp"
   ]
  },
  {
   "cell_type": "code",
   "execution_count": 92,
   "metadata": {
    "scrolled": true
   },
   "outputs": [
    {
     "name": "stdout",
     "output_type": "stream",
     "text": [
      "Baru Seminggu Pendaftarannya Dibuka, BKN Sudah Temukan Dugaan Kecurangan CPNS 2019, Fitur Ini Sampai Dihila... - GridHot.ID\n",
      "https://hot.grid.id/read/181922460/baru-seminggu-pendaftarannya-dibuka-bkn-sudah-temukan-dugaan-kecurangan-cpns-2019-fitur-ini-sampai-dihilangkan-di-portal\n",
      "=========================\n",
      "\n",
      "['tekno']\n",
      "=========================\n",
      "\n",
      "Setelah Instagram, Giliran TikTok Luncurkan Fitur Belanja - Katadata.co.id\n",
      "https://katadata.co.id/berita/2019/11/18/setelah-instagram-giliran-tiktok-luncurkan-fitur-belanja\n",
      "=========================\n",
      "\n",
      "['tekno']\n",
      "=========================\n",
      "\n",
      "Ditemukan Bintang Melaju Super Cepat di Galaksi Bima Sakti - Suara.com\n",
      "https://www.suara.com/tekno/2019/11/18/120500/ditemukan-bintang-melaju-super-cepat-di-galaksi-bima-sakti\n",
      "=========================\n",
      "\n",
      "['tekno']\n",
      "=========================\n",
      "\n",
      "Massa Demo Tolak Pemakaman Pelaku Bom Bunuh Diri di Medan - detikNews\n",
      "https://news.detik.com/berita/d-4788644/massa-demo-tolak-pemakaman-pelaku-bom-bunuh-diri-di-medan\n",
      "=========================\n",
      "\n",
      "['news']\n",
      "=========================\n",
      "\n",
      "Huawei Mate 30 Pro Tak Ada Aplikasi Google, Ini Sistem yang Digunakan - Duniaku.com\n",
      "https://duniaku.idntimes.com/tekno/gadgets/dimas-ramadhan-2/huawei-mate-30-pro-tak-ada-aplikasi-google\n",
      "=========================\n",
      "\n",
      "['tekno']\n",
      "=========================\n",
      "\n",
      "Super Langka, 7 Fenomena Langit Indah yang Sayang untuk Dilewatkan - IDN Times\n",
      "https://www.idntimes.com/science/discovery/lia-89/fenomena-langit-indah-c1c2\n",
      "=========================\n",
      "\n",
      "['tekno']\n",
      "=========================\n",
      "\n",
      "Ini 5 Reksadana Saham dengan Imbal Hasil Tertinggi - Kompas.com - KOMPAS.com\n",
      "https://money.kompas.com/read/2019/11/18/112833026/ini-5-reksadana-saham-dengan-imbal-hasil-tertinggi\n",
      "=========================\n",
      "\n",
      "['tekno']\n",
      "=========================\n",
      "\n",
      "Pakar: Tak Ada Bukti Obat Herbal Bisa Sembuhkan Pasien Kanker - Kompas.com - Sains Kompas.com\n",
      "https://sains.kompas.com/read/2019/11/18/112300223/pakar-tak-ada-bukti-obat-herbal-bisa-sembuhkan-pasien-kanker?page=all\n",
      "=========================\n",
      "\n",
      "['health']\n",
      "=========================\n",
      "\n",
      "Warga yang Digusur Ngaku Pendukung Anies, Walkot Jakut: Mereka Tak Ikut Pemilu - Detiknews\n",
      "https://news.detik.com/berita/d-4788540/warga-yang-digusur-ngaku-pendukung-anies-walkot-jakut-mereka-tak-ikut-pemilu\n",
      "=========================\n",
      "\n",
      "['news']\n",
      "=========================\n",
      "\n",
      "Jorge Lorenzo Ungkap 2 Kata Usai Jalani Balapan Terakhir pada MotoGP Valencia 2019 - Bolasport.com\n",
      "https://www.bolasport.com/read/311923144/jorge-lorenzo-ungkap-2-kata-usai-jalani-balapan-terakhir-pada-motogp-valencia-2019\n",
      "=========================\n",
      "\n",
      "['otomotif']\n",
      "=========================\n",
      "\n",
      "Dipersunting Sandy Nasution, Dian Pelangi Akhirnya Menikah Lagi - KapanLagi.com\n",
      "https://www.kapanlagi.com/showbiz/selebriti/dipersunting-sandy-nasution-dian-pelangi-akhirnya-menikah-lagi-912efa.html\n",
      "=========================\n",
      "\n",
      "['entertainment']\n",
      "=========================\n",
      "\n",
      "Jejak Sukmawati: Puisi Azan Hingga Bandingkan Nabi Muhammad - CNN Indonesia\n",
      "https://cnnindonesia.com/nasional/20191118101751-20-449219/jejak-sukmawati-puisi-azan-hingga-bandingkan-nabi-muhammad\n",
      "=========================\n",
      "\n",
      "['news']\n",
      "=========================\n",
      "\n",
      "KAI Terapkan Gapeka 2019, Jadwal Kereta Api-Nama Stasiun Alami Perubahan - Detiknews\n",
      "https://news.detik.com/berita/d-4788484/kai-terapkan-gapeka-2019-jadwal-kereta-api-nama-stasiun-alami-perubahan\n",
      "=========================\n",
      "\n",
      "['bisnis']\n",
      "=========================\n",
      "\n",
      "Kronologi Bentrok FBR dan PP di Bekasi, Dua Anggota Awalnya Justru Sedang Joget Bareng - Kompas.com - Megapolitan Kompas.com\n",
      "https://megapolitan.kompas.com/read/2019/11/18/10222261/kronologi-bentrok-fbr-dan-pp-di-bekasi-dua-anggota-awalnya-justru-sedang\n",
      "=========================\n",
      "\n",
      "['entertainment']\n",
      "=========================\n",
      "\n",
      "Coba Deh 48 Jam Tak Merokok, Ini yang Akan Terjadi Pada Tubuh Anda page-1 : Okezone Lifestyle - Okezone\n",
      "https://lifestyle.okezone.com/read/2019/11/18/481/2131146/coba-deh-48-jam-tak-merokok-ini-yang-akan-terjadi-pada-tubuh-anda\n",
      "=========================\n",
      "\n",
      "['tekno']\n",
      "=========================\n",
      "\n",
      "Ronaldo Sebut Kandang Timnas Luksemburg Mirip Kebun Kentang - Bola.com\n",
      "https://www.bola.com/dunia/read/4113168/ronaldo-sebut-kandang-timnas-luksemburg-mirip-kebun-kentang\n",
      "=========================\n",
      "\n",
      "['sports']\n",
      "=========================\n",
      "\n",
      "Rekor Unik Anthony Ginting di Hong Kong Open 2019 - Kompas.com - KOMPAS.com\n",
      "https://bola.kompas.com/read/2019/11/18/09400078/rekor-unik-anthony-ginting-di-hong-kong-open-2019?page=all\n",
      "=========================\n",
      "\n",
      "['sports']\n",
      "=========================\n",
      "\n",
      "Brentuximab Vedotin, Terapi Baru untuk Kanker Limfoma Hodgkin Kambuh - Kompas.com - Sains Kompas.com\n",
      "https://sains.kompas.com/read/2019/11/18/092300723/brentuximab-vedotin-terapi-baru-untuk-kanker-limfoma-hodgkin-kambuh?page=all\n",
      "=========================\n",
      "\n",
      "['health']\n",
      "=========================\n",
      "\n",
      "Siapa Sosok Rizky, Mantan Satpam yang Curi Motor Baim Wong - Kompas.com - KOMPAS.com\n",
      "https://www.kompas.com/hype/read/2019/11/18/090423866/siapa-sosok-rizky-mantan-satpam-yang-curi-motor-baim-wong?page=all\n",
      "=========================\n",
      "\n",
      "['entertainment']\n",
      "=========================\n",
      "\n",
      "Huawei Siapkan Pesaing Motorola Razr - Suara.com\n",
      "https://www.suara.com/tekno/2019/11/18/090000/huawei-siapkan-pesaing-motorola-razr\n",
      "=========================\n",
      "\n",
      "['tekno']\n",
      "=========================\n",
      "\n"
     ]
    }
   ],
   "source": [
    "for t in temp:\n",
    "    print(t['title'])\n",
    "    print(t['url'])\n",
    "    print('=========================\\n')\n",
    "    print(get_categoryMNB(t['title']))\n",
    "    print('=========================\\n')"
   ]
  },
  {
   "cell_type": "code",
   "execution_count": null,
   "metadata": {},
   "outputs": [],
   "source": []
  }
 ],
 "metadata": {
  "kernelspec": {
   "display_name": "Python 3",
   "language": "python",
   "name": "python3"
  },
  "language_info": {
   "codemirror_mode": {
    "name": "ipython",
    "version": 3
   },
   "file_extension": ".py",
   "mimetype": "text/x-python",
   "name": "python",
   "nbconvert_exporter": "python",
   "pygments_lexer": "ipython3",
   "version": "3.6.6+"
  }
 },
 "nbformat": 4,
 "nbformat_minor": 2
}
