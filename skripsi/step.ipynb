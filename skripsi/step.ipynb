{
 "cells": [
  {
   "cell_type": "code",
   "execution_count": 32,
   "metadata": {},
   "outputs": [],
   "source": [
    "import pymongo\n",
    "import requests\n",
    "from pprint import pprint\n",
    "from tqdm import tqdm, tqdm_notebook\n",
    "from textacy.preprocess import  preprocess_text\n",
    "from Sastrawi.Stemmer.StemmerFactory import StemmerFactory"
   ]
  },
  {
   "cell_type": "code",
   "execution_count": 33,
   "metadata": {},
   "outputs": [],
   "source": [
    "stopwords = requests.get(\"https://raw.githubusercontent.com/masdevid/ID-Stopwords/master/id.stopwords.02.01.2016.txt\").text.split(\"\\n\")"
   ]
  },
  {
   "cell_type": "code",
   "execution_count": 3,
   "metadata": {},
   "outputs": [],
   "source": [
    "categories = ['news', 'bisnis', 'sports', 'entertainment', 'tekno', 'otomotif', 'health']"
   ]
  },
  {
   "cell_type": "code",
   "execution_count": 2,
   "metadata": {},
   "outputs": [],
   "source": [
    "myClient = pymongo.MongoClient(\"mongodb://localhost:27017\")\n",
    "myDatabase = myClient.iStorage\n",
    "myCollection = myDatabase.iData\n",
    "collection = myDatabase.dataset"
   ]
  },
  {
   "cell_type": "code",
   "execution_count": 25,
   "metadata": {},
   "outputs": [],
   "source": [
    "# query col Dataset\n",
    "def getDataset(category=None):\n",
    "    data = []\n",
    "    iQuery = collection.find({\n",
    "        'category' : '{}'.format(category)\n",
    "    }).limit(5)\n",
    "    \n",
    "    for query in iQuery: data.append(query)\n",
    "        \n",
    "    return data"
   ]
  },
  {
   "cell_type": "code",
   "execution_count": 26,
   "metadata": {
    "scrolled": true
   },
   "outputs": [],
   "source": [
    "temp = getDataset('health')"
   ]
  },
  {
   "cell_type": "code",
   "execution_count": 30,
   "metadata": {
    "scrolled": true
   },
   "outputs": [
    {
     "name": "stdout",
     "output_type": "stream",
     "text": [
      "[{'_id': ObjectId('5d688a544246ccaa8427a235'),\n",
      "  'category': 'health',\n",
      "  'cleanContent': 'presiden joko widodo alias jokowi mengawali kegiatan 2019 '\n",
      "                  'berolahraga menyapa warga kebun raya bogor selasa 1 januari '\n",
      "                  '2019 deputi bidang protokol pers media sekretariat presiden '\n",
      "                  'bey machmudin keterangannya diterima jakarta libur 2019 '\n",
      "                  'dimanfaatkan jokowi jogging menyapa warga kebun raya bogor '\n",
      "                  'tampil santai mengenakan celana training jaket hitam sepatu '\n",
      "                  'kets jokowi jogging 13 30 wib kediamannya wisma bayurini '\n",
      "                  'istana kepresidenan bogor jokowi jogging area kebun raya '\n",
      "                  'bogor jawa barat jalan dilaluinya jokowi menyapa warga '\n",
      "                  'masyarakat beraktivitas berolahraga berkumpul keluarganya '\n",
      "                  'kepala negara wargapun berbondong bondong menghampirinya '\n",
      "                  'bersalaman berswafoto selamat sehat sehat ya warga iya '\n",
      "                  'terima kasih jokowi berolahraga berinteraksi masyarakat jam '\n",
      "                  '14 45 wib presiden kediamannya wisma bayurini jokowi '\n",
      "                  'berusia 57 kesibukan dunia kerja kemalasan kota halangan '\n",
      "                  'olah tubuh olahraga kegiatan mahal berusia 50 keatas '\n",
      "                  'olahraga kegiatan menyenangkan menguntungkan berusia 50 '\n",
      "                  'dilansir laman seniors co au aktif usia 50 hadiah terbaik '\n",
      "                  'presiden jokowi jogging kebun raya bogor selasa 1 januari '\n",
      "                  '2019 foto biro pers setpres olahraga meningkatkan energi '\n",
      "                  'sehat mengurangi gejala terkait penuaan kegiatan otak '\n",
      "                  'emosional tubuh mempertahankan berat badan energik sehat '\n",
      "                  'aktif berusia 50 keatas saran olahraga ditulis laman '\n",
      "                  'moneytalksnews com 1 berenangberenang salah olahraga '\n",
      "                  'terbaik usia kegiatan melatih sistem kardiovaskular melatih '\n",
      "                  'sendi tulang kegiatan air awet muda berdasarkan hasil riset '\n",
      "                  'university of indiana 2 tenispeneliti university of north '\n",
      "                  'carolina british journal of sports medicine manfaat tenis '\n",
      "                  'pemain muda senior kegiatan aktivitas detak jantung fungsi '\n",
      "                  'metabolik tenis menurunkan stres presiden jokowi menyapa '\n",
      "                  'masyarakat jogging kebun raya bogor selasa 1 januari 2019 '\n",
      "                  'foto biro pers setpres 3 golfmungkin langsung membayangkan '\n",
      "                  'permainan dinikmati orang emas golf olahraga orang orang '\n",
      "                  'aktif memiliki tantangan kesehatan ringan mengurangi massa '\n",
      "                  'otot arthritis bermain golf membangun fleksibilitas otot '\n",
      "                  'persendian membutuhkan serangkaian gerakan mengayunkan '\n",
      "                  'tongkat golf 4 bersepedabersepeda populer kalangan orang '\n",
      "                  'orang berusia 50 manfaat kesehatan bersepeda dikutip '\n",
      "                  'organicfacts bersepeda melatih kardiovascular mengurangi '\n",
      "                  'stres menurunkan resiko kanker 5 yogatidak peduli bugar '\n",
      "                  'tubuh melambat olahraga aktif menarik aktivitas bergerak '\n",
      "                  'lambat yoga pilihan terbaik laman moneytalksnews com yoga '\n",
      "                  'meningkatkan fleksibilitas daya tahan tubuh konsentrasi '\n",
      "                  'risiko cidera olahraga aman berusia 50 keatas rendrawati |',\n",
      "  'title': 'Awal Tahun Baru 2019 Jokowi Jogging, Intip Manfaat Baiknya',\n",
      "  'url': 'https://gaya.tempo.co/read/1160688/awal-tahun-baru-2019-jokowi-jogging-intip-manfaat-baiknya'},\n",
      " {'_id': ObjectId('5d688a544246ccaa8427a238'),\n",
      "  'category': 'health',\n",
      "  'cleanContent': '2018 gerakan ramah lingkungan digaungkan media sosial '\n",
      "                  'mengurangi pemakaian plastik pakai membawa botol minum '\n",
      "                  'gerakan ramah lingkungan diikuti mario ginanjar grup musik '\n",
      "                  'kahitna resolusi 2019 mario disiplin gerakan ramah '\n",
      "                  'lingkungan 2019 mengurangi plastik pakai mario sampah '\n",
      "                  'plastik mengotori laut tercengang dilihatnya berwisata '\n",
      "                  'daerah pantainya memukau dipenuhi sampah bali lautnya bagus '\n",
      "                  'sampah plastik menyayangkan mario berkontribusi menjaga '\n",
      "                  'lingkungan sederhana mengurangi penggunaan sedotan plastik '\n",
      "                  'sulit terurai alam kiat sederhana mengikuti jejak mario '\n",
      "                  'berkontribusi kebersihan lingkungan tiza mafira direktur '\n",
      "                  'gerakan diet kantong plastik indonesia salah ocean heroes '\n",
      "                  '2018 badan lingkungan pbb membeberkan tips sederhana '\n",
      "                  'mengurangi plastik pakai tolak kantong plastik berbelanja '\n",
      "                  'bawalah tas ramah lingkungan pengganti berbelanja plastik '\n",
      "                  'barang membungkus daging mentah bawalah peralatan makan '\n",
      "                  'rumah mengurangi pemakaian sendok garpu plastik jajan pilah '\n",
      "                  'sampah organik non organik rumah sampah organik diolah '\n",
      "                  'kompos sisanya didaur ulang',\n",
      "  'title': 'Resolusi 2019, Mario Kahitna Akan Kurangi Penggunaan Plastik',\n",
      "  'url': 'https://gaya.tempo.co/read/1160659/resolusi-2019-mario-kahitna-akan-kurangi-penggunaan-plastik'},\n",
      " {'_id': ObjectId('5d688a544246ccaa8427a239'),\n",
      "  'category': 'health',\n",
      "  'cleanContent': 'personil bts jimin ucapan selamat 2019 penggemarnya army '\n",
      "                  'jimin akun twitter resmi bts selamat army jimin 31 desember '\n",
      "                  '2018 jimin bts berfoto jin bts ucapkan selamat twitter bts '\n",
      "                  'twt jimin selfie j hope v bts twitter bts twt jimin army '\n",
      "                  'memberikannya pelajaran setahun penggemarnya jimin '\n",
      "                  'merasakan berterima kasih mencintai jimin happy new year '\n",
      "                  '2019 personil bts jimin berfoto suga ucapkan selamat '\n",
      "                  'twitter bts twt ucapan resminya media sosial jimin menambah '\n",
      "                  'gambar wefie anggota bts personil bts jimin berfoto '\n",
      "                  'jungkook rm ucapkan selamat ulang twitter bts twt jimin '\n",
      "                  'berfoto wefie candid j hope v bermain handphone foto jimin '\n",
      "                  'wefie bersaman rm jin suga jungkook twitter',\n",
      "  'title': 'Rayakan Tahun Baru 2019, Intip Gaya Jimin BTS Sapa Army',\n",
      "  'url': 'https://gaya.tempo.co/read/1160627/rayakan-tahun-baru-2019-intip-gaya-jimin-bts-sapa-army'},\n",
      " {'_id': ObjectId('5d688a544246ccaa8427a23a'),\n",
      "  'category': 'health',\n",
      "  'cleanContent': 'pergantian 2019 dirayakan orang berpesta menunggu detik '\n",
      "                  'detik pergantian suka menghabiskan 2019 media sosial ramai '\n",
      "                  'masyarakat menuliskan harapan doa selamat 2019 memamerkan '\n",
      "                  'foto keluarga media sosial intip keluarga selebriti selamat '\n",
      "                  '2019 beserta harapan 1 david beckham victoria beckham '\n",
      "                  'mantan bintang sepakbola tim nasional inggris david beckham '\n",
      "                  'memamerkan kebersamaannya keluarga malam pergantian beckham '\n",
      "                  'mengenakan setelan jas lengkap berfoto anaknya istrinya '\n",
      "                  'victoria beckham latar lemar penuh gelas selamat mewakili '\n",
      "                  'keluarga 2 artika sari devi ibrahim imran keluarga model '\n",
      "                  'artika sari devi gitaris ibrahim imran memamerkan foto lucu '\n",
      "                  'keluarga instagram artika baim sapaan ibrahim membawa putri '\n",
      "                  'lucu keterangan fotonya artika bersyukur menutup 2018 '\n",
      "                  'menurutnya penuh tantangan perlindungan pertolongan '\n",
      "                  'berharap 2019 membawa kebaikan kebahagiaan kedamaian '\n",
      "                  'keselamatan keberkahan pencapaian2 kerja keras kesabaran '\n",
      "                  'amin waving hello to the new year 2019 3 anang hermansyah '\n",
      "                  'ashanty anang hermansyah keluarga memamerkan foto '\n",
      "                  'mengenakan kostum khas negeri belanda keterangan foto anang '\n",
      "                  'permohonan maaf 2018 salah perkataan ucapan sikap perilaku '\n",
      "                  'disengaja anang berharap 2019 manusia 4 susilo bambang '\n",
      "                  'yudhoyono ani yudhoyono istri mantan presiden susilo '\n",
      "                  'bambang yudhoyono memamerkan kegiatan keluarga yudhoyono '\n",
      "                  '2018 dinilai ani yudhoyono penuh dinamika ujian keikhlasan '\n",
      "                  'hati mengajak masyarakat berharap 2019 kehidupan masyarakat '\n",
      "                  'bangsa indonesia 5 dwi sasono widi mulia keluarga pasangan '\n",
      "                  'dwi sasono widi mulia memamerkan foto keluarga pantai dwi '\n",
      "                  'sasono singkat menulis harapannya 2019 berharap 2019 '\n",
      "                  'keluarga rezeki jalan jalan keluarga',\n",
      "  'title': 'Tahun Baru 2019, Intip Foto Keluarga Selebriti Ini',\n",
      "  'url': 'https://gaya.tempo.co/read/1160611/tahun-baru-2019-intip-foto-keluarga-selebriti-ini'},\n",
      " {'_id': ObjectId('5d688a544246ccaa8427a23b'),\n",
      "  'category': 'health',\n",
      "  'cleanContent': 'era digital orang tua membuatkan akun media sosial buah '\n",
      "                  'hati kebanyakan tujuannya mengabadikan momen sang anak '\n",
      "                  'kontra lantas pandangan psikolog fenomena psikolog anak '\n",
      "                  'remaja keluarga roslina verauli vera anak lingkungan sosial '\n",
      "                  'anak menganalogikan lingkungan sosial anak usia 1 2 '\n",
      "                  'terbatas orang tua pengasuhnya beranjak usia 3 5 mencakup '\n",
      "                  'lingkungan rumahnya seiring bertambah usia lingkungan '\n",
      "                  'sosial anak bertambah minim pengawasan orang tua anak akun '\n",
      "                  'media sosial media sosial orang tua olah menempatkan anak '\n",
      "                  'mal dunia olah berharap anaknya ranah sosial orang tua '\n",
      "                  'memprediksi dampak negatif menimpa anak vera ilustrasi '\n",
      "                  'mengawasi anaknya bermain gadget shutterstock com dampak '\n",
      "                  'negatifnya anak berisiko sasaran kejahatan predator anak '\n",
      "                  'orang tua anak setuju diunggah orang tua dewasa anak berhak '\n",
      "                  'keberatan diunggah orang tua vera anak berkeberatan orang '\n",
      "                  'tua persetujuan anak mengunggah foto informasi anak media '\n",
      "                  'sosial vera anak dewasa 18 20 keputusan anak tanggung '\n",
      "                  'pengawasan orang tua anak memikul tanggung dewasa anak '\n",
      "                  'dianggap usia psikologis keputusan khusus anak selebriti '\n",
      "                  'orang terkenal memiliki dampak psikologis tersendiri anak '\n",
      "                  'digiring area publik terpapar tuntutan ekspektasi publik '\n",
      "                  'akibatnya rentan menghambat pertumbuhan kepribadian anak '\n",
      "                  'tabloid bintang',\n",
      "  'title': 'Anak Memiliki Akun Media Sosial Sejak Dini, Ini Kata Psikolog',\n",
      "  'url': 'https://gaya.tempo.co/read/1160570/anak-memiliki-akun-media-sosial-sejak-dini-ini-kata-psikolog'}]\n"
     ]
    }
   ],
   "source": [
    "pprint(temp)"
   ]
  },
  {
   "cell_type": "code",
   "execution_count": 20,
   "metadata": {},
   "outputs": [],
   "source": [
    "# query col iData\n",
    "def getiData(url=None):\n",
    "    data = []\n",
    "    iQuery = myCollection.find(\n",
    "        {'url' : '{}'.format(url)},\n",
    "        {\n",
    "            'title'   : 1,\n",
    "            'url'     : 1,\n",
    "            'content' : 1\n",
    "        }\n",
    "        \n",
    "    )\n",
    "    \n",
    "    for query in iQuery: data.append(query)\n",
    "        \n",
    "    return data"
   ]
  },
  {
   "cell_type": "code",
   "execution_count": 21,
   "metadata": {},
   "outputs": [],
   "source": [
    "test = getiData(data[0]['url'])"
   ]
  },
  {
   "cell_type": "code",
   "execution_count": 72,
   "metadata": {},
   "outputs": [
    {
     "name": "stdout",
     "output_type": "stream",
     "text": [
      "[{'_id': ObjectId('5d688a544246ccaa8427a235'), 'title': 'Awal Tahun Baru 2019 Jokowi Jogging, Intip Manfaat Baiknya', 'url': 'https://gaya.tempo.co/read/1160688/awal-tahun-baru-2019-jokowi-jogging-intip-manfaat-baiknya', 'content': 'Presiden Joko Widodo alias Jokowi mengawali kegiatan tahun 2019 dengan berolahraga dan menyapa warga di sekitar Kebun Raya Bogor, Selasa 1 Januari 2019. Deputi Bidang Protokol, Pers, dan Media Sekretariat Presiden, Bey Machmudin dalam keterangannya yang diterima di Jakarta, menyebutkan libur Tahun Baru 2019 dimanfaatkan Jokowi untuk jogging dan menyapa warga di sekitar Kebun Raya Bogor.\\nTampil santai mengenakan celana training dan jaket hitam serta sepatu kets, Jokowi mulai jogging sekitar pukul 13.30 WIB. Dari kediamannya di Wisma Bayurini, Istana Kepresidenan Bogor, Jokowi jogging menuju area Kebun Raya Bogor, Jawa Barat. Di sepanjang jalan yang dilaluinya, Jokowi menyapa warga masyarakat yang sedang beraktivitas, baik itu berolahraga atau sekadar berkumpul dengan keluarganya.\\nMelihat Kepala Negara, wargapun berbondong-bondong menghampirinya untuk bersalaman dan berswafoto. \"Selamat tahun baru, Pak. Sehat-sehat ya,\" kata seorang warga.\"Iya, terima kasih,\" jawab Jokowi.\\nSetelah berolahraga dan berinteraksi dengan masyarakat selama satu jam, sekitar pukul 14.45 WIB Presiden kembali ke kediamannya di Wisma Bayurini.\\nJokowi sudah berusia 57 tahun. Kesibukan karena dunia kerja, dan bahkan kemalasan, terutama bagi mereka yang berada di kota biasanya menjadi halangan untuk melakukan olah tubuh. Biasanya Olahraga pun menjadi kegiatan yang mahal, termasuk mereka yang berusia 50 tahun keatas.\\nPadahal olahraga bisa menjadi kegiatan menyenangkan sekaligus menguntungkan, terutama bagi yang sudah berusia 50 tahun ke atas. Seperti yang dilansir dari laman Seniors.co.au, Tetap aktif di usia 50 tahun bisa menjadi hadiah terbaik yang Anda berikan pada diri sendiri.\\nPresiden Jokowi jogging di sekitar Kebun Raya Bogor, Selasa, 1 Januari 2019. Foto: Biro Pers Setpres\\nOlahraga dapat meningkatkan energi Anda, membuat Anda tetap sehat, dan bahkan mungkin mengurangi beberapa gejala yang terkait dengan penuaan. Kegiatan ini juga baik untuk otak dan keadaan emosional serta tubuh Anda. Entah Anda ingin mempertahankan berat badan Anda saat ini atau merasa lebih energik dan sehat secara keseluruhan, ada banyak cara untuk tetap aktif saat berusia 50 tahun keatas.\\nBeberapa saran olahraga yang baik, seperti yang ditulis di laman Moneytalksnews.com:\\n1. BerenangBerenang adalah salah satu olahraga terbaik untuk segala usia. Kegiatan ini akan melatih sistem kardiovaskular dan juga melatih sendi dan tulang. Kegiatan di air ini juga bisa membuat awet muda, berdasarkan hasil riset di University of Indiana.\\n2. TenisPeneliti di University of North Carolina melalui British Journal of Sports Medicine menyebutkan manfaat tenis bagi pemain muda dan senior sama-sama baik. Kegiatan ini bisa memberikan aktivitas yang lebih tinggi, detak jantung yang baik serta memberikan fungsi metabolik yang lebih baik. Tenis juga bisa menurunkan stres.\\nPresiden Jokowi menyapa masyarakat saat jogging di sekitar Kebun Raya Bogor, Selasa, 1 Januari 2019. Foto: Biro Pers Setpres\\n3. GolfMungkin Anda akan langsung membayangkan permainan ini hanya dinikmati orang di tahun emas mereka. Golf adalah olahraga yang tepat bagi orang-orang yang ingin tetap aktif namun mungkin memiliki tantangan kesehatan ringan, seperti mengurangi massa otot atau arthritis. Bermain golf dapat membangun fleksibilitas di otot dan persendian, karena membutuhkan serangkaian gerakan untuk mengayunkan tongkat golf dengan benar.\\n4. BersepedaBersepeda sangat populer di kalangan orang-orang berusia 50 tahun ke atas. Banyak manfaat baik bagi kesehatan bila bersepeda. Seperti yang dikutip dari Organicfacts, bersepeda dapat melatih kardiovascular, mengurangi stres, hingga menurunkan resiko kanker.\\n5. YogaTidak peduli seberapa bugar, akhirnya tubuh akan melambat. Olahraga yang lebih aktif mungkin akan menjadi kurang menarik, atau bahkan tidak mungkin dilakukan. Pada saat itu, aktivitas yang bergerak lebih lambat seperti yoga mungkin merupakan pilihan terbaik. Kembali menurut laman Moneytalksnews.com, yoga dapat meningkatkan fleksibilitas, daya tahan tubuh dan konsentrasi dengan risiko cidera yang sedikit, tentunya olahraga ini aman bagi mereka yang berusia 50 tahun keatas.\\nRENDRAWATI | ANTARA'}]\n",
      "[{'_id': ObjectId('5d688a544246ccaa8427a238'), 'title': 'Resolusi 2019, Mario Kahitna Akan Kurangi Penggunaan Plastik', 'url': 'https://gaya.tempo.co/read/1160659/resolusi-2019-mario-kahitna-akan-kurangi-penggunaan-plastik', 'content': 'Sepanjang 2018 ada berbagai gerakan ramah lingkungan yang digaungkan di media sosial, termasuk mengurangi pemakaian plastik sekali pakai hingga membawa botol minum sendiri. Gerakan ramah lingkungan ini juga diikuti oleh Mario Ginanjar dari grup musik Kahitna. Sebagai resolusi 2019, Mario ingin lebih disiplin melakukan gerakan ramah lingkungan. \"Tahun 2019 aku ingin mengurangi plastik sekali pakai,\" kata Mario kepada ANTARA beberapa waktu lalu.\\nJumlah sampah plastik yang mengotori laut membuat dirinya semakin tercengang, seperti yang dilihatnya ketika berwisata ke daerah di mana pantainya memukau, namun dipenuhi sampah. \"Ke Bali, lautnya bagus, tapi sampah plastik banyak sekali,\" dia menyayangkan.\\nMario ingin berkontribusi menjaga lingkungan dari hal sederhana, seperti mengurangi penggunaan sedotan plastik yang sulit terurai di alam. Ada beberapa kiat sederhana bila ingin mengikuti jejak Mario berkontribusi pada kebersihan lingkungan.\\nTiza Mafira, Direktur Gerakan Diet Kantong Plastik Indonesia, salah satu Ocean Heroes 2018 oleh Badan Lingkungan PBB, pernah membeberkan tiga tips sederhana mengurangi plastik sekali pakai.\\nPertama, tolak kantong plastik saat berbelanja bila tidak betul-betul diperlukan. Bawalah tas ramah lingkungan sebagai pengganti saat berbelanja. Gunakan plastik hanya untuk barang yang betul-betul diperlukan, misalnya membungkus daging mentah. Selain itu, bawalah peralatan makan sendiri setiap ke luar rumah untuk mengurangi pemakaian sendok dan garpu plastik ketika jajan di luar. Terakhir, pilah sampah organik dan non-organik di rumah. Sampah organik bisa diolah jadi kompos, sisanya bisa didaur ulang bila memungkinkan.'}]\n",
      "[{'_id': ObjectId('5d688a544246ccaa8427a239'), 'title': 'Rayakan Tahun Baru 2019, Intip Gaya Jimin BTS Sapa Army', 'url': 'https://gaya.tempo.co/read/1160627/rayakan-tahun-baru-2019-intip-gaya-jimin-bts-sapa-army', 'content': 'Personil BTS, Jimin menyampaikan ucapan Selamat Tahun Baru 2019 kepada para penggemarnya, Army. Jimin, dalam akun Twitter resmi BTS, menyampaikan \"Selamat Tahun Baru untuk Army Semua,\" kata Jimin pada 31 Desember 2018.\\nJimin BTS berfoto dengan Jin BTS ucapkan Selamat Tahun Baru.Twitter/BTS_TWT\\nJimin Selfie dengan J-Hope dan V BTS.Twitter/BTS_TWT\\nJimin mengatakan Army memberikannya banyak pelajaran pada setahun terakhir. Para penggemarnya itu pun membuat Jimin merasakan banyak hal. \"Aku benar-benar berterima kasih dan sangat mencintai kalian. #Jimin #Happy New Year 2019.\\nPersonil BTS Jimin berfoto dengan Suga Ucapkan Selamat Tahun Baru.Twitter/BTS_TWT\\nDalam ucapan resminya di media sosial, Jimin pun menambah beberapa gambar dirinya melakukan wefie bersama para anggota BTS lain..\\nPersonil BTS, Jimin berfoto dengan Jungkook dan RM Ucapkan Selamat Ulang Tahun.Twitter/BTS_TWT\\nJimin berfoto wefie secara candid saat J-Hope dan V yang sedang bermain handphone. Pada foto lain, Jimin pun melakukan wefie bersaman RM, Jin, Suga dan Jungkook.\\nTWITTER'}]\n",
      "[{'_id': ObjectId('5d688a544246ccaa8427a23a'), 'title': 'Tahun Baru 2019, Intip Foto Keluarga Selebriti Ini', 'url': 'https://gaya.tempo.co/read/1160611/tahun-baru-2019-intip-foto-keluarga-selebriti-ini', 'content': 'Pergantian Tahun Baru 2019 dirayakan semua orang. Ada yang berpesta dan menunggu detik-detik pergantian tahun, ada pula yang lebih suka menghabiskan waktu Tahun Baru 2019. Tidak hanya itu di media sosial pun ramai masyarakat menuliskan harapan dan doa agar tahun depan lebih baik lagi. Ada pula yang mengucapkan Selamat Tahun Baru 2019 dengan memamerkan foto keluarga di media sosial. Intip lima keluarga selebriti ini yang mengucapkan Selamat Tahun Baru 2019 beserta berbagai harapan mereka.\\n1. David Beckham dan Victoria Beckham\\nMantan bintang sepakbola tim nasional Inggris, David Beckham memamerkan kebersamaannya dengan keluarga pada malam pergantian tahun. Beckham yang mengenakan setelan jas lengkap berfoto bersama empat anaknya dan istrinya, Victoria Beckham dengan latar belakang lemar penuh gelas. \"Selamat Tahun Baru dari kami untuk semua,\" katanya mewakili keluarga.\\n2. Artika Sari Devi dan Ibrahim Imran\\nKeluarga model Artika Sari Devi dan gitaris Ibrahim Imran pun memamerkan foto lucu keluarga mereka di Instagram. Artika dan Baim, sapaan Ibrahim, pun membawa kedua putri lucu mereka. Dalam keterangan fotonya, Artika bersyukur bisa menutup tahun 2018 yang menurutnya penuh dengan tantangan, perlindungan serta pertolongan. Ia berharap tahun 2019 ini membawa banyak kebaikan, kebahagiaan, kedamaian, keselamatan, keberkahan, dan pencapaian2 dari kerja keras dan kesabaran selama ini buat kita semua. Amin. \"Waving Hello to the New Year 2019\"\\n3. Anang Hermansyah dan Ashanty\\nAnang Hermansyah dan keluarga memamerkan foto mereka yang mengenakan kostum khas negeri Belanda. dalam keterangan foto, Anang menyampaikan permohonan maaf bila pada tahun 2018, ada salah dalam perkataan, ucapan, sikap, perilaku baik yang disengaja maupun tidak. Anang pun berharap agar tahun 2019, kita bisa menjadi manusia yang lebih baik lagi.\\n4. Susilo Bambang Yudhoyono dan Ani Yudhoyono\\nIstri Mantan Presiden Susilo Bambang Yudhoyono sering sekali memamerkan kegiatan keluarga besar Yudhoyono. 2018, dinilai Ani Yudhoyono sebagai tahun yang penuh dinamika, ujian dengan keikhlasan hati. Ia mengajak masyarakat untuk berharap agar tahun baru 2019 bisa membuat kehidupan masyarakat dan bangsa Indonesia menjadi lebih baik.\\n5. Dwi Sasono dan Widi Mulia\\nKeluarga pasangan Dwi Sasono dan Widi Mulia pun memamerkan foto keluarga mereka di dekat pantai. Dwi Sasono dengan singkat menulis harapannya pada tahun baru 2019. Ia berharap agar tahun 2019 keluarga ini punya lebih banyak waktu dan rezeki untuk jalan-jalan bersama keluarga.'}]\n",
      "[{'_id': ObjectId('5d688a544246ccaa8427a23b'), 'title': 'Anak Memiliki Akun Media Sosial Sejak Dini, Ini Kata Psikolog', 'url': 'https://gaya.tempo.co/read/1160570/anak-memiliki-akun-media-sosial-sejak-dini-ini-kata-psikolog', 'content': 'Di era digital, ada orang tua membuatkan akun media sosial untuk buah hati mereka. Kebanyakan, tujuannya untuk mengabadikan momen sang anak. Namun ada yang kontra dengan hal ini. Lantas, apa pandangan psikolog tentang fenomena ini?\\nPsikolog anak, remaja, dan keluarga, Roslina Verauli atau Vera mengungkapkan kala anak masih kecil, demikian pula dengan lingkungan sosial anak. Ia menganalogikan lingkungan sosial anak usia 1-2 tahun hanya terbatas pada orang tua atau pengasuhnya.\\nBeranjak usia 3-5 tahun, mencakup lingkungan di sekitar rumahnya. Seiring bertambah usia, lingkungan sosial anak makin bertambah dan semakin minim pengawasan orang tua. Lalu, apa yang terjadi ketika anak punya akun media sosial sejak kecil? \"Kala berada di media sosial, orang tua seolah-olah menempatkan anak di mal dunia. Seolah-olah berharap anaknya berada di ranah sosial. Padahal orang tua tidak bisa memprediksi dampak negatif apa yang mungkin menimpa anak,\" kata Vera.\\nIlustrasi ibu mengawasi anaknya bermain gadget. shutterstock.com\\nDampak negatifnya, anak berisiko jadi sasaran kejahatan predator anak. \"Orang tua juga tak pernah bisa tahu apakah anak setuju atau tidak dengan apa yang diunggah orang tua. Ketika dewasa, anak berhak mempertanyakan dan menunjukkan keberatan terhadap apa yang diunggah orang tua,\" kata Vera.\\nAgar anak tak berkeberatan, ada orang tua yang meminta persetujuan anak sebelum mengunggah foto atau informasi tentang anak di media sosial. Vera mengatakan anak yang belum dewasa (18-20 tahun), belum mampu membuat keputusan.\\nPada masa ini, anak masih menjadi tanggung jawab dan di bawah pengawasan orang tua. Anak juga belum bisa memikul tanggung jawab atas dirinya sendiri. Baru ketika dewasa, anak dianggap mampu secara usia dan psikologis untuk membuat keputusan.\\nKhusus untuk anak selebriti atau orang terkenal, juga memiliki dampak psikologis tersendiri. \"Anak akhirnya digiring ke area publik, terpapar dengan tuntutan dan ekspektasi publik. Akibatnya, rentan menghambat pertumbuhan kepribadian anak,\" kata dia.\\nTABLOID BINTANG'}]\n"
     ]
    }
   ],
   "source": [
    "for t in temp:\n",
    "    print(getiData(t['url']))"
   ]
  },
  {
   "cell_type": "code",
   "execution_count": null,
   "metadata": {},
   "outputs": [],
   "source": []
  },
  {
   "cell_type": "code",
   "execution_count": 64,
   "metadata": {},
   "outputs": [],
   "source": [
    "# create stemmer\n",
    "factory = StemmerFactory()\n",
    "stemmer = factory.create_stemmer()"
   ]
  },
  {
   "cell_type": "code",
   "execution_count": 60,
   "metadata": {},
   "outputs": [],
   "source": [
    "def cleanContent(content=None):\n",
    "    # Step 1\n",
    "    result = preprocess_text(content,\n",
    "                            fix_unicode=True, \n",
    "                            lowercase=True, \n",
    "                            no_urls=True,\n",
    "                            no_emails=True,\n",
    "                            no_phone_numbers=True,\n",
    "                            no_numbers=True,\n",
    "                            no_currency_symbols=True,\n",
    "                            no_punct=True)\n",
    "    \n",
    "    # Step 2\n",
    "    text_stopword = []\n",
    "    words = result.split()\n",
    "    for word in words:\n",
    "        if word not in stopwords: text_stopword.append(word)\n",
    "            \n",
    "    result = ' '.join(text_stopword)\n",
    "    \n",
    "    # Step 3    \n",
    "    # stemming process\n",
    "    output   = stemmer.stem(result)\n",
    "    \n",
    "    return output"
   ]
  },
  {
   "cell_type": "code",
   "execution_count": 61,
   "metadata": {
    "scrolled": true
   },
   "outputs": [
    {
     "data": {
      "text/plain": [
       "'Presiden Joko Widodo alias Jokowi mengawali kegiatan tahun 2019 dengan berolahraga dan menyapa warga di sekitar Kebun Raya Bogor, Selasa 1 Januari 2019. Deputi Bidang Protokol, Pers, dan Media Sekretariat Presiden, Bey Machmudin dalam keterangannya yang diterima di Jakarta, menyebutkan libur Tahun Baru 2019 dimanfaatkan Jokowi untuk jogging dan menyapa warga di sekitar Kebun Raya Bogor.\\nTampil santai mengenakan celana training dan jaket hitam serta sepatu kets, Jokowi mulai jogging sekitar pukul 13.30 WIB. Dari kediamannya di Wisma Bayurini, Istana Kepresidenan Bogor, Jokowi jogging menuju area Kebun Raya Bogor, Jawa Barat. Di sepanjang jalan yang dilaluinya, Jokowi menyapa warga masyarakat yang sedang beraktivitas, baik itu berolahraga atau sekadar berkumpul dengan keluarganya.\\nMelihat Kepala Negara, wargapun berbondong-bondong menghampirinya untuk bersalaman dan berswafoto. \"Selamat tahun baru, Pak. Sehat-sehat ya,\" kata seorang warga.\"Iya, terima kasih,\" jawab Jokowi.\\nSetelah berolahraga dan berinteraksi dengan masyarakat selama satu jam, sekitar pukul 14.45 WIB Presiden kembali ke kediamannya di Wisma Bayurini.\\nJokowi sudah berusia 57 tahun. Kesibukan karena dunia kerja, dan bahkan kemalasan, terutama bagi mereka yang berada di kota biasanya menjadi halangan untuk melakukan olah tubuh. Biasanya Olahraga pun menjadi kegiatan yang mahal, termasuk mereka yang berusia 50 tahun keatas.\\nPadahal olahraga bisa menjadi kegiatan menyenangkan sekaligus menguntungkan, terutama bagi yang sudah berusia 50 tahun ke atas. Seperti yang dilansir dari laman Seniors.co.au, Tetap aktif di usia 50 tahun bisa menjadi hadiah terbaik yang Anda berikan pada diri sendiri.\\nPresiden Jokowi jogging di sekitar Kebun Raya Bogor, Selasa, 1 Januari 2019. Foto: Biro Pers Setpres\\nOlahraga dapat meningkatkan energi Anda, membuat Anda tetap sehat, dan bahkan mungkin mengurangi beberapa gejala yang terkait dengan penuaan. Kegiatan ini juga baik untuk otak dan keadaan emosional serta tubuh Anda. Entah Anda ingin mempertahankan berat badan Anda saat ini atau merasa lebih energik dan sehat secara keseluruhan, ada banyak cara untuk tetap aktif saat berusia 50 tahun keatas.\\nBeberapa saran olahraga yang baik, seperti yang ditulis di laman Moneytalksnews.com:\\n1. BerenangBerenang adalah salah satu olahraga terbaik untuk segala usia. Kegiatan ini akan melatih sistem kardiovaskular dan juga melatih sendi dan tulang. Kegiatan di air ini juga bisa membuat awet muda, berdasarkan hasil riset di University of Indiana.\\n2. TenisPeneliti di University of North Carolina melalui British Journal of Sports Medicine menyebutkan manfaat tenis bagi pemain muda dan senior sama-sama baik. Kegiatan ini bisa memberikan aktivitas yang lebih tinggi, detak jantung yang baik serta memberikan fungsi metabolik yang lebih baik. Tenis juga bisa menurunkan stres.\\nPresiden Jokowi menyapa masyarakat saat jogging di sekitar Kebun Raya Bogor, Selasa, 1 Januari 2019. Foto: Biro Pers Setpres\\n3. GolfMungkin Anda akan langsung membayangkan permainan ini hanya dinikmati orang di tahun emas mereka. Golf adalah olahraga yang tepat bagi orang-orang yang ingin tetap aktif namun mungkin memiliki tantangan kesehatan ringan, seperti mengurangi massa otot atau arthritis. Bermain golf dapat membangun fleksibilitas di otot dan persendian, karena membutuhkan serangkaian gerakan untuk mengayunkan tongkat golf dengan benar.\\n4. BersepedaBersepeda sangat populer di kalangan orang-orang berusia 50 tahun ke atas. Banyak manfaat baik bagi kesehatan bila bersepeda. Seperti yang dikutip dari Organicfacts, bersepeda dapat melatih kardiovascular, mengurangi stres, hingga menurunkan resiko kanker.\\n5. YogaTidak peduli seberapa bugar, akhirnya tubuh akan melambat. Olahraga yang lebih aktif mungkin akan menjadi kurang menarik, atau bahkan tidak mungkin dilakukan. Pada saat itu, aktivitas yang bergerak lebih lambat seperti yoga mungkin merupakan pilihan terbaik. Kembali menurut laman Moneytalksnews.com, yoga dapat meningkatkan fleksibilitas, daya tahan tubuh dan konsentrasi dengan risiko cidera yang sedikit, tentunya olahraga ini aman bagi mereka yang berusia 50 tahun keatas.\\nRENDRAWATI | ANTARA'"
      ]
     },
     "execution_count": 61,
     "metadata": {},
     "output_type": "execute_result"
    }
   ],
   "source": [
    "test[0]['content']"
   ]
  },
  {
   "cell_type": "code",
   "execution_count": null,
   "metadata": {},
   "outputs": [],
   "source": []
  },
  {
   "cell_type": "code",
   "execution_count": 62,
   "metadata": {},
   "outputs": [],
   "source": [
    "hasil = cleanContent(test[0]['content'])"
   ]
  },
  {
   "cell_type": "code",
   "execution_count": 66,
   "metadata": {},
   "outputs": [
    {
     "data": {
      "text/plain": [
       "'presiden joko widodo alias jokowi awal giat olahraga sapa warga kebun raya bogor selasa januari deputi bidang protokol pers media sekretariat presiden bey machmudin terang terima jakarta libur manfaat jokowi jogging sapa warga kebun raya bogor tampil santai kena celana training jaket hitam sepatu kets jokowi jogging wib diam wisma bayurini istana presiden bogor jokowi jogging area kebun raya bogor jawa barat jalan lalu jokowi sapa warga masyarakat aktivitas olahraga kumpul keluarga kepala negara warga bondong bondong hampir salam berswafoto selamat sehat sehat ya warga iya terima kasih jokowi olahraga interaksi masyarakat jam wib presiden diam wisma bayurini jokowi usia sibuk dunia kerja malas kota halang olah tubuh olahraga giat mahal usia atas olahraga giat senang untung usia lansir laman seniors co au aktif usia hadiah baik presiden jokowi jogging kebun raya bogor selasa januari foto biro pers setpres olahraga tingkat energi sehat kurang gejala kait tua giat otak emosional tubuh tahan berat badan energik sehat aktif usia atas saran olahraga tulis laman moneytalksnews com berenangberenang salah olahraga baik usia giat latih sistem kardiovaskular latih sendi tulang giat air awet muda dasar hasil riset university of indiana tenispeneliti university of north carolina british journal of sports medicine manfaat tenis main muda senior giat aktivitas detak jantung fungsi metabolik tenis turun stres presiden jokowi sapa masyarakat jogging kebun raya bogor selasa januari foto biro pers setpres golfmungkin langsung bayang main nikmat orang emas golf olahraga orang orang aktif milik tantang sehat ringan kurang massa otot arthritis main golf bangun fleksibilitas otot sendi butuh rangkai gera ayun tongkat golf bersepedabersepeda populer kalang orang orang usia manfaat sehat sepeda kutip organicfacts sepeda latih kardiovascular kurang stres turun resiko kanker yogatidak peduli bugar tubuh lambat olahraga aktif tarik aktivitas gerak lambat yoga pilih baik laman moneytalksnews com yoga tingkat fleksibilitas daya tahan tubuh konsentrasi risiko cidera olahraga aman usia atas rendrawati'"
      ]
     },
     "execution_count": 66,
     "metadata": {},
     "output_type": "execute_result"
    }
   ],
   "source": [
    "hasil"
   ]
  },
  {
   "cell_type": "code",
   "execution_count": null,
   "metadata": {},
   "outputs": [],
   "source": []
  },
  {
   "cell_type": "code",
   "execution_count": null,
   "metadata": {},
   "outputs": [],
   "source": []
  },
  {
   "cell_type": "code",
   "execution_count": null,
   "metadata": {},
   "outputs": [],
   "source": []
  },
  {
   "cell_type": "code",
   "execution_count": 83,
   "metadata": {},
   "outputs": [],
   "source": [
    "def fixContent():\n",
    "    dataset = getDataset('health')\n",
    "    for i in tqdm(range(len(dataset))):\n",
    "        temp = getiData(dataset[i]['url'])\n",
    "        dataset[i]['cleanContent'] = cleanContent(temp[0]['content'])\n",
    "        \n",
    "    return dataset"
   ]
  },
  {
   "cell_type": "code",
   "execution_count": 84,
   "metadata": {},
   "outputs": [
    {
     "name": "stderr",
     "output_type": "stream",
     "text": [
      "100%|██████████| 5/5 [00:12<00:00,  2.57s/it]\n"
     ]
    }
   ],
   "source": [
    "final = fixContent()"
   ]
  },
  {
   "cell_type": "code",
   "execution_count": 73,
   "metadata": {
    "scrolled": true
   },
   "outputs": [
    {
     "data": {
      "text/plain": [
       "[{'_id': ObjectId('5d688a544246ccaa8427a235'),\n",
       "  'category': 'health',\n",
       "  'title': 'Awal Tahun Baru 2019 Jokowi Jogging, Intip Manfaat Baiknya',\n",
       "  'url': 'https://gaya.tempo.co/read/1160688/awal-tahun-baru-2019-jokowi-jogging-intip-manfaat-baiknya',\n",
       "  'cleanContent': 'presiden joko widodo alias jokowi mengawali kegiatan 2019 berolahraga menyapa warga kebun raya bogor selasa 1 januari 2019 deputi bidang protokol pers media sekretariat presiden bey machmudin keterangannya diterima jakarta libur 2019 dimanfaatkan jokowi jogging menyapa warga kebun raya bogor tampil santai mengenakan celana training jaket hitam sepatu kets jokowi jogging 13 30 wib kediamannya wisma bayurini istana kepresidenan bogor jokowi jogging area kebun raya bogor jawa barat jalan dilaluinya jokowi menyapa warga masyarakat beraktivitas berolahraga berkumpul keluarganya kepala negara wargapun berbondong bondong menghampirinya bersalaman berswafoto selamat sehat sehat ya warga iya terima kasih jokowi berolahraga berinteraksi masyarakat jam 14 45 wib presiden kediamannya wisma bayurini jokowi berusia 57 kesibukan dunia kerja kemalasan kota halangan olah tubuh olahraga kegiatan mahal berusia 50 keatas olahraga kegiatan menyenangkan menguntungkan berusia 50 dilansir laman seniors co au aktif usia 50 hadiah terbaik presiden jokowi jogging kebun raya bogor selasa 1 januari 2019 foto biro pers setpres olahraga meningkatkan energi sehat mengurangi gejala terkait penuaan kegiatan otak emosional tubuh mempertahankan berat badan energik sehat aktif berusia 50 keatas saran olahraga ditulis laman moneytalksnews com 1 berenangberenang salah olahraga terbaik usia kegiatan melatih sistem kardiovaskular melatih sendi tulang kegiatan air awet muda berdasarkan hasil riset university of indiana 2 tenispeneliti university of north carolina british journal of sports medicine manfaat tenis pemain muda senior kegiatan aktivitas detak jantung fungsi metabolik tenis menurunkan stres presiden jokowi menyapa masyarakat jogging kebun raya bogor selasa 1 januari 2019 foto biro pers setpres 3 golfmungkin langsung membayangkan permainan dinikmati orang emas golf olahraga orang orang aktif memiliki tantangan kesehatan ringan mengurangi massa otot arthritis bermain golf membangun fleksibilitas otot persendian membutuhkan serangkaian gerakan mengayunkan tongkat golf 4 bersepedabersepeda populer kalangan orang orang berusia 50 manfaat kesehatan bersepeda dikutip organicfacts bersepeda melatih kardiovascular mengurangi stres menurunkan resiko kanker 5 yogatidak peduli bugar tubuh melambat olahraga aktif menarik aktivitas bergerak lambat yoga pilihan terbaik laman moneytalksnews com yoga meningkatkan fleksibilitas daya tahan tubuh konsentrasi risiko cidera olahraga aman berusia 50 keatas rendrawati |'},\n",
       " {'_id': ObjectId('5d688a544246ccaa8427a238'),\n",
       "  'category': 'health',\n",
       "  'title': 'Resolusi 2019, Mario Kahitna Akan Kurangi Penggunaan Plastik',\n",
       "  'url': 'https://gaya.tempo.co/read/1160659/resolusi-2019-mario-kahitna-akan-kurangi-penggunaan-plastik',\n",
       "  'cleanContent': '2018 gerakan ramah lingkungan digaungkan media sosial mengurangi pemakaian plastik pakai membawa botol minum gerakan ramah lingkungan diikuti mario ginanjar grup musik kahitna resolusi 2019 mario disiplin gerakan ramah lingkungan 2019 mengurangi plastik pakai mario sampah plastik mengotori laut tercengang dilihatnya berwisata daerah pantainya memukau dipenuhi sampah bali lautnya bagus sampah plastik menyayangkan mario berkontribusi menjaga lingkungan sederhana mengurangi penggunaan sedotan plastik sulit terurai alam kiat sederhana mengikuti jejak mario berkontribusi kebersihan lingkungan tiza mafira direktur gerakan diet kantong plastik indonesia salah ocean heroes 2018 badan lingkungan pbb membeberkan tips sederhana mengurangi plastik pakai tolak kantong plastik berbelanja bawalah tas ramah lingkungan pengganti berbelanja plastik barang membungkus daging mentah bawalah peralatan makan rumah mengurangi pemakaian sendok garpu plastik jajan pilah sampah organik non organik rumah sampah organik diolah kompos sisanya didaur ulang'},\n",
       " {'_id': ObjectId('5d688a544246ccaa8427a239'),\n",
       "  'category': 'health',\n",
       "  'title': 'Rayakan Tahun Baru 2019, Intip Gaya Jimin BTS Sapa Army',\n",
       "  'url': 'https://gaya.tempo.co/read/1160627/rayakan-tahun-baru-2019-intip-gaya-jimin-bts-sapa-army',\n",
       "  'cleanContent': 'personil bts jimin ucapan selamat 2019 penggemarnya army jimin akun twitter resmi bts selamat army jimin 31 desember 2018 jimin bts berfoto jin bts ucapkan selamat twitter bts twt jimin selfie j hope v bts twitter bts twt jimin army memberikannya pelajaran setahun penggemarnya jimin merasakan berterima kasih mencintai jimin happy new year 2019 personil bts jimin berfoto suga ucapkan selamat twitter bts twt ucapan resminya media sosial jimin menambah gambar wefie anggota bts personil bts jimin berfoto jungkook rm ucapkan selamat ulang twitter bts twt jimin berfoto wefie candid j hope v bermain handphone foto jimin wefie bersaman rm jin suga jungkook twitter'},\n",
       " {'_id': ObjectId('5d688a544246ccaa8427a23a'),\n",
       "  'category': 'health',\n",
       "  'title': 'Tahun Baru 2019, Intip Foto Keluarga Selebriti Ini',\n",
       "  'url': 'https://gaya.tempo.co/read/1160611/tahun-baru-2019-intip-foto-keluarga-selebriti-ini',\n",
       "  'cleanContent': 'pergantian 2019 dirayakan orang berpesta menunggu detik detik pergantian suka menghabiskan 2019 media sosial ramai masyarakat menuliskan harapan doa selamat 2019 memamerkan foto keluarga media sosial intip keluarga selebriti selamat 2019 beserta harapan 1 david beckham victoria beckham mantan bintang sepakbola tim nasional inggris david beckham memamerkan kebersamaannya keluarga malam pergantian beckham mengenakan setelan jas lengkap berfoto anaknya istrinya victoria beckham latar lemar penuh gelas selamat mewakili keluarga 2 artika sari devi ibrahim imran keluarga model artika sari devi gitaris ibrahim imran memamerkan foto lucu keluarga instagram artika baim sapaan ibrahim membawa putri lucu keterangan fotonya artika bersyukur menutup 2018 menurutnya penuh tantangan perlindungan pertolongan berharap 2019 membawa kebaikan kebahagiaan kedamaian keselamatan keberkahan pencapaian2 kerja keras kesabaran amin waving hello to the new year 2019 3 anang hermansyah ashanty anang hermansyah keluarga memamerkan foto mengenakan kostum khas negeri belanda keterangan foto anang permohonan maaf 2018 salah perkataan ucapan sikap perilaku disengaja anang berharap 2019 manusia 4 susilo bambang yudhoyono ani yudhoyono istri mantan presiden susilo bambang yudhoyono memamerkan kegiatan keluarga yudhoyono 2018 dinilai ani yudhoyono penuh dinamika ujian keikhlasan hati mengajak masyarakat berharap 2019 kehidupan masyarakat bangsa indonesia 5 dwi sasono widi mulia keluarga pasangan dwi sasono widi mulia memamerkan foto keluarga pantai dwi sasono singkat menulis harapannya 2019 berharap 2019 keluarga rezeki jalan jalan keluarga'},\n",
       " {'_id': ObjectId('5d688a544246ccaa8427a23b'),\n",
       "  'category': 'health',\n",
       "  'title': 'Anak Memiliki Akun Media Sosial Sejak Dini, Ini Kata Psikolog',\n",
       "  'url': 'https://gaya.tempo.co/read/1160570/anak-memiliki-akun-media-sosial-sejak-dini-ini-kata-psikolog',\n",
       "  'cleanContent': 'era digital orang tua membuatkan akun media sosial buah hati kebanyakan tujuannya mengabadikan momen sang anak kontra lantas pandangan psikolog fenomena psikolog anak remaja keluarga roslina verauli vera anak lingkungan sosial anak menganalogikan lingkungan sosial anak usia 1 2 terbatas orang tua pengasuhnya beranjak usia 3 5 mencakup lingkungan rumahnya seiring bertambah usia lingkungan sosial anak bertambah minim pengawasan orang tua anak akun media sosial media sosial orang tua olah menempatkan anak mal dunia olah berharap anaknya ranah sosial orang tua memprediksi dampak negatif menimpa anak vera ilustrasi mengawasi anaknya bermain gadget shutterstock com dampak negatifnya anak berisiko sasaran kejahatan predator anak orang tua anak setuju diunggah orang tua dewasa anak berhak keberatan diunggah orang tua vera anak berkeberatan orang tua persetujuan anak mengunggah foto informasi anak media sosial vera anak dewasa 18 20 keputusan anak tanggung pengawasan orang tua anak memikul tanggung dewasa anak dianggap usia psikologis keputusan khusus anak selebriti orang terkenal memiliki dampak psikologis tersendiri anak digiring area publik terpapar tuntutan ekspektasi publik akibatnya rentan menghambat pertumbuhan kepribadian anak tabloid bintang'}]"
      ]
     },
     "execution_count": 73,
     "metadata": {},
     "output_type": "execute_result"
    }
   ],
   "source": [
    "temp"
   ]
  },
  {
   "cell_type": "code",
   "execution_count": null,
   "metadata": {},
   "outputs": [],
   "source": []
  },
  {
   "cell_type": "code",
   "execution_count": null,
   "metadata": {},
   "outputs": [],
   "source": []
  }
 ],
 "metadata": {
  "kernelspec": {
   "display_name": "Python 3",
   "language": "python",
   "name": "python3"
  },
  "language_info": {
   "codemirror_mode": {
    "name": "ipython",
    "version": 3
   },
   "file_extension": ".py",
   "mimetype": "text/x-python",
   "name": "python",
   "nbconvert_exporter": "python",
   "pygments_lexer": "ipython3",
   "version": "3.6.6+"
  }
 },
 "nbformat": 4,
 "nbformat_minor": 2
}
