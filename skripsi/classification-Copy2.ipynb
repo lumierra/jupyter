{
 "cells": [
  {
   "cell_type": "markdown",
   "metadata": {},
   "source": [
    "## Import Library"
   ]
  },
  {
   "cell_type": "code",
   "execution_count": 7,
   "metadata": {},
   "outputs": [],
   "source": [
    "import pymongo\n",
    "import pandas as pd\n",
    "import matplotlib.pyplot as plt\n",
    "from random import shuffle\n",
    "from tqdm import tqdm, tqdm_notebook"
   ]
  },
  {
   "cell_type": "code",
   "execution_count": null,
   "metadata": {},
   "outputs": [],
   "source": []
  },
  {
   "cell_type": "markdown",
   "metadata": {},
   "source": [
    "## Load Data From MongoDB"
   ]
  },
  {
   "cell_type": "code",
   "execution_count": 81,
   "metadata": {},
   "outputs": [],
   "source": [
    "# Load data dari Database MongoDB \n",
    "myClient = pymongo.MongoClient(\"mongodb://localhost:27017\")\n",
    "myDatabase = myClient.iStorage\n",
    "myCollection = myDatabase.backup_dataset"
   ]
  },
  {
   "cell_type": "code",
   "execution_count": 82,
   "metadata": {},
   "outputs": [],
   "source": [
    "# 7 kategori artikel berita yang ada di dalam database\n",
    "categories = ['news', 'bisnis', 'sports', 'entertainment', 'tekno', 'otomotif', 'health']"
   ]
  },
  {
   "cell_type": "code",
   "execution_count": 83,
   "metadata": {},
   "outputs": [],
   "source": [
    "# Array yang digunakan untuk menampung data berdasarkan kategori\n",
    "polhukam,bisnis,olahraga,hiburan,teknologi,otomotif,kesehatan = [],[],[],[],[],[],[]"
   ]
  },
  {
   "cell_type": "code",
   "execution_count": 84,
   "metadata": {},
   "outputs": [],
   "source": [
    "# fungsi ambil data berdasarkan category\n",
    "def getQuery(category=None):\n",
    "    iQuery = myCollection.find(\n",
    "        {\"category\": \"{}\".format(category)}, \n",
    "        {\n",
    "            \"category\": 1, \n",
    "            \"title\": 1,\n",
    "            \"url\": 1,\n",
    "            \"cleanContent\": 1\n",
    "        }).limit(15000)\n",
    "    \n",
    "    return iQuery"
   ]
  },
  {
   "cell_type": "code",
   "execution_count": 85,
   "metadata": {},
   "outputs": [],
   "source": [
    "# fungsi input data ke list\n",
    "def setData(iQuery=None):\n",
    "    category = []\n",
    "    for query in iQuery: category.append(query)\n",
    "        \n",
    "    return category"
   ]
  },
  {
   "cell_type": "code",
   "execution_count": 86,
   "metadata": {},
   "outputs": [],
   "source": [
    "iData = []"
   ]
  },
  {
   "cell_type": "code",
   "execution_count": 87,
   "metadata": {},
   "outputs": [
    {
     "name": "stderr",
     "output_type": "stream",
     "text": [
      "100%|██████████| 15000/15000 [00:00<00:00, 1671215.00it/s]\n",
      "100%|██████████| 15000/15000 [00:00<00:00, 2056165.76it/s]\n",
      "100%|██████████| 15000/15000 [00:00<00:00, 2354763.08it/s]\n",
      "100%|██████████| 15000/15000 [00:00<00:00, 2176522.52it/s]\n",
      "100%|██████████| 15000/15000 [00:00<00:00, 2037586.55it/s]\n",
      "100%|██████████| 15000/15000 [00:00<00:00, 2473153.82it/s]\n",
      "100%|██████████| 15000/15000 [00:00<00:00, 719508.70it/s]\n"
     ]
    }
   ],
   "source": [
    "# Ambil data dari Database dan disimpan di array berdasarkan kategori\n",
    "####################################\n",
    "iQuery = getQuery(\"news\")\n",
    "polhukam = setData(iQuery)\n",
    "for data in tqdm(polhukam): iData.append(data)\n",
    "####################################\n",
    "iQuery = getQuery(\"bisnis\")\n",
    "bisnis = setData(iQuery)\n",
    "for data in tqdm(bisnis): iData.append(data)\n",
    "####################################\n",
    "iQuery = getQuery(\"sports\")\n",
    "olahraga = setData(iQuery)\n",
    "for data in tqdm(olahraga): iData.append(data)\n",
    "####################################\n",
    "iQuery = getQuery(\"entertainment\")\n",
    "hiburan = setData(iQuery)\n",
    "for data in tqdm(hiburan): iData.append(data)\n",
    "####################################\n",
    "iQuery = getQuery(\"tekno\")\n",
    "teknologi = setData(iQuery)\n",
    "for data in tqdm(teknologi): iData.append(data)\n",
    "####################################\n",
    "iQuery = getQuery(\"otomotif\")\n",
    "otomotif = setData(iQuery)\n",
    "for data in tqdm(otomotif): iData.append(data)\n",
    "####################################\n",
    "iQuery = getQuery(\"health\")\n",
    "kesehatan = setData(iQuery)\n",
    "for data in tqdm(kesehatan): iData.append(data)"
   ]
  },
  {
   "cell_type": "code",
   "execution_count": 88,
   "metadata": {},
   "outputs": [
    {
     "data": {
      "text/html": [
       "<div>\n",
       "<style scoped>\n",
       "    .dataframe tbody tr th:only-of-type {\n",
       "        vertical-align: middle;\n",
       "    }\n",
       "\n",
       "    .dataframe tbody tr th {\n",
       "        vertical-align: top;\n",
       "    }\n",
       "\n",
       "    .dataframe thead th {\n",
       "        text-align: right;\n",
       "    }\n",
       "</style>\n",
       "<table border=\"1\" class=\"dataframe\">\n",
       "  <thead>\n",
       "    <tr style=\"text-align: right;\">\n",
       "      <th></th>\n",
       "      <th>Nama Kategori</th>\n",
       "      <th>Jumlah Data</th>\n",
       "    </tr>\n",
       "  </thead>\n",
       "  <tbody>\n",
       "    <tr>\n",
       "      <td>0</td>\n",
       "      <td>Polhukam</td>\n",
       "      <td>15000.0</td>\n",
       "    </tr>\n",
       "    <tr>\n",
       "      <td>1</td>\n",
       "      <td>Bisnis</td>\n",
       "      <td>15000.0</td>\n",
       "    </tr>\n",
       "    <tr>\n",
       "      <td>2</td>\n",
       "      <td>Olahraga</td>\n",
       "      <td>15000.0</td>\n",
       "    </tr>\n",
       "    <tr>\n",
       "      <td>3</td>\n",
       "      <td>Hiburan</td>\n",
       "      <td>15000.0</td>\n",
       "    </tr>\n",
       "    <tr>\n",
       "      <td>4</td>\n",
       "      <td>Teknologi</td>\n",
       "      <td>15000.0</td>\n",
       "    </tr>\n",
       "    <tr>\n",
       "      <td>5</td>\n",
       "      <td>Otomotif</td>\n",
       "      <td>15000.0</td>\n",
       "    </tr>\n",
       "    <tr>\n",
       "      <td>6</td>\n",
       "      <td>Kesehatan</td>\n",
       "      <td>15000.0</td>\n",
       "    </tr>\n",
       "    <tr>\n",
       "      <td>Total</td>\n",
       "      <td>NaN</td>\n",
       "      <td>105000.0</td>\n",
       "    </tr>\n",
       "  </tbody>\n",
       "</table>\n",
       "</div>"
      ],
      "text/plain": [
       "      Nama Kategori  Jumlah Data\n",
       "0          Polhukam      15000.0\n",
       "1            Bisnis      15000.0\n",
       "2          Olahraga      15000.0\n",
       "3           Hiburan      15000.0\n",
       "4         Teknologi      15000.0\n",
       "5          Otomotif      15000.0\n",
       "6         Kesehatan      15000.0\n",
       "Total           NaN     105000.0"
      ]
     },
     "execution_count": 88,
     "metadata": {},
     "output_type": "execute_result"
    }
   ],
   "source": [
    "# Dataframe Categories\n",
    "df = pd.DataFrame({\n",
    "    'Nama Kategori':[\n",
    "        'Polhukam','Bisnis','Olahraga','Hiburan','Teknologi','Otomotif','Kesehatan'],\n",
    "    'Jumlah Data':[\n",
    "        len(polhukam),\n",
    "        len(bisnis),\n",
    "        len(olahraga),\n",
    "        len(hiburan),\n",
    "        len(teknologi),\n",
    "        len(otomotif),\n",
    "        len(kesehatan)\n",
    "    ]\n",
    "})\n",
    "df.loc['Total'] = pd.Series(df['Jumlah Data'].sum(), index = ['Jumlah Data'])\n",
    "df"
   ]
  },
  {
   "cell_type": "code",
   "execution_count": null,
   "metadata": {},
   "outputs": [],
   "source": []
  },
  {
   "cell_type": "code",
   "execution_count": null,
   "metadata": {},
   "outputs": [],
   "source": []
  },
  {
   "cell_type": "code",
   "execution_count": null,
   "metadata": {},
   "outputs": [],
   "source": []
  },
  {
   "cell_type": "markdown",
   "metadata": {},
   "source": [
    "## Konversi Data ke DataFrame (Pandas)"
   ]
  },
  {
   "cell_type": "code",
   "execution_count": 89,
   "metadata": {},
   "outputs": [],
   "source": [
    "shuffle(iData)"
   ]
  },
  {
   "cell_type": "code",
   "execution_count": 90,
   "metadata": {},
   "outputs": [],
   "source": [
    "df = pd.DataFrame(iData)"
   ]
  },
  {
   "cell_type": "code",
   "execution_count": 91,
   "metadata": {},
   "outputs": [
    {
     "data": {
      "text/html": [
       "<div>\n",
       "<style scoped>\n",
       "    .dataframe tbody tr th:only-of-type {\n",
       "        vertical-align: middle;\n",
       "    }\n",
       "\n",
       "    .dataframe tbody tr th {\n",
       "        vertical-align: top;\n",
       "    }\n",
       "\n",
       "    .dataframe thead th {\n",
       "        text-align: right;\n",
       "    }\n",
       "</style>\n",
       "<table border=\"1\" class=\"dataframe\">\n",
       "  <thead>\n",
       "    <tr style=\"text-align: right;\">\n",
       "      <th></th>\n",
       "      <th>_id</th>\n",
       "      <th>category</th>\n",
       "      <th>title</th>\n",
       "      <th>url</th>\n",
       "      <th>cleanContent</th>\n",
       "    </tr>\n",
       "  </thead>\n",
       "  <tbody>\n",
       "    <tr>\n",
       "      <td>104995</td>\n",
       "      <td>5d6bda3edfdedb563e1c8b66</td>\n",
       "      <td>sports</td>\n",
       "      <td>10 Petinju Kelas Berat dengan Pukulan Terdahsy...</td>\n",
       "      <td>https://sport.tempo.co/read/1199189/10-petinju...</td>\n",
       "      <td>mike tyson dianggap petinju kelas berat pukula...</td>\n",
       "    </tr>\n",
       "    <tr>\n",
       "      <td>104996</td>\n",
       "      <td>5d6cb9d0b3ed4e4f03275498</td>\n",
       "      <td>sports</td>\n",
       "      <td>Dipermalukan Liverpool, Bos Barcelona: Masih A...</td>\n",
       "      <td>https://bola.tempo.co/read/1203208/dipermaluka...</td>\n",
       "      <td>dikalahkan liverpool 4 0 anfield dinihari rabu...</td>\n",
       "    </tr>\n",
       "    <tr>\n",
       "      <td>104997</td>\n",
       "      <td>5d8db8f13b89c0d8ad117b4c</td>\n",
       "      <td>health</td>\n",
       "      <td>Berapa Kali Sehari Kita Perlu Mencuci Muka?</td>\n",
       "      <td>https://lifestyle.kompas.com/read/2018/03/28/0...</td>\n",
       "      <td>orang menganggap cuci muka sehari bersih teraw...</td>\n",
       "    </tr>\n",
       "    <tr>\n",
       "      <td>104998</td>\n",
       "      <td>5d6bd3c24eaa10ebad587c72</td>\n",
       "      <td>tekno</td>\n",
       "      <td>AT&amp;T dan T Mobile Jual Samsung Galaxy Fold Mul...</td>\n",
       "      <td>https://tekno.tempo.co/read/1196147/att-dan-t-...</td>\n",
       "      <td>at t menjual samsung galaxy fold 26 april 2019...</td>\n",
       "    </tr>\n",
       "    <tr>\n",
       "      <td>104999</td>\n",
       "      <td>5d6e35027857a70f2f87b3d4</td>\n",
       "      <td>sports</td>\n",
       "      <td>Hasil MotoGP Inggris: Singkirkan Marc Marquez,...</td>\n",
       "      <td>https://sport.tempo.co/read/1240110/hasil-moto...</td>\n",
       "      <td>alex rins suzuki ecstar meraih kemenangan musi...</td>\n",
       "    </tr>\n",
       "  </tbody>\n",
       "</table>\n",
       "</div>"
      ],
      "text/plain": [
       "                             _id category  \\\n",
       "104995  5d6bda3edfdedb563e1c8b66   sports   \n",
       "104996  5d6cb9d0b3ed4e4f03275498   sports   \n",
       "104997  5d8db8f13b89c0d8ad117b4c   health   \n",
       "104998  5d6bd3c24eaa10ebad587c72    tekno   \n",
       "104999  5d6e35027857a70f2f87b3d4   sports   \n",
       "\n",
       "                                                    title  \\\n",
       "104995  10 Petinju Kelas Berat dengan Pukulan Terdahsy...   \n",
       "104996  Dipermalukan Liverpool, Bos Barcelona: Masih A...   \n",
       "104997        Berapa Kali Sehari Kita Perlu Mencuci Muka?   \n",
       "104998  AT&T dan T Mobile Jual Samsung Galaxy Fold Mul...   \n",
       "104999  Hasil MotoGP Inggris: Singkirkan Marc Marquez,...   \n",
       "\n",
       "                                                      url  \\\n",
       "104995  https://sport.tempo.co/read/1199189/10-petinju...   \n",
       "104996  https://bola.tempo.co/read/1203208/dipermaluka...   \n",
       "104997  https://lifestyle.kompas.com/read/2018/03/28/0...   \n",
       "104998  https://tekno.tempo.co/read/1196147/att-dan-t-...   \n",
       "104999  https://sport.tempo.co/read/1240110/hasil-moto...   \n",
       "\n",
       "                                             cleanContent  \n",
       "104995  mike tyson dianggap petinju kelas berat pukula...  \n",
       "104996  dikalahkan liverpool 4 0 anfield dinihari rabu...  \n",
       "104997  orang menganggap cuci muka sehari bersih teraw...  \n",
       "104998  at t menjual samsung galaxy fold 26 april 2019...  \n",
       "104999  alex rins suzuki ecstar meraih kemenangan musi...  "
      ]
     },
     "execution_count": 91,
     "metadata": {},
     "output_type": "execute_result"
    }
   ],
   "source": [
    "df.tail()"
   ]
  },
  {
   "cell_type": "code",
   "execution_count": 92,
   "metadata": {},
   "outputs": [
    {
     "data": {
      "image/png": "[encoded data removed]",
      "text/plain": [
       "<Figure size 720x576 with 1 Axes>"
      ]
     },
     "metadata": {},
     "output_type": "display_data"
    }
   ],
   "source": [
    "fig = plt.figure(figsize=(10,8))\n",
    "df.groupby('category').title.count().plot.bar(ylim=0)\n",
    "plt.show()"
   ]
  },
  {
   "cell_type": "code",
   "execution_count": null,
   "metadata": {},
   "outputs": [],
   "source": []
  },
  {
   "cell_type": "code",
   "execution_count": null,
   "metadata": {},
   "outputs": [],
   "source": []
  },
  {
   "cell_type": "markdown",
   "metadata": {},
   "source": [
    "## Menggunakan Metode Naive Bayes"
   ]
  },
  {
   "cell_type": "code",
   "execution_count": 14,
   "metadata": {},
   "outputs": [
    {
     "name": "stderr",
     "output_type": "stream",
     "text": [
      "/home/lumierra/Project-Python/.env/lib/python3.6/site-packages/sklearn/cross_validation.py:41: DeprecationWarning: This module was deprecated in version 0.18 in favor of the model_selection module into which all the refactored classes and functions are moved. Also note that the interface of the new CV iterators are different from that of this module. This module will be removed in 0.20.\n",
      "  \"This module will be removed in 0.20.\", DeprecationWarning)\n"
     ]
    }
   ],
   "source": [
    "import textacy\n",
    "from sklearn.naive_bayes import MultinomialNB\n",
    "from textacy.preprocess import preprocess_text\n",
    "from sklearn.cross_validation import train_test_split\n",
    "from sklearn.feature_extraction.text import TfidfVectorizer\n",
    "from sklearn.feature_extraction.text import TfidfTransformer\n",
    "from sklearn.feature_extraction.text import CountVectorizer"
   ]
  },
  {
   "cell_type": "code",
   "execution_count": 16,
   "metadata": {},
   "outputs": [],
   "source": [
    "# mendefinisikan library ke variabel yang lebih singkat\n",
    "tfidf = TfidfVectorizer(min_df=1, max_df=0.25)\n",
    "count_vect = CountVectorizer()\n",
    "tfidf_transformer = TfidfTransformer()"
   ]
  },
  {
   "cell_type": "code",
   "execution_count": 17,
   "metadata": {},
   "outputs": [],
   "source": [
    "# Membuat data training dan data testing\n",
    "X_train, X_test, y_train, y_test = train_test_split(df['cleanContent'], df['category'], random_state = 0, test_size = 0.20)\n",
    "\n",
    "X_train_counts = count_vect.fit_transform(X_train)\n",
    "\n",
    "X_train_tfidf = tfidf_transformer.fit_transform(X_train_counts)"
   ]
  },
  {
   "cell_type": "code",
   "execution_count": 18,
   "metadata": {},
   "outputs": [],
   "source": [
    "X1 = tfidf.fit_transform(X_train)"
   ]
  },
  {
   "cell_type": "code",
   "execution_count": 19,
   "metadata": {},
   "outputs": [
    {
     "data": {
      "text/plain": [
       "(82577, 215744)"
      ]
     },
     "execution_count": 19,
     "metadata": {},
     "output_type": "execute_result"
    }
   ],
   "source": [
    "X_train_tfidf.shape"
   ]
  },
  {
   "cell_type": "code",
   "execution_count": 20,
   "metadata": {},
   "outputs": [
    {
     "data": {
      "text/plain": [
       "(82577, 215737)"
      ]
     },
     "execution_count": 20,
     "metadata": {},
     "output_type": "execute_result"
    }
   ],
   "source": [
    "X1.shape"
   ]
  },
  {
   "cell_type": "code",
   "execution_count": null,
   "metadata": {},
   "outputs": [],
   "source": []
  },
  {
   "cell_type": "code",
   "execution_count": 21,
   "metadata": {},
   "outputs": [],
   "source": [
    "# Create model MultinomialNB\n",
    "modelMNB = MultinomialNB()"
   ]
  },
  {
   "cell_type": "code",
   "execution_count": 22,
   "metadata": {},
   "outputs": [
    {
     "data": {
      "text/plain": [
       "MultinomialNB(alpha=1.0, class_prior=None, fit_prior=True)"
      ]
     },
     "execution_count": 22,
     "metadata": {},
     "output_type": "execute_result"
    }
   ],
   "source": [
    "modelMNB.fit(X1, y_train)"
   ]
  },
  {
   "cell_type": "code",
   "execution_count": 23,
   "metadata": {},
   "outputs": [],
   "source": [
    "model = MultinomialNB().fit(X1, y_train)"
   ]
  },
  {
   "cell_type": "code",
   "execution_count": 24,
   "metadata": {},
   "outputs": [],
   "source": [
    "def get_categoryMNB(text):\n",
    "    result_cleanText = textacy.preprocess_text(text,lowercase=True,no_urls=True,no_numbers=True,no_punct=True)\n",
    "    hasil_prediksi = model.predict(tfidf.transform([result_cleanText]))\n",
    "    return hasil_prediksi"
   ]
  },
  {
   "cell_type": "code",
   "execution_count": 25,
   "metadata": {},
   "outputs": [],
   "source": [
    "new_title = '''Waspadalah, Stroke Kini Sudah Menyerang Orang Usia 30-an'''"
   ]
  },
  {
   "cell_type": "code",
   "execution_count": 26,
   "metadata": {},
   "outputs": [
    {
     "name": "stdout",
     "output_type": "stream",
     "text": [
      "['health']\n"
     ]
    }
   ],
   "source": [
    "print(get_categoryMNB(new_title))"
   ]
  },
  {
   "cell_type": "code",
   "execution_count": 27,
   "metadata": {},
   "outputs": [
    {
     "name": "stdout",
     "output_type": "stream",
     "text": [
      "0.9651476803468279\n"
     ]
    }
   ],
   "source": [
    "# score dari model multinomial naive bayes dari 105000 dataset\n",
    "print(model.score(X1, y_train))"
   ]
  },
  {
   "cell_type": "code",
   "execution_count": null,
   "metadata": {},
   "outputs": [],
   "source": []
  },
  {
   "cell_type": "code",
   "execution_count": 28,
   "metadata": {},
   "outputs": [],
   "source": [
    "from sklearn.pipeline import Pipeline\n",
    "from sklearn.metrics import classification_report\n",
    "from sklearn.metrics import accuracy_score, confusion_matrix"
   ]
  },
  {
   "cell_type": "code",
   "execution_count": 29,
   "metadata": {},
   "outputs": [],
   "source": [
    "nb = Pipeline([('vect', CountVectorizer()),\n",
    "               ('tfidf', TfidfTransformer()),\n",
    "               ('clf', MultinomialNB()),\n",
    "              ])"
   ]
  },
  {
   "cell_type": "code",
   "execution_count": 30,
   "metadata": {},
   "outputs": [
    {
     "data": {
      "text/plain": [
       "Pipeline(memory=None,\n",
       "     steps=[('vect', CountVectorizer(analyzer='word', binary=False, decode_error='strict',\n",
       "        dtype=<class 'numpy.int64'>, encoding='utf-8', input='content',\n",
       "        lowercase=True, max_df=1.0, max_features=None, min_df=1,\n",
       "        ngram_range=(1, 1), preprocessor=None, stop_words=None,\n",
       "        strip...inear_tf=False, use_idf=True)), ('clf', MultinomialNB(alpha=1.0, class_prior=None, fit_prior=True))])"
      ]
     },
     "execution_count": 30,
     "metadata": {},
     "output_type": "execute_result"
    }
   ],
   "source": [
    "nb.fit(X_train, y_train)"
   ]
  },
  {
   "cell_type": "code",
   "execution_count": null,
   "metadata": {},
   "outputs": [],
   "source": []
  },
  {
   "cell_type": "code",
   "execution_count": 31,
   "metadata": {},
   "outputs": [],
   "source": [
    "y_pred = nb.predict(X_test)"
   ]
  },
  {
   "cell_type": "code",
   "execution_count": 32,
   "metadata": {},
   "outputs": [
    {
     "name": "stdout",
     "output_type": "stream",
     "text": [
      "Table Confusion Matrix\n",
      "=========================\n",
      "\n",
      "Accuracy 0.9561152821506418\n",
      "=========================\n",
      "\n",
      "               precision    recall  f1-score   support\n",
      "\n",
      "         news       0.92      0.97      0.94      2984\n",
      "       bisnis       0.95      0.97      0.96      3031\n",
      "       sports       0.95      0.93      0.94      2936\n",
      "entertainment       0.93      0.97      0.95      2963\n",
      "        tekno       0.98      0.97      0.97      3013\n",
      "     otomotif       0.99      0.97      0.98      3079\n",
      "       health       0.98      0.92      0.95      2639\n",
      "\n",
      "  avg / total       0.96      0.96      0.96     20645\n",
      "\n"
     ]
    }
   ],
   "source": [
    "print(\"Table Confusion Matrix\")\n",
    "print(\"=========================\\n\")\n",
    "print('Accuracy %s' % accuracy_score(y_pred, y_test))\n",
    "print('=========================\\n')\n",
    "print(classification_report(y_test, y_pred,target_names=categories))"
   ]
  },
  {
   "cell_type": "code",
   "execution_count": null,
   "metadata": {},
   "outputs": [],
   "source": []
  },
  {
   "cell_type": "code",
   "execution_count": 33,
   "metadata": {},
   "outputs": [],
   "source": [
    "import textacy\n",
    "from sklearn.naive_bayes import MultinomialNB\n",
    "from textacy.preprocess import preprocess_text\n",
    "from sklearn.cross_validation import train_test_split\n",
    "from sklearn.feature_extraction.text import TfidfVectorizer"
   ]
  },
  {
   "cell_type": "code",
   "execution_count": 93,
   "metadata": {},
   "outputs": [],
   "source": [
    "tfidf = TfidfVectorizer(min_df=1, max_df=0.25)"
   ]
  },
  {
   "cell_type": "code",
   "execution_count": 94,
   "metadata": {},
   "outputs": [],
   "source": [
    "X_train, X_test, y_train, y_test = train_test_split(df['cleanContent'], df['category'])"
   ]
  },
  {
   "cell_type": "code",
   "execution_count": 95,
   "metadata": {},
   "outputs": [],
   "source": [
    "X1 = tfidf.fit_transform(X_train)"
   ]
  },
  {
   "cell_type": "code",
   "execution_count": null,
   "metadata": {},
   "outputs": [],
   "source": []
  },
  {
   "cell_type": "code",
   "execution_count": 96,
   "metadata": {},
   "outputs": [
    {
     "data": {
      "text/plain": [
       "(78750, 212510)"
      ]
     },
     "execution_count": 96,
     "metadata": {},
     "output_type": "execute_result"
    }
   ],
   "source": [
    "X1.shape"
   ]
  },
  {
   "cell_type": "code",
   "execution_count": 97,
   "metadata": {},
   "outputs": [
    {
     "name": "stdout",
     "output_type": "stream",
     "text": [
      "X_traint : 78750\n",
      "X_test   : 26250\n",
      "Total    : 105000\n"
     ]
    }
   ],
   "source": [
    "print('X_traint : {}'.format(len(X_train)))\n",
    "print('X_test   : {}'.format(len(X_test)))\n",
    "print('Total    : {}'.format(len(X_train) + len(X_test)))"
   ]
  },
  {
   "cell_type": "code",
   "execution_count": 98,
   "metadata": {},
   "outputs": [],
   "source": [
    "clf = MultinomialNB().fit(X1, y_train)"
   ]
  },
  {
   "cell_type": "code",
   "execution_count": 99,
   "metadata": {},
   "outputs": [],
   "source": [
    "def get_categoryMNB(text):\n",
    "    result_cleanText = textacy.preprocess_text(text,lowercase=True,no_urls=True,no_numbers=True,no_punct=True)\n",
    "    hasil_prediksi = clf.predict(tfidf.transform([result_cleanText]))\n",
    "    return hasil_prediksi"
   ]
  },
  {
   "cell_type": "code",
   "execution_count": 117,
   "metadata": {},
   "outputs": [],
   "source": [
    "new_title = '''Arifin Ilham Sakit, Ini 7 Tips Bantuan Saat Kerabat Sakit'''"
   ]
  },
  {
   "cell_type": "code",
   "execution_count": 3,
   "metadata": {},
   "outputs": [
    {
     "ename": "NameError",
     "evalue": "name 'get_categoryMNB' is not defined",
     "output_type": "error",
     "traceback": [
      "\u001b[0;31m---------------------------------------------------------------------------\u001b[0m",
      "\u001b[0;31mNameError\u001b[0m                                 Traceback (most recent call last)",
      "\u001b[0;32m<ipython-input-3-f0c9773962dd>\u001b[0m in \u001b[0;36m<module>\u001b[0;34m()\u001b[0m\n\u001b[0;32m----> 1\u001b[0;31m \u001b[0mprint\u001b[0m\u001b[0;34m(\u001b[0m\u001b[0mget_categoryMNB\u001b[0m\u001b[0;34m(\u001b[0m\u001b[0mnew_title\u001b[0m\u001b[0;34m)\u001b[0m\u001b[0;34m)\u001b[0m\u001b[0;34m\u001b[0m\u001b[0;34m\u001b[0m\u001b[0m\n\u001b[0m",
      "\u001b[0;31mNameError\u001b[0m: name 'get_categoryMNB' is not defined"
     ]
    }
   ],
   "source": [
    "print(get_categoryMNB(new_title))"
   ]
  },
  {
   "cell_type": "code",
   "execution_count": 102,
   "metadata": {},
   "outputs": [
    {
     "name": "stdout",
     "output_type": "stream",
     "text": [
      "0.9661587301587301\n"
     ]
    }
   ],
   "source": [
    "print(clf.score(X1, y_train))"
   ]
  },
  {
   "cell_type": "code",
   "execution_count": 103,
   "metadata": {},
   "outputs": [],
   "source": [
    "from sklearn.metrics import confusion_matrix\n",
    "from sklearn.pipeline import make_pipeline\n",
    "import seaborn as sns; sns.set()"
   ]
  },
  {
   "cell_type": "code",
   "execution_count": 104,
   "metadata": {},
   "outputs": [],
   "source": [
    "model = make_pipeline(TfidfVectorizer(min_df=1, max_df=0.25), MultinomialNB())"
   ]
  },
  {
   "cell_type": "code",
   "execution_count": 105,
   "metadata": {},
   "outputs": [],
   "source": [
    "model.fit(X_train, y_train)\n",
    "labels = model.predict(X_test)"
   ]
  },
  {
   "cell_type": "code",
   "execution_count": 106,
   "metadata": {},
   "outputs": [
    {
     "name": "stdout",
     "output_type": "stream",
     "text": [
      "Table Confusion Matrix\n",
      "=========================\n",
      "\n",
      "Accuracy 0.9607238095238095\n",
      "=========================\n",
      "\n",
      "               precision    recall  f1-score   support\n",
      "\n",
      "         news       0.92      0.97      0.94      3816\n",
      "       bisnis       0.96      0.98      0.97      3673\n",
      "       sports       0.97      0.93      0.95      3728\n",
      "entertainment       0.94      0.97      0.95      3720\n",
      "        tekno       0.98      0.97      0.97      3780\n",
      "     otomotif       0.99      0.97      0.98      3731\n",
      "       health       0.98      0.94      0.96      3802\n",
      "\n",
      "  avg / total       0.96      0.96      0.96     26250\n",
      "\n"
     ]
    }
   ],
   "source": [
    "print(\"Table Confusion Matrix\")\n",
    "print(\"=========================\\n\")\n",
    "print('Accuracy %s' % accuracy_score(labels, y_test))\n",
    "print('=========================\\n')\n",
    "print(classification_report(y_test, labels,target_names=categories))"
   ]
  },
  {
   "cell_type": "code",
   "execution_count": 107,
   "metadata": {},
   "outputs": [
    {
     "data": {
      "image/png": "[encoded data removed]",
      "text/plain": [
       "<Figure size 720x720 with 2 Axes>"
      ]
     },
     "metadata": {},
     "output_type": "display_data"
    }
   ],
   "source": [
    "mat = confusion_matrix(y_test, labels)\n",
    "f, ax = plt.subplots(figsize=(10, 10))\n",
    "\n",
    "sns.heatmap(mat.T, square=True, annot=True, fmt='d', cbar=True,linewidths=.6, ax=ax,\n",
    "            xticklabels=categories, yticklabels=categories)\n",
    "plt.xlabel('true label')\n",
    "plt.ylabel('predicted label');"
   ]
  },
  {
   "cell_type": "code",
   "execution_count": null,
   "metadata": {},
   "outputs": [],
   "source": []
  },
  {
   "cell_type": "code",
   "execution_count": null,
   "metadata": {},
   "outputs": [],
   "source": []
  },
  {
   "cell_type": "code",
   "execution_count": null,
   "metadata": {},
   "outputs": [],
   "source": []
  },
  {
   "cell_type": "code",
   "execution_count": null,
   "metadata": {},
   "outputs": [],
   "source": []
  },
  {
   "cell_type": "code",
   "execution_count": null,
   "metadata": {},
   "outputs": [],
   "source": []
  },
  {
   "cell_type": "markdown",
   "metadata": {},
   "source": [
    "## Check Data"
   ]
  },
  {
   "cell_type": "code",
   "execution_count": 49,
   "metadata": {},
   "outputs": [],
   "source": [
    "# Load data dari Database MongoDB \n",
    "client = pymongo.MongoClient(\"mongodb://localhost:27017\")\n",
    "database = client.iStorage\n",
    "collection = database.temp"
   ]
  },
  {
   "cell_type": "code",
   "execution_count": 77,
   "metadata": {},
   "outputs": [],
   "source": [
    "def insertData(attr=None):\n",
    "    client = pymongo.MongoClient(\"mongodb://localhost:27017\")\n",
    "    database = client.iStorage\n",
    "    collection = database.backup_dataset\n",
    "    collection.insert_one(attr)\n",
    "    \n",
    "#     try:\n",
    "#         collection.insert(attr)\n",
    "#         print('Insert Data into MongoDB Successfully')\n",
    "#     except:\n",
    "#         print('Insert Data into Mongod Failed')"
   ]
  },
  {
   "cell_type": "code",
   "execution_count": 4,
   "metadata": {},
   "outputs": [],
   "source": [
    "def getData(category=None):\n",
    "    client = pymongo.MongoClient(\"mongodb://localhost:27017\")\n",
    "    database = client.iStorage\n",
    "    collection = database.backup_dataset\n",
    "    \n",
    "    iData = []\n",
    "    iQuery = collection.find(\n",
    "        {\"category\": \"{}\".format(category)}, \n",
    "        {\n",
    "            \"category\": 1, \n",
    "            \"title\": 1,\n",
    "            \"url\": 1,\n",
    "            \"cleanContent\": 1\n",
    "        })\n",
    "    \n",
    "    for query in iQuery: iData.append(query)\n",
    "        \n",
    "    return iData"
   ]
  },
  {
   "cell_type": "code",
   "execution_count": 70,
   "metadata": {},
   "outputs": [],
   "source": [
    "def deleteData(col=None):\n",
    "    client = pymongo.MongoClient(\"mongodb://localhost:27017\")\n",
    "    database = client.iStorage\n",
    "    collection = database[\"{}\".format(col)]\n",
    "    \n",
    "    query = collection.remove({})"
   ]
  },
  {
   "cell_type": "code",
   "execution_count": 72,
   "metadata": {},
   "outputs": [],
   "source": [
    "# Hapus Data di Collection\n",
    "# deleteData('dataset')"
   ]
  },
  {
   "cell_type": "code",
   "execution_count": 78,
   "metadata": {},
   "outputs": [],
   "source": [
    "def makeDataset2(category=None):\n",
    "    data = getData('{}'.format(category))\n",
    "    benar = 0\n",
    "    salah = 0\n",
    "    for d in tqdm(data):\n",
    "        if d['category'] == get_categoryMNB(d['title']):\n",
    "            benar+=1\n",
    "            insertData(d)\n",
    "        else: salah+=1\n",
    "\n",
    "    print('=============================')\n",
    "    print('Benar : {}'.format(benar))\n",
    "    print('Salah : {}'.format(salah))"
   ]
  },
  {
   "cell_type": "code",
   "execution_count": 79,
   "metadata": {},
   "outputs": [
    {
     "name": "stderr",
     "output_type": "stream",
     "text": [
      "100%|██████████| 3125/3125 [00:20<00:00, 156.25it/s]"
     ]
    },
    {
     "name": "stdout",
     "output_type": "stream",
     "text": [
      "=============================\n",
      "Benar : 2436\n",
      "Salah : 689\n"
     ]
    },
    {
     "name": "stderr",
     "output_type": "stream",
     "text": [
      "\n"
     ]
    }
   ],
   "source": [
    "makeDataset2('tekno')"
   ]
  },
  {
   "cell_type": "code",
   "execution_count": null,
   "metadata": {},
   "outputs": [],
   "source": []
  },
  {
   "cell_type": "code",
   "execution_count": 8,
   "metadata": {},
   "outputs": [],
   "source": [
    "def makeDataset(category=None):\n",
    "    data = getData('{}'.format(category))\n",
    "    benar = 0\n",
    "    salah = 0\n",
    "    for i in tqdm(range(len(data))[:100]):\n",
    "        print(data[i]['title'])\n",
    "        print('Kategori : ' + data[i]['category'])\n",
    "        print(get_categoryMNB(data[i]['title']))\n",
    "        if data[i]['category'] == get_categoryMNB(data[i]['cleanContent']): \n",
    "            benar+=1\n",
    "            print('Benar')\n",
    "#             insertData(data[i])\n",
    "        else: \n",
    "            salah+=1\n",
    "            print('Salah')\n",
    "        print('======================================\\n')\n",
    "\n",
    "    print('=============================')\n",
    "    print('Benar : {}'.format(benar))\n",
    "    print('Salah : {}'.format(salah))"
   ]
  },
  {
   "cell_type": "code",
   "execution_count": 9,
   "metadata": {},
   "outputs": [
    {
     "name": "stderr",
     "output_type": "stream",
     "text": [
      "\r",
      "  0%|          | 0/100 [00:00<?, ?it/s]"
     ]
    },
    {
     "name": "stdout",
     "output_type": "stream",
     "text": [
      "Tsunami Selat Sunda di Pantai Carita Banten Hingga 5,26 Meter\n",
      "Kategori : tekno\n"
     ]
    },
    {
     "name": "stderr",
     "output_type": "stream",
     "text": [
      "\n"
     ]
    },
    {
     "ename": "NameError",
     "evalue": "name 'get_categoryMNB' is not defined",
     "output_type": "error",
     "traceback": [
      "\u001b[0;31m---------------------------------------------------------------------------\u001b[0m",
      "\u001b[0;31mNameError\u001b[0m                                 Traceback (most recent call last)",
      "\u001b[0;32m<ipython-input-9-76b7abfbc9e9>\u001b[0m in \u001b[0;36m<module>\u001b[0;34m()\u001b[0m\n\u001b[0;32m----> 1\u001b[0;31m \u001b[0mmakeDataset\u001b[0m\u001b[0;34m(\u001b[0m\u001b[0;34m'tekno'\u001b[0m\u001b[0;34m)\u001b[0m\u001b[0;34m\u001b[0m\u001b[0;34m\u001b[0m\u001b[0m\n\u001b[0m",
      "\u001b[0;32m<ipython-input-8-72394843e758>\u001b[0m in \u001b[0;36mmakeDataset\u001b[0;34m(category)\u001b[0m\n\u001b[1;32m      6\u001b[0m         \u001b[0mprint\u001b[0m\u001b[0;34m(\u001b[0m\u001b[0mdata\u001b[0m\u001b[0;34m[\u001b[0m\u001b[0mi\u001b[0m\u001b[0;34m]\u001b[0m\u001b[0;34m[\u001b[0m\u001b[0;34m'title'\u001b[0m\u001b[0;34m]\u001b[0m\u001b[0;34m)\u001b[0m\u001b[0;34m\u001b[0m\u001b[0;34m\u001b[0m\u001b[0m\n\u001b[1;32m      7\u001b[0m         \u001b[0mprint\u001b[0m\u001b[0;34m(\u001b[0m\u001b[0;34m'Kategori : '\u001b[0m \u001b[0;34m+\u001b[0m \u001b[0mdata\u001b[0m\u001b[0;34m[\u001b[0m\u001b[0mi\u001b[0m\u001b[0;34m]\u001b[0m\u001b[0;34m[\u001b[0m\u001b[0;34m'category'\u001b[0m\u001b[0;34m]\u001b[0m\u001b[0;34m)\u001b[0m\u001b[0;34m\u001b[0m\u001b[0;34m\u001b[0m\u001b[0m\n\u001b[0;32m----> 8\u001b[0;31m         \u001b[0mprint\u001b[0m\u001b[0;34m(\u001b[0m\u001b[0mget_categoryMNB\u001b[0m\u001b[0;34m(\u001b[0m\u001b[0mdata\u001b[0m\u001b[0;34m[\u001b[0m\u001b[0mi\u001b[0m\u001b[0;34m]\u001b[0m\u001b[0;34m[\u001b[0m\u001b[0;34m'title'\u001b[0m\u001b[0;34m]\u001b[0m\u001b[0;34m)\u001b[0m\u001b[0;34m)\u001b[0m\u001b[0;34m\u001b[0m\u001b[0;34m\u001b[0m\u001b[0m\n\u001b[0m\u001b[1;32m      9\u001b[0m         \u001b[0;32mif\u001b[0m \u001b[0mdata\u001b[0m\u001b[0;34m[\u001b[0m\u001b[0mi\u001b[0m\u001b[0;34m]\u001b[0m\u001b[0;34m[\u001b[0m\u001b[0;34m'category'\u001b[0m\u001b[0;34m]\u001b[0m \u001b[0;34m==\u001b[0m \u001b[0mget_categoryMNB\u001b[0m\u001b[0;34m(\u001b[0m\u001b[0mdata\u001b[0m\u001b[0;34m[\u001b[0m\u001b[0mi\u001b[0m\u001b[0;34m]\u001b[0m\u001b[0;34m[\u001b[0m\u001b[0;34m'cleanContent'\u001b[0m\u001b[0;34m]\u001b[0m\u001b[0;34m)\u001b[0m\u001b[0;34m:\u001b[0m\u001b[0;34m\u001b[0m\u001b[0;34m\u001b[0m\u001b[0m\n\u001b[1;32m     10\u001b[0m             \u001b[0mbenar\u001b[0m\u001b[0;34m+=\u001b[0m\u001b[0;36m1\u001b[0m\u001b[0;34m\u001b[0m\u001b[0;34m\u001b[0m\u001b[0m\n",
      "\u001b[0;31mNameError\u001b[0m: name 'get_categoryMNB' is not defined"
     ]
    }
   ],
   "source": [
    "makeDataset('tekno')"
   ]
  },
  {
   "cell_type": "code",
   "execution_count": null,
   "metadata": {},
   "outputs": [],
   "source": []
  },
  {
   "cell_type": "code",
   "execution_count": null,
   "metadata": {},
   "outputs": [],
   "source": []
  },
  {
   "cell_type": "code",
   "execution_count": null,
   "metadata": {},
   "outputs": [],
   "source": []
  },
  {
   "cell_type": "code",
   "execution_count": null,
   "metadata": {},
   "outputs": [],
   "source": []
  },
  {
   "cell_type": "code",
   "execution_count": null,
   "metadata": {},
   "outputs": [],
   "source": []
  },
  {
   "cell_type": "code",
   "execution_count": null,
   "metadata": {},
   "outputs": [],
   "source": []
  },
  {
   "cell_type": "markdown",
   "metadata": {},
   "source": [
    "## Save Model Naive Bayes MultinomialNB"
   ]
  },
  {
   "cell_type": "code",
   "execution_count": 37,
   "metadata": {},
   "outputs": [],
   "source": [
    "import pickle"
   ]
  },
  {
   "cell_type": "code",
   "execution_count": 50,
   "metadata": {},
   "outputs": [],
   "source": [
    "pkl_filename = 'modelMNB.pkl'\n",
    "with open(pkl_filename, 'wb') as file:\n",
    "    pickle.dump(modelMNB, file)"
   ]
  },
  {
   "cell_type": "code",
   "execution_count": 51,
   "metadata": {},
   "outputs": [],
   "source": [
    "# Load from file\n",
    "with open(pkl_filename, 'rb') as file:\n",
    "    pickle_model = pickle.load(file)"
   ]
  },
  {
   "cell_type": "code",
   "execution_count": 54,
   "metadata": {},
   "outputs": [
    {
     "name": "stdout",
     "output_type": "stream",
     "text": [
      "Test score: 91.58 %\n"
     ]
    }
   ],
   "source": [
    "# Calculate the accuracy score and predict target values\n",
    "score = pickle_model.score(X1, y_train)\n",
    "print(\"Test score: {0:.2f} %\".format(100 * score))\n",
    "Ypredict = pickle_model.predict(X1)"
   ]
  },
  {
   "cell_type": "code",
   "execution_count": 55,
   "metadata": {},
   "outputs": [],
   "source": [
    "def get_categoryMNB(text):\n",
    "    result_cleanText = textacy.preprocess_text(text,lowercase=True,no_urls=True,no_numbers=True,no_punct=True)\n",
    "    hasil_prediksi = pickle_model.predict(tfidf.transform([result_cleanText]))\n",
    "    return hasil_prediksi"
   ]
  },
  {
   "cell_type": "code",
   "execution_count": 56,
   "metadata": {},
   "outputs": [],
   "source": [
    "title = '''Waspadalah, Stroke Kini Sudah Menyerang Orang Usia 30-an'''"
   ]
  },
  {
   "cell_type": "code",
   "execution_count": 59,
   "metadata": {},
   "outputs": [
    {
     "name": "stdout",
     "output_type": "stream",
     "text": [
      "health\n"
     ]
    }
   ],
   "source": [
    "print(get_categoryMNB(title)[0])"
   ]
  },
  {
   "cell_type": "code",
   "execution_count": null,
   "metadata": {},
   "outputs": [],
   "source": []
  },
  {
   "cell_type": "code",
   "execution_count": null,
   "metadata": {},
   "outputs": [],
   "source": []
  },
  {
   "cell_type": "code",
   "execution_count": null,
   "metadata": {},
   "outputs": [],
   "source": []
  },
  {
   "cell_type": "code",
   "execution_count": null,
   "metadata": {},
   "outputs": [],
   "source": []
  },
  {
   "cell_type": "markdown",
   "metadata": {},
   "source": [
    "## Joblib"
   ]
  },
  {
   "cell_type": "code",
   "execution_count": 10,
   "metadata": {},
   "outputs": [],
   "source": [
    "from sklearn.externals import joblib"
   ]
  },
  {
   "cell_type": "code",
   "execution_count": 126,
   "metadata": {},
   "outputs": [
    {
     "data": {
      "text/plain": [
       "['model_joblib']"
      ]
     },
     "execution_count": 126,
     "metadata": {},
     "output_type": "execute_result"
    }
   ],
   "source": [
    "joblib.dump(modelMNB, 'model_joblib')"
   ]
  },
  {
   "cell_type": "code",
   "execution_count": 127,
   "metadata": {},
   "outputs": [],
   "source": [
    "mj = joblib.load('model_joblib')"
   ]
  },
  {
   "cell_type": "code",
   "execution_count": 128,
   "metadata": {},
   "outputs": [
    {
     "data": {
      "text/plain": [
       "0.8939410971223022"
      ]
     },
     "execution_count": 128,
     "metadata": {},
     "output_type": "execute_result"
    }
   ],
   "source": [
    "mj.score(X1, y_train)"
   ]
  },
  {
   "cell_type": "code",
   "execution_count": 129,
   "metadata": {},
   "outputs": [
    {
     "data": {
      "text/plain": [
       "array(['entertainment'], dtype='<U13')"
      ]
     },
     "execution_count": 129,
     "metadata": {},
     "output_type": "execute_result"
    }
   ],
   "source": [
    "mj.predict(tfidf.transform([new_title]))"
   ]
  },
  {
   "cell_type": "code",
   "execution_count": null,
   "metadata": {},
   "outputs": [],
   "source": []
  },
  {
   "cell_type": "markdown",
   "metadata": {},
   "source": [
    "## Testing"
   ]
  },
  {
   "cell_type": "code",
   "execution_count": 108,
   "metadata": {},
   "outputs": [],
   "source": [
    "import requests\n",
    "from bs4 import BeautifulSoup"
   ]
  },
  {
   "cell_type": "code",
   "execution_count": 109,
   "metadata": {},
   "outputs": [],
   "source": [
    "url = '''https://newsapi.org/v2/top-headlines?country=id&apiKey=3bb4bf323f7f43d3aaafb6bd5cd26c92'''"
   ]
  },
  {
   "cell_type": "code",
   "execution_count": 110,
   "metadata": {},
   "outputs": [],
   "source": [
    "response = requests.get(url).json()"
   ]
  },
  {
   "cell_type": "code",
   "execution_count": 111,
   "metadata": {},
   "outputs": [
    {
     "data": {
      "text/plain": [
       "{'status': 'ok',\n",
       " 'totalResults': 38,\n",
       " 'articles': [{'source': {'id': None, 'name': 'Liputan6.com'},\n",
       "   'author': 'Andina Librianty',\n",
       "   'title': 'Motorola Yakin Smartphone Razr Terbaru Tak Bermasalah Seperti Galaxy Fold - Liputan6.com',\n",
       "   'description': 'Motorola Razr dipastikan tidak akan mengalami masalah fleksibilitas layar, seperti yang sebelumnya dialami Galaxy Fold.',\n",
       "   'url': 'https://www.liputan6.com/tekno/read/4112318/motorola-yakin-smartphone-razr-terbaru-tak-bermasalah-seperti-galaxy-fold',\n",
       "   'urlToImage': 'https://cdn0-production-images-kly.akamaized.net/xjHSFeb4FUaLAb56bREfq2k5FZk=/673x379/smart/filters:quality(75):strip_icc():format(jpeg)/kly-media-production/medias/2967342/original/090732800_1573716052-Moto_Razr.jpg',\n",
       "   'publishedAt': '2019-11-17T09:00:08Z',\n",
       "   'content': 'Liputan6.com, Jakarta -Motorola telah mengumumkan smartphone lipat dengan desain mirip Razr V3. Perusahaan pun memastikan smartphone tersebut tidak akan mengalami masalah fleksibilitas layar, seperti yang sebelumnya dialami Galaxy Fold.\\r\\nDikutip dari Phone Ar… [+1009 chars]'},\n",
       "  {'source': {'id': None, 'name': 'Detik.com'},\n",
       "   'author': 'Mercy Raya',\n",
       "   'title': '4 Pemain Dicoret dari Timnas U-23, Salah Satunya Beto - detikSport',\n",
       "   'description': 'Empat pemain dicoret dari Timnas Indonesia U-23. Mereka adalah Hanif Sjahbandi, Alberto Goncalves, Muhammad Hambali Tolib, dan Muhammad Rifad Marasabessy.',\n",
       "   'url': 'https://sport.detik.com/sepakbola/liga-indonesia/d-4787957/4-pemain-dicoret-dari-timnas-u-23-salah-satunya-beto',\n",
       "   'urlToImage': 'https://akcdn.detik.net.id/api/wm/2018/08/06/6b273f91-fee2-4a9a-878b-8d373f693bd3_169.jpeg?wid=54&w=650&v=1&t=jpeg',\n",
       "   'publishedAt': '2019-11-17T08:57:00Z',\n",
       "   'content': \"Jakarta - Empat pemain dicoret dari Timnas Indonesia U-23. Mereka adalah Hanif Sjahbandi, Alberto 'Beto' Goncalves, Muhammad Hambali Tolib, dan Muhammad Rifad Marasabessy.Sebanyak 28 pemain dipanggil untuk melakoni pelatnas SEA Games 2019. Namun, pelatih Indr… [+1370 chars]\"},\n",
       "  {'source': {'id': None, 'name': 'Kumparan.com'},\n",
       "   'author': 'kumparannews',\n",
       "   'title': 'Dewi Tanjung Resmi Dipolisikan soal Laporan Palsu Rekayasa Kasus Novel - kumparan.com - kumparan.com',\n",
       "   'description': 'Dewi Tanjung dinilai telah melanggar Pasal 220 KUHP tentang Pengaduan Palsu.',\n",
       "   'url': 'https://kumparan.com/kumparannews/dewi-tanjung-resmi-dipolisikan-soal-laporan-palsu-rekayasa-kasus-novel-1sGpwAFZ5zq',\n",
       "   'urlToImage': 'https://blue.kumparan.com/image/upload/w_600,h_315,c_fill,ar_40:21,f_jpg,q_auto/l_auy4e3oe2hru5hfaphbw,g_south,w_600/egvjev1wkpccqtc4rxwk.jpg',\n",
       "   'publishedAt': '2019-11-17T08:28:00Z',\n",
       "   'content': 'Tim advokasi Novel Baswedan resmi melaporkan kader PDIP, Dewi Tanjung, ke Polda Metro Jaya. Dewi dinilai telah melakukan pelaporan palsu ke polisi soal kasus penyerangan air keras kepada Novel.\\r\\nLaporan itu diterima oleh SPKT Polda Metro Jaya dengan nomor per… [+1647 chars]'},\n",
       "  {'source': {'id': None, 'name': 'Kompas.com'},\n",
       "   'author': 'Aloysius Gonsaga AE',\n",
       "   'title': 'Hong Kong Open 2019, Ahsan/Hendra Hanya Jadi Runner Up - KOMPAS.com',\n",
       "   'description': 'Mohammad Ahsan/Hendra Setiawan menjadi runner up Hong Kong Open 2019 setelah kalah dari pasangan Korea Selatan Choi Seolgyu/Seo Seung Jae.  Halaman all',\n",
       "   'url': 'https://bola.kompas.com/read/2019/11/17/15262178/hong-kong-open-2019-ahsan-hendra-hanya-jadi-runner-up?page=all',\n",
       "   'urlToImage': 'https://asset.kompas.com/crops/0GmKyNbwO-ygA1lTbw4-PKu_6AM=/875x0:5225x2900/780x390/filters:watermark(data/photo/2019/08/13/5d528b377fe82.png,0,-0,1)/data/photo/2019/11/07/5dc3ea90eeea6.jpg',\n",
       "   'publishedAt': '2019-11-17T08:26:00Z',\n",
       "   'content': 'KOMPAS.com - Ganda putra Indonesia, Mohammad Ahsan/ Hendra Setiawan, menjadi runner up turnamen bulu tangkis Hong Kong Open 2019.\\xa0\\r\\nBermain di Hong Kong Coliseum, Minggu (17/11/2019), Mohammad Ahsan/Hendra Setiawan kalah setelah melakoni laga rubber game mela… [+2247 chars]'},\n",
       "  {'source': {'id': None, 'name': 'Tribunnews.com'},\n",
       "   'author': 'Drajat Sugiri',\n",
       "   'title': 'MotoGP Valencia 2019: Bantah Gabung Ducati, Johann Zarco Berambisi ke Repsol Honda - Tribunnews',\n",
       "   'description': 'MotoGP Valencia 2019: Bantah Gabung Ducati, Johann Zarco Berambisi di Repsol Honda',\n",
       "   'url': 'https://www.tribunnews.com/sport/2019/11/17/motogp-valencia-2019-bantah-gabung-ducati-johann-zarco-berambisi-ke-repsol-honda',\n",
       "   'urlToImage': 'https://cdn2.tstatic.net/tribunnews/foto/bank/images/akhirnya-johann-zarco-kembali-membalap-di-motogp-2019-bersama-honda.jpg',\n",
       "   'publishedAt': '2019-11-17T08:23:25Z',\n",
       "   'content': 'TRIBUNNEWS.COM - Isu rider pengganti Jorge Lorenzo digelaran MotoGP 2020 mendatang semakin santer dibicarakan, Minggu (17/11/2019).\\r\\nJorge Lorenzo memutuskan pensiun dari Grand Priz setelah berkiprah didalamnya selama 18 tahun.\\r\\nSebanyak empat pembalap dikaba… [+816 chars]'},\n",
       "  {'source': {'id': None, 'name': 'Cnnindonesia.com'},\n",
       "   'author': None,\n",
       "   'title': 'Gunung Merapi Meletus, Warga Diimbau Jauhi Radius 3 KM - CNN Indonesia',\n",
       "   'description': 'PVMBG mengimbau warga menjauhi area dalam radius 3 kilometer (KM) dari puncak Gunung Merapi, setelah letusan pagi tadi, pukul 10.46 WIB, Minggu (17/11).',\n",
       "   'url': 'https://www.cnnindonesia.com/nasional/20191117145430-20-449084/gunung-merapi-meletus-warga-diimbau-jauhi-radius-3-km',\n",
       "   'urlToImage': 'https://awsimages.detik.net.id/visual/2018/06/02/79911aae-6b08-43e4-bcd2-e9076655c16d_169.jpeg?w=650',\n",
       "   'publishedAt': '2019-11-17T07:58:00Z',\n",
       "   'content': 'Jakarta, CNN Indonesia -- Pusat Vulkanologi dan Mitigasi Bencana Geologi (PVMBG) mengimbau warga menjauhi area dalam radius tiga kilometer dari puncak Gunung Merapi, setelah\\xa0letusan gunung pada pukul 10.46 WIB, Minggu (17/11).PVMBG juga mengimbau warga mengan… [+1573 chars]'},\n",
       "  {'source': {'id': None, 'name': 'Grid.id'},\n",
       "   'author': None,\n",
       "   'title': 'Anggun nan Elegan, Selvi Ananda Tampil Paripurna dalam Balutan Gaun Ungu Saat Maternity Shoot Jelang Kelah... - Grid.ID',\n",
       "   'description': 'Jalani maternity photoshoot sebelum melahirkan, Selvi Ananda tampil mencuri perhatian dalam balutan gaun panjang warna ungu keemasan.',\n",
       "   'url': 'https://www.grid.id/read/041922490/anggun-nan-elegan-selvi-ananda-tampil-paripurnadalam-balutan-gaun-ungu-saat-maternity-shoot-jelang-kelahiran-la-lembah-manah',\n",
       "   'urlToImage': 'https://asset-a.grid.id/crop/0x0:1581x1041/700x465/photo/2019/11/17/3119803955.jpg',\n",
       "   'publishedAt': '2019-11-17T07:51:00Z',\n",
       "   'content': None},\n",
       "  {'source': {'id': None, 'name': 'Selular.id'},\n",
       "   'author': 'Ricky Fitrah',\n",
       "   'title': 'Sebentar Lagi Trio iPhone 11 Akan Hadir di Indonesia - Selular.ID',\n",
       "   'description': 'Jakarta, Selular.ID - Distributor gadget terbesar di Indonesia, Teletama Artha Mandiri (TAM), akan segera memboyong ketiga seri iPhone 11 ke Indonesia. Djatmiko Wardoyo, Marketing and Communication Director Erajaya Group dalam keterangan resmi yang diterima S…',\n",
       "   'url': 'https://selular.id/2019/11/sebentar-lagi-trio-iphone-11-akan-hadir-di-indonesia/',\n",
       "   'urlToImage': 'https://selular.id/wp-content/uploads/2019/11/iPhone-11-dummy.jpg',\n",
       "   'publishedAt': '2019-11-17T07:45:29Z',\n",
       "   'content': 'Jakarta, Selular.ID – Distributor gadget terbesar di Indonesia, Teletama Artha Mandiri (TAM), akan segera memboyong ketiga seri iPhone 11 ke Indonesia.\\r\\nDjatmiko Wardoyo, Marketing and Communication Director Erajaya Group dalam keterangan resmi yang diterima … [+1004 chars]'},\n",
       "  {'source': {'id': None, 'name': 'Detik.com'},\n",
       "   'author': 'Rizki Pratama',\n",
       "   'title': 'Harga Mobil Sedan Bisa Lebih Murah 2 Tahun Lagi? - Detikcom',\n",
       "   'description': 'Melalui PPnBM yang berlaku tahun 2021 tersebut nilai jual sedan dapat bersaing dengan model-model lainnya di Indonesia.',\n",
       "   'url': 'https://oto.detik.com/mobil/d-4787856/harga-mobil-sedan-bisa-lebih-murah-2-tahun-lagi',\n",
       "   'urlToImage': 'https://awsimages.detik.net.id/api/wm/2019/10/18/37aef54a-1459-420d-934e-74c7822d1df3_169.png?wid=54&w=650&v=1&t=jpeg',\n",
       "   'publishedAt': '2019-11-17T06:57:44Z',\n",
       "   'content': 'Surabaya - Skema pajak penjualan atas barang mewah (PPnBM) yang baru memunculkan harapan pabrikan yang menjual mobil sedan untuk bangkit kembali di Indonesia. Melalui PPnBM yang berlaku tahun 2021 tersebut nilai jual sedan dapat bersaing dengan model-model la… [+1782 chars]'},\n",
       "  {'source': {'id': None, 'name': 'Kompas.com'},\n",
       "   'author': 'Irfan Maullana',\n",
       "   'title': 'Polisi Buru Pelaku Pelempar Sperma ke Perempuan di Tasikmalaya Halaman all - KOMPAS.com',\n",
       "   'description': 'Pelaku yang diburu sesuai dengan ciri-ciri laporan korban selama ini. Pria berusia lebih dari 20 tahun memakai motor Honda Scoopy dan berjaket kulit. Halaman all',\n",
       "   'url': 'https://regional.kompas.com/read/2019/11/17/13322761/polisi-buru-pelaku-pelempar-sperma-ke-perempuan-di-tasikmalaya?page=all',\n",
       "   'urlToImage': 'https://asset.kompas.com/crops/JEoAU1nCnOsx7E7Vav6dg7d24cQ=/0x0:0x0/780x390/filters:watermark(data/photo/2019/08/13/5d528b8341764.png,0,-0,1)/data/photo/2019/11/16/5dd0134081463.jpg',\n",
       "   'publishedAt': '2019-11-17T06:32:00Z',\n",
       "   'content': 'TASIKMALAYA, KOMPAS.com\\xa0— Jajaran Satuan Reserse Kriminal Polres Tasikmalaya Kota sedang memburu pelaku dugaan tindak asusila pelempar sperma ke perempuan di wilayahnya.\\r\\nHal itu dilakukan setelah ramai informasi kasus teror pelemparan sperma serta telah adan… [+2140 chars]'},\n",
       "  {'source': {'id': None, 'name': 'Sindonews.com'},\n",
       "   'author': 'Victor Maulana',\n",
       "   'title': 'PBB Khawatir Krisis Venezuela Lepas Kendali - SINDOnews.com',\n",
       "   'description': 'Komisaris Tinggi PBB untuk HAM, Michelle Bachelet menyatakan kekhawatiran krisis di Bolivia akan bergerak tidak terkendali....',\n",
       "   'url': 'https://international.sindonews.com/read/1459598/41/pbb-khawatir-krisis-venezuela-lepas-kendali-1573961773',\n",
       "   'urlToImage': 'https://cdn.sindonews.net/dyn/620/content/2019/11/17/41/1459598/pbb-khawatir-krisis-venezuela-lepas-kendali-my9.jpg',\n",
       "   'publishedAt': '2019-11-17T05:35:00Z',\n",
       "   'content': 'JENEWA - Komisaris Tinggi PBB untuk HAM, Michelle Bachelet menyatakan kekhawatiran krisis di Bolivia akan bergerak tidak terkendali. Krisis di Venezuela terus memburuk paska mundurnya Evo Morales sebagai pemimpin negara itu.\"Saya benar-benar khawatir bahwa si… [+1098 chars]'},\n",
       "  {'source': {'id': None, 'name': 'Kompas.com'},\n",
       "   'author': 'Sari Hardiyanto',\n",
       "   'title': 'Peserta P1/TL 2018 Dapat Keistimewaan di CPNS 2019? - KOMPAS.com',\n",
       "   'description': 'Pemerintah membuat kebijakan tersendiri pagi pelamar P1/TL terkait proses rekrutmen CPNS 2019. Ini langkah pengisian formasinya...',\n",
       "   'url': 'https://www.kompas.com/tren/read/2019/11/17/123300965/peserta-p1-tl-2018-dapat-keistimewaan-di-cpns-2019-',\n",
       "   'urlToImage': 'https://asset.kompas.com/crops/9WBO9uUUq2eOcshUXnJ7BYJ8Myw=/409x205:852x501/780x390/filters:watermark(data/photo/2019/08/13/5d528bf23b805.png,0,-0,1)/data/photo/2019/11/14/5dcd1fed7dea8.jpg',\n",
       "   'publishedAt': '2019-11-17T05:33:00Z',\n",
       "   'content': 'KOMPAS.com - Pemerintah melalui Kementerian Pendayagunaan Aparatur Negara dan Reformasi Birokrasi (Kemenpan-RB) memperbolehkan peserta P1/TL untuk mendaftar dan mengikuti seleksi CPNS 2019.\\r\\nPeserta P1/Tl merupakan peserta seleksi penerimaan CPNS 2018 yang ni… [+1535 chars]'},\n",
       "  {'source': {'id': None, 'name': 'Kompas.com'},\n",
       "   'author': 'Azwar Ferdian',\n",
       "   'title': 'Begini Cara Deteksi Kerusakan Power Steering Elektrik - KOMPAS.com',\n",
       "   'description': 'Power steering elektrik butuh perlakukan khusus, terutama bagian motor elektriknya.',\n",
       "   'url': 'https://otomotif.kompas.com/read/2019/11/17/123100215/begini-cara-deteksi-kerusakan-power-steering-elektrik',\n",
       "   'urlToImage': 'https://asset.kompas.com/crops/4VBkelt2ZqbsjLocEh_3jPwtuuw=/40x0:923x589/780x390/filters:watermark(data/photo/2019/08/13/5d528bbce75f0.png,0,-0,1)/data/photo/2019/11/16/5dd02af9daa79.jpg',\n",
       "   'publishedAt': '2019-11-17T05:31:00Z',\n",
       "   'content': 'JAKARTA, KOMPAS.com – Power steering sudah menjadi fitur wajib pada mobil-mobil keluaran terbaru.\\r\\nFitur ini meringankan kerja pengemudi saat memutar setir, terutama saat dalam keadaan statis atau saat hendak parkir.\\r\\nSecara umum power steering terdiri dari d… [+1532 chars]'},\n",
       "  {'source': {'id': None, 'name': 'Detik.com'},\n",
       "   'author': 'Mei Amelia R',\n",
       "   'title': 'Sukmawati Cerita Alm Suami Habaib Sayid, Teman Diskusi soal Nabi-Bung Karno - Detiknews',\n",
       "   'description': 'Sukmawati Soekarnoputri tengah jadi pembahasan lantaran membandingkan Nabi Muhammad SAW dan Sukarno. Sukmawati kini bercerita soal almarhum suaminya.',\n",
       "   'url': 'https://news.detik.com/berita/d-4787772/sukmawati-cerita-alm-suami-habaib-sayid-teman-diskusi-soal-nabi-bung-karno',\n",
       "   'urlToImage': 'https://awsimages.detik.net.id/api/wm/2019/11/17/acc3b516-b4e9-403b-8016-964121c2ca2c_169.jpeg?wid=54&w=650&v=1&t=jpeg',\n",
       "   'publishedAt': '2019-11-17T05:27:35Z',\n",
       "   'content': 'Jakarta -\\r\\nSukmawati Soekarnoputri tengah jadi pembahasan lantaran membandingkan Nabi Muhammad SAW dan Sukarno. Sukmawati kini bercerita soal almarhum suaminya.Bukan tanpa alasan Sukmawati mengenang almarhum suaminya. Menurutnya, almarhum suaminya dan dia ker… [+1045 chars]'},\n",
       "  {'source': {'id': None, 'name': 'Kompas.com'},\n",
       "   'author': 'Inggried Dwi Wedhaswary',\n",
       "   'title': 'Pabrik Tahu Gunakan Plastik sebagai Bahan Bakar, Ini Kata Walhi - KOMPAS.com',\n",
       "   'description': 'Pabrik tahu menggunakan campuran plastik dan kertas sebagai bahan bakar, dengan sebagian besar datang dari AS. Ini kata Walhi.',\n",
       "   'url': 'https://www.kompas.com/tren/read/2019/11/17/122553165/pabrik-tahu-gunakan-plastik-sebagai-bahan-bakar-ini-kata-walhi?page=all',\n",
       "   'urlToImage': 'https://asset.kompas.com/crops/Q-W9QhPHCzGfFZpjsdRvDzW7Jd8=/0x0:1000x667/780x390/filters:watermark(data/photo/2019/08/13/5d528bf23b805.png,0,-0,1)/data/photo/2019/11/17/5dd0d67f0b6c6.jpg',\n",
       "   'publishedAt': '2019-11-17T05:25:00Z',\n",
       "   'content': 'KOMPAS.com - Pabrik tahu Indonesia yang menggunakan plastik sebagai bahan bakar menjadi sorotan media AS, New York Times.\\r\\nMelansir pemberitaaan New York Times, Kamis (14/11/2019), lebih dari 30 perusahaan tahu menggunakan campuran plastik dan kertas sebagai … [+1067 chars]'},\n",
       "  {'source': {'id': None, 'name': 'Kompas.com'},\n",
       "   'author': 'Azwar Ferdian',\n",
       "   'title': 'Kebiasaan Ini Bikin Power Steering Hidrolik Mobil Cepat Lemah - KOMPAS.com',\n",
       "   'description': 'Power steering hidrolik bekerja lewat oli yang menyalurkan tenaga atau tekanan.',\n",
       "   'url': 'https://otomotif.kompas.com/read/2019/11/17/120100415/kebiasaan-ini-bikin-power-steering-hidrolik-mobil-cepat-lemah',\n",
       "   'urlToImage': 'https://asset.kompas.com/crops/yI67LnrlXP8mu8y_PEDSU-9aO8M=/0x42:1000x709/780x390/filters:watermark(data/photo/2019/08/13/5d528bbce75f0.png,0,-0,1)/data/photo/2017/09/10/2279853318.JPG',\n",
       "   'publishedAt': '2019-11-17T05:01:00Z',\n",
       "   'content': 'JAKARTA, KOMPAS.com – Seperti halnya power steering elektrik yang butuh perhatian khusus, komponen power steering hidrolik patut mendapatkan hal yang sama untuk menjaga kondisinya selalu optimal.\\r\\nBerbeda dengan power steering elektrik yang digerakkan oleh mo… [+1373 chars]'},\n",
       "  {'source': {'id': None, 'name': 'Cnnindonesia.com'},\n",
       "   'author': None,\n",
       "   'title': \"Cara Atasi Ponsel yang 'Lemot' - CNN Indonesia\",\n",
       "   'description': 'Ponsel lemot memang tidak bisa dihindari imbas menumpuknya aplikasi di dalam ponsel.',\n",
       "   'url': 'https://www.cnnindonesia.com/teknologi/20191115190702-185-448803/cara-atasi-ponsel-yang-lemot',\n",
       "   'urlToImage': 'https://awsimages.detik.net.id/visual/2019/08/08/13b953f8-f19b-4fb1-b67f-cfcc3bedafa7_169.jpeg?w=650',\n",
       "   'publishedAt': '2019-11-17T04:19:27Z',\n",
       "   'content': \"Jakarta, CNN Indonesia -- Pemilik\\xa0ponsel kerap kesal ketika mendapati gawainya lelet atau lemot ketika dioperasikan. Gejala 'lag' kerap ditemui pada ponsel dan sangat menjengkelkan terlebih saat dibutuhkan respons cepat.Ponsel lemot memang tidak bisa dihindar… [+2207 chars]\"},\n",
       "  {'source': {'id': None, 'name': 'Tribunnews.com'},\n",
       "   'author': 'has',\n",
       "   'title': 'Kronologi Eza Gionino Laporkan Penjual Ikan Arwana ke Polisi, Awalnya Anak dan Istri Diancam Dibunuh - Tribun Jogja',\n",
       "   'description': 'Kronologi Eza Gionino Laporkan Penjual Ikan Arwana ke Polisi, Awalnya Anak dan Istri Diancam Dibunuh',\n",
       "   'url': 'https://jogja.tribunnews.com/2019/11/17/kronologi-eza-gionino-laporkan-penjual-ikan-arwana-ke-polisi-awalnya-anak-dan-istri-diancam-dibunuh',\n",
       "   'urlToImage': 'https://cdn2.tstatic.net/jogja/foto/bank/images/Eza-Gionino-Dipindahkan-ke-LP-Cipinang-Kamis-nanti.jpg',\n",
       "   'publishedAt': '2019-11-17T04:04:08Z',\n",
       "   'content': 'TRIBUNJOGJA.COM - Jual beli ikan arwana antara aktor sinetron Eza\\xa0Gionino dan Qory Supandy akhirnya berujung pelaporan yang penjual ikan ke polisi.\\r\\nKeputusan Eza bersama istrinya untuk melaporkan Qory ke polisi ini diambil karena sang aktor merasa mendapatka… [+673 chars]'},\n",
       "  {'source': {'id': None, 'name': 'Cnbcindonesia.com'},\n",
       "   'author': 'Redaksi',\n",
       "   'title': 'Kesalahan Samsung & Strategi Oppo yang Kuasai Pasar Ponsel RI - CNBC Indonesia',\n",
       "   'description': 'Oppo berhasil menguasai pasar gawai di Indonesia, menggeser dominasi Samsung di Kuartal III 2019.',\n",
       "   'url': 'https://www.cnbcindonesia.com/tech/20191117103024-37-115808/kesalahan-samsung-strategi-oppo-yang-kuasai-pasar-ponsel-ri',\n",
       "   'urlToImage': 'https://awsimages.detik.net.id/visual/2019/11/11/8741f3e6-cf48-4145-ac78-ae14c8de9b07_169.jpeg?w=650',\n",
       "   'publishedAt': '2019-11-17T03:50:08Z',\n",
       "   'content': 'Jakarta, CNBC Indonesia - Oppo berhasil menguasai pasar gawai di Indonesia, menggeser dominasi Samsung di Kuartal III 2019. Hal ini tak terlepas dari strategi pemasaran mereka.\\r\\nMereka mencermatinya dengan memperhatikan pendapatan pembeli. Analis Pasar Intern… [+2248 chars]'},\n",
       "  {'source': {'id': None, 'name': 'Kontan.co.id'},\n",
       "   'author': 'Akhmad Suryahadi',\n",
       "   'title': 'Efek neraca dagang surplus, IHSG diprediksi menguat Senin (18/11) - Investasi Kontan',\n",
       "   'description': 'IHSG diprediksi menguat pada Senin (18/11), ditopang data neraca perdagangan Indonesia yang surplus.',\n",
       "   'url': 'https://investasi.kontan.co.id/news/efek-neraca-dagang-surplus-ihsg-diprediksi-menguat-senin-1811',\n",
       "   'urlToImage': 'https://photo.kontan.co.id/photo/2019/11/01/723692263p.jpg',\n",
       "   'publishedAt': '2019-11-17T03:40:49Z',\n",
       "   'content': 'KONTAN.CO.ID - JAKARTA. Indeks Harga Saham Gabungan (IHSG) ditutup menguat 0,48% ke level 6.128,34 pada perdagangan Jumat (15/11). Investor asing kembali memborong saham hingga mencatatkan net buy sebesar Rp 64,74 miliar. Meski demikian, selama sepekan IHSG t… [+936 chars]'}]}"
      ]
     },
     "execution_count": 111,
     "metadata": {},
     "output_type": "execute_result"
    }
   ],
   "source": [
    "response"
   ]
  },
  {
   "cell_type": "code",
   "execution_count": 112,
   "metadata": {
    "scrolled": true
   },
   "outputs": [
    {
     "name": "stdout",
     "output_type": "stream",
     "text": [
      "{'id': None, 'name': 'Liputan6.com'}\n",
      "{'id': None, 'name': 'Detik.com'}\n",
      "{'id': None, 'name': 'Kumparan.com'}\n",
      "{'id': None, 'name': 'Kompas.com'}\n",
      "{'id': None, 'name': 'Tribunnews.com'}\n",
      "{'id': None, 'name': 'Cnnindonesia.com'}\n",
      "{'id': None, 'name': 'Grid.id'}\n",
      "{'id': None, 'name': 'Selular.id'}\n",
      "{'id': None, 'name': 'Detik.com'}\n",
      "{'id': None, 'name': 'Kompas.com'}\n",
      "{'id': None, 'name': 'Sindonews.com'}\n",
      "{'id': None, 'name': 'Kompas.com'}\n",
      "{'id': None, 'name': 'Kompas.com'}\n",
      "{'id': None, 'name': 'Detik.com'}\n",
      "{'id': None, 'name': 'Kompas.com'}\n",
      "{'id': None, 'name': 'Kompas.com'}\n",
      "{'id': None, 'name': 'Cnnindonesia.com'}\n",
      "{'id': None, 'name': 'Tribunnews.com'}\n",
      "{'id': None, 'name': 'Cnbcindonesia.com'}\n",
      "{'id': None, 'name': 'Kontan.co.id'}\n"
     ]
    }
   ],
   "source": [
    "temp = []\n",
    "for r in response['articles']:\n",
    "    print(r['source'])\n",
    "    temp.append(r)"
   ]
  },
  {
   "cell_type": "code",
   "execution_count": 113,
   "metadata": {},
   "outputs": [
    {
     "data": {
      "text/plain": [
       "[{'source': {'id': None, 'name': 'Liputan6.com'},\n",
       "  'author': 'Andina Librianty',\n",
       "  'title': 'Motorola Yakin Smartphone Razr Terbaru Tak Bermasalah Seperti Galaxy Fold - Liputan6.com',\n",
       "  'description': 'Motorola Razr dipastikan tidak akan mengalami masalah fleksibilitas layar, seperti yang sebelumnya dialami Galaxy Fold.',\n",
       "  'url': 'https://www.liputan6.com/tekno/read/4112318/motorola-yakin-smartphone-razr-terbaru-tak-bermasalah-seperti-galaxy-fold',\n",
       "  'urlToImage': 'https://cdn0-production-images-kly.akamaized.net/xjHSFeb4FUaLAb56bREfq2k5FZk=/673x379/smart/filters:quality(75):strip_icc():format(jpeg)/kly-media-production/medias/2967342/original/090732800_1573716052-Moto_Razr.jpg',\n",
       "  'publishedAt': '2019-11-17T09:00:08Z',\n",
       "  'content': 'Liputan6.com, Jakarta -Motorola telah mengumumkan smartphone lipat dengan desain mirip Razr V3. Perusahaan pun memastikan smartphone tersebut tidak akan mengalami masalah fleksibilitas layar, seperti yang sebelumnya dialami Galaxy Fold.\\r\\nDikutip dari Phone Ar… [+1009 chars]'},\n",
       " {'source': {'id': None, 'name': 'Detik.com'},\n",
       "  'author': 'Mercy Raya',\n",
       "  'title': '4 Pemain Dicoret dari Timnas U-23, Salah Satunya Beto - detikSport',\n",
       "  'description': 'Empat pemain dicoret dari Timnas Indonesia U-23. Mereka adalah Hanif Sjahbandi, Alberto Goncalves, Muhammad Hambali Tolib, dan Muhammad Rifad Marasabessy.',\n",
       "  'url': 'https://sport.detik.com/sepakbola/liga-indonesia/d-4787957/4-pemain-dicoret-dari-timnas-u-23-salah-satunya-beto',\n",
       "  'urlToImage': 'https://akcdn.detik.net.id/api/wm/2018/08/06/6b273f91-fee2-4a9a-878b-8d373f693bd3_169.jpeg?wid=54&w=650&v=1&t=jpeg',\n",
       "  'publishedAt': '2019-11-17T08:57:00Z',\n",
       "  'content': \"Jakarta - Empat pemain dicoret dari Timnas Indonesia U-23. Mereka adalah Hanif Sjahbandi, Alberto 'Beto' Goncalves, Muhammad Hambali Tolib, dan Muhammad Rifad Marasabessy.Sebanyak 28 pemain dipanggil untuk melakoni pelatnas SEA Games 2019. Namun, pelatih Indr… [+1370 chars]\"},\n",
       " {'source': {'id': None, 'name': 'Kumparan.com'},\n",
       "  'author': 'kumparannews',\n",
       "  'title': 'Dewi Tanjung Resmi Dipolisikan soal Laporan Palsu Rekayasa Kasus Novel - kumparan.com - kumparan.com',\n",
       "  'description': 'Dewi Tanjung dinilai telah melanggar Pasal 220 KUHP tentang Pengaduan Palsu.',\n",
       "  'url': 'https://kumparan.com/kumparannews/dewi-tanjung-resmi-dipolisikan-soal-laporan-palsu-rekayasa-kasus-novel-1sGpwAFZ5zq',\n",
       "  'urlToImage': 'https://blue.kumparan.com/image/upload/w_600,h_315,c_fill,ar_40:21,f_jpg,q_auto/l_auy4e3oe2hru5hfaphbw,g_south,w_600/egvjev1wkpccqtc4rxwk.jpg',\n",
       "  'publishedAt': '2019-11-17T08:28:00Z',\n",
       "  'content': 'Tim advokasi Novel Baswedan resmi melaporkan kader PDIP, Dewi Tanjung, ke Polda Metro Jaya. Dewi dinilai telah melakukan pelaporan palsu ke polisi soal kasus penyerangan air keras kepada Novel.\\r\\nLaporan itu diterima oleh SPKT Polda Metro Jaya dengan nomor per… [+1647 chars]'},\n",
       " {'source': {'id': None, 'name': 'Kompas.com'},\n",
       "  'author': 'Aloysius Gonsaga AE',\n",
       "  'title': 'Hong Kong Open 2019, Ahsan/Hendra Hanya Jadi Runner Up - KOMPAS.com',\n",
       "  'description': 'Mohammad Ahsan/Hendra Setiawan menjadi runner up Hong Kong Open 2019 setelah kalah dari pasangan Korea Selatan Choi Seolgyu/Seo Seung Jae.  Halaman all',\n",
       "  'url': 'https://bola.kompas.com/read/2019/11/17/15262178/hong-kong-open-2019-ahsan-hendra-hanya-jadi-runner-up?page=all',\n",
       "  'urlToImage': 'https://asset.kompas.com/crops/0GmKyNbwO-ygA1lTbw4-PKu_6AM=/875x0:5225x2900/780x390/filters:watermark(data/photo/2019/08/13/5d528b377fe82.png,0,-0,1)/data/photo/2019/11/07/5dc3ea90eeea6.jpg',\n",
       "  'publishedAt': '2019-11-17T08:26:00Z',\n",
       "  'content': 'KOMPAS.com - Ganda putra Indonesia, Mohammad Ahsan/ Hendra Setiawan, menjadi runner up turnamen bulu tangkis Hong Kong Open 2019.\\xa0\\r\\nBermain di Hong Kong Coliseum, Minggu (17/11/2019), Mohammad Ahsan/Hendra Setiawan kalah setelah melakoni laga rubber game mela… [+2247 chars]'},\n",
       " {'source': {'id': None, 'name': 'Tribunnews.com'},\n",
       "  'author': 'Drajat Sugiri',\n",
       "  'title': 'MotoGP Valencia 2019: Bantah Gabung Ducati, Johann Zarco Berambisi ke Repsol Honda - Tribunnews',\n",
       "  'description': 'MotoGP Valencia 2019: Bantah Gabung Ducati, Johann Zarco Berambisi di Repsol Honda',\n",
       "  'url': 'https://www.tribunnews.com/sport/2019/11/17/motogp-valencia-2019-bantah-gabung-ducati-johann-zarco-berambisi-ke-repsol-honda',\n",
       "  'urlToImage': 'https://cdn2.tstatic.net/tribunnews/foto/bank/images/akhirnya-johann-zarco-kembali-membalap-di-motogp-2019-bersama-honda.jpg',\n",
       "  'publishedAt': '2019-11-17T08:23:25Z',\n",
       "  'content': 'TRIBUNNEWS.COM - Isu rider pengganti Jorge Lorenzo digelaran MotoGP 2020 mendatang semakin santer dibicarakan, Minggu (17/11/2019).\\r\\nJorge Lorenzo memutuskan pensiun dari Grand Priz setelah berkiprah didalamnya selama 18 tahun.\\r\\nSebanyak empat pembalap dikaba… [+816 chars]'},\n",
       " {'source': {'id': None, 'name': 'Cnnindonesia.com'},\n",
       "  'author': None,\n",
       "  'title': 'Gunung Merapi Meletus, Warga Diimbau Jauhi Radius 3 KM - CNN Indonesia',\n",
       "  'description': 'PVMBG mengimbau warga menjauhi area dalam radius 3 kilometer (KM) dari puncak Gunung Merapi, setelah letusan pagi tadi, pukul 10.46 WIB, Minggu (17/11).',\n",
       "  'url': 'https://www.cnnindonesia.com/nasional/20191117145430-20-449084/gunung-merapi-meletus-warga-diimbau-jauhi-radius-3-km',\n",
       "  'urlToImage': 'https://awsimages.detik.net.id/visual/2018/06/02/79911aae-6b08-43e4-bcd2-e9076655c16d_169.jpeg?w=650',\n",
       "  'publishedAt': '2019-11-17T07:58:00Z',\n",
       "  'content': 'Jakarta, CNN Indonesia -- Pusat Vulkanologi dan Mitigasi Bencana Geologi (PVMBG) mengimbau warga menjauhi area dalam radius tiga kilometer dari puncak Gunung Merapi, setelah\\xa0letusan gunung pada pukul 10.46 WIB, Minggu (17/11).PVMBG juga mengimbau warga mengan… [+1573 chars]'},\n",
       " {'source': {'id': None, 'name': 'Grid.id'},\n",
       "  'author': None,\n",
       "  'title': 'Anggun nan Elegan, Selvi Ananda Tampil Paripurna dalam Balutan Gaun Ungu Saat Maternity Shoot Jelang Kelah... - Grid.ID',\n",
       "  'description': 'Jalani maternity photoshoot sebelum melahirkan, Selvi Ananda tampil mencuri perhatian dalam balutan gaun panjang warna ungu keemasan.',\n",
       "  'url': 'https://www.grid.id/read/041922490/anggun-nan-elegan-selvi-ananda-tampil-paripurnadalam-balutan-gaun-ungu-saat-maternity-shoot-jelang-kelahiran-la-lembah-manah',\n",
       "  'urlToImage': 'https://asset-a.grid.id/crop/0x0:1581x1041/700x465/photo/2019/11/17/3119803955.jpg',\n",
       "  'publishedAt': '2019-11-17T07:51:00Z',\n",
       "  'content': None},\n",
       " {'source': {'id': None, 'name': 'Selular.id'},\n",
       "  'author': 'Ricky Fitrah',\n",
       "  'title': 'Sebentar Lagi Trio iPhone 11 Akan Hadir di Indonesia - Selular.ID',\n",
       "  'description': 'Jakarta, Selular.ID - Distributor gadget terbesar di Indonesia, Teletama Artha Mandiri (TAM), akan segera memboyong ketiga seri iPhone 11 ke Indonesia. Djatmiko Wardoyo, Marketing and Communication Director Erajaya Group dalam keterangan resmi yang diterima S…',\n",
       "  'url': 'https://selular.id/2019/11/sebentar-lagi-trio-iphone-11-akan-hadir-di-indonesia/',\n",
       "  'urlToImage': 'https://selular.id/wp-content/uploads/2019/11/iPhone-11-dummy.jpg',\n",
       "  'publishedAt': '2019-11-17T07:45:29Z',\n",
       "  'content': 'Jakarta, Selular.ID – Distributor gadget terbesar di Indonesia, Teletama Artha Mandiri (TAM), akan segera memboyong ketiga seri iPhone 11 ke Indonesia.\\r\\nDjatmiko Wardoyo, Marketing and Communication Director Erajaya Group dalam keterangan resmi yang diterima … [+1004 chars]'},\n",
       " {'source': {'id': None, 'name': 'Detik.com'},\n",
       "  'author': 'Rizki Pratama',\n",
       "  'title': 'Harga Mobil Sedan Bisa Lebih Murah 2 Tahun Lagi? - Detikcom',\n",
       "  'description': 'Melalui PPnBM yang berlaku tahun 2021 tersebut nilai jual sedan dapat bersaing dengan model-model lainnya di Indonesia.',\n",
       "  'url': 'https://oto.detik.com/mobil/d-4787856/harga-mobil-sedan-bisa-lebih-murah-2-tahun-lagi',\n",
       "  'urlToImage': 'https://awsimages.detik.net.id/api/wm/2019/10/18/37aef54a-1459-420d-934e-74c7822d1df3_169.png?wid=54&w=650&v=1&t=jpeg',\n",
       "  'publishedAt': '2019-11-17T06:57:44Z',\n",
       "  'content': 'Surabaya - Skema pajak penjualan atas barang mewah (PPnBM) yang baru memunculkan harapan pabrikan yang menjual mobil sedan untuk bangkit kembali di Indonesia. Melalui PPnBM yang berlaku tahun 2021 tersebut nilai jual sedan dapat bersaing dengan model-model la… [+1782 chars]'},\n",
       " {'source': {'id': None, 'name': 'Kompas.com'},\n",
       "  'author': 'Irfan Maullana',\n",
       "  'title': 'Polisi Buru Pelaku Pelempar Sperma ke Perempuan di Tasikmalaya Halaman all - KOMPAS.com',\n",
       "  'description': 'Pelaku yang diburu sesuai dengan ciri-ciri laporan korban selama ini. Pria berusia lebih dari 20 tahun memakai motor Honda Scoopy dan berjaket kulit. Halaman all',\n",
       "  'url': 'https://regional.kompas.com/read/2019/11/17/13322761/polisi-buru-pelaku-pelempar-sperma-ke-perempuan-di-tasikmalaya?page=all',\n",
       "  'urlToImage': 'https://asset.kompas.com/crops/JEoAU1nCnOsx7E7Vav6dg7d24cQ=/0x0:0x0/780x390/filters:watermark(data/photo/2019/08/13/5d528b8341764.png,0,-0,1)/data/photo/2019/11/16/5dd0134081463.jpg',\n",
       "  'publishedAt': '2019-11-17T06:32:00Z',\n",
       "  'content': 'TASIKMALAYA, KOMPAS.com\\xa0— Jajaran Satuan Reserse Kriminal Polres Tasikmalaya Kota sedang memburu pelaku dugaan tindak asusila pelempar sperma ke perempuan di wilayahnya.\\r\\nHal itu dilakukan setelah ramai informasi kasus teror pelemparan sperma serta telah adan… [+2140 chars]'},\n",
       " {'source': {'id': None, 'name': 'Sindonews.com'},\n",
       "  'author': 'Victor Maulana',\n",
       "  'title': 'PBB Khawatir Krisis Venezuela Lepas Kendali - SINDOnews.com',\n",
       "  'description': 'Komisaris Tinggi PBB untuk HAM, Michelle Bachelet menyatakan kekhawatiran krisis di Bolivia akan bergerak tidak terkendali....',\n",
       "  'url': 'https://international.sindonews.com/read/1459598/41/pbb-khawatir-krisis-venezuela-lepas-kendali-1573961773',\n",
       "  'urlToImage': 'https://cdn.sindonews.net/dyn/620/content/2019/11/17/41/1459598/pbb-khawatir-krisis-venezuela-lepas-kendali-my9.jpg',\n",
       "  'publishedAt': '2019-11-17T05:35:00Z',\n",
       "  'content': 'JENEWA - Komisaris Tinggi PBB untuk HAM, Michelle Bachelet menyatakan kekhawatiran krisis di Bolivia akan bergerak tidak terkendali. Krisis di Venezuela terus memburuk paska mundurnya Evo Morales sebagai pemimpin negara itu.\"Saya benar-benar khawatir bahwa si… [+1098 chars]'},\n",
       " {'source': {'id': None, 'name': 'Kompas.com'},\n",
       "  'author': 'Sari Hardiyanto',\n",
       "  'title': 'Peserta P1/TL 2018 Dapat Keistimewaan di CPNS 2019? - KOMPAS.com',\n",
       "  'description': 'Pemerintah membuat kebijakan tersendiri pagi pelamar P1/TL terkait proses rekrutmen CPNS 2019. Ini langkah pengisian formasinya...',\n",
       "  'url': 'https://www.kompas.com/tren/read/2019/11/17/123300965/peserta-p1-tl-2018-dapat-keistimewaan-di-cpns-2019-',\n",
       "  'urlToImage': 'https://asset.kompas.com/crops/9WBO9uUUq2eOcshUXnJ7BYJ8Myw=/409x205:852x501/780x390/filters:watermark(data/photo/2019/08/13/5d528bf23b805.png,0,-0,1)/data/photo/2019/11/14/5dcd1fed7dea8.jpg',\n",
       "  'publishedAt': '2019-11-17T05:33:00Z',\n",
       "  'content': 'KOMPAS.com - Pemerintah melalui Kementerian Pendayagunaan Aparatur Negara dan Reformasi Birokrasi (Kemenpan-RB) memperbolehkan peserta P1/TL untuk mendaftar dan mengikuti seleksi CPNS 2019.\\r\\nPeserta P1/Tl merupakan peserta seleksi penerimaan CPNS 2018 yang ni… [+1535 chars]'},\n",
       " {'source': {'id': None, 'name': 'Kompas.com'},\n",
       "  'author': 'Azwar Ferdian',\n",
       "  'title': 'Begini Cara Deteksi Kerusakan Power Steering Elektrik - KOMPAS.com',\n",
       "  'description': 'Power steering elektrik butuh perlakukan khusus, terutama bagian motor elektriknya.',\n",
       "  'url': 'https://otomotif.kompas.com/read/2019/11/17/123100215/begini-cara-deteksi-kerusakan-power-steering-elektrik',\n",
       "  'urlToImage': 'https://asset.kompas.com/crops/4VBkelt2ZqbsjLocEh_3jPwtuuw=/40x0:923x589/780x390/filters:watermark(data/photo/2019/08/13/5d528bbce75f0.png,0,-0,1)/data/photo/2019/11/16/5dd02af9daa79.jpg',\n",
       "  'publishedAt': '2019-11-17T05:31:00Z',\n",
       "  'content': 'JAKARTA, KOMPAS.com – Power steering sudah menjadi fitur wajib pada mobil-mobil keluaran terbaru.\\r\\nFitur ini meringankan kerja pengemudi saat memutar setir, terutama saat dalam keadaan statis atau saat hendak parkir.\\r\\nSecara umum power steering terdiri dari d… [+1532 chars]'},\n",
       " {'source': {'id': None, 'name': 'Detik.com'},\n",
       "  'author': 'Mei Amelia R',\n",
       "  'title': 'Sukmawati Cerita Alm Suami Habaib Sayid, Teman Diskusi soal Nabi-Bung Karno - Detiknews',\n",
       "  'description': 'Sukmawati Soekarnoputri tengah jadi pembahasan lantaran membandingkan Nabi Muhammad SAW dan Sukarno. Sukmawati kini bercerita soal almarhum suaminya.',\n",
       "  'url': 'https://news.detik.com/berita/d-4787772/sukmawati-cerita-alm-suami-habaib-sayid-teman-diskusi-soal-nabi-bung-karno',\n",
       "  'urlToImage': 'https://awsimages.detik.net.id/api/wm/2019/11/17/acc3b516-b4e9-403b-8016-964121c2ca2c_169.jpeg?wid=54&w=650&v=1&t=jpeg',\n",
       "  'publishedAt': '2019-11-17T05:27:35Z',\n",
       "  'content': 'Jakarta -\\r\\nSukmawati Soekarnoputri tengah jadi pembahasan lantaran membandingkan Nabi Muhammad SAW dan Sukarno. Sukmawati kini bercerita soal almarhum suaminya.Bukan tanpa alasan Sukmawati mengenang almarhum suaminya. Menurutnya, almarhum suaminya dan dia ker… [+1045 chars]'},\n",
       " {'source': {'id': None, 'name': 'Kompas.com'},\n",
       "  'author': 'Inggried Dwi Wedhaswary',\n",
       "  'title': 'Pabrik Tahu Gunakan Plastik sebagai Bahan Bakar, Ini Kata Walhi - KOMPAS.com',\n",
       "  'description': 'Pabrik tahu menggunakan campuran plastik dan kertas sebagai bahan bakar, dengan sebagian besar datang dari AS. Ini kata Walhi.',\n",
       "  'url': 'https://www.kompas.com/tren/read/2019/11/17/122553165/pabrik-tahu-gunakan-plastik-sebagai-bahan-bakar-ini-kata-walhi?page=all',\n",
       "  'urlToImage': 'https://asset.kompas.com/crops/Q-W9QhPHCzGfFZpjsdRvDzW7Jd8=/0x0:1000x667/780x390/filters:watermark(data/photo/2019/08/13/5d528bf23b805.png,0,-0,1)/data/photo/2019/11/17/5dd0d67f0b6c6.jpg',\n",
       "  'publishedAt': '2019-11-17T05:25:00Z',\n",
       "  'content': 'KOMPAS.com - Pabrik tahu Indonesia yang menggunakan plastik sebagai bahan bakar menjadi sorotan media AS, New York Times.\\r\\nMelansir pemberitaaan New York Times, Kamis (14/11/2019), lebih dari 30 perusahaan tahu menggunakan campuran plastik dan kertas sebagai … [+1067 chars]'},\n",
       " {'source': {'id': None, 'name': 'Kompas.com'},\n",
       "  'author': 'Azwar Ferdian',\n",
       "  'title': 'Kebiasaan Ini Bikin Power Steering Hidrolik Mobil Cepat Lemah - KOMPAS.com',\n",
       "  'description': 'Power steering hidrolik bekerja lewat oli yang menyalurkan tenaga atau tekanan.',\n",
       "  'url': 'https://otomotif.kompas.com/read/2019/11/17/120100415/kebiasaan-ini-bikin-power-steering-hidrolik-mobil-cepat-lemah',\n",
       "  'urlToImage': 'https://asset.kompas.com/crops/yI67LnrlXP8mu8y_PEDSU-9aO8M=/0x42:1000x709/780x390/filters:watermark(data/photo/2019/08/13/5d528bbce75f0.png,0,-0,1)/data/photo/2017/09/10/2279853318.JPG',\n",
       "  'publishedAt': '2019-11-17T05:01:00Z',\n",
       "  'content': 'JAKARTA, KOMPAS.com – Seperti halnya power steering elektrik yang butuh perhatian khusus, komponen power steering hidrolik patut mendapatkan hal yang sama untuk menjaga kondisinya selalu optimal.\\r\\nBerbeda dengan power steering elektrik yang digerakkan oleh mo… [+1373 chars]'},\n",
       " {'source': {'id': None, 'name': 'Cnnindonesia.com'},\n",
       "  'author': None,\n",
       "  'title': \"Cara Atasi Ponsel yang 'Lemot' - CNN Indonesia\",\n",
       "  'description': 'Ponsel lemot memang tidak bisa dihindari imbas menumpuknya aplikasi di dalam ponsel.',\n",
       "  'url': 'https://www.cnnindonesia.com/teknologi/20191115190702-185-448803/cara-atasi-ponsel-yang-lemot',\n",
       "  'urlToImage': 'https://awsimages.detik.net.id/visual/2019/08/08/13b953f8-f19b-4fb1-b67f-cfcc3bedafa7_169.jpeg?w=650',\n",
       "  'publishedAt': '2019-11-17T04:19:27Z',\n",
       "  'content': \"Jakarta, CNN Indonesia -- Pemilik\\xa0ponsel kerap kesal ketika mendapati gawainya lelet atau lemot ketika dioperasikan. Gejala 'lag' kerap ditemui pada ponsel dan sangat menjengkelkan terlebih saat dibutuhkan respons cepat.Ponsel lemot memang tidak bisa dihindar… [+2207 chars]\"},\n",
       " {'source': {'id': None, 'name': 'Tribunnews.com'},\n",
       "  'author': 'has',\n",
       "  'title': 'Kronologi Eza Gionino Laporkan Penjual Ikan Arwana ke Polisi, Awalnya Anak dan Istri Diancam Dibunuh - Tribun Jogja',\n",
       "  'description': 'Kronologi Eza Gionino Laporkan Penjual Ikan Arwana ke Polisi, Awalnya Anak dan Istri Diancam Dibunuh',\n",
       "  'url': 'https://jogja.tribunnews.com/2019/11/17/kronologi-eza-gionino-laporkan-penjual-ikan-arwana-ke-polisi-awalnya-anak-dan-istri-diancam-dibunuh',\n",
       "  'urlToImage': 'https://cdn2.tstatic.net/jogja/foto/bank/images/Eza-Gionino-Dipindahkan-ke-LP-Cipinang-Kamis-nanti.jpg',\n",
       "  'publishedAt': '2019-11-17T04:04:08Z',\n",
       "  'content': 'TRIBUNJOGJA.COM - Jual beli ikan arwana antara aktor sinetron Eza\\xa0Gionino dan Qory Supandy akhirnya berujung pelaporan yang penjual ikan ke polisi.\\r\\nKeputusan Eza bersama istrinya untuk melaporkan Qory ke polisi ini diambil karena sang aktor merasa mendapatka… [+673 chars]'},\n",
       " {'source': {'id': None, 'name': 'Cnbcindonesia.com'},\n",
       "  'author': 'Redaksi',\n",
       "  'title': 'Kesalahan Samsung & Strategi Oppo yang Kuasai Pasar Ponsel RI - CNBC Indonesia',\n",
       "  'description': 'Oppo berhasil menguasai pasar gawai di Indonesia, menggeser dominasi Samsung di Kuartal III 2019.',\n",
       "  'url': 'https://www.cnbcindonesia.com/tech/20191117103024-37-115808/kesalahan-samsung-strategi-oppo-yang-kuasai-pasar-ponsel-ri',\n",
       "  'urlToImage': 'https://awsimages.detik.net.id/visual/2019/11/11/8741f3e6-cf48-4145-ac78-ae14c8de9b07_169.jpeg?w=650',\n",
       "  'publishedAt': '2019-11-17T03:50:08Z',\n",
       "  'content': 'Jakarta, CNBC Indonesia - Oppo berhasil menguasai pasar gawai di Indonesia, menggeser dominasi Samsung di Kuartal III 2019. Hal ini tak terlepas dari strategi pemasaran mereka.\\r\\nMereka mencermatinya dengan memperhatikan pendapatan pembeli. Analis Pasar Intern… [+2248 chars]'},\n",
       " {'source': {'id': None, 'name': 'Kontan.co.id'},\n",
       "  'author': 'Akhmad Suryahadi',\n",
       "  'title': 'Efek neraca dagang surplus, IHSG diprediksi menguat Senin (18/11) - Investasi Kontan',\n",
       "  'description': 'IHSG diprediksi menguat pada Senin (18/11), ditopang data neraca perdagangan Indonesia yang surplus.',\n",
       "  'url': 'https://investasi.kontan.co.id/news/efek-neraca-dagang-surplus-ihsg-diprediksi-menguat-senin-1811',\n",
       "  'urlToImage': 'https://photo.kontan.co.id/photo/2019/11/01/723692263p.jpg',\n",
       "  'publishedAt': '2019-11-17T03:40:49Z',\n",
       "  'content': 'KONTAN.CO.ID - JAKARTA. Indeks Harga Saham Gabungan (IHSG) ditutup menguat 0,48% ke level 6.128,34 pada perdagangan Jumat (15/11). Investor asing kembali memborong saham hingga mencatatkan net buy sebesar Rp 64,74 miliar. Meski demikian, selama sepekan IHSG t… [+936 chars]'}]"
      ]
     },
     "execution_count": 113,
     "metadata": {},
     "output_type": "execute_result"
    }
   ],
   "source": [
    "temp"
   ]
  },
  {
   "cell_type": "code",
   "execution_count": 114,
   "metadata": {
    "scrolled": true
   },
   "outputs": [
    {
     "name": "stdout",
     "output_type": "stream",
     "text": [
      "Motorola Yakin Smartphone Razr Terbaru Tak Bermasalah Seperti Galaxy Fold - Liputan6.com\n",
      "https://www.liputan6.com/tekno/read/4112318/motorola-yakin-smartphone-razr-terbaru-tak-bermasalah-seperti-galaxy-fold\n",
      "=========================\n",
      "\n",
      "['tekno']\n",
      "=========================\n",
      "\n",
      "4 Pemain Dicoret dari Timnas U-23, Salah Satunya Beto - detikSport\n",
      "https://sport.detik.com/sepakbola/liga-indonesia/d-4787957/4-pemain-dicoret-dari-timnas-u-23-salah-satunya-beto\n",
      "=========================\n",
      "\n",
      "['sports']\n",
      "=========================\n",
      "\n",
      "Dewi Tanjung Resmi Dipolisikan soal Laporan Palsu Rekayasa Kasus Novel - kumparan.com - kumparan.com\n",
      "https://kumparan.com/kumparannews/dewi-tanjung-resmi-dipolisikan-soal-laporan-palsu-rekayasa-kasus-novel-1sGpwAFZ5zq\n",
      "=========================\n",
      "\n",
      "['news']\n",
      "=========================\n",
      "\n",
      "Hong Kong Open 2019, Ahsan/Hendra Hanya Jadi Runner Up - KOMPAS.com\n",
      "https://bola.kompas.com/read/2019/11/17/15262178/hong-kong-open-2019-ahsan-hendra-hanya-jadi-runner-up?page=all\n",
      "=========================\n",
      "\n",
      "['sports']\n",
      "=========================\n",
      "\n",
      "MotoGP Valencia 2019: Bantah Gabung Ducati, Johann Zarco Berambisi ke Repsol Honda - Tribunnews\n",
      "https://www.tribunnews.com/sport/2019/11/17/motogp-valencia-2019-bantah-gabung-ducati-johann-zarco-berambisi-ke-repsol-honda\n",
      "=========================\n",
      "\n",
      "['otomotif']\n",
      "=========================\n",
      "\n",
      "Gunung Merapi Meletus, Warga Diimbau Jauhi Radius 3 KM - CNN Indonesia\n",
      "https://www.cnnindonesia.com/nasional/20191117145430-20-449084/gunung-merapi-meletus-warga-diimbau-jauhi-radius-3-km\n",
      "=========================\n",
      "\n",
      "['tekno']\n",
      "=========================\n",
      "\n",
      "Anggun nan Elegan, Selvi Ananda Tampil Paripurna dalam Balutan Gaun Ungu Saat Maternity Shoot Jelang Kelah... - Grid.ID\n",
      "https://www.grid.id/read/041922490/anggun-nan-elegan-selvi-ananda-tampil-paripurnadalam-balutan-gaun-ungu-saat-maternity-shoot-jelang-kelahiran-la-lembah-manah\n",
      "=========================\n",
      "\n",
      "['entertainment']\n",
      "=========================\n",
      "\n",
      "Sebentar Lagi Trio iPhone 11 Akan Hadir di Indonesia - Selular.ID\n",
      "https://selular.id/2019/11/sebentar-lagi-trio-iphone-11-akan-hadir-di-indonesia/\n",
      "=========================\n",
      "\n",
      "['tekno']\n",
      "=========================\n",
      "\n",
      "Harga Mobil Sedan Bisa Lebih Murah 2 Tahun Lagi? - Detikcom\n",
      "https://oto.detik.com/mobil/d-4787856/harga-mobil-sedan-bisa-lebih-murah-2-tahun-lagi\n",
      "=========================\n",
      "\n",
      "['tekno']\n",
      "=========================\n",
      "\n",
      "Polisi Buru Pelaku Pelempar Sperma ke Perempuan di Tasikmalaya Halaman all - KOMPAS.com\n",
      "https://regional.kompas.com/read/2019/11/17/13322761/polisi-buru-pelaku-pelempar-sperma-ke-perempuan-di-tasikmalaya?page=all\n",
      "=========================\n",
      "\n",
      "['health']\n",
      "=========================\n",
      "\n",
      "PBB Khawatir Krisis Venezuela Lepas Kendali - SINDOnews.com\n",
      "https://international.sindonews.com/read/1459598/41/pbb-khawatir-krisis-venezuela-lepas-kendali-1573961773\n",
      "=========================\n",
      "\n",
      "['news']\n",
      "=========================\n",
      "\n",
      "Peserta P1/TL 2018 Dapat Keistimewaan di CPNS 2019? - KOMPAS.com\n",
      "https://www.kompas.com/tren/read/2019/11/17/123300965/peserta-p1-tl-2018-dapat-keistimewaan-di-cpns-2019-\n",
      "=========================\n",
      "\n",
      "['tekno']\n",
      "=========================\n",
      "\n",
      "Begini Cara Deteksi Kerusakan Power Steering Elektrik - KOMPAS.com\n",
      "https://otomotif.kompas.com/read/2019/11/17/123100215/begini-cara-deteksi-kerusakan-power-steering-elektrik\n",
      "=========================\n",
      "\n",
      "['otomotif']\n",
      "=========================\n",
      "\n",
      "Sukmawati Cerita Alm Suami Habaib Sayid, Teman Diskusi soal Nabi-Bung Karno - Detiknews\n",
      "https://news.detik.com/berita/d-4787772/sukmawati-cerita-alm-suami-habaib-sayid-teman-diskusi-soal-nabi-bung-karno\n",
      "=========================\n",
      "\n",
      "['entertainment']\n",
      "=========================\n",
      "\n",
      "Pabrik Tahu Gunakan Plastik sebagai Bahan Bakar, Ini Kata Walhi - KOMPAS.com\n",
      "https://www.kompas.com/tren/read/2019/11/17/122553165/pabrik-tahu-gunakan-plastik-sebagai-bahan-bakar-ini-kata-walhi?page=all\n",
      "=========================\n",
      "\n",
      "['otomotif']\n",
      "=========================\n",
      "\n",
      "Kebiasaan Ini Bikin Power Steering Hidrolik Mobil Cepat Lemah - KOMPAS.com\n",
      "https://otomotif.kompas.com/read/2019/11/17/120100415/kebiasaan-ini-bikin-power-steering-hidrolik-mobil-cepat-lemah\n",
      "=========================\n",
      "\n",
      "['otomotif']\n",
      "=========================\n",
      "\n",
      "Cara Atasi Ponsel yang 'Lemot' - CNN Indonesia\n",
      "https://www.cnnindonesia.com/teknologi/20191115190702-185-448803/cara-atasi-ponsel-yang-lemot\n",
      "=========================\n",
      "\n",
      "['tekno']\n",
      "=========================\n",
      "\n",
      "Kronologi Eza Gionino Laporkan Penjual Ikan Arwana ke Polisi, Awalnya Anak dan Istri Diancam Dibunuh - Tribun Jogja\n",
      "https://jogja.tribunnews.com/2019/11/17/kronologi-eza-gionino-laporkan-penjual-ikan-arwana-ke-polisi-awalnya-anak-dan-istri-diancam-dibunuh\n",
      "=========================\n",
      "\n",
      "['entertainment']\n",
      "=========================\n",
      "\n",
      "Kesalahan Samsung & Strategi Oppo yang Kuasai Pasar Ponsel RI - CNBC Indonesia\n",
      "https://www.cnbcindonesia.com/tech/20191117103024-37-115808/kesalahan-samsung-strategi-oppo-yang-kuasai-pasar-ponsel-ri\n",
      "=========================\n",
      "\n",
      "['tekno']\n",
      "=========================\n",
      "\n",
      "Efek neraca dagang surplus, IHSG diprediksi menguat Senin (18/11) - Investasi Kontan\n",
      "https://investasi.kontan.co.id/news/efek-neraca-dagang-surplus-ihsg-diprediksi-menguat-senin-1811\n",
      "=========================\n",
      "\n",
      "['bisnis']\n",
      "=========================\n",
      "\n"
     ]
    }
   ],
   "source": [
    "for t in temp:\n",
    "    print(t['title'])\n",
    "    print(t['url'])\n",
    "    print('=========================\\n')\n",
    "    print(get_categoryMNB(t['title']))\n",
    "    print('=========================\\n')"
   ]
  },
  {
   "cell_type": "code",
   "execution_count": null,
   "metadata": {},
   "outputs": [],
   "source": []
  },
  {
   "cell_type": "markdown",
   "metadata": {},
   "source": [
    "## Testing"
   ]
  },
  {
   "cell_type": "code",
   "execution_count": 80,
   "metadata": {},
   "outputs": [],
   "source": [
    "client = pymongo.MongoClient(\"mongodb://localhost:27017\")\n",
    "database = myClient.iStorage\n",
    "collection = myDatabase.iBefore"
   ]
  },
  {
   "cell_type": "code",
   "execution_count": 81,
   "metadata": {},
   "outputs": [],
   "source": [
    "iQuery = collection.find({})"
   ]
  },
  {
   "cell_type": "code",
   "execution_count": 82,
   "metadata": {},
   "outputs": [],
   "source": [
    "data = []\n",
    "for q in iQuery: data.append(q)"
   ]
  },
  {
   "cell_type": "code",
   "execution_count": 87,
   "metadata": {
    "scrolled": true
   },
   "outputs": [
    {
     "name": "stdout",
     "output_type": "stream",
     "text": [
      "Bank Mandiri Catat Laba Rp 20,3 T, Tumbuh 11,9 Persen\n",
      "https://bisnis.tempo.co/read/1265518/bank-mandiri-catat-laba-rp-203-t-tumbuh-119-persen\n",
      "=========================\n",
      "\n",
      "['bisnis']\n",
      "=========================\n",
      "\n",
      "Senja di Kaimana, Masih Seelok Dahulu\n",
      "https://travel.tempo.co/read/1265515/senja-di-kaimana-masih-seelok-dahulu\n",
      "=========================\n",
      "\n",
      "['entertainment']\n",
      "=========================\n",
      "\n",
      "Uni Eropa Setuju Penundaan Brexit, Apa Syaratnya?\n",
      "https://dunia.tempo.co/read/1265473/uni-eropa-setuju-penundaan-brexit-apa-syaratnya\n",
      "=========================\n",
      "\n",
      "['bisnis']\n",
      "=========================\n",
      "\n",
      "Menpan RB Tjahjo Kumolo: Pendaftaran CPNS 2019 Dibuka 11 November\n",
      "https://bisnis.tempo.co/read/1265493/menpan-rb-tjahjo-kumolo-pendaftaran-cpns-2019-dibuka-11-november\n",
      "=========================\n",
      "\n",
      "['bisnis']\n",
      "=========================\n",
      "\n",
      "Waspadalah, Stroke Kini Sudah Menyerang Orang Usia 30-an\n",
      "https://gaya.tempo.co/read/1265506/waspadalah-stroke-kini-sudah-menyerang-orang-usia-30-an\n",
      "=========================\n",
      "\n",
      "['health']\n",
      "=========================\n",
      "\n",
      "Bali Macet, Jerinx SID Salahkan Pemerintah\n",
      "https://seleb.tempo.co/read/1265507/bali-macet-jerinx-sid-salahkan-pemerintah\n",
      "=========================\n",
      "\n",
      "['entertainment']\n",
      "=========================\n",
      "\n"
     ]
    }
   ],
   "source": [
    "for d in data:\n",
    "    print(d['title'])\n",
    "    print(d['url'])\n",
    "    print('=========================\\n')\n",
    "    print(get_categoryMNB(d['title']))\n",
    "    print('=========================\\n')"
   ]
  },
  {
   "cell_type": "code",
   "execution_count": null,
   "metadata": {},
   "outputs": [],
   "source": []
  }
 ],
 "metadata": {
  "kernelspec": {
   "display_name": "Python 3",
   "language": "python",
   "name": "python3"
  },
  "language_info": {
   "codemirror_mode": {
    "name": "ipython",
    "version": 3
   },
   "file_extension": ".py",
   "mimetype": "text/x-python",
   "name": "python",
   "nbconvert_exporter": "python",
   "pygments_lexer": "ipython3",
   "version": "3.6.6+"
  }
 },
 "nbformat": 4,
 "nbformat_minor": 2
}
