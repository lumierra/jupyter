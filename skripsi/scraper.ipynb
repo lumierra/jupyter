{
 "cells": [
  {
   "cell_type": "markdown",
   "metadata": {},
   "source": [
    "## Import Library"
   ]
  },
  {
   "cell_type": "code",
   "execution_count": 2,
   "metadata": {},
   "outputs": [],
   "source": [
    "import requests\n",
    "import datetime\n",
    "from bs4 import BeautifulSoup\n",
    "from tqdm import tqdm\n",
    "from textacy import preprocess_text"
   ]
  },
  {
   "cell_type": "code",
   "execution_count": null,
   "metadata": {},
   "outputs": [],
   "source": []
  },
  {
   "cell_type": "markdown",
   "metadata": {},
   "source": [
    "## Get Request From Source"
   ]
  },
  {
   "cell_type": "code",
   "execution_count": 10,
   "metadata": {},
   "outputs": [],
   "source": [
    "url = '''https://indeks.kompas.com/?site=all&date=2019-11-03'''"
   ]
  },
  {
   "cell_type": "code",
   "execution_count": 11,
   "metadata": {},
   "outputs": [],
   "source": [
    "response = requests.get(url).text"
   ]
  },
  {
   "cell_type": "code",
   "execution_count": 12,
   "metadata": {},
   "outputs": [],
   "source": [
    "soup = BeautifulSoup(response, \"html5lib\")"
   ]
  },
  {
   "cell_type": "code",
   "execution_count": null,
   "metadata": {},
   "outputs": [],
   "source": []
  },
  {
   "cell_type": "markdown",
   "metadata": {},
   "source": [
    "## Count Page of Source"
   ]
  },
  {
   "cell_type": "code",
   "execution_count": 13,
   "metadata": {},
   "outputs": [],
   "source": [
    "countPage = soup.select('.paging__wrap.clearfix > .paging__item')"
   ]
  },
  {
   "cell_type": "code",
   "execution_count": 14,
   "metadata": {},
   "outputs": [],
   "source": [
    "total_page = int(countPage[len(countPage) - 1].select('.paging__link')[0]['data-ci-pagination-page'])"
   ]
  },
  {
   "cell_type": "code",
   "execution_count": 15,
   "metadata": {},
   "outputs": [
    {
     "data": {
      "text/plain": [
       "[<div class=\"paging__item\"><a class=\"paging__link paging__link--active\" href=\"javascript:void(0)\">1</a></div>,\n",
       " <div class=\"paging__item\"><a class=\"paging__link\" data-ci-pagination-page=\"2\" href=\"https://indeks.kompas.com/?site=all&amp;date=2019-11-03&amp;page=2\">2</a></div>,\n",
       " <div class=\"paging__item\"><a class=\"paging__link\" data-ci-pagination-page=\"3\" href=\"https://indeks.kompas.com/?site=all&amp;date=2019-11-03&amp;page=3\">3</a></div>,\n",
       " <div class=\"paging__item\"><a class=\"paging__link paging__link--next\" data-ci-pagination-page=\"2\" href=\"https://indeks.kompas.com/?site=all&amp;date=2019-11-03&amp;page=2\" rel=\"next\">Next</a></div>,\n",
       " <div class=\"paging__item\"><a class=\"paging__link paging__link--prev\" data-ci-pagination-page=\"6\" href=\"https://indeks.kompas.com/?site=all&amp;date=2019-11-03&amp;page=6\">Last ›</a></div>]"
      ]
     },
     "execution_count": 15,
     "metadata": {},
     "output_type": "execute_result"
    }
   ],
   "source": [
    "countPage"
   ]
  },
  {
   "cell_type": "code",
   "execution_count": 16,
   "metadata": {},
   "outputs": [
    {
     "data": {
      "text/plain": [
       "6"
      ]
     },
     "execution_count": 16,
     "metadata": {},
     "output_type": "execute_result"
    }
   ],
   "source": [
    "total_page"
   ]
  },
  {
   "cell_type": "markdown",
   "metadata": {},
   "source": [
    "## Get Content From Source"
   ]
  },
  {
   "cell_type": "code",
   "execution_count": 17,
   "metadata": {},
   "outputs": [],
   "source": [
    "contents = soup.select('.article__list.clearfix')"
   ]
  },
  {
   "cell_type": "code",
   "execution_count": 19,
   "metadata": {},
   "outputs": [],
   "source": [
    "iData = []"
   ]
  },
  {
   "cell_type": "code",
   "execution_count": 20,
   "metadata": {},
   "outputs": [],
   "source": [
    "for content in contents:\n",
    "    iCategory = content.select_one('.article__subtitle').text.strip()\n",
    "    realUrl = content.select_one('.article__link')['href']\n",
    "    iTitle = content.select_one('.article__link').text.strip()\n",
    "    iDate = content.select_one('.article__date').text.replace(',', '').split()[0]\n",
    "    iDate = datetime.datetime.strptime(iDate, \"%d/%m/%Y\").strftime(\"%d-%m-%Y\")\n",
    "    \n",
    "    iJson = {\n",
    "        \"category\": '',\n",
    "        \"title\": iTitle,\n",
    "        \"description\": '',\n",
    "        \"url\": realUrl,\n",
    "        \"content\": '',\n",
    "        \"contentHTML\": '',\n",
    "        \"img\": '',\n",
    "        \"subCategory\": iCategory,\n",
    "        \"publishedAt\": iDate,\n",
    "        \"source\": 'kompas.com',\n",
    "        \"cleanContent\": '',\n",
    "        \"nerContent\": '',\n",
    "        'countNer': {\n",
    "            'person': 0,\n",
    "            'org': 0,\n",
    "            'gpe': 0,\n",
    "            'event': 0,\n",
    "            'merk': 0,\n",
    "            'product': 0\n",
    "        }\n",
    "    }\n",
    "\n",
    "    iData.append(iJson)"
   ]
  },
  {
   "cell_type": "code",
   "execution_count": 23,
   "metadata": {},
   "outputs": [],
   "source": [
    "iData2 = []"
   ]
  },
  {
   "cell_type": "code",
   "execution_count": 27,
   "metadata": {},
   "outputs": [
    {
     "name": "stdout",
     "output_type": "stream",
     "text": [
      "https://indeks.kompas.com/?site=all&date=2019-11-03\n",
      "https://indeks.kompas.com/?site=all&date=2019-11-03\n",
      "https://indeks.kompas.com/?site=all&date=2019-11-03\n",
      "https://indeks.kompas.com/?site=all&date=2019-11-03\n",
      "https://indeks.kompas.com/?site=all&date=2019-11-03\n",
      "https://indeks.kompas.com/?site=all&date=2019-11-03\n"
     ]
    }
   ],
   "source": [
    "# totalPage = int(countPage[len(countPage) - 1].select('.paging__link')[0]['data-ci-pagination-page'])\n",
    "for y in range(total_page):\n",
    "    try:\n",
    "        url = '''https://indeks.kompas.com/?site=all&date=2019-11-03'''\n",
    "        iResponse = requests.get(url).text\n",
    "        iSoup = BeautifulSoup(iResponse, \"html5lib\")\n",
    "        contents = iSoup.select('.article__list.clearfix')\n",
    "        print(url)\n",
    "\n",
    "        for content in contents:\n",
    "            try:\n",
    "                iCategory = content.select_one('.article__subtitle').text.strip()\n",
    "                realUrl = content.select_one('.article__link')['href']\n",
    "                iTitle = content.select_one('.article__link').text.strip()\n",
    "                iDate = content.select_one('.article__date').text.replace(',', '').split()[0]\n",
    "                iDate = datetime.datetime.strptime(iDate, \"%d/%m/%Y\").strftime(\"%d-%m-%Y\")\n",
    "\n",
    "                iJson = {\n",
    "                    \"category\": '',\n",
    "                    \"title\": iTitle,\n",
    "                    \"description\": '',\n",
    "                    \"url\": realUrl,\n",
    "                    \"content\": '',\n",
    "                    \"contentHTML\": '',\n",
    "                    \"img\": '',\n",
    "                    \"subCategory\": iCategory,\n",
    "                    \"publishedAt\": iDate,\n",
    "                    \"source\": 'kompas.com',\n",
    "                    \"cleanContent\": '',\n",
    "                    \"nerContent\": '',\n",
    "                    'countNer': {\n",
    "                        'person': 0,\n",
    "                        'org': 0,\n",
    "                        'gpe': 0,\n",
    "                        'event': 0,\n",
    "                        'merk': 0,\n",
    "                        'product': 0\n",
    "                    }\n",
    "                }\n",
    "\n",
    "\n",
    "                iData2.append(iJson)\n",
    "\n",
    "            except:\n",
    "                pass\n",
    "    except:\n",
    "        pass"
   ]
  },
  {
   "cell_type": "code",
   "execution_count": 28,
   "metadata": {},
   "outputs": [
    {
     "data": {
      "text/plain": [
       "240"
      ]
     },
     "execution_count": 28,
     "metadata": {},
     "output_type": "execute_result"
    }
   ],
   "source": [
    "len(iData2)"
   ]
  },
  {
   "cell_type": "code",
   "execution_count": null,
   "metadata": {},
   "outputs": [],
   "source": []
  },
  {
   "cell_type": "code",
   "execution_count": null,
   "metadata": {},
   "outputs": [],
   "source": []
  },
  {
   "cell_type": "code",
   "execution_count": null,
   "metadata": {},
   "outputs": [],
   "source": []
  },
  {
   "cell_type": "code",
   "execution_count": null,
   "metadata": {},
   "outputs": [],
   "source": []
  },
  {
   "cell_type": "code",
   "execution_count": 95,
   "metadata": {},
   "outputs": [
    {
     "name": "stdout",
     "output_type": "stream",
     "text": [
      "WHATS NEW\n",
      "https://money.kompas.com/read/2019/10/02/214243226/cadangan-nikel-indonesia-berpotensi-habis-10-tahun-lagi\n",
      "Cadangan Nikel Indonesia Berpotensi Habis 10 Tahun Lagi\n",
      "02-10-2019\n",
      "=====================================\n",
      "\n",
      "WORK SMART\n",
      "https://money.kompas.com/read/2019/10/02/211100726/saat-usaha-terkena-masalah-keuangan-mending-jual-aset-atau-pinjam-dana-\n",
      "Saat Usaha Terkena Masalah Keuangan, Mending Jual Aset atau Pinjam Dana?\n",
      "02-10-2019\n",
      "=====================================\n",
      "\n",
      "WHATS NEW\n",
      "https://money.kompas.com/read/2019/10/02/203900226/penerbangan-komersial-bandara-halim-perdanakusuma-dialihkan-hingga-5-oktober\n",
      "Penerbangan Komersial Bandara Halim Perdanakusuma Dialihkan hingga 5 Oktober, Apa Sebabnya?\n",
      "02-10-2019\n",
      "=====================================\n",
      "\n",
      "SPEND SMART\n",
      "https://money.kompas.com/read/2019/10/02/201049126/hari-batik-nasional-ada-diskon-hingga-50-persen-di-marketplace-ini\n",
      "Hari Batik Nasional, Ada Diskon hingga 50 Persen di Marketplace Ini\n",
      "02-10-2019\n",
      "=====================================\n",
      "\n",
      "WHATS NEW\n",
      "https://money.kompas.com/read/2019/10/02/193900826/masalah-di-penerbangan-ganggu-ekspansi-jasa-pengiriman\n",
      "Masalah di Penerbangan Ganggu Ekspansi Jasa Pengiriman\n",
      "02-10-2019\n",
      "=====================================\n",
      "\n",
      "WHATS NEW\n",
      "https://money.kompas.com/read/2019/10/02/190615526/perkuat-infrastruktur-pasar-keuangan-bi-bentuk-lembaga-central-counterparty\n",
      "Perkuat Infrastruktur Pasar Keuangan, BI Bentuk Lembaga Central Counterparty\n",
      "02-10-2019\n",
      "=====================================\n",
      "\n",
      "EARN SMART\n",
      "https://money.kompas.com/read/2019/10/02/183300126/survei--milenial-yakin-bakal-kaya-tetapi-\n",
      "Survei: Milenial Yakin Bakal Kaya, tetapi....\n",
      "02-10-2019\n",
      "=====================================\n",
      "\n",
      "WHATS NEW\n",
      "https://money.kompas.com/read/2019/10/02/182056526/kinerja-manufaktur-merosot-apa-dampaknya-ke-pertumbuhan-ekonomi\n",
      "Kinerja Manufaktur Merosot, Apa Dampaknya ke Pertumbuhan Ekonomi?\n",
      "02-10-2019\n",
      "=====================================\n",
      "\n",
      "WHATS NEW\n",
      "https://money.kompas.com/read/2019/10/02/175236926/rupiah-menguat-ditopang-pelemahan-dollar-as\n",
      "Rupiah Menguat, Ditopang Pelemahan Dollar AS\n",
      "02-10-2019\n",
      "=====================================\n",
      "\n",
      "WHATS NEW\n",
      "https://money.kompas.com/read/2019/10/02/162848926/bri-bakal-terbitkan-obligasi-rp-5-triliun-buat-apa\n",
      "BRI Bakal Terbitkan Obligasi Rp 5 Triliun, Buat Apa?\n",
      "02-10-2019\n",
      "=====================================\n",
      "\n",
      "WHATS NEW\n",
      "https://money.kompas.com/read/2019/10/02/153800826/siasati-musim-demo-ini-yang-dilakukan-startup-pengiriman-barang\n",
      "Siasati Musim Demo, Ini yang Dilakukan Startup Pengiriman Barang\n",
      "02-10-2019\n",
      "=====================================\n",
      "\n",
      "WHATS NEW\n",
      "https://money.kompas.com/read/2019/10/02/153221126/kominfo-kirim-tim-ke-malaysia-telusuri-kebocoran-data-penumpang-malindo-air\n",
      "Kominfo Kirim Tim ke Malaysia Telusuri Kebocoran Data Penumpang Malindo Air\n",
      "02-10-2019\n",
      "=====================================\n",
      "\n",
      "WHATS NEW\n",
      "https://money.kompas.com/read/2019/10/02/150800426/ingin-investasi-surat-utang-pemerintah-ori016-bisa-dibeli-hari-ini\n",
      "Ingin Investasi Surat Utang Pemerintah? ORI016 Bisa Dibeli Hari Ini\n",
      "02-10-2019\n",
      "=====================================\n",
      "\n",
      "WHATS NEW\n",
      "https://money.kompas.com/read/2019/10/02/145822626/malaysia-bakal-perketat-penjualan-dan-penggunaan-rokok-elektrik\n",
      "Malaysia Bakal Perketat Penjualan dan Penggunaan Rokok Elektrik\n",
      "02-10-2019\n",
      "=====================================\n",
      "\n",
      "WHATS NEW\n",
      "https://money.kompas.com/read/2019/10/02/143730026/menko-darmin-cerita-sulitnya-bangun-infrastruktur-pasca-krisis-1998\n",
      "Menko Darmin Cerita Sulitnya Bangun Infrastruktur Pasca Krisis 1998\n",
      "02-10-2019\n",
      "=====================================\n",
      "\n",
      "WORK SMART\n",
      "https://money.kompas.com/read/2019/10/02/142126926/transformasi-digital-bukanlah-tentang-teknologi\n",
      "Transformasi Digital Bukanlah tentang Teknologi\n",
      "02-10-2019\n",
      "=====================================\n",
      "\n",
      "WHATS NEW\n",
      "https://money.kompas.com/read/2019/10/02/141800826/pentingnya-logistik-pada-bisnis-kuliner\n",
      "Pentingnya Logistik pada Bisnis Kuliner\n",
      "02-10-2019\n",
      "=====================================\n",
      "\n",
      "WHATS NEW\n",
      "https://money.kompas.com/read/2019/10/02/141135126/jokowi-segera-teken-perpres-skema-pengelolaan-aset-terbatas\n",
      "Jokowi Segera Teken Perpres Skema Pengelolaan Aset Terbatas\n",
      "02-10-2019\n",
      "=====================================\n",
      "\n",
      "RILIS\n",
      "https://money.kompas.com/read/2019/10/02/135000026/di-ajang-golden-world-award-ipra-2019-telkom-gondol-2-penghargaan\n",
      "Di Ajang Golden World Award IPRA 2019, Telkom Gondol 2 Penghargaan\n",
      "02-10-2019\n",
      "=====================================\n",
      "\n",
      "WHATS NEW\n",
      "https://money.kompas.com/read/2019/10/02/133900726/era-digital-ukm-punya-toko-fisik-tidak-lagi-relevan\n",
      "Era Digital, UKM Punya Toko Fisik Tidak Lagi Relevan?\n",
      "02-10-2019\n",
      "=====================================\n",
      "\n"
     ]
    }
   ],
   "source": [
    "for content in contents:\n",
    "    iCategory = content.select_one('.terkini__subtitle').text.strip()\n",
    "    realUrl = content.select_one('.terkini__img > a')['href']\n",
    "    iTitle = content.select_one('.terkini__title').text.strip()\n",
    "    iDate = realUrl.split('/')[6] + '-' + realUrl.split('/')[5] + '-' + realUrl.split('/')[4]\n",
    "    \n",
    "    print(iCategory)\n",
    "    print(realUrl)\n",
    "    print(iTitle)\n",
    "    print(iDate)\n",
    "    print('=====================================\\n')"
   ]
  },
  {
   "cell_type": "code",
   "execution_count": null,
   "metadata": {},
   "outputs": [],
   "source": []
  },
  {
   "cell_type": "code",
   "execution_count": 44,
   "metadata": {},
   "outputs": [],
   "source": [
    "iResponse = requests.get(realUrl).text"
   ]
  },
  {
   "cell_type": "code",
   "execution_count": 45,
   "metadata": {},
   "outputs": [],
   "source": [
    "iSoup = BeautifulSoup(iResponse, \"html5lib\")"
   ]
  },
  {
   "cell_type": "code",
   "execution_count": 51,
   "metadata": {},
   "outputs": [],
   "source": [
    "ct = iSoup.select_one('.photo > img')['data-src']"
   ]
  },
  {
   "cell_type": "code",
   "execution_count": 52,
   "metadata": {},
   "outputs": [
    {
     "data": {
      "text/plain": [
       "'https://asset.kompas.com/crops/VSEamNeO0yV4Z3TcWn9TzIZporM=/93x196:1149x900/750x500/data/photo/2019/10/02/5d94b22d8801f.jpg'"
      ]
     },
     "execution_count": 52,
     "metadata": {},
     "output_type": "execute_result"
    }
   ],
   "source": [
    "ct"
   ]
  },
  {
   "cell_type": "code",
   "execution_count": 57,
   "metadata": {},
   "outputs": [],
   "source": [
    "contents2 = iSoup.select('.read__content > p')"
   ]
  },
  {
   "cell_type": "code",
   "execution_count": 55,
   "metadata": {},
   "outputs": [],
   "source": [
    "iData = []"
   ]
  },
  {
   "cell_type": "code",
   "execution_count": null,
   "metadata": {},
   "outputs": [],
   "source": []
  },
  {
   "cell_type": "code",
   "execution_count": null,
   "metadata": {},
   "outputs": [],
   "source": []
  },
  {
   "cell_type": "code",
   "execution_count": null,
   "metadata": {},
   "outputs": [],
   "source": []
  },
  {
   "cell_type": "code",
   "execution_count": null,
   "metadata": {},
   "outputs": [],
   "source": []
  },
  {
   "cell_type": "code",
   "execution_count": 98,
   "metadata": {},
   "outputs": [
    {
     "name": "stdout",
     "output_type": "stream",
     "text": [
      "https://money.kompas.com/search/2019-10-2/1\n",
      "https://money.kompas.com/search/2019-10-2/2\n"
     ]
    }
   ],
   "source": [
    "temp = getMoney('money', 'bisnis', 2019, 10, 2)"
   ]
  },
  {
   "cell_type": "code",
   "execution_count": 97,
   "metadata": {},
   "outputs": [],
   "source": [
    "def getMoney(category=None, nameCategory=None, year=None, month=None, day=None):\n",
    "    iData = []\n",
    "    iUrl = '''https://{}.kompas.com/search/{}-{}-{}'''.format(category, year, month, day)\n",
    "    iResponse = requests.get(iUrl).text\n",
    "    iSoup = BeautifulSoup(iResponse, \"html5lib\")\n",
    "    countPage = iSoup.select('.paging__wrap.clearfix > .paging__item')\n",
    "\n",
    "    if countPage == []:\n",
    "        url = '''https://{}.kompas.com/search/{}-{}-{}'''.format(category, year, month, day)\n",
    "        iResponse = requests.get(url).text\n",
    "        iSoup = BeautifulSoup(iResponse, \"html5lib\")\n",
    "        contents = iSoup.select('.terkini__post')\n",
    "        print(url)\n",
    "\n",
    "        for content in contents:\n",
    "            try:\n",
    "                iCategory = content.select_one('.terkini__subtitle').text.strip()\n",
    "                realUrl = content.select_one('.terkini__img > a')['href']\n",
    "                iTitle = content.select_one('.terkini__title').text.strip()\n",
    "                iDate = realUrl.split('/')[6] + '-' + realUrl.split('/')[5] + '-' + realUrl.split('/')[4]\n",
    "\n",
    "                iJson = {\n",
    "                    \"category\": nameCategory,\n",
    "                    \"title\": iTitle,\n",
    "                    \"description\": '',\n",
    "                    \"url\": realUrl,\n",
    "                    \"content\": '',\n",
    "                    \"contentHTML\": '',\n",
    "                    \"img\": '',\n",
    "                    \"subCategory\": iCategory,\n",
    "                    \"publishedAt\": iDate,\n",
    "                    \"source\": 'kompas.com',\n",
    "                    \"cleanContent\": '',\n",
    "                    \"nerContent\": '',\n",
    "                    'countNer': {\n",
    "                        'person': 0,\n",
    "                        'org': 0,\n",
    "                        'gpe': 0,\n",
    "                        'event': 0,\n",
    "                        'merk': 0,\n",
    "                        'product': 0\n",
    "                    }\n",
    "                }\n",
    "\n",
    "                iData.append(iJson)\n",
    "\n",
    "            except:\n",
    "                pass\n",
    "    else:\n",
    "\n",
    "        if category == 'news': totalPage = 3\n",
    "        else: totalPage = int(countPage[len(countPage) - 1].select('.paging__link')[0]['data-ci-pagination-page'])\n",
    "        for y in range(totalPage):\n",
    "            try:\n",
    "                url = '''https://{}.kompas.com/search/{}-{}-{}/{}'''.format(category, year, month, day, y + 1)\n",
    "                iResponse = requests.get(url).text\n",
    "                iSoup = BeautifulSoup(iResponse, \"html5lib\")\n",
    "                contents = iSoup.select('.terkini__post')\n",
    "                print(url)\n",
    "\n",
    "                for content in contents:\n",
    "                    try:\n",
    "                        iCategory = content.select_one('.terkini__subtitle').text.strip()\n",
    "                        realUrl = content.select_one('.terkini__img > a')['href']\n",
    "                        iTitle = content.select_one('.terkini__title').text.strip()\n",
    "                        iDate = realUrl.split('/')[6] + '-' + realUrl.split('/')[5] + '-' + realUrl.split('/')[4]\n",
    "\n",
    "                        iJson = {\n",
    "                            \"category\": nameCategory,\n",
    "                            \"title\": iTitle,\n",
    "                            \"description\": '',\n",
    "                            \"url\": realUrl,\n",
    "                            \"content\": '',\n",
    "                            \"contentHTML\": '',\n",
    "                            \"img\": '',\n",
    "                            \"subCategory\": iCategory,\n",
    "                            \"publishedAt\": iDate,\n",
    "                            \"source\": 'kompas.com',\n",
    "                            \"cleanContent\": '',\n",
    "                            \"nerContent\": '',\n",
    "                            'countNer': {\n",
    "                                'person': 0,\n",
    "                                'org': 0,\n",
    "                                'gpe': 0,\n",
    "                                'event': 0,\n",
    "                                'merk': 0,\n",
    "                                'product': 0\n",
    "                            }\n",
    "                        }\n",
    "\n",
    "\n",
    "                        iData.append(iJson)\n",
    "\n",
    "                    except:\n",
    "                        pass\n",
    "            except:\n",
    "                pass\n",
    "\n",
    "    return iData"
   ]
  },
  {
   "cell_type": "code",
   "execution_count": null,
   "metadata": {},
   "outputs": [],
   "source": []
  },
  {
   "cell_type": "code",
   "execution_count": null,
   "metadata": {},
   "outputs": [],
   "source": []
  },
  {
   "cell_type": "code",
   "execution_count": null,
   "metadata": {},
   "outputs": [],
   "source": []
  },
  {
   "cell_type": "code",
   "execution_count": null,
   "metadata": {},
   "outputs": [],
   "source": []
  },
  {
   "cell_type": "code",
   "execution_count": null,
   "metadata": {},
   "outputs": [],
   "source": []
  }
 ],
 "metadata": {
  "kernelspec": {
   "display_name": "Python 3",
   "language": "python",
   "name": "python3"
  },
  "language_info": {
   "codemirror_mode": {
    "name": "ipython",
    "version": 3
   },
   "file_extension": ".py",
   "mimetype": "text/x-python",
   "name": "python",
   "nbconvert_exporter": "python",
   "pygments_lexer": "ipython3",
   "version": "3.6.6+"
  }
 },
 "nbformat": 4,
 "nbformat_minor": 2
}
