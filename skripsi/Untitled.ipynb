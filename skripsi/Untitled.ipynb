{
 "cells": [
  {
   "cell_type": "code",
   "execution_count": 22,
   "metadata": {},
   "outputs": [],
   "source": [
    "import requests\n",
    "import id_aldo\n",
    "from bs4 import BeautifulSoup\n",
    "from textacy.preprocess import preprocess_text"
   ]
  },
  {
   "cell_type": "code",
   "execution_count": 21,
   "metadata": {},
   "outputs": [],
   "source": [
    "nlp = id_aldo.load()"
   ]
  },
  {
   "cell_type": "code",
   "execution_count": 1,
   "metadata": {},
   "outputs": [],
   "source": [
    "url = '''https://bola.tempo.co/read/1273391/portugal-ke-euro-2020-usai-kalahkan-luxemburg'''"
   ]
  },
  {
   "cell_type": "code",
   "execution_count": 17,
   "metadata": {},
   "outputs": [
    {
     "data": {
      "text/html": [
       "<img src=\"https://statik.tempo.co/data/2019/10/12/id_879995/879995_720.jpg\" width=\"300\" height=\"300\"/>"
      ],
      "text/plain": [
       "<IPython.core.display.Image object>"
      ]
     },
     "execution_count": 17,
     "metadata": {},
     "output_type": "execute_result"
    }
   ],
   "source": [
    "from IPython.display import Image\n",
    "from IPython.core.display import HTML \n",
    "Image(url= image, width=300, height=300)"
   ]
  },
  {
   "cell_type": "code",
   "execution_count": null,
   "metadata": {},
   "outputs": [],
   "source": []
  },
  {
   "cell_type": "code",
   "execution_count": 25,
   "metadata": {},
   "outputs": [],
   "source": [
    "def nerText(text=None):\n",
    "    doc = nlp(text)\n",
    "    count = 0\n",
    "    for ent in doc.ents:\n",
    "        if ent.end <= 5:\n",
    "            count = ent.end_char + 1\n",
    "        else:\n",
    "            count = len(text)\n",
    "\n",
    "    iResult = text[count:].strip()\n",
    "\n",
    "    return iResult"
   ]
  },
  {
   "cell_type": "code",
   "execution_count": 51,
   "metadata": {},
   "outputs": [],
   "source": [
    "def getContent(url=None):\n",
    "    \n",
    "    data = []\n",
    "    tempCF = []\n",
    "    formatCF = ['number', 'usd', 'email', 'url']\n",
    "    \n",
    "    response = requests.get(url).text\n",
    "    soup = BeautifulSoup(response, \"html5lib\")\n",
    "    \n",
    "    title = soup.select_one('article > h1').text.strip()\n",
    "    image = soup.select_one('figure > a')['href']\n",
    "    \n",
    "    contents = soup.select('#isi > p')\n",
    "    for content in contents:\n",
    "        if content.text.strip()[:10] != 'Baca juga:' and content.text.strip()[:5] != 'Baca:':\n",
    "            data.append(content.text.strip() + '\\n\\n')\n",
    "    \n",
    "    article = ''.join(data)\n",
    "    article = preprocess_text(article, fix_unicode=True)\n",
    "    \n",
    "    formatNer = nerText(article)\n",
    "    caseFolding = preprocess_text(formatNer,fix_unicode=True, lowercase=True, no_urls=True,\n",
    "                            no_emails=True,no_phone_numbers=True,no_numbers=True,\n",
    "                            no_currency_symbols=True,no_punct=True)\n",
    "    caseFolding = caseFolding.split()\n",
    "    [tempCF.append(cf) for cf in caseFolding if cf not in formatCF]\n",
    "    caseFolding = ' '.join(tempCF)\n",
    "    \n",
    "    json = {\n",
    "        'url' : url,\n",
    "        'title' : title,\n",
    "        'image' : image,\n",
    "        'article' : article,\n",
    "        'caseFolding' : caseFolding\n",
    "        \n",
    "    }\n",
    "    \n",
    "    return json"
   ]
  },
  {
   "cell_type": "code",
   "execution_count": 52,
   "metadata": {
    "scrolled": true
   },
   "outputs": [
    {
     "data": {
      "text/plain": [
       "{'url': 'https://bola.tempo.co/read/1273391/portugal-ke-euro-2020-usai-kalahkan-luxemburg',\n",
       " 'title': 'Portugal ke Euro 2020 Usai Kalahkan Luxemburg',\n",
       " 'image': 'https://statik.tempo.co/data/2019/10/12/id_879995/879995_720.jpg',\n",
       " 'article': 'TEMPO.CO, Jakarta - Portugal meraih poin penuh kala mendatangi markas Luxemburg di pertandingan lanjutan Kualifikasi Euro 2020 Grup B, Minggu, 17 November 2019. Juara bertahan Piala Eropa ini menang 2-0.\\nGol Portugal dikemas oleh Fernandes Bruno pada menit ke-39 setelah mendapat umpan dari Bernardo Silva. Gol penutup disumbangkan Cristiano Ronaldo pada menit ke-86.\\nDi babak pertama, Portugal memegang kendali permainan dengan menguasai 64 persen penguasaan bola. Sebanyak tujuh kali terjadi peluang emas di depan gawang tuan rumah. Sementara Luxembourg mempunyai empat kesempatan gol.\\nMemasuki babak kedua, Portugal masih mengendalikan pertandingan dengan 64 persen penguasaan bola. Berbeda dengan di babak pertama, pada paruh kedua serangan Portugal yang nyaris berujung gol hanya terjadi sebanyak dua kali.\\nBeberapa saat sebelum laga berakhir, tepatnya di menit ke-86 Portugal menambah keunggulan. Kali ini gol datang dari Cristiano Ronaldo yang mengubah skor menjadi 2-0 dan bertahan hingga laga berakhir.\\nHasil ini membuat Portugal melaju ke putaran final Euro 2020. Di klasemen Grup B, Portugal berada di peringkat kedua dengan 17 poin, selisih tiga poin dengan Serbia yang ada di posisi ketiga. Sedangkan posisi puncak ditempati oleh Ukraina dengan 19 poin.\\nHasil Kualifikasi Euro 2020\\nLuxemburg 0-2 Portugal Serbia 2-2 Ukraina\\nUEFA',\n",
       " 'caseFolding': 'portugal meraih poin penuh kala mendatangi markas luxemburg di pertandingan lanjutan kualifikasi euro grup b minggu november juara bertahan piala eropa ini menang gol portugal dikemas oleh fernandes bruno pada menit ke setelah mendapat umpan dari bernardo silva gol penutup disumbangkan cristiano ronaldo pada menit ke di babak pertama portugal memegang kendali permainan dengan menguasai persen penguasaan bola sebanyak tujuh kali terjadi peluang emas di depan gawang tuan rumah sementara luxembourg mempunyai empat kesempatan gol memasuki babak kedua portugal masih mengendalikan pertandingan dengan persen penguasaan bola berbeda dengan di babak pertama pada paruh kedua serangan portugal yang nyaris berujung gol hanya terjadi sebanyak dua kali beberapa saat sebelum laga berakhir tepatnya di menit ke portugal menambah keunggulan kali ini gol datang dari cristiano ronaldo yang mengubah skor menjadi dan bertahan hingga laga berakhir hasil ini membuat portugal melaju ke putaran final euro di klasemen grup b portugal berada di peringkat kedua dengan poin selisih tiga poin dengan serbia yang ada di posisi ketiga sedangkan posisi puncak ditempati oleh ukraina dengan poin hasil kualifikasi euro luxemburg portugal serbia ukraina uefa'}"
      ]
     },
     "execution_count": 52,
     "metadata": {},
     "output_type": "execute_result"
    }
   ],
   "source": [
    "getContent(url)"
   ]
  },
  {
   "cell_type": "code",
   "execution_count": null,
   "metadata": {},
   "outputs": [],
   "source": []
  },
  {
   "cell_type": "code",
   "execution_count": 72,
   "metadata": {},
   "outputs": [],
   "source": [
    "url = '''https://bola.kompas.com/read/2019/11/18/13000068/ketika-di-chelsea-eden-hazard-lebih-malas-berlatih-ketimbang-lampard'''"
   ]
  },
  {
   "cell_type": "code",
   "execution_count": 73,
   "metadata": {},
   "outputs": [],
   "source": [
    "response = requests.get(url).text\n",
    "soup = BeautifulSoup(response, \"html5lib\")"
   ]
  },
  {
   "cell_type": "code",
   "execution_count": 92,
   "metadata": {},
   "outputs": [
    {
     "data": {
      "text/plain": [
       "'Ketika di Chelsea, Eden Hazard Lebih Malas Berlatih Ketimbang Lampard'"
      ]
     },
     "execution_count": 92,
     "metadata": {},
     "output_type": "execute_result"
    }
   ],
   "source": [
    "title = soup.select_one('.read__title').text.strip()\n",
    "title"
   ]
  },
  {
   "cell_type": "code",
   "execution_count": 85,
   "metadata": {},
   "outputs": [
    {
     "data": {
      "text/plain": [
       "'https://asset.kompas.com/crops/rt1P3ZWyR9K4P4XbGqaOMYDUs_E=/62x0:824x508/750x500/data/photo/2019/05/02/910401683.jpg'"
      ]
     },
     "execution_count": 85,
     "metadata": {},
     "output_type": "execute_result"
    }
   ],
   "source": [
    "image = soup.select_one('.photo > img')['data-src']\n",
    "image"
   ]
  },
  {
   "cell_type": "code",
   "execution_count": 88,
   "metadata": {},
   "outputs": [],
   "source": [
    "contents2 = soup.select('.read__content > p')"
   ]
  },
  {
   "cell_type": "code",
   "execution_count": 89,
   "metadata": {},
   "outputs": [],
   "source": [
    "iData = []"
   ]
  },
  {
   "cell_type": "code",
   "execution_count": 90,
   "metadata": {},
   "outputs": [],
   "source": [
    "for i in range(len(contents2)):\n",
    "    if contents2[i].text != '':\n",
    "        if (contents2[i].text[:9] != 'Baca juga' and contents2[i].text[:5] != 'Baca:') \\\n",
    "                and (contents2[i].text[:15] != 'We are thrilled') and (contents2[i].text[:6] != 'Flinke') \\\n",
    "                and (contents2[i].text[:18] != 'Baca selengkapnya:') and (contents2[i].text[:25]) != 'Baca berita selengkapnya:' \\\n",
    "                and (contents2[i].text[:7]) != 'Sumber:':\n",
    "            iData.append(contents2[i].text  + '\\n\\n')\n",
    "\n",
    "    ordinaryContent = ''.join(iData)\n",
    "    ordinaryContent = preprocess_text(ordinaryContent, fix_unicode=True)"
   ]
  },
  {
   "cell_type": "code",
   "execution_count": null,
   "metadata": {},
   "outputs": [],
   "source": []
  },
  {
   "cell_type": "code",
   "execution_count": 96,
   "metadata": {},
   "outputs": [
    {
     "data": {
      "text/plain": [
       "'https://bola.kompas.com/read/2019/11/18/13000068/ketika-di-chelsea-eden-hazard-lebih-malas-berlatih-ketimbang-lampard'"
      ]
     },
     "execution_count": 96,
     "metadata": {},
     "output_type": "execute_result"
    }
   ],
   "source": [
    "url.strip('.')"
   ]
  },
  {
   "cell_type": "code",
   "execution_count": null,
   "metadata": {},
   "outputs": [],
   "source": []
  }
 ],
 "metadata": {
  "kernelspec": {
   "display_name": "Python 3",
   "language": "python",
   "name": "python3"
  },
  "language_info": {
   "codemirror_mode": {
    "name": "ipython",
    "version": 3
   },
   "file_extension": ".py",
   "mimetype": "text/x-python",
   "name": "python",
   "nbconvert_exporter": "python",
   "pygments_lexer": "ipython3",
   "version": "3.6.6+"
  }
 },
 "nbformat": 4,
 "nbformat_minor": 2
}
