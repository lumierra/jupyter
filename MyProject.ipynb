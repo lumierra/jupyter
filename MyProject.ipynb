{
 "cells": [
  {
   "cell_type": "markdown",
   "metadata": {},
   "source": [
    "# Import Library"
   ]
  },
  {
   "cell_type": "code",
   "execution_count": 63,
   "metadata": {},
   "outputs": [],
   "source": [
    "import id_aldo\n",
    "import requests\n",
    "import datetime\n",
    "import id_beritagar as indo\n",
    "from pprint import pprint\n",
    "from bs4 import BeautifulSoup\n",
    "from tqdm import tqdm, tqdm_notebook\n",
    "from textacy.preprocess import  preprocess_text"
   ]
  },
  {
   "cell_type": "code",
   "execution_count": null,
   "metadata": {},
   "outputs": [],
   "source": []
  },
  {
   "cell_type": "markdown",
   "metadata": {},
   "source": [
    "# Set Default Variable"
   ]
  },
  {
   "cell_type": "code",
   "execution_count": null,
   "metadata": {},
   "outputs": [],
   "source": []
  },
  {
   "cell_type": "code",
   "execution_count": null,
   "metadata": {},
   "outputs": [],
   "source": []
  },
  {
   "cell_type": "markdown",
   "metadata": {},
   "source": [
    "# Get Data with Scrapping Method\n",
    "## Data From Tempo.co"
   ]
  },
  {
   "cell_type": "code",
   "execution_count": 64,
   "metadata": {},
   "outputs": [],
   "source": [
    "url = '''https://www.tempo.co/indeks/2019/12/15/tekno'''\n",
    "response = requests.get(url).text\n",
    "soup = BeautifulSoup(response, \"html5lib\")"
   ]
  },
  {
   "cell_type": "code",
   "execution_count": 65,
   "metadata": {},
   "outputs": [],
   "source": [
    "# Get Content\n",
    "contents = soup.select('.list.list-type-1 > ul > li')"
   ]
  },
  {
   "cell_type": "markdown",
   "metadata": {},
   "source": [
    "### Result of Contents"
   ]
  },
  {
   "cell_type": "code",
   "execution_count": 66,
   "metadata": {
    "scrolled": true
   },
   "outputs": [
    {
     "data": {
      "text/plain": [
       "[<li>\n",
       " \t\t\t\t\t <div class=\"card card-type-1\">\n",
       " \t\t\t\t\t\t <div class=\"wrapper clearfix\">\n",
       " \t\t\t\t\t\t\t <a class=\"col\" href=\"https://tekno.tempo.co/read/1284017/pks-dukung-nadiem-hapus-ujian-nasional-dengan-catatan-keras\">\n",
       " \t\t\t\t\t\t\t\t <img src=\"https://statik.tempo.co/data/2019/12/10/id_896354/896354_400.jpg\"/>\n",
       " \t\t\t\t\t\t\t </a>\n",
       " \t\t\t\t\t\t\t <a class=\"col\" href=\"https://tekno.tempo.co/read/1284017/pks-dukung-nadiem-hapus-ujian-nasional-dengan-catatan-keras\">\n",
       " \t\t\t\t\t\t\t\t <h2 class=\"title\">PKS Dukung Nadiem Hapus Ujian Nasional dengan Catatan Keras</h2>\n",
       " \t\t\t\t\t\t\t\t <p>PKS mendukung rencana Mendikbud Nadiem Makarim menghapus Ujian Nasional dengan sejumlah catatan keras.</p>\n",
       " \t\t\t\t\t\t\t\t <span class=\"col\">15 Desember 2019 18:35 WIB</span>\n",
       " \t\t\t\t\t\t\t </a>\n",
       " \t\t\t\t\t\t </div>\n",
       " \t\t\t\t\t </div>\n",
       " \t\t\t\t </li>, <li>\n",
       " \t\t\t\t\t <div class=\"card card-type-1\">\n",
       " \t\t\t\t\t\t <div class=\"wrapper clearfix\">\n",
       " \t\t\t\t\t\t\t <a class=\"col\" href=\"https://tekno.tempo.co/read/1284005/gempa-magnitudo-6-9-di-mindanao-terasa-sampai-sulawesi-utara\">\n",
       " \t\t\t\t\t\t\t\t <img src=\"https://statik.tempo.co/data/2019/10/30/id_884961/884961_400.jpg\"/>\n",
       " \t\t\t\t\t\t\t </a>\n",
       " \t\t\t\t\t\t\t <a class=\"col\" href=\"https://tekno.tempo.co/read/1284005/gempa-magnitudo-6-9-di-mindanao-terasa-sampai-sulawesi-utara\">\n",
       " \t\t\t\t\t\t\t\t <h2 class=\"title\">Gempa Magnitudo 6.9 di Mindanao Terasa Sampai Sulawesi Utara</h2>\n",
       " \t\t\t\t\t\t\t\t <p>Gempa  di Mindanao, Filipina, guncangannya terasa hingga Melonguane, Sulawesi Utara.</p>\n",
       " \t\t\t\t\t\t\t\t <span class=\"col\">15 Desember 2019 18:01 WIB</span>\n",
       " \t\t\t\t\t\t\t </a>\n",
       " \t\t\t\t\t\t </div>\n",
       " \t\t\t\t\t </div>\n",
       " \t\t\t\t </li>, <li>\n",
       " \t\t\t\t\t <div class=\"card card-type-1\">\n",
       " \t\t\t\t\t\t <div class=\"wrapper clearfix\">\n",
       " \t\t\t\t\t\t\t <a class=\"col\" href=\"https://tekno.tempo.co/read/1283852/4-badak-jawa-lahir-klhk-bukti-taman-nasional-ujung-kulon-aman\">\n",
       " \t\t\t\t\t\t\t\t <img src=\"https://statik.tempo.co/data/2019/12/15/id_897847/897847_400.jpg\"/>\n",
       " \t\t\t\t\t\t\t </a>\n",
       " \t\t\t\t\t\t\t <a class=\"col\" href=\"https://tekno.tempo.co/read/1283852/4-badak-jawa-lahir-klhk-bukti-taman-nasional-ujung-kulon-aman\">\n",
       " \t\t\t\t\t\t\t\t <h2 class=\"title\">4 Badak Jawa Lahir, KLHK: Bukti Taman Nasional Ujung Kulon Aman</h2>\n",
       " \t\t\t\t\t\t\t\t <p>KLHK menyatakan, kelahiran 4 badak jawa menunjukkan Taman Nasional Ujung Kulon aman untuk satwa yang sangat terancam punah itu.</p>\n",
       " \t\t\t\t\t\t\t\t <span class=\"col\">15 Desember 2019 09:20 WIB</span>\n",
       " \t\t\t\t\t\t\t </a>\n",
       " \t\t\t\t\t\t </div>\n",
       " \t\t\t\t\t </div>\n",
       " \t\t\t\t </li>, <li>\n",
       " \t\t\t\t\t <div class=\"card card-type-1\">\n",
       " \t\t\t\t\t\t <div class=\"wrapper clearfix\">\n",
       " \t\t\t\t\t\t\t <a class=\"col\" href=\"https://tekno.tempo.co/read/1283692/begini-proses-menyebarnya-bisa-ular-kobra-yang-mematikan\">\n",
       " \t\t\t\t\t\t\t\t <img src=\"https://statik.tempo.co/data/2019/12/11/id_896924/896924_400.jpg\"/>\n",
       " \t\t\t\t\t\t\t </a>\n",
       " \t\t\t\t\t\t\t <a class=\"col\" href=\"https://tekno.tempo.co/read/1283692/begini-proses-menyebarnya-bisa-ular-kobra-yang-mematikan\">\n",
       " \t\t\t\t\t\t\t\t <h2 class=\"title\">Begini Proses Menyebarnya Bisa Ular Kobra yang Mematikan</h2>\n",
       " \t\t\t\t\t\t\t\t <p>Proses penyebaran bisa kobra dan semua ular adalah lewat kelenjar getah bening</p>\n",
       " \t\t\t\t\t\t\t\t <span class=\"col\">15 Desember 2019 00:30 WIB</span>\n",
       " \t\t\t\t\t\t\t </a>\n",
       " \t\t\t\t\t\t </div>\n",
       " \t\t\t\t\t </div>\n",
       " \t\t\t\t </li>, <li>\n",
       " \t\t\t\t\t <div class=\"card card-type-1\">\n",
       " \t\t\t\t\t\t <div class=\"wrapper clearfix\">\n",
       " \t\t\t\t\t\t\t <a class=\"col\" href=\"https://tekno.tempo.co/read/1283623/prediksi-ancaman-finansial-2020-kaspersky-fintech-m-banking\">\n",
       " \t\t\t\t\t\t\t\t <img src=\"https://statik.tempo.co/data/2018/11/12/id_796405/796405_400.jpg\"/>\n",
       " \t\t\t\t\t\t\t </a>\n",
       " \t\t\t\t\t\t\t <a class=\"col\" href=\"https://tekno.tempo.co/read/1283623/prediksi-ancaman-finansial-2020-kaspersky-fintech-m-banking\">\n",
       " \t\t\t\t\t\t\t\t <h2 class=\"title\">Prediksi Ancaman Finansial 2020 Kaspersky: Fintech, M-Banking</h2>\n",
       " \t\t\t\t\t\t\t\t <p>Kaspersky merekomendasikan tim keamanan di wilayah yang berpotensi terkena dampak industri keuangan untuk bersiap menghadapi tantangan baru.</p>\n",
       " \t\t\t\t\t\t\t\t <span class=\"col\">15 Desember 2019 00:25 WIB</span>\n",
       " \t\t\t\t\t\t\t </a>\n",
       " \t\t\t\t\t\t </div>\n",
       " \t\t\t\t\t </div>\n",
       " \t\t\t\t </li>, <li>\n",
       " \t\t\t\t\t <div class=\"card card-type-1\">\n",
       " \t\t\t\t\t\t <div class=\"wrapper clearfix\">\n",
       " \t\t\t\t\t\t\t <a class=\"col\" href=\"https://tekno.tempo.co/read/1283620/smartfren-luncurkan-produk-internet-unlimited-lite\">\n",
       " \t\t\t\t\t\t\t\t <img src=\"https://statik.tempo.co/data/2019/12/14/id_897648/897648_400.jpg\"/>\n",
       " \t\t\t\t\t\t\t </a>\n",
       " \t\t\t\t\t\t\t <a class=\"col\" href=\"https://tekno.tempo.co/read/1283620/smartfren-luncurkan-produk-internet-unlimited-lite\">\n",
       " \t\t\t\t\t\t\t\t <h2 class=\"title\">Smartfren Luncurkan Produk Internet Unlimited Lite</h2>\n",
       " \t\t\t\t\t\t\t\t <p>Hadirnya produk ini menjadikan pelanggan dapat memilih paket unlimited Smartfren yang sesuai dengan kebutuhan komunikasinya masing masing. </p>\n",
       " \t\t\t\t\t\t\t\t <span class=\"col\">15 Desember 2019 00:20 WIB</span>\n",
       " \t\t\t\t\t\t\t </a>\n",
       " \t\t\t\t\t\t </div>\n",
       " \t\t\t\t\t </div>\n",
       " \t\t\t\t </li>, <li>\n",
       " \t\t\t\t\t <div class=\"card card-type-1\">\n",
       " \t\t\t\t\t\t <div class=\"wrapper clearfix\">\n",
       " \t\t\t\t\t\t\t <a class=\"col\" href=\"https://tekno.tempo.co/read/1283617/menteri-terawan-implan-traumatik-inovasi-bppt-berkualitas-tinggi\">\n",
       " \t\t\t\t\t\t\t\t <img src=\"https://statik.tempo.co/data/2019/12/14/id_897646/897646_400.jpg\"/>\n",
       " \t\t\t\t\t\t\t </a>\n",
       " \t\t\t\t\t\t\t <a class=\"col\" href=\"https://tekno.tempo.co/read/1283617/menteri-terawan-implan-traumatik-inovasi-bppt-berkualitas-tinggi\">\n",
       " \t\t\t\t\t\t\t\t <h2 class=\"title\">Menteri Terawan: Implan Traumatik Inovasi BPPT Berkualitas Tinggi</h2>\n",
       " \t\t\t\t\t\t\t\t <p>Menteri Terawan menyatakan akan mendorong pemanfaatan produk karya anak bangsa agar bisa masuk ke industri farmasi tanah air.</p>\n",
       " \t\t\t\t\t\t\t\t <span class=\"col\">15 Desember 2019 00:15 WIB</span>\n",
       " \t\t\t\t\t\t\t </a>\n",
       " \t\t\t\t\t\t </div>\n",
       " \t\t\t\t\t </div>\n",
       " \t\t\t\t </li>, <li>\n",
       " \t\t\t\t\t <div class=\"card card-type-1\">\n",
       " \t\t\t\t\t\t <div class=\"wrapper clearfix\">\n",
       " \t\t\t\t\t\t\t <a class=\"col\" href=\"https://tekno.tempo.co/read/1283616/xiaomi-jual-100-ribu-lebih-smartphone-dalam-24-jam\">\n",
       " \t\t\t\t\t\t\t\t <img src=\"https://statik.tempo.co/data/2019/12/04/id_894709/894709_400.jpg\"/>\n",
       " \t\t\t\t\t\t\t </a>\n",
       " \t\t\t\t\t\t\t <a class=\"col\" href=\"https://tekno.tempo.co/read/1283616/xiaomi-jual-100-ribu-lebih-smartphone-dalam-24-jam\">\n",
       " \t\t\t\t\t\t\t\t <h2 class=\"title\">Xiaomi Jual 100 Ribu Lebih Smartphone dalam 24 Jam</h2>\n",
       " \t\t\t\t\t\t\t\t <p>Antusiasme masyarakat atas produk Xiaomi, menjadikan Xiaomi merek smartphone  terpopuler No 1 di Lazada dan Shopee periode festival 12.12.</p>\n",
       " \t\t\t\t\t\t\t\t <span class=\"col\">15 Desember 2019 00:10 WIB</span>\n",
       " \t\t\t\t\t\t\t </a>\n",
       " \t\t\t\t\t\t </div>\n",
       " \t\t\t\t\t </div>\n",
       " \t\t\t\t </li>, <li>\n",
       " \t\t\t\t\t <div class=\"card card-type-1\">\n",
       " \t\t\t\t\t\t <div class=\"wrapper clearfix\">\n",
       " \t\t\t\t\t\t\t <a class=\"col\" href=\"https://tekno.tempo.co/read/1283610/dongkrak-literasi-penelitian-quipper-dan-lipi-berkolaborasi\">\n",
       " \t\t\t\t\t\t\t\t <img src=\"https://statik.tempo.co/data/2019/12/14/id_897642/897642_400.jpg\"/>\n",
       " \t\t\t\t\t\t\t </a>\n",
       " \t\t\t\t\t\t\t <a class=\"col\" href=\"https://tekno.tempo.co/read/1283610/dongkrak-literasi-penelitian-quipper-dan-lipi-berkolaborasi\">\n",
       " \t\t\t\t\t\t\t\t <h2 class=\"title\">Dongkrak Literasi Penelitian, Quipper dan LIPI Berkolaborasi</h2>\n",
       " \t\t\t\t\t\t\t\t <p>Kolaborasi LIPI dan Quipper dituangkan dalam bentuk video pembelajaran bagi siswa SMA.</p>\n",
       " \t\t\t\t\t\t\t\t <span class=\"col\">15 Desember 2019 00:05 WIB</span>\n",
       " \t\t\t\t\t\t\t </a>\n",
       " \t\t\t\t\t\t </div>\n",
       " \t\t\t\t\t </div>\n",
       " \t\t\t\t </li>, <li>\n",
       " \t\t\t\t\t <div class=\"card card-type-1\">\n",
       " \t\t\t\t\t\t <div class=\"wrapper clearfix\">\n",
       " \t\t\t\t\t\t\t <a class=\"col\" href=\"https://tekno.tempo.co/read/1283605/kaspersky-penjahat-siber-menyalahgunakan-pencarian-web\">\n",
       " \t\t\t\t\t\t\t\t <img src=\"https://statik.tempo.co/data/2018/12/18/id_805159/805159_400.jpg\"/>\n",
       " \t\t\t\t\t\t\t </a>\n",
       " \t\t\t\t\t\t\t <a class=\"col\" href=\"https://tekno.tempo.co/read/1283605/kaspersky-penjahat-siber-menyalahgunakan-pencarian-web\">\n",
       " \t\t\t\t\t\t\t\t <h2 class=\"title\">Kaspersky: Penjahat Siber Menyalahgunakan Pencarian Web</h2>\n",
       " \t\t\t\t\t\t\t\t <p>Oleg Kupreev, Malware Analyst di Kaspersky, mengatakan penjahat siber menerapkan  teknik SEO black-hat untuk menyalahgunakan pencarian populer di web.</p>\n",
       " \t\t\t\t\t\t\t\t <span class=\"col\">15 Desember 2019 00:01 WIB</span>\n",
       " \t\t\t\t\t\t\t </a>\n",
       " \t\t\t\t\t\t </div>\n",
       " \t\t\t\t\t </div>\n",
       " \t\t\t\t </li>]"
      ]
     },
     "execution_count": 66,
     "metadata": {},
     "output_type": "execute_result"
    }
   ],
   "source": [
    "contents"
   ]
  },
  {
   "cell_type": "code",
   "execution_count": null,
   "metadata": {},
   "outputs": [],
   "source": []
  },
  {
   "cell_type": "markdown",
   "metadata": {},
   "source": [
    "### Clean HTML"
   ]
  },
  {
   "cell_type": "code",
   "execution_count": 67,
   "metadata": {},
   "outputs": [
    {
     "name": "stderr",
     "output_type": "stream",
     "text": [
      "100%|██████████| 10/10 [00:00<00:00, 1446.46it/s]\n"
     ]
    }
   ],
   "source": [
    "# Save the Data Into List with Json Format\n",
    "data = []\n",
    "for content in tqdm(contents):\n",
    "    urlTempo = content.select_one('a')['href']\n",
    "    categoryTempo = url.split('/')[7]\n",
    "    titleTempo = content.select_one('.title').text\n",
    "    dateTempo = url.split('/')[6] + '-' + url.split('/')[5] + '-' + url.split('/')[4]\n",
    "    \n",
    "    json = {\n",
    "        'category': categoryTempo,\n",
    "        'title': titleTempo,\n",
    "        'description': '',\n",
    "        'url': urlTempo,\n",
    "        'content': '',\n",
    "        'img': '',\n",
    "        'subCategory': '',\n",
    "        'publishedAt': dateTempo,\n",
    "        'source': 'tempo.co',\n",
    "        'cleanContent': ''\n",
    "    }\n",
    "    \n",
    "    data.append(json)"
   ]
  },
  {
   "cell_type": "markdown",
   "metadata": {},
   "source": [
    "### Result"
   ]
  },
  {
   "cell_type": "code",
   "execution_count": 68,
   "metadata": {
    "scrolled": true
   },
   "outputs": [
    {
     "name": "stdout",
     "output_type": "stream",
     "text": [
      "Total Artikel : 10\n",
      "================================\n",
      "\n",
      "[{'category': 'tekno',\n",
      "  'cleanContent': '',\n",
      "  'content': '',\n",
      "  'description': '',\n",
      "  'img': '',\n",
      "  'publishedAt': '15-12-2019',\n",
      "  'source': 'tempo.co',\n",
      "  'subCategory': '',\n",
      "  'title': 'PKS Dukung Nadiem Hapus Ujian Nasional dengan Catatan Keras',\n",
      "  'url': 'https://tekno.tempo.co/read/1284017/pks-dukung-nadiem-hapus-ujian-nasional-dengan-catatan-keras'},\n",
      " {'category': 'tekno',\n",
      "  'cleanContent': '',\n",
      "  'content': '',\n",
      "  'description': '',\n",
      "  'img': '',\n",
      "  'publishedAt': '15-12-2019',\n",
      "  'source': 'tempo.co',\n",
      "  'subCategory': '',\n",
      "  'title': 'Gempa Magnitudo 6.9 di Mindanao Terasa Sampai Sulawesi Utara',\n",
      "  'url': 'https://tekno.tempo.co/read/1284005/gempa-magnitudo-6-9-di-mindanao-terasa-sampai-sulawesi-utara'},\n",
      " {'category': 'tekno',\n",
      "  'cleanContent': '',\n",
      "  'content': '',\n",
      "  'description': '',\n",
      "  'img': '',\n",
      "  'publishedAt': '15-12-2019',\n",
      "  'source': 'tempo.co',\n",
      "  'subCategory': '',\n",
      "  'title': '4 Badak Jawa Lahir, KLHK: Bukti Taman Nasional Ujung Kulon Aman',\n",
      "  'url': 'https://tekno.tempo.co/read/1283852/4-badak-jawa-lahir-klhk-bukti-taman-nasional-ujung-kulon-aman'},\n",
      " {'category': 'tekno',\n",
      "  'cleanContent': '',\n",
      "  'content': '',\n",
      "  'description': '',\n",
      "  'img': '',\n",
      "  'publishedAt': '15-12-2019',\n",
      "  'source': 'tempo.co',\n",
      "  'subCategory': '',\n",
      "  'title': 'Begini Proses Menyebarnya Bisa Ular Kobra yang Mematikan',\n",
      "  'url': 'https://tekno.tempo.co/read/1283692/begini-proses-menyebarnya-bisa-ular-kobra-yang-mematikan'},\n",
      " {'category': 'tekno',\n",
      "  'cleanContent': '',\n",
      "  'content': '',\n",
      "  'description': '',\n",
      "  'img': '',\n",
      "  'publishedAt': '15-12-2019',\n",
      "  'source': 'tempo.co',\n",
      "  'subCategory': '',\n",
      "  'title': 'Prediksi Ancaman Finansial 2020 Kaspersky: Fintech, M-Banking',\n",
      "  'url': 'https://tekno.tempo.co/read/1283623/prediksi-ancaman-finansial-2020-kaspersky-fintech-m-banking'},\n",
      " {'category': 'tekno',\n",
      "  'cleanContent': '',\n",
      "  'content': '',\n",
      "  'description': '',\n",
      "  'img': '',\n",
      "  'publishedAt': '15-12-2019',\n",
      "  'source': 'tempo.co',\n",
      "  'subCategory': '',\n",
      "  'title': 'Smartfren Luncurkan Produk Internet Unlimited Lite',\n",
      "  'url': 'https://tekno.tempo.co/read/1283620/smartfren-luncurkan-produk-internet-unlimited-lite'},\n",
      " {'category': 'tekno',\n",
      "  'cleanContent': '',\n",
      "  'content': '',\n",
      "  'description': '',\n",
      "  'img': '',\n",
      "  'publishedAt': '15-12-2019',\n",
      "  'source': 'tempo.co',\n",
      "  'subCategory': '',\n",
      "  'title': 'Menteri Terawan: Implan Traumatik Inovasi BPPT Berkualitas Tinggi',\n",
      "  'url': 'https://tekno.tempo.co/read/1283617/menteri-terawan-implan-traumatik-inovasi-bppt-berkualitas-tinggi'},\n",
      " {'category': 'tekno',\n",
      "  'cleanContent': '',\n",
      "  'content': '',\n",
      "  'description': '',\n",
      "  'img': '',\n",
      "  'publishedAt': '15-12-2019',\n",
      "  'source': 'tempo.co',\n",
      "  'subCategory': '',\n",
      "  'title': 'Xiaomi Jual 100 Ribu Lebih Smartphone dalam 24 Jam',\n",
      "  'url': 'https://tekno.tempo.co/read/1283616/xiaomi-jual-100-ribu-lebih-smartphone-dalam-24-jam'},\n",
      " {'category': 'tekno',\n",
      "  'cleanContent': '',\n",
      "  'content': '',\n",
      "  'description': '',\n",
      "  'img': '',\n",
      "  'publishedAt': '15-12-2019',\n",
      "  'source': 'tempo.co',\n",
      "  'subCategory': '',\n",
      "  'title': 'Dongkrak Literasi Penelitian, Quipper dan LIPI Berkolaborasi',\n",
      "  'url': 'https://tekno.tempo.co/read/1283610/dongkrak-literasi-penelitian-quipper-dan-lipi-berkolaborasi'},\n",
      " {'category': 'tekno',\n",
      "  'cleanContent': '',\n",
      "  'content': '',\n",
      "  'description': '',\n",
      "  'img': '',\n",
      "  'publishedAt': '15-12-2019',\n",
      "  'source': 'tempo.co',\n",
      "  'subCategory': '',\n",
      "  'title': 'Kaspersky: Penjahat Siber Menyalahgunakan Pencarian Web',\n",
      "  'url': 'https://tekno.tempo.co/read/1283605/kaspersky-penjahat-siber-menyalahgunakan-pencarian-web'}]\n"
     ]
    }
   ],
   "source": [
    "print('Total Artikel : {}'.format(len(data)))\n",
    "print('================================\\n')\n",
    "pprint(data)"
   ]
  },
  {
   "cell_type": "code",
   "execution_count": null,
   "metadata": {},
   "outputs": [],
   "source": []
  },
  {
   "cell_type": "markdown",
   "metadata": {},
   "source": [
    "## Get Content Articles"
   ]
  },
  {
   "cell_type": "code",
   "execution_count": 69,
   "metadata": {},
   "outputs": [],
   "source": [
    "urlContent = data[0]['url']\n",
    "responseContent = requests.get(urlContent).text\n",
    "soupContent = BeautifulSoup(responseContent, \"html5lib\")"
   ]
  },
  {
   "cell_type": "code",
   "execution_count": 70,
   "metadata": {},
   "outputs": [],
   "source": [
    "# Get Sub Category and Image\n",
    "subCategory = soupContent.select('.breadcrumbs > li ')[1].text\n",
    "image = soupContent.select_one('figure > a')['href']"
   ]
  },
  {
   "cell_type": "code",
   "execution_count": 71,
   "metadata": {},
   "outputs": [],
   "source": [
    "articles = soupContent.select('#isi > p')"
   ]
  },
  {
   "cell_type": "markdown",
   "metadata": {},
   "source": [
    "### Content of Articles"
   ]
  },
  {
   "cell_type": "code",
   "execution_count": 72,
   "metadata": {
    "scrolled": true
   },
   "outputs": [
    {
     "name": "stdout",
     "output_type": "stream",
     "text": [
      "TEMPO.CO, Jakarta - Partai Keadilan Sejahtera (PKS) menyatakan mendukung rencana Menteri Pendidikan dan Kebudayaan Nadiem Makarim menghapus Ujian Nasional (UN) dengan sejumlah catatan.\n",
      "\n",
      "\"Kami mendukung dihapuskannya UN, tapi tetap dengan catatan yang keras,\" kata Wakil Ketua Majelis Syuro PKS Hidayat Nur Wahid usai Rapat Koordinasi Wilayah DPW PKS Jawa Timur di Surabaya, Minggu.\n",
      "\n",
      "Menteri Pendidikan dan Kebudayaan Nadiem Makarim mengumumkan rencana mengganti UN dengan Asesmen Kompetensi Minimum dan Survei Karakter mulai tahun 2021.\n",
      "\n",
      "Hidayat mengatakan bahwa sebaiknya pemerintah tidak tergesa-gesa dalam menerapkan kebijakan tersebut. Penerapan kebijakan tersebut, menurut dia, membutuhkan kajian mendalam karena berkaitan dengan pembangunan sumber daya manusia.\n",
      "\n",
      "\"Yang terpenting juga, adanya kebijakan-kebijakan itu dalam rangka mendukung serta mendorong peningkatan kualitas pendidikan, sumber daya manusianya serta efek input maupun output-nya,\" kata Wakil Ketua MPR tersebut.\n",
      "\n",
      "Kalau UN dihapuskan, ia mengatakan, sebaiknya pemerintah menyiapkan alternatif evaluasi.\n",
      "\n",
      "\"Bukan Ujian Nasional sudah dihapus lalu pelajar malah semakin malas dan tidak termotivasi untuk belajar. Jadi, hadirkan alternatif yang bisa membuat pelajar Indonesia tumbuh serta tambah berkualitas,\" katanya.\n",
      "\n"
     ]
    }
   ],
   "source": [
    "tempArticle = []\n",
    "for article in articles: \n",
    "    print(article.text.strip() + '\\n')\n",
    "    tempArticle.append(article.text.strip() + '\\n\\n')\n",
    "\n",
    "content = ''.join(tempArticle)"
   ]
  },
  {
   "cell_type": "code",
   "execution_count": null,
   "metadata": {},
   "outputs": [],
   "source": []
  },
  {
   "cell_type": "markdown",
   "metadata": {},
   "source": [
    "### Insert Article Into Data"
   ]
  },
  {
   "cell_type": "code",
   "execution_count": 73,
   "metadata": {},
   "outputs": [],
   "source": [
    "temp = []\n",
    "temp = data[0]"
   ]
  },
  {
   "cell_type": "code",
   "execution_count": 74,
   "metadata": {},
   "outputs": [],
   "source": [
    "temp['img'] = image\n",
    "temp['subCategory'] = subCategory\n",
    "temp['content'] = content"
   ]
  },
  {
   "cell_type": "markdown",
   "metadata": {},
   "source": [
    "### Result"
   ]
  },
  {
   "cell_type": "code",
   "execution_count": 75,
   "metadata": {
    "scrolled": true
   },
   "outputs": [
    {
     "name": "stdout",
     "output_type": "stream",
     "text": [
      "{'category': 'tekno',\n",
      " 'cleanContent': '',\n",
      " 'content': 'TEMPO.CO, Jakarta -\\xa0Partai Keadilan Sejahtera (PKS) menyatakan '\n",
      "            'mendukung rencana\\xa0Menteri Pendidikan\\xa0dan Kebudayaan\\xa0'\n",
      "            'Nadiem\\xa0Makarim\\xa0menghapus Ujian Nasional (UN) dengan '\n",
      "            'sejumlah catatan.\\n'\n",
      "            '\\n'\n",
      "            '\"Kami mendukung\\xa0dihapuskannya UN, tapi tetap dengan catatan '\n",
      "            'yang keras,\" kata Wakil Ketua Majelis Syuro PKS Hidayat Nur Wahid '\n",
      "            'usai Rapat Koordinasi Wilayah DPW PKS Jawa Timur di Surabaya, '\n",
      "            'Minggu.\\n'\n",
      "            '\\n'\n",
      "            'Menteri Pendidikan dan Kebudayaan\\xa0Nadiem Makarim mengumumkan '\n",
      "            'rencana mengganti UN dengan Asesmen Kompetensi Minimum dan Survei '\n",
      "            'Karakter mulai tahun 2021.\\n'\n",
      "            '\\n'\n",
      "            'Hidayat mengatakan bahwa sebaiknya pemerintah tidak tergesa-gesa '\n",
      "            'dalam menerapkan kebijakan tersebut. Penerapan kebijakan '\n",
      "            'tersebut, menurut dia, membutuhkan kajian mendalam karena '\n",
      "            'berkaitan dengan pembangunan sumber daya manusia.\\n'\n",
      "            '\\n'\n",
      "            '\"Yang terpenting juga, adanya kebijakan-kebijakan itu dalam '\n",
      "            'rangka mendukung serta mendorong peningkatan kualitas pendidikan, '\n",
      "            'sumber daya manusianya serta efek\\xa0input\\xa0maupun\\xa0'\n",
      "            'output-nya,\" kata Wakil Ketua MPR tersebut.\\n'\n",
      "            '\\n'\n",
      "            'Kalau UN dihapuskan, ia mengatakan, sebaiknya pemerintah '\n",
      "            'menyiapkan alternatif evaluasi.\\n'\n",
      "            '\\n'\n",
      "            '\"Bukan Ujian Nasional sudah dihapus lalu pelajar malah semakin '\n",
      "            'malas dan tidak termotivasi untuk belajar. Jadi, hadirkan '\n",
      "            'alternatif yang bisa membuat pelajar Indonesia tumbuh serta '\n",
      "            'tambah berkualitas,\" katanya.\\n'\n",
      "            '\\n',\n",
      " 'description': '',\n",
      " 'img': 'https://statik.tempo.co/data/2019/12/10/id_896354/896354_720.jpg',\n",
      " 'publishedAt': '15-12-2019',\n",
      " 'source': 'tempo.co',\n",
      " 'subCategory': 'tekno',\n",
      " 'title': 'PKS Dukung Nadiem Hapus Ujian Nasional dengan Catatan Keras',\n",
      " 'url': 'https://tekno.tempo.co/read/1284017/pks-dukung-nadiem-hapus-ujian-nasional-dengan-catatan-keras'}\n"
     ]
    }
   ],
   "source": [
    "pprint(temp)"
   ]
  },
  {
   "cell_type": "code",
   "execution_count": null,
   "metadata": {},
   "outputs": [],
   "source": []
  },
  {
   "cell_type": "markdown",
   "metadata": {},
   "source": [
    "# Preprocessing"
   ]
  },
  {
   "cell_type": "code",
   "execution_count": 76,
   "metadata": {},
   "outputs": [],
   "source": [
    "import spacy\n",
    "from spacy import displacy"
   ]
  },
  {
   "cell_type": "code",
   "execution_count": 77,
   "metadata": {},
   "outputs": [],
   "source": [
    "nlp = id_aldo.load()"
   ]
  },
  {
   "cell_type": "code",
   "execution_count": 78,
   "metadata": {},
   "outputs": [],
   "source": [
    "def formatArticle(text=None):\n",
    "    doc = nlp(text)\n",
    "    count = 0\n",
    "    for ent in doc.ents:\n",
    "        if ent.end <= 5:\n",
    "            count = ent.end_char + 1\n",
    "        else:\n",
    "            count = len(text)\n",
    "\n",
    "    result = text[count:].strip()\n",
    "\n",
    "    return result"
   ]
  },
  {
   "cell_type": "code",
   "execution_count": null,
   "metadata": {},
   "outputs": [],
   "source": []
  },
  {
   "cell_type": "markdown",
   "metadata": {},
   "source": [
    "### Delete Format Publisher"
   ]
  },
  {
   "cell_type": "code",
   "execution_count": 79,
   "metadata": {},
   "outputs": [],
   "source": [
    "doc = nlp(temp['content'])"
   ]
  },
  {
   "cell_type": "code",
   "execution_count": 80,
   "metadata": {
    "scrolled": true
   },
   "outputs": [
    {
     "data": {
      "text/html": [
       "<div class=\"entities\" style=\"line-height: 2.5\">\n",
       "<mark class=\"entity\" style=\"background: #ddd; padding: 0.45em 0.6em; margin: 0 0.25em; line-height: 1; border-radius: 0.35em; box-decoration-break: clone; -webkit-box-decoration-break: clone\">\n",
       "    TEMPO.CO\n",
       "    <span style=\"font-size: 0.8em; font-weight: bold; line-height: 1; border-radius: 0.35em; text-transform: uppercase; vertical-align: middle; margin-left: 0.5rem\">PUBLISHER</span>\n",
       "</mark>\n",
       "\n",
       "<mark class=\"entity\" style=\"background: #ddd; padding: 0.45em 0.6em; margin: 0 0.25em; line-height: 1; border-radius: 0.35em; box-decoration-break: clone; -webkit-box-decoration-break: clone\">\n",
       "    ,\n",
       "    <span style=\"font-size: 0.8em; font-weight: bold; line-height: 1; border-radius: 0.35em; text-transform: uppercase; vertical-align: middle; margin-left: 0.5rem\">PUNCT</span>\n",
       "</mark>\n",
       " \n",
       "<mark class=\"entity\" style=\"background: #ddd; padding: 0.45em 0.6em; margin: 0 0.25em; line-height: 1; border-radius: 0.35em; box-decoration-break: clone; -webkit-box-decoration-break: clone\">\n",
       "    Jakarta\n",
       "    <span style=\"font-size: 0.8em; font-weight: bold; line-height: 1; border-radius: 0.35em; text-transform: uppercase; vertical-align: middle; margin-left: 0.5rem\">LOCATION</span>\n",
       "</mark>\n",
       " \n",
       "<mark class=\"entity\" style=\"background: #ddd; padding: 0.45em 0.6em; margin: 0 0.25em; line-height: 1; border-radius: 0.35em; box-decoration-break: clone; -webkit-box-decoration-break: clone\">\n",
       "    -\n",
       "    <span style=\"font-size: 0.8em; font-weight: bold; line-height: 1; border-radius: 0.35em; text-transform: uppercase; vertical-align: middle; margin-left: 0.5rem\">PUNCT</span>\n",
       "</mark>\n",
       " Partai Keadilan Sejahtera (PKS) menyatakan mendukung rencana Menteri Pendidikan dan Kebudayaan Nadiem Makarim menghapus Ujian Nasional (UN) dengan sejumlah catatan.\n",
       "\n",
       "\"Kami mendukung dihapuskannya UN, tapi tetap dengan catatan yang keras,\" kata Wakil Ketua Majelis Syuro PKS Hidayat Nur Wahid usai Rapat Koordinasi Wilayah DPW PKS Jawa Timur di Surabaya, Minggu.\n",
       "\n",
       "Menteri Pendidikan dan Kebudayaan Nadiem Makarim mengumumkan rencana mengganti UN dengan Asesmen Kompetensi Minimum dan Survei Karakter mulai tahun 2021.\n",
       "\n",
       "Hidayat mengatakan bahwa sebaiknya pemerintah tidak tergesa-gesa dalam menerapkan kebijakan tersebut. Penerapan kebijakan tersebut, menurut dia, membutuhkan kajian mendalam karena berkaitan dengan pembangunan sumber daya manusia.\n",
       "\n",
       "\"Yang terpenting juga, adanya kebijakan-kebijakan itu dalam rangka mendukung serta mendorong peningkatan kualitas pendidikan, sumber daya manusianya serta efek input maupun output-nya,\" kata Wakil Ketua MPR tersebut.\n",
       "\n",
       "Kalau UN dihapuskan, ia mengatakan, sebaiknya pemerintah menyiapkan alternatif evaluasi.\n",
       "\n",
       "\"Bukan Ujian Nasional sudah dihapus lalu pelajar malah semakin malas dan tidak termotivasi untuk belajar. Jadi, hadirkan alternatif yang bisa membuat pelajar Indonesia tumbuh serta tambah berkualitas,\" katanya.\n",
       "\n",
       "</div>"
      ],
      "text/plain": [
       "<IPython.core.display.HTML object>"
      ]
     },
     "metadata": {},
     "output_type": "display_data"
    }
   ],
   "source": [
    "displacy.render(doc, jupyter=True, style='ent')"
   ]
  },
  {
   "cell_type": "code",
   "execution_count": null,
   "metadata": {},
   "outputs": [],
   "source": []
  },
  {
   "cell_type": "markdown",
   "metadata": {},
   "source": [
    "### Result"
   ]
  },
  {
   "cell_type": "code",
   "execution_count": 81,
   "metadata": {
    "scrolled": true
   },
   "outputs": [
    {
     "name": "stdout",
     "output_type": "stream",
     "text": [
      "Partai Keadilan Sejahtera (PKS) menyatakan mendukung rencana Menteri Pendidikan dan Kebudayaan Nadiem Makarim menghapus Ujian Nasional (UN) dengan sejumlah catatan.\n",
      "\n",
      "\"Kami mendukung dihapuskannya UN, tapi tetap dengan catatan yang keras,\" kata Wakil Ketua Majelis Syuro PKS Hidayat Nur Wahid usai Rapat Koordinasi Wilayah DPW PKS Jawa Timur di Surabaya, Minggu.\n",
      "\n",
      "Menteri Pendidikan dan Kebudayaan Nadiem Makarim mengumumkan rencana mengganti UN dengan Asesmen Kompetensi Minimum dan Survei Karakter mulai tahun 2021.\n",
      "\n",
      "Hidayat mengatakan bahwa sebaiknya pemerintah tidak tergesa-gesa dalam menerapkan kebijakan tersebut. Penerapan kebijakan tersebut, menurut dia, membutuhkan kajian mendalam karena berkaitan dengan pembangunan sumber daya manusia.\n",
      "\n",
      "\"Yang terpenting juga, adanya kebijakan-kebijakan itu dalam rangka mendukung serta mendorong peningkatan kualitas pendidikan, sumber daya manusianya serta efek input maupun output-nya,\" kata Wakil Ketua MPR tersebut.\n",
      "\n",
      "Kalau UN dihapuskan, ia mengatakan, sebaiknya pemerintah menyiapkan alternatif evaluasi.\n",
      "\n",
      "\"Bukan Ujian Nasional sudah dihapus lalu pelajar malah semakin malas dan tidak termotivasi untuk belajar. Jadi, hadirkan alternatif yang bisa membuat pelajar Indonesia tumbuh serta tambah berkualitas,\" katanya.\n"
     ]
    }
   ],
   "source": [
    "result = formatArticle(temp['content'])\n",
    "print(result)"
   ]
  },
  {
   "cell_type": "code",
   "execution_count": null,
   "metadata": {},
   "outputs": [],
   "source": []
  },
  {
   "cell_type": "markdown",
   "metadata": {},
   "source": [
    "## Preprocessing\n",
    "### Case Folding "
   ]
  },
  {
   "cell_type": "code",
   "execution_count": 82,
   "metadata": {
    "scrolled": true
   },
   "outputs": [
    {
     "name": "stdout",
     "output_type": "stream",
     "text": [
      "partai keadilan sejahtera pks menyatakan mendukung rencana menteri pendidikan dan kebudayaan nadiem makarim menghapus ujian nasional un dengan sejumlah catatan kami mendukung dihapuskannya un tapi tetap dengan catatan yang keras kata wakil ketua majelis syuro pks hidayat nur wahid usai rapat koordinasi wilayah dpw pks jawa timur di surabaya minggu menteri pendidikan dan kebudayaan nadiem makarim mengumumkan rencana mengganti un dengan asesmen kompetensi minimum dan survei karakter mulai tahun hidayat mengatakan bahwa sebaiknya pemerintah tidak tergesa gesa dalam menerapkan kebijakan tersebut penerapan kebijakan tersebut menurut dia membutuhkan kajian mendalam karena berkaitan dengan pembangunan sumber daya manusia yang terpenting juga adanya kebijakan kebijakan itu dalam rangka mendukung serta mendorong peningkatan kualitas pendidikan sumber daya manusianya serta efek input maupun output nya kata wakil ketua mpr tersebut kalau un dihapuskan ia mengatakan sebaiknya pemerintah menyiapkan alternatif evaluasi bukan ujian nasional sudah dihapus lalu pelajar malah semakin malas dan tidak termotivasi untuk belajar jadi hadirkan alternatif yang bisa membuat pelajar indonesia tumbuh serta tambah berkualitas katanya\n"
     ]
    }
   ],
   "source": [
    "cf = []\n",
    "formatCF = ['number', 'email', 'usd', 'url']\n",
    "lowerCase = preprocess_text(result,\n",
    "                            fix_unicode=True, \n",
    "                            lowercase=True, \n",
    "                            no_urls=True,\n",
    "                            no_emails=True,\n",
    "                            no_phone_numbers=True,\n",
    "                            no_numbers=True,\n",
    "                            no_currency_symbols=True,\n",
    "                            no_punct=True)\n",
    "caseFolding = lowerCase.split()\n",
    "[cf.append(case) for case in caseFolding if case not in formatCF]\n",
    "caseFolding = ' '.join(cf)\n",
    "\n",
    "print(caseFolding)"
   ]
  },
  {
   "cell_type": "code",
   "execution_count": null,
   "metadata": {},
   "outputs": [],
   "source": []
  },
  {
   "cell_type": "markdown",
   "metadata": {},
   "source": [
    "## Preprocessing\n",
    "### Tokenization "
   ]
  },
  {
   "cell_type": "code",
   "execution_count": 24,
   "metadata": {},
   "outputs": [],
   "source": [
    "import nltk"
   ]
  },
  {
   "cell_type": "code",
   "execution_count": 25,
   "metadata": {
    "scrolled": true
   },
   "outputs": [
    {
     "name": "stdout",
     "output_type": "stream",
     "text": [
      "['setelah', 'mengkonfirmasi', 'peluncuran', 'realme', 'x2', 'pro', 'beberapa', 'hari', 'lalu', 'realme', 'mengumumkan', 'akan', 'meluncurkan', 'realme', '5s', 'bersamaan', 'dengan', 'dengan', 'realme', 'x2', 'pro', 'rabu', 'lusa', 'november', 'kali', 'ini', 'kami', 'membawa', 'ke', 'tingkat', 'yang', 'lebih', 'tinggi', 'melalui', 'konfigurasi', 'ai', 'quad', 'camera', '48mp', 'yang', 'benar', 'benar', 'baru', 'demi', 'memberikan', 'pengalaman', 'mobile', 'photography', 'berdefinisi', 'tinggi', 'layaknya', 'kelas', 'flagship', 'yaitu', 'realme', '5s', 'ujar', 'senior', 'brand', 'manager', 'realme', 'indonesia', 'palson', 'yi', 'dalam', 'keterangannya', 'senin', 'november', 'realme', '5s', 'akan', 'membawa', 'ciri', 'khas', 'realme', 'mulai', 'dari', 'baterai', 'besar', 'prosesor', 'yang', 'kuat', 'di', 'kelasnya', 'dan', 'quad', 'camera', 'sistem', 'mp', 'quad', 'camera', 'terbaru', 'dari', 'realme', '5s', 'dapat', 'mengambil', 'foto', 'resolusi', 'tinggi', '8000x6000', 'piksel', 'sehingga', 'menghasilkan', 'gambar', 'yang', 'jelas', 'dan', 'dengan', 'detail', 'halus', 'bahkan', 'setelah', 'diperbesar', 'atau', 'di', 'crop', 'selain', 'itu', 'realme', '5s', 'mengadopsi', 'teknologi', 'tetracell', 'yang', 'menggabungkan', 'empat', 'piksel', 'menjadi', 'satu', 'piksel', 'besar', '6μm', 'untuk', 'menghasilkan', 'foto', 'mp', 'dengan', 'gambar', 'lebih', 'jelas', 'hasil', 'jepretan', 'memiliki', 'kualitas', 'lebih', 'tinggi', 'dalam', 'kondisi', 'cahaya', 'rendah', 'menurut', 'yi', 'sejak', 'diluncurkan', 'seri', 'realme', 'diterima', 'baik', 'oleh', 'konsumen', 'dengan', 'ulasan', 'positif', 'yang', 'patut', 'diperhatikan', 'adalah', 'realme', 'merupakan', 'produk', 'pertama', 'di', 'segmennya', 'dengan', 'fitur', 'quad', 'camera', 'harga', 'di', 'bawah', 'rp', 'juta', 'dan', 'memberikan', 'pengguna', 'pengalaman', 'kamera', 'multi', 'scene', 'dan', 'multi', 'fungsi', 'yang', 'ditingkatkan', 'tutur', 'yi', 'smartphone', 'ini', 'juga', 'mendukung', 'fungsi', 'pemotretan', 'inovatif', 'lainnya', 'termasuk', 'super', 'nightscape', 'dan', 'chroma', 'boost', 'fitur', 'fitur', 'ini', 'dikombinasikan', 'dengan', 'teknologi', 'ai', 'dan', 'algoritma', 'pemrosesan', 'realme', 'yang', 'disetel', 'sehingga', 'memungkinkan', 'realme', '5s', 'menjadi', 'perangkat', 'berstandar', 'dunia', 'mobile', 'photography', 'realme', '5s', 'menampilkan', 'pola', 'warna', 'holografis', 'klasik', 'dengan', 'desain', 'diamond', 'cut', 'dan', 'hadir', 'dalam', 'warna', 'baru', 'crystal', 'red', 'dari', 'segi', 'kinerja', 'smartphone', 'ditenagai', 'prosesor', 'qualcomm', 'snapdragon', 'aie', 'nm', 'dipadukan', 'baterai', 'besar', 'mah', 'dari', 'segi', 'kapasitas', 'memori', 'ram', 'dan', 'ruang', 'penyimpanan', 'realme', '5s', 'akan', 'hadir', 'dengan', 'varian', 'gb', 'gb']\n"
     ]
    }
   ],
   "source": [
    "tokens = nltk.tokenize.word_tokenize(caseFolding)\n",
    "print(tokens)"
   ]
  },
  {
   "cell_type": "code",
   "execution_count": 26,
   "metadata": {
    "scrolled": true
   },
   "outputs": [
    {
     "name": "stdout",
     "output_type": "stream",
     "text": [
      "[('realme', 16), ('dengan', 9), ('5s', 8), ('yang', 8), ('dan', 8), ('tinggi', 4), ('quad', 4), ('camera', 4), ('dari', 4), ('di', 4), ('akan', 3), ('ini', 3), ('lebih', 3), ('yi', 3), ('dalam', 3), ('besar', 3), ('piksel', 3), ('fitur', 3), ('setelah', 2), ('x2', 2), ('pro', 2), ('november', 2), ('membawa', 2), ('ai', 2), ('benar', 2), ('baru', 2), ('memberikan', 2), ('pengalaman', 2), ('mobile', 2), ('photography', 2), ('baterai', 2), ('prosesor', 2), ('mp', 2), ('foto', 2), ('sehingga', 2), ('menghasilkan', 2), ('gambar', 2), ('jelas', 2), ('teknologi', 2), ('menjadi', 2), ('multi', 2), ('fungsi', 2), ('smartphone', 2), ('warna', 2), ('hadir', 2), ('segi', 2), ('gb', 2), ('mengkonfirmasi', 1), ('peluncuran', 1), ('beberapa', 1), ('hari', 1), ('lalu', 1), ('mengumumkan', 1), ('meluncurkan', 1), ('bersamaan', 1), ('rabu', 1), ('lusa', 1), ('kali', 1), ('kami', 1), ('ke', 1), ('tingkat', 1), ('melalui', 1), ('konfigurasi', 1), ('48mp', 1), ('demi', 1), ('berdefinisi', 1), ('layaknya', 1), ('kelas', 1), ('flagship', 1), ('yaitu', 1), ('ujar', 1), ('senior', 1), ('brand', 1), ('manager', 1), ('indonesia', 1), ('palson', 1), ('keterangannya', 1), ('senin', 1), ('ciri', 1), ('khas', 1), ('mulai', 1), ('kuat', 1), ('kelasnya', 1), ('sistem', 1), ('terbaru', 1), ('dapat', 1), ('mengambil', 1), ('resolusi', 1), ('8000x6000', 1), ('detail', 1), ('halus', 1), ('bahkan', 1), ('diperbesar', 1), ('atau', 1), ('crop', 1), ('selain', 1), ('itu', 1), ('mengadopsi', 1), ('tetracell', 1), ('menggabungkan', 1), ('empat', 1), ('satu', 1), ('6μm', 1), ('untuk', 1), ('hasil', 1), ('jepretan', 1), ('memiliki', 1), ('kualitas', 1), ('kondisi', 1), ('cahaya', 1), ('rendah', 1), ('menurut', 1), ('sejak', 1), ('diluncurkan', 1), ('seri', 1), ('diterima', 1), ('baik', 1), ('oleh', 1), ('konsumen', 1), ('ulasan', 1), ('positif', 1), ('patut', 1), ('diperhatikan', 1), ('adalah', 1), ('merupakan', 1), ('produk', 1), ('pertama', 1), ('segmennya', 1), ('harga', 1), ('bawah', 1), ('rp', 1), ('juta', 1), ('pengguna', 1), ('kamera', 1), ('scene', 1), ('ditingkatkan', 1), ('tutur', 1), ('juga', 1), ('mendukung', 1), ('pemotretan', 1), ('inovatif', 1), ('lainnya', 1), ('termasuk', 1), ('super', 1), ('nightscape', 1), ('chroma', 1), ('boost', 1), ('dikombinasikan', 1), ('algoritma', 1), ('pemrosesan', 1), ('disetel', 1), ('memungkinkan', 1), ('perangkat', 1), ('berstandar', 1), ('dunia', 1), ('menampilkan', 1), ('pola', 1), ('holografis', 1), ('klasik', 1), ('desain', 1), ('diamond', 1), ('cut', 1), ('crystal', 1), ('red', 1), ('kinerja', 1), ('ditenagai', 1), ('qualcomm', 1), ('snapdragon', 1), ('aie', 1), ('nm', 1), ('dipadukan', 1), ('mah', 1), ('kapasitas', 1), ('memori', 1), ('ram', 1), ('ruang', 1), ('penyimpanan', 1), ('varian', 1)]\n"
     ]
    }
   ],
   "source": [
    "kemunculan = nltk.FreqDist(tokens)\n",
    "print(kemunculan.most_common())"
   ]
  },
  {
   "cell_type": "code",
   "execution_count": 27,
   "metadata": {},
   "outputs": [
    {
     "data": {
      "image/png": "[encoded data removed]",
      "text/plain": [
       "<Figure size 432x288 with 1 Axes>"
      ]
     },
     "metadata": {
      "needs_background": "light"
     },
     "output_type": "display_data"
    }
   ],
   "source": [
    "import matplotlib.pyplot as plt\n",
    "kemunculan.plot(20,cumulative=False)\n",
    "plt.show()"
   ]
  },
  {
   "cell_type": "markdown",
   "metadata": {},
   "source": [
    "## Preprocessing\n",
    "### Filtering (Stopword Removal)"
   ]
  },
  {
   "cell_type": "code",
   "execution_count": 83,
   "metadata": {},
   "outputs": [],
   "source": [
    "stopwords = requests.get(\"https://raw.githubusercontent.com/masdevid/ID-Stopwords/master/id.stopwords.02.01.2016.txt\").text.split(\"\\n\")"
   ]
  },
  {
   "cell_type": "code",
   "execution_count": 84,
   "metadata": {},
   "outputs": [],
   "source": [
    "text_stopword = []\n",
    "words = caseFolding.split()\n",
    "for word in words:\n",
    "    if word not in stopwords: text_stopword.append(word)"
   ]
  },
  {
   "cell_type": "code",
   "execution_count": 85,
   "metadata": {},
   "outputs": [],
   "source": [
    "resultFiltering = ' '.join(text_stopword)"
   ]
  },
  {
   "cell_type": "markdown",
   "metadata": {},
   "source": [
    "### Result"
   ]
  },
  {
   "cell_type": "code",
   "execution_count": 86,
   "metadata": {
    "scrolled": true
   },
   "outputs": [
    {
     "name": "stdout",
     "output_type": "stream",
     "text": [
      "partai keadilan sejahtera pks mendukung rencana menteri pendidikan kebudayaan nadiem makarim menghapus ujian nasional un catatan mendukung dihapuskannya un catatan keras wakil ketua majelis syuro pks hidayat nur wahid rapat koordinasi wilayah dpw pks jawa timur surabaya minggu menteri pendidikan kebudayaan nadiem makarim mengumumkan rencana mengganti un asesmen kompetensi minimum survei karakter hidayat pemerintah tergesa gesa menerapkan kebijakan penerapan kebijakan membutuhkan kajian mendalam berkaitan pembangunan sumber daya manusia terpenting kebijakan kebijakan rangka mendukung mendorong peningkatan kualitas pendidikan sumber daya manusianya efek input output nya wakil ketua mpr un dihapuskan pemerintah alternatif evaluasi ujian nasional dihapus pelajar malas termotivasi belajar hadirkan alternatif pelajar indonesia tumbuh berkualitas\n"
     ]
    }
   ],
   "source": [
    "print(resultFiltering)"
   ]
  },
  {
   "cell_type": "code",
   "execution_count": null,
   "metadata": {},
   "outputs": [],
   "source": []
  },
  {
   "cell_type": "markdown",
   "metadata": {},
   "source": [
    "## Preprocessing\n",
    "### Stemming"
   ]
  },
  {
   "cell_type": "code",
   "execution_count": 87,
   "metadata": {},
   "outputs": [],
   "source": [
    "# import StemmerFactory class\n",
    "from Sastrawi.Stemmer.StemmerFactory import StemmerFactory\n",
    "\n",
    "# create stemmer\n",
    "factory = StemmerFactory()\n",
    "stemmer = factory.create_stemmer()"
   ]
  },
  {
   "cell_type": "code",
   "execution_count": 88,
   "metadata": {},
   "outputs": [
    {
     "name": "stdout",
     "output_type": "stream",
     "text": [
      "partai adil sejahtera pks dukung rencana menteri didik budaya nadiem makarim hapus uji nasional un catat dukung hapus un catat keras wakil ketua majelis syuro pks hidayat nur wahid rapat koordinasi wilayah dpw pks jawa timur surabaya minggu menteri didik budaya nadiem makarim umum rencana ganti un asesmen kompetensi minimum survei karakter hidayat perintah gesa gesa terap bijak terap bijak butuh kaji dalam kait bangun sumber daya manusia penting bijak bijak rangka dukung dorong tingkat kualitas didik sumber daya manusia efek input output nya wakil ketua mpr un hapus perintah alternatif evaluasi uji nasional hapus ajar malas motivasi ajar hadir alternatif ajar indonesia tumbuh kualitas\n"
     ]
    }
   ],
   "source": [
    "# stemming process\n",
    "output   = stemmer.stem(resultFiltering)\n",
    "\n",
    "print(output)"
   ]
  },
  {
   "cell_type": "code",
   "execution_count": null,
   "metadata": {},
   "outputs": [],
   "source": []
  },
  {
   "cell_type": "code",
   "execution_count": null,
   "metadata": {},
   "outputs": [],
   "source": []
  },
  {
   "cell_type": "markdown",
   "metadata": {},
   "source": [
    "## Comparing"
   ]
  },
  {
   "cell_type": "code",
   "execution_count": 89,
   "metadata": {},
   "outputs": [
    {
     "name": "stdout",
     "output_type": "stream",
     "text": [
      "Real Content\n",
      "==========================\n",
      "\n",
      "TEMPO.CO, Jakarta - Partai Keadilan Sejahtera (PKS) menyatakan mendukung rencana Menteri Pendidikan dan Kebudayaan Nadiem Makarim menghapus Ujian Nasional (UN) dengan sejumlah catatan.\n",
      "\n",
      "\"Kami mendukung dihapuskannya UN, tapi tetap dengan catatan yang keras,\" kata Wakil Ketua Majelis Syuro PKS Hidayat Nur Wahid usai Rapat Koordinasi Wilayah DPW PKS Jawa Timur di Surabaya, Minggu.\n",
      "\n",
      "Menteri Pendidikan dan Kebudayaan Nadiem Makarim mengumumkan rencana mengganti UN dengan Asesmen Kompetensi Minimum dan Survei Karakter mulai tahun 2021.\n",
      "\n",
      "Hidayat mengatakan bahwa sebaiknya pemerintah tidak tergesa-gesa dalam menerapkan kebijakan tersebut. Penerapan kebijakan tersebut, menurut dia, membutuhkan kajian mendalam karena berkaitan dengan pembangunan sumber daya manusia.\n",
      "\n",
      "\"Yang terpenting juga, adanya kebijakan-kebijakan itu dalam rangka mendukung serta mendorong peningkatan kualitas pendidikan, sumber daya manusianya serta efek input maupun output-nya,\" kata Wakil Ketua MPR tersebut.\n",
      "\n",
      "Kalau UN dihapuskan, ia mengatakan, sebaiknya pemerintah menyiapkan alternatif evaluasi.\n",
      "\n",
      "\"Bukan Ujian Nasional sudah dihapus lalu pelajar malah semakin malas dan tidak termotivasi untuk belajar. Jadi, hadirkan alternatif yang bisa membuat pelajar Indonesia tumbuh serta tambah berkualitas,\" katanya.\n",
      "\n",
      "\n",
      "Case Folding\n",
      "==========================\n",
      "\n",
      "partai keadilan sejahtera pks menyatakan mendukung rencana menteri pendidikan dan kebudayaan nadiem makarim menghapus ujian nasional un dengan sejumlah catatan kami mendukung dihapuskannya un tapi tetap dengan catatan yang keras kata wakil ketua majelis syuro pks hidayat nur wahid usai rapat koordinasi wilayah dpw pks jawa timur di surabaya minggu menteri pendidikan dan kebudayaan nadiem makarim mengumumkan rencana mengganti un dengan asesmen kompetensi minimum dan survei karakter mulai tahun hidayat mengatakan bahwa sebaiknya pemerintah tidak tergesa gesa dalam menerapkan kebijakan tersebut penerapan kebijakan tersebut menurut dia membutuhkan kajian mendalam karena berkaitan dengan pembangunan sumber daya manusia yang terpenting juga adanya kebijakan kebijakan itu dalam rangka mendukung serta mendorong peningkatan kualitas pendidikan sumber daya manusianya serta efek input maupun output nya kata wakil ketua mpr tersebut kalau un dihapuskan ia mengatakan sebaiknya pemerintah menyiapkan alternatif evaluasi bukan ujian nasional sudah dihapus lalu pelajar malah semakin malas dan tidak termotivasi untuk belajar jadi hadirkan alternatif yang bisa membuat pelajar indonesia tumbuh serta tambah berkualitas katanya\n",
      "\n",
      "Stemming \n",
      "==========================\n",
      "\n",
      "partai adil sejahtera pks dukung rencana menteri didik budaya nadiem makarim hapus uji nasional un catat dukung hapus un catat keras wakil ketua majelis syuro pks hidayat nur wahid rapat koordinasi wilayah dpw pks jawa timur surabaya minggu menteri didik budaya nadiem makarim umum rencana ganti un asesmen kompetensi minimum survei karakter hidayat perintah gesa gesa terap bijak terap bijak butuh kaji dalam kait bangun sumber daya manusia penting bijak bijak rangka dukung dorong tingkat kualitas didik sumber daya manusia efek input output nya wakil ketua mpr un hapus perintah alternatif evaluasi uji nasional hapus ajar malas motivasi ajar hadir alternatif ajar indonesia tumbuh kualitas\n"
     ]
    }
   ],
   "source": [
    "print('Real Content')\n",
    "print('==========================\\n')\n",
    "print(temp['content'])\n",
    "print('Case Folding')\n",
    "print('==========================\\n')\n",
    "print(caseFolding)\n",
    "print()\n",
    "print('Stemming ')\n",
    "print('==========================\\n')\n",
    "print(output)"
   ]
  },
  {
   "cell_type": "code",
   "execution_count": null,
   "metadata": {},
   "outputs": [],
   "source": []
  },
  {
   "cell_type": "code",
   "execution_count": null,
   "metadata": {},
   "outputs": [],
   "source": []
  },
  {
   "cell_type": "code",
   "execution_count": null,
   "metadata": {},
   "outputs": [],
   "source": []
  },
  {
   "cell_type": "code",
   "execution_count": 13,
   "metadata": {},
   "outputs": [],
   "source": [
    "import pymongo"
   ]
  },
  {
   "cell_type": "code",
   "execution_count": 11,
   "metadata": {},
   "outputs": [],
   "source": [
    "url = '''https://metro.tempo.co/read/1283868/anies-gowes-sepeda-bareng-warga-di-jakarta-timur'''"
   ]
  },
  {
   "cell_type": "code",
   "execution_count": 51,
   "metadata": {},
   "outputs": [],
   "source": [
    "myClient = pymongo.MongoClient(\"mongodb://localhost:27017\")\n",
    "myDB = myClient.iStorage\n",
    "myCollection = myDB.iAfter\n",
    "collection = myDB.iData"
   ]
  },
  {
   "cell_type": "code",
   "execution_count": 53,
   "metadata": {},
   "outputs": [],
   "source": [
    "iQuery = myCollection.find().limit(2)"
   ]
  },
  {
   "cell_type": "code",
   "execution_count": 54,
   "metadata": {},
   "outputs": [],
   "source": [
    "data = []\n",
    "for q in iQuery: data.append(q) "
   ]
  },
  {
   "cell_type": "code",
   "execution_count": 55,
   "metadata": {},
   "outputs": [],
   "source": [
    "data[0]['status'] = 'yes'"
   ]
  },
  {
   "cell_type": "code",
   "execution_count": 57,
   "metadata": {
    "scrolled": true
   },
   "outputs": [
    {
     "name": "stderr",
     "output_type": "stream",
     "text": [
      "/home/lumierra/Project-Python/.env/lib/python3.6/site-packages/ipykernel_launcher.py:1: DeprecationWarning: insert is deprecated. Use insert_one or insert_many instead.\n",
      "  \"\"\"Entry point for launching an IPython kernel.\n"
     ]
    },
    {
     "data": {
      "text/plain": [
       "ObjectId('5df595fc9623d3a94da6c0a9')"
      ]
     },
     "execution_count": 57,
     "metadata": {},
     "output_type": "execute_result"
    }
   ],
   "source": [
    "collection.insert(data[1])"
   ]
  },
  {
   "cell_type": "code",
   "execution_count": null,
   "metadata": {},
   "outputs": [],
   "source": []
  },
  {
   "cell_type": "code",
   "execution_count": 58,
   "metadata": {},
   "outputs": [],
   "source": [
    "url = '''https://bisnis.tempo.co/read/1283856/menolak-jadi-bos-bumn-sandiaga-saya-tetap-bantu-erick-thohir'''"
   ]
  },
  {
   "cell_type": "code",
   "execution_count": 59,
   "metadata": {},
   "outputs": [],
   "source": [
    "query = collection.find({\n",
    "    'url' : url\n",
    "})"
   ]
  },
  {
   "cell_type": "code",
   "execution_count": 60,
   "metadata": {},
   "outputs": [],
   "source": [
    "temp = []\n",
    "for q in query: temp.append(q)"
   ]
  },
  {
   "cell_type": "code",
   "execution_count": 62,
   "metadata": {},
   "outputs": [
    {
     "data": {
      "text/plain": [
       "dict"
      ]
     },
     "execution_count": 62,
     "metadata": {},
     "output_type": "execute_result"
    }
   ],
   "source": [
    "type(data[1])"
   ]
  },
  {
   "cell_type": "code",
   "execution_count": null,
   "metadata": {},
   "outputs": [],
   "source": []
  }
 ],
 "metadata": {
  "kernelspec": {
   "display_name": "Python 3",
   "language": "python",
   "name": "python3"
  },
  "language_info": {
   "codemirror_mode": {
    "name": "ipython",
    "version": 3
   },
   "file_extension": ".py",
   "mimetype": "text/x-python",
   "name": "python",
   "nbconvert_exporter": "python",
   "pygments_lexer": "ipython3",
   "version": "3.6.6+"
  }
 },
 "nbformat": 4,
 "nbformat_minor": 2
}
