{
 "cells": [
  {
   "cell_type": "markdown",
   "metadata": {},
   "source": [
    "# Import Library"
   ]
  },
  {
   "cell_type": "code",
   "execution_count": 1,
   "metadata": {},
   "outputs": [],
   "source": [
    "import id_aldo\n",
    "import requests\n",
    "import datetime\n",
    "import id_beritagar as indo\n",
    "from pprint import pprint\n",
    "from bs4 import BeautifulSoup\n",
    "from tqdm import tqdm, tqdm_notebook\n",
    "from textacy.preprocess import  preprocess_text"
   ]
  },
  {
   "cell_type": "code",
   "execution_count": null,
   "metadata": {},
   "outputs": [],
   "source": []
  },
  {
   "cell_type": "markdown",
   "metadata": {},
   "source": [
    "# Set Default Variable"
   ]
  },
  {
   "cell_type": "code",
   "execution_count": 2,
   "metadata": {},
   "outputs": [],
   "source": [
    "# Set Datetime\n",
    "now = datetime.date.today()"
   ]
  },
  {
   "cell_type": "code",
   "execution_count": null,
   "metadata": {},
   "outputs": [],
   "source": []
  },
  {
   "cell_type": "code",
   "execution_count": null,
   "metadata": {},
   "outputs": [],
   "source": []
  },
  {
   "cell_type": "code",
   "execution_count": null,
   "metadata": {},
   "outputs": [],
   "source": []
  },
  {
   "cell_type": "code",
   "execution_count": null,
   "metadata": {},
   "outputs": [],
   "source": []
  },
  {
   "cell_type": "code",
   "execution_count": null,
   "metadata": {},
   "outputs": [],
   "source": []
  },
  {
   "cell_type": "markdown",
   "metadata": {},
   "source": [
    "# Get Data with Scrapping Method\n",
    "## Data From Tempo.co"
   ]
  },
  {
   "cell_type": "code",
   "execution_count": 2,
   "metadata": {},
   "outputs": [],
   "source": [
    "url = '''https://www.tempo.co/indeks/2019/11/10/tekno'''\n",
    "response = requests.get(url).text\n",
    "soup = BeautifulSoup(response, \"html5lib\")"
   ]
  },
  {
   "cell_type": "code",
   "execution_count": 3,
   "metadata": {},
   "outputs": [],
   "source": [
    "# Get Content\n",
    "contents = soup.select('.list.list-type-1 > ul > li')"
   ]
  },
  {
   "cell_type": "markdown",
   "metadata": {},
   "source": [
    "### Result of Contents"
   ]
  },
  {
   "cell_type": "code",
   "execution_count": 4,
   "metadata": {
    "scrolled": true
   },
   "outputs": [
    {
     "data": {
      "text/plain": [
       "[<li>\n",
       " \t\t\t\t\t <div class=\"card card-type-1\">\n",
       " \t\t\t\t\t\t <div class=\"wrapper clearfix\">\n",
       " \t\t\t\t\t\t\t <a class=\"col\" href=\"https://tekno.tempo.co/read/1270342/lg-sabet-penghargaan-2020-ces-innovation-awards\">\n",
       " \t\t\t\t\t\t\t\t <img src=\"https://statik.tempo.co/data/2019/04/11/id_833520/833520_400.jpg\"/>\n",
       " \t\t\t\t\t\t\t </a>\n",
       " \t\t\t\t\t\t\t <a class=\"col\" href=\"https://tekno.tempo.co/read/1270342/lg-sabet-penghargaan-2020-ces-innovation-awards\">\n",
       " \t\t\t\t\t\t\t\t <h2 class=\"title\">LG Sabet Penghargaan 2020 CES Innovation Awards</h2>\n",
       " \t\t\t\t\t\t\t\t <p>Penghargaan Best of Innovation Award bagi TV OLED LG diberikan dari kategori penampil video.</p>\n",
       " \t\t\t\t\t\t\t\t <span class=\"col\">10 November 2019 00:10 WIB</span>\n",
       " \t\t\t\t\t\t\t </a>\n",
       " \t\t\t\t\t\t </div>\n",
       " \t\t\t\t\t </div>\n",
       " \t\t\t\t </li>, <li>\n",
       " \t\t\t\t\t <div class=\"card card-type-1\">\n",
       " \t\t\t\t\t\t <div class=\"wrapper clearfix\">\n",
       " \t\t\t\t\t\t\t <a class=\"col\" href=\"https://tekno.tempo.co/read/1270311/uob-kenalkan-program-u-solar-transisi-ke-listrik-tenaga-surya\">\n",
       " \t\t\t\t\t\t\t\t <img src=\"https://statik.tempo.co/data/2019/11/09/id_887704/887704_400.jpg\"/>\n",
       " \t\t\t\t\t\t\t </a>\n",
       " \t\t\t\t\t\t\t <a class=\"col\" href=\"https://tekno.tempo.co/read/1270311/uob-kenalkan-program-u-solar-transisi-ke-listrik-tenaga-surya\">\n",
       " \t\t\t\t\t\t\t\t <h2 class=\"title\">UoB Kenalkan Program U-Solar, Transisi ke Listrik Tenaga Surya</h2>\n",
       " \t\t\t\t\t\t\t\t <p>UoB menilai listrik tenaga surya menjadi energi baru terbarukan alternatif untuk fenomena perubahan iklim.</p>\n",
       " \t\t\t\t\t\t\t\t <span class=\"col\">10 November 2019 00:05 WIB</span>\n",
       " \t\t\t\t\t\t\t </a>\n",
       " \t\t\t\t\t\t </div>\n",
       " \t\t\t\t\t </div>\n",
       " \t\t\t\t </li>, <li>\n",
       " \t\t\t\t\t <div class=\"card card-type-1\">\n",
       " \t\t\t\t\t\t <div class=\"wrapper clearfix\">\n",
       " \t\t\t\t\t\t\t <a class=\"col\" href=\"https://tekno.tempo.co/read/1270302/siswa-jis-buat-aplikasi-bapat-panduan-saat-bencana\">\n",
       " \t\t\t\t\t\t\t\t <img src=\"https://statik.tempo.co/data/2019/11/09/id_887866/887866_400.jpg\"/>\n",
       " \t\t\t\t\t\t\t </a>\n",
       " \t\t\t\t\t\t\t <a class=\"col\" href=\"https://tekno.tempo.co/read/1270302/siswa-jis-buat-aplikasi-bapat-panduan-saat-bencana\">\n",
       " \t\t\t\t\t\t\t\t <h2 class=\"title\">Siswa JIS Buat Aplikasi BAPAT, Panduan Saat Bencana</h2>\n",
       " \t\t\t\t\t\t\t\t <p>Aplikasi BAPAT bertujuan untuk menyediakan panduan bertindak saat bencana alam datang.</p>\n",
       " \t\t\t\t\t\t\t\t <span class=\"col\">10 November 2019 00:01 WIB</span>\n",
       " \t\t\t\t\t\t\t </a>\n",
       " \t\t\t\t\t\t </div>\n",
       " \t\t\t\t\t </div>\n",
       " \t\t\t\t </li>]"
      ]
     },
     "execution_count": 4,
     "metadata": {},
     "output_type": "execute_result"
    }
   ],
   "source": [
    "contents"
   ]
  },
  {
   "cell_type": "code",
   "execution_count": null,
   "metadata": {},
   "outputs": [],
   "source": []
  },
  {
   "cell_type": "markdown",
   "metadata": {},
   "source": [
    "### Clean HTML"
   ]
  },
  {
   "cell_type": "code",
   "execution_count": 5,
   "metadata": {},
   "outputs": [
    {
     "name": "stderr",
     "output_type": "stream",
     "text": [
      "100%|██████████| 3/3 [00:00<00:00, 2210.63it/s]\n"
     ]
    }
   ],
   "source": [
    "# Save the Data Into List with Json Format\n",
    "data = []\n",
    "for content in tqdm(contents):\n",
    "    urlTempo = content.select_one('a')['href']\n",
    "    categoryTempo = url.split('/')[7]\n",
    "    titleTempo = content.select_one('.title').text\n",
    "    dateTempo = url.split('/')[6] + '-' + url.split('/')[5] + '-' + url.split('/')[4]\n",
    "    \n",
    "    json = {\n",
    "        'category': categoryTempo,\n",
    "        'title': titleTempo,\n",
    "        'description': '',\n",
    "        'url': urlTempo,\n",
    "        'content': '',\n",
    "        'img': '',\n",
    "        'subCategory': '',\n",
    "        'publishedAt': dateTempo,\n",
    "        'source': 'tempo.co',\n",
    "        'cleanContent': ''\n",
    "    }\n",
    "    \n",
    "    data.append(json)"
   ]
  },
  {
   "cell_type": "markdown",
   "metadata": {},
   "source": [
    "### Result"
   ]
  },
  {
   "cell_type": "code",
   "execution_count": 6,
   "metadata": {},
   "outputs": [
    {
     "name": "stdout",
     "output_type": "stream",
     "text": [
      "Total Artikel : 3\n",
      "================================\n",
      "\n",
      "[{'category': 'tekno',\n",
      "  'cleanContent': '',\n",
      "  'content': '',\n",
      "  'description': '',\n",
      "  'img': '',\n",
      "  'publishedAt': '10-11-2019',\n",
      "  'source': 'tempo.co',\n",
      "  'subCategory': '',\n",
      "  'title': 'LG Sabet Penghargaan 2020 CES Innovation Awards',\n",
      "  'url': 'https://tekno.tempo.co/read/1270342/lg-sabet-penghargaan-2020-ces-innovation-awards'},\n",
      " {'category': 'tekno',\n",
      "  'cleanContent': '',\n",
      "  'content': '',\n",
      "  'description': '',\n",
      "  'img': '',\n",
      "  'publishedAt': '10-11-2019',\n",
      "  'source': 'tempo.co',\n",
      "  'subCategory': '',\n",
      "  'title': 'UoB Kenalkan Program U-Solar, Transisi ke Listrik Tenaga Surya',\n",
      "  'url': 'https://tekno.tempo.co/read/1270311/uob-kenalkan-program-u-solar-transisi-ke-listrik-tenaga-surya'},\n",
      " {'category': 'tekno',\n",
      "  'cleanContent': '',\n",
      "  'content': '',\n",
      "  'description': '',\n",
      "  'img': '',\n",
      "  'publishedAt': '10-11-2019',\n",
      "  'source': 'tempo.co',\n",
      "  'subCategory': '',\n",
      "  'title': 'Siswa JIS Buat Aplikasi BAPAT, Panduan Saat Bencana',\n",
      "  'url': 'https://tekno.tempo.co/read/1270302/siswa-jis-buat-aplikasi-bapat-panduan-saat-bencana'}]\n"
     ]
    }
   ],
   "source": [
    "print('Total Artikel : {}'.format(len(data)))\n",
    "print('================================\\n')\n",
    "pprint(data)"
   ]
  },
  {
   "cell_type": "code",
   "execution_count": null,
   "metadata": {},
   "outputs": [],
   "source": []
  },
  {
   "cell_type": "markdown",
   "metadata": {},
   "source": [
    "## Get Content Articles"
   ]
  },
  {
   "cell_type": "code",
   "execution_count": 7,
   "metadata": {},
   "outputs": [],
   "source": [
    "urlContent = data[0]['url']\n",
    "responseContent = requests.get(urlContent).text\n",
    "soupContent = BeautifulSoup(responseContent, \"html5lib\")"
   ]
  },
  {
   "cell_type": "code",
   "execution_count": 8,
   "metadata": {},
   "outputs": [],
   "source": [
    "# Get Sub Category and Image\n",
    "subCategory = soupContent.select('.breadcrumbs > li ')[1].text\n",
    "image = soupContent.select_one('figure > a')['href']"
   ]
  },
  {
   "cell_type": "code",
   "execution_count": 9,
   "metadata": {},
   "outputs": [],
   "source": [
    "articles = soupContent.select('#isi > p')"
   ]
  },
  {
   "cell_type": "markdown",
   "metadata": {},
   "source": [
    "### Content of Articles"
   ]
  },
  {
   "cell_type": "code",
   "execution_count": 10,
   "metadata": {
    "scrolled": true
   },
   "outputs": [
    {
     "name": "stdout",
     "output_type": "stream",
     "text": [
      "TEMPO.CO, Jakarta - Inovasi LG Electronics (LG) mendapatkan penghargaan 2020 CES Innovation Awards, yaitu TV OLED LG sebagai pemenang Best of Innovation Award. Raihan ini sekaligus mencatatkan kesuksesan LG dalam menyabet penghargaan yang sama sepanjang delapan tahun berturut-turut.\n",
      "\n",
      "CES Innovation Awards merupakan ajang kompetisi global tahunan yang memberikan apresiasi pada produk teknologi bagi konsumer atas desain dan inovasi teknologi yang dibawanya. Terdapat 28 kategori yang dipertandingkan dengan panel penilai berasal dari jajaran ahli, media, desainer dan lainnya.\n",
      "\n",
      "Dihelat oleh Consumer Technology Association yang menjadi standar dan merepresentasikan lebih dari 2.200 perusahaan produk teknologi bagi consumer, ajang ini menjelma menjadi kompetisi paling bergengsi yang menyajikan berbagai inovasi terkini dalam industri elektronik consumer.\n",
      "\n",
      "Penghargaan Best of Innovation Award bagi TV OLED LG diberikan dari kategori penampil video. Pencapaian ini memperpanjang pengakuan terhadap keunggulan teknologi TV OLED LG dengan meraih penghargaan ini tiga kali sepanjang lima tahun terakhir.\n",
      "\n",
      "Pada kategori produk elektronik hiburan dalam rumah, catatan utama keberhasilan LG meraih penghargaan 2020 CES Innovation Awards berasal dari pengembangan generasi terbaru TV OLED LG dengan ATSC 3.0.\n",
      "\n",
      "TV OLED LG yang dikatakan akan membuka era bagi TV generasi selanjutnya ini akan diperkenalkan resmi pada gelaran Consumer Electronics Show 2020 pada bulan Januari nanti. Pada gelaran tersebut pula, LG akan mengumumkan lengkap produknya dari kategori perangkat elektronik hiburan dalam rumah yang turut menerima penghargaan.\n",
      "\n",
      "Dari jajaran kategori produk elektronik rumah tangga, penghargaan 2020 CES Innovation Award salah satunya diterima LG berkat inovasinya pada kulkas LG InstaView Door-in-Door yang tercatat sebagai yang pertama di dunia dengan keberadaan fitur Craft Ice.\n",
      "\n",
      "Penghargaan yang diterima tahun ini juga akan menjadi yang kedua kalinya bagi LG Styler dan perangkat air purifier portabel LG PuriCare Mini yang juga akan diperkenalkan resmi pada gelaran Consumer Electronics Show di tahun depan.\n",
      "\n",
      "Di bagian lain, setidaknya tiga smartphone LG pun berhasil menyabet penghargaan CES Inno-vation Award, termasuk di dalamnya yaitu LG G8X ThinQ yang dikenal dengan fitur Du-alScreen yang memanfaatkan panel OLED. Dua smartphone LG lainnya yang mendapat penghargaan yang sama yaitu LG V50 ThinQ yang mendukung pengoperasian dalam jaringan 5G dan LG G8 ThinQ.\n",
      "\n",
      "Daftar lengkap produk LG yang meraih penghargaan CES 2020 Innovation Awards akan diumumkan pada kegiatan paparan kepada media yang akan berlangsung pada 6 Januari mendatang bersamaan dengan dimulainya eksibisi Consumer Electronics Show atau CES 2020.\n",
      "\n"
     ]
    }
   ],
   "source": [
    "tempArticle = []\n",
    "for article in articles: \n",
    "    print(article.text.strip() + '\\n')\n",
    "    tempArticle.append(article.text.strip() + '\\n\\n')\n",
    "\n",
    "content = ''.join(tempArticle)"
   ]
  },
  {
   "cell_type": "code",
   "execution_count": null,
   "metadata": {},
   "outputs": [],
   "source": []
  },
  {
   "cell_type": "markdown",
   "metadata": {},
   "source": [
    "### Insert Article Into Data"
   ]
  },
  {
   "cell_type": "code",
   "execution_count": 11,
   "metadata": {},
   "outputs": [],
   "source": [
    "temp = []\n",
    "temp = data[0]"
   ]
  },
  {
   "cell_type": "code",
   "execution_count": 12,
   "metadata": {},
   "outputs": [],
   "source": [
    "temp['img'] = image\n",
    "temp['subCategory'] = subCategory\n",
    "temp['content'] = content"
   ]
  },
  {
   "cell_type": "markdown",
   "metadata": {},
   "source": [
    "### Result"
   ]
  },
  {
   "cell_type": "code",
   "execution_count": 13,
   "metadata": {
    "scrolled": true
   },
   "outputs": [
    {
     "name": "stdout",
     "output_type": "stream",
     "text": [
      "{'category': 'tekno',\n",
      " 'cleanContent': '',\n",
      " 'content': 'TEMPO.CO, Jakarta - Inovasi LG Electronics (LG) mendapatkan '\n",
      "            'penghargaan 2020 CES Innovation Awards, yaitu TV OLED LG sebagai '\n",
      "            'pemenang Best of Innovation Award. Raihan ini sekaligus '\n",
      "            'mencatatkan kesuksesan LG dalam menyabet penghargaan yang sama '\n",
      "            'sepanjang delapan tahun berturut-turut.\\n'\n",
      "            '\\n'\n",
      "            'CES Innovation Awards merupakan ajang kompetisi global tahunan '\n",
      "            'yang memberikan apresiasi pada produk teknologi bagi konsumer '\n",
      "            'atas desain dan inovasi teknologi yang dibawanya. Terdapat 28 '\n",
      "            'kategori yang dipertandingkan dengan panel penilai berasal dari '\n",
      "            'jajaran ahli, media, desainer dan lainnya.\\n'\n",
      "            '\\n'\n",
      "            'Dihelat oleh Consumer Technology Association yang menjadi standar '\n",
      "            'dan merepresentasikan lebih dari 2.200 perusahaan produk '\n",
      "            'teknologi bagi consumer, ajang ini menjelma menjadi kompetisi '\n",
      "            'paling bergengsi yang menyajikan berbagai inovasi terkini dalam '\n",
      "            'industri elektronik consumer.\\n'\n",
      "            '\\n'\n",
      "            'Penghargaan Best of Innovation Award bagi TV OLED LG diberikan '\n",
      "            'dari kategori penampil video. Pencapaian ini memperpanjang '\n",
      "            'pengakuan terhadap keunggulan teknologi TV OLED LG dengan meraih '\n",
      "            'penghargaan ini tiga kali sepanjang lima tahun terakhir.\\n'\n",
      "            '\\n'\n",
      "            'Pada kategori produk elektronik hiburan dalam rumah, catatan '\n",
      "            'utama keberhasilan LG meraih penghargaan 2020 CES Innovation '\n",
      "            'Awards berasal dari pengembangan generasi terbaru TV OLED LG '\n",
      "            'dengan ATSC 3.0.\\n'\n",
      "            '\\n'\n",
      "            'TV OLED LG yang dikatakan akan membuka era bagi TV generasi '\n",
      "            'selanjutnya ini akan diperkenalkan resmi pada gelaran Consumer '\n",
      "            'Electronics Show 2020 pada bulan Januari nanti. Pada gelaran '\n",
      "            'tersebut pula, LG akan mengumumkan lengkap produknya dari '\n",
      "            'kategori perangkat elektronik hiburan dalam rumah yang turut '\n",
      "            'menerima penghargaan.\\n'\n",
      "            '\\n'\n",
      "            'Dari jajaran kategori produk elektronik rumah tangga, penghargaan '\n",
      "            '2020 CES Innovation Award salah satunya diterima LG berkat '\n",
      "            'inovasinya pada kulkas LG InstaView Door-in-Door yang tercatat '\n",
      "            'sebagai yang pertama di dunia dengan keberadaan fitur Craft Ice.\\n'\n",
      "            '\\n'\n",
      "            'Penghargaan yang diterima tahun ini juga akan menjadi yang kedua '\n",
      "            'kalinya bagi LG Styler dan perangkat air purifier portabel LG '\n",
      "            'PuriCare Mini yang juga akan diperkenalkan resmi pada gelaran '\n",
      "            'Consumer Electronics Show di tahun depan.\\n'\n",
      "            '\\n'\n",
      "            'Di bagian lain, setidaknya tiga smartphone LG pun berhasil '\n",
      "            'menyabet penghargaan CES Inno-vation Award, termasuk di dalamnya '\n",
      "            'yaitu LG G8X ThinQ yang dikenal dengan fitur Du-alScreen yang '\n",
      "            'memanfaatkan panel OLED. Dua smartphone LG lainnya yang mendapat '\n",
      "            'penghargaan yang sama yaitu LG V50 ThinQ yang mendukung '\n",
      "            'pengoperasian dalam jaringan 5G dan LG G8 ThinQ.\\n'\n",
      "            '\\n'\n",
      "            'Daftar lengkap produk LG yang meraih penghargaan CES 2020 '\n",
      "            'Innovation Awards akan diumumkan pada kegiatan paparan kepada '\n",
      "            'media yang akan berlangsung pada 6 Januari mendatang bersamaan '\n",
      "            'dengan dimulainya eksibisi Consumer Electronics Show atau CES '\n",
      "            '2020.\\n'\n",
      "            '\\n',\n",
      " 'description': '',\n",
      " 'img': 'https://statik.tempo.co/data/2019/04/11/id_833520/833520_720.jpg',\n",
      " 'publishedAt': '10-11-2019',\n",
      " 'source': 'tempo.co',\n",
      " 'subCategory': 'tekno',\n",
      " 'title': 'LG Sabet Penghargaan 2020 CES Innovation Awards',\n",
      " 'url': 'https://tekno.tempo.co/read/1270342/lg-sabet-penghargaan-2020-ces-innovation-awards'}\n"
     ]
    }
   ],
   "source": [
    "pprint(temp)"
   ]
  },
  {
   "cell_type": "code",
   "execution_count": null,
   "metadata": {},
   "outputs": [],
   "source": []
  },
  {
   "cell_type": "markdown",
   "metadata": {},
   "source": [
    "# Preprocessing"
   ]
  },
  {
   "cell_type": "code",
   "execution_count": 14,
   "metadata": {},
   "outputs": [],
   "source": [
    "import spacy\n",
    "from spacy import displacy"
   ]
  },
  {
   "cell_type": "code",
   "execution_count": 15,
   "metadata": {},
   "outputs": [],
   "source": [
    "nlp = id_aldo.load()"
   ]
  },
  {
   "cell_type": "code",
   "execution_count": 16,
   "metadata": {},
   "outputs": [],
   "source": [
    "def formatArticle(text=None):\n",
    "    doc = nlp(text)\n",
    "    count = 0\n",
    "    for ent in doc.ents:\n",
    "        if ent.end <= 5:\n",
    "            count = ent.end_char + 1\n",
    "        else:\n",
    "            count = len(text)\n",
    "\n",
    "    result = text[count:].strip()\n",
    "\n",
    "    return result"
   ]
  },
  {
   "cell_type": "code",
   "execution_count": null,
   "metadata": {},
   "outputs": [],
   "source": []
  },
  {
   "cell_type": "markdown",
   "metadata": {},
   "source": [
    "### Delete Format Publisher"
   ]
  },
  {
   "cell_type": "code",
   "execution_count": 17,
   "metadata": {},
   "outputs": [],
   "source": [
    "doc = nlp(temp['content'])"
   ]
  },
  {
   "cell_type": "code",
   "execution_count": 18,
   "metadata": {
    "scrolled": true
   },
   "outputs": [
    {
     "data": {
      "text/html": [
       "<div class=\"entities\" style=\"line-height: 2.5\">\n",
       "<mark class=\"entity\" style=\"background: #ddd; padding: 0.45em 0.6em; margin: 0 0.25em; line-height: 1; border-radius: 0.35em; box-decoration-break: clone; -webkit-box-decoration-break: clone\">\n",
       "    TEMPO.CO\n",
       "    <span style=\"font-size: 0.8em; font-weight: bold; line-height: 1; border-radius: 0.35em; text-transform: uppercase; vertical-align: middle; margin-left: 0.5rem\">PUBLISHER</span>\n",
       "</mark>\n",
       "\n",
       "<mark class=\"entity\" style=\"background: #ddd; padding: 0.45em 0.6em; margin: 0 0.25em; line-height: 1; border-radius: 0.35em; box-decoration-break: clone; -webkit-box-decoration-break: clone\">\n",
       "    ,\n",
       "    <span style=\"font-size: 0.8em; font-weight: bold; line-height: 1; border-radius: 0.35em; text-transform: uppercase; vertical-align: middle; margin-left: 0.5rem\">PUNCT</span>\n",
       "</mark>\n",
       " \n",
       "<mark class=\"entity\" style=\"background: #ddd; padding: 0.45em 0.6em; margin: 0 0.25em; line-height: 1; border-radius: 0.35em; box-decoration-break: clone; -webkit-box-decoration-break: clone\">\n",
       "    Jakarta\n",
       "    <span style=\"font-size: 0.8em; font-weight: bold; line-height: 1; border-radius: 0.35em; text-transform: uppercase; vertical-align: middle; margin-left: 0.5rem\">LOCATION</span>\n",
       "</mark>\n",
       " \n",
       "<mark class=\"entity\" style=\"background: #ddd; padding: 0.45em 0.6em; margin: 0 0.25em; line-height: 1; border-radius: 0.35em; box-decoration-break: clone; -webkit-box-decoration-break: clone\">\n",
       "    -\n",
       "    <span style=\"font-size: 0.8em; font-weight: bold; line-height: 1; border-radius: 0.35em; text-transform: uppercase; vertical-align: middle; margin-left: 0.5rem\">PUNCT</span>\n",
       "</mark>\n",
       " Inovasi LG Electronics (LG) mendapatkan penghargaan 2020 CES Innovation Awards, yaitu TV OLED LG sebagai pemenang Best of Innovation Award. Raihan ini sekaligus mencatatkan kesuksesan LG dalam menyabet penghargaan yang sama sepanjang delapan tahun berturut-turut.\n",
       "\n",
       "CES Innovation Awards merupakan ajang kompetisi global tahunan yang memberikan apresiasi pada produk teknologi bagi konsumer atas desain dan inovasi teknologi yang dibawanya. Terdapat 28 kategori yang dipertandingkan dengan panel penilai berasal dari jajaran ahli, media, desainer dan lainnya.\n",
       "\n",
       "Dihelat oleh Consumer Technology Association yang menjadi standar dan merepresentasikan lebih dari 2.200 perusahaan produk teknologi bagi consumer, ajang ini menjelma menjadi kompetisi paling bergengsi yang menyajikan berbagai inovasi terkini dalam industri elektronik consumer.\n",
       "\n",
       "Penghargaan Best of Innovation Award bagi TV OLED LG diberikan dari kategori penampil video. Pencapaian ini memperpanjang pengakuan terhadap keunggulan teknologi TV OLED LG dengan meraih penghargaan ini tiga kali sepanjang lima tahun terakhir.\n",
       "\n",
       "Pada kategori produk elektronik hiburan dalam rumah, catatan utama keberhasilan LG meraih penghargaan 2020 CES Innovation Awards berasal dari pengembangan generasi terbaru TV OLED LG dengan ATSC 3.0.\n",
       "\n",
       "TV OLED LG yang dikatakan akan membuka era bagi TV generasi selanjutnya ini akan diperkenalkan resmi pada gelaran Consumer Electronics Show 2020 pada bulan Januari nanti. Pada gelaran tersebut pula, LG akan mengumumkan lengkap produknya dari kategori perangkat elektronik hiburan dalam rumah yang turut menerima penghargaan.\n",
       "\n",
       "Dari jajaran kategori produk elektronik rumah tangga, penghargaan 2020 CES Innovation Award salah satunya diterima LG berkat inovasinya pada kulkas LG InstaView Door-in-Door yang tercatat sebagai yang pertama di dunia dengan keberadaan fitur Craft Ice.\n",
       "\n",
       "Penghargaan yang diterima tahun ini juga akan menjadi yang kedua kalinya bagi LG Styler dan perangkat air purifier portabel LG PuriCare Mini yang juga akan diperkenalkan resmi pada gelaran Consumer Electronics Show di tahun depan.\n",
       "\n",
       "Di bagian lain, setidaknya tiga smartphone LG pun berhasil menyabet penghargaan CES Inno-vation Award, termasuk di dalamnya yaitu LG G8X ThinQ yang dikenal dengan fitur Du-alScreen yang memanfaatkan panel OLED. Dua smartphone LG lainnya yang mendapat penghargaan yang sama yaitu LG V50 ThinQ yang mendukung pengoperasian dalam jaringan 5G dan LG G8 ThinQ.\n",
       "\n",
       "Daftar lengkap produk LG yang meraih penghargaan CES 2020 Innovation Awards akan diumumkan pada kegiatan paparan kepada media yang akan berlangsung pada 6 Januari mendatang bersamaan dengan dimulainya eksibisi Consumer Electronics Show atau CES 2020.\n",
       "\n",
       "</div>"
      ],
      "text/plain": [
       "<IPython.core.display.HTML object>"
      ]
     },
     "metadata": {},
     "output_type": "display_data"
    }
   ],
   "source": [
    "displacy.render(doc, jupyter=True, style='ent')"
   ]
  },
  {
   "cell_type": "code",
   "execution_count": null,
   "metadata": {},
   "outputs": [],
   "source": []
  },
  {
   "cell_type": "markdown",
   "metadata": {},
   "source": [
    "### Result"
   ]
  },
  {
   "cell_type": "code",
   "execution_count": 19,
   "metadata": {
    "scrolled": true
   },
   "outputs": [
    {
     "name": "stdout",
     "output_type": "stream",
     "text": [
      "Inovasi LG Electronics (LG) mendapatkan penghargaan 2020 CES Innovation Awards, yaitu TV OLED LG sebagai pemenang Best of Innovation Award. Raihan ini sekaligus mencatatkan kesuksesan LG dalam menyabet penghargaan yang sama sepanjang delapan tahun berturut-turut.\n",
      "\n",
      "CES Innovation Awards merupakan ajang kompetisi global tahunan yang memberikan apresiasi pada produk teknologi bagi konsumer atas desain dan inovasi teknologi yang dibawanya. Terdapat 28 kategori yang dipertandingkan dengan panel penilai berasal dari jajaran ahli, media, desainer dan lainnya.\n",
      "\n",
      "Dihelat oleh Consumer Technology Association yang menjadi standar dan merepresentasikan lebih dari 2.200 perusahaan produk teknologi bagi consumer, ajang ini menjelma menjadi kompetisi paling bergengsi yang menyajikan berbagai inovasi terkini dalam industri elektronik consumer.\n",
      "\n",
      "Penghargaan Best of Innovation Award bagi TV OLED LG diberikan dari kategori penampil video. Pencapaian ini memperpanjang pengakuan terhadap keunggulan teknologi TV OLED LG dengan meraih penghargaan ini tiga kali sepanjang lima tahun terakhir.\n",
      "\n",
      "Pada kategori produk elektronik hiburan dalam rumah, catatan utama keberhasilan LG meraih penghargaan 2020 CES Innovation Awards berasal dari pengembangan generasi terbaru TV OLED LG dengan ATSC 3.0.\n",
      "\n",
      "TV OLED LG yang dikatakan akan membuka era bagi TV generasi selanjutnya ini akan diperkenalkan resmi pada gelaran Consumer Electronics Show 2020 pada bulan Januari nanti. Pada gelaran tersebut pula, LG akan mengumumkan lengkap produknya dari kategori perangkat elektronik hiburan dalam rumah yang turut menerima penghargaan.\n",
      "\n",
      "Dari jajaran kategori produk elektronik rumah tangga, penghargaan 2020 CES Innovation Award salah satunya diterima LG berkat inovasinya pada kulkas LG InstaView Door-in-Door yang tercatat sebagai yang pertama di dunia dengan keberadaan fitur Craft Ice.\n",
      "\n",
      "Penghargaan yang diterima tahun ini juga akan menjadi yang kedua kalinya bagi LG Styler dan perangkat air purifier portabel LG PuriCare Mini yang juga akan diperkenalkan resmi pada gelaran Consumer Electronics Show di tahun depan.\n",
      "\n",
      "Di bagian lain, setidaknya tiga smartphone LG pun berhasil menyabet penghargaan CES Inno-vation Award, termasuk di dalamnya yaitu LG G8X ThinQ yang dikenal dengan fitur Du-alScreen yang memanfaatkan panel OLED. Dua smartphone LG lainnya yang mendapat penghargaan yang sama yaitu LG V50 ThinQ yang mendukung pengoperasian dalam jaringan 5G dan LG G8 ThinQ.\n",
      "\n",
      "Daftar lengkap produk LG yang meraih penghargaan CES 2020 Innovation Awards akan diumumkan pada kegiatan paparan kepada media yang akan berlangsung pada 6 Januari mendatang bersamaan dengan dimulainya eksibisi Consumer Electronics Show atau CES 2020.\n"
     ]
    }
   ],
   "source": [
    "result = formatArticle(temp['content'])\n",
    "print(result)"
   ]
  },
  {
   "cell_type": "code",
   "execution_count": null,
   "metadata": {},
   "outputs": [],
   "source": []
  },
  {
   "cell_type": "markdown",
   "metadata": {},
   "source": [
    "## Preprocessing\n",
    "### Case Folding "
   ]
  },
  {
   "cell_type": "code",
   "execution_count": 40,
   "metadata": {
    "scrolled": true
   },
   "outputs": [
    {
     "name": "stdout",
     "output_type": "stream",
     "text": [
      "inovasi lg electronics lg mendapatkan penghargaan number ces innovation awards yaitu tv oled lg sebagai pemenang best of innovation award raihan ini sekaligus mencatatkan kesuksesan lg dalam menyabet penghargaan yang sama sepanjang delapan tahun berturut turut ces innovation awards merupakan ajang kompetisi global tahunan yang memberikan apresiasi pada produk teknologi bagi konsumer atas desain dan inovasi teknologi yang dibawanya terdapat number kategori yang dipertandingkan dengan panel penilai berasal dari jajaran ahli media desainer dan lainnya dihelat oleh consumer technology association yang menjadi standar dan merepresentasikan lebih dari number perusahaan produk teknologi bagi consumer ajang ini menjelma menjadi kompetisi paling bergengsi yang menyajikan berbagai inovasi terkini dalam industri elektronik consumer penghargaan best of innovation award bagi tv oled lg diberikan dari kategori penampil video pencapaian ini memperpanjang pengakuan terhadap keunggulan teknologi tv oled lg dengan meraih penghargaan ini tiga kali sepanjang lima tahun terakhir pada kategori produk elektronik hiburan dalam rumah catatan utama keberhasilan lg meraih penghargaan number ces innovation awards berasal dari pengembangan generasi terbaru tv oled lg dengan atsc number tv oled lg yang dikatakan akan membuka era bagi tv generasi selanjutnya ini akan diperkenalkan resmi pada gelaran consumer electronics show number pada bulan januari nanti pada gelaran tersebut pula lg akan mengumumkan lengkap produknya dari kategori perangkat elektronik hiburan dalam rumah yang turut menerima penghargaan dari jajaran kategori produk elektronik rumah tangga penghargaan number ces innovation award salah satunya diterima lg berkat inovasinya pada kulkas lg instaview door in door yang tercatat sebagai yang pertama di dunia dengan keberadaan fitur craft ice penghargaan yang diterima tahun ini juga akan menjadi yang kedua kalinya bagi lg styler dan perangkat air purifier portabel lg puricare mini yang juga akan diperkenalkan resmi pada gelaran consumer electronics show di tahun depan di bagian lain setidaknya tiga smartphone lg pun berhasil menyabet penghargaan ces inno vation award termasuk di dalamnya yaitu lg g8x thinq yang dikenal dengan fitur du alscreen yang memanfaatkan panel oled dua smartphone lg lainnya yang mendapat penghargaan yang sama yaitu lg v50 thinq yang mendukung pengoperasian dalam jaringan 5g dan lg g8 thinq daftar lengkap produk lg yang meraih penghargaan ces number innovation awards akan diumumkan pada kegiatan paparan kepada media yang akan berlangsung pada number januari mendatang bersamaan dengan dimulainya eksibisi consumer electronics show atau ces number\n"
     ]
    }
   ],
   "source": [
    "lowerCase = preprocess_text(result,\n",
    "                            fix_unicode=True, \n",
    "                            lowercase=True, \n",
    "                            no_urls=True,\n",
    "                            no_emails=True,\n",
    "                            no_phone_numbers=True,\n",
    "                            no_numbers=True,\n",
    "                            no_currency_symbols=True,\n",
    "                            no_punct=True)\n",
    "print(lowerCase)"
   ]
  },
  {
   "cell_type": "code",
   "execution_count": null,
   "metadata": {},
   "outputs": [],
   "source": []
  },
  {
   "cell_type": "markdown",
   "metadata": {},
   "source": [
    "## Preprocessing\n",
    "### Tokenization "
   ]
  },
  {
   "cell_type": "code",
   "execution_count": 43,
   "metadata": {
    "scrolled": true
   },
   "outputs": [
    {
     "name": "stdout",
     "output_type": "stream",
     "text": [
      "['inovasi', 'lg', 'electronics', 'lg', 'mendapatkan', 'penghargaan', 'number', 'ces', 'innovation', 'awards', 'yaitu', 'tv', 'oled', 'lg', 'sebagai', 'pemenang', 'best', 'of', 'innovation', 'award', 'raihan', 'ini', 'sekaligus', 'mencatatkan', 'kesuksesan', 'lg', 'dalam', 'menyabet', 'penghargaan', 'yang', 'sama', 'sepanjang', 'delapan', 'tahun', 'berturut', 'turut', 'ces', 'innovation', 'awards', 'merupakan', 'ajang', 'kompetisi', 'global', 'tahunan', 'yang', 'memberikan', 'apresiasi', 'pada', 'produk', 'teknologi', 'bagi', 'konsumer', 'atas', 'desain', 'dan', 'inovasi', 'teknologi', 'yang', 'dibawanya', 'terdapat', 'number', 'kategori', 'yang', 'dipertandingkan', 'dengan', 'panel', 'penilai', 'berasal', 'dari', 'jajaran', 'ahli', 'media', 'desainer', 'dan', 'lainnya', 'dihelat', 'oleh', 'consumer', 'technology', 'association', 'yang', 'menjadi', 'standar', 'dan', 'merepresentasikan', 'lebih', 'dari', 'number', 'perusahaan', 'produk', 'teknologi', 'bagi', 'consumer', 'ajang', 'ini', 'menjelma', 'menjadi', 'kompetisi', 'paling', 'bergengsi', 'yang', 'menyajikan', 'berbagai', 'inovasi', 'terkini', 'dalam', 'industri', 'elektronik', 'consumer', 'penghargaan', 'best', 'of', 'innovation', 'award', 'bagi', 'tv', 'oled', 'lg', 'diberikan', 'dari', 'kategori', 'penampil', 'video', 'pencapaian', 'ini', 'memperpanjang', 'pengakuan', 'terhadap', 'keunggulan', 'teknologi', 'tv', 'oled', 'lg', 'dengan', 'meraih', 'penghargaan', 'ini', 'tiga', 'kali', 'sepanjang', 'lima', 'tahun', 'terakhir', 'pada', 'kategori', 'produk', 'elektronik', 'hiburan', 'dalam', 'rumah', 'catatan', 'utama', 'keberhasilan', 'lg', 'meraih', 'penghargaan', 'number', 'ces', 'innovation', 'awards', 'berasal', 'dari', 'pengembangan', 'generasi', 'terbaru', 'tv', 'oled', 'lg', 'dengan', 'atsc', 'number', 'tv', 'oled', 'lg', 'yang', 'dikatakan', 'akan', 'membuka', 'era', 'bagi', 'tv', 'generasi', 'selanjutnya', 'ini', 'akan', 'diperkenalkan', 'resmi', 'pada', 'gelaran', 'consumer', 'electronics', 'show', 'number', 'pada', 'bulan', 'januari', 'nanti', 'pada', 'gelaran', 'tersebut', 'pula', 'lg', 'akan', 'mengumumkan', 'lengkap', 'produknya', 'dari', 'kategori', 'perangkat', 'elektronik', 'hiburan', 'dalam', 'rumah', 'yang', 'turut', 'menerima', 'penghargaan', 'dari', 'jajaran', 'kategori', 'produk', 'elektronik', 'rumah', 'tangga', 'penghargaan', 'number', 'ces', 'innovation', 'award', 'salah', 'satunya', 'diterima', 'lg', 'berkat', 'inovasinya', 'pada', 'kulkas', 'lg', 'instaview', 'door', 'in', 'door', 'yang', 'tercatat', 'sebagai', 'yang', 'pertama', 'di', 'dunia', 'dengan', 'keberadaan', 'fitur', 'craft', 'ice', 'penghargaan', 'yang', 'diterima', 'tahun', 'ini', 'juga', 'akan', 'menjadi', 'yang', 'kedua', 'kalinya', 'bagi', 'lg', 'styler', 'dan', 'perangkat', 'air', 'purifier', 'portabel', 'lg', 'puricare', 'mini', 'yang', 'juga', 'akan', 'diperkenalkan', 'resmi', 'pada', 'gelaran', 'consumer', 'electronics', 'show', 'di', 'tahun', 'depan', 'di', 'bagian', 'lain', 'setidaknya', 'tiga', 'smartphone', 'lg', 'pun', 'berhasil', 'menyabet', 'penghargaan', 'ces', 'inno', 'vation', 'award', 'termasuk', 'di', 'dalamnya', 'yaitu', 'lg', 'g8x', 'thinq', 'yang', 'dikenal', 'dengan', 'fitur', 'du', 'alscreen', 'yang', 'memanfaatkan', 'panel', 'oled', 'dua', 'smartphone', 'lg', 'lainnya', 'yang', 'mendapat', 'penghargaan', 'yang', 'sama', 'yaitu', 'lg', 'v50', 'thinq', 'yang', 'mendukung', 'pengoperasian', 'dalam', 'jaringan', '5g', 'dan', 'lg', 'g8', 'thinq', 'daftar', 'lengkap', 'produk', 'lg', 'yang', 'meraih', 'penghargaan', 'ces', 'number', 'innovation', 'awards', 'akan', 'diumumkan', 'pada', 'kegiatan', 'paparan', 'kepada', 'media', 'yang', 'akan', 'berlangsung', 'pada', 'number', 'januari', 'mendatang', 'bersamaan', 'dengan', 'dimulainya', 'eksibisi', 'consumer', 'electronics', 'show', 'atau', 'ces', 'number']\n"
     ]
    }
   ],
   "source": [
    "tokens = nltk.tokenize.word_tokenize(lowerCase)\n",
    "print(tokens)"
   ]
  },
  {
   "cell_type": "code",
   "execution_count": 42,
   "metadata": {
    "scrolled": true
   },
   "outputs": [
    {
     "name": "stdout",
     "output_type": "stream",
     "text": [
      "[('lg', 20), ('yang', 20), ('penghargaan', 11), ('number', 10), ('pada', 9), ('ces', 7), ('innovation', 7), ('akan', 7), ('tv', 6), ('oled', 6), ('ini', 6), ('dengan', 6), ('dari', 6), ('consumer', 6), ('dalam', 5), ('produk', 5), ('bagi', 5), ('dan', 5), ('kategori', 5), ('electronics', 4), ('awards', 4), ('award', 4), ('tahun', 4), ('teknologi', 4), ('elektronik', 4), ('di', 4), ('inovasi', 3), ('yaitu', 3), ('menjadi', 3), ('meraih', 3), ('rumah', 3), ('gelaran', 3), ('show', 3), ('thinq', 3), ('sebagai', 2), ('best', 2), ('of', 2), ('menyabet', 2), ('sama', 2), ('sepanjang', 2), ('turut', 2), ('ajang', 2), ('kompetisi', 2), ('panel', 2), ('berasal', 2), ('jajaran', 2), ('media', 2), ('lainnya', 2), ('tiga', 2), ('hiburan', 2), ('generasi', 2), ('diperkenalkan', 2), ('resmi', 2), ('januari', 2), ('lengkap', 2), ('perangkat', 2), ('diterima', 2), ('door', 2), ('fitur', 2), ('juga', 2), ('smartphone', 2), ('mendapatkan', 1), ('pemenang', 1), ('raihan', 1), ('sekaligus', 1), ('mencatatkan', 1), ('kesuksesan', 1), ('delapan', 1), ('berturut', 1), ('merupakan', 1), ('global', 1), ('tahunan', 1), ('memberikan', 1), ('apresiasi', 1), ('konsumer', 1), ('atas', 1), ('desain', 1), ('dibawanya', 1), ('terdapat', 1), ('dipertandingkan', 1), ('penilai', 1), ('ahli', 1), ('desainer', 1), ('dihelat', 1), ('oleh', 1), ('technology', 1), ('association', 1), ('standar', 1), ('merepresentasikan', 1), ('lebih', 1), ('perusahaan', 1), ('menjelma', 1), ('paling', 1), ('bergengsi', 1), ('menyajikan', 1), ('berbagai', 1), ('terkini', 1), ('industri', 1), ('diberikan', 1), ('penampil', 1), ('video', 1), ('pencapaian', 1), ('memperpanjang', 1), ('pengakuan', 1), ('terhadap', 1), ('keunggulan', 1), ('kali', 1), ('lima', 1), ('terakhir', 1), ('catatan', 1), ('utama', 1), ('keberhasilan', 1), ('pengembangan', 1), ('terbaru', 1), ('atsc', 1), ('dikatakan', 1), ('membuka', 1), ('era', 1), ('selanjutnya', 1), ('bulan', 1), ('nanti', 1), ('tersebut', 1), ('pula', 1), ('mengumumkan', 1), ('produknya', 1), ('menerima', 1), ('tangga', 1), ('salah', 1), ('satunya', 1), ('berkat', 1), ('inovasinya', 1), ('kulkas', 1), ('instaview', 1), ('in', 1), ('tercatat', 1), ('pertama', 1), ('dunia', 1), ('keberadaan', 1), ('craft', 1), ('ice', 1), ('kedua', 1), ('kalinya', 1), ('styler', 1), ('air', 1), ('purifier', 1), ('portabel', 1), ('puricare', 1), ('mini', 1), ('depan', 1), ('bagian', 1), ('lain', 1), ('setidaknya', 1), ('pun', 1), ('berhasil', 1), ('inno', 1), ('vation', 1), ('termasuk', 1), ('dalamnya', 1), ('g8x', 1), ('dikenal', 1), ('du', 1), ('alscreen', 1), ('memanfaatkan', 1), ('dua', 1), ('mendapat', 1), ('v50', 1), ('mendukung', 1), ('pengoperasian', 1), ('jaringan', 1), ('5g', 1), ('g8', 1), ('daftar', 1), ('diumumkan', 1), ('kegiatan', 1), ('paparan', 1), ('kepada', 1), ('berlangsung', 1), ('mendatang', 1), ('bersamaan', 1), ('dimulainya', 1), ('eksibisi', 1), ('atau', 1)]\n"
     ]
    }
   ],
   "source": [
    "kemunculan = nltk.FreqDist(tokens)\n",
    "print(kemunculan.most_common())"
   ]
  },
  {
   "cell_type": "code",
   "execution_count": 46,
   "metadata": {},
   "outputs": [
    {
     "data": {
      "image/png": "[encoded data removed]",
      "text/plain": [
       "<Figure size 432x288 with 1 Axes>"
      ]
     },
     "metadata": {
      "needs_background": "light"
     },
     "output_type": "display_data"
    }
   ],
   "source": [
    "import matplotlib.pyplot as plt\n",
    "kemunculan.plot(20,cumulative=False)\n",
    "plt.show()"
   ]
  },
  {
   "cell_type": "markdown",
   "metadata": {},
   "source": [
    "## Preprocessing\n",
    "### Filtering (Stopword Removal)"
   ]
  },
  {
   "cell_type": "code",
   "execution_count": 47,
   "metadata": {},
   "outputs": [],
   "source": [
    "stopwords = requests.get(\"https://raw.githubusercontent.com/masdevid/ID-Stopwords/master/id.stopwords.02.01.2016.txt\").text.split(\"\\n\")"
   ]
  },
  {
   "cell_type": "code",
   "execution_count": 69,
   "metadata": {},
   "outputs": [],
   "source": [
    "text_stopword = []\n",
    "words = lowerCase.split()\n",
    "for word in words:\n",
    "    if word not in stopwords: text_stopword.append(word)"
   ]
  },
  {
   "cell_type": "code",
   "execution_count": 72,
   "metadata": {},
   "outputs": [],
   "source": [
    "resultFiltering = ' '.join(text_stopword)"
   ]
  },
  {
   "cell_type": "markdown",
   "metadata": {},
   "source": [
    "### Result"
   ]
  },
  {
   "cell_type": "code",
   "execution_count": 73,
   "metadata": {
    "scrolled": true
   },
   "outputs": [
    {
     "name": "stdout",
     "output_type": "stream",
     "text": [
      "inovasi lg electronics lg penghargaan number ces innovation awards tv oled lg pemenang best of innovation award raihan mencatatkan kesuksesan lg menyabet penghargaan delapan ces innovation awards ajang kompetisi global tahunan apresiasi produk teknologi konsumer desain inovasi teknologi dibawanya number kategori dipertandingkan panel penilai berasal jajaran ahli media desainer dihelat consumer technology association standar merepresentasikan number perusahaan produk teknologi consumer ajang menjelma kompetisi bergengsi menyajikan inovasi terkini industri elektronik consumer penghargaan best of innovation award tv oled lg kategori penampil video pencapaian memperpanjang pengakuan keunggulan teknologi tv oled lg meraih penghargaan kali kategori produk elektronik hiburan rumah catatan utama keberhasilan lg meraih penghargaan number ces innovation awards berasal pengembangan generasi terbaru tv oled lg atsc number tv oled lg membuka era tv generasi diperkenalkan resmi gelaran consumer electronics show number januari gelaran lg mengumumkan lengkap produknya kategori perangkat elektronik hiburan rumah menerima penghargaan jajaran kategori produk elektronik rumah tangga penghargaan number ces innovation award salah satunya diterima lg berkat inovasinya kulkas lg instaview door in door tercatat dunia keberadaan fitur craft ice penghargaan diterima kalinya lg styler perangkat air purifier portabel lg puricare mini diperkenalkan resmi gelaran consumer electronics show smartphone lg berhasil menyabet penghargaan ces inno vation award dalamnya lg g8x thinq dikenal fitur du alscreen memanfaatkan panel oled smartphone lg penghargaan lg v50 thinq mendukung pengoperasian jaringan 5g lg g8 thinq daftar lengkap produk lg meraih penghargaan ces number innovation awards diumumkan kegiatan paparan media number januari bersamaan eksibisi consumer electronics show ces number\n"
     ]
    }
   ],
   "source": [
    "print(resultFiltering)"
   ]
  },
  {
   "cell_type": "code",
   "execution_count": null,
   "metadata": {},
   "outputs": [],
   "source": []
  },
  {
   "cell_type": "markdown",
   "metadata": {},
   "source": [
    "### Comparing"
   ]
  },
  {
   "cell_type": "code",
   "execution_count": 74,
   "metadata": {},
   "outputs": [
    {
     "name": "stdout",
     "output_type": "stream",
     "text": [
      "Sebelum Filtering \n",
      "==========================\n",
      "\n",
      "inovasi lg electronics lg mendapatkan penghargaan number ces innovation awards yaitu tv oled lg sebagai pemenang best of innovation award raihan ini sekaligus mencatatkan kesuksesan lg dalam menyabet penghargaan yang sama sepanjang delapan tahun berturut turut ces innovation awards merupakan ajang kompetisi global tahunan yang memberikan apresiasi pada produk teknologi bagi konsumer atas desain dan inovasi teknologi yang dibawanya terdapat number kategori yang dipertandingkan dengan panel penilai berasal dari jajaran ahli media desainer dan lainnya dihelat oleh consumer technology association yang menjadi standar dan merepresentasikan lebih dari number perusahaan produk teknologi bagi consumer ajang ini menjelma menjadi kompetisi paling bergengsi yang menyajikan berbagai inovasi terkini dalam industri elektronik consumer penghargaan best of innovation award bagi tv oled lg diberikan dari kategori penampil video pencapaian ini memperpanjang pengakuan terhadap keunggulan teknologi tv oled lg dengan meraih penghargaan ini tiga kali sepanjang lima tahun terakhir pada kategori produk elektronik hiburan dalam rumah catatan utama keberhasilan lg meraih penghargaan number ces innovation awards berasal dari pengembangan generasi terbaru tv oled lg dengan atsc number tv oled lg yang dikatakan akan membuka era bagi tv generasi selanjutnya ini akan diperkenalkan resmi pada gelaran consumer electronics show number pada bulan januari nanti pada gelaran tersebut pula lg akan mengumumkan lengkap produknya dari kategori perangkat elektronik hiburan dalam rumah yang turut menerima penghargaan dari jajaran kategori produk elektronik rumah tangga penghargaan number ces innovation award salah satunya diterima lg berkat inovasinya pada kulkas lg instaview door in door yang tercatat sebagai yang pertama di dunia dengan keberadaan fitur craft ice penghargaan yang diterima tahun ini juga akan menjadi yang kedua kalinya bagi lg styler dan perangkat air purifier portabel lg puricare mini yang juga akan diperkenalkan resmi pada gelaran consumer electronics show di tahun depan di bagian lain setidaknya tiga smartphone lg pun berhasil menyabet penghargaan ces inno vation award termasuk di dalamnya yaitu lg g8x thinq yang dikenal dengan fitur du alscreen yang memanfaatkan panel oled dua smartphone lg lainnya yang mendapat penghargaan yang sama yaitu lg v50 thinq yang mendukung pengoperasian dalam jaringan 5g dan lg g8 thinq daftar lengkap produk lg yang meraih penghargaan ces number innovation awards akan diumumkan pada kegiatan paparan kepada media yang akan berlangsung pada number januari mendatang bersamaan dengan dimulainya eksibisi consumer electronics show atau ces number\n",
      "\n",
      "Sesudah Filtering \n",
      "==========================\n",
      "\n",
      "inovasi lg electronics lg penghargaan number ces innovation awards tv oled lg pemenang best of innovation award raihan mencatatkan kesuksesan lg menyabet penghargaan delapan ces innovation awards ajang kompetisi global tahunan apresiasi produk teknologi konsumer desain inovasi teknologi dibawanya number kategori dipertandingkan panel penilai berasal jajaran ahli media desainer dihelat consumer technology association standar merepresentasikan number perusahaan produk teknologi consumer ajang menjelma kompetisi bergengsi menyajikan inovasi terkini industri elektronik consumer penghargaan best of innovation award tv oled lg kategori penampil video pencapaian memperpanjang pengakuan keunggulan teknologi tv oled lg meraih penghargaan kali kategori produk elektronik hiburan rumah catatan utama keberhasilan lg meraih penghargaan number ces innovation awards berasal pengembangan generasi terbaru tv oled lg atsc number tv oled lg membuka era tv generasi diperkenalkan resmi gelaran consumer electronics show number januari gelaran lg mengumumkan lengkap produknya kategori perangkat elektronik hiburan rumah menerima penghargaan jajaran kategori produk elektronik rumah tangga penghargaan number ces innovation award salah satunya diterima lg berkat inovasinya kulkas lg instaview door in door tercatat dunia keberadaan fitur craft ice penghargaan diterima kalinya lg styler perangkat air purifier portabel lg puricare mini diperkenalkan resmi gelaran consumer electronics show smartphone lg berhasil menyabet penghargaan ces inno vation award dalamnya lg g8x thinq dikenal fitur du alscreen memanfaatkan panel oled smartphone lg penghargaan lg v50 thinq mendukung pengoperasian jaringan 5g lg g8 thinq daftar lengkap produk lg meraih penghargaan ces number innovation awards diumumkan kegiatan paparan media number januari bersamaan eksibisi consumer electronics show ces number\n"
     ]
    }
   ],
   "source": [
    "print('Sebelum Filtering ')\n",
    "print('==========================\\n')\n",
    "print(lowerCase)\n",
    "print()\n",
    "\n",
    "print('Sesudah Filtering ')\n",
    "print('==========================\\n')\n",
    "print(resultFiltering)"
   ]
  },
  {
   "cell_type": "code",
   "execution_count": null,
   "metadata": {},
   "outputs": [],
   "source": []
  },
  {
   "cell_type": "markdown",
   "metadata": {},
   "source": [
    "## Preprocessing\n",
    "### Stemming"
   ]
  },
  {
   "cell_type": "code",
   "execution_count": 76,
   "metadata": {},
   "outputs": [],
   "source": [
    "# import StemmerFactory class\n",
    "from Sastrawi.Stemmer.StemmerFactory import StemmerFactory\n",
    "\n",
    "# create stemmer\n",
    "factory = StemmerFactory()\n",
    "stemmer = factory.create_stemmer()"
   ]
  },
  {
   "cell_type": "code",
   "execution_count": 77,
   "metadata": {},
   "outputs": [
    {
     "name": "stdout",
     "output_type": "stream",
     "text": [
      "inovasi lg electronics lg harga number ces innovation awards tv oled lg menang best of innovation award raih catat sukses lg sabet harga delapan ces innovation awards ajang kompetisi global tahun apresiasi produk teknologi konsumer desain inovasi teknologi bawa number kategori tanding panel nilai asal jajar ahli media desainer helat consumer technology association standar representasi number usaha produk teknologi consumer ajang jelma kompetisi gengsi saji inovasi kini industri elektronik consumer harga best of innovation award tv oled lg kategori tampil video capai panjang aku unggul teknologi tv oled lg raih harga kali kategori produk elektronik hibur rumah catat utama hasil lg raih harga number ces innovation awards asal kembang generasi baru tv oled lg atsc number tv oled lg buka era tv generasi kenal resmi gelar consumer electronics show number januari gelar lg umum lengkap produk kategori perangkat elektronik hibur rumah terima harga jajar kategori produk elektronik rumah tangga harga number ces innovation award salah satu terima lg berkat inovasi kulkas lg instaview door in door catat dunia ada fitur craft ice harga terima kali lg styler perangkat air purifier portabel lg puricare mini kenal resmi gelar consumer electronics show smartphone lg hasil sabet harga ces inno vation award dalam lg g8x thinq kenal fitur du alscreen manfaat panel oled smartphone lg harga lg v50 thinq dukung operasi jaring 5g lg g8 thinq daftar lengkap produk lg raih harga ces number innovation awards umum giat papar media number januari sama eksibisi consumer electronics show ces number\n"
     ]
    }
   ],
   "source": [
    "# stemming process\n",
    "output   = stemmer.stem(resultFiltering)\n",
    "\n",
    "print(output)"
   ]
  },
  {
   "cell_type": "code",
   "execution_count": null,
   "metadata": {},
   "outputs": [],
   "source": []
  },
  {
   "cell_type": "code",
   "execution_count": null,
   "metadata": {},
   "outputs": [],
   "source": []
  },
  {
   "cell_type": "code",
   "execution_count": null,
   "metadata": {},
   "outputs": [],
   "source": []
  },
  {
   "cell_type": "code",
   "execution_count": null,
   "metadata": {},
   "outputs": [],
   "source": []
  },
  {
   "cell_type": "code",
   "execution_count": null,
   "metadata": {},
   "outputs": [],
   "source": []
  },
  {
   "cell_type": "code",
   "execution_count": null,
   "metadata": {},
   "outputs": [],
   "source": []
  },
  {
   "cell_type": "code",
   "execution_count": null,
   "metadata": {},
   "outputs": [],
   "source": []
  },
  {
   "cell_type": "code",
   "execution_count": null,
   "metadata": {},
   "outputs": [],
   "source": []
  },
  {
   "cell_type": "code",
   "execution_count": null,
   "metadata": {},
   "outputs": [],
   "source": []
  },
  {
   "cell_type": "code",
   "execution_count": null,
   "metadata": {},
   "outputs": [],
   "source": []
  },
  {
   "cell_type": "code",
   "execution_count": null,
   "metadata": {},
   "outputs": [],
   "source": []
  },
  {
   "cell_type": "code",
   "execution_count": null,
   "metadata": {},
   "outputs": [],
   "source": []
  }
 ],
 "metadata": {
  "kernelspec": {
   "display_name": "Python 3",
   "language": "python",
   "name": "python3"
  },
  "language_info": {
   "codemirror_mode": {
    "name": "ipython",
    "version": 3
   },
   "file_extension": ".py",
   "mimetype": "text/x-python",
   "name": "python",
   "nbconvert_exporter": "python",
   "pygments_lexer": "ipython3",
   "version": "3.6.6+"
  }
 },
 "nbformat": 4,
 "nbformat_minor": 2
}
